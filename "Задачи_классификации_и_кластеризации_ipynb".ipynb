{
  "nbformat": 4,
  "nbformat_minor": 0,
  "metadata": {
    "colab": {
      "provenance": [],
      "include_colab_link": true
    },
    "kernelspec": {
      "display_name": "Python 3",
      "language": "python",
      "name": "python3"
    },
    "language_info": {
      "codemirror_mode": {
        "name": "ipython",
        "version": 3
      },
      "file_extension": ".py",
      "mimetype": "text/x-python",
      "name": "python",
      "nbconvert_exporter": "python",
      "pygments_lexer": "ipython3",
      "version": "3.8.3"
    }
  },
  "cells": [
    {
      "cell_type": "markdown",
      "metadata": {
        "id": "view-in-github",
        "colab_type": "text"
      },
      "source": [
        "<a href=\"https://colab.research.google.com/github/svetaepc/ds_py/blob/master/%22%D0%97%D0%B0%D0%B4%D0%B0%D1%87%D0%B8_%D0%BA%D0%BB%D0%B0%D1%81%D1%81%D0%B8%D1%84%D0%B8%D0%BA%D0%B0%D1%86%D0%B8%D0%B8_%D0%B8_%D0%BA%D0%BB%D0%B0%D1%81%D1%82%D0%B5%D1%80%D0%B8%D0%B7%D0%B0%D1%86%D0%B8%D0%B8_ipynb%22.ipynb\" target=\"_parent\"><img src=\"https://colab.research.google.com/assets/colab-badge.svg\" alt=\"Open In Colab\"/></a>"
      ]
    },
    {
      "cell_type": "markdown",
      "metadata": {
        "id": "nXOA4pGqoi7p"
      },
      "source": [
        "# Задачи классификации и кластеризации\n",
        "\n",
        "Потапов Вячеслав:  \n"
      ]
    },
    {
      "cell_type": "code",
      "metadata": {
        "id": "-ppToJrUWoJ0"
      },
      "source": [
        "from sklearn.datasets import load_wine\n",
        "import pandas as pd\n",
        "import numpy as np\n",
        "import matplotlib.pyplot as plt\n",
        "from matplotlib import colors"
      ],
      "execution_count": null,
      "outputs": []
    },
    {
      "cell_type": "code",
      "metadata": {
        "id": "ik4WLSx51KZY"
      },
      "source": [
        "cmap = colors.LinearSegmentedColormap(\n",
        "    'red_blue_classes',\n",
        "    {'red': [(0, 1, 1), (1, 0.7, 0.7)],\n",
        "     'green': [(0, 0.7, 0.7), (1, 0.7, 0.7)],\n",
        "     'blue': [(0, 0.7, 0.7), (1, 1, 1)]})\n",
        "plt.cm.register_cmap(cmap=cmap)"
      ],
      "execution_count": null,
      "outputs": []
    },
    {
      "cell_type": "code",
      "metadata": {
        "id": "cmLC9M6oW2v8"
      },
      "source": [
        "wine = load_wine()"
      ],
      "execution_count": null,
      "outputs": []
    },
    {
      "cell_type": "code",
      "metadata": {
        "id": "7eptbMYNvq0S",
        "colab": {
          "base_uri": "https://localhost:8080/"
        },
        "outputId": "17085946-3a0e-4dcd-e9b8-526f69f1eb1d"
      },
      "source": [
        "print(wine.DESCR)"
      ],
      "execution_count": null,
      "outputs": [
        {
          "output_type": "stream",
          "name": "stdout",
          "text": [
            ".. _wine_dataset:\n",
            "\n",
            "Wine recognition dataset\n",
            "------------------------\n",
            "\n",
            "**Data Set Characteristics:**\n",
            "\n",
            "    :Number of Instances: 178 (50 in each of three classes)\n",
            "    :Number of Attributes: 13 numeric, predictive attributes and the class\n",
            "    :Attribute Information:\n",
            " \t\t- Alcohol\n",
            " \t\t- Malic acid\n",
            " \t\t- Ash\n",
            "\t\t- Alcalinity of ash  \n",
            " \t\t- Magnesium\n",
            "\t\t- Total phenols\n",
            " \t\t- Flavanoids\n",
            " \t\t- Nonflavanoid phenols\n",
            " \t\t- Proanthocyanins\n",
            "\t\t- Color intensity\n",
            " \t\t- Hue\n",
            " \t\t- OD280/OD315 of diluted wines\n",
            " \t\t- Proline\n",
            "\n",
            "    - class:\n",
            "            - class_0\n",
            "            - class_1\n",
            "            - class_2\n",
            "\t\t\n",
            "    :Summary Statistics:\n",
            "    \n",
            "    ============================= ==== ===== ======= =====\n",
            "                                   Min   Max   Mean     SD\n",
            "    ============================= ==== ===== ======= =====\n",
            "    Alcohol:                      11.0  14.8    13.0   0.8\n",
            "    Malic Acid:                   0.74  5.80    2.34  1.12\n",
            "    Ash:                          1.36  3.23    2.36  0.27\n",
            "    Alcalinity of Ash:            10.6  30.0    19.5   3.3\n",
            "    Magnesium:                    70.0 162.0    99.7  14.3\n",
            "    Total Phenols:                0.98  3.88    2.29  0.63\n",
            "    Flavanoids:                   0.34  5.08    2.03  1.00\n",
            "    Nonflavanoid Phenols:         0.13  0.66    0.36  0.12\n",
            "    Proanthocyanins:              0.41  3.58    1.59  0.57\n",
            "    Colour Intensity:              1.3  13.0     5.1   2.3\n",
            "    Hue:                          0.48  1.71    0.96  0.23\n",
            "    OD280/OD315 of diluted wines: 1.27  4.00    2.61  0.71\n",
            "    Proline:                       278  1680     746   315\n",
            "    ============================= ==== ===== ======= =====\n",
            "\n",
            "    :Missing Attribute Values: None\n",
            "    :Class Distribution: class_0 (59), class_1 (71), class_2 (48)\n",
            "    :Creator: R.A. Fisher\n",
            "    :Donor: Michael Marshall (MARSHALL%PLU@io.arc.nasa.gov)\n",
            "    :Date: July, 1988\n",
            "\n",
            "This is a copy of UCI ML Wine recognition datasets.\n",
            "https://archive.ics.uci.edu/ml/machine-learning-databases/wine/wine.data\n",
            "\n",
            "The data is the results of a chemical analysis of wines grown in the same\n",
            "region in Italy by three different cultivators. There are thirteen different\n",
            "measurements taken for different constituents found in the three types of\n",
            "wine.\n",
            "\n",
            "Original Owners: \n",
            "\n",
            "Forina, M. et al, PARVUS - \n",
            "An Extendible Package for Data Exploration, Classification and Correlation. \n",
            "Institute of Pharmaceutical and Food Analysis and Technologies,\n",
            "Via Brigata Salerno, 16147 Genoa, Italy.\n",
            "\n",
            "Citation:\n",
            "\n",
            "Lichman, M. (2013). UCI Machine Learning Repository\n",
            "[https://archive.ics.uci.edu/ml]. Irvine, CA: University of California,\n",
            "School of Information and Computer Science. \n",
            "\n",
            ".. topic:: References\n",
            "\n",
            "  (1) S. Aeberhard, D. Coomans and O. de Vel, \n",
            "  Comparison of Classifiers in High Dimensional Settings, \n",
            "  Tech. Rep. no. 92-02, (1992), Dept. of Computer Science and Dept. of  \n",
            "  Mathematics and Statistics, James Cook University of North Queensland. \n",
            "  (Also submitted to Technometrics). \n",
            "\n",
            "  The data was used with many others for comparing various \n",
            "  classifiers. The classes are separable, though only RDA \n",
            "  has achieved 100% correct classification. \n",
            "  (RDA : 100%, QDA 99.4%, LDA 98.9%, 1NN 96.1% (z-transformed data)) \n",
            "  (All results using the leave-one-out technique) \n",
            "\n",
            "  (2) S. Aeberhard, D. Coomans and O. de Vel, \n",
            "  \"THE CLASSIFICATION PERFORMANCE OF RDA\" \n",
            "  Tech. Rep. no. 92-01, (1992), Dept. of Computer Science and Dept. of \n",
            "  Mathematics and Statistics, James Cook University of North Queensland. \n",
            "  (Also submitted to Journal of Chemometrics).\n",
            "\n"
          ]
        }
      ]
    },
    {
      "cell_type": "code",
      "metadata": {
        "id": "7rO21IhnvyIo"
      },
      "source": [
        "# загружаем данные в датафрейм\n",
        "data = pd.DataFrame(wine.data, columns=wine.feature_names)\n",
        "data_class = wine.target"
      ],
      "execution_count": null,
      "outputs": []
    },
    {
      "cell_type": "code",
      "metadata": {
        "id": "M92y_fa2wBjn",
        "colab": {
          "base_uri": "https://localhost:8080/",
          "height": 488
        },
        "outputId": "1f541a4a-8121-4dfb-8baa-3b0234cda7f2"
      },
      "source": [
        "data"
      ],
      "execution_count": null,
      "outputs": [
        {
          "output_type": "execute_result",
          "data": {
            "text/plain": [
              "     alcohol  malic_acid   ash  alcalinity_of_ash  magnesium  total_phenols  \\\n",
              "0      14.23        1.71  2.43               15.6      127.0           2.80   \n",
              "1      13.20        1.78  2.14               11.2      100.0           2.65   \n",
              "2      13.16        2.36  2.67               18.6      101.0           2.80   \n",
              "3      14.37        1.95  2.50               16.8      113.0           3.85   \n",
              "4      13.24        2.59  2.87               21.0      118.0           2.80   \n",
              "..       ...         ...   ...                ...        ...            ...   \n",
              "173    13.71        5.65  2.45               20.5       95.0           1.68   \n",
              "174    13.40        3.91  2.48               23.0      102.0           1.80   \n",
              "175    13.27        4.28  2.26               20.0      120.0           1.59   \n",
              "176    13.17        2.59  2.37               20.0      120.0           1.65   \n",
              "177    14.13        4.10  2.74               24.5       96.0           2.05   \n",
              "\n",
              "     flavanoids  nonflavanoid_phenols  proanthocyanins  color_intensity   hue  \\\n",
              "0          3.06                  0.28             2.29             5.64  1.04   \n",
              "1          2.76                  0.26             1.28             4.38  1.05   \n",
              "2          3.24                  0.30             2.81             5.68  1.03   \n",
              "3          3.49                  0.24             2.18             7.80  0.86   \n",
              "4          2.69                  0.39             1.82             4.32  1.04   \n",
              "..          ...                   ...              ...              ...   ...   \n",
              "173        0.61                  0.52             1.06             7.70  0.64   \n",
              "174        0.75                  0.43             1.41             7.30  0.70   \n",
              "175        0.69                  0.43             1.35            10.20  0.59   \n",
              "176        0.68                  0.53             1.46             9.30  0.60   \n",
              "177        0.76                  0.56             1.35             9.20  0.61   \n",
              "\n",
              "     od280/od315_of_diluted_wines  proline  \n",
              "0                            3.92   1065.0  \n",
              "1                            3.40   1050.0  \n",
              "2                            3.17   1185.0  \n",
              "3                            3.45   1480.0  \n",
              "4                            2.93    735.0  \n",
              "..                            ...      ...  \n",
              "173                          1.74    740.0  \n",
              "174                          1.56    750.0  \n",
              "175                          1.56    835.0  \n",
              "176                          1.62    840.0  \n",
              "177                          1.60    560.0  \n",
              "\n",
              "[178 rows x 13 columns]"
            ],
            "text/html": [
              "\n",
              "  <div id=\"df-9d75dd2a-a12e-4aa4-932c-d928d63610ab\">\n",
              "    <div class=\"colab-df-container\">\n",
              "      <div>\n",
              "<style scoped>\n",
              "    .dataframe tbody tr th:only-of-type {\n",
              "        vertical-align: middle;\n",
              "    }\n",
              "\n",
              "    .dataframe tbody tr th {\n",
              "        vertical-align: top;\n",
              "    }\n",
              "\n",
              "    .dataframe thead th {\n",
              "        text-align: right;\n",
              "    }\n",
              "</style>\n",
              "<table border=\"1\" class=\"dataframe\">\n",
              "  <thead>\n",
              "    <tr style=\"text-align: right;\">\n",
              "      <th></th>\n",
              "      <th>alcohol</th>\n",
              "      <th>malic_acid</th>\n",
              "      <th>ash</th>\n",
              "      <th>alcalinity_of_ash</th>\n",
              "      <th>magnesium</th>\n",
              "      <th>total_phenols</th>\n",
              "      <th>flavanoids</th>\n",
              "      <th>nonflavanoid_phenols</th>\n",
              "      <th>proanthocyanins</th>\n",
              "      <th>color_intensity</th>\n",
              "      <th>hue</th>\n",
              "      <th>od280/od315_of_diluted_wines</th>\n",
              "      <th>proline</th>\n",
              "    </tr>\n",
              "  </thead>\n",
              "  <tbody>\n",
              "    <tr>\n",
              "      <th>0</th>\n",
              "      <td>14.23</td>\n",
              "      <td>1.71</td>\n",
              "      <td>2.43</td>\n",
              "      <td>15.6</td>\n",
              "      <td>127.0</td>\n",
              "      <td>2.80</td>\n",
              "      <td>3.06</td>\n",
              "      <td>0.28</td>\n",
              "      <td>2.29</td>\n",
              "      <td>5.64</td>\n",
              "      <td>1.04</td>\n",
              "      <td>3.92</td>\n",
              "      <td>1065.0</td>\n",
              "    </tr>\n",
              "    <tr>\n",
              "      <th>1</th>\n",
              "      <td>13.20</td>\n",
              "      <td>1.78</td>\n",
              "      <td>2.14</td>\n",
              "      <td>11.2</td>\n",
              "      <td>100.0</td>\n",
              "      <td>2.65</td>\n",
              "      <td>2.76</td>\n",
              "      <td>0.26</td>\n",
              "      <td>1.28</td>\n",
              "      <td>4.38</td>\n",
              "      <td>1.05</td>\n",
              "      <td>3.40</td>\n",
              "      <td>1050.0</td>\n",
              "    </tr>\n",
              "    <tr>\n",
              "      <th>2</th>\n",
              "      <td>13.16</td>\n",
              "      <td>2.36</td>\n",
              "      <td>2.67</td>\n",
              "      <td>18.6</td>\n",
              "      <td>101.0</td>\n",
              "      <td>2.80</td>\n",
              "      <td>3.24</td>\n",
              "      <td>0.30</td>\n",
              "      <td>2.81</td>\n",
              "      <td>5.68</td>\n",
              "      <td>1.03</td>\n",
              "      <td>3.17</td>\n",
              "      <td>1185.0</td>\n",
              "    </tr>\n",
              "    <tr>\n",
              "      <th>3</th>\n",
              "      <td>14.37</td>\n",
              "      <td>1.95</td>\n",
              "      <td>2.50</td>\n",
              "      <td>16.8</td>\n",
              "      <td>113.0</td>\n",
              "      <td>3.85</td>\n",
              "      <td>3.49</td>\n",
              "      <td>0.24</td>\n",
              "      <td>2.18</td>\n",
              "      <td>7.80</td>\n",
              "      <td>0.86</td>\n",
              "      <td>3.45</td>\n",
              "      <td>1480.0</td>\n",
              "    </tr>\n",
              "    <tr>\n",
              "      <th>4</th>\n",
              "      <td>13.24</td>\n",
              "      <td>2.59</td>\n",
              "      <td>2.87</td>\n",
              "      <td>21.0</td>\n",
              "      <td>118.0</td>\n",
              "      <td>2.80</td>\n",
              "      <td>2.69</td>\n",
              "      <td>0.39</td>\n",
              "      <td>1.82</td>\n",
              "      <td>4.32</td>\n",
              "      <td>1.04</td>\n",
              "      <td>2.93</td>\n",
              "      <td>735.0</td>\n",
              "    </tr>\n",
              "    <tr>\n",
              "      <th>...</th>\n",
              "      <td>...</td>\n",
              "      <td>...</td>\n",
              "      <td>...</td>\n",
              "      <td>...</td>\n",
              "      <td>...</td>\n",
              "      <td>...</td>\n",
              "      <td>...</td>\n",
              "      <td>...</td>\n",
              "      <td>...</td>\n",
              "      <td>...</td>\n",
              "      <td>...</td>\n",
              "      <td>...</td>\n",
              "      <td>...</td>\n",
              "    </tr>\n",
              "    <tr>\n",
              "      <th>173</th>\n",
              "      <td>13.71</td>\n",
              "      <td>5.65</td>\n",
              "      <td>2.45</td>\n",
              "      <td>20.5</td>\n",
              "      <td>95.0</td>\n",
              "      <td>1.68</td>\n",
              "      <td>0.61</td>\n",
              "      <td>0.52</td>\n",
              "      <td>1.06</td>\n",
              "      <td>7.70</td>\n",
              "      <td>0.64</td>\n",
              "      <td>1.74</td>\n",
              "      <td>740.0</td>\n",
              "    </tr>\n",
              "    <tr>\n",
              "      <th>174</th>\n",
              "      <td>13.40</td>\n",
              "      <td>3.91</td>\n",
              "      <td>2.48</td>\n",
              "      <td>23.0</td>\n",
              "      <td>102.0</td>\n",
              "      <td>1.80</td>\n",
              "      <td>0.75</td>\n",
              "      <td>0.43</td>\n",
              "      <td>1.41</td>\n",
              "      <td>7.30</td>\n",
              "      <td>0.70</td>\n",
              "      <td>1.56</td>\n",
              "      <td>750.0</td>\n",
              "    </tr>\n",
              "    <tr>\n",
              "      <th>175</th>\n",
              "      <td>13.27</td>\n",
              "      <td>4.28</td>\n",
              "      <td>2.26</td>\n",
              "      <td>20.0</td>\n",
              "      <td>120.0</td>\n",
              "      <td>1.59</td>\n",
              "      <td>0.69</td>\n",
              "      <td>0.43</td>\n",
              "      <td>1.35</td>\n",
              "      <td>10.20</td>\n",
              "      <td>0.59</td>\n",
              "      <td>1.56</td>\n",
              "      <td>835.0</td>\n",
              "    </tr>\n",
              "    <tr>\n",
              "      <th>176</th>\n",
              "      <td>13.17</td>\n",
              "      <td>2.59</td>\n",
              "      <td>2.37</td>\n",
              "      <td>20.0</td>\n",
              "      <td>120.0</td>\n",
              "      <td>1.65</td>\n",
              "      <td>0.68</td>\n",
              "      <td>0.53</td>\n",
              "      <td>1.46</td>\n",
              "      <td>9.30</td>\n",
              "      <td>0.60</td>\n",
              "      <td>1.62</td>\n",
              "      <td>840.0</td>\n",
              "    </tr>\n",
              "    <tr>\n",
              "      <th>177</th>\n",
              "      <td>14.13</td>\n",
              "      <td>4.10</td>\n",
              "      <td>2.74</td>\n",
              "      <td>24.5</td>\n",
              "      <td>96.0</td>\n",
              "      <td>2.05</td>\n",
              "      <td>0.76</td>\n",
              "      <td>0.56</td>\n",
              "      <td>1.35</td>\n",
              "      <td>9.20</td>\n",
              "      <td>0.61</td>\n",
              "      <td>1.60</td>\n",
              "      <td>560.0</td>\n",
              "    </tr>\n",
              "  </tbody>\n",
              "</table>\n",
              "<p>178 rows × 13 columns</p>\n",
              "</div>\n",
              "      <button class=\"colab-df-convert\" onclick=\"convertToInteractive('df-9d75dd2a-a12e-4aa4-932c-d928d63610ab')\"\n",
              "              title=\"Convert this dataframe to an interactive table.\"\n",
              "              style=\"display:none;\">\n",
              "        \n",
              "  <svg xmlns=\"http://www.w3.org/2000/svg\" height=\"24px\"viewBox=\"0 0 24 24\"\n",
              "       width=\"24px\">\n",
              "    <path d=\"M0 0h24v24H0V0z\" fill=\"none\"/>\n",
              "    <path d=\"M18.56 5.44l.94 2.06.94-2.06 2.06-.94-2.06-.94-.94-2.06-.94 2.06-2.06.94zm-11 1L8.5 8.5l.94-2.06 2.06-.94-2.06-.94L8.5 2.5l-.94 2.06-2.06.94zm10 10l.94 2.06.94-2.06 2.06-.94-2.06-.94-.94-2.06-.94 2.06-2.06.94z\"/><path d=\"M17.41 7.96l-1.37-1.37c-.4-.4-.92-.59-1.43-.59-.52 0-1.04.2-1.43.59L10.3 9.45l-7.72 7.72c-.78.78-.78 2.05 0 2.83L4 21.41c.39.39.9.59 1.41.59.51 0 1.02-.2 1.41-.59l7.78-7.78 2.81-2.81c.8-.78.8-2.07 0-2.86zM5.41 20L4 18.59l7.72-7.72 1.47 1.35L5.41 20z\"/>\n",
              "  </svg>\n",
              "      </button>\n",
              "      \n",
              "  <style>\n",
              "    .colab-df-container {\n",
              "      display:flex;\n",
              "      flex-wrap:wrap;\n",
              "      gap: 12px;\n",
              "    }\n",
              "\n",
              "    .colab-df-convert {\n",
              "      background-color: #E8F0FE;\n",
              "      border: none;\n",
              "      border-radius: 50%;\n",
              "      cursor: pointer;\n",
              "      display: none;\n",
              "      fill: #1967D2;\n",
              "      height: 32px;\n",
              "      padding: 0 0 0 0;\n",
              "      width: 32px;\n",
              "    }\n",
              "\n",
              "    .colab-df-convert:hover {\n",
              "      background-color: #E2EBFA;\n",
              "      box-shadow: 0px 1px 2px rgba(60, 64, 67, 0.3), 0px 1px 3px 1px rgba(60, 64, 67, 0.15);\n",
              "      fill: #174EA6;\n",
              "    }\n",
              "\n",
              "    [theme=dark] .colab-df-convert {\n",
              "      background-color: #3B4455;\n",
              "      fill: #D2E3FC;\n",
              "    }\n",
              "\n",
              "    [theme=dark] .colab-df-convert:hover {\n",
              "      background-color: #434B5C;\n",
              "      box-shadow: 0px 1px 3px 1px rgba(0, 0, 0, 0.15);\n",
              "      filter: drop-shadow(0px 1px 2px rgba(0, 0, 0, 0.3));\n",
              "      fill: #FFFFFF;\n",
              "    }\n",
              "  </style>\n",
              "\n",
              "      <script>\n",
              "        const buttonEl =\n",
              "          document.querySelector('#df-9d75dd2a-a12e-4aa4-932c-d928d63610ab button.colab-df-convert');\n",
              "        buttonEl.style.display =\n",
              "          google.colab.kernel.accessAllowed ? 'block' : 'none';\n",
              "\n",
              "        async function convertToInteractive(key) {\n",
              "          const element = document.querySelector('#df-9d75dd2a-a12e-4aa4-932c-d928d63610ab');\n",
              "          const dataTable =\n",
              "            await google.colab.kernel.invokeFunction('convertToInteractive',\n",
              "                                                     [key], {});\n",
              "          if (!dataTable) return;\n",
              "\n",
              "          const docLinkHtml = 'Like what you see? Visit the ' +\n",
              "            '<a target=\"_blank\" href=https://colab.research.google.com/notebooks/data_table.ipynb>data table notebook</a>'\n",
              "            + ' to learn more about interactive tables.';\n",
              "          element.innerHTML = '';\n",
              "          dataTable['output_type'] = 'display_data';\n",
              "          await google.colab.output.renderOutput(dataTable, element);\n",
              "          const docLink = document.createElement('div');\n",
              "          docLink.innerHTML = docLinkHtml;\n",
              "          element.appendChild(docLink);\n",
              "        }\n",
              "      </script>\n",
              "    </div>\n",
              "  </div>\n",
              "  "
            ]
          },
          "metadata": {},
          "execution_count": 12
        }
      ]
    },
    {
      "cell_type": "code",
      "metadata": {
        "id": "4u8TEZjzby45",
        "colab": {
          "base_uri": "https://localhost:8080/"
        },
        "outputId": "3737b08d-2cc9-430d-ea62-fc2caca4a3bc"
      },
      "source": [
        "data_class"
      ],
      "execution_count": null,
      "outputs": [
        {
          "output_type": "execute_result",
          "data": {
            "text/plain": [
              "array([0, 0, 0, 0, 0, 0, 0, 0, 0, 0, 0, 0, 0, 0, 0, 0, 0, 0, 0, 0, 0, 0,\n",
              "       0, 0, 0, 0, 0, 0, 0, 0, 0, 0, 0, 0, 0, 0, 0, 0, 0, 0, 0, 0, 0, 0,\n",
              "       0, 0, 0, 0, 0, 0, 0, 0, 0, 0, 0, 0, 0, 0, 0, 1, 1, 1, 1, 1, 1, 1,\n",
              "       1, 1, 1, 1, 1, 1, 1, 1, 1, 1, 1, 1, 1, 1, 1, 1, 1, 1, 1, 1, 1, 1,\n",
              "       1, 1, 1, 1, 1, 1, 1, 1, 1, 1, 1, 1, 1, 1, 1, 1, 1, 1, 1, 1, 1, 1,\n",
              "       1, 1, 1, 1, 1, 1, 1, 1, 1, 1, 1, 1, 1, 1, 1, 1, 1, 1, 1, 1, 2, 2,\n",
              "       2, 2, 2, 2, 2, 2, 2, 2, 2, 2, 2, 2, 2, 2, 2, 2, 2, 2, 2, 2, 2, 2,\n",
              "       2, 2, 2, 2, 2, 2, 2, 2, 2, 2, 2, 2, 2, 2, 2, 2, 2, 2, 2, 2, 2, 2,\n",
              "       2, 2])"
            ]
          },
          "metadata": {},
          "execution_count": 7
        }
      ]
    },
    {
      "cell_type": "code",
      "metadata": {
        "id": "lFjqjX-iwCaW"
      },
      "source": [
        "# разделяем выборку на тренировочную и тестовую\n",
        "from sklearn.model_selection import train_test_split\n",
        "X_train, X_test, y_train, y_test = train_test_split(data, data_class, test_size=0.25, random_state=42)"
      ],
      "execution_count": null,
      "outputs": []
    },
    {
      "cell_type": "code",
      "metadata": {
        "id": "ygkZ_ffYby48",
        "colab": {
          "base_uri": "https://localhost:8080/"
        },
        "outputId": "0f8bc7cd-5678-4cde-fe3c-bac10daca261"
      },
      "source": [
        "len(y_test)"
      ],
      "execution_count": null,
      "outputs": [
        {
          "output_type": "execute_result",
          "data": {
            "text/plain": [
              "45"
            ]
          },
          "metadata": {},
          "execution_count": 14
        }
      ]
    },
    {
      "cell_type": "code",
      "metadata": {
        "id": "6HINhvLtwdZT"
      },
      "source": [
        "# импортируем LDA-функционал\n",
        "from sklearn.discriminant_analysis import LinearDiscriminantAnalysis"
      ],
      "execution_count": null,
      "outputs": []
    },
    {
      "cell_type": "code",
      "metadata": {
        "id": "0Us8oVotwku1"
      },
      "source": [
        "lda = LinearDiscriminantAnalysis()"
      ],
      "execution_count": null,
      "outputs": []
    },
    {
      "cell_type": "code",
      "metadata": {
        "id": "h5Ufc5sjwnZ3",
        "colab": {
          "base_uri": "https://localhost:8080/"
        },
        "outputId": "54a5b335-4a78-44d0-8964-4f852bc900a1"
      },
      "source": [
        "# обучаем данные\n",
        "lda.fit(X_train, y_train)"
      ],
      "execution_count": null,
      "outputs": [
        {
          "output_type": "execute_result",
          "data": {
            "text/plain": [
              "LinearDiscriminantAnalysis()"
            ]
          },
          "metadata": {},
          "execution_count": 17
        }
      ]
    },
    {
      "cell_type": "code",
      "metadata": {
        "id": "bcZ3H-T1xSWu",
        "colab": {
          "base_uri": "https://localhost:8080/"
        },
        "outputId": "42e693e5-30b7-4fb5-cf01-d2e977c7afc6"
      },
      "source": [
        "# делаем прогноз на тестовой выборке\n",
        "lda.predict(X_test)"
      ],
      "execution_count": null,
      "outputs": [
        {
          "output_type": "execute_result",
          "data": {
            "text/plain": [
              "array([0, 0, 2, 0, 1, 0, 1, 2, 1, 2, 0, 2, 0, 1, 0, 1, 1, 1, 0, 1, 0, 1,\n",
              "       1, 2, 2, 2, 1, 1, 1, 0, 0, 1, 2, 0, 0, 0, 2, 2, 1, 2, 0, 1, 1, 1,\n",
              "       2])"
            ]
          },
          "metadata": {},
          "execution_count": 18
        }
      ]
    },
    {
      "cell_type": "code",
      "metadata": {
        "id": "9wGodM6OxUds"
      },
      "source": [
        "# смотрим разницу факта и прогноза\n",
        "result = pd.DataFrame([y_test, lda.predict(X_test)]).T"
      ],
      "execution_count": null,
      "outputs": []
    },
    {
      "cell_type": "code",
      "metadata": {
        "id": "RK4zDP6ZxaXI",
        "colab": {
          "base_uri": "https://localhost:8080/",
          "height": 1000
        },
        "outputId": "995aa9e6-d69b-4d9c-df32-167d1ce56d70"
      },
      "source": [
        "result"
      ],
      "execution_count": null,
      "outputs": [
        {
          "output_type": "execute_result",
          "data": {
            "text/plain": [
              "    0  1\n",
              "0   0  0\n",
              "1   0  0\n",
              "2   2  2\n",
              "3   0  0\n",
              "4   1  1\n",
              "5   0  0\n",
              "6   1  1\n",
              "7   2  2\n",
              "8   1  1\n",
              "9   2  2\n",
              "10  0  0\n",
              "11  2  2\n",
              "12  0  0\n",
              "13  1  1\n",
              "14  0  0\n",
              "15  1  1\n",
              "16  1  1\n",
              "17  1  1\n",
              "18  0  0\n",
              "19  1  1\n",
              "20  0  0\n",
              "21  1  1\n",
              "22  1  1\n",
              "23  2  2\n",
              "24  2  2\n",
              "25  2  2\n",
              "26  1  1\n",
              "27  1  1\n",
              "28  1  1\n",
              "29  0  0\n",
              "30  0  0\n",
              "31  1  1\n",
              "32  2  2\n",
              "33  0  0\n",
              "34  0  0\n",
              "35  0  0\n",
              "36  2  2\n",
              "37  2  2\n",
              "38  1  1\n",
              "39  2  2\n",
              "40  0  0\n",
              "41  1  1\n",
              "42  1  1\n",
              "43  1  1\n",
              "44  2  2"
            ],
            "text/html": [
              "\n",
              "  <div id=\"df-17fd9a01-1b98-4064-980a-7e64a301ea05\">\n",
              "    <div class=\"colab-df-container\">\n",
              "      <div>\n",
              "<style scoped>\n",
              "    .dataframe tbody tr th:only-of-type {\n",
              "        vertical-align: middle;\n",
              "    }\n",
              "\n",
              "    .dataframe tbody tr th {\n",
              "        vertical-align: top;\n",
              "    }\n",
              "\n",
              "    .dataframe thead th {\n",
              "        text-align: right;\n",
              "    }\n",
              "</style>\n",
              "<table border=\"1\" class=\"dataframe\">\n",
              "  <thead>\n",
              "    <tr style=\"text-align: right;\">\n",
              "      <th></th>\n",
              "      <th>0</th>\n",
              "      <th>1</th>\n",
              "    </tr>\n",
              "  </thead>\n",
              "  <tbody>\n",
              "    <tr>\n",
              "      <th>0</th>\n",
              "      <td>0</td>\n",
              "      <td>0</td>\n",
              "    </tr>\n",
              "    <tr>\n",
              "      <th>1</th>\n",
              "      <td>0</td>\n",
              "      <td>0</td>\n",
              "    </tr>\n",
              "    <tr>\n",
              "      <th>2</th>\n",
              "      <td>2</td>\n",
              "      <td>2</td>\n",
              "    </tr>\n",
              "    <tr>\n",
              "      <th>3</th>\n",
              "      <td>0</td>\n",
              "      <td>0</td>\n",
              "    </tr>\n",
              "    <tr>\n",
              "      <th>4</th>\n",
              "      <td>1</td>\n",
              "      <td>1</td>\n",
              "    </tr>\n",
              "    <tr>\n",
              "      <th>5</th>\n",
              "      <td>0</td>\n",
              "      <td>0</td>\n",
              "    </tr>\n",
              "    <tr>\n",
              "      <th>6</th>\n",
              "      <td>1</td>\n",
              "      <td>1</td>\n",
              "    </tr>\n",
              "    <tr>\n",
              "      <th>7</th>\n",
              "      <td>2</td>\n",
              "      <td>2</td>\n",
              "    </tr>\n",
              "    <tr>\n",
              "      <th>8</th>\n",
              "      <td>1</td>\n",
              "      <td>1</td>\n",
              "    </tr>\n",
              "    <tr>\n",
              "      <th>9</th>\n",
              "      <td>2</td>\n",
              "      <td>2</td>\n",
              "    </tr>\n",
              "    <tr>\n",
              "      <th>10</th>\n",
              "      <td>0</td>\n",
              "      <td>0</td>\n",
              "    </tr>\n",
              "    <tr>\n",
              "      <th>11</th>\n",
              "      <td>2</td>\n",
              "      <td>2</td>\n",
              "    </tr>\n",
              "    <tr>\n",
              "      <th>12</th>\n",
              "      <td>0</td>\n",
              "      <td>0</td>\n",
              "    </tr>\n",
              "    <tr>\n",
              "      <th>13</th>\n",
              "      <td>1</td>\n",
              "      <td>1</td>\n",
              "    </tr>\n",
              "    <tr>\n",
              "      <th>14</th>\n",
              "      <td>0</td>\n",
              "      <td>0</td>\n",
              "    </tr>\n",
              "    <tr>\n",
              "      <th>15</th>\n",
              "      <td>1</td>\n",
              "      <td>1</td>\n",
              "    </tr>\n",
              "    <tr>\n",
              "      <th>16</th>\n",
              "      <td>1</td>\n",
              "      <td>1</td>\n",
              "    </tr>\n",
              "    <tr>\n",
              "      <th>17</th>\n",
              "      <td>1</td>\n",
              "      <td>1</td>\n",
              "    </tr>\n",
              "    <tr>\n",
              "      <th>18</th>\n",
              "      <td>0</td>\n",
              "      <td>0</td>\n",
              "    </tr>\n",
              "    <tr>\n",
              "      <th>19</th>\n",
              "      <td>1</td>\n",
              "      <td>1</td>\n",
              "    </tr>\n",
              "    <tr>\n",
              "      <th>20</th>\n",
              "      <td>0</td>\n",
              "      <td>0</td>\n",
              "    </tr>\n",
              "    <tr>\n",
              "      <th>21</th>\n",
              "      <td>1</td>\n",
              "      <td>1</td>\n",
              "    </tr>\n",
              "    <tr>\n",
              "      <th>22</th>\n",
              "      <td>1</td>\n",
              "      <td>1</td>\n",
              "    </tr>\n",
              "    <tr>\n",
              "      <th>23</th>\n",
              "      <td>2</td>\n",
              "      <td>2</td>\n",
              "    </tr>\n",
              "    <tr>\n",
              "      <th>24</th>\n",
              "      <td>2</td>\n",
              "      <td>2</td>\n",
              "    </tr>\n",
              "    <tr>\n",
              "      <th>25</th>\n",
              "      <td>2</td>\n",
              "      <td>2</td>\n",
              "    </tr>\n",
              "    <tr>\n",
              "      <th>26</th>\n",
              "      <td>1</td>\n",
              "      <td>1</td>\n",
              "    </tr>\n",
              "    <tr>\n",
              "      <th>27</th>\n",
              "      <td>1</td>\n",
              "      <td>1</td>\n",
              "    </tr>\n",
              "    <tr>\n",
              "      <th>28</th>\n",
              "      <td>1</td>\n",
              "      <td>1</td>\n",
              "    </tr>\n",
              "    <tr>\n",
              "      <th>29</th>\n",
              "      <td>0</td>\n",
              "      <td>0</td>\n",
              "    </tr>\n",
              "    <tr>\n",
              "      <th>30</th>\n",
              "      <td>0</td>\n",
              "      <td>0</td>\n",
              "    </tr>\n",
              "    <tr>\n",
              "      <th>31</th>\n",
              "      <td>1</td>\n",
              "      <td>1</td>\n",
              "    </tr>\n",
              "    <tr>\n",
              "      <th>32</th>\n",
              "      <td>2</td>\n",
              "      <td>2</td>\n",
              "    </tr>\n",
              "    <tr>\n",
              "      <th>33</th>\n",
              "      <td>0</td>\n",
              "      <td>0</td>\n",
              "    </tr>\n",
              "    <tr>\n",
              "      <th>34</th>\n",
              "      <td>0</td>\n",
              "      <td>0</td>\n",
              "    </tr>\n",
              "    <tr>\n",
              "      <th>35</th>\n",
              "      <td>0</td>\n",
              "      <td>0</td>\n",
              "    </tr>\n",
              "    <tr>\n",
              "      <th>36</th>\n",
              "      <td>2</td>\n",
              "      <td>2</td>\n",
              "    </tr>\n",
              "    <tr>\n",
              "      <th>37</th>\n",
              "      <td>2</td>\n",
              "      <td>2</td>\n",
              "    </tr>\n",
              "    <tr>\n",
              "      <th>38</th>\n",
              "      <td>1</td>\n",
              "      <td>1</td>\n",
              "    </tr>\n",
              "    <tr>\n",
              "      <th>39</th>\n",
              "      <td>2</td>\n",
              "      <td>2</td>\n",
              "    </tr>\n",
              "    <tr>\n",
              "      <th>40</th>\n",
              "      <td>0</td>\n",
              "      <td>0</td>\n",
              "    </tr>\n",
              "    <tr>\n",
              "      <th>41</th>\n",
              "      <td>1</td>\n",
              "      <td>1</td>\n",
              "    </tr>\n",
              "    <tr>\n",
              "      <th>42</th>\n",
              "      <td>1</td>\n",
              "      <td>1</td>\n",
              "    </tr>\n",
              "    <tr>\n",
              "      <th>43</th>\n",
              "      <td>1</td>\n",
              "      <td>1</td>\n",
              "    </tr>\n",
              "    <tr>\n",
              "      <th>44</th>\n",
              "      <td>2</td>\n",
              "      <td>2</td>\n",
              "    </tr>\n",
              "  </tbody>\n",
              "</table>\n",
              "</div>\n",
              "      <button class=\"colab-df-convert\" onclick=\"convertToInteractive('df-17fd9a01-1b98-4064-980a-7e64a301ea05')\"\n",
              "              title=\"Convert this dataframe to an interactive table.\"\n",
              "              style=\"display:none;\">\n",
              "        \n",
              "  <svg xmlns=\"http://www.w3.org/2000/svg\" height=\"24px\"viewBox=\"0 0 24 24\"\n",
              "       width=\"24px\">\n",
              "    <path d=\"M0 0h24v24H0V0z\" fill=\"none\"/>\n",
              "    <path d=\"M18.56 5.44l.94 2.06.94-2.06 2.06-.94-2.06-.94-.94-2.06-.94 2.06-2.06.94zm-11 1L8.5 8.5l.94-2.06 2.06-.94-2.06-.94L8.5 2.5l-.94 2.06-2.06.94zm10 10l.94 2.06.94-2.06 2.06-.94-2.06-.94-.94-2.06-.94 2.06-2.06.94z\"/><path d=\"M17.41 7.96l-1.37-1.37c-.4-.4-.92-.59-1.43-.59-.52 0-1.04.2-1.43.59L10.3 9.45l-7.72 7.72c-.78.78-.78 2.05 0 2.83L4 21.41c.39.39.9.59 1.41.59.51 0 1.02-.2 1.41-.59l7.78-7.78 2.81-2.81c.8-.78.8-2.07 0-2.86zM5.41 20L4 18.59l7.72-7.72 1.47 1.35L5.41 20z\"/>\n",
              "  </svg>\n",
              "      </button>\n",
              "      \n",
              "  <style>\n",
              "    .colab-df-container {\n",
              "      display:flex;\n",
              "      flex-wrap:wrap;\n",
              "      gap: 12px;\n",
              "    }\n",
              "\n",
              "    .colab-df-convert {\n",
              "      background-color: #E8F0FE;\n",
              "      border: none;\n",
              "      border-radius: 50%;\n",
              "      cursor: pointer;\n",
              "      display: none;\n",
              "      fill: #1967D2;\n",
              "      height: 32px;\n",
              "      padding: 0 0 0 0;\n",
              "      width: 32px;\n",
              "    }\n",
              "\n",
              "    .colab-df-convert:hover {\n",
              "      background-color: #E2EBFA;\n",
              "      box-shadow: 0px 1px 2px rgba(60, 64, 67, 0.3), 0px 1px 3px 1px rgba(60, 64, 67, 0.15);\n",
              "      fill: #174EA6;\n",
              "    }\n",
              "\n",
              "    [theme=dark] .colab-df-convert {\n",
              "      background-color: #3B4455;\n",
              "      fill: #D2E3FC;\n",
              "    }\n",
              "\n",
              "    [theme=dark] .colab-df-convert:hover {\n",
              "      background-color: #434B5C;\n",
              "      box-shadow: 0px 1px 3px 1px rgba(0, 0, 0, 0.15);\n",
              "      filter: drop-shadow(0px 1px 2px rgba(0, 0, 0, 0.3));\n",
              "      fill: #FFFFFF;\n",
              "    }\n",
              "  </style>\n",
              "\n",
              "      <script>\n",
              "        const buttonEl =\n",
              "          document.querySelector('#df-17fd9a01-1b98-4064-980a-7e64a301ea05 button.colab-df-convert');\n",
              "        buttonEl.style.display =\n",
              "          google.colab.kernel.accessAllowed ? 'block' : 'none';\n",
              "\n",
              "        async function convertToInteractive(key) {\n",
              "          const element = document.querySelector('#df-17fd9a01-1b98-4064-980a-7e64a301ea05');\n",
              "          const dataTable =\n",
              "            await google.colab.kernel.invokeFunction('convertToInteractive',\n",
              "                                                     [key], {});\n",
              "          if (!dataTable) return;\n",
              "\n",
              "          const docLinkHtml = 'Like what you see? Visit the ' +\n",
              "            '<a target=\"_blank\" href=https://colab.research.google.com/notebooks/data_table.ipynb>data table notebook</a>'\n",
              "            + ' to learn more about interactive tables.';\n",
              "          element.innerHTML = '';\n",
              "          dataTable['output_type'] = 'display_data';\n",
              "          await google.colab.output.renderOutput(dataTable, element);\n",
              "          const docLink = document.createElement('div');\n",
              "          docLink.innerHTML = docLinkHtml;\n",
              "          element.appendChild(docLink);\n",
              "        }\n",
              "      </script>\n",
              "    </div>\n",
              "  </div>\n",
              "  "
            ]
          },
          "metadata": {},
          "execution_count": 20
        }
      ]
    },
    {
      "cell_type": "code",
      "metadata": {
        "id": "B66nVhbk2Mf1"
      },
      "source": [
        "# расчет точности - отношение верных прогнозов к общему количеству позиций\n",
        "# является хорошей метрикой для сбалансированных классов \n",
        "# (наблюдений в категориях примерно одинаковое количество)\n",
        "\n",
        "from sklearn.metrics import accuracy_score"
      ],
      "execution_count": null,
      "outputs": []
    },
    {
      "cell_type": "code",
      "metadata": {
        "id": "2x5pYOZB2P2F",
        "colab": {
          "base_uri": "https://localhost:8080/"
        },
        "outputId": "76a1f7cc-7b19-44a8-a328-938b68d7417b"
      },
      "source": [
        "accuracy_score(y_test, lda.predict(X_test))"
      ],
      "execution_count": null,
      "outputs": [
        {
          "output_type": "execute_result",
          "data": {
            "text/plain": [
              "1.0"
            ]
          },
          "metadata": {},
          "execution_count": 17
        }
      ]
    },
    {
      "cell_type": "code",
      "metadata": {
        "id": "aBdqgd5ixdMh",
        "colab": {
          "base_uri": "https://localhost:8080/"
        },
        "outputId": "6b74ab2f-048d-45d3-8783-95a05eb9da4d"
      },
      "source": [
        "# коэффициенты дискриминатных линий\n",
        "lda.coef_"
      ],
      "execution_count": null,
      "outputs": [
        {
          "output_type": "execute_result",
          "data": {
            "text/plain": [
              "array([[ 2.77785654e+00, -2.62823777e-01,  6.34033699e+00,\n",
              "        -9.23264800e-01,  1.12148061e-03, -1.73622434e+00,\n",
              "         4.95743646e+00,  3.14554165e+00, -1.19253447e+00,\n",
              "        -8.98034416e-01, -1.73258088e-01,  3.81064150e+00,\n",
              "         1.36856107e-02],\n",
              "       [-2.00764892e+00, -4.89578703e-01, -6.54854947e+00,\n",
              "         4.49722072e-01,  4.06933168e-05, -7.56394603e-01,\n",
              "         1.34633325e+00,  2.67670321e+00,  1.06737575e+00,\n",
              "        -6.98689535e-01,  3.51943073e+00,  4.92874648e-01,\n",
              "        -5.99014310e-03],\n",
              "       [-4.39452636e-01,  1.04199771e+00,  1.89161928e+00,\n",
              "         4.66343927e-01, -1.43060813e-03,  3.23563291e+00,\n",
              "        -8.04119074e+00, -7.78525286e+00, -1.13872164e-01,\n",
              "         2.12622388e+00, -4.96962424e+00, -5.38307173e+00,\n",
              "        -7.90803569e-03]])"
            ]
          },
          "metadata": {},
          "execution_count": 18
        }
      ]
    },
    {
      "cell_type": "code",
      "metadata": {
        "id": "KFSam-cJzCOG"
      },
      "source": [
        "# визуализируем дискриминантные линии только по 2 признакам\n",
        "small_train = X_train[['ash', 'flavanoids']]\n",
        "small_test = X_test[['ash', 'flavanoids']]"
      ],
      "execution_count": null,
      "outputs": []
    },
    {
      "cell_type": "code",
      "metadata": {
        "id": "SX47KNgXySEU",
        "colab": {
          "base_uri": "https://localhost:8080/",
          "height": 265
        },
        "outputId": "2eb6dbc4-029a-4e85-bf20-3a389c47507b"
      },
      "source": [
        "plt.scatter(x=small_train['ash'], y=small_train['flavanoids'], c=y_train)\n",
        "plt.show()"
      ],
      "execution_count": null,
      "outputs": [
        {
          "output_type": "display_data",
          "data": {
            "text/plain": [
              "<Figure size 432x288 with 1 Axes>"
            ],
            "image/png": "[encoded data removed]"
          },
          "metadata": {
            "needs_background": "light"
          }
        }
      ]
    },
    {
      "cell_type": "code",
      "metadata": {
        "id": "jzWXDuY7y453",
        "colab": {
          "base_uri": "https://localhost:8080/"
        },
        "outputId": "c2a18537-3740-44ef-80d3-1c315ddd05f5"
      },
      "source": [
        "lda_small = LinearDiscriminantAnalysis()\n",
        "lda_small.fit(small_train, y_train)"
      ],
      "execution_count": null,
      "outputs": [
        {
          "output_type": "execute_result",
          "data": {
            "text/plain": [
              "LinearDiscriminantAnalysis()"
            ]
          },
          "metadata": {},
          "execution_count": 26
        }
      ]
    },
    {
      "cell_type": "code",
      "metadata": {
        "id": "MSo9yPBxzPYx",
        "colab": {
          "base_uri": "https://localhost:8080/"
        },
        "outputId": "d16d3a15-1729-46c1-c3ff-25288508d598"
      },
      "source": [
        "# посмотрим на наши центроиды\n",
        "lda_small.means_"
      ],
      "execution_count": null,
      "outputs": [
        {
          "output_type": "execute_result",
          "data": {
            "text/plain": [
              "array([[2.45795455, 2.98522727],\n",
              "       [2.24735849, 2.07150943],\n",
              "       [2.41416667, 0.76888889]])"
            ]
          },
          "metadata": {},
          "execution_count": 27
        }
      ]
    },
    {
      "cell_type": "code",
      "metadata": {
        "id": "IrQb_JTwzREc",
        "colab": {
          "base_uri": "https://localhost:8080/",
          "height": 320
        },
        "outputId": "7f3378ec-2c0e-4eb9-c863-0ba4fba5453f"
      },
      "source": [
        "# сам scatter plot\n",
        "plt.scatter(small_train['ash'], small_train['flavanoids'], c=y_train)\n",
        "# центроиды\n",
        "plt.scatter(lda_small.means_[:, 0], lda_small.means_[:, 1], c='r', s=150, marker='*')\n",
        "\n",
        "# делаем условную \"сетку\"\n",
        "nx, ny = 200, 100\n",
        "x_min, x_max = plt.xlim()\n",
        "y_min, y_max = plt.ylim()\n",
        "xx, yy = np.meshgrid(np.linspace(x_min, x_max, nx),\n",
        "                         np.linspace(y_min, y_max, ny))\n",
        "\n",
        "# предсказываем класс каждой точки нашей сетки\n",
        "Z = lda_small.predict_proba(np.c_[xx.ravel(), yy.ravel()])\n",
        "Z = Z[:, 1].reshape(xx.shape)\n",
        "\n",
        "# закрашиваем классы разными цветами\n",
        "plt.pcolormesh(xx, yy, Z, cmap='red_blue_classes',\n",
        "                   norm=colors.Normalize(0., 1.), zorder=-1, shading='auto')\n",
        "\n",
        "plt.contour(xx, yy, Z, [0.5], linewidths=2., colors='white')\n",
        "plt.show()"
      ],
      "execution_count": null,
      "outputs": [
        {
          "output_type": "stream",
          "name": "stderr",
          "text": [
            "/usr/local/lib/python3.8/dist-packages/sklearn/base.py:450: UserWarning: X does not have valid feature names, but LinearDiscriminantAnalysis was fitted with feature names\n",
            "  warnings.warn(\n"
          ]
        },
        {
          "output_type": "display_data",
          "data": {
            "text/plain": [
              "<Figure size 432x288 with 1 Axes>"
            ],
            "image/png": "[encoded data removed]"
          },
          "metadata": {
            "needs_background": "light"
          }
        }
      ]
    },
    {
      "cell_type": "code",
      "source": [
        "# визуализация разделения на тесте\n",
        "plt.scatter(small_test['ash'], small_test['flavanoids'], c=lda_small.predict(small_test))\n",
        "xx, yy = np.meshgrid(np.linspace(x_min, x_max, nx),\n",
        "                         np.linspace(y_min, y_max, ny))\n",
        "\n",
        "Z = lda_small.predict_proba(np.c_[xx.ravel(), yy.ravel()])\n",
        "Z = Z[:, 1].reshape(xx.shape)\n",
        "\n",
        "plt.pcolormesh(xx, yy, Z, cmap='red_blue_classes',\n",
        "                   norm=colors.Normalize(0., 1.), zorder=-1, shading='auto')\n",
        "\n",
        "plt.contour(xx, yy, Z, [0.5], linewidths=2., colors='white')\n",
        "plt.show()"
      ],
      "metadata": {
        "colab": {
          "base_uri": "https://localhost:8080/",
          "height": 320
        },
        "id": "0FIaGY8jWia1",
        "outputId": "2d61f5f1-dbff-476b-ee35-5882f706c2fd"
      },
      "execution_count": null,
      "outputs": [
        {
          "output_type": "stream",
          "name": "stderr",
          "text": [
            "/usr/local/lib/python3.8/dist-packages/sklearn/base.py:450: UserWarning: X does not have valid feature names, but LinearDiscriminantAnalysis was fitted with feature names\n",
            "  warnings.warn(\n"
          ]
        },
        {
          "output_type": "display_data",
          "data": {
            "text/plain": [
              "<Figure size 432x288 with 1 Axes>"
            ],
            "image/png": "[encoded data removed]"
          },
          "metadata": {
            "needs_background": "light"
          }
        }
      ]
    },
    {
      "cell_type": "code",
      "metadata": {
        "id": "e4_nponj4X5a",
        "colab": {
          "base_uri": "https://localhost:8080/"
        },
        "outputId": "e4e29f7e-1f88-4b12-e815-5586c578dbad"
      },
      "source": [
        "# второй признак во много раз важнее первого для кластеризации (это видно по визуализации)\n",
        "lda_small.coef_"
      ],
      "execution_count": null,
      "outputs": [
        {
          "output_type": "execute_result",
          "data": {
            "text/plain": [
              "array([[-0.35930524,  3.52752381],\n",
              "       [-1.82165655,  0.40785359],\n",
              "       [ 3.1210341 , -4.9118691 ]])"
            ]
          },
          "metadata": {},
          "execution_count": 32
        }
      ]
    },
    {
      "cell_type": "code",
      "metadata": {
        "id": "fDmV457H4kz_",
        "colab": {
          "base_uri": "https://localhost:8080/"
        },
        "outputId": "47d268a1-922c-423a-ffaf-1e3923bc4076"
      },
      "source": [
        "# какая будет точность?\n",
        "accuracy_score(y_test, lda_small.predict(small_test))"
      ],
      "execution_count": null,
      "outputs": [
        {
          "output_type": "execute_result",
          "data": {
            "text/plain": [
              "0.8"
            ]
          },
          "metadata": {},
          "execution_count": 35
        }
      ]
    },
    {
      "cell_type": "code",
      "metadata": {
        "id": "bhPt9IHjby5I",
        "colab": {
          "base_uri": "https://localhost:8080/",
          "height": 112
        },
        "outputId": "88a2f655-6300-4274-d0ca-002d0e106218"
      },
      "source": [
        "data[['flavanoids', 'ash']].corr()"
      ],
      "execution_count": null,
      "outputs": [
        {
          "output_type": "execute_result",
          "data": {
            "text/plain": [
              "            flavanoids       ash\n",
              "flavanoids    1.000000  0.115077\n",
              "ash           0.115077  1.000000"
            ],
            "text/html": [
              "\n",
              "  <div id=\"df-0f28d30e-6be4-428e-a805-9d37e5097889\">\n",
              "    <div class=\"colab-df-container\">\n",
              "      <div>\n",
              "<style scoped>\n",
              "    .dataframe tbody tr th:only-of-type {\n",
              "        vertical-align: middle;\n",
              "    }\n",
              "\n",
              "    .dataframe tbody tr th {\n",
              "        vertical-align: top;\n",
              "    }\n",
              "\n",
              "    .dataframe thead th {\n",
              "        text-align: right;\n",
              "    }\n",
              "</style>\n",
              "<table border=\"1\" class=\"dataframe\">\n",
              "  <thead>\n",
              "    <tr style=\"text-align: right;\">\n",
              "      <th></th>\n",
              "      <th>flavanoids</th>\n",
              "      <th>ash</th>\n",
              "    </tr>\n",
              "  </thead>\n",
              "  <tbody>\n",
              "    <tr>\n",
              "      <th>flavanoids</th>\n",
              "      <td>1.000000</td>\n",
              "      <td>0.115077</td>\n",
              "    </tr>\n",
              "    <tr>\n",
              "      <th>ash</th>\n",
              "      <td>0.115077</td>\n",
              "      <td>1.000000</td>\n",
              "    </tr>\n",
              "  </tbody>\n",
              "</table>\n",
              "</div>\n",
              "      <button class=\"colab-df-convert\" onclick=\"convertToInteractive('df-0f28d30e-6be4-428e-a805-9d37e5097889')\"\n",
              "              title=\"Convert this dataframe to an interactive table.\"\n",
              "              style=\"display:none;\">\n",
              "        \n",
              "  <svg xmlns=\"http://www.w3.org/2000/svg\" height=\"24px\"viewBox=\"0 0 24 24\"\n",
              "       width=\"24px\">\n",
              "    <path d=\"M0 0h24v24H0V0z\" fill=\"none\"/>\n",
              "    <path d=\"M18.56 5.44l.94 2.06.94-2.06 2.06-.94-2.06-.94-.94-2.06-.94 2.06-2.06.94zm-11 1L8.5 8.5l.94-2.06 2.06-.94-2.06-.94L8.5 2.5l-.94 2.06-2.06.94zm10 10l.94 2.06.94-2.06 2.06-.94-2.06-.94-.94-2.06-.94 2.06-2.06.94z\"/><path d=\"M17.41 7.96l-1.37-1.37c-.4-.4-.92-.59-1.43-.59-.52 0-1.04.2-1.43.59L10.3 9.45l-7.72 7.72c-.78.78-.78 2.05 0 2.83L4 21.41c.39.39.9.59 1.41.59.51 0 1.02-.2 1.41-.59l7.78-7.78 2.81-2.81c.8-.78.8-2.07 0-2.86zM5.41 20L4 18.59l7.72-7.72 1.47 1.35L5.41 20z\"/>\n",
              "  </svg>\n",
              "      </button>\n",
              "      \n",
              "  <style>\n",
              "    .colab-df-container {\n",
              "      display:flex;\n",
              "      flex-wrap:wrap;\n",
              "      gap: 12px;\n",
              "    }\n",
              "\n",
              "    .colab-df-convert {\n",
              "      background-color: #E8F0FE;\n",
              "      border: none;\n",
              "      border-radius: 50%;\n",
              "      cursor: pointer;\n",
              "      display: none;\n",
              "      fill: #1967D2;\n",
              "      height: 32px;\n",
              "      padding: 0 0 0 0;\n",
              "      width: 32px;\n",
              "    }\n",
              "\n",
              "    .colab-df-convert:hover {\n",
              "      background-color: #E2EBFA;\n",
              "      box-shadow: 0px 1px 2px rgba(60, 64, 67, 0.3), 0px 1px 3px 1px rgba(60, 64, 67, 0.15);\n",
              "      fill: #174EA6;\n",
              "    }\n",
              "\n",
              "    [theme=dark] .colab-df-convert {\n",
              "      background-color: #3B4455;\n",
              "      fill: #D2E3FC;\n",
              "    }\n",
              "\n",
              "    [theme=dark] .colab-df-convert:hover {\n",
              "      background-color: #434B5C;\n",
              "      box-shadow: 0px 1px 3px 1px rgba(0, 0, 0, 0.15);\n",
              "      filter: drop-shadow(0px 1px 2px rgba(0, 0, 0, 0.3));\n",
              "      fill: #FFFFFF;\n",
              "    }\n",
              "  </style>\n",
              "\n",
              "      <script>\n",
              "        const buttonEl =\n",
              "          document.querySelector('#df-0f28d30e-6be4-428e-a805-9d37e5097889 button.colab-df-convert');\n",
              "        buttonEl.style.display =\n",
              "          google.colab.kernel.accessAllowed ? 'block' : 'none';\n",
              "\n",
              "        async function convertToInteractive(key) {\n",
              "          const element = document.querySelector('#df-0f28d30e-6be4-428e-a805-9d37e5097889');\n",
              "          const dataTable =\n",
              "            await google.colab.kernel.invokeFunction('convertToInteractive',\n",
              "                                                     [key], {});\n",
              "          if (!dataTable) return;\n",
              "\n",
              "          const docLinkHtml = 'Like what you see? Visit the ' +\n",
              "            '<a target=\"_blank\" href=https://colab.research.google.com/notebooks/data_table.ipynb>data table notebook</a>'\n",
              "            + ' to learn more about interactive tables.';\n",
              "          element.innerHTML = '';\n",
              "          dataTable['output_type'] = 'display_data';\n",
              "          await google.colab.output.renderOutput(dataTable, element);\n",
              "          const docLink = document.createElement('div');\n",
              "          docLink.innerHTML = docLinkHtml;\n",
              "          element.appendChild(docLink);\n",
              "        }\n",
              "      </script>\n",
              "    </div>\n",
              "  </div>\n",
              "  "
            ]
          },
          "metadata": {},
          "execution_count": 27
        }
      ]
    },
    {
      "cell_type": "code",
      "metadata": {
        "id": "E-gchIEJ4t2d"
      },
      "source": [
        "# заменим модель на логистическую регрессиию\n",
        "# кому интересно, отличия логистической регрессии от LDA: \n",
        "# https://www.introspective-mode.org/logistic-regression-or-discriminant-function-analysis/\n",
        "# Основные моменты:\n",
        "# LR может работать с категориальными признаками \n",
        "# зависимая переменная в LR подчиняется логистической функции (изменяется от 0 до 1) и непрерывна\n",
        "from sklearn.linear_model import LogisticRegression"
      ],
      "execution_count": null,
      "outputs": []
    },
    {
      "cell_type": "code",
      "metadata": {
        "id": "R4NDgweF41cm"
      },
      "source": [
        "from sklearn.linear_model import LogisticRegression \n",
        "lr = LogisticRegression()"
      ],
      "execution_count": null,
      "outputs": []
    },
    {
      "cell_type": "code",
      "metadata": {
        "id": "badyR0Tj43nx",
        "colab": {
          "base_uri": "https://localhost:8080/"
        },
        "outputId": "e5973faa-dbe7-415c-ec96-830ecf53f7e5"
      },
      "source": [
        "lr.fit(small_train, y_train)"
      ],
      "execution_count": null,
      "outputs": [
        {
          "output_type": "execute_result",
          "data": {
            "text/plain": [
              "LogisticRegression()"
            ]
          },
          "metadata": {},
          "execution_count": 42
        }
      ]
    },
    {
      "cell_type": "code",
      "metadata": {
        "id": "NfqW9uR9481f",
        "colab": {
          "base_uri": "https://localhost:8080/"
        },
        "outputId": "b53c4994-cc51-4204-8bcb-de1ddc1e99ea"
      },
      "source": [
        "lr.predict(small_test)"
      ],
      "execution_count": null,
      "outputs": [
        {
          "output_type": "execute_result",
          "data": {
            "text/plain": [
              "array([0, 0, 2, 0, 1, 0, 1, 2, 0, 2, 0, 1, 1, 1, 0, 1, 1, 1, 0, 1, 0, 0,\n",
              "       2, 2, 2, 2, 1, 0, 1, 0, 1, 1, 2, 0, 0, 0, 2, 2, 0, 2, 1, 1, 1, 1,\n",
              "       2])"
            ]
          },
          "metadata": {},
          "execution_count": 43
        }
      ]
    },
    {
      "cell_type": "code",
      "metadata": {
        "id": "DNUNJ6NLby5J",
        "colab": {
          "base_uri": "https://localhost:8080/"
        },
        "outputId": "0dfcd96c-1b0f-4b3a-aef5-72c08e09272e"
      },
      "source": [
        "# вероятность принадлежности к тому или иному классу\n",
        "lr.predict_proba(small_test)"
      ],
      "execution_count": null,
      "outputs": [
        {
          "output_type": "execute_result",
          "data": {
            "text/plain": [
              "array([[7.56315717e-01, 2.42697431e-01, 9.86852178e-04],\n",
              "       [5.42061819e-01, 4.52843490e-01, 5.09469115e-03],\n",
              "       [8.53373614e-04, 3.62038881e-02, 9.62942738e-01],\n",
              "       [8.58097850e-01, 1.41530850e-01, 3.71299934e-04],\n",
              "       [1.20564684e-01, 8.51587157e-01, 2.78481588e-02],\n",
              "       [8.33120043e-01, 1.66221700e-01, 6.58256678e-04],\n",
              "       [6.43497819e-02, 8.28135786e-01, 1.07514432e-01],\n",
              "       [3.35801055e-03, 1.21839544e-01, 8.74802446e-01],\n",
              "       [7.55525954e-01, 2.42549226e-01, 1.92482047e-03],\n",
              "       [9.97058289e-04, 7.36030133e-02, 9.25399928e-01],\n",
              "       [5.86569969e-01, 4.05915005e-01, 7.51502572e-03],\n",
              "       [1.00038895e-01, 5.55831728e-01, 3.44129377e-01],\n",
              "       [4.32620704e-01, 5.64484610e-01, 2.89468530e-03],\n",
              "       [2.29300956e-02, 6.69161853e-01, 3.07908052e-01],\n",
              "       [7.51728984e-01, 2.46250167e-01, 2.02084982e-03],\n",
              "       [2.61788671e-01, 7.21911814e-01, 1.62995145e-02],\n",
              "       [2.45880961e-01, 6.79717516e-01, 7.44015224e-02],\n",
              "       [9.48186628e-02, 6.14480082e-01, 2.90701256e-01],\n",
              "       [7.14717933e-01, 2.84865779e-01, 4.16288682e-04],\n",
              "       [3.79034286e-01, 5.95483208e-01, 2.54825066e-02],\n",
              "       [9.44075709e-01, 5.59149304e-02, 9.36029970e-06],\n",
              "       [5.19476723e-01, 4.80335932e-01, 1.87345046e-04],\n",
              "       [1.57299687e-02, 3.94362344e-01, 5.89907688e-01],\n",
              "       [8.45712593e-03, 1.10075639e-01, 8.81467235e-01],\n",
              "       [1.07793898e-03, 8.71196852e-02, 9.11802376e-01],\n",
              "       [2.50166033e-03, 1.38996467e-01, 8.58501872e-01],\n",
              "       [1.99698463e-01, 7.67232505e-01, 3.30690328e-02],\n",
              "       [5.87903094e-01, 4.06188545e-01, 5.90836096e-03],\n",
              "       [6.44096849e-02, 6.62631718e-01, 2.72958597e-01],\n",
              "       [6.14503259e-01, 3.82591868e-01, 2.90487338e-03],\n",
              "       [2.99456806e-01, 6.86730958e-01, 1.38122364e-02],\n",
              "       [3.86621742e-01, 6.03536959e-01, 9.84129911e-03],\n",
              "       [1.37527436e-03, 1.25951410e-01, 8.72673315e-01],\n",
              "       [7.57951490e-01, 2.41674060e-01, 3.74449193e-04],\n",
              "       [5.85910262e-01, 4.11090740e-01, 2.99899791e-03],\n",
              "       [9.04909895e-01, 9.50204690e-02, 6.96364365e-05],\n",
              "       [4.19927952e-02, 3.47414049e-01, 6.10593156e-01],\n",
              "       [1.47755236e-03, 5.63313607e-02, 9.42191087e-01],\n",
              "       [8.65481695e-01, 1.34500049e-01, 1.82553291e-05],\n",
              "       [1.71380460e-02, 2.38194644e-01, 7.44667310e-01],\n",
              "       [4.05154652e-01, 5.91521863e-01, 3.32348551e-03],\n",
              "       [1.33316578e-01, 8.41565620e-01, 2.51178018e-02],\n",
              "       [1.61660578e-01, 7.76715236e-01, 6.16241865e-02],\n",
              "       [3.55251542e-02, 5.13640458e-01, 4.50834388e-01],\n",
              "       [4.41505104e-03, 1.77897060e-01, 8.17687889e-01]])"
            ]
          },
          "metadata": {},
          "execution_count": 44
        }
      ]
    },
    {
      "cell_type": "code",
      "metadata": {
        "id": "qqFys9hT4_Eo",
        "colab": {
          "base_uri": "https://localhost:8080/"
        },
        "outputId": "65de72d4-22a7-4f11-e33c-4c9ff27bfad9"
      },
      "source": [
        "accuracy_score(y_test, lr.predict(small_test))"
      ],
      "execution_count": null,
      "outputs": [
        {
          "output_type": "execute_result",
          "data": {
            "text/plain": [
              "0.8"
            ]
          },
          "metadata": {},
          "execution_count": 47
        }
      ]
    },
    {
      "cell_type": "code",
      "metadata": {
        "id": "1Ei0UlN55CZ_",
        "colab": {
          "base_uri": "https://localhost:8080/"
        },
        "outputId": "6438e676-bcba-4a1e-ec40-61e49bdc5cc1"
      },
      "source": [
        "lr.coef_"
      ],
      "execution_count": null,
      "outputs": [
        {
          "output_type": "execute_result",
          "data": {
            "text/plain": [
              "array([[ 0.34145518,  2.46350785],\n",
              "       [-1.24113815,  0.44535339],\n",
              "       [ 0.89968298, -2.90886124]])"
            ]
          },
          "metadata": {},
          "execution_count": 34
        }
      ]
    },
    {
      "cell_type": "code",
      "metadata": {
        "id": "eTw2FBQh5GKr",
        "colab": {
          "base_uri": "https://localhost:8080/",
          "height": 320
        },
        "outputId": "d77ada72-bc79-4711-9f80-c850cd31383e"
      },
      "source": [
        "plt.scatter(small_train['ash'], small_train['flavanoids'], c=y_train)\n",
        "\n",
        "nx, ny = 200, 100\n",
        "x_min, x_max = plt.xlim()\n",
        "y_min, y_max = plt.ylim()\n",
        "xx, yy = np.meshgrid(np.linspace(x_min, x_max, nx),\n",
        "                         np.linspace(y_min, y_max, ny))\n",
        "Z = lr.predict_proba(np.c_[xx.ravel(), yy.ravel()])\n",
        "Z = Z[:, 1].reshape(xx.shape)\n",
        "plt.pcolormesh(xx, yy, Z, cmap='red_blue_classes',\n",
        "                   norm=colors.Normalize(0., 1.), zorder=-1, shading='auto')\n",
        "plt.contour(xx, yy, Z, [0.5], linewidths=2., colors='white')\n",
        "\n",
        "plt.show()"
      ],
      "execution_count": null,
      "outputs": [
        {
          "output_type": "stream",
          "name": "stderr",
          "text": [
            "/usr/local/lib/python3.8/dist-packages/sklearn/base.py:450: UserWarning: X does not have valid feature names, but LogisticRegression was fitted with feature names\n",
            "  warnings.warn(\n"
          ]
        },
        {
          "output_type": "display_data",
          "data": {
            "text/plain": [
              "<Figure size 432x288 with 1 Axes>"
            ],
            "image/png": "[encoded data removed]"
          },
          "metadata": {
            "needs_background": "light"
          }
        }
      ]
    },
    {
      "cell_type": "code",
      "source": [
        "plt.scatter(small_test['ash'], small_test['flavanoids'], c=lr.predict(small_test))\n",
        "\n",
        "nx, ny = 200, 100\n",
        "xx, yy = np.meshgrid(np.linspace(x_min, x_max, nx),\n",
        "                         np.linspace(y_min, y_max, ny))\n",
        "\n",
        "Z = lr.predict_proba(np.c_[xx.ravel(), yy.ravel()])\n",
        "Z = Z[:, 1].reshape(xx.shape)\n",
        "\n",
        "plt.pcolormesh(xx, yy, Z, cmap='red_blue_classes',\n",
        "                   norm=colors.Normalize(0., 1.), zorder=-1, shading='auto')\n",
        "\n",
        "plt.contour(xx, yy, Z, [0.5], linewidths=2., colors='white')\n",
        "plt.show()"
      ],
      "metadata": {
        "colab": {
          "base_uri": "https://localhost:8080/",
          "height": 320
        },
        "id": "VMULJquwW6qL",
        "outputId": "62f929a1-8562-4f0c-b6c8-b7cd7c5089df"
      },
      "execution_count": null,
      "outputs": [
        {
          "output_type": "stream",
          "name": "stderr",
          "text": [
            "/usr/local/lib/python3.8/dist-packages/sklearn/base.py:450: UserWarning: X does not have valid feature names, but LogisticRegression was fitted with feature names\n",
            "  warnings.warn(\n"
          ]
        },
        {
          "output_type": "display_data",
          "data": {
            "text/plain": [
              "<Figure size 432x288 with 1 Axes>"
            ],
            "image/png": "[encoded data removed]"
          },
          "metadata": {
            "needs_background": "light"
          }
        }
      ]
    },
    {
      "cell_type": "markdown",
      "metadata": {
        "id": "UJefBk-e58kX"
      },
      "source": [
        "## Кластеризация"
      ]
    },
    {
      "cell_type": "code",
      "metadata": {
        "id": "ZK-UchxSXREG"
      },
      "source": [
        "# генерируем искусвтенные данные для примера\n",
        "from sklearn.datasets import make_blobs"
      ],
      "execution_count": null,
      "outputs": []
    },
    {
      "cell_type": "code",
      "metadata": {
        "id": "_NxdrQ7RXSF5"
      },
      "source": [
        "# 200 точек с 2 центрами, СКО - 2.5\n",
        "X, y = make_blobs(n_samples=200, centers=2, cluster_std=2.5)"
      ],
      "execution_count": null,
      "outputs": []
    },
    {
      "cell_type": "code",
      "metadata": {
        "id": "Ih7skwiwby5N",
        "colab": {
          "base_uri": "https://localhost:8080/"
        },
        "outputId": "dd1ad8cd-c3fb-482e-ae4f-d6458b16b08b"
      },
      "source": [
        "X"
      ],
      "execution_count": null,
      "outputs": [
        {
          "output_type": "execute_result",
          "data": {
            "text/plain": [
              "array([[ 11.21896021,  -8.74255588],\n",
              "       [  6.11312834,   4.28792292],\n",
              "       [  4.06192183,   2.36235859],\n",
              "       [  4.06633515, -10.5434506 ],\n",
              "       [  7.73830994, -12.20052595],\n",
              "       [  5.76760104,  -7.89725266],\n",
              "       [  1.22256388,   8.61402951],\n",
              "       [  3.83874759,   7.98569443],\n",
              "       [  4.14161788, -11.07142535],\n",
              "       [ -2.90707119,   4.77512561],\n",
              "       [  0.91044429,   4.11298094],\n",
              "       [  5.94177704,   6.58829902],\n",
              "       [  0.27512183,  10.14719688],\n",
              "       [  0.39901095,   8.00430882],\n",
              "       [  3.62540839,   7.40354206],\n",
              "       [  2.20437376,   9.09170366],\n",
              "       [  9.37351447,  -6.40848814],\n",
              "       [  1.31607216,   6.39073526],\n",
              "       [  2.45353536,  -6.20933275],\n",
              "       [  7.5647451 ,  -6.89871338],\n",
              "       [  4.15511928,  11.90125458],\n",
              "       [  2.68359541,   9.69149896],\n",
              "       [  5.28166815,  -6.04439172],\n",
              "       [  7.67594469, -11.77504172],\n",
              "       [  3.39995755,  -8.20201772],\n",
              "       [  2.20463666,  -6.54768869],\n",
              "       [  6.10130964,  -9.88431943],\n",
              "       [  0.71082007,   4.87389314],\n",
              "       [  4.33819173,  -5.88925526],\n",
              "       [  4.82127687,  10.93772019],\n",
              "       [  5.30693697,  -4.99743763],\n",
              "       [  7.68098658,   1.14766348],\n",
              "       [  4.52599894,   9.601544  ],\n",
              "       [  7.03366173,   7.10995208],\n",
              "       [  8.21818038,   8.84070825],\n",
              "       [  8.14611175,  -5.87056867],\n",
              "       [  4.93895624,   9.22987492],\n",
              "       [  6.13806354, -10.10268525],\n",
              "       [  1.99791254,  12.27109554],\n",
              "       [  7.24715181,   6.38538143],\n",
              "       [  5.99047438, -15.30239272],\n",
              "       [  2.32162127,  11.34671913],\n",
              "       [  4.31322873,   5.8275618 ],\n",
              "       [  3.26653471,   2.57725219],\n",
              "       [  9.03289339,  -2.64392061],\n",
              "       [  3.66152379,  -6.9486975 ],\n",
              "       [  8.98118351,  -5.43218659],\n",
              "       [  3.37593623,   6.47995938],\n",
              "       [  6.07676231,  -7.82859217],\n",
              "       [  1.42671846,   7.61845607],\n",
              "       [  3.97359452,  -4.74688368],\n",
              "       [  6.12209008,  -7.86239906],\n",
              "       [  6.89837464,   6.65362461],\n",
              "       [  5.34906761,  -3.19103401],\n",
              "       [  3.08354087,  -3.78075355],\n",
              "       [  2.51060846,  -8.0332542 ],\n",
              "       [  4.91728024,  -8.25050588],\n",
              "       [  7.39315296,   6.24168457],\n",
              "       [  3.37719953,   8.69366425],\n",
              "       [  9.76234746,  -3.94183139],\n",
              "       [  1.5237273 , -11.04710279],\n",
              "       [  6.02409064,  11.64324042],\n",
              "       [  1.77435309,   6.32912585],\n",
              "       [  1.5557516 ,   4.36375551],\n",
              "       [  6.84137818,  -9.77290279],\n",
              "       [  2.02915574,   8.5727537 ],\n",
              "       [  4.52759948,  -7.405236  ],\n",
              "       [  5.30223465, -12.04755127],\n",
              "       [  6.88068208,  -7.71252476],\n",
              "       [  8.31873961,  -7.17759354],\n",
              "       [  6.80518128,  -4.92221764],\n",
              "       [  6.3137855 ,  -2.33918275],\n",
              "       [  5.78652107,  -4.61546071],\n",
              "       [  3.77831896, -12.15349758],\n",
              "       [  4.24338159,  -6.37921776],\n",
              "       [  7.741186  ,   5.21817651],\n",
              "       [  3.99937194,  10.33525038],\n",
              "       [  1.56303778,   8.96553142],\n",
              "       [  5.37116876,  -6.0555281 ],\n",
              "       [  5.53817288,  -6.81433727],\n",
              "       [  2.76212389,   4.6702278 ],\n",
              "       [  4.76177575,   8.05475237],\n",
              "       [  7.46876993,  -7.980946  ],\n",
              "       [ -1.5368118 ,   5.60393935],\n",
              "       [  3.46367807,  -8.2546897 ],\n",
              "       [ -3.0527215 ,   4.47113811],\n",
              "       [  0.81660258,   6.96237753],\n",
              "       [  2.43620871,   4.53465793],\n",
              "       [  3.7806333 ,   4.71362153],\n",
              "       [  1.81282236,   5.63597151],\n",
              "       [  1.74658824,  -6.9498781 ],\n",
              "       [  8.62179775,  -8.0788375 ],\n",
              "       [  9.58470435,  -7.72276475],\n",
              "       [  6.84357146,  -9.41982569],\n",
              "       [  3.11428383,  -8.3816719 ],\n",
              "       [  6.30133877,  -4.34818692],\n",
              "       [  6.11314776,  -9.22400705],\n",
              "       [  4.04008635,  -7.96656776],\n",
              "       [  9.22022571, -10.9003962 ],\n",
              "       [  0.21121781,   7.5370384 ],\n",
              "       [  7.28710756,  -5.52396214],\n",
              "       [  4.84837721,  -6.54999241],\n",
              "       [  3.82512816,   6.5934305 ],\n",
              "       [  6.79082539,  -4.35404314],\n",
              "       [  2.96075113,   7.70029886],\n",
              "       [  4.27005561,   7.8156633 ],\n",
              "       [  5.41619702, -11.59504325],\n",
              "       [  6.39819683, -12.17714156],\n",
              "       [  3.19094641,   8.73545194],\n",
              "       [  6.31893622,  -7.94387111],\n",
              "       [  1.37255006,   7.30982613],\n",
              "       [  7.18813987,  -8.66481206],\n",
              "       [ -1.32554846,   6.95392157],\n",
              "       [  6.16029412,  -8.81290451],\n",
              "       [  1.11561398,   3.08838743],\n",
              "       [  6.28983985,  -9.35455761],\n",
              "       [  5.36580263,  -7.60048045],\n",
              "       [  1.15988528,   4.36263109],\n",
              "       [  0.14985503,   8.46689501],\n",
              "       [  3.64106666,  -5.46415038],\n",
              "       [  8.26171104,  -7.86826451],\n",
              "       [  5.09993419,  -7.79798656],\n",
              "       [  0.63263885,  -2.34945392],\n",
              "       [ -1.26938144,   8.11427265],\n",
              "       [  5.72536921,  -5.00453259],\n",
              "       [  4.66964092,  10.89625431],\n",
              "       [  5.34448284,   4.07348789],\n",
              "       [  5.05420555,   4.51526139],\n",
              "       [  0.71520954,   3.75856118],\n",
              "       [  5.88684277,  -5.69612343],\n",
              "       [  4.94462   ,  -6.24468029],\n",
              "       [ -1.17878113,  10.80072496],\n",
              "       [  4.9485513 , -12.54195055],\n",
              "       [  3.17042299,   4.4613498 ],\n",
              "       [  4.67348053,  10.18289751],\n",
              "       [  2.2319775 ,  12.63458615],\n",
              "       [  4.54535502,  -5.21939637],\n",
              "       [  5.15183189,  12.97537755],\n",
              "       [ -1.55802189,  -3.83141506],\n",
              "       [ -0.87480358,  -7.33948022],\n",
              "       [  5.43228721,   3.04956552],\n",
              "       [  8.15001347,  -3.84069054],\n",
              "       [  4.66450566,   3.89763038],\n",
              "       [  7.7182424 ,  -5.63128805],\n",
              "       [  3.21334381,   8.95910225],\n",
              "       [ 12.56818094,  -8.86515952],\n",
              "       [  2.21244132,   6.28237044],\n",
              "       [  4.86966226,   3.91386336],\n",
              "       [  1.8496595 ,   9.30132214],\n",
              "       [  2.16727583,   7.79386035],\n",
              "       [  4.16712983,   7.4523488 ],\n",
              "       [  2.11744981,   8.55549688],\n",
              "       [  1.85679953,   9.32510225],\n",
              "       [  1.6824814 , -13.03652535],\n",
              "       [  3.15535757, -12.01213545],\n",
              "       [  4.29566804,  -7.699113  ],\n",
              "       [  4.10754778,  11.39195326],\n",
              "       [  7.54666861,  -6.67308736],\n",
              "       [ -4.48270567,   3.1934876 ],\n",
              "       [  5.49598043,  -8.68629832],\n",
              "       [  7.81914912,  -8.61335389],\n",
              "       [  9.55908225,  -9.41439259],\n",
              "       [  3.97771076,   5.4872666 ],\n",
              "       [  5.73747051,   8.53028072],\n",
              "       [  3.30444611,  10.55408047],\n",
              "       [  5.27122731,  -6.93414976],\n",
              "       [  6.91769571,   6.40125439],\n",
              "       [  5.44351293,  -4.25449398],\n",
              "       [  0.59295988,   6.91189751],\n",
              "       [  1.64460619,  -8.30899316],\n",
              "       [  0.07612808,   6.4746993 ],\n",
              "       [  0.6606616 ,   8.98459874],\n",
              "       [  2.38436126,   6.80410255],\n",
              "       [  6.42249948,  -6.43590896],\n",
              "       [  8.16661245,  -6.45530483],\n",
              "       [  4.05586773,  -7.59185114],\n",
              "       [  2.80273431,   8.54196864],\n",
              "       [  5.00625102,  -5.40520608],\n",
              "       [ 10.86348695,  -7.53608751],\n",
              "       [  6.3985618 ,  -5.57454506],\n",
              "       [  8.58105522,   7.46337552],\n",
              "       [  0.87990754,   7.62477872],\n",
              "       [  1.83846166,  -8.45836241],\n",
              "       [  3.43037419,   4.00117851],\n",
              "       [  7.75479163,  -5.64448614],\n",
              "       [  1.59340477,  11.4168366 ],\n",
              "       [ -1.2220876 ,  10.33728996],\n",
              "       [ -0.04107905,   9.38953202],\n",
              "       [  5.01747605,   7.16403038],\n",
              "       [  2.79507366,   9.38278422],\n",
              "       [  7.39712769,  -7.77609323],\n",
              "       [  4.89319308,  -5.05182686],\n",
              "       [ -3.06656353,   4.55577289],\n",
              "       [  3.35196624,   6.17379104],\n",
              "       [  7.68249791, -10.33986092],\n",
              "       [  0.18948169,   4.98714707],\n",
              "       [  5.71315433,  -9.12422964],\n",
              "       [  3.82266674,   8.63159727],\n",
              "       [  7.21742567,  -5.6601285 ],\n",
              "       [  2.59175803,   5.38149607]])"
            ]
          },
          "metadata": {},
          "execution_count": 51
        }
      ]
    },
    {
      "cell_type": "code",
      "metadata": {
        "id": "TjSYaC57XUeq",
        "scrolled": true,
        "colab": {
          "base_uri": "https://localhost:8080/",
          "height": 282
        },
        "outputId": "e2badc3f-018d-4bcd-92b5-6cb16e0c1d62"
      },
      "source": [
        "plt.scatter(X[:, 0], X[:, 1], cmap='autumn', s=60)"
      ],
      "execution_count": null,
      "outputs": [
        {
          "output_type": "execute_result",
          "data": {
            "text/plain": [
              "<matplotlib.collections.PathCollection at 0x7f2b808d4910>"
            ]
          },
          "metadata": {},
          "execution_count": 52
        },
        {
          "output_type": "display_data",
          "data": {
            "text/plain": [
              "<Figure size 432x288 with 1 Axes>"
            ],
            "image/png": "[encoded data removed]"
          },
          "metadata": {
            "needs_background": "light"
          }
        }
      ]
    },
    {
      "cell_type": "code",
      "metadata": {
        "id": "bWdNYOIqzzO-"
      },
      "source": [
        "# приведем данные к единому масштабу\n",
        "from sklearn.preprocessing import StandardScaler"
      ],
      "execution_count": null,
      "outputs": []
    },
    {
      "cell_type": "code",
      "metadata": {
        "id": "NzLJH0GBXGwQ"
      },
      "source": [
        "scaler = StandardScaler()"
      ],
      "execution_count": null,
      "outputs": []
    },
    {
      "cell_type": "markdown",
      "metadata": {
        "id": "JcyHcWN-by5Q"
      },
      "source": [
        "В реальных задачах при разделении выборки на train и test нужно обучать StandardScaler только на тренировочных данных (и применять уже к тестовым данным).\n"
      ]
    },
    {
      "cell_type": "code",
      "metadata": {
        "id": "ZjwJ2Nbxby5Q"
      },
      "source": [
        "v_1 = np.array(np.random.randint(0, 1000, 500))\n",
        "v_2 = np.array(np.random.randint(0, 10, 500))"
      ],
      "execution_count": null,
      "outputs": []
    },
    {
      "cell_type": "code",
      "source": [],
      "metadata": {
        "id": "1_6LhdtcFuw2"
      },
      "execution_count": null,
      "outputs": []
    },
    {
      "cell_type": "code",
      "metadata": {
        "id": "ejb3KNymby5R",
        "colab": {
          "base_uri": "https://localhost:8080/"
        },
        "outputId": "b54f0d83-290f-46b3-ad77-d3863c646c90"
      },
      "source": [
        "print(v_1.max())\n",
        "print(v_1.min())\n",
        "\n",
        "print(v_2.max())\n",
        "print(v_2.min())"
      ],
      "execution_count": null,
      "outputs": [
        {
          "output_type": "stream",
          "name": "stdout",
          "text": [
            "996\n",
            "0\n",
            "9\n",
            "0\n"
          ]
        }
      ]
    },
    {
      "cell_type": "code",
      "metadata": {
        "id": "l6wzLVZ-by5R",
        "colab": {
          "base_uri": "https://localhost:8080/"
        },
        "outputId": "0e40bc4b-2e67-4e47-916e-5179859b508f"
      },
      "source": [
        "v_1_scaled = scaler.fit_transform(v_1.reshape(-1, 1))\n",
        "v_1_scaled\n",
        "v_2_scaled = scaler.fit_transform(v_2.reshape(-1, 1))\n",
        "v_2_scaled"
      ],
      "execution_count": null,
      "outputs": [
        {
          "output_type": "execute_result",
          "data": {
            "text/plain": [
              "array([[-0.5049377 ],\n",
              "       [-0.8522126 ],\n",
              "       [-1.19948749],\n",
              "       [ 0.53688699],\n",
              "       [ 0.88416189],\n",
              "       [ 0.18961209],\n",
              "       [-0.5049377 ],\n",
              "       [ 1.57871168],\n",
              "       [-1.19948749],\n",
              "       [-1.19948749],\n",
              "       [-0.8522126 ],\n",
              "       [-0.5049377 ],\n",
              "       [-0.1576628 ],\n",
              "       [ 0.18961209],\n",
              "       [ 1.57871168],\n",
              "       [ 1.57871168],\n",
              "       [-0.5049377 ],\n",
              "       [-0.8522126 ],\n",
              "       [ 0.18961209],\n",
              "       [ 1.23143678],\n",
              "       [ 1.57871168],\n",
              "       [-0.1576628 ],\n",
              "       [ 1.23143678],\n",
              "       [-1.54676239],\n",
              "       [-0.8522126 ],\n",
              "       [ 0.88416189],\n",
              "       [ 1.23143678],\n",
              "       [ 0.53688699],\n",
              "       [-1.19948749],\n",
              "       [ 1.23143678],\n",
              "       [ 0.18961209],\n",
              "       [ 0.88416189],\n",
              "       [-0.1576628 ],\n",
              "       [ 0.53688699],\n",
              "       [ 0.88416189],\n",
              "       [ 0.88416189],\n",
              "       [-0.8522126 ],\n",
              "       [-0.8522126 ],\n",
              "       [ 0.53688699],\n",
              "       [-0.1576628 ],\n",
              "       [ 0.18961209],\n",
              "       [-1.54676239],\n",
              "       [-0.5049377 ],\n",
              "       [-0.5049377 ],\n",
              "       [ 1.23143678],\n",
              "       [ 0.53688699],\n",
              "       [-0.1576628 ],\n",
              "       [ 0.18961209],\n",
              "       [ 1.57871168],\n",
              "       [ 1.57871168],\n",
              "       [-0.8522126 ],\n",
              "       [-0.1576628 ],\n",
              "       [-0.1576628 ],\n",
              "       [-0.1576628 ],\n",
              "       [-1.19948749],\n",
              "       [ 1.57871168],\n",
              "       [ 0.53688699],\n",
              "       [-1.54676239],\n",
              "       [ 1.23143678],\n",
              "       [-0.5049377 ],\n",
              "       [ 0.53688699],\n",
              "       [ 0.88416189],\n",
              "       [ 1.57871168],\n",
              "       [-0.8522126 ],\n",
              "       [-1.19948749],\n",
              "       [-0.8522126 ],\n",
              "       [ 1.57871168],\n",
              "       [-1.54676239],\n",
              "       [ 1.57871168],\n",
              "       [-1.54676239],\n",
              "       [-0.8522126 ],\n",
              "       [ 0.88416189],\n",
              "       [-1.54676239],\n",
              "       [ 0.53688699],\n",
              "       [ 1.57871168],\n",
              "       [-0.5049377 ],\n",
              "       [-0.5049377 ],\n",
              "       [ 0.53688699],\n",
              "       [-1.19948749],\n",
              "       [-0.1576628 ],\n",
              "       [-0.8522126 ],\n",
              "       [ 0.53688699],\n",
              "       [ 0.18961209],\n",
              "       [ 0.53688699],\n",
              "       [ 1.23143678],\n",
              "       [-0.5049377 ],\n",
              "       [ 0.53688699],\n",
              "       [ 0.18961209],\n",
              "       [-1.54676239],\n",
              "       [ 0.18961209],\n",
              "       [-0.5049377 ],\n",
              "       [ 0.88416189],\n",
              "       [ 1.23143678],\n",
              "       [-0.8522126 ],\n",
              "       [-0.1576628 ],\n",
              "       [-1.19948749],\n",
              "       [ 1.57871168],\n",
              "       [ 1.23143678],\n",
              "       [-0.5049377 ],\n",
              "       [ 0.88416189],\n",
              "       [-0.1576628 ],\n",
              "       [ 1.57871168],\n",
              "       [-0.8522126 ],\n",
              "       [-0.1576628 ],\n",
              "       [ 0.88416189],\n",
              "       [-0.8522126 ],\n",
              "       [-0.1576628 ],\n",
              "       [ 1.23143678],\n",
              "       [-1.19948749],\n",
              "       [ 0.18961209],\n",
              "       [ 1.57871168],\n",
              "       [-1.54676239],\n",
              "       [-1.19948749],\n",
              "       [-0.1576628 ],\n",
              "       [-0.1576628 ],\n",
              "       [-0.1576628 ],\n",
              "       [ 1.23143678],\n",
              "       [-0.8522126 ],\n",
              "       [-0.1576628 ],\n",
              "       [ 0.53688699],\n",
              "       [-1.54676239],\n",
              "       [-0.8522126 ],\n",
              "       [-1.19948749],\n",
              "       [-0.8522126 ],\n",
              "       [ 1.57871168],\n",
              "       [ 0.88416189],\n",
              "       [-1.54676239],\n",
              "       [ 1.23143678],\n",
              "       [-1.19948749],\n",
              "       [-0.5049377 ],\n",
              "       [ 1.57871168],\n",
              "       [-0.5049377 ],\n",
              "       [ 1.23143678],\n",
              "       [ 0.53688699],\n",
              "       [-1.54676239],\n",
              "       [-0.5049377 ],\n",
              "       [-0.5049377 ],\n",
              "       [-1.54676239],\n",
              "       [-1.19948749],\n",
              "       [-0.5049377 ],\n",
              "       [-0.1576628 ],\n",
              "       [-0.1576628 ],\n",
              "       [ 1.57871168],\n",
              "       [ 0.88416189],\n",
              "       [-0.8522126 ],\n",
              "       [-0.8522126 ],\n",
              "       [-0.1576628 ],\n",
              "       [ 1.23143678],\n",
              "       [ 0.18961209],\n",
              "       [-0.1576628 ],\n",
              "       [-0.8522126 ],\n",
              "       [-0.1576628 ],\n",
              "       [ 0.18961209],\n",
              "       [-0.1576628 ],\n",
              "       [-1.19948749],\n",
              "       [-0.8522126 ],\n",
              "       [-1.54676239],\n",
              "       [-1.19948749],\n",
              "       [ 0.18961209],\n",
              "       [-1.19948749],\n",
              "       [ 1.23143678],\n",
              "       [ 0.53688699],\n",
              "       [-1.54676239],\n",
              "       [ 1.57871168],\n",
              "       [-0.1576628 ],\n",
              "       [-1.54676239],\n",
              "       [-0.8522126 ],\n",
              "       [ 0.18961209],\n",
              "       [ 1.57871168],\n",
              "       [ 0.88416189],\n",
              "       [ 1.57871168],\n",
              "       [ 0.53688699],\n",
              "       [ 0.88416189],\n",
              "       [ 0.18961209],\n",
              "       [ 0.18961209],\n",
              "       [ 0.88416189],\n",
              "       [ 0.88416189],\n",
              "       [ 1.57871168],\n",
              "       [-0.1576628 ],\n",
              "       [-0.1576628 ],\n",
              "       [ 1.23143678],\n",
              "       [ 1.57871168],\n",
              "       [-0.5049377 ],\n",
              "       [ 0.88416189],\n",
              "       [-0.8522126 ],\n",
              "       [-1.19948749],\n",
              "       [-0.5049377 ],\n",
              "       [-0.1576628 ],\n",
              "       [-0.8522126 ],\n",
              "       [-0.8522126 ],\n",
              "       [ 0.88416189],\n",
              "       [ 1.57871168],\n",
              "       [-0.1576628 ],\n",
              "       [-1.54676239],\n",
              "       [ 0.53688699],\n",
              "       [-0.8522126 ],\n",
              "       [ 1.23143678],\n",
              "       [-0.8522126 ],\n",
              "       [ 1.57871168],\n",
              "       [ 1.23143678],\n",
              "       [ 1.57871168],\n",
              "       [ 1.57871168],\n",
              "       [-0.8522126 ],\n",
              "       [ 1.23143678],\n",
              "       [-0.5049377 ],\n",
              "       [-0.5049377 ],\n",
              "       [ 0.53688699],\n",
              "       [-0.5049377 ],\n",
              "       [-1.54676239],\n",
              "       [-1.54676239],\n",
              "       [ 0.18961209],\n",
              "       [-1.54676239],\n",
              "       [ 0.88416189],\n",
              "       [ 0.53688699],\n",
              "       [-0.1576628 ],\n",
              "       [-1.19948749],\n",
              "       [-0.1576628 ],\n",
              "       [ 0.88416189],\n",
              "       [-0.8522126 ],\n",
              "       [-1.54676239],\n",
              "       [-0.5049377 ],\n",
              "       [-1.54676239],\n",
              "       [ 1.23143678],\n",
              "       [-0.8522126 ],\n",
              "       [-0.1576628 ],\n",
              "       [-1.19948749],\n",
              "       [-0.8522126 ],\n",
              "       [-0.8522126 ],\n",
              "       [ 0.88416189],\n",
              "       [-1.19948749],\n",
              "       [-0.5049377 ],\n",
              "       [-1.19948749],\n",
              "       [-0.5049377 ],\n",
              "       [ 1.23143678],\n",
              "       [-0.5049377 ],\n",
              "       [ 1.23143678],\n",
              "       [ 0.88416189],\n",
              "       [ 0.53688699],\n",
              "       [ 0.88416189],\n",
              "       [ 0.88416189],\n",
              "       [-1.19948749],\n",
              "       [-0.8522126 ],\n",
              "       [ 0.18961209],\n",
              "       [-0.5049377 ],\n",
              "       [-1.19948749],\n",
              "       [-0.8522126 ],\n",
              "       [ 1.57871168],\n",
              "       [ 1.57871168],\n",
              "       [-0.1576628 ],\n",
              "       [ 0.88416189],\n",
              "       [ 0.53688699],\n",
              "       [-0.1576628 ],\n",
              "       [ 0.53688699],\n",
              "       [ 1.23143678],\n",
              "       [-0.8522126 ],\n",
              "       [ 0.18961209],\n",
              "       [-0.5049377 ],\n",
              "       [ 0.18961209],\n",
              "       [-0.8522126 ],\n",
              "       [ 1.23143678],\n",
              "       [-1.54676239],\n",
              "       [-1.19948749],\n",
              "       [-0.8522126 ],\n",
              "       [ 0.88416189],\n",
              "       [-0.5049377 ],\n",
              "       [-0.1576628 ],\n",
              "       [-0.1576628 ],\n",
              "       [-1.54676239],\n",
              "       [-0.5049377 ],\n",
              "       [ 1.57871168],\n",
              "       [ 0.88416189],\n",
              "       [-1.19948749],\n",
              "       [-1.19948749],\n",
              "       [-1.19948749],\n",
              "       [-0.8522126 ],\n",
              "       [ 0.18961209],\n",
              "       [ 0.88416189],\n",
              "       [-0.1576628 ],\n",
              "       [-1.54676239],\n",
              "       [-1.19948749],\n",
              "       [-1.19948749],\n",
              "       [-1.19948749],\n",
              "       [ 1.23143678],\n",
              "       [-1.54676239],\n",
              "       [-1.19948749],\n",
              "       [ 0.18961209],\n",
              "       [ 0.18961209],\n",
              "       [ 0.18961209],\n",
              "       [ 0.18961209],\n",
              "       [-0.1576628 ],\n",
              "       [-0.5049377 ],\n",
              "       [ 1.57871168],\n",
              "       [ 1.23143678],\n",
              "       [ 0.53688699],\n",
              "       [ 1.57871168],\n",
              "       [ 0.88416189],\n",
              "       [ 0.53688699],\n",
              "       [ 1.23143678],\n",
              "       [ 0.53688699],\n",
              "       [ 1.23143678],\n",
              "       [ 1.23143678],\n",
              "       [ 1.23143678],\n",
              "       [-0.5049377 ],\n",
              "       [-1.19948749],\n",
              "       [-0.8522126 ],\n",
              "       [ 0.88416189],\n",
              "       [ 0.53688699],\n",
              "       [ 1.23143678],\n",
              "       [-1.19948749],\n",
              "       [-0.5049377 ],\n",
              "       [-0.8522126 ],\n",
              "       [ 0.88416189],\n",
              "       [-1.54676239],\n",
              "       [ 0.53688699],\n",
              "       [ 0.18961209],\n",
              "       [-0.5049377 ],\n",
              "       [ 1.57871168],\n",
              "       [-0.1576628 ],\n",
              "       [-0.5049377 ],\n",
              "       [-0.5049377 ],\n",
              "       [ 1.23143678],\n",
              "       [ 0.88416189],\n",
              "       [ 0.18961209],\n",
              "       [-0.8522126 ],\n",
              "       [ 0.18961209],\n",
              "       [ 0.88416189],\n",
              "       [ 1.57871168],\n",
              "       [-0.1576628 ],\n",
              "       [-1.19948749],\n",
              "       [-0.5049377 ],\n",
              "       [ 0.18961209],\n",
              "       [-1.54676239],\n",
              "       [-0.1576628 ],\n",
              "       [ 1.23143678],\n",
              "       [ 1.23143678],\n",
              "       [-1.54676239],\n",
              "       [ 0.18961209],\n",
              "       [-0.5049377 ],\n",
              "       [-1.19948749],\n",
              "       [-1.19948749],\n",
              "       [-0.1576628 ],\n",
              "       [ 0.53688699],\n",
              "       [ 0.18961209],\n",
              "       [ 0.88416189],\n",
              "       [-0.8522126 ],\n",
              "       [-0.8522126 ],\n",
              "       [ 1.23143678],\n",
              "       [-1.54676239],\n",
              "       [ 0.18961209],\n",
              "       [-1.54676239],\n",
              "       [ 1.57871168],\n",
              "       [ 1.23143678],\n",
              "       [-0.5049377 ],\n",
              "       [-1.19948749],\n",
              "       [-1.19948749],\n",
              "       [ 1.23143678],\n",
              "       [-0.1576628 ],\n",
              "       [-1.19948749],\n",
              "       [-1.19948749],\n",
              "       [ 1.57871168],\n",
              "       [-0.8522126 ],\n",
              "       [ 1.23143678],\n",
              "       [-1.54676239],\n",
              "       [ 1.23143678],\n",
              "       [ 0.18961209],\n",
              "       [ 0.88416189],\n",
              "       [-1.19948749],\n",
              "       [ 0.53688699],\n",
              "       [-0.8522126 ],\n",
              "       [ 0.18961209],\n",
              "       [ 1.23143678],\n",
              "       [-1.54676239],\n",
              "       [-1.54676239],\n",
              "       [ 0.88416189],\n",
              "       [ 0.18961209],\n",
              "       [-0.5049377 ],\n",
              "       [ 1.23143678],\n",
              "       [-0.5049377 ],\n",
              "       [ 1.57871168],\n",
              "       [-0.5049377 ],\n",
              "       [ 1.57871168],\n",
              "       [-0.5049377 ],\n",
              "       [ 1.23143678],\n",
              "       [-0.5049377 ],\n",
              "       [-0.5049377 ],\n",
              "       [-1.54676239],\n",
              "       [ 0.53688699],\n",
              "       [ 1.23143678],\n",
              "       [-1.54676239],\n",
              "       [-0.5049377 ],\n",
              "       [-0.1576628 ],\n",
              "       [ 1.23143678],\n",
              "       [ 0.53688699],\n",
              "       [-1.54676239],\n",
              "       [-1.19948749],\n",
              "       [ 1.57871168],\n",
              "       [-0.8522126 ],\n",
              "       [-0.1576628 ],\n",
              "       [ 1.23143678],\n",
              "       [ 0.18961209],\n",
              "       [ 0.18961209],\n",
              "       [ 0.18961209],\n",
              "       [ 0.88416189],\n",
              "       [-0.1576628 ],\n",
              "       [-0.5049377 ],\n",
              "       [ 0.53688699],\n",
              "       [ 0.88416189],\n",
              "       [ 1.57871168],\n",
              "       [-0.1576628 ],\n",
              "       [-0.8522126 ],\n",
              "       [-0.1576628 ],\n",
              "       [ 0.88416189],\n",
              "       [ 1.57871168],\n",
              "       [-0.8522126 ],\n",
              "       [-0.1576628 ],\n",
              "       [-0.5049377 ],\n",
              "       [-0.5049377 ],\n",
              "       [ 0.53688699],\n",
              "       [-0.5049377 ],\n",
              "       [-0.5049377 ],\n",
              "       [ 0.53688699],\n",
              "       [ 1.23143678],\n",
              "       [-0.5049377 ],\n",
              "       [ 1.23143678],\n",
              "       [-0.8522126 ],\n",
              "       [-1.54676239],\n",
              "       [-1.54676239],\n",
              "       [ 1.57871168],\n",
              "       [ 1.57871168],\n",
              "       [ 1.57871168],\n",
              "       [-0.8522126 ],\n",
              "       [ 1.57871168],\n",
              "       [ 0.53688699],\n",
              "       [-0.8522126 ],\n",
              "       [-0.8522126 ],\n",
              "       [-0.8522126 ],\n",
              "       [ 0.53688699],\n",
              "       [ 0.53688699],\n",
              "       [ 0.18961209],\n",
              "       [-0.8522126 ],\n",
              "       [-0.8522126 ],\n",
              "       [-1.54676239],\n",
              "       [ 1.23143678],\n",
              "       [-1.54676239],\n",
              "       [-1.54676239],\n",
              "       [-1.54676239],\n",
              "       [-0.1576628 ],\n",
              "       [ 1.57871168],\n",
              "       [-0.1576628 ],\n",
              "       [-0.1576628 ],\n",
              "       [ 1.23143678],\n",
              "       [ 0.88416189],\n",
              "       [ 1.57871168],\n",
              "       [-1.19948749],\n",
              "       [-0.5049377 ],\n",
              "       [-0.8522126 ],\n",
              "       [ 0.18961209],\n",
              "       [-0.1576628 ],\n",
              "       [ 1.57871168],\n",
              "       [ 0.53688699],\n",
              "       [ 1.57871168],\n",
              "       [ 0.18961209],\n",
              "       [ 1.23143678],\n",
              "       [-0.5049377 ],\n",
              "       [-0.1576628 ],\n",
              "       [ 1.23143678],\n",
              "       [-0.1576628 ],\n",
              "       [-1.19948749],\n",
              "       [ 0.88416189],\n",
              "       [-0.8522126 ],\n",
              "       [-0.1576628 ],\n",
              "       [-0.5049377 ],\n",
              "       [ 0.88416189],\n",
              "       [-0.8522126 ],\n",
              "       [-1.54676239],\n",
              "       [-0.8522126 ],\n",
              "       [ 1.57871168],\n",
              "       [-0.8522126 ],\n",
              "       [-1.19948749],\n",
              "       [-0.8522126 ],\n",
              "       [ 1.57871168],\n",
              "       [-1.54676239],\n",
              "       [-0.8522126 ],\n",
              "       [ 0.88416189],\n",
              "       [-0.1576628 ],\n",
              "       [ 0.88416189],\n",
              "       [ 0.88416189],\n",
              "       [ 0.53688699],\n",
              "       [ 1.57871168],\n",
              "       [-1.54676239],\n",
              "       [-1.19948749],\n",
              "       [-1.54676239],\n",
              "       [ 1.57871168],\n",
              "       [ 0.88416189],\n",
              "       [ 0.18961209],\n",
              "       [ 1.57871168],\n",
              "       [ 0.18961209],\n",
              "       [-1.54676239],\n",
              "       [ 1.57871168],\n",
              "       [-0.5049377 ]])"
            ]
          },
          "metadata": {},
          "execution_count": 59
        }
      ]
    },
    {
      "cell_type": "code",
      "metadata": {
        "id": "Q-TdaM01by5S",
        "colab": {
          "base_uri": "https://localhost:8080/"
        },
        "outputId": "1b603fb3-62d1-4974-88c5-856d937f9faa"
      },
      "source": [
        "print(v_1_scaled.max())\n",
        "print(v_1_scaled.min())\n",
        "\n",
        "print(v_2_scaled.max())\n",
        "print(v_2_scaled.min())"
      ],
      "execution_count": null,
      "outputs": [
        {
          "output_type": "stream",
          "name": "stdout",
          "text": [
            "1.8049130846654111\n",
            "-1.654491504401063\n",
            "1.5787116813665105\n",
            "-1.5467623908505141\n"
          ]
        }
      ]
    },
    {
      "cell_type": "code",
      "metadata": {
        "id": "6UC4SNUdXIru",
        "colab": {
          "base_uri": "https://localhost:8080/"
        },
        "outputId": "9206a7bf-7441-471c-c3cb-0b8e327909b7"
      },
      "source": [
        "# fit-transform сразу обучается и преобразует данные\n",
        "X_scaled = scaler.fit_transform(X)\n",
        "X_scaled"
      ],
      "execution_count": null,
      "outputs": [
        {
          "output_type": "execute_result",
          "data": {
            "text/plain": [
              "array([[ 2.381658  , -1.10202595],\n",
              "       [ 0.62778526,  0.56463622],\n",
              "       [-0.07681201,  0.31834709],\n",
              "       [-0.07529602, -1.33236922],\n",
              "       [ 1.18604134, -1.54431728],\n",
              "       [ 0.50909531, -0.99390752],\n",
              "       [-1.05214231,  1.11796648],\n",
              "       [-0.15347322,  1.03759934],\n",
              "       [-0.04943612, -1.39989978],\n",
              "       [-2.47068773,  0.62695183],\n",
              "       [-1.15935659,  0.54226028],\n",
              "       [ 0.56892543,  0.85886561],\n",
              "       [-1.37759227,  1.3140661 ],\n",
              "       [-1.33503589,  1.03998021],\n",
              "       [-0.22675605,  0.96313919],\n",
              "       [-0.71488687,  1.17906334],\n",
              "       [ 1.74774034, -0.80348723],\n",
              "       [-1.02002186,  0.83359623],\n",
              "       [-0.62929891, -0.77801428],\n",
              "       [ 1.12642116, -0.86618944],\n",
              "       [-0.04479833,  1.53841869],\n",
              "       [-0.5502724 ,  1.2557801 ],\n",
              "       [ 0.34217551, -0.75691751],\n",
              "       [ 1.16461864, -1.48989576],\n",
              "       [-0.30419927, -1.03288846],\n",
              "       [-0.71479656, -0.82129166],\n",
              "       [ 0.62372549, -1.24806311],\n",
              "       [-1.22792827,  0.63958468],\n",
              "       [ 0.01808775, -0.7370748 ],\n",
              "       [ 0.18402934,  1.41517791],\n",
              "       [ 0.35085544, -0.62300695],\n",
              "       [ 1.16635055,  0.16298163],\n",
              "       [ 0.08260025,  1.24427442],\n",
              "       [ 0.94399199,  0.92558759],\n",
              "       [ 1.35087867,  1.1469598 ],\n",
              "       [ 1.32612282, -0.73468469],\n",
              "       [ 0.22445265,  1.19673613],\n",
              "       [ 0.63635059, -1.27599317],\n",
              "       [-0.78580709,  1.58572316],\n",
              "       [ 1.01732665,  0.83291145],\n",
              "       [ 0.58565315, -1.94106126],\n",
              "       [-0.6746119 ,  1.46749088],\n",
              "       [ 0.00951287,  0.76156359],\n",
              "       [-0.35003053,  0.34583304],\n",
              "       [ 1.6307357 , -0.32198058],\n",
              "       [-0.21435027, -0.87258266],\n",
              "       [ 1.61297316, -0.67861347],\n",
              "       [-0.31245069,  0.84500844],\n",
              "       [ 0.61529338, -0.9851255 ],\n",
              "       [-0.98201444,  0.99062775],\n",
              "       [-0.10715278, -0.59095987],\n",
              "       [ 0.63086365, -0.98944957],\n",
              "       [ 0.89752036,  0.86722107],\n",
              "       [ 0.36532748, -0.39195906],\n",
              "       [-0.41288961, -0.46738709],\n",
              "       [-0.60969408, -1.01130278],\n",
              "       [ 0.21700687, -1.03909034],\n",
              "       [ 1.0674786 ,  0.81453192],\n",
              "       [-0.31201674,  1.12815215],\n",
              "       [ 1.88130596, -0.48798973],\n",
              "       [-0.94869153, -1.3967888 ],\n",
              "       [ 0.59720047,  1.50541741],\n",
              "       [-0.86260061,  0.82571609],\n",
              "       [-0.93769106,  0.57433558],\n",
              "       [ 0.87794186, -1.23381237],\n",
              "       [-0.77507493,  1.1126871 ],\n",
              "       [ 0.08315004, -0.93097617],\n",
              "       [ 0.34924018, -1.52475107],\n",
              "       [ 0.8914429 , -0.97027991],\n",
              "       [ 1.38542115, -0.90185959],\n",
              "       [ 0.86550808, -0.61338594],\n",
              "       [ 0.69671176, -0.28300311],\n",
              "       [ 0.51559441, -0.57415023],\n",
              "       [-0.17423068, -1.53830212],\n",
              "       [-0.01447989, -0.79974341],\n",
              "       [ 1.18702928,  0.68362022],\n",
              "       [-0.09829814,  1.33811907],\n",
              "       [-0.93518823,  1.16292529],\n",
              "       [ 0.37291931, -0.75834191],\n",
              "       [ 0.43028586, -0.85539733],\n",
              "       [-0.52329757,  0.61353489],\n",
              "       [ 0.16359048,  1.04643219],\n",
              "       [ 1.09345332, -1.00461231],\n",
              "       [-1.9999984 ,  0.73296118],\n",
              "       [-0.28231103, -1.03962547],\n",
              "       [-2.52071917,  0.58807034],\n",
              "       [-1.19159157,  0.90671208],\n",
              "       [-0.63525068,  0.59619484],\n",
              "       [-0.1734357 ,  0.61908516],\n",
              "       [-0.84938627,  0.73705825],\n",
              "       [-0.87213794, -0.87273366],\n",
              "       [ 1.48952278, -1.01713311],\n",
              "       [ 1.82028487, -0.97158966],\n",
              "       [ 0.87869526, -1.18865208],\n",
              "       [-0.40232929, -1.05586711],\n",
              "       [ 0.69243626, -0.5399646 ],\n",
              "       [ 0.62779193, -1.16360591],\n",
              "       [-0.08431258, -1.00277326],\n",
              "       [ 1.69508507, -1.37802431],\n",
              "       [-1.39954355,  0.98021403],\n",
              "       [ 1.0310516 , -0.69035202],\n",
              "       [ 0.19333841, -0.82158632],\n",
              "       [-0.15815154,  0.85952195],\n",
              "       [ 0.86057678, -0.54071364],\n",
              "       [-0.45506835,  1.00109584],\n",
              "       [-0.00531726,  1.01585152],\n",
              "       [ 0.38838668, -1.46687307],\n",
              "       [ 0.72570737, -1.5413263 ],\n",
              "       [-0.3759954 ,  1.133497  ],\n",
              "       [ 0.69848105, -0.99987025],\n",
              "       [-1.00062149,  0.95115247],\n",
              "       [ 0.99705582, -1.09208213],\n",
              "       [-1.92742863,  0.90563053],\n",
              "       [ 0.64398688, -1.11102388],\n",
              "       [-1.08888001,  0.41120975],\n",
              "       [ 0.68848633, -1.18030397],\n",
              "       [ 0.37107602, -0.9559489 ],\n",
              "       [-1.07367265,  0.57419176],\n",
              "       [-1.4206219 ,  1.09914725],\n",
              "       [-0.22137737, -0.6827018 ],\n",
              "       [ 1.36583162, -0.99019979],\n",
              "       [ 0.2797492 , -0.9812109 ],\n",
              "       [-1.25478382, -0.28431684],\n",
              "       [-1.90813505,  1.05404512],\n",
              "       [ 0.49458851, -0.62391443],\n",
              "       [ 0.13194181,  1.40987422],\n",
              "       [ 0.36375259,  0.53720893],\n",
              "       [ 0.26404123,  0.59371392],\n",
              "       [-1.22642047,  0.49692826],\n",
              "       [ 0.5500553 , -0.71237229],\n",
              "       [ 0.22639818, -0.7825354 ],\n",
              "       [-1.8770135 ,  1.39765555],\n",
              "       [ 0.22774859, -1.58798716],\n",
              "       [-0.38304527,  0.58681837],\n",
              "       [ 0.13326074,  1.31863239],\n",
              "       [-0.70540488,  1.63221539],\n",
              "       [ 0.08924913, -0.65139656],\n",
              "       [ 0.29757625,  1.67580429],\n",
              "       [-2.00728415, -0.47386694],\n",
              "       [-1.77259604, -0.92256569],\n",
              "       [ 0.39391373,  0.40624423],\n",
              "       [ 1.32746308, -0.47505332],\n",
              "       [ 0.13017783,  0.51471589],\n",
              "       [ 1.17914807, -0.70407953],\n",
              "       [-0.36830181,  1.16210297],\n",
              "       [ 2.84512047, -1.11770755],\n",
              "       [-0.71211563,  0.81973584],\n",
              "       [ 0.20064991,  0.51679217],\n",
              "       [-0.83673257,  1.20587457],\n",
              "       [-0.72763015,  1.01306282],\n",
              "       [-0.04067266,  0.96938181],\n",
              "       [-0.74474558,  1.11047987],\n",
              "       [-0.83427995,  1.20891617],\n",
              "       [-0.89415889, -1.65124571],\n",
              "       [-0.3882203 , -1.52022121],\n",
              "       [ 0.0034807 , -0.96856448],\n",
              "       [-0.06113933,  1.47327655],\n",
              "       [ 1.12021182, -0.83733077],\n",
              "       [-3.01192419,  0.42465257],\n",
              "       [ 0.41579259, -1.09483033],\n",
              "       [ 1.21380991, -1.08550038],\n",
              "       [ 1.81148358, -1.18795716],\n",
              "       [-0.10573884,  0.71803816],\n",
              "       [ 0.49874536,  1.10725459],\n",
              "       [-0.33700782,  1.36610851],\n",
              "       [ 0.33858904, -0.87072193],\n",
              "       [ 0.90415722,  0.83494168],\n",
              "       [ 0.39776981, -0.52798081],\n",
              "       [-1.26841369,  0.90025544],\n",
              "       [-0.90716917, -1.04657115],\n",
              "       [-1.44594739,  0.84433565],\n",
              "       [-1.24515789,  1.1653641 ],\n",
              "       [-0.65306048,  0.88646794],\n",
              "       [ 0.73405543, -0.80699449],\n",
              "       [ 1.33316489, -0.80947532],\n",
              "       [-0.07889162, -0.95484517],\n",
              "       [-0.50934774,  1.10874954],\n",
              "       [ 0.24756867, -0.67516253],\n",
              "       [ 2.25955158, -0.94771272],\n",
              "       [ 0.72583274, -0.69682182],\n",
              "       [ 1.47552756,  0.97079219],\n",
              "       [-1.16984608,  0.99143645],\n",
              "       [-0.84057907, -1.06567621],\n",
              "       [-0.29375104,  0.5279602 ],\n",
              "       [ 1.19170286, -0.70576763],\n",
              "       [-0.92475705,  1.47645925],\n",
              "       [-1.89188943,  1.33837994],\n",
              "       [-1.48620849,  1.21715705],\n",
              "       [ 0.25142451,  0.93250447],\n",
              "       [-0.5119792 ,  1.21629397],\n",
              "       [ 1.06884394, -0.97841063],\n",
              "       [ 0.20873284, -0.6299636 ],\n",
              "       [-2.52547396,  0.59889554],\n",
              "       [-0.32068447,  0.805848  ],\n",
              "       [ 1.1668697 , -1.3063291 ],\n",
              "       [-1.40700999,  0.65407042],\n",
              "       [ 0.49039266, -1.15084389],\n",
              "       [-0.15899705,  1.12021348],\n",
              "       [ 1.00711561, -0.70776836],\n",
              "       [-0.58181889,  0.70450959]])"
            ]
          },
          "metadata": {},
          "execution_count": 61
        }
      ]
    },
    {
      "cell_type": "code",
      "metadata": {
        "id": "TRnNnC3kXbcr",
        "colab": {
          "base_uri": "https://localhost:8080/",
          "height": 282
        },
        "outputId": "ea0266f0-f779-475c-fbf7-f9e38cfce03e"
      },
      "source": [
        "plt.scatter(X_scaled[:, 0], X_scaled[:, 1],cmap='autumn', s=60)"
      ],
      "execution_count": null,
      "outputs": [
        {
          "output_type": "execute_result",
          "data": {
            "text/plain": [
              "<matplotlib.collections.PathCollection at 0x7f2b80916370>"
            ]
          },
          "metadata": {},
          "execution_count": 62
        },
        {
          "output_type": "display_data",
          "data": {
            "text/plain": [
              "<Figure size 432x288 with 1 Axes>"
            ],
            "image/png": "[encoded data removed]"
          },
          "metadata": {
            "needs_background": "light"
          }
        }
      ]
    },
    {
      "cell_type": "code",
      "metadata": {
        "id": "XftqUwUlYLIj"
      },
      "source": [
        "from sklearn.cluster import KMeans"
      ],
      "execution_count": null,
      "outputs": []
    },
    {
      "cell_type": "code",
      "metadata": {
        "id": "7PkhGAB-YN1C",
        "colab": {
          "base_uri": "https://localhost:8080/"
        },
        "outputId": "7bb460c7-e3e1-4c8a-9564-c28ba22d211e"
      },
      "source": [
        "# явно указываем количество кластеров\n",
        "kmeans = KMeans(n_clusters=5)\n",
        "# fit_predict обучается на данных и каждому объекту присваивает кластер\n",
        "clusters = kmeans.fit_predict(X_scaled)\n",
        "clusters"
      ],
      "execution_count": null,
      "outputs": [
        {
          "output_type": "execute_result",
          "data": {
            "text/plain": [
              "array([2, 3, 3, 0, 2, 0, 1, 3, 0, 4, 1, 3, 1, 1, 3, 1, 2, 1, 0, 2, 3, 1,\n",
              "       0, 2, 0, 0, 2, 1, 0, 3, 0, 2, 3, 3, 3, 2, 3, 2, 1, 3, 0, 1, 3, 1,\n",
              "       2, 0, 2, 1, 2, 1, 0, 2, 3, 0, 0, 0, 0, 3, 1, 2, 0, 3, 1, 1, 2, 1,\n",
              "       0, 0, 2, 2, 2, 2, 0, 0, 0, 3, 3, 1, 0, 0, 1, 3, 2, 4, 0, 4, 1, 1,\n",
              "       3, 1, 0, 2, 2, 2, 0, 2, 2, 0, 2, 1, 2, 0, 3, 2, 1, 3, 0, 2, 1, 2,\n",
              "       1, 2, 4, 2, 1, 2, 0, 1, 1, 0, 2, 0, 4, 4, 0, 3, 3, 3, 1, 0, 0, 4,\n",
              "       0, 1, 3, 1, 0, 3, 4, 4, 3, 2, 3, 2, 1, 2, 1, 3, 1, 1, 3, 1, 1, 0,\n",
              "       0, 0, 3, 2, 4, 0, 2, 2, 3, 3, 1, 0, 3, 0, 1, 0, 1, 1, 1, 2, 2, 0,\n",
              "       1, 0, 2, 2, 3, 1, 0, 1, 2, 1, 4, 1, 3, 1, 2, 0, 4, 1, 2, 1, 0, 3,\n",
              "       2, 1], dtype=int32)"
            ]
          },
          "metadata": {},
          "execution_count": 67
        }
      ]
    },
    {
      "cell_type": "code",
      "metadata": {
        "id": "EIhtpQU4YXiR",
        "colab": {
          "base_uri": "https://localhost:8080/",
          "height": 282
        },
        "outputId": "123802de-5630-47ab-a3aa-c786ae62e15b"
      },
      "source": [
        "plt.scatter(X_scaled[:, 0], X_scaled[:, 1], c=clusters, s=60)"
      ],
      "execution_count": null,
      "outputs": [
        {
          "output_type": "execute_result",
          "data": {
            "text/plain": [
              "<matplotlib.collections.PathCollection at 0x7f2b7d159280>"
            ]
          },
          "metadata": {},
          "execution_count": 69
        },
        {
          "output_type": "display_data",
          "data": {
            "text/plain": [
              "<Figure size 432x288 with 1 Axes>"
            ],
            "image/png": "[encoded data removed]"
          },
          "metadata": {
            "needs_background": "light"
          }
        }
      ]
    },
    {
      "cell_type": "code",
      "metadata": {
        "id": "JakzZ_1WYbgI"
      },
      "source": [
        "# строим график локтя\n",
        "\n",
        "# создаем список для инерции\n",
        "k_inertia = []\n",
        "# задаем диапазон кластеров\n",
        "ks = range(1, 20)\n",
        "\n",
        "for k in ks:\n",
        "    clf_kmeans = KMeans(n_clusters=k)\n",
        "    clf_kmeans.fit_predict(X_scaled)\n",
        "    # добавляем инерцию каждой модели в список\n",
        "    k_inertia.append(clf_kmeans.inertia_)"
      ],
      "execution_count": null,
      "outputs": []
    },
    {
      "cell_type": "code",
      "metadata": {
        "id": "BL2K84DOYzQp",
        "colab": {
          "base_uri": "https://localhost:8080/",
          "height": 282
        },
        "outputId": "f0e52cff-9637-46fe-d49e-aaad2be9cccf"
      },
      "source": [
        "plt.plot(ks, k_inertia)\n",
        "plt.plot(ks, k_inertia ,'ro')"
      ],
      "execution_count": null,
      "outputs": [
        {
          "output_type": "execute_result",
          "data": {
            "text/plain": [
              "[<matplotlib.lines.Line2D at 0x7f5ad186b2d0>]"
            ]
          },
          "metadata": {},
          "execution_count": 53
        },
        {
          "output_type": "display_data",
          "data": {
            "text/plain": [
              "<Figure size 432x288 with 1 Axes>"
            ],
            "image/png": "[encoded data removed]"
          },
          "metadata": {
            "needs_background": "light"
          }
        }
      ]
    },
    {
      "cell_type": "markdown",
      "metadata": {
        "id": "07VGmeIrby5U"
      },
      "source": [
        "Иерархическая кластеризация"
      ]
    },
    {
      "cell_type": "code",
      "metadata": {
        "id": "wGWt37snY1ak"
      },
      "source": [
        "from scipy.spatial.distance import pdist\n",
        "from scipy.cluster import hierarchy"
      ],
      "execution_count": null,
      "outputs": []
    },
    {
      "cell_type": "code",
      "metadata": {
        "id": "UL2QOOH_Y8vL",
        "colab": {
          "base_uri": "https://localhost:8080/",
          "height": 348
        },
        "outputId": "83901fdb-2986-41ed-f1d6-1d9e4bcf5f0a"
      },
      "source": [
        "# строим дендрограмму\n",
        "distance_mat = pdist(X_scaled) # pdist посчитает нам матрицу попарных расстояний между точками\n",
        "# Z = hierarchy.linkage(distance_mat) # linkage — реализация агломеративного алгоритма\n",
        "Z = hierarchy.linkage(distance_mat, 'ward')\n",
        "plt.figure(figsize=(20, 9))\n",
        "dn = hierarchy.dendrogram(Z)"
      ],
      "execution_count": null,
      "outputs": [
        {
          "output_type": "display_data",
          "data": {
            "text/plain": [
              "<Figure size 1440x648 with 1 Axes>"
            ],
            "image/png": "[encoded data removed]"
          },
          "metadata": {
            "needs_background": "light"
          }
        }
      ]
    },
    {
      "cell_type": "code",
      "metadata": {
        "id": "K_0ejaBzZBIv"
      },
      "source": [
        "# делаем уже кластеризацию по факту\n",
        "from sklearn.cluster import AgglomerativeClustering"
      ],
      "execution_count": null,
      "outputs": []
    },
    {
      "cell_type": "code",
      "metadata": {
        "id": "wjEgXrmpZVrY",
        "colab": {
          "base_uri": "https://localhost:8080/"
        },
        "outputId": "751805f2-9a28-4222-da94-f32a854bb543"
      },
      "source": [
        "aglo = AgglomerativeClustering(n_clusters=3)\n",
        "clusters = aglo.fit_predict(X_scaled)\n",
        "clusters"
      ],
      "execution_count": null,
      "outputs": [
        {
          "output_type": "execute_result",
          "data": {
            "text/plain": [
              "array([0, 2, 2, 0, 0, 0, 1, 2, 0, 1, 1, 2, 1, 1, 2, 1, 0, 1, 0, 0, 2, 1,\n",
              "       0, 0, 0, 0, 0, 1, 0, 2, 0, 0, 2, 2, 2, 0, 2, 0, 1, 2, 0, 1, 2, 2,\n",
              "       0, 0, 0, 2, 0, 1, 0, 0, 2, 0, 0, 0, 0, 2, 1, 0, 0, 2, 1, 1, 0, 1,\n",
              "       0, 0, 0, 0, 0, 0, 0, 0, 0, 2, 2, 1, 0, 0, 1, 2, 0, 1, 0, 1, 1, 1,\n",
              "       2, 1, 0, 0, 0, 0, 0, 0, 0, 0, 0, 1, 0, 0, 2, 0, 1, 2, 0, 0, 1, 0,\n",
              "       1, 0, 1, 0, 1, 0, 0, 1, 1, 0, 0, 0, 0, 1, 0, 2, 2, 2, 1, 0, 0, 1,\n",
              "       0, 2, 2, 1, 0, 2, 0, 0, 2, 0, 2, 0, 1, 0, 1, 2, 1, 1, 2, 1, 1, 0,\n",
              "       0, 0, 2, 0, 1, 0, 0, 0, 2, 2, 1, 0, 2, 0, 1, 0, 1, 1, 1, 0, 0, 0,\n",
              "       1, 0, 0, 0, 2, 1, 0, 2, 0, 1, 1, 1, 2, 1, 0, 0, 1, 2, 0, 1, 0, 2,\n",
              "       0, 1])"
            ]
          },
          "metadata": {},
          "execution_count": 73
        }
      ]
    },
    {
      "cell_type": "code",
      "metadata": {
        "id": "Us0SDSD1ZtX7",
        "colab": {
          "base_uri": "https://localhost:8080/",
          "height": 282
        },
        "outputId": "003c0db9-3ef0-490b-9a81-fabfea52b2fa"
      },
      "source": [
        "plt.scatter(X_scaled[:, 0], X_scaled[:, 1],cmap='autumn', c=clusters, s=60)"
      ],
      "execution_count": null,
      "outputs": [
        {
          "output_type": "execute_result",
          "data": {
            "text/plain": [
              "<matplotlib.collections.PathCollection at 0x7f2b7cdd5eb0>"
            ]
          },
          "metadata": {},
          "execution_count": 74
        },
        {
          "output_type": "display_data",
          "data": {
            "text/plain": [
              "<Figure size 432x288 with 1 Axes>"
            ],
            "image/png": "[encoded data removed]"
          },
          "metadata": {
            "needs_background": "light"
          }
        }
      ]
    },
    {
      "cell_type": "code",
      "metadata": {
        "id": "tPUIlJOaZv5J",
        "colab": {
          "base_uri": "https://localhost:8080/",
          "height": 424
        },
        "outputId": "26c55840-4bc4-463a-be71-e94bb2a35d9f"
      },
      "source": [
        "df = pd.DataFrame(X)\n",
        "df['y_hat'] = clusters\n",
        "df"
      ],
      "execution_count": null,
      "outputs": [
        {
          "output_type": "execute_result",
          "data": {
            "text/plain": [
              "             0          1  y_hat\n",
              "0    11.218960  -8.742556      0\n",
              "1     6.113128   4.287923      2\n",
              "2     4.061922   2.362359      2\n",
              "3     4.066335 -10.543451      0\n",
              "4     7.738310 -12.200526      0\n",
              "..         ...        ...    ...\n",
              "195   0.189482   4.987147      1\n",
              "196   5.713154  -9.124230      0\n",
              "197   3.822667   8.631597      2\n",
              "198   7.217426  -5.660128      0\n",
              "199   2.591758   5.381496      1\n",
              "\n",
              "[200 rows x 3 columns]"
            ],
            "text/html": [
              "\n",
              "  <div id=\"df-b0d6e31d-e6fc-4bbc-9a66-5be15ca70765\">\n",
              "    <div class=\"colab-df-container\">\n",
              "      <div>\n",
              "<style scoped>\n",
              "    .dataframe tbody tr th:only-of-type {\n",
              "        vertical-align: middle;\n",
              "    }\n",
              "\n",
              "    .dataframe tbody tr th {\n",
              "        vertical-align: top;\n",
              "    }\n",
              "\n",
              "    .dataframe thead th {\n",
              "        text-align: right;\n",
              "    }\n",
              "</style>\n",
              "<table border=\"1\" class=\"dataframe\">\n",
              "  <thead>\n",
              "    <tr style=\"text-align: right;\">\n",
              "      <th></th>\n",
              "      <th>0</th>\n",
              "      <th>1</th>\n",
              "      <th>y_hat</th>\n",
              "    </tr>\n",
              "  </thead>\n",
              "  <tbody>\n",
              "    <tr>\n",
              "      <th>0</th>\n",
              "      <td>11.218960</td>\n",
              "      <td>-8.742556</td>\n",
              "      <td>0</td>\n",
              "    </tr>\n",
              "    <tr>\n",
              "      <th>1</th>\n",
              "      <td>6.113128</td>\n",
              "      <td>4.287923</td>\n",
              "      <td>2</td>\n",
              "    </tr>\n",
              "    <tr>\n",
              "      <th>2</th>\n",
              "      <td>4.061922</td>\n",
              "      <td>2.362359</td>\n",
              "      <td>2</td>\n",
              "    </tr>\n",
              "    <tr>\n",
              "      <th>3</th>\n",
              "      <td>4.066335</td>\n",
              "      <td>-10.543451</td>\n",
              "      <td>0</td>\n",
              "    </tr>\n",
              "    <tr>\n",
              "      <th>4</th>\n",
              "      <td>7.738310</td>\n",
              "      <td>-12.200526</td>\n",
              "      <td>0</td>\n",
              "    </tr>\n",
              "    <tr>\n",
              "      <th>...</th>\n",
              "      <td>...</td>\n",
              "      <td>...</td>\n",
              "      <td>...</td>\n",
              "    </tr>\n",
              "    <tr>\n",
              "      <th>195</th>\n",
              "      <td>0.189482</td>\n",
              "      <td>4.987147</td>\n",
              "      <td>1</td>\n",
              "    </tr>\n",
              "    <tr>\n",
              "      <th>196</th>\n",
              "      <td>5.713154</td>\n",
              "      <td>-9.124230</td>\n",
              "      <td>0</td>\n",
              "    </tr>\n",
              "    <tr>\n",
              "      <th>197</th>\n",
              "      <td>3.822667</td>\n",
              "      <td>8.631597</td>\n",
              "      <td>2</td>\n",
              "    </tr>\n",
              "    <tr>\n",
              "      <th>198</th>\n",
              "      <td>7.217426</td>\n",
              "      <td>-5.660128</td>\n",
              "      <td>0</td>\n",
              "    </tr>\n",
              "    <tr>\n",
              "      <th>199</th>\n",
              "      <td>2.591758</td>\n",
              "      <td>5.381496</td>\n",
              "      <td>1</td>\n",
              "    </tr>\n",
              "  </tbody>\n",
              "</table>\n",
              "<p>200 rows × 3 columns</p>\n",
              "</div>\n",
              "      <button class=\"colab-df-convert\" onclick=\"convertToInteractive('df-b0d6e31d-e6fc-4bbc-9a66-5be15ca70765')\"\n",
              "              title=\"Convert this dataframe to an interactive table.\"\n",
              "              style=\"display:none;\">\n",
              "        \n",
              "  <svg xmlns=\"http://www.w3.org/2000/svg\" height=\"24px\"viewBox=\"0 0 24 24\"\n",
              "       width=\"24px\">\n",
              "    <path d=\"M0 0h24v24H0V0z\" fill=\"none\"/>\n",
              "    <path d=\"M18.56 5.44l.94 2.06.94-2.06 2.06-.94-2.06-.94-.94-2.06-.94 2.06-2.06.94zm-11 1L8.5 8.5l.94-2.06 2.06-.94-2.06-.94L8.5 2.5l-.94 2.06-2.06.94zm10 10l.94 2.06.94-2.06 2.06-.94-2.06-.94-.94-2.06-.94 2.06-2.06.94z\"/><path d=\"M17.41 7.96l-1.37-1.37c-.4-.4-.92-.59-1.43-.59-.52 0-1.04.2-1.43.59L10.3 9.45l-7.72 7.72c-.78.78-.78 2.05 0 2.83L4 21.41c.39.39.9.59 1.41.59.51 0 1.02-.2 1.41-.59l7.78-7.78 2.81-2.81c.8-.78.8-2.07 0-2.86zM5.41 20L4 18.59l7.72-7.72 1.47 1.35L5.41 20z\"/>\n",
              "  </svg>\n",
              "      </button>\n",
              "      \n",
              "  <style>\n",
              "    .colab-df-container {\n",
              "      display:flex;\n",
              "      flex-wrap:wrap;\n",
              "      gap: 12px;\n",
              "    }\n",
              "\n",
              "    .colab-df-convert {\n",
              "      background-color: #E8F0FE;\n",
              "      border: none;\n",
              "      border-radius: 50%;\n",
              "      cursor: pointer;\n",
              "      display: none;\n",
              "      fill: #1967D2;\n",
              "      height: 32px;\n",
              "      padding: 0 0 0 0;\n",
              "      width: 32px;\n",
              "    }\n",
              "\n",
              "    .colab-df-convert:hover {\n",
              "      background-color: #E2EBFA;\n",
              "      box-shadow: 0px 1px 2px rgba(60, 64, 67, 0.3), 0px 1px 3px 1px rgba(60, 64, 67, 0.15);\n",
              "      fill: #174EA6;\n",
              "    }\n",
              "\n",
              "    [theme=dark] .colab-df-convert {\n",
              "      background-color: #3B4455;\n",
              "      fill: #D2E3FC;\n",
              "    }\n",
              "\n",
              "    [theme=dark] .colab-df-convert:hover {\n",
              "      background-color: #434B5C;\n",
              "      box-shadow: 0px 1px 3px 1px rgba(0, 0, 0, 0.15);\n",
              "      filter: drop-shadow(0px 1px 2px rgba(0, 0, 0, 0.3));\n",
              "      fill: #FFFFFF;\n",
              "    }\n",
              "  </style>\n",
              "\n",
              "      <script>\n",
              "        const buttonEl =\n",
              "          document.querySelector('#df-b0d6e31d-e6fc-4bbc-9a66-5be15ca70765 button.colab-df-convert');\n",
              "        buttonEl.style.display =\n",
              "          google.colab.kernel.accessAllowed ? 'block' : 'none';\n",
              "\n",
              "        async function convertToInteractive(key) {\n",
              "          const element = document.querySelector('#df-b0d6e31d-e6fc-4bbc-9a66-5be15ca70765');\n",
              "          const dataTable =\n",
              "            await google.colab.kernel.invokeFunction('convertToInteractive',\n",
              "                                                     [key], {});\n",
              "          if (!dataTable) return;\n",
              "\n",
              "          const docLinkHtml = 'Like what you see? Visit the ' +\n",
              "            '<a target=\"_blank\" href=https://colab.research.google.com/notebooks/data_table.ipynb>data table notebook</a>'\n",
              "            + ' to learn more about interactive tables.';\n",
              "          element.innerHTML = '';\n",
              "          dataTable['output_type'] = 'display_data';\n",
              "          await google.colab.output.renderOutput(dataTable, element);\n",
              "          const docLink = document.createElement('div');\n",
              "          docLink.innerHTML = docLinkHtml;\n",
              "          element.appendChild(docLink);\n",
              "        }\n",
              "      </script>\n",
              "    </div>\n",
              "  </div>\n",
              "  "
            ]
          },
          "metadata": {},
          "execution_count": 75
        }
      ]
    },
    {
      "cell_type": "code",
      "metadata": {
        "id": "CBOo1CERby5W"
      },
      "source": [],
      "execution_count": null,
      "outputs": []
    }
  ]
}