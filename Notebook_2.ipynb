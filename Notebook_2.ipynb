{
  "nbformat": 4,
  "nbformat_minor": 0,
  "metadata": {
    "colab": {
      "provenance": [],
      "include_colab_link": true
    },
    "kernelspec": {
      "display_name": "Python 3",
      "language": "python",
      "name": "python3"
    },
    "language_info": {
      "codemirror_mode": {
        "name": "ipython",
        "version": 3
      },
      "file_extension": ".py",
      "mimetype": "text/x-python",
      "name": "python",
      "nbconvert_exporter": "python",
      "pygments_lexer": "ipython3",
      "version": "3.7.0"
    },
    "accelerator": "GPU"
  },
  "cells": [
    {
      "cell_type": "markdown",
      "metadata": {
        "id": "view-in-github",
        "colab_type": "text"
      },
      "source": [
        "<a href=\"https://colab.research.google.com/github/svetaepc/ds_py/blob/master/Notebook_2.ipynb\" target=\"_parent\"><img src=\"https://colab.research.google.com/assets/colab-badge.svg\" alt=\"Open In Colab\"/></a>"
      ]
    },
    {
      "cell_type": "markdown",
      "source": [
        "https://bit.ly/DSNN-2"
      ],
      "metadata": {
        "id": "myA5SPj4DKmZ"
      }
    },
    {
      "cell_type": "markdown",
      "metadata": {
        "id": "-8hJ2Wh_kDQp"
      },
      "source": [
        "# Лекция 2. Углубление в НС и библиотеку Keras\n"
      ]
    },
    {
      "cell_type": "code",
      "metadata": {
        "id": "ugQwKOESkDQw"
      },
      "source": [
        "import numpy as np\n",
        "import tensorflow as tf\n",
        "from tensorflow import keras\n",
        "from tensorflow.keras import layers"
      ],
      "execution_count": null,
      "outputs": []
    },
    {
      "cell_type": "markdown",
      "metadata": {
        "id": "WyFRpeaWkDQw"
      },
      "source": [
        "## Introduction\n",
        "\n",
        "На прошлой лекции мы познакомились с базовым набором инструментов библиотеки Keras, научились строить модели с помощью инструмента ```keras.Sequential()```. Однако на практике не все модели удается реализовать с помощью этого метода.\n",
        "\n",
        "Если в модели присутствует \"нелинейная\" структура (т.е. есть разветвление потока данных), то ```keras.Sequential()``` не подойдет для построения такой модели. На помощь приходит инструмент *functional API*."
      ]
    },
    {
      "cell_type": "markdown",
      "metadata": {
        "id": "eTgRP3vfZRGm"
      },
      "source": [
        "Обычно в глубоком обучении принято использовать следующую структуру во входных данных:\n",
        "\n",
        "$$[n, W,H, N_{ch}],$$\n",
        "\n",
        "где $n$ - размер подвыборки (batch_size), $N_{ch}$ - кол-во каналов (красный, зеленый, синий), $W$, $H$ - ширина и высота изображения. Однако batch_size не указывается при объявлении слоев в Keras. \n",
        "\n"
      ]
    },
    {
      "cell_type": "code",
      "metadata": {
        "id": "pw6d6rxmkDQx",
        "colab": {
          "base_uri": "https://localhost:8080/"
        },
        "outputId": "b24f8a11-7737-42c5-e9c1-bea5b459ad01"
      },
      "source": [
        "img_inputs = keras.Input(shape=(32, 32, 3))\n",
        "print(img_inputs.shape)"
      ],
      "execution_count": null,
      "outputs": [
        {
          "output_type": "stream",
          "name": "stdout",
          "text": [
            "(None, 32, 32, 3)\n"
          ]
        }
      ]
    },
    {
      "cell_type": "code",
      "source": [
        "img_inputs"
      ],
      "metadata": {
        "colab": {
          "base_uri": "https://localhost:8080/"
        },
        "id": "gYFKXE_KyW1H",
        "outputId": "8a2a50e7-4364-4d29-9be0-3e30b502aa98"
      },
      "execution_count": null,
      "outputs": [
        {
          "output_type": "execute_result",
          "data": {
            "text/plain": [
              "<KerasTensor: shape=(None, 32, 32, 3) dtype=float32 (created by layer 'input_1')>"
            ]
          },
          "metadata": {},
          "execution_count": 3
        }
      ]
    },
    {
      "cell_type": "markdown",
      "metadata": {
        "id": "APlsPQfMadKL"
      },
      "source": [
        "На сегодняшний день мы пока забудем о вышеописанной структуре и будем все входные данные трактовать как один длинный вектор длины $(W \\cdot H \\cdot N_{ch})$."
      ]
    },
    {
      "cell_type": "code",
      "metadata": {
        "id": "LlEPjrM7kDQx",
        "colab": {
          "base_uri": "https://localhost:8080/"
        },
        "outputId": "eec1264f-9a40-457c-ee32-2de27e6faeb1"
      },
      "source": [
        "img_inputs = keras.Input(shape=(28, 28))\n",
        "inputs = layers.Flatten()(img_inputs)\n",
        "inputs"
      ],
      "execution_count": null,
      "outputs": [
        {
          "output_type": "execute_result",
          "data": {
            "text/plain": [
              "<KerasTensor: shape=(None, 784) dtype=float32 (created by layer 'flatten')>"
            ]
          },
          "metadata": {},
          "execution_count": 4
        }
      ]
    },
    {
      "cell_type": "markdown",
      "metadata": {
        "id": "Vylgfs1_kDQz"
      },
      "source": [
        "Следующий слой, который будет использовать тензор `inputs` как входные данные, должен быть объявлен следующим образом:\n"
      ]
    },
    {
      "cell_type": "code",
      "metadata": {
        "id": "FsIrr5OmkDQz"
      },
      "source": [
        "x = layers.Dense(32)(inputs) ### объявление слоя\n",
        "x = layers.BatchNormalization()(x)\n",
        "x = layers.Dropout(0.5)(x)\n",
        "x = layers.Activation('relu')(x)\n",
        "dense21 = layers.Dense(32, activation='relu')(x)\n",
        "\n",
        "y = layers.Dense(32)(inputs)\n",
        "y = layers.BatchNormalization()(y)\n",
        "y = layers.Dropout(0.5)(y)\n",
        "y = layers.Activation('relu')(y)\n",
        "dense22 = layers.Dense(32, activation='relu')(y)\n",
        "\n",
        "dense3 = layers.Add()([dense21, dense22])"
      ],
      "execution_count": null,
      "outputs": []
    },
    {
      "cell_type": "code",
      "metadata": {
        "id": "_HHFJLxZkDQ0"
      },
      "source": [
        "x = layers.Dense(32, activation='relu')(dense3)\n",
        "outputs = layers.Dense(10)(x)"
      ],
      "execution_count": null,
      "outputs": []
    },
    {
      "cell_type": "markdown",
      "metadata": {
        "id": "HNxyEX6VkDQ0"
      },
      "source": [
        "На этом этапе мы можем закончить добавление новых блоков и объявить модель, которая будет состоять из данных слоёв:"
      ]
    },
    {
      "cell_type": "code",
      "metadata": {
        "id": "r5n0fK6mkDQ0"
      },
      "source": [
        "model = keras.Model(inputs=img_inputs, outputs=outputs, name=\"our_first_model\")"
      ],
      "execution_count": null,
      "outputs": []
    },
    {
      "cell_type": "code",
      "metadata": {
        "id": "169LLi8vkDQ0",
        "colab": {
          "base_uri": "https://localhost:8080/"
        },
        "outputId": "1eabf69e-fc24-438c-fa32-af91773a3f01"
      },
      "source": [
        "model.summary()"
      ],
      "execution_count": null,
      "outputs": [
        {
          "output_type": "stream",
          "name": "stdout",
          "text": [
            "Model: \"our_first_model\"\n",
            "__________________________________________________________________________________________________\n",
            " Layer (type)                   Output Shape         Param #     Connected to                     \n",
            "==================================================================================================\n",
            " input_2 (InputLayer)           [(None, 28, 28)]     0           []                               \n",
            "                                                                                                  \n",
            " flatten (Flatten)              (None, 784)          0           ['input_2[0][0]']                \n",
            "                                                                                                  \n",
            " dense (Dense)                  (None, 32)           25120       ['flatten[0][0]']                \n",
            "                                                                                                  \n",
            " dense_2 (Dense)                (None, 32)           25120       ['flatten[0][0]']                \n",
            "                                                                                                  \n",
            " batch_normalization (BatchNorm  (None, 32)          128         ['dense[0][0]']                  \n",
            " alization)                                                                                       \n",
            "                                                                                                  \n",
            " batch_normalization_1 (BatchNo  (None, 32)          128         ['dense_2[0][0]']                \n",
            " rmalization)                                                                                     \n",
            "                                                                                                  \n",
            " dropout (Dropout)              (None, 32)           0           ['batch_normalization[0][0]']    \n",
            "                                                                                                  \n",
            " dropout_1 (Dropout)            (None, 32)           0           ['batch_normalization_1[0][0]']  \n",
            "                                                                                                  \n",
            " activation (Activation)        (None, 32)           0           ['dropout[0][0]']                \n",
            "                                                                                                  \n",
            " activation_1 (Activation)      (None, 32)           0           ['dropout_1[0][0]']              \n",
            "                                                                                                  \n",
            " dense_1 (Dense)                (None, 32)           1056        ['activation[0][0]']             \n",
            "                                                                                                  \n",
            " dense_3 (Dense)                (None, 32)           1056        ['activation_1[0][0]']           \n",
            "                                                                                                  \n",
            " add (Add)                      (None, 32)           0           ['dense_1[0][0]',                \n",
            "                                                                  'dense_3[0][0]']                \n",
            "                                                                                                  \n",
            " dense_4 (Dense)                (None, 32)           1056        ['add[0][0]']                    \n",
            "                                                                                                  \n",
            " dense_5 (Dense)                (None, 10)           330         ['dense_4[0][0]']                \n",
            "                                                                                                  \n",
            "==================================================================================================\n",
            "Total params: 53,994\n",
            "Trainable params: 53,866\n",
            "Non-trainable params: 128\n",
            "__________________________________________________________________________________________________\n"
          ]
        }
      ]
    },
    {
      "cell_type": "markdown",
      "metadata": {
        "id": "IrQXWoLukDQ1"
      },
      "source": [
        "Можно, например, нарисовать модель в виде направленного графа:"
      ]
    },
    {
      "cell_type": "code",
      "metadata": {
        "id": "luyMMvaAkDQ1",
        "colab": {
          "base_uri": "https://localhost:8080/",
          "height": 953
        },
        "outputId": "70dc8e6e-b3c7-46d9-ba16-745607689248"
      },
      "source": [
        "keras.utils.plot_model(model, \"my_first_model.png\")"
      ],
      "execution_count": null,
      "outputs": [
        {
          "output_type": "execute_result",
          "data": {
            "image/png": "[encoded data removed]",
            "text/plain": [
              "<IPython.core.display.Image object>"
            ]
          },
          "metadata": {},
          "execution_count": 9
        }
      ]
    },
    {
      "cell_type": "code",
      "metadata": {
        "id": "dxhR_eZRkDQ1",
        "colab": {
          "base_uri": "https://localhost:8080/",
          "height": 1000
        },
        "outputId": "8448f1d7-a559-4d63-ed31-5cc1b7a90046"
      },
      "source": [
        "keras.utils.plot_model(model, \"my_first_model_with_shape_info.png\", show_shapes=True)"
      ],
      "execution_count": null,
      "outputs": [
        {
          "output_type": "execute_result",
          "data": {
            "image/png": "[encoded data removed]",
            "text/plain": [
              "<IPython.core.display.Image object>"
            ]
          },
          "metadata": {},
          "execution_count": 10
        }
      ]
    },
    {
      "cell_type": "markdown",
      "metadata": {
        "id": "blVUMDKlkDQ2"
      },
      "source": [
        "## Обучение модели\n",
        "\n",
        "Обучение модели происходит тем же самым образом, что и модели, объявленной с помощью класса ```Sequential()```, т.е. с помощью метода ```fit()```.\n"
      ]
    },
    {
      "cell_type": "code",
      "metadata": {
        "id": "Bix6-3b1co4M",
        "colab": {
          "base_uri": "https://localhost:8080/"
        },
        "outputId": "4676bbd0-895a-413f-ff9a-77b3c69cc3cd"
      },
      "source": [
        "(x_train, y_train), (x_test, y_test) = keras.datasets.mnist.load_data()\n",
        "x_train.shape"
      ],
      "execution_count": null,
      "outputs": [
        {
          "output_type": "execute_result",
          "data": {
            "text/plain": [
              "(60000, 28, 28)"
            ]
          },
          "metadata": {},
          "execution_count": 11
        }
      ]
    },
    {
      "cell_type": "code",
      "metadata": {
        "id": "oX6h8uHBAVv6"
      },
      "source": [
        "x_train = x_train / 255.0\n",
        "x_test = x_test / 255.0"
      ],
      "execution_count": null,
      "outputs": []
    },
    {
      "cell_type": "code",
      "source": [
        "y_train  # Для SparseCategoricalCrossentropy"
      ],
      "metadata": {
        "colab": {
          "base_uri": "https://localhost:8080/"
        },
        "id": "2Y9vG28Y90ep",
        "outputId": "f7eebc8a-c129-4d64-d982-1a15975e1c48"
      },
      "execution_count": null,
      "outputs": [
        {
          "output_type": "execute_result",
          "data": {
            "text/plain": [
              "array([5, 0, 4, ..., 5, 6, 8], dtype=uint8)"
            ]
          },
          "metadata": {},
          "execution_count": 13
        }
      ]
    },
    {
      "cell_type": "code",
      "source": [
        "keras.utils.to_categorical(y_train)  # Для CategoricalCrossEntropy"
      ],
      "metadata": {
        "colab": {
          "base_uri": "https://localhost:8080/"
        },
        "id": "Pmk003x398Iy",
        "outputId": "dfc17597-6a57-4ee1-c830-4a1691b9198c"
      },
      "execution_count": null,
      "outputs": [
        {
          "output_type": "execute_result",
          "data": {
            "text/plain": [
              "array([[0., 0., 0., ..., 0., 0., 0.],\n",
              "       [1., 0., 0., ..., 0., 0., 0.],\n",
              "       [0., 0., 0., ..., 0., 0., 0.],\n",
              "       ...,\n",
              "       [0., 0., 0., ..., 0., 0., 0.],\n",
              "       [0., 0., 0., ..., 0., 0., 0.],\n",
              "       [0., 0., 0., ..., 0., 1., 0.]], dtype=float32)"
            ]
          },
          "metadata": {},
          "execution_count": 14
        }
      ]
    },
    {
      "cell_type": "code",
      "metadata": {
        "id": "PTFg-wBmkDQ2",
        "colab": {
          "base_uri": "https://localhost:8080/"
        },
        "outputId": "8d27de6c-18e3-4469-b413-a53eafb9c29a"
      },
      "source": [
        "model.compile(\n",
        "    loss=keras.losses.SparseCategoricalCrossentropy(from_logits=True), \n",
        "    optimizer=keras.optimizers.Adam(),\n",
        "    metrics=[\"accuracy\"],\n",
        ")\n",
        "\n",
        "history = model.fit(x_train, y_train,\n",
        "                    batch_size=64,\n",
        "                    epochs=10,\n",
        "                    validation_split=0.2)"
      ],
      "execution_count": null,
      "outputs": [
        {
          "output_type": "stream",
          "name": "stdout",
          "text": [
            "Epoch 1/10\n",
            "750/750 [==============================] - 17s 14ms/step - loss: 0.6859 - accuracy: 0.7891 - val_loss: 0.2270 - val_accuracy: 0.9317\n",
            "Epoch 2/10\n",
            "750/750 [==============================] - 9s 13ms/step - loss: 0.3927 - accuracy: 0.8791 - val_loss: 0.1901 - val_accuracy: 0.9427\n",
            "Epoch 3/10\n",
            "750/750 [==============================] - 4s 5ms/step - loss: 0.3405 - accuracy: 0.8956 - val_loss: 0.1818 - val_accuracy: 0.9440\n",
            "Epoch 4/10\n",
            "750/750 [==============================] - 4s 5ms/step - loss: 0.3100 - accuracy: 0.9052 - val_loss: 0.1544 - val_accuracy: 0.9547\n",
            "Epoch 5/10\n",
            "750/750 [==============================] - 5s 6ms/step - loss: 0.2908 - accuracy: 0.9107 - val_loss: 0.1488 - val_accuracy: 0.9563\n",
            "Epoch 6/10\n",
            "750/750 [==============================] - 4s 5ms/step - loss: 0.2756 - accuracy: 0.9144 - val_loss: 0.1378 - val_accuracy: 0.9600\n",
            "Epoch 7/10\n",
            "750/750 [==============================] - 4s 5ms/step - loss: 0.2602 - accuracy: 0.9184 - val_loss: 0.1340 - val_accuracy: 0.9595\n",
            "Epoch 8/10\n",
            "750/750 [==============================] - 5s 6ms/step - loss: 0.2590 - accuracy: 0.9201 - val_loss: 0.1320 - val_accuracy: 0.9617\n",
            "Epoch 9/10\n",
            "750/750 [==============================] - 4s 5ms/step - loss: 0.2467 - accuracy: 0.9229 - val_loss: 0.1281 - val_accuracy: 0.9630\n",
            "Epoch 10/10\n",
            "750/750 [==============================] - 4s 5ms/step - loss: 0.2399 - accuracy: 0.9256 - val_loss: 0.1239 - val_accuracy: 0.9636\n"
          ]
        }
      ]
    },
    {
      "cell_type": "code",
      "source": [
        "test_scores = model.evaluate(x_test, y_test, verbose=1)\n",
        "print(\"Test loss:\", test_scores[0])\n",
        "print(\"Test accuracy:\", test_scores[1])"
      ],
      "metadata": {
        "colab": {
          "base_uri": "https://localhost:8080/"
        },
        "id": "prRnxUTpTtUh",
        "outputId": "3e26a7c7-bb17-48eb-a0e2-c8bb30169882"
      },
      "execution_count": null,
      "outputs": [
        {
          "output_type": "stream",
          "name": "stdout",
          "text": [
            "313/313 [==============================] - 1s 4ms/step - loss: 0.1232 - accuracy: 0.9615\n",
            "Test loss: 0.12323782593011856\n",
            "Test accuracy: 0.9614999890327454\n"
          ]
        }
      ]
    },
    {
      "cell_type": "code",
      "source": [
        "history.history"
      ],
      "metadata": {
        "colab": {
          "base_uri": "https://localhost:8080/"
        },
        "id": "8qQhoWlf-BX8",
        "outputId": "a51f0187-fb9c-423e-b556-720fc5cec995"
      },
      "execution_count": null,
      "outputs": [
        {
          "output_type": "execute_result",
          "data": {
            "text/plain": [
              "{'loss': [0.6859300136566162,\n",
              "  0.3927210569381714,\n",
              "  0.34054505825042725,\n",
              "  0.3100086748600006,\n",
              "  0.2908010184764862,\n",
              "  0.2756229043006897,\n",
              "  0.260186105966568,\n",
              "  0.25900372862815857,\n",
              "  0.24672821164131165,\n",
              "  0.23991376161575317],\n",
              " 'accuracy': [0.7890625,\n",
              "  0.8791458606719971,\n",
              "  0.8956041932106018,\n",
              "  0.9052291512489319,\n",
              "  0.9107499718666077,\n",
              "  0.914437472820282,\n",
              "  0.9184166789054871,\n",
              "  0.9201041460037231,\n",
              "  0.9229375123977661,\n",
              "  0.9256250262260437],\n",
              " 'val_loss': [0.226994127035141,\n",
              "  0.1900535523891449,\n",
              "  0.18178220093250275,\n",
              "  0.154378280043602,\n",
              "  0.1488235890865326,\n",
              "  0.13783645629882812,\n",
              "  0.13403110206127167,\n",
              "  0.13195812702178955,\n",
              "  0.12805436551570892,\n",
              "  0.12388996034860611],\n",
              " 'val_accuracy': [0.9316666722297668,\n",
              "  0.9427499771118164,\n",
              "  0.9440000057220459,\n",
              "  0.9546666741371155,\n",
              "  0.956250011920929,\n",
              "  0.9599999785423279,\n",
              "  0.9595000147819519,\n",
              "  0.9616666436195374,\n",
              "  0.9629999995231628,\n",
              "  0.9635833501815796]}"
            ]
          },
          "metadata": {},
          "execution_count": 17
        }
      ]
    },
    {
      "cell_type": "code",
      "source": [
        "import matplotlib.pyplot as plt\n",
        "\n",
        "plt.plot(history.history['loss'], label='train loss')\n",
        "plt.plot(history.history['val_loss'], label='val loss')\n",
        "plt.legend();"
      ],
      "metadata": {
        "colab": {
          "base_uri": "https://localhost:8080/",
          "height": 430
        },
        "id": "3Dv7KP26-CVP",
        "outputId": "20fb1909-ce5e-459a-b24c-ae98e47c4c67"
      },
      "execution_count": null,
      "outputs": [
        {
          "output_type": "display_data",
          "data": {
            "text/plain": [
              "<Figure size 640x480 with 1 Axes>"
            ],
            "image/png": "[encoded data removed]"
          },
          "metadata": {}
        }
      ]
    },
    {
      "cell_type": "markdown",
      "source": [
        "## Использование модели"
      ],
      "metadata": {
        "id": "JeZMWX_a-fMc"
      }
    },
    {
      "cell_type": "code",
      "source": [
        "x_test[0].reshape((1, 28, 28)).shape"
      ],
      "metadata": {
        "colab": {
          "base_uri": "https://localhost:8080/"
        },
        "id": "xtvASp6f3faI",
        "outputId": "d92325ad-4956-4d60-b676-e72a2d545f96"
      },
      "execution_count": null,
      "outputs": [
        {
          "output_type": "execute_result",
          "data": {
            "text/plain": [
              "(1, 28, 28)"
            ]
          },
          "metadata": {},
          "execution_count": 19
        }
      ]
    },
    {
      "cell_type": "code",
      "source": [
        "x_test[0][None].shape"
      ],
      "metadata": {
        "colab": {
          "base_uri": "https://localhost:8080/"
        },
        "id": "p3rTsPrA-lFY",
        "outputId": "28f88766-b1ef-4fd5-8566-bdebb6e90afa"
      },
      "execution_count": null,
      "outputs": [
        {
          "output_type": "execute_result",
          "data": {
            "text/plain": [
              "(1, 28, 28)"
            ]
          },
          "metadata": {},
          "execution_count": 20
        }
      ]
    },
    {
      "cell_type": "code",
      "source": [
        "plt.imshow(x_test[0], cmap='gray');"
      ],
      "metadata": {
        "colab": {
          "base_uri": "https://localhost:8080/",
          "height": 430
        },
        "id": "_BQ-x1m1-pl8",
        "outputId": "080ccd32-c8ec-48b4-ca93-1de94d50990c"
      },
      "execution_count": null,
      "outputs": [
        {
          "output_type": "display_data",
          "data": {
            "text/plain": [
              "<Figure size 640x480 with 1 Axes>"
            ],
            "image/png": "[encoded data removed]"
          },
          "metadata": {}
        }
      ]
    },
    {
      "cell_type": "code",
      "source": [
        "predictions = model.predict(x_test[0][None])\n",
        "predictions"
      ],
      "metadata": {
        "colab": {
          "base_uri": "https://localhost:8080/"
        },
        "id": "6SHFiwnO-hMW",
        "outputId": "35e69415-b465-4e64-b1be-c782af2c6523"
      },
      "execution_count": null,
      "outputs": [
        {
          "output_type": "stream",
          "name": "stdout",
          "text": [
            "1/1 [==============================] - 0s 313ms/step\n"
          ]
        },
        {
          "output_type": "execute_result",
          "data": {
            "text/plain": [
              "array([[ -5.258699  ,  -1.7186708 ,   5.328241  ,   5.238602  ,\n",
              "        -11.3508415 ,  -0.37265506, -11.335482  ,  13.69202   ,\n",
              "         -2.3529053 ,   0.39684665]], dtype=float32)"
            ]
          },
          "metadata": {},
          "execution_count": 21
        }
      ]
    },
    {
      "cell_type": "code",
      "source": [
        "probas = keras.layers.Softmax()(predictions)\n",
        "probas"
      ],
      "metadata": {
        "colab": {
          "base_uri": "https://localhost:8080/"
        },
        "id": "XFzPBJ5a_8MP",
        "outputId": "70fce2d4-6702-48d5-97ff-bb58b14fab8f"
      },
      "execution_count": null,
      "outputs": [
        {
          "output_type": "execute_result",
          "data": {
            "text/plain": [
              "<tf.Tensor: shape=(1, 10), dtype=float32, numpy=\n",
              "array([[2.1886060e-09, 2.8627764e-07, 1.1823671e-05, 7.9432968e-05,\n",
              "        3.0053866e-11, 1.5071981e-07, 1.8418895e-11, 9.9990606e-01,\n",
              "        1.3667404e-08, 2.2355396e-06]], dtype=float32)>"
            ]
          },
          "metadata": {},
          "execution_count": 23
        }
      ]
    },
    {
      "cell_type": "code",
      "source": [
        "np.argmax(probas)"
      ],
      "metadata": {
        "colab": {
          "base_uri": "https://localhost:8080/"
        },
        "id": "OFOAdcZDADFM",
        "outputId": "1ad5e9a0-9123-4f09-d9a1-db9f07404b50"
      },
      "execution_count": null,
      "outputs": [
        {
          "output_type": "execute_result",
          "data": {
            "text/plain": [
              "7"
            ]
          },
          "metadata": {},
          "execution_count": 24
        }
      ]
    },
    {
      "cell_type": "markdown",
      "metadata": {
        "id": "l-0ZBcERkDQ2"
      },
      "source": [
        "## Сохранение модели\n",
        "\n",
        " `model.save()` при вызове сохраняет модель в один файл.\n",
        "Сохраненный файл включает в себя:\n",
        "- архитектуру модели;\n",
        "- веса модели;\n",
        "- config-file (если такой был создан при компиляции);\n",
        "- оптимизатор и его состояние."
      ]
    },
    {
      "cell_type": "code",
      "metadata": {
        "id": "cW3VtcyxkDQ3"
      },
      "source": [
        "model.save(\"path_to_my_model.h5\")\n",
        "del model"
      ],
      "execution_count": null,
      "outputs": []
    },
    {
      "cell_type": "code",
      "source": [
        "model"
      ],
      "metadata": {
        "colab": {
          "base_uri": "https://localhost:8080/",
          "height": 169
        },
        "id": "UD-zOSAPVoET",
        "outputId": "e46f885c-a243-4039-9a16-b34b70b912cc"
      },
      "execution_count": null,
      "outputs": [
        {
          "output_type": "error",
          "ename": "NameError",
          "evalue": "ignored",
          "traceback": [
            "\u001b[0;31m---------------------------------------------------------------------------\u001b[0m",
            "\u001b[0;31mNameError\u001b[0m                                 Traceback (most recent call last)",
            "\u001b[0;32m<ipython-input-27-1f8a688cae5d>\u001b[0m in \u001b[0;36m<cell line: 1>\u001b[0;34m()\u001b[0m\n\u001b[0;32m----> 1\u001b[0;31m \u001b[0mmodel\u001b[0m\u001b[0;34m\u001b[0m\u001b[0;34m\u001b[0m\u001b[0m\n\u001b[0m",
            "\u001b[0;31mNameError\u001b[0m: name 'model' is not defined"
          ]
        }
      ]
    },
    {
      "cell_type": "code",
      "source": [
        "# Recreate the exact same model purely from the file:\n",
        "model = keras.models.load_model(\"path_to_my_model.h5\")"
      ],
      "metadata": {
        "id": "zzz5T91XVoyY"
      },
      "execution_count": null,
      "outputs": []
    },
    {
      "cell_type": "code",
      "metadata": {
        "colab": {
          "base_uri": "https://localhost:8080/"
        },
        "id": "3U2MUahZDQGJ",
        "outputId": "8f362fe1-bec1-41ae-ad67-15fed0e76a3b"
      },
      "source": [
        "model.summary()"
      ],
      "execution_count": null,
      "outputs": [
        {
          "output_type": "stream",
          "name": "stdout",
          "text": [
            "Model: \"our_first_model\"\n",
            "__________________________________________________________________________________________________\n",
            " Layer (type)                   Output Shape         Param #     Connected to                     \n",
            "==================================================================================================\n",
            " input_2 (InputLayer)           [(None, 28, 28)]     0           []                               \n",
            "                                                                                                  \n",
            " flatten (Flatten)              (None, 784)          0           ['input_2[0][0]']                \n",
            "                                                                                                  \n",
            " dense (Dense)                  (None, 32)           25120       ['flatten[0][0]']                \n",
            "                                                                                                  \n",
            " dense_2 (Dense)                (None, 32)           25120       ['flatten[0][0]']                \n",
            "                                                                                                  \n",
            " batch_normalization (BatchNorm  (None, 32)          128         ['dense[0][0]']                  \n",
            " alization)                                                                                       \n",
            "                                                                                                  \n",
            " batch_normalization_1 (BatchNo  (None, 32)          128         ['dense_2[0][0]']                \n",
            " rmalization)                                                                                     \n",
            "                                                                                                  \n",
            " dropout (Dropout)              (None, 32)           0           ['batch_normalization[0][0]']    \n",
            "                                                                                                  \n",
            " dropout_1 (Dropout)            (None, 32)           0           ['batch_normalization_1[0][0]']  \n",
            "                                                                                                  \n",
            " activation (Activation)        (None, 32)           0           ['dropout[0][0]']                \n",
            "                                                                                                  \n",
            " activation_1 (Activation)      (None, 32)           0           ['dropout_1[0][0]']              \n",
            "                                                                                                  \n",
            " dense_1 (Dense)                (None, 32)           1056        ['activation[0][0]']             \n",
            "                                                                                                  \n",
            " dense_3 (Dense)                (None, 32)           1056        ['activation_1[0][0]']           \n",
            "                                                                                                  \n",
            " add (Add)                      (None, 32)           0           ['dense_1[0][0]',                \n",
            "                                                                  'dense_3[0][0]']                \n",
            "                                                                                                  \n",
            " dense_4 (Dense)                (None, 32)           1056        ['add[0][0]']                    \n",
            "                                                                                                  \n",
            " dense_5 (Dense)                (None, 10)           330         ['dense_4[0][0]']                \n",
            "                                                                                                  \n",
            "==================================================================================================\n",
            "Total params: 53,994\n",
            "Trainable params: 53,866\n",
            "Non-trainable params: 128\n",
            "__________________________________________________________________________________________________\n"
          ]
        }
      ]
    },
    {
      "cell_type": "code",
      "source": [
        "# Save the weights to disk\n",
        "model.save_weights('model_weights.h5')"
      ],
      "metadata": {
        "id": "r6j65NrIASsU"
      },
      "execution_count": null,
      "outputs": []
    },
    {
      "cell_type": "code",
      "source": [
        "config_mnist = model.get_config()\n",
        "config_mnist"
      ],
      "metadata": {
        "colab": {
          "base_uri": "https://localhost:8080/"
        },
        "id": "ZOG5p0GfAUrM",
        "outputId": "1b164ffa-e3d7-468b-deaf-02ffefe3f410"
      },
      "execution_count": null,
      "outputs": [
        {
          "output_type": "execute_result",
          "data": {
            "text/plain": [
              "{'name': 'our_first_model',\n",
              " 'layers': [{'class_name': 'InputLayer',\n",
              "   'config': {'batch_input_shape': (None, 28, 28),\n",
              "    'dtype': 'float32',\n",
              "    'sparse': False,\n",
              "    'ragged': False,\n",
              "    'name': 'input_7'},\n",
              "   'name': 'input_7',\n",
              "   'inbound_nodes': []},\n",
              "  {'class_name': 'Flatten',\n",
              "   'config': {'name': 'flatten_4',\n",
              "    'trainable': True,\n",
              "    'dtype': 'float32',\n",
              "    'data_format': 'channels_last'},\n",
              "   'name': 'flatten_4',\n",
              "   'inbound_nodes': [[['input_7', 0, 0, {}]]]},\n",
              "  {'class_name': 'Dense',\n",
              "   'config': {'name': 'dense_17',\n",
              "    'trainable': True,\n",
              "    'dtype': 'float32',\n",
              "    'units': 32,\n",
              "    'activation': 'linear',\n",
              "    'use_bias': True,\n",
              "    'kernel_initializer': {'class_name': 'GlorotUniform',\n",
              "     'config': {'seed': None}},\n",
              "    'bias_initializer': {'class_name': 'Zeros', 'config': {}},\n",
              "    'kernel_regularizer': None,\n",
              "    'bias_regularizer': None,\n",
              "    'activity_regularizer': None,\n",
              "    'kernel_constraint': None,\n",
              "    'bias_constraint': None},\n",
              "   'name': 'dense_17',\n",
              "   'inbound_nodes': [[['flatten_4', 0, 0, {}]]]},\n",
              "  {'class_name': 'Dense',\n",
              "   'config': {'name': 'dense_19',\n",
              "    'trainable': True,\n",
              "    'dtype': 'float32',\n",
              "    'units': 32,\n",
              "    'activation': 'linear',\n",
              "    'use_bias': True,\n",
              "    'kernel_initializer': {'class_name': 'GlorotUniform',\n",
              "     'config': {'seed': None}},\n",
              "    'bias_initializer': {'class_name': 'Zeros', 'config': {}},\n",
              "    'kernel_regularizer': None,\n",
              "    'bias_regularizer': None,\n",
              "    'activity_regularizer': None,\n",
              "    'kernel_constraint': None,\n",
              "    'bias_constraint': None},\n",
              "   'name': 'dense_19',\n",
              "   'inbound_nodes': [[['flatten_4', 0, 0, {}]]]},\n",
              "  {'class_name': 'BatchNormalization',\n",
              "   'config': {'name': 'batch_normalization_8',\n",
              "    'trainable': True,\n",
              "    'dtype': 'float32',\n",
              "    'axis': ListWrapper([1]),\n",
              "    'momentum': 0.99,\n",
              "    'epsilon': 0.001,\n",
              "    'center': True,\n",
              "    'scale': True,\n",
              "    'beta_initializer': {'class_name': 'Zeros', 'config': {}},\n",
              "    'gamma_initializer': {'class_name': 'Ones', 'config': {}},\n",
              "    'moving_mean_initializer': {'class_name': 'Zeros', 'config': {}},\n",
              "    'moving_variance_initializer': {'class_name': 'Ones', 'config': {}},\n",
              "    'beta_regularizer': None,\n",
              "    'gamma_regularizer': None,\n",
              "    'beta_constraint': None,\n",
              "    'gamma_constraint': None},\n",
              "   'name': 'batch_normalization_8',\n",
              "   'inbound_nodes': [[['dense_17', 0, 0, {}]]]},\n",
              "  {'class_name': 'BatchNormalization',\n",
              "   'config': {'name': 'batch_normalization_9',\n",
              "    'trainable': True,\n",
              "    'dtype': 'float32',\n",
              "    'axis': ListWrapper([1]),\n",
              "    'momentum': 0.99,\n",
              "    'epsilon': 0.001,\n",
              "    'center': True,\n",
              "    'scale': True,\n",
              "    'beta_initializer': {'class_name': 'Zeros', 'config': {}},\n",
              "    'gamma_initializer': {'class_name': 'Ones', 'config': {}},\n",
              "    'moving_mean_initializer': {'class_name': 'Zeros', 'config': {}},\n",
              "    'moving_variance_initializer': {'class_name': 'Ones', 'config': {}},\n",
              "    'beta_regularizer': None,\n",
              "    'gamma_regularizer': None,\n",
              "    'beta_constraint': None,\n",
              "    'gamma_constraint': None},\n",
              "   'name': 'batch_normalization_9',\n",
              "   'inbound_nodes': [[['dense_19', 0, 0, {}]]]},\n",
              "  {'class_name': 'Dropout',\n",
              "   'config': {'name': 'dropout_7',\n",
              "    'trainable': True,\n",
              "    'dtype': 'float32',\n",
              "    'rate': 0.5,\n",
              "    'noise_shape': None,\n",
              "    'seed': None},\n",
              "   'name': 'dropout_7',\n",
              "   'inbound_nodes': [[['batch_normalization_8', 0, 0, {}]]]},\n",
              "  {'class_name': 'Dropout',\n",
              "   'config': {'name': 'dropout_8',\n",
              "    'trainable': True,\n",
              "    'dtype': 'float32',\n",
              "    'rate': 0.5,\n",
              "    'noise_shape': None,\n",
              "    'seed': None},\n",
              "   'name': 'dropout_8',\n",
              "   'inbound_nodes': [[['batch_normalization_9', 0, 0, {}]]]},\n",
              "  {'class_name': 'Activation',\n",
              "   'config': {'name': 'activation_6',\n",
              "    'trainable': True,\n",
              "    'dtype': 'float32',\n",
              "    'activation': 'relu'},\n",
              "   'name': 'activation_6',\n",
              "   'inbound_nodes': [[['dropout_7', 0, 0, {}]]]},\n",
              "  {'class_name': 'Activation',\n",
              "   'config': {'name': 'activation_7',\n",
              "    'trainable': True,\n",
              "    'dtype': 'float32',\n",
              "    'activation': 'relu'},\n",
              "   'name': 'activation_7',\n",
              "   'inbound_nodes': [[['dropout_8', 0, 0, {}]]]},\n",
              "  {'class_name': 'Dense',\n",
              "   'config': {'name': 'dense_18',\n",
              "    'trainable': True,\n",
              "    'dtype': 'float32',\n",
              "    'units': 32,\n",
              "    'activation': 'relu',\n",
              "    'use_bias': True,\n",
              "    'kernel_initializer': {'class_name': 'GlorotUniform',\n",
              "     'config': {'seed': None}},\n",
              "    'bias_initializer': {'class_name': 'Zeros', 'config': {}},\n",
              "    'kernel_regularizer': None,\n",
              "    'bias_regularizer': None,\n",
              "    'activity_regularizer': None,\n",
              "    'kernel_constraint': None,\n",
              "    'bias_constraint': None},\n",
              "   'name': 'dense_18',\n",
              "   'inbound_nodes': [[['activation_6', 0, 0, {}]]]},\n",
              "  {'class_name': 'Dense',\n",
              "   'config': {'name': 'dense_20',\n",
              "    'trainable': True,\n",
              "    'dtype': 'float32',\n",
              "    'units': 32,\n",
              "    'activation': 'relu',\n",
              "    'use_bias': True,\n",
              "    'kernel_initializer': {'class_name': 'GlorotUniform',\n",
              "     'config': {'seed': None}},\n",
              "    'bias_initializer': {'class_name': 'Zeros', 'config': {}},\n",
              "    'kernel_regularizer': None,\n",
              "    'bias_regularizer': None,\n",
              "    'activity_regularizer': None,\n",
              "    'kernel_constraint': None,\n",
              "    'bias_constraint': None},\n",
              "   'name': 'dense_20',\n",
              "   'inbound_nodes': [[['activation_7', 0, 0, {}]]]},\n",
              "  {'class_name': 'Add',\n",
              "   'config': {'name': 'add_2', 'trainable': True, 'dtype': 'float32'},\n",
              "   'name': 'add_2',\n",
              "   'inbound_nodes': [[['dense_18', 0, 0, {}], ['dense_20', 0, 0, {}]]]},\n",
              "  {'class_name': 'Dense',\n",
              "   'config': {'name': 'dense_21',\n",
              "    'trainable': True,\n",
              "    'dtype': 'float32',\n",
              "    'units': 32,\n",
              "    'activation': 'relu',\n",
              "    'use_bias': True,\n",
              "    'kernel_initializer': {'class_name': 'GlorotUniform',\n",
              "     'config': {'seed': None}},\n",
              "    'bias_initializer': {'class_name': 'Zeros', 'config': {}},\n",
              "    'kernel_regularizer': None,\n",
              "    'bias_regularizer': None,\n",
              "    'activity_regularizer': None,\n",
              "    'kernel_constraint': None,\n",
              "    'bias_constraint': None},\n",
              "   'name': 'dense_21',\n",
              "   'inbound_nodes': [[['add_2', 0, 0, {}]]]},\n",
              "  {'class_name': 'Dense',\n",
              "   'config': {'name': 'dense_22',\n",
              "    'trainable': True,\n",
              "    'dtype': 'float32',\n",
              "    'units': 10,\n",
              "    'activation': 'linear',\n",
              "    'use_bias': True,\n",
              "    'kernel_initializer': {'class_name': 'GlorotUniform',\n",
              "     'config': {'seed': None}},\n",
              "    'bias_initializer': {'class_name': 'Zeros', 'config': {}},\n",
              "    'kernel_regularizer': None,\n",
              "    'bias_regularizer': None,\n",
              "    'activity_regularizer': None,\n",
              "    'kernel_constraint': None,\n",
              "    'bias_constraint': None},\n",
              "   'name': 'dense_22',\n",
              "   'inbound_nodes': [[['dense_21', 0, 0, {}]]]}],\n",
              " 'input_layers': [['input_7', 0, 0]],\n",
              " 'output_layers': [['dense_22', 0, 0]]}"
            ]
          },
          "metadata": {},
          "execution_count": 78
        }
      ]
    },
    {
      "cell_type": "code",
      "source": [
        "keras.models.load_model('model_weights.h5')  # ValueError: No model found in config file"
      ],
      "metadata": {
        "colab": {
          "base_uri": "https://localhost:8080/",
          "height": 314
        },
        "id": "vvoz06fTAXdv",
        "outputId": "c43c8ab0-63db-479d-ac82-d9c8e9c38777"
      },
      "execution_count": null,
      "outputs": [
        {
          "output_type": "error",
          "ename": "ValueError",
          "evalue": "ignored",
          "traceback": [
            "\u001b[0;31m---------------------------------------------------------------------------\u001b[0m",
            "\u001b[0;31mValueError\u001b[0m                                Traceback (most recent call last)",
            "\u001b[0;32m<ipython-input-76-c899d79cd15b>\u001b[0m in \u001b[0;36m<module>\u001b[0;34m\u001b[0m\n\u001b[0;32m----> 1\u001b[0;31m \u001b[0mkeras\u001b[0m\u001b[0;34m.\u001b[0m\u001b[0mmodels\u001b[0m\u001b[0;34m.\u001b[0m\u001b[0mload_model\u001b[0m\u001b[0;34m(\u001b[0m\u001b[0;34m'model_weights.h5'\u001b[0m\u001b[0;34m)\u001b[0m  \u001b[0;31m# ValueError: No model found in config file\u001b[0m\u001b[0;34m\u001b[0m\u001b[0;34m\u001b[0m\u001b[0m\n\u001b[0m",
            "\u001b[0;32m/usr/local/lib/python3.8/dist-packages/keras/utils/traceback_utils.py\u001b[0m in \u001b[0;36merror_handler\u001b[0;34m(*args, **kwargs)\u001b[0m\n\u001b[1;32m     68\u001b[0m             \u001b[0;31m# To get the full stack trace, call:\u001b[0m\u001b[0;34m\u001b[0m\u001b[0;34m\u001b[0m\u001b[0;34m\u001b[0m\u001b[0m\n\u001b[1;32m     69\u001b[0m             \u001b[0;31m# `tf.debugging.disable_traceback_filtering()`\u001b[0m\u001b[0;34m\u001b[0m\u001b[0;34m\u001b[0m\u001b[0;34m\u001b[0m\u001b[0m\n\u001b[0;32m---> 70\u001b[0;31m             \u001b[0;32mraise\u001b[0m \u001b[0me\u001b[0m\u001b[0;34m.\u001b[0m\u001b[0mwith_traceback\u001b[0m\u001b[0;34m(\u001b[0m\u001b[0mfiltered_tb\u001b[0m\u001b[0;34m)\u001b[0m \u001b[0;32mfrom\u001b[0m \u001b[0;32mNone\u001b[0m\u001b[0;34m\u001b[0m\u001b[0;34m\u001b[0m\u001b[0m\n\u001b[0m\u001b[1;32m     71\u001b[0m         \u001b[0;32mfinally\u001b[0m\u001b[0;34m:\u001b[0m\u001b[0;34m\u001b[0m\u001b[0;34m\u001b[0m\u001b[0m\n\u001b[1;32m     72\u001b[0m             \u001b[0;32mdel\u001b[0m \u001b[0mfiltered_tb\u001b[0m\u001b[0;34m\u001b[0m\u001b[0;34m\u001b[0m\u001b[0m\n",
            "\u001b[0;32m/usr/local/lib/python3.8/dist-packages/keras/saving/legacy/hdf5_format.py\u001b[0m in \u001b[0;36mload_model_from_hdf5\u001b[0;34m(filepath, custom_objects, compile)\u001b[0m\n\u001b[1;32m    186\u001b[0m         \u001b[0mmodel_config\u001b[0m \u001b[0;34m=\u001b[0m \u001b[0mf\u001b[0m\u001b[0;34m.\u001b[0m\u001b[0mattrs\u001b[0m\u001b[0;34m.\u001b[0m\u001b[0mget\u001b[0m\u001b[0;34m(\u001b[0m\u001b[0;34m\"model_config\"\u001b[0m\u001b[0;34m)\u001b[0m\u001b[0;34m\u001b[0m\u001b[0;34m\u001b[0m\u001b[0m\n\u001b[1;32m    187\u001b[0m         \u001b[0;32mif\u001b[0m \u001b[0mmodel_config\u001b[0m \u001b[0;32mis\u001b[0m \u001b[0;32mNone\u001b[0m\u001b[0;34m:\u001b[0m\u001b[0;34m\u001b[0m\u001b[0;34m\u001b[0m\u001b[0m\n\u001b[0;32m--> 188\u001b[0;31m             raise ValueError(\n\u001b[0m\u001b[1;32m    189\u001b[0m                 \u001b[0;34mf\"No model config found in the file at {filepath}.\"\u001b[0m\u001b[0;34m\u001b[0m\u001b[0;34m\u001b[0m\u001b[0m\n\u001b[1;32m    190\u001b[0m             )\n",
            "\u001b[0;31mValueError\u001b[0m: No model config found in the file at <tensorflow.python.platform.gfile.GFile object at 0x7fbf60a81550>."
          ]
        }
      ]
    },
    {
      "cell_type": "code",
      "source": [
        "# Load the model weights from disk\n",
        "model.from_config(config_mnist)\n",
        "model.load_weights('model_weights.h5')"
      ],
      "metadata": {
        "id": "yi2HylLqAkbo"
      },
      "execution_count": null,
      "outputs": []
    },
    {
      "cell_type": "code",
      "source": [
        "model.evaluate(x_test, y_test)"
      ],
      "metadata": {
        "colab": {
          "base_uri": "https://localhost:8080/"
        },
        "id": "elT8z66RAt-6",
        "outputId": "4e1107b4-538a-4690-c3a3-e4a7ffd55cd1"
      },
      "execution_count": null,
      "outputs": [
        {
          "output_type": "stream",
          "name": "stdout",
          "text": [
            "313/313 [==============================] - 1s 3ms/step - loss: 0.1270 - accuracy: 0.9603\n"
          ]
        },
        {
          "output_type": "execute_result",
          "data": {
            "text/plain": [
              "[0.12699802219867706, 0.9603000283241272]"
            ]
          },
          "metadata": {},
          "execution_count": 80
        }
      ]
    },
    {
      "cell_type": "markdown",
      "source": [
        "# Дополнительные материалы\n",
        "\n",
        "1. Переобучение и недообучение - https://youtu.be/m7P7bnLxIc4\n",
        "2. Метрики для задачи регрессии - https://youtu.be/vh2smjQyhp8\n",
        "3. Метрики для задачи классификации - https://youtube.com/playlist?list=PLkJJmZ1EJno6CLyvD4DHc32Fed6cPBHje\n",
        "4. Борьба с переобучением - https://youtu.be/tqhsbEYKJRI\n",
        "5. Регуляризация - https://youtu.be/4WcHxtYy3_8\n",
        "\n"
      ],
      "metadata": {
        "id": "XuXD2vIeDZ-G"
      }
    }
  ]
}