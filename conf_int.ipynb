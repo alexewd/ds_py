{
  "cells": [
    {
      "cell_type": "markdown",
      "metadata": {
        "id": "view-in-github",
        "colab_type": "text"
      },
      "source": [
        "<a href=\"https://colab.research.google.com/github/svetaepc/ds_py/blob/master/conf_int.ipynb\" target=\"_parent\"><img src=\"https://colab.research.google.com/assets/colab-badge.svg\" alt=\"Open In Colab\"/></a>"
      ]
    },
    {
      "cell_type": "code",
      "execution_count": 1,
      "metadata": {
        "scrolled": true,
        "id": "vPuf4cLctCBr"
      },
      "outputs": [],
      "source": [
        "import numpy as np  \n",
        "import pandas as pd  # для работы с таблицами\n",
        "from scipy import stats # При работе со статистикой\n",
        "import matplotlib.pyplot as plt  # Библиотека для визуализации результатов \n",
        "\n",
        "import seaborn as sns # Более продвинутая библиотека для визуализации"
      ]
    },
    {
      "cell_type": "markdown",
      "metadata": {
        "id": "YokMD_58tCBs"
      },
      "source": [
        "\n",
        "<h3 style=\"text-align: center;\"><b>«Доверительные интервалы. Статистическая проверка гипотез для несвязанных выборок »</b></h3>\n",
        "\n"
      ]
    },
    {
      "cell_type": "code",
      "execution_count": 2,
      "metadata": {
        "id": "7M0IaU21tCBu"
      },
      "outputs": [],
      "source": [
        "#Вспомогательная функция для подсчета доверительного интервала\n",
        "\n",
        "def mean_confidence_interval(data, confidence=0.95): #Сложный пример реализации. Проще смотри в лекци. \n",
        "    n = len(data)\n",
        "    m, se = np.mean(data), stats.sem(data)\n",
        "    h = se * stats.t.ppf((1 + confidence)/2, n)  #  функция ppf из scipy возвращает нам перцентиль\n",
        "    return m-h, m, m+h "
      ]
    },
    {
      "cell_type": "code",
      "execution_count": 3,
      "metadata": {
        "colab": {
          "base_uri": "https://localhost:8080/"
        },
        "id": "cj6fdL0_tCBu",
        "outputId": "f2b8beee-8a06-4b88-d2fe-c240502508a8"
      },
      "outputs": [
        {
          "output_type": "stream",
          "name": "stdout",
          "text": [
            "(11.707786838827133, 12.391304347826088, 13.074821856825043)\n",
            "(11.02521592553596, 12.391304347826088, 13.757392770116216)\n"
          ]
        }
      ],
      "source": [
        "a =  [5,7,7,9,10,16,7,14,13,15,16,15,\n",
        "     16,17,18,13,14,15,6,13, 14, 12 ,13 ]\n",
        "\n",
        "print(mean_confidence_interval(a, 0.60))\n",
        "print(mean_confidence_interval(a, 0.90))"
      ]
    },
    {
      "cell_type": "markdown",
      "metadata": {
        "id": "UId8i4QQtCBv"
      },
      "source": [
        "<h3 style=\"text-align: center;\"><b>Выборы в президенты или зачем нам доверительные интерваллы?!</b></h3>\n",
        "\n",
        "<p style=\"align: center;\"><img align=center src=\"https://www.englisch-hilfen.de/images/usa/states/map.gif\"  width=400></p>\n",
        "\n"
      ]
    },
    {
      "cell_type": "code",
      "execution_count": 5,
      "metadata": {
        "id": "t29IP04FtCBv"
      },
      "outputs": [],
      "source": [
        "US_elect_county = 'https://raw.githubusercontent.com/a-milenkin/datasets_for_t-tests/main/2012_US_elect_county.csv'\n",
        " \n",
        "df = pd.read_csv(US_elect_county, sep=',',  on_bad_lines='skip') # Откроем датасет !!!on_bad_lines='skip'"
      ]
    },
    {
      "cell_type": "code",
      "execution_count": 6,
      "metadata": {
        "colab": {
          "base_uri": "https://localhost:8080/",
          "height": 423
        },
        "id": "I1H9Sl4itCBv",
        "outputId": "7e214e3b-9bfa-40a2-e039-1f91e07617a6"
      },
      "outputs": [
        {
          "output_type": "execute_result",
          "data": {
            "text/plain": [
              "     State Postal County Name     %\n",
              "0              AK      Alaska  41.6\n",
              "1              AK      Alaska  41.6\n",
              "2              AL     Alabama  38.4\n",
              "3              AL     Autauga  26.6\n",
              "4              AL     Baldwin  21.6\n",
              "...           ...         ...   ...\n",
              "4069           WV     Webster  34.2\n",
              "4070           WV      Wetzel  37.8\n",
              "4071           WV        Wirt  31.1\n",
              "4072           WV        Wood  32.9\n",
              "4073           WV     Wyoming  21.0\n",
              "\n",
              "[4072 rows x 3 columns]"
            ],
            "text/html": [
              "\n",
              "  <div id=\"df-f1c7e287-b87f-4729-987d-0e795500ad28\">\n",
              "    <div class=\"colab-df-container\">\n",
              "      <div>\n",
              "<style scoped>\n",
              "    .dataframe tbody tr th:only-of-type {\n",
              "        vertical-align: middle;\n",
              "    }\n",
              "\n",
              "    .dataframe tbody tr th {\n",
              "        vertical-align: top;\n",
              "    }\n",
              "\n",
              "    .dataframe thead th {\n",
              "        text-align: right;\n",
              "    }\n",
              "</style>\n",
              "<table border=\"1\" class=\"dataframe\">\n",
              "  <thead>\n",
              "    <tr style=\"text-align: right;\">\n",
              "      <th></th>\n",
              "      <th>State Postal</th>\n",
              "      <th>County Name</th>\n",
              "      <th>%</th>\n",
              "    </tr>\n",
              "  </thead>\n",
              "  <tbody>\n",
              "    <tr>\n",
              "      <th>0</th>\n",
              "      <td>AK</td>\n",
              "      <td>Alaska</td>\n",
              "      <td>41.6</td>\n",
              "    </tr>\n",
              "    <tr>\n",
              "      <th>1</th>\n",
              "      <td>AK</td>\n",
              "      <td>Alaska</td>\n",
              "      <td>41.6</td>\n",
              "    </tr>\n",
              "    <tr>\n",
              "      <th>2</th>\n",
              "      <td>AL</td>\n",
              "      <td>Alabama</td>\n",
              "      <td>38.4</td>\n",
              "    </tr>\n",
              "    <tr>\n",
              "      <th>3</th>\n",
              "      <td>AL</td>\n",
              "      <td>Autauga</td>\n",
              "      <td>26.6</td>\n",
              "    </tr>\n",
              "    <tr>\n",
              "      <th>4</th>\n",
              "      <td>AL</td>\n",
              "      <td>Baldwin</td>\n",
              "      <td>21.6</td>\n",
              "    </tr>\n",
              "    <tr>\n",
              "      <th>...</th>\n",
              "      <td>...</td>\n",
              "      <td>...</td>\n",
              "      <td>...</td>\n",
              "    </tr>\n",
              "    <tr>\n",
              "      <th>4069</th>\n",
              "      <td>WV</td>\n",
              "      <td>Webster</td>\n",
              "      <td>34.2</td>\n",
              "    </tr>\n",
              "    <tr>\n",
              "      <th>4070</th>\n",
              "      <td>WV</td>\n",
              "      <td>Wetzel</td>\n",
              "      <td>37.8</td>\n",
              "    </tr>\n",
              "    <tr>\n",
              "      <th>4071</th>\n",
              "      <td>WV</td>\n",
              "      <td>Wirt</td>\n",
              "      <td>31.1</td>\n",
              "    </tr>\n",
              "    <tr>\n",
              "      <th>4072</th>\n",
              "      <td>WV</td>\n",
              "      <td>Wood</td>\n",
              "      <td>32.9</td>\n",
              "    </tr>\n",
              "    <tr>\n",
              "      <th>4073</th>\n",
              "      <td>WV</td>\n",
              "      <td>Wyoming</td>\n",
              "      <td>21.0</td>\n",
              "    </tr>\n",
              "  </tbody>\n",
              "</table>\n",
              "<p>4072 rows × 3 columns</p>\n",
              "</div>\n",
              "      <button class=\"colab-df-convert\" onclick=\"convertToInteractive('df-f1c7e287-b87f-4729-987d-0e795500ad28')\"\n",
              "              title=\"Convert this dataframe to an interactive table.\"\n",
              "              style=\"display:none;\">\n",
              "        \n",
              "  <svg xmlns=\"http://www.w3.org/2000/svg\" height=\"24px\"viewBox=\"0 0 24 24\"\n",
              "       width=\"24px\">\n",
              "    <path d=\"M0 0h24v24H0V0z\" fill=\"none\"/>\n",
              "    <path d=\"M18.56 5.44l.94 2.06.94-2.06 2.06-.94-2.06-.94-.94-2.06-.94 2.06-2.06.94zm-11 1L8.5 8.5l.94-2.06 2.06-.94-2.06-.94L8.5 2.5l-.94 2.06-2.06.94zm10 10l.94 2.06.94-2.06 2.06-.94-2.06-.94-.94-2.06-.94 2.06-2.06.94z\"/><path d=\"M17.41 7.96l-1.37-1.37c-.4-.4-.92-.59-1.43-.59-.52 0-1.04.2-1.43.59L10.3 9.45l-7.72 7.72c-.78.78-.78 2.05 0 2.83L4 21.41c.39.39.9.59 1.41.59.51 0 1.02-.2 1.41-.59l7.78-7.78 2.81-2.81c.8-.78.8-2.07 0-2.86zM5.41 20L4 18.59l7.72-7.72 1.47 1.35L5.41 20z\"/>\n",
              "  </svg>\n",
              "      </button>\n",
              "      \n",
              "  <style>\n",
              "    .colab-df-container {\n",
              "      display:flex;\n",
              "      flex-wrap:wrap;\n",
              "      gap: 12px;\n",
              "    }\n",
              "\n",
              "    .colab-df-convert {\n",
              "      background-color: #E8F0FE;\n",
              "      border: none;\n",
              "      border-radius: 50%;\n",
              "      cursor: pointer;\n",
              "      display: none;\n",
              "      fill: #1967D2;\n",
              "      height: 32px;\n",
              "      padding: 0 0 0 0;\n",
              "      width: 32px;\n",
              "    }\n",
              "\n",
              "    .colab-df-convert:hover {\n",
              "      background-color: #E2EBFA;\n",
              "      box-shadow: 0px 1px 2px rgba(60, 64, 67, 0.3), 0px 1px 3px 1px rgba(60, 64, 67, 0.15);\n",
              "      fill: #174EA6;\n",
              "    }\n",
              "\n",
              "    [theme=dark] .colab-df-convert {\n",
              "      background-color: #3B4455;\n",
              "      fill: #D2E3FC;\n",
              "    }\n",
              "\n",
              "    [theme=dark] .colab-df-convert:hover {\n",
              "      background-color: #434B5C;\n",
              "      box-shadow: 0px 1px 3px 1px rgba(0, 0, 0, 0.15);\n",
              "      filter: drop-shadow(0px 1px 2px rgba(0, 0, 0, 0.3));\n",
              "      fill: #FFFFFF;\n",
              "    }\n",
              "  </style>\n",
              "\n",
              "      <script>\n",
              "        const buttonEl =\n",
              "          document.querySelector('#df-f1c7e287-b87f-4729-987d-0e795500ad28 button.colab-df-convert');\n",
              "        buttonEl.style.display =\n",
              "          google.colab.kernel.accessAllowed ? 'block' : 'none';\n",
              "\n",
              "        async function convertToInteractive(key) {\n",
              "          const element = document.querySelector('#df-f1c7e287-b87f-4729-987d-0e795500ad28');\n",
              "          const dataTable =\n",
              "            await google.colab.kernel.invokeFunction('convertToInteractive',\n",
              "                                                     [key], {});\n",
              "          if (!dataTable) return;\n",
              "\n",
              "          const docLinkHtml = 'Like what you see? Visit the ' +\n",
              "            '<a target=\"_blank\" href=https://colab.research.google.com/notebooks/data_table.ipynb>data table notebook</a>'\n",
              "            + ' to learn more about interactive tables.';\n",
              "          element.innerHTML = '';\n",
              "          dataTable['output_type'] = 'display_data';\n",
              "          await google.colab.output.renderOutput(dataTable, element);\n",
              "          const docLink = document.createElement('div');\n",
              "          docLink.innerHTML = docLinkHtml;\n",
              "          element.appendChild(docLink);\n",
              "        }\n",
              "      </script>\n",
              "    </div>\n",
              "  </div>\n",
              "  "
            ]
          },
          "metadata": {},
          "execution_count": 6
        }
      ],
      "source": [
        "df.dropna(how='any',inplace=True)  #Удалим пустые значения\n",
        "df=df[df['%']!='#DIV/0!'][['State Postal','County Name','%']] #Удалим мусор из данных и оставим только нужное\n",
        "df['%'] = df['%'].astype(float) # Приведем к численному значению результаты голосования\n",
        "df"
      ]
    },
    {
      "cell_type": "code",
      "execution_count": 7,
      "metadata": {
        "colab": {
          "base_uri": "https://localhost:8080/",
          "height": 283
        },
        "id": "xcuRTNBWtCBw",
        "outputId": "6c5b8326-119f-4cc8-ed23-e0dee48e1094"
      },
      "outputs": [
        {
          "output_type": "stream",
          "name": "stdout",
          "text": [
            "Среднее по всей выборке:  44.07946954813359\n"
          ]
        },
        {
          "output_type": "display_data",
          "data": {
            "text/plain": [
              "<Figure size 432x288 with 1 Axes>"
            ],
            "image/png": "[encoded data removed]"
          },
          "metadata": {
            "needs_background": "light"
          }
        }
      ],
      "source": [
        "df['%'].hist(bins=15)\n",
        "print('Среднее по всей выборке: ',df['%'].mean())"
      ]
    },
    {
      "cell_type": "code",
      "execution_count": 8,
      "metadata": {
        "colab": {
          "base_uri": "https://localhost:8080/"
        },
        "id": "TYAKLqpvtCBw",
        "outputId": "e68999f5-b4fa-451c-bbd3-908cd134c7e4"
      },
      "outputs": [
        {
          "output_type": "execute_result",
          "data": {
            "text/plain": [
              "(42.02508490862674, 46.23478260869565, 50.44448030876457)"
            ]
          },
          "metadata": {},
          "execution_count": 8
        }
      ],
      "source": [
        "some_states_1 = ['AK','OH','WV','ME','CA','MD']\n",
        "some_states_2 = ['WA','AK','DE']\n",
        "some_states_3 = ['AZ','RI','MA']\n",
        "\n",
        "sub_df = df.loc[df['State Postal'].isin(some_states_2)]  # Выборка по нескольким штатам\n",
        "l,s,r=mean_confidence_interval(sub_df['%'], 0.99)\n",
        "l,s,r"
      ]
    },
    {
      "cell_type": "code",
      "execution_count": 9,
      "metadata": {
        "colab": {
          "base_uri": "https://localhost:8080/"
        },
        "id": "NqROpIMltCBx",
        "outputId": "b064d026-f13e-4190-d4e0-45d5d0f6b56d"
      },
      "outputs": [
        {
          "output_type": "execute_result",
          "data": {
            "text/plain": [
              "ME    498\n",
              "MA    352\n",
              "TX    255\n",
              "VT    247\n",
              "NH    238\n",
              "VA    135\n",
              "KY    121\n",
              "MO    116\n",
              "KS    106\n",
              "IL    103\n",
              "NC    101\n",
              "IA    100\n",
              "TN     96\n",
              "NE     94\n",
              "IN     93\n",
              "OH     89\n",
              "MN     88\n",
              "MI     84\n",
              "MS     83\n",
              "OK     78\n",
              "AR     75\n",
              "WI     73\n",
              "AL     68\n",
              "PA     68\n",
              "SD     67\n",
              "LA     65\n",
              "NY     63\n",
              "CA     59\n",
              "MT     57\n",
              "WV     56\n",
              "ND     54\n",
              "ID     45\n",
              "RI     40\n",
              "WA     40\n",
              "OR     37\n",
              "NM     34\n",
              "MD     25\n",
              "NJ     22\n",
              "NV     18\n",
              "AZ     16\n",
              "HI      5\n",
              "DE      4\n",
              "DC      2\n",
              "AK      2\n",
              "Name: State Postal, dtype: int64"
            ]
          },
          "metadata": {},
          "execution_count": 9
        }
      ],
      "source": [
        "df['State Postal'].value_counts()  # Раскомментить, если интересно соотношение штатов. "
      ]
    },
    {
      "cell_type": "markdown",
      "metadata": {
        "id": "-XMHP9WxtCBx"
      },
      "source": [
        "<p style=\"align: center;\"><img align=center src=\"https://encrypted-tbn0.gstatic.com/images?q=tbn:ANd9GcQM7ZUiNIwL4fZho5F7zqWpLBw-eL-Ttg0-UA&usqp=CAU\"  width=400></p>\n",
        " "
      ]
    },
    {
      "cell_type": "markdown",
      "metadata": {
        "id": "QQojkdnctCBx"
      },
      "source": [
        "<div class=\"alert alert-info\">\n",
        "<b>Другой пример: </b>\n",
        "    \n",
        "Рассмотрим такой случай. Допустим, вы журналист и оказались в 2016 году в преддверии выборов президента в США. Вы хотите по результатам своих исследований достаточно точно определить, кто победит на этих выборах. Сколько вам необходимо опросить людей, чтобы назвать будущего президента с точность в 95%???\n",
        "</div>"
      ]
    },
    {
      "cell_type": "markdown",
      "metadata": {
        "id": "iM5-vL_XtCBx"
      },
      "source": [
        "<div class=\"alert alert-info\">\n",
        "    \n",
        "Результаты предшествующих исследований свидетельствуют, что стандартное отклонение генеральной совокупности приближенно равно 15. Пусть погрешность измерений $\\Delta$ = 5. Таким образом, обозначим стандартное отклонение $\\sigma$ = 15 и квантиль нормального распределения Z = 1,96.\n",
        "\n",
        "</div>"
      ]
    },
    {
      "cell_type": "markdown",
      "metadata": {
        "id": "m68HIDg9tCBy"
      },
      "source": [
        "$$ n = (\\frac{Z*\\sigma}{\\Delta})^2$$\n",
        "- $\\Delta$ - допустимая ошибка/погрешность, \n",
        "\n",
        "- $\\sigma$ - стандартное отклонение, \n",
        "\n",
        "- Z - квантиль нормального распределения\n"
      ]
    },
    {
      "cell_type": "code",
      "execution_count": 10,
      "metadata": {
        "id": "SrN7VupNtCBy"
      },
      "outputs": [],
      "source": [
        "sigma = 15  # Стандартное отклонение\n",
        "Z = 1.96  #  %   # Квантиль нормального распределения. \n",
        "Delta = 5 #%         #Погрешность"
      ]
    },
    {
      "cell_type": "code",
      "execution_count": 11,
      "metadata": {
        "colab": {
          "base_uri": "https://localhost:8080/"
        },
        "id": "Mpj0ctOGtCBy",
        "outputId": "39cc004d-f8bc-473f-9347-71e4d58d9631"
      },
      "outputs": [
        {
          "output_type": "execute_result",
          "data": {
            "text/plain": [
              "34"
            ]
          },
          "metadata": {},
          "execution_count": 11
        }
      ],
      "source": [
        "N = int(((sigma*Z)/Delta)**2)\n",
        "N"
      ]
    },
    {
      "cell_type": "markdown",
      "metadata": {
        "id": "EEtmNlOetCBy"
      },
      "source": [
        "# Проверим разумность наших расуждений:"
      ]
    },
    {
      "cell_type": "code",
      "execution_count": 12,
      "metadata": {
        "colab": {
          "base_uri": "https://localhost:8080/",
          "height": 320
        },
        "id": "M13_Hoo1tCBz",
        "outputId": "c77db06a-c7ca-4ed7-f06a-5b4c65830a5e"
      },
      "outputs": [
        {
          "output_type": "stream",
          "name": "stdout",
          "text": [
            "Стандартное отклонение:  15.742396788859017\n",
            "Среднее:  44.07946954813359\n"
          ]
        },
        {
          "output_type": "execute_result",
          "data": {
            "text/plain": [
              "<matplotlib.axes._subplots.AxesSubplot at 0x7ff039815a60>"
            ]
          },
          "metadata": {},
          "execution_count": 12
        },
        {
          "output_type": "display_data",
          "data": {
            "text/plain": [
              "<Figure size 432x288 with 1 Axes>"
            ],
            "image/png": "[encoded data removed]"
          },
          "metadata": {
            "needs_background": "light"
          }
        }
      ],
      "source": [
        "df = df['%']\n",
        "print('Стандартное отклонение: ', df.std())\n",
        "print('Среднее: ', df.mean())\n",
        "df.hist(bins=80)"
      ]
    },
    {
      "cell_type": "code",
      "execution_count": 13,
      "metadata": {
        "colab": {
          "base_uri": "https://localhost:8080/"
        },
        "id": "BYoFXj1ctCBz",
        "outputId": "e6a5066c-8a47-47f9-a675-a36e9872bae8"
      },
      "outputs": [
        {
          "output_type": "stream",
          "name": "stdout",
          "text": [
            "Среднее выборки:  45.67058823529412\n",
            "Среднее генеральной совокупности:  44.07946954813359\n",
            "Доверительный интервал: (40.67058823529412, 50.67058823529412)\n"
          ]
        }
      ],
      "source": [
        "MEAN = df.sample(n = int(N)).mean()  # Возьмем выборку из случайных n значений\n",
        "print('Среднее выборки: ', MEAN)\n",
        "print('Среднее генеральной совокупности: ', df.mean())\n",
        "print('Доверительный интервал: (', MEAN-Delta, ', ', MEAN+Delta, ')', sep='')"
      ]
    },
    {
      "cell_type": "code",
      "execution_count": 18,
      "metadata": {
        "id": "ezoxY47KtCBz"
      },
      "outputs": [],
      "source": [
        "# df.boxplot(by='%')"
      ]
    },
    {
      "cell_type": "code",
      "execution_count": 19,
      "metadata": {
        "colab": {
          "base_uri": "https://localhost:8080/"
        },
        "id": "cuFfWLbstCBz",
        "outputId": "6b2a9351-6280-4495-9960-8c95757982f1"
      },
      "outputs": [
        {
          "output_type": "execute_result",
          "data": {
            "text/plain": [
              "1.6448536269514722"
            ]
          },
          "metadata": {},
          "execution_count": 19
        }
      ],
      "source": [
        "from scipy.stats import norm\n",
        "norm.ppf(0.95, loc=0, scale=1)\n"
      ]
    },
    {
      "cell_type": "markdown",
      "metadata": {
        "id": "zuIvpRA4tCB0"
      },
      "source": [
        "# Проверка гипотез с помощью Python. "
      ]
    },
    {
      "cell_type": "code",
      "execution_count": 20,
      "metadata": {
        "colab": {
          "base_uri": "https://localhost:8080/"
        },
        "id": "Y20sDi8ktCB0",
        "outputId": "9aa23f63-7cdd-48bf-a497-4678d9802671"
      },
      "outputs": [
        {
          "output_type": "execute_result",
          "data": {
            "text/plain": [
              "(3.0258839844589733, 0.0025107075866209454)"
            ]
          },
          "metadata": {},
          "execution_count": 20
        }
      ],
      "source": [
        "from scipy import stats  # Импортируем библиотеку\n",
        "\n",
        "np.random.seed(21)  # Закрепим seed для воспроизводимости результата.\n",
        "\n",
        "# Генерируем случайное множество с нормальным распределением, где среднее = loc, а стандартное отклонение = scale\n",
        "A = stats.norm.rvs(loc=50, scale=10, size=500)  \n",
        "B = stats.norm.rvs(loc=49, scale=10, size=1500) \n",
        "\n",
        "\n",
        "t, p = stats.ttest_ind(A, B)\n",
        "t, p"
      ]
    },
    {
      "cell_type": "code",
      "execution_count": 21,
      "metadata": {
        "colab": {
          "base_uri": "https://localhost:8080/"
        },
        "id": "S1w7Oo8btCB0",
        "outputId": "04b51e94-fc84-4a69-b40d-5a2b901f1eaf"
      },
      "outputs": [
        {
          "output_type": "execute_result",
          "data": {
            "text/plain": [
              "Ttest_indResult(statistic=3.019304910727292, pvalue=0.002609079015138788)"
            ]
          },
          "metadata": {},
          "execution_count": 21
        }
      ],
      "source": [
        "stats.ttest_ind(A, B, equal_var = False)"
      ]
    },
    {
      "cell_type": "markdown",
      "metadata": {
        "id": "tAImk0sKtCB0"
      },
      "source": [
        "Мы получаем хорошее значение p, равное 0,0026, и, таким образом, мы отклоняем нулевую гипотезу и, таким образом,\n",
        "это доказывает, что средние значения двух распределений различны и различие статистически значимо."
      ]
    },
    {
      "cell_type": "markdown",
      "metadata": {
        "id": "ZoXBTrZttCB1"
      },
      "source": [
        "#### И действительно, если посмотреть на сгенерированные выборки. "
      ]
    },
    {
      "cell_type": "code",
      "execution_count": 22,
      "metadata": {
        "colab": {
          "base_uri": "https://localhost:8080/",
          "height": 265
        },
        "id": "jdtYY2EztCB1",
        "outputId": "e8ffa41b-a2c4-43b7-d30c-54fac94593c2"
      },
      "outputs": [
        {
          "output_type": "display_data",
          "data": {
            "text/plain": [
              "<Figure size 432x288 with 1 Axes>"
            ],
            "image/png": "[encoded data removed]"
          },
          "metadata": {
            "needs_background": "light"
          }
        }
      ],
      "source": [
        "plt.hist(B, bins=25); #Выборка A\n",
        "plt.hist(A, bins=25);  #Выборка B"
      ]
    },
    {
      "cell_type": "code",
      "execution_count": 23,
      "metadata": {
        "colab": {
          "base_uri": "https://localhost:8080/",
          "height": 265
        },
        "id": "PlYLFL-QtCB1",
        "outputId": "0f32bf8e-1fac-4abe-beb0-7e3d7b88e5e3"
      },
      "outputs": [
        {
          "output_type": "display_data",
          "data": {
            "text/plain": [
              "<Figure size 432x288 with 1 Axes>"
            ],
            "image/png": "[encoded data removed]"
          },
          "metadata": {
            "needs_background": "light"
          }
        }
      ],
      "source": [
        "plt.boxplot(A);\n",
        "plt.boxplot(B);"
      ]
    },
    {
      "cell_type": "markdown",
      "metadata": {
        "id": "nvNDQFXytCB1"
      },
      "source": [
        "# Проверка гипотез"
      ]
    },
    {
      "cell_type": "markdown",
      "metadata": {
        "id": "gyWGQ3gctCB1"
      },
      "source": [
        "### t-Тест Стьюдента"
      ]
    },
    {
      "cell_type": "code",
      "execution_count": 24,
      "metadata": {
        "colab": {
          "base_uri": "https://localhost:8080/"
        },
        "id": "dvQwfGNctCB2",
        "outputId": "7d866bf1-1030-4f0b-e8f0-52f32b285d1a"
      },
      "outputs": [
        {
          "output_type": "stream",
          "name": "stdout",
          "text": [
            "t = 12.348223942992178\n",
            "p = 2.395356067387906e-26\n"
          ]
        }
      ],
      "source": [
        "from scipy import stats\n",
        "\n",
        "np.random.seed(42)  # Закрепим seed для воспроизводимости результата.\n",
        "\n",
        "## Определим 2 случайных распределения\n",
        "N = 100  #Размер выборок\n",
        "\n",
        "b = np.random.randn(N) #Нормальное распределение с mean = 0 and var = 1\n",
        "a = np.random.randn(N) + 1.5 #Нормальное распределение с mean = 1.5 and var = 1\n",
        "\n",
        " \n",
        "t , p  = stats.ttest_ind(a, b)\n",
        "print(\"t = \" + str(t))\n",
        "print(\"p = \" + str(p))\n",
        "\n",
        "# Чем больше значение t-score, тем больше группы отличаются\n",
        "\n",
        "# Мы получаем хорошее значение p, меньше 0,05, и, таким образом, мы отклоняем нулевую гипотезу и, таким образом,\n",
        "# это доказывает, что средние значения двух распределений различны и различие статистически значимо."
      ]
    },
    {
      "cell_type": "code",
      "execution_count": 25,
      "metadata": {
        "colab": {
          "base_uri": "https://localhost:8080/",
          "height": 265
        },
        "id": "Eg2fB8F-tCB2",
        "outputId": "8eaf8ba7-8e7c-4179-be51-ee3f8b65098a"
      },
      "outputs": [
        {
          "output_type": "display_data",
          "data": {
            "text/plain": [
              "<Figure size 432x288 with 1 Axes>"
            ],
            "image/png": "[encoded data removed]"
          },
          "metadata": {
            "needs_background": "light"
          }
        }
      ],
      "source": [
        "plt.hist(a, bins=25); #Выборка a\n",
        "plt.hist(b, bins=25);  #Выборка b"
      ]
    },
    {
      "cell_type": "markdown",
      "metadata": {
        "id": "cKTNpNjptCB2"
      },
      "source": [
        "# a. Одновыборочный T-test (Выборка + ГС)"
      ]
    },
    {
      "cell_type": "markdown",
      "metadata": {
        "id": "bjeCYDFOtCB2"
      },
      "source": [
        "<div class=\"alert alert-info\">\n",
        "<b>Описание: </b>\n",
        "Давайте попробуем это на одном образце. Тест покажет нам, отличаются ли средние значения выборки и генеральной совокупности (сравниваем с генеральной!). Рассмотрим количество голосующих в Индии и население всего Мира. Отличается ли средний возраст избирателей Индии от возраста населения? Сейчас выясним!\n",
        "</div>"
      ]
    },
    {
      "cell_type": "code",
      "execution_count": 26,
      "metadata": {
        "colab": {
          "base_uri": "https://localhost:8080/"
        },
        "id": "8uhiWzi5tCB2",
        "outputId": "c6f93be9-4d48-4531-88bc-5dee1a662bff"
      },
      "outputs": [
        {
          "output_type": "execute_result",
          "data": {
            "text/plain": [
              "18.04097903032585"
            ]
          },
          "metadata": {},
          "execution_count": 26
        }
      ],
      "source": [
        "from scipy import stats\n",
        " \n",
        "\n",
        "population_ages1=stats.norm.rvs(loc=18, scale=45, size=150000)   \n",
        "population_ages2=stats.norm.rvs(loc=18, scale=10, size=100000)\n",
        "population_ages=np.concatenate((population_ages1,population_ages2))  # Сгенерировали всю популяцию. \n",
        "\n",
        "india_ages1=stats.norm.rvs(loc=18, scale=45, size=9000)  # Индия 1\n",
        "india_ages2=stats.norm.rvs(loc=18, scale=35, size=9000)\n",
        "india_ages=np.concatenate((india_ages1, india_ages2)) #Выборка\n",
        "population_ages.mean()"
      ]
    },
    {
      "cell_type": "code",
      "execution_count": 27,
      "metadata": {
        "colab": {
          "base_uri": "https://localhost:8080/"
        },
        "id": "DlE81QD5tCB3",
        "outputId": "9f8a6dec-6813-45c0-ff53-ff3bb6fcbeac"
      },
      "outputs": [
        {
          "output_type": "execute_result",
          "data": {
            "text/plain": [
              "17.912805318044327"
            ]
          },
          "metadata": {},
          "execution_count": 27
        }
      ],
      "source": [
        "india_ages.mean()"
      ]
    },
    {
      "cell_type": "code",
      "execution_count": 28,
      "metadata": {
        "colab": {
          "base_uri": "https://localhost:8080/"
        },
        "id": "AGJsBZuztCB3",
        "outputId": "b840315b-11b4-4398-d57a-5c07c1d72b27"
      },
      "outputs": [
        {
          "output_type": "execute_result",
          "data": {
            "text/plain": [
              "Ttest_1sampResult(statistic=-0.42891365181458957, pvalue=0.6679911980738282)"
            ]
          },
          "metadata": {},
          "execution_count": 28
        }
      ],
      "source": [
        "stats.ttest_1samp(a=india_ages, popmean=population_ages.mean())"
      ]
    },
    {
      "cell_type": "markdown",
      "metadata": {
        "id": "xWXkwbTKtCB3"
      },
      "source": [
        "**Теперь это значение `statistic=0.1197` говорит нам, насколько отклоняется выборочное среднее от нулевой гипотезы.**"
      ]
    },
    {
      "cell_type": "code",
      "execution_count": 29,
      "metadata": {
        "colab": {
          "base_uri": "https://localhost:8080/",
          "height": 265
        },
        "id": "2T4929i3tCB3",
        "outputId": "9d45dd93-b249-44dd-e088-3b2cf9ff46f5"
      },
      "outputs": [
        {
          "output_type": "display_data",
          "data": {
            "text/plain": [
              "<Figure size 432x288 with 1 Axes>"
            ],
            "image/png": "[encoded data removed]"
          },
          "metadata": {
            "needs_background": "light"
          }
        }
      ],
      "source": [
        "plt.hist(population_ages, bins=120); # Вся популяция.\n",
        "plt.hist(india_ages, bins=120);  # Выборка"
      ]
    },
    {
      "cell_type": "markdown",
      "metadata": {
        "id": "GNeTMhVltCB4"
      },
      "source": [
        "# b. Двух-выборочный T-test (Две выборки)"
      ]
    },
    {
      "cell_type": "markdown",
      "metadata": {
        "id": "v2Jrxt6htCB4"
      },
      "source": [
        "<div class=\"alert alert-info\">\n",
        "<b>Описание: </b>\n",
        "Такой тест показывает, имеют ли две выборки данных разные средние значения (Теперь у нас две разные выборки, а не одна!). Здесь мы принимаем нулевую гипотезу о том, что обе группы имеют равные средние. Для этого нам не нужен известный параметр численности.\n",
        "</div>"
      ]
    },
    {
      "cell_type": "code",
      "execution_count": 30,
      "metadata": {
        "colab": {
          "base_uri": "https://localhost:8080/"
        },
        "id": "NQOf-sEXtCB4",
        "outputId": "257f15b1-3211-4365-f79e-1c6b3dcf4ed5"
      },
      "outputs": [
        {
          "output_type": "execute_result",
          "data": {
            "text/plain": [
              "16.93951973942959"
            ]
          },
          "metadata": {},
          "execution_count": 30
        }
      ],
      "source": [
        "np.random.seed(84)\n",
        "maharashtra_ages1=stats.norm.rvs(loc=17,scale=5,size=3000)\n",
        "maharashtra_ages2=stats.norm.rvs(loc=17,scale=15,size=2000)\n",
        " \n",
        "\n",
        "maharashtra_ages=np.concatenate((maharashtra_ages1,maharashtra_ages2))\n",
        "maharashtra_ages.mean()"
      ]
    },
    {
      "cell_type": "code",
      "execution_count": 31,
      "metadata": {
        "colab": {
          "base_uri": "https://localhost:8080/",
          "height": 265
        },
        "id": "Mx8sduq1tCB4",
        "outputId": "3ab99e45-9771-4e86-8a50-dc92e86aecf3"
      },
      "outputs": [
        {
          "output_type": "display_data",
          "data": {
            "text/plain": [
              "<Figure size 432x288 with 1 Axes>"
            ],
            "image/png": "[encoded data removed]"
          },
          "metadata": {
            "needs_background": "light"
          }
        }
      ],
      "source": [
        "#Раскомментировать, если интересно увидеть отличия визуально\n",
        "plt.hist(maharashtra_ages, bins=120);\n",
        "plt.hist(maharashtra_ages2, bins=120);"
      ]
    },
    {
      "cell_type": "code",
      "execution_count": 32,
      "metadata": {
        "colab": {
          "base_uri": "https://localhost:8080/"
        },
        "id": "rKp-zrWWtCB5",
        "outputId": "8fd49482-a0ad-4568-f016-412e06af1c24"
      },
      "outputs": [
        {
          "output_type": "execute_result",
          "data": {
            "text/plain": [
              "Ttest_indResult(statistic=2.929306138816564, pvalue=0.003400545578247028)"
            ]
          },
          "metadata": {},
          "execution_count": 32
        }
      ],
      "source": [
        "stats.ttest_ind(a=india_ages, b=maharashtra_ages, equal_var=False)  # Смотри сюда!!! "
      ]
    },
    {
      "cell_type": "markdown",
      "metadata": {
        "id": "WgY5LdGFtCB5"
      },
      "source": [
        "**Значение `pvalue= 0.0014` говорит о том, что существует вероятность 0.14%, что данные выборки настолько далеко друг от друга\n",
        "для двух одинаковых групп. Это меньше, чем уровень достоверности 5%.**"
      ]
    },
    {
      "cell_type": "code",
      "execution_count": 33,
      "metadata": {
        "id": "NuBi8AMotCB5"
      },
      "outputs": [],
      "source": [
        "#Расскомментировать, если интересно увидеть отличия визуально\n",
        "# plt.hist(india_ages, bins=120);\n",
        "# plt.hist(maharashtra_ages, bins=120);"
      ]
    },
    {
      "cell_type": "markdown",
      "metadata": {
        "id": "fIU-90sztCB5"
      },
      "source": [
        "# c. Paired T-test (Сравнение зависимых)"
      ]
    },
    {
      "cell_type": "markdown",
      "metadata": {
        "id": "s1PEAH0htCB6"
      },
      "source": [
        "<div class=\"alert alert-info\">\n",
        "<b>Описание: </b>\n",
        "    \n",
        "T-критерий парной выборки, иногда называемый `t-критерием` зависимой выборки, представляет собой статистическую процедуру, используемую для определения того, равна ли нулю средняя разница между двумя наборами наблюдений. В парном выборочном `t-тесте` каждый субъект или объект измеряется дважды, в результате чего получаются пары наблюдений. Общие применения парного `t-критерия` выборки включают исследования случай-контроль или планы повторных измерений. \n",
        "\n",
        " Предположим, вас интересует оценка эффективности программы обучения компании. Один из подходов, который вы можете рассмотреть, - это измерение производительности выборки сотрудников до и после завершения программы и анализ различий с использованием парного выборочного `t-критерия`. \n",
        "</div>"
      ]
    },
    {
      "cell_type": "markdown",
      "metadata": {
        "id": "1dj0aXiJtCB6"
      },
      "source": [
        " "
      ]
    },
    {
      "cell_type": "code",
      "execution_count": 34,
      "metadata": {
        "colab": {
          "base_uri": "https://localhost:8080/",
          "height": 300
        },
        "id": "S4SLjUZFtCB6",
        "outputId": "e0224e18-60ef-44d6-8583-e48a761e18e7"
      },
      "outputs": [
        {
          "output_type": "execute_result",
          "data": {
            "text/plain": [
              "       weight_before  weight_after  weight_change\n",
              "count     100.000000    100.000000     100.000000\n",
              "mean      245.670775    244.316557      -1.354218\n",
              "std        31.536594     31.351874       5.157803\n",
              "min       155.577504    155.560250     -13.370467\n",
              "25%       227.831705    224.927586      -5.204568\n",
              "50%       246.688266    246.142588      -1.629565\n",
              "75%       265.132293    261.730528       1.989948\n",
              "max       336.154582    332.751176      14.935431"
            ],
            "text/html": [
              "\n",
              "  <div id=\"df-af92c288-9788-49a5-8f73-534965fd9187\">\n",
              "    <div class=\"colab-df-container\">\n",
              "      <div>\n",
              "<style scoped>\n",
              "    .dataframe tbody tr th:only-of-type {\n",
              "        vertical-align: middle;\n",
              "    }\n",
              "\n",
              "    .dataframe tbody tr th {\n",
              "        vertical-align: top;\n",
              "    }\n",
              "\n",
              "    .dataframe thead th {\n",
              "        text-align: right;\n",
              "    }\n",
              "</style>\n",
              "<table border=\"1\" class=\"dataframe\">\n",
              "  <thead>\n",
              "    <tr style=\"text-align: right;\">\n",
              "      <th></th>\n",
              "      <th>weight_before</th>\n",
              "      <th>weight_after</th>\n",
              "      <th>weight_change</th>\n",
              "    </tr>\n",
              "  </thead>\n",
              "  <tbody>\n",
              "    <tr>\n",
              "      <th>count</th>\n",
              "      <td>100.000000</td>\n",
              "      <td>100.000000</td>\n",
              "      <td>100.000000</td>\n",
              "    </tr>\n",
              "    <tr>\n",
              "      <th>mean</th>\n",
              "      <td>245.670775</td>\n",
              "      <td>244.316557</td>\n",
              "      <td>-1.354218</td>\n",
              "    </tr>\n",
              "    <tr>\n",
              "      <th>std</th>\n",
              "      <td>31.536594</td>\n",
              "      <td>31.351874</td>\n",
              "      <td>5.157803</td>\n",
              "    </tr>\n",
              "    <tr>\n",
              "      <th>min</th>\n",
              "      <td>155.577504</td>\n",
              "      <td>155.560250</td>\n",
              "      <td>-13.370467</td>\n",
              "    </tr>\n",
              "    <tr>\n",
              "      <th>25%</th>\n",
              "      <td>227.831705</td>\n",
              "      <td>224.927586</td>\n",
              "      <td>-5.204568</td>\n",
              "    </tr>\n",
              "    <tr>\n",
              "      <th>50%</th>\n",
              "      <td>246.688266</td>\n",
              "      <td>246.142588</td>\n",
              "      <td>-1.629565</td>\n",
              "    </tr>\n",
              "    <tr>\n",
              "      <th>75%</th>\n",
              "      <td>265.132293</td>\n",
              "      <td>261.730528</td>\n",
              "      <td>1.989948</td>\n",
              "    </tr>\n",
              "    <tr>\n",
              "      <th>max</th>\n",
              "      <td>336.154582</td>\n",
              "      <td>332.751176</td>\n",
              "      <td>14.935431</td>\n",
              "    </tr>\n",
              "  </tbody>\n",
              "</table>\n",
              "</div>\n",
              "      <button class=\"colab-df-convert\" onclick=\"convertToInteractive('df-af92c288-9788-49a5-8f73-534965fd9187')\"\n",
              "              title=\"Convert this dataframe to an interactive table.\"\n",
              "              style=\"display:none;\">\n",
              "        \n",
              "  <svg xmlns=\"http://www.w3.org/2000/svg\" height=\"24px\"viewBox=\"0 0 24 24\"\n",
              "       width=\"24px\">\n",
              "    <path d=\"M0 0h24v24H0V0z\" fill=\"none\"/>\n",
              "    <path d=\"M18.56 5.44l.94 2.06.94-2.06 2.06-.94-2.06-.94-.94-2.06-.94 2.06-2.06.94zm-11 1L8.5 8.5l.94-2.06 2.06-.94-2.06-.94L8.5 2.5l-.94 2.06-2.06.94zm10 10l.94 2.06.94-2.06 2.06-.94-2.06-.94-.94-2.06-.94 2.06-2.06.94z\"/><path d=\"M17.41 7.96l-1.37-1.37c-.4-.4-.92-.59-1.43-.59-.52 0-1.04.2-1.43.59L10.3 9.45l-7.72 7.72c-.78.78-.78 2.05 0 2.83L4 21.41c.39.39.9.59 1.41.59.51 0 1.02-.2 1.41-.59l7.78-7.78 2.81-2.81c.8-.78.8-2.07 0-2.86zM5.41 20L4 18.59l7.72-7.72 1.47 1.35L5.41 20z\"/>\n",
              "  </svg>\n",
              "      </button>\n",
              "      \n",
              "  <style>\n",
              "    .colab-df-container {\n",
              "      display:flex;\n",
              "      flex-wrap:wrap;\n",
              "      gap: 12px;\n",
              "    }\n",
              "\n",
              "    .colab-df-convert {\n",
              "      background-color: #E8F0FE;\n",
              "      border: none;\n",
              "      border-radius: 50%;\n",
              "      cursor: pointer;\n",
              "      display: none;\n",
              "      fill: #1967D2;\n",
              "      height: 32px;\n",
              "      padding: 0 0 0 0;\n",
              "      width: 32px;\n",
              "    }\n",
              "\n",
              "    .colab-df-convert:hover {\n",
              "      background-color: #E2EBFA;\n",
              "      box-shadow: 0px 1px 2px rgba(60, 64, 67, 0.3), 0px 1px 3px 1px rgba(60, 64, 67, 0.15);\n",
              "      fill: #174EA6;\n",
              "    }\n",
              "\n",
              "    [theme=dark] .colab-df-convert {\n",
              "      background-color: #3B4455;\n",
              "      fill: #D2E3FC;\n",
              "    }\n",
              "\n",
              "    [theme=dark] .colab-df-convert:hover {\n",
              "      background-color: #434B5C;\n",
              "      box-shadow: 0px 1px 3px 1px rgba(0, 0, 0, 0.15);\n",
              "      filter: drop-shadow(0px 1px 2px rgba(0, 0, 0, 0.3));\n",
              "      fill: #FFFFFF;\n",
              "    }\n",
              "  </style>\n",
              "\n",
              "      <script>\n",
              "        const buttonEl =\n",
              "          document.querySelector('#df-af92c288-9788-49a5-8f73-534965fd9187 button.colab-df-convert');\n",
              "        buttonEl.style.display =\n",
              "          google.colab.kernel.accessAllowed ? 'block' : 'none';\n",
              "\n",
              "        async function convertToInteractive(key) {\n",
              "          const element = document.querySelector('#df-af92c288-9788-49a5-8f73-534965fd9187');\n",
              "          const dataTable =\n",
              "            await google.colab.kernel.invokeFunction('convertToInteractive',\n",
              "                                                     [key], {});\n",
              "          if (!dataTable) return;\n",
              "\n",
              "          const docLinkHtml = 'Like what you see? Visit the ' +\n",
              "            '<a target=\"_blank\" href=https://colab.research.google.com/notebooks/data_table.ipynb>data table notebook</a>'\n",
              "            + ' to learn more about interactive tables.';\n",
              "          element.innerHTML = '';\n",
              "          dataTable['output_type'] = 'display_data';\n",
              "          await google.colab.output.renderOutput(dataTable, element);\n",
              "          const docLink = document.createElement('div');\n",
              "          docLink.innerHTML = docLinkHtml;\n",
              "          element.appendChild(docLink);\n",
              "        }\n",
              "      </script>\n",
              "    </div>\n",
              "  </div>\n",
              "  "
            ]
          },
          "metadata": {},
          "execution_count": 34
        }
      ],
      "source": [
        "np.random.seed(12)\n",
        "before = stats.norm.rvs(scale = 30, loc = 250, size = 100)\n",
        "after = before + stats.norm.rvs(scale = 5, loc = -.273, size = 100)\n",
        "weight_df = pd.DataFrame({\"weight_before\":before,\n",
        "                         \"weight_after\":after,\n",
        "                         \"weight_change\":after-before})\n",
        "weight_df.describe()"
      ]
    },
    {
      "cell_type": "code",
      "execution_count": 35,
      "metadata": {
        "colab": {
          "base_uri": "https://localhost:8080/"
        },
        "id": "U4RpAar7tCB6",
        "outputId": "56671b7d-6674-405b-82da-4802bafe8db7"
      },
      "outputs": [
        {
          "output_type": "execute_result",
          "data": {
            "text/plain": [
              "Ttest_relResult(statistic=2.625571255881005, pvalue=0.01002290520917281)"
            ]
          },
          "metadata": {},
          "execution_count": 35
        }
      ],
      "source": [
        "stats.ttest_rel(a=before, b=after)"
      ]
    },
    {
      "cell_type": "markdown",
      "metadata": {
        "id": "91YUAUc1tCB7"
      },
      "source": [
        "**Итак, мы видим, что у нас есть только 1% шансов найти такие различия между образцами случайно.**"
      ]
    },
    {
      "cell_type": "markdown",
      "metadata": {
        "id": "3TN__uyytCB7"
      },
      "source": [
        "# Практическое применение t-Тест Стьюдента"
      ]
    },
    {
      "cell_type": "markdown",
      "metadata": {
        "id": "e4N4AG_QtCB7"
      },
      "source": [
        "<div class=\"alert alert-info\">\n",
        "<b>Задание: </b>\n",
        "    \n",
        "Представим, что вы следователь какой-то крупной рекламной компаннии. \n",
        "Ваша задача иследовать рынок манго в течение последних нескольких лет.\n",
        "У вас уже есть предварительные данные. Ваши подчиненные решили схалтурить и принести вам совсем другие отчеты. \n",
        "\n",
        "Сможели ли вы их разоблачить с помощью t-Тест Стьюдента?\n",
        "</div>"
      ]
    },
    {
      "cell_type": "code",
      "execution_count": 37,
      "metadata": {
        "colab": {
          "base_uri": "https://localhost:8080/"
        },
        "id": "SdCTNjEJtCB8",
        "outputId": "ae0e9bc8-0e6f-425b-b3b3-731520a6ce97"
      },
      "outputs": [
        {
          "output_type": "execute_result",
          "data": {
            "text/plain": [
              "(-135.56983375430264, 0.0)"
            ]
          },
          "metadata": {},
          "execution_count": 37
        }
      ],
      "source": [
        "avocado = 'https://raw.githubusercontent.com/a-milenkin/datasets_for_t-tests/main/avocado.csv'\n",
        "Students = 'https://raw.githubusercontent.com/a-milenkin/datasets_for_t-tests/main/StudentsPerformance.csv'\n",
        "\n",
        "A = pd.read_csv(avocado, sep=',', index_col=0, on_bad_lines='skip').AveragePrice[:1000]\n",
        "B = pd.read_csv(Students, sep=',', index_col=0, on_bad_lines='skip')['math score']\n",
        "t, p = stats.ttest_ind(A, B)\n",
        "t, p"
      ]
    },
    {
      "cell_type": "code",
      "execution_count": 38,
      "metadata": {
        "colab": {
          "base_uri": "https://localhost:8080/",
          "height": 265
        },
        "id": "XV2dPuS7tCB8",
        "outputId": "f3bc9977-2666-4420-b848-40e5a5607a08"
      },
      "outputs": [
        {
          "output_type": "display_data",
          "data": {
            "text/plain": [
              "<Figure size 432x288 with 1 Axes>"
            ],
            "image/png": "[encoded data removed]"
          },
          "metadata": {
            "needs_background": "light"
          }
        }
      ],
      "source": [
        "#и действительно выборки пренадлежать разным распределениям\n",
        "\n",
        "plt.hist(B, bins=70);\n",
        "plt.hist(A, bins=70);"
      ]
    },
    {
      "cell_type": "markdown",
      "metadata": {
        "id": "BywHSzsPtCB8"
      },
      "source": [
        "# $\\chi^{2}$ -  Критерий пирсона"
      ]
    },
    {
      "cell_type": "code",
      "execution_count": 39,
      "metadata": {
        "colab": {
          "base_uri": "https://localhost:8080/"
        },
        "id": "46uUHN92tCB8",
        "outputId": "d60d29fd-f3b9-4059-afba-d7dfd006c896"
      },
      "outputs": [
        {
          "output_type": "stream",
          "name": "stdout",
          "text": [
            "Реальная таблица\n",
            "[[6 0]\n",
            " [1 3]]\n",
            "3.353174603174603 0.0670755382739151 1\n",
            "Ожидаемая таблица\n",
            "[[4.2 1.8]\n",
            " [2.8 1.2]]\n"
          ]
        }
      ],
      "source": [
        "import scipy as spy\n",
        "from scipy import stats\n",
        "\n",
        "# Сгенерируем случайную матрицу 10х5\n",
        "X, y = np.random.randint(2, size=50).reshape(10, 5), np.random.randint(2, size=10) \n",
        "contingency_table = spy.sparse.coo_matrix( (np.ones_like(y), (X[:, 0], y)),    \n",
        "                                         shape=(np.unique(X[:, 0]).shape[0], \n",
        "                                                np.unique(y).shape[0])).A\n",
        "\n",
        "print('Реальная таблица')\n",
        "print(contingency_table)\n",
        "\n",
        "chi2, p, dof, expected =  stats.chi2_contingency(contingency_table)\n",
        "\n",
        "print(chi2, p, dof)\n",
        "\n",
        "print('Ожидаемая таблица')\n",
        "print(expected)\n",
        "\n",
        "# Возвращает:\n",
        "# chi2 : Посчитанную статистику теста.\n",
        "# p :  p-value теста\n",
        "# dof : Степени свободы\n",
        "# expected : Ожидаемые частоты, основанные на предельных суммах таблицы."
      ]
    },
    {
      "cell_type": "code",
      "execution_count": 40,
      "metadata": {
        "colab": {
          "base_uri": "https://localhost:8080/"
        },
        "id": "35BxogQ_tCB8",
        "outputId": "2bab48cd-0252-4663-c611-7cea06e15b48"
      },
      "outputs": [
        {
          "output_type": "execute_result",
          "data": {
            "text/plain": [
              "1.134065616009821e-18"
            ]
          },
          "metadata": {},
          "execution_count": 40
        }
      ],
      "source": [
        "contingency_table = [[207, 3], [74, 45]]\n",
        "chi2, p, dof, expected =  stats.chi2_contingency(contingency_table)\n",
        "p"
      ]
    },
    {
      "cell_type": "code",
      "execution_count": 40,
      "metadata": {
        "id": "DiH6EvPmtCB9"
      },
      "outputs": [],
      "source": []
    },
    {
      "cell_type": "markdown",
      "metadata": {
        "id": "idZY690UtCB9"
      },
      "source": [
        "**Пример использования Хи-квадрат теста**"
      ]
    },
    {
      "cell_type": "code",
      "execution_count": 41,
      "metadata": {
        "colab": {
          "base_uri": "https://localhost:8080/"
        },
        "id": "jdQZ6BeOtCB9",
        "outputId": "c7883a54-4e09-4dc3-e0b4-b9276a1b8866"
      },
      "outputs": [
        {
          "output_type": "stream",
          "name": "stdout",
          "text": [
            "[[10 20 30]\n",
            " [ 6  9 17]]\n",
            "stat=0.272, p=0.873\n",
            "Вероятно независимы\n"
          ]
        }
      ],
      "source": [
        "from scipy import stats\n",
        "\n",
        " \n",
        "table = [[10, 20, 30],\n",
        "         [6,  9,  17]]\n",
        "\n",
        "print(np.array(table))\n",
        "stat, p, dof, expected = stats.chi2_contingency(table)\n",
        "print('stat=%.3f, p=%.3f' % (stat, p))\n",
        "if p > 0.05:\n",
        "    print('Вероятно независимы')\n",
        "else:\n",
        "    print('Вероятно зависимы')"
      ]
    },
    {
      "cell_type": "code",
      "execution_count": 42,
      "metadata": {
        "colab": {
          "base_uri": "https://localhost:8080/",
          "height": 143
        },
        "id": "34ShpdIztCB9",
        "outputId": "6f3fbe21-a9bd-4950-dd22-18377f382956"
      },
      "outputs": [
        {
          "output_type": "execute_result",
          "data": {
            "text/plain": [
              "          Math SL AA  Math SL AI  Math HL\n",
              "Биология          25          46       15\n",
              "Химия             15          44       15\n",
              "Физика            10          10       20"
            ],
            "text/html": [
              "\n",
              "  <div id=\"df-0809776e-ab16-44df-bc9a-42a94184a739\">\n",
              "    <div class=\"colab-df-container\">\n",
              "      <div>\n",
              "<style scoped>\n",
              "    .dataframe tbody tr th:only-of-type {\n",
              "        vertical-align: middle;\n",
              "    }\n",
              "\n",
              "    .dataframe tbody tr th {\n",
              "        vertical-align: top;\n",
              "    }\n",
              "\n",
              "    .dataframe thead th {\n",
              "        text-align: right;\n",
              "    }\n",
              "</style>\n",
              "<table border=\"1\" class=\"dataframe\">\n",
              "  <thead>\n",
              "    <tr style=\"text-align: right;\">\n",
              "      <th></th>\n",
              "      <th>Math SL AA</th>\n",
              "      <th>Math SL AI</th>\n",
              "      <th>Math HL</th>\n",
              "    </tr>\n",
              "  </thead>\n",
              "  <tbody>\n",
              "    <tr>\n",
              "      <th>Биология</th>\n",
              "      <td>25</td>\n",
              "      <td>46</td>\n",
              "      <td>15</td>\n",
              "    </tr>\n",
              "    <tr>\n",
              "      <th>Химия</th>\n",
              "      <td>15</td>\n",
              "      <td>44</td>\n",
              "      <td>15</td>\n",
              "    </tr>\n",
              "    <tr>\n",
              "      <th>Физика</th>\n",
              "      <td>10</td>\n",
              "      <td>10</td>\n",
              "      <td>20</td>\n",
              "    </tr>\n",
              "  </tbody>\n",
              "</table>\n",
              "</div>\n",
              "      <button class=\"colab-df-convert\" onclick=\"convertToInteractive('df-0809776e-ab16-44df-bc9a-42a94184a739')\"\n",
              "              title=\"Convert this dataframe to an interactive table.\"\n",
              "              style=\"display:none;\">\n",
              "        \n",
              "  <svg xmlns=\"http://www.w3.org/2000/svg\" height=\"24px\"viewBox=\"0 0 24 24\"\n",
              "       width=\"24px\">\n",
              "    <path d=\"M0 0h24v24H0V0z\" fill=\"none\"/>\n",
              "    <path d=\"M18.56 5.44l.94 2.06.94-2.06 2.06-.94-2.06-.94-.94-2.06-.94 2.06-2.06.94zm-11 1L8.5 8.5l.94-2.06 2.06-.94-2.06-.94L8.5 2.5l-.94 2.06-2.06.94zm10 10l.94 2.06.94-2.06 2.06-.94-2.06-.94-.94-2.06-.94 2.06-2.06.94z\"/><path d=\"M17.41 7.96l-1.37-1.37c-.4-.4-.92-.59-1.43-.59-.52 0-1.04.2-1.43.59L10.3 9.45l-7.72 7.72c-.78.78-.78 2.05 0 2.83L4 21.41c.39.39.9.59 1.41.59.51 0 1.02-.2 1.41-.59l7.78-7.78 2.81-2.81c.8-.78.8-2.07 0-2.86zM5.41 20L4 18.59l7.72-7.72 1.47 1.35L5.41 20z\"/>\n",
              "  </svg>\n",
              "      </button>\n",
              "      \n",
              "  <style>\n",
              "    .colab-df-container {\n",
              "      display:flex;\n",
              "      flex-wrap:wrap;\n",
              "      gap: 12px;\n",
              "    }\n",
              "\n",
              "    .colab-df-convert {\n",
              "      background-color: #E8F0FE;\n",
              "      border: none;\n",
              "      border-radius: 50%;\n",
              "      cursor: pointer;\n",
              "      display: none;\n",
              "      fill: #1967D2;\n",
              "      height: 32px;\n",
              "      padding: 0 0 0 0;\n",
              "      width: 32px;\n",
              "    }\n",
              "\n",
              "    .colab-df-convert:hover {\n",
              "      background-color: #E2EBFA;\n",
              "      box-shadow: 0px 1px 2px rgba(60, 64, 67, 0.3), 0px 1px 3px 1px rgba(60, 64, 67, 0.15);\n",
              "      fill: #174EA6;\n",
              "    }\n",
              "\n",
              "    [theme=dark] .colab-df-convert {\n",
              "      background-color: #3B4455;\n",
              "      fill: #D2E3FC;\n",
              "    }\n",
              "\n",
              "    [theme=dark] .colab-df-convert:hover {\n",
              "      background-color: #434B5C;\n",
              "      box-shadow: 0px 1px 3px 1px rgba(0, 0, 0, 0.15);\n",
              "      filter: drop-shadow(0px 1px 2px rgba(0, 0, 0, 0.3));\n",
              "      fill: #FFFFFF;\n",
              "    }\n",
              "  </style>\n",
              "\n",
              "      <script>\n",
              "        const buttonEl =\n",
              "          document.querySelector('#df-0809776e-ab16-44df-bc9a-42a94184a739 button.colab-df-convert');\n",
              "        buttonEl.style.display =\n",
              "          google.colab.kernel.accessAllowed ? 'block' : 'none';\n",
              "\n",
              "        async function convertToInteractive(key) {\n",
              "          const element = document.querySelector('#df-0809776e-ab16-44df-bc9a-42a94184a739');\n",
              "          const dataTable =\n",
              "            await google.colab.kernel.invokeFunction('convertToInteractive',\n",
              "                                                     [key], {});\n",
              "          if (!dataTable) return;\n",
              "\n",
              "          const docLinkHtml = 'Like what you see? Visit the ' +\n",
              "            '<a target=\"_blank\" href=https://colab.research.google.com/notebooks/data_table.ipynb>data table notebook</a>'\n",
              "            + ' to learn more about interactive tables.';\n",
              "          element.innerHTML = '';\n",
              "          dataTable['output_type'] = 'display_data';\n",
              "          await google.colab.output.renderOutput(dataTable, element);\n",
              "          const docLink = document.createElement('div');\n",
              "          docLink.innerHTML = docLinkHtml;\n",
              "          element.appendChild(docLink);\n",
              "        }\n",
              "      </script>\n",
              "    </div>\n",
              "  </div>\n",
              "  "
            ]
          },
          "metadata": {},
          "execution_count": 42
        }
      ],
      "source": [
        "subjects = pd.DataFrame(\n",
        "    [\n",
        "        [25,46,15],\n",
        "        [15,44,15],\n",
        "        [10,10,20]\n",
        "    ],\n",
        "    index=['Биология','Химия','Физика'],\n",
        "    columns=['Math SL AA','Math SL AI','Math HL'])\n",
        "subjects"
      ]
    },
    {
      "cell_type": "markdown",
      "metadata": {
        "id": "TtfgtnsJtCB-"
      },
      "source": [
        "**Если рассчитанный хи-квадрат больше критического значения, мы отклоняем нулевую гипотезу.**"
      ]
    },
    {
      "cell_type": "code",
      "execution_count": 43,
      "metadata": {
        "colab": {
          "base_uri": "https://localhost:8080/"
        },
        "id": "ppVJrnDPtCB-",
        "outputId": "551a9680-ce85-459c-96b8-e2fedd0b99e0"
      },
      "outputs": [
        {
          "output_type": "stream",
          "name": "stdout",
          "text": [
            "p-value is:  0.0004176680832291999\n",
            "chi=20.392835, критическоре значение=9.487729\n",
            "\n",
            "На 0.05 уровене значимости, мы отвергаем нулевые гипотезы и принимаем H1.\n",
            "        Они не независимы.\n"
          ]
        }
      ],
      "source": [
        "chi, pval, dof, exp = stats.chi2_contingency(subjects) #  \n",
        "print('p-value is: ', pval)\n",
        "significance = 0.05\n",
        "p = 1 - significance\n",
        "critical_value = stats.chi2.ppf(p, dof)\n",
        "print('chi=%.6f, критическоре значение=%.6f\\n' % (chi, critical_value))\n",
        "\n",
        "\n",
        "\n",
        "if chi > critical_value:\n",
        "    print(\"\"\"На %.2f уровене значимости, мы отвергаем нулевые гипотезы и принимаем H1.\n",
        "        Они не независимы.\"\"\" % (significance))\n",
        "else:\n",
        "    print(\"\"\"На %.2f уровене значимости, мы принимаем нулевые гипотезы. \n",
        "        Они независимы.\"\"\" % (significance))"
      ]
    },
    {
      "cell_type": "markdown",
      "metadata": {
        "id": "XBm6AiDItCB-"
      },
      "source": [
        "**В качестве альтернативы мы можем сравнить p-значение и уровень значимости. Если значение p <уровня значимости, мы отклоняем нулевую гипотезу.**"
      ]
    },
    {
      "cell_type": "code",
      "execution_count": 44,
      "metadata": {
        "colab": {
          "base_uri": "https://localhost:8080/"
        },
        "id": "A0Ha5d40tCB-",
        "outputId": "b9183987-6ecf-401a-ce7c-eaa20c61cc97"
      },
      "outputs": [
        {
          "output_type": "stream",
          "name": "stdout",
          "text": [
            "p-value=0.000418, significance=0.05\n",
            "\n",
            "На 0.05 уровене значимости, мы отвергаем нулевые гипотезы и принимаем H1.\n",
            "            Они не независимы.\n"
          ]
        }
      ],
      "source": [
        "chi, pval, dof, exp = stats.chi2_contingency(subjects)\n",
        "significance = 0.05\n",
        "print('p-value=%.6f, significance=%.2f\\n' % (pval, significance))\n",
        "\n",
        "\n",
        "if pval < significance:\n",
        "    print(\"\"\"На %.2f уровене значимости, мы отвергаем нулевые гипотезы и принимаем H1.\n",
        "            Они не независимы.\"\"\" % (significance))\n",
        "else:\n",
        "    print(\"\"\"На %.2f уровене значимости, мы принимаем нулевые гипотезы.  \n",
        "            Они независимы.\"\"\" % (significance))"
      ]
    },
    {
      "cell_type": "markdown",
      "metadata": {
        "id": "jNL94fwctCB_"
      },
      "source": [
        "# Точный критерий Фишера "
      ]
    },
    {
      "cell_type": "markdown",
      "metadata": {
        "id": "QYO3TH7StCB_"
      },
      "source": [
        "<div class=\"alert alert-info\">\n",
        "<b>Вспомним: </b>\n",
        "    \n",
        "Критерий Стьюдента позволяет работать с численными переменными, но не позволяет работать с категориальными. Для этого существует критерий Фишера (или Хи-квадрат). Одна из его задач сказать, насколько случайно распределены значения между группами. Позволяет проверить гипотезу, есть ли значимый перевес между группами. Смотри пример в лекции.\n",
        "    \n",
        "</div>"
      ]
    },
    {
      "cell_type": "markdown",
      "metadata": {
        "id": "r45Sjg7QtCB_"
      },
      "source": [
        "<div class=\"alert alert-info\">\n",
        "<b>Пример: </b>\n",
        "    \n",
        "Например, вы хотите проверить нет ли дискриминации \n",
        "по половому признаку в сфере Data Science.\n",
        "Вы узнали, что в какой-то компании после серии собеседований \n",
        "107 мужчин взяли на работу, а отказали 93-м мужчинам. \n",
        "А среди женщин 74 взяли, а отказали 45-и.\n",
        "Относится ли руководство компании \n",
        "предвзято к мужчинам или к женщинам?\n",
        "    \n",
        "</div>"
      ]
    },
    {
      "cell_type": "code",
      "execution_count": null,
      "metadata": {
        "id": "pvWslJxItCB_",
        "outputId": "2fc8d081-d071-46e6-90f4-8726fe079e67"
      },
      "outputs": [
        {
          "name": "stdout",
          "output_type": "stream",
          "text": [
            "[[107, 93], [74, 45]]\n"
          ]
        },
        {
          "data": {
            "text/plain": [
              "(0.6996512641673932, 0.1607594221528123)"
            ]
          },
          "execution_count": 104,
          "metadata": {},
          "output_type": "execute_result"
        }
      ],
      "source": [
        "import scipy as spy\n",
        "\n",
        "x = [[107,93],[74,45]]\n",
        "print(x)\n",
        "oddsratio, pvalue = spy.stats.fisher_exact(x)\n",
        "\n",
        "oddsratio, pvalue"
      ]
    },
    {
      "cell_type": "markdown",
      "metadata": {
        "id": "hYSKav8ZtCB_"
      },
      "source": [
        "# Проанализируем теперь рынок жилья в New York City"
      ]
    },
    {
      "cell_type": "markdown",
      "metadata": {
        "id": "WuH8lVegtCCA"
      },
      "source": [
        "New York City Airbnb Open Data\n",
        "Airbnb listings and metrics in NYC, NY, USA (2019)"
      ]
    },
    {
      "cell_type": "markdown",
      "metadata": {
        "id": "gfOUmAJgtCCA"
      },
      "source": [
        "<p style=\"align: center;\"><img align=center src=\"https://upload.wikimedia.org/wikipedia/commons/5/5a/New_York_City_District_Map.png\n",
        "\"  width=400></p>\n"
      ]
    },
    {
      "cell_type": "markdown",
      "metadata": {
        "id": "2QM-dyB3tCCA"
      },
      "source": [
        "<div class=\"alert alert-info\">\n",
        "<b>Предостирежение: </b>\n",
        "    \n",
        "Для построения доверительного интервала с помощью метода, показанного выше, важно, чтобы распределение исследуемой выборки имело нормально распределение\n",
        "</div>"
      ]
    },
    {
      "cell_type": "code",
      "execution_count": null,
      "metadata": {
        "id": "ELpD2RcWtCCA",
        "outputId": "0ed32630-7086-42ae-daa5-7b23f6e7fff9"
      },
      "outputs": [
        {
          "data": {
            "text/html": [
              "<div>\n",
              "<style scoped>\n",
              "    .dataframe tbody tr th:only-of-type {\n",
              "        vertical-align: middle;\n",
              "    }\n",
              "\n",
              "    .dataframe tbody tr th {\n",
              "        vertical-align: top;\n",
              "    }\n",
              "\n",
              "    .dataframe thead th {\n",
              "        text-align: right;\n",
              "    }\n",
              "</style>\n",
              "<table border=\"1\" class=\"dataframe\">\n",
              "  <thead>\n",
              "    <tr style=\"text-align: right;\">\n",
              "      <th></th>\n",
              "      <th>id</th>\n",
              "      <th>name</th>\n",
              "      <th>host_id</th>\n",
              "      <th>host_name</th>\n",
              "      <th>neighbourhood_group</th>\n",
              "      <th>neighbourhood</th>\n",
              "      <th>latitude</th>\n",
              "      <th>longitude</th>\n",
              "      <th>room_type</th>\n",
              "      <th>price</th>\n",
              "      <th>minimum_nights</th>\n",
              "      <th>number_of_reviews</th>\n",
              "      <th>last_review</th>\n",
              "      <th>reviews_per_month</th>\n",
              "      <th>calculated_host_listings_count</th>\n",
              "      <th>availability_365</th>\n",
              "    </tr>\n",
              "  </thead>\n",
              "  <tbody>\n",
              "    <tr>\n",
              "      <th>0</th>\n",
              "      <td>2539</td>\n",
              "      <td>Clean &amp; quiet apt home by the park</td>\n",
              "      <td>2787</td>\n",
              "      <td>John</td>\n",
              "      <td>Brooklyn</td>\n",
              "      <td>Kensington</td>\n",
              "      <td>40.64749</td>\n",
              "      <td>-73.97237</td>\n",
              "      <td>Private room</td>\n",
              "      <td>149</td>\n",
              "      <td>1</td>\n",
              "      <td>9</td>\n",
              "      <td>2018-10-19</td>\n",
              "      <td>0.21</td>\n",
              "      <td>6</td>\n",
              "      <td>365</td>\n",
              "    </tr>\n",
              "    <tr>\n",
              "      <th>1</th>\n",
              "      <td>2595</td>\n",
              "      <td>Skylit Midtown Castle</td>\n",
              "      <td>2845</td>\n",
              "      <td>Jennifer</td>\n",
              "      <td>Manhattan</td>\n",
              "      <td>Midtown</td>\n",
              "      <td>40.75362</td>\n",
              "      <td>-73.98377</td>\n",
              "      <td>Entire home/apt</td>\n",
              "      <td>225</td>\n",
              "      <td>1</td>\n",
              "      <td>45</td>\n",
              "      <td>2019-05-21</td>\n",
              "      <td>0.38</td>\n",
              "      <td>2</td>\n",
              "      <td>355</td>\n",
              "    </tr>\n",
              "    <tr>\n",
              "      <th>3</th>\n",
              "      <td>3831</td>\n",
              "      <td>Cozy Entire Floor of Brownstone</td>\n",
              "      <td>4869</td>\n",
              "      <td>LisaRoxanne</td>\n",
              "      <td>Brooklyn</td>\n",
              "      <td>Clinton Hill</td>\n",
              "      <td>40.68514</td>\n",
              "      <td>-73.95976</td>\n",
              "      <td>Entire home/apt</td>\n",
              "      <td>89</td>\n",
              "      <td>1</td>\n",
              "      <td>270</td>\n",
              "      <td>2019-07-05</td>\n",
              "      <td>4.64</td>\n",
              "      <td>1</td>\n",
              "      <td>194</td>\n",
              "    </tr>\n",
              "    <tr>\n",
              "      <th>4</th>\n",
              "      <td>5022</td>\n",
              "      <td>Entire Apt: Spacious Studio/Loft by central park</td>\n",
              "      <td>7192</td>\n",
              "      <td>Laura</td>\n",
              "      <td>Manhattan</td>\n",
              "      <td>East Harlem</td>\n",
              "      <td>40.79851</td>\n",
              "      <td>-73.94399</td>\n",
              "      <td>Entire home/apt</td>\n",
              "      <td>80</td>\n",
              "      <td>10</td>\n",
              "      <td>9</td>\n",
              "      <td>2018-11-19</td>\n",
              "      <td>0.10</td>\n",
              "      <td>1</td>\n",
              "      <td>0</td>\n",
              "    </tr>\n",
              "  </tbody>\n",
              "</table>\n",
              "</div>"
            ],
            "text/plain": [
              "     id                                              name  host_id  \\\n",
              "0  2539                Clean & quiet apt home by the park     2787   \n",
              "1  2595                             Skylit Midtown Castle     2845   \n",
              "3  3831                   Cozy Entire Floor of Brownstone     4869   \n",
              "4  5022  Entire Apt: Spacious Studio/Loft by central park     7192   \n",
              "\n",
              "     host_name neighbourhood_group neighbourhood  latitude  longitude  \\\n",
              "0         John            Brooklyn    Kensington  40.64749  -73.97237   \n",
              "1     Jennifer           Manhattan       Midtown  40.75362  -73.98377   \n",
              "3  LisaRoxanne            Brooklyn  Clinton Hill  40.68514  -73.95976   \n",
              "4        Laura           Manhattan   East Harlem  40.79851  -73.94399   \n",
              "\n",
              "         room_type  price  minimum_nights  number_of_reviews last_review  \\\n",
              "0     Private room    149               1                  9  2018-10-19   \n",
              "1  Entire home/apt    225               1                 45  2019-05-21   \n",
              "3  Entire home/apt     89               1                270  2019-07-05   \n",
              "4  Entire home/apt     80              10                  9  2018-11-19   \n",
              "\n",
              "   reviews_per_month  calculated_host_listings_count  availability_365  \n",
              "0               0.21                               6               365  \n",
              "1               0.38                               2               355  \n",
              "3               4.64                               1               194  \n",
              "4               0.10                               1                 0  "
            ]
          },
          "execution_count": 105,
          "metadata": {},
          "output_type": "execute_result"
        }
      ],
      "source": [
        "url  = 'https://raw.githubusercontent.com/a-milenkin/datasets_for_t-tests/main/AB_NYC_2019.csv'\n",
        "df = pd.read_csv(url, error_bad_lines=False)\n",
        "#df = pd.read_csv('AB_NYC_2019.csv')\n",
        "df.dropna(how='any',inplace=True)\n",
        "df.head(4)"
      ]
    },
    {
      "cell_type": "code",
      "execution_count": null,
      "metadata": {
        "id": "1ioaQtZJtCCB",
        "outputId": "ab61c7a8-5499-4e05-a3a6-86c6ef481e5b"
      },
      "outputs": [
        {
          "data": {
            "text/plain": [
              "<AxesSubplot:>"
            ]
          },
          "execution_count": 106,
          "metadata": {},
          "output_type": "execute_result"
        },
        {
          "data": {
            "image/png": "[encoded data removed]",
            "text/plain": [
              "<Figure size 432x288 with 1 Axes>"
            ]
          },
          "metadata": {
            "needs_background": "light"
          },
          "output_type": "display_data"
        }
      ],
      "source": [
        "df[df.price<500].price.hist(bins=30)"
      ]
    },
    {
      "cell_type": "code",
      "execution_count": null,
      "metadata": {
        "id": "wlZnXZujtCCB",
        "outputId": "6de3220c-9eb5-4a0f-9350-a47bac070430"
      },
      "outputs": [
        {
          "name": "stdout",
          "output_type": "stream",
          "text": [
            "Можно ли использовать тут наш подход?\n"
          ]
        }
      ],
      "source": [
        "print('Можно ли использовать тут наш подход?')"
      ]
    },
    {
      "cell_type": "markdown",
      "metadata": {
        "id": "ofHruciLtCCB"
      },
      "source": [
        "# Теперь сделаем распределение нормальным"
      ]
    },
    {
      "cell_type": "code",
      "execution_count": null,
      "metadata": {
        "id": "abKhTUlvtCCC",
        "outputId": "12b0f43b-4822-41d3-ab49-b58087b1696b"
      },
      "outputs": [
        {
          "data": {
            "text/plain": [
              "<AxesSubplot:>"
            ]
          },
          "execution_count": 108,
          "metadata": {},
          "output_type": "execute_result"
        },
        {
          "data": {
            "image/png": "[encoded data removed]",
            "text/plain": [
              "<Figure size 432x288 with 1 Axes>"
            ]
          },
          "metadata": {
            "needs_background": "light"
          },
          "output_type": "display_data"
        }
      ],
      "source": [
        "np.log2(abs(df[df.price<500].price)+1).hist(bins=30)"
      ]
    },
    {
      "cell_type": "code",
      "execution_count": null,
      "metadata": {
        "id": "7Roi-5nqtCCC"
      },
      "outputs": [],
      "source": [
        "# df.neighbourhood_group.hist()"
      ]
    },
    {
      "cell_type": "code",
      "execution_count": null,
      "metadata": {
        "id": "2GzBRYcItCCC",
        "outputId": "e57173a7-a663-4b2f-b5f5-28d0ad7af7f5"
      },
      "outputs": [
        {
          "name": "stdout",
          "output_type": "stream",
          "text": [
            "122.56345677697612\n"
          ]
        },
        {
          "data": {
            "text/plain": [
              "(111.68856960410567, 115.49388042203987, 119.29919123997406)"
            ]
          },
          "execution_count": 110,
          "metadata": {},
          "output_type": "execute_result"
        }
      ],
      "source": [
        "print(df[df.price<400].price.mean())\n",
        "\n",
        "data = df[(df.neighbourhood_group == 'Brooklyn') | (df.neighbourhood_group=='Staten Island') | (df.neighbourhood_group=='Queens')].price\n",
        "\n",
        "mean_confidence_interval(data, confidence=0.999) # Возможно вам понадобиться эта функция."
      ]
    },
    {
      "cell_type": "markdown",
      "metadata": {
        "id": "GVgqnArwtCCD"
      },
      "source": [
        "# Задания для самостоятельного решения\n"
      ]
    },
    {
      "cell_type": "markdown",
      "metadata": {
        "id": "da8WU-GCtCCD"
      },
      "source": [
        "<div class=\"alert alert-info\">\n",
        "<b>Задание № 0</b>\n",
        "\n",
        "Найдите минимально необходимый объем выборки для построения интервальной оценки среднего.\n",
        "\n",
        "- желаемая точность $\\Delta$ = 3;\n",
        "- дисперсия $\\sigma^2$  = 225;\n",
        "- уровень доверия $\\beta$ = 0.95.\n",
        "    \n",
        "Ответ округлите до целого\n",
        "</div>"
      ]
    },
    {
      "cell_type": "markdown",
      "metadata": {
        "id": "Jd-UhxqAtCCD"
      },
      "source": [
        "Решение:\n",
        "\n",
        "$\\beta$ = 0.95  =>  \n",
        "$\\alpha$ = 0.05  =>  \n",
        "1 - $\\alpha$ / 2 = 0.975  =>  \n",
        "Z $\\alpha$ = 1.96  =>   \n",
        "n = (Z $\\alpha$ * $\\sigma$  / $\\Delta$)$^2$"
      ]
    },
    {
      "cell_type": "code",
      "execution_count": null,
      "metadata": {
        "id": "o18AMpRNtCCE",
        "outputId": "3bbaff0d-27c9-4fad-9767-f36ea985daa6"
      },
      "outputs": [
        {
          "name": "stdout",
          "output_type": "stream",
          "text": [
            "Минимально необходимый объем выборки для построения интервальной оценки среднего: 96\n"
          ]
        }
      ],
      "source": [
        "### Ваши код/вычисления...\n",
        "\n",
        "import math\n",
        "import scipy.stats as st\n",
        "\n",
        "confidence_interval = 0.95\n",
        "significance_level = 1 - confidence_interval\n",
        "level = 1 - significance_level / 2\n",
        "disp = 225\n",
        "delta = 3\n",
        "n = round((st.norm.ppf(level) * math.sqrt(disp) / delta)**2)\n",
        "print('Минимально необходимый объем выборки для построения интервальной оценки среднего:', n)"
      ]
    },
    {
      "cell_type": "code",
      "execution_count": null,
      "metadata": {
        "id": "ucPNUW0RtCCE",
        "outputId": "62827d37-95cf-4a0b-a4fa-712332f9ed3f"
      },
      "outputs": [
        {
          "name": "stdout",
          "output_type": "stream",
          "text": [
            "Минимально необходимый объем выборки для построения интервальной оценки среднего: 96\n"
          ]
        }
      ],
      "source": [
        "def count_(confidence=0.95, disp=225, delta=3):\n",
        "    n = round((st.norm.ppf((1 + confidence) / 2) * math.sqrt(disp) / delta)**2)\n",
        "    return n\n",
        "print('Минимально необходимый объем выборки для построения интервальной оценки среднего:', \\\n",
        "      count_(confidence=0.95, disp=225, delta=3))"
      ]
    },
    {
      "cell_type": "code",
      "execution_count": null,
      "metadata": {
        "id": "C7Rf-J0AtCCE",
        "outputId": "aea8ec13-e84a-4ec7-fff5-9baef69d1d0c"
      },
      "outputs": [
        {
          "name": "stdout",
          "output_type": "stream",
          "text": [
            "Минимально необходимый объем выборки для построения интервальной оценки среднего: 96\n"
          ]
        }
      ],
      "source": [
        "n = round((1.96 * math.sqrt(225) / 3)**2) \n",
        "print('Минимально необходимый объем выборки для построения интервальной оценки среднего:', n)"
      ]
    },
    {
      "cell_type": "markdown",
      "metadata": {
        "id": "t-NVMpMqtCCF"
      },
      "source": [
        "<div class=\"alert alert-info\">\n",
        "<b>Задание № 1</b>\n",
        "\n",
        "Постройте `98% доверительный интервал` для среднего значения, если известно, что\n",
        "\n",
        "- объем выборки n = 25;\n",
        "- среднее значение по выборке $\\overline x$ = 130;\n",
        "- Из достоверных источников известно стандартное отклонение $\\sigma = 15$.\n",
        "    \n",
        "В ответ укажите длину полученного доверительного интервала (разницу между правым и левым концом), окруленную до целого\n",
        "</div>"
      ]
    },
    {
      "cell_type": "markdown",
      "metadata": {
        "id": "ASBjXjjMtCCF"
      },
      "source": [
        "Решение:\n",
        "\n",
        "($\\overline x$ - $\\sigma$ / sgrt(n) * Z $\\alpha$;  $\\overline x$ + $\\sigma$ / sqrt(n) * Z $\\alpha$)\n",
        "\n",
        "\n",
        "\n",
        "\n",
        "$\\beta$ = 0.98  =>  \n",
        "$\\alpha$ = 0.02  =>  \n",
        "1 - $\\alpha$ / 2 = 0.99  =>  \n",
        "Z $\\alpha$ = 2.33  =>  \n",
        "n = (Z $\\alpha$ * $\\sigma$  / $\\Delta$)$^2$"
      ]
    },
    {
      "cell_type": "code",
      "execution_count": null,
      "metadata": {
        "id": "fKi2nf-_tCCG",
        "outputId": "ea9543f5-900c-41f8-bbe1-3f223c51605a"
      },
      "outputs": [
        {
          "name": "stdout",
          "output_type": "stream",
          "text": [
            "Длина полученного доверительного интервала: 14\n"
          ]
        }
      ],
      "source": [
        "### Ваши код/вычесления...\n",
        "\n",
        "confidence_interval = 0.98\n",
        "significance_level = 1 - confidence_interval\n",
        "level = 1 - significance_level / 2\n",
        "count = 25\n",
        "std = 15\n",
        "average = 130\n",
        "L = round((average + std / math.sqrt(count) * st.norm.ppf(level)) - (average - std / math.sqrt(count) * st.norm.ppf(level)))\n",
        "print('Длина полученного доверительного интервала:', L)"
      ]
    },
    {
      "cell_type": "code",
      "execution_count": null,
      "metadata": {
        "id": "5fVqZtHgtCCG",
        "outputId": "4bcda87f-eb27-4e9d-86e6-538ab3ef14c1"
      },
      "outputs": [
        {
          "name": "stdout",
          "output_type": "stream",
          "text": [
            "Длина полученного доверительного интервала: 14\n"
          ]
        }
      ],
      "source": [
        "def confidence_interval(confidence=0.98, count=25, std=15, average=130):\n",
        "    L = round((average + std / math.sqrt(count) * st.norm.ppf(level)) - (average - std / math.sqrt(count) * st.norm.ppf(level)))\n",
        "    return L\n",
        "print('Длина полученного доверительного интервала:', confidence_interval(confidence=0.98, count=25, std=15, average=130))"
      ]
    },
    {
      "cell_type": "code",
      "execution_count": null,
      "metadata": {
        "id": "SDRd96_XtCCG",
        "outputId": "d3d0a9f9-f133-412e-f758-3f0ed946a386"
      },
      "outputs": [
        {
          "name": "stdout",
          "output_type": "stream",
          "text": [
            "Длина полученного доверительного интервала: 14\n"
          ]
        }
      ],
      "source": [
        "L = round((130 + 15 / math.sqrt(25) * st.norm.ppf(0.99)) - (130 - 15 / math.sqrt(25) * st.norm.ppf(0.99)))\n",
        "print('Длина полученного доверительного интервала:', L)"
      ]
    },
    {
      "cell_type": "markdown",
      "metadata": {
        "id": "dbkeDLBRtCCH"
      },
      "source": [
        "### 2. Вам даны две выборки роста мужчин и женщин. Докажите, используя t-Тест Стьдента, что различия между выборками незначительно, если уровень значимости равен 0.001"
      ]
    },
    {
      "cell_type": "markdown",
      "metadata": {
        "id": "ovP0kR-LtCCH"
      },
      "source": [
        "<div class=\"alert alert-info\">\n",
        "<b>Задание № 2</b>\n",
        "\n",
        "Даны две выборки роста мужчин и женщин. \n",
        "- Докажите, используя `t-Тест Стьдента`, что различие между выборками незначительно, если уровень значимости равен $\\alpha$ `= 0.001`.\n",
        "- Покажите различия визуально\n",
        "</div>"
      ]
    },
    {
      "cell_type": "code",
      "execution_count": null,
      "metadata": {
        "id": "FFQL-rmrtCCH"
      },
      "outputs": [],
      "source": [
        "import scipy.stats as stats\n",
        "\n",
        "population_men  = stats.norm.rvs(loc=19, scale=171, size=11000000)  # Выборка мужчин со средним ростом 171\n",
        "population_women = stats.norm.rvs(loc=16, scale=165, size=12000)  # Выборка женщин со средним ростом 165\n",
        "\n",
        "### Ваш код...\n"
      ]
    },
    {
      "cell_type": "code",
      "execution_count": null,
      "metadata": {
        "id": "UeAGwMXgtCCI",
        "outputId": "37b326dc-b425-4b40-ef5b-ab566b1f831f"
      },
      "outputs": [
        {
          "data": {
            "text/plain": [
              "(2.5577954355008727, 0.010533817052843387)"
            ]
          },
          "execution_count": 19,
          "metadata": {},
          "output_type": "execute_result"
        }
      ],
      "source": [
        "t, p = stats.ttest_ind(population_men, population_women)\n",
        "t, p"
      ]
    },
    {
      "cell_type": "code",
      "execution_count": null,
      "metadata": {
        "id": "RMUFiKjGtCCI",
        "outputId": "dcae81e1-a348-4ec2-e5bc-4e13b9460999"
      },
      "outputs": [
        {
          "data": {
            "image/png": "[encoded data removed]",
            "text/plain": [
              "<Figure size 432x288 with 1 Axes>"
            ]
          },
          "metadata": {
            "needs_background": "light"
          },
          "output_type": "display_data"
        }
      ],
      "source": [
        "plt.hist(population_men, bins=25); #Выборка a\n",
        "plt.hist(population_women, bins=25);  #Выборка b"
      ]
    },
    {
      "cell_type": "code",
      "execution_count": null,
      "metadata": {
        "id": "hNM9ppEFtCCI"
      },
      "outputs": [],
      "source": []
    },
    {
      "cell_type": "code",
      "execution_count": null,
      "metadata": {
        "id": "tD3sI6F1tCCI"
      },
      "outputs": [],
      "source": []
    },
    {
      "cell_type": "code",
      "execution_count": null,
      "metadata": {
        "id": "2D1UpuBQtCCJ"
      },
      "outputs": [],
      "source": []
    },
    {
      "cell_type": "markdown",
      "metadata": {
        "id": "MbF2qPTttCCJ"
      },
      "source": [
        "### 3. Определите объем необходимой выборки для исследования среднего чека за кофе в случайном городе, если известно, что в этом городе стандартное отклонение = 150, уровень доверия = 95%. Погрешность 50 рублей. "
      ]
    },
    {
      "cell_type": "markdown",
      "metadata": {
        "id": "ic3iqi7AtCCJ"
      },
      "source": [
        "<div class=\"alert alert-info\">\n",
        "<b>Задание № 3</b>\n",
        "\n",
        "Определите объем необходимой выборки для исследования среднего чека за кофе в случайном городе если известно, что в этом городе:\n",
        "\n",
        "- стандартное отклонение $\\sigma = 150$;\n",
        "- уровень доверия $\\beta$  = 95%;\n",
        "- Погрешность $\\Delta = 50$ рублей.\n",
        "</div>"
      ]
    },
    {
      "cell_type": "markdown",
      "metadata": {
        "id": "EBazRmP2tCCK"
      },
      "source": [
        "Решение:\n",
        "\n",
        "sqrt(n) = ( $\\sigma$ * Z $\\alpha$ / $\\Delta$ )\n",
        "\n",
        "\n",
        "$\\beta$ = 0.95  =>  \n",
        "$\\alpha$ = 0.05  =>  \n",
        "1 - $\\alpha$ / 2 = 0.975  =>  \n",
        "Z $\\alpha$ = 1.96 =>   \n",
        "n = (Z $\\alpha$ * $\\sigma$  / $\\Delta$)$^2$"
      ]
    },
    {
      "cell_type": "code",
      "execution_count": null,
      "metadata": {
        "id": "Dq54JTyltCCK",
        "outputId": "24cbf6a5-c026-4a7c-a460-1ddc0b43a781"
      },
      "outputs": [
        {
          "name": "stdout",
          "output_type": "stream",
          "text": [
            "Для исследования среднего чека за кофе в случайном городе необходимо 35 чеков\n"
          ]
        }
      ],
      "source": [
        "confidence_interval = 0.95\n",
        "significance_level = 1 - confidence_interval\n",
        "level = 1 - significance_level / 2\n",
        "std = 150\n",
        "delta = 50\n",
        "n = round((st.norm.ppf(level) * std / delta)**2)\n",
        "print('Для исследования среднего чека за кофе в случайном городе необходимо', n, 'чеков')"
      ]
    },
    {
      "cell_type": "code",
      "execution_count": null,
      "metadata": {
        "id": "LlJT_rt6tCCK",
        "outputId": "7f701d8b-0fcd-4907-bfb8-17245f8bf070"
      },
      "outputs": [
        {
          "name": "stdout",
          "output_type": "stream",
          "text": [
            "Для исследования среднего чека за кофе в случайном городе необходимо 35 чеков\n"
          ]
        }
      ],
      "source": [
        "def check(confidence=0.95, std=150, delta=50):\n",
        "    n = round((st.norm.ppf((1 + confidence) / 2) * std / delta)**2)\n",
        "    return n\n",
        "print('Для исследования среднего чека за кофе в случайном городе необходимо', check(confidence=0.95, std=150, delta=50),\\\n",
        "      'чеков')"
      ]
    },
    {
      "cell_type": "code",
      "execution_count": null,
      "metadata": {
        "id": "I4IQIfNrtCCL",
        "outputId": "c880e657-f152-472f-a442-42411f0f3838"
      },
      "outputs": [
        {
          "name": "stdout",
          "output_type": "stream",
          "text": [
            "Для исследования среднего чека за кофе в случайном городе необходимо 35 чеков\n"
          ]
        }
      ],
      "source": [
        "n = round((st.norm.ppf(0.975) * 150 / 50)**2)\n",
        "print('Для исследования среднего чека за кофе в случайном городе необходимо', n, 'чеков')"
      ]
    },
    {
      "cell_type": "markdown",
      "metadata": {
        "id": "BuDDBBBstCCL"
      },
      "source": [
        "<div class=\"alert alert-info\">\n",
        "<b>Задание № 4</b>\n",
        "\n",
        "Представьте, что вы хотите разоблачить \"волшебника\" который считает, что умеет предсказывать погоду на завтра, отвечая просто: дождь или солнце. Вы пронаблюдали за ответами \"волшебника\" в течении какого-то периода времени и получили некие результаты (см.ниже).\n",
        "\n",
        "Можно ли сказать, что маг действительно умеет предсказывать погоду? Уровень значимости принять за `0.05` ($\\alpha=0.05$).\n",
        "</div>"
      ]
    },
    {
      "cell_type": "code",
      "execution_count": null,
      "metadata": {
        "id": "zWMpWXRRtCCL",
        "outputId": "41015fcf-0dc9-4417-b842-fade237ca211"
      },
      "outputs": [
        {
          "data": {
            "text/html": [
              "<div>\n",
              "<style scoped>\n",
              "    .dataframe tbody tr th:only-of-type {\n",
              "        vertical-align: middle;\n",
              "    }\n",
              "\n",
              "    .dataframe tbody tr th {\n",
              "        vertical-align: top;\n",
              "    }\n",
              "\n",
              "    .dataframe thead th {\n",
              "        text-align: right;\n",
              "    }\n",
              "</style>\n",
              "<table border=\"1\" class=\"dataframe\">\n",
              "  <thead>\n",
              "    <tr style=\"text-align: right;\">\n",
              "      <th></th>\n",
              "      <th>Ответ волшебника</th>\n",
              "      <th>Реальность</th>\n",
              "    </tr>\n",
              "  </thead>\n",
              "  <tbody>\n",
              "    <tr>\n",
              "      <th>Дождь</th>\n",
              "      <td>10</td>\n",
              "      <td>15</td>\n",
              "    </tr>\n",
              "    <tr>\n",
              "      <th>Солнце</th>\n",
              "      <td>39</td>\n",
              "      <td>34</td>\n",
              "    </tr>\n",
              "  </tbody>\n",
              "</table>\n",
              "</div>"
            ],
            "text/plain": [
              "        Ответ волшебника  Реальность\n",
              "Дождь                 10          15\n",
              "Солнце                39          34"
            ]
          },
          "execution_count": 136,
          "metadata": {},
          "output_type": "execute_result"
        }
      ],
      "source": [
        "observations = pd.DataFrame([[10,15],[39,34]],\n",
        "                            index=['Дождь','Солнце'],\n",
        "                            columns=['Ответ волшебника','Реальность'])\n",
        "observations"
      ]
    },
    {
      "cell_type": "code",
      "execution_count": null,
      "metadata": {
        "id": "PnBuaCGGtCCL"
      },
      "outputs": [],
      "source": [
        "import scipy.stats as stats\n",
        "# Учтите, что у тестов, в том чилсле и точного теста Фишера под нелевой гипотезой подразумевается случайность/отсутсвие эффекта\n",
        "\n",
        "oddsratio, pvalue = stats.fisher_exact('Тут должна быть ваша таблица, а не этот текст')#Возможно пригодится эта функция.\n",
        "\n",
        "### Ваш код..."
      ]
    },
    {
      "cell_type": "markdown",
      "metadata": {
        "id": "6KYHbt1stCCM"
      },
      "source": [
        "<div class=\"alert alert-info\">\n",
        "<b>Задание № 5</b> \n",
        "\n",
        "Используя функцию mean_confidence_interval(data, confidence), постройте доверительный интервал с уровнем доверия $\\beta = 90\\%$ для выборки:\n",
        "\n",
        "</div>"
      ]
    },
    {
      "cell_type": "code",
      "execution_count": null,
      "metadata": {
        "id": "MwFeZnXHtCCM",
        "outputId": "95b6fbdf-42ab-493d-9854-0abd94ddcf67"
      },
      "outputs": [
        {
          "name": "stdout",
          "output_type": "stream",
          "text": [
            "Доверительный интервал для выборки data: (6.54, 6.72)\n"
          ]
        }
      ],
      "source": [
        "data = [4,5,8,9,6,7,5,6,7,8,5,6,7,0,9,8,4,6,\n",
        "        7,9,8,6,5,7,8,9,6,7,5,8,6,7,9,5,10]\n",
        "\n",
        "def mean_confidence_interval(data, confidence=0.90):\n",
        "    average = np.mean(data)      \n",
        "    delta = stats.sem(data) * stats.norm.ppf((1 + confidence) / 2) / math.sqrt(len(data))\n",
        "    return round(average-delta, 2), round(average+delta, 2)\n",
        "\n",
        "print('Доверительный интервал для выборки data:', mean_confidence_interval(data, 0.90))\n"
      ]
    },
    {
      "cell_type": "code",
      "execution_count": null,
      "metadata": {
        "id": "kq-3HGK_tCCM",
        "outputId": "6f93898f-0951-453f-a549-3ce229f4af80"
      },
      "outputs": [
        {
          "name": "stdout",
          "output_type": "stream",
          "text": [
            "Доверительный интервал для выборки data: (6.54, 6.72)\n"
          ]
        }
      ],
      "source": [
        "data = [4,5,8,9,6,7,5,6,7,8,5,6,7,0,9,8,4,6,\n",
        "        7,9,8,6,5,7,8,9,6,7,5,8,6,7,9,5,10]\n",
        "\n",
        "def mean_confidence_interval(data, confidence=0.90):\n",
        "    count = len(data)\n",
        "    average = np.mean(data)\n",
        "    std = stats.sem(data)    \n",
        "    delta = std * stats.norm.ppf((1 + confidence) / 2) / math.sqrt(count)\n",
        "    return round(average-delta, 2), round(average+delta, 2)\n",
        "\n",
        "print('Доверительный интервал для выборки data:', mean_confidence_interval(data, 0.90))\n"
      ]
    },
    {
      "cell_type": "markdown",
      "metadata": {
        "id": "INqTM-EEtCCM"
      },
      "source": [
        "<div class=\"alert alert-info\">\n",
        "<b>Задание № 6</b>\n",
        "\n",
        "Принадлежат ли выборки data_1 и data_2 одному множеству? \n",
        "    \n",
        "- Оцените это с помощью известных вам тестов для проверок статистических гипотез;\n",
        "- Покажите различия визуально.\n",
        "</div>"
      ]
    },
    {
      "cell_type": "code",
      "execution_count": null,
      "metadata": {
        "id": "vibN3BWstCCN"
      },
      "outputs": [],
      "source": [
        "data_1 = [4,5,8,9,6,7,5,6,7,8,5,6,7,0,9,8,4,\n",
        "          6,7,9,8,6,5,7,8,9,6,7,5,8,6,7,9,5,10]\n",
        "\n",
        "data_2 = [8,5,6,7,0,1,8,4,6,7,0,2,6,5,7,5,3,5,3,\n",
        "          5,3,5,5,8,7,6,4,5,3,5,4,6,4,5,3,2,6,4,\n",
        "          2,6,1,0,4,3,5,4,3,4,5,4,3,4,5,4,3,4,5,\n",
        "          3,4,4,1,2,4,3,1,2,4,3,2,1,5,3,4,6,4,5,\n",
        "          3,2,4,5,6,4,3,1,3,5,3,4,4,4,2,5,3]\n",
        "\n",
        "#Ваш код:"
      ]
    },
    {
      "cell_type": "markdown",
      "metadata": {
        "id": "bjQgLVrLtCCN"
      },
      "source": [
        "<div class=\"alert alert-info\">\n",
        "<b>Задание № 7 (задание без подвоха)</b>\n",
        "\n",
        "На примере датасета про жилье в New York City, мы сталкивались с примером, когда переменная имеет не совсем нормальное распределение. \n",
        "\n",
        "- Предположим, Вы сформировали две гипотезы:\n",
        "    - нулевая гипотеза - распределение нормальное;\n",
        "    - альтернативная гипотеза - распределение ненормальное.\n",
        "- допустим, вы применили какой-то тест (сейчас неважно какой), который показал уровень значимости  `p-value = 0.03`. Каковы будут ваши выводы? Будем считать что у нас нормальное распределение или все-таки нет?)\n",
        "    \n",
        "</div>"
      ]
    },
    {
      "cell_type": "code",
      "execution_count": null,
      "metadata": {
        "id": "cFedH8kYtCCN"
      },
      "outputs": [],
      "source": [
        "### Ваши выводы:"
      ]
    },
    {
      "cell_type": "markdown",
      "metadata": {
        "id": "OKdCQ-xKtCCN"
      },
      "source": [
        "<div class=\"alert alert-info\">\n",
        "<b>Задание № 8</b>\n",
        "    \n",
        "Первая выборка — это пациенты, которых лечили препаратом `А`.  Вторая выборка — пациенты, которых лечили препаратом `B`.\n",
        "\n",
        "Значения в выборках — это некоторая характеристика эффективности лечения (уровень метаболита в крови, температура через три дня после начала лечения, срок выздоровления, число койко-дней, и т.д.) \n",
        "\n",
        "- Требуется выяснить, имеется ли значимое различие эффективности препаратов `А` и `B`, или различия являются чисто случайными и объясняются «естественной» дисперсией выбранной характеристики?  (`уровень значимости принять за 0.05 (5%)`)\n",
        "\n",
        "- При каком минимальном p-value различия были бы уже значимы? \n",
        "    \n",
        "- Если выборки незначительно отличаются, то продемонстрируйте это визуально\n",
        "</div>"
      ]
    },
    {
      "cell_type": "code",
      "execution_count": null,
      "metadata": {
        "id": "DDBONBbZtCCN"
      },
      "outputs": [],
      "source": [
        "np.random.seed(11)\n",
        "A = stats.norm.rvs(scale=15,loc=169,size=300)\n",
        "B = stats.norm.rvs(scale=14,loc=171.4,size=300)\n",
        "\n",
        "### Ваш код:\n",
        "# Подсказка, обратите внимание на Two-sample T-test"
      ]
    },
    {
      "cell_type": "code",
      "execution_count": null,
      "metadata": {
        "id": "owpZq3V4tCCN"
      },
      "outputs": [],
      "source": [
        " "
      ]
    },
    {
      "cell_type": "code",
      "execution_count": null,
      "metadata": {
        "id": "WcCgR5wttCCO"
      },
      "outputs": [],
      "source": [
        " "
      ]
    },
    {
      "cell_type": "code",
      "execution_count": null,
      "metadata": {
        "scrolled": true,
        "id": "N7pxEFiptCCO"
      },
      "outputs": [],
      "source": [
        " "
      ]
    },
    {
      "cell_type": "code",
      "execution_count": null,
      "metadata": {
        "id": "jhbYSpuetCCO"
      },
      "outputs": [],
      "source": []
    },
    {
      "cell_type": "code",
      "execution_count": null,
      "metadata": {
        "id": "4pn--v_ltCCO"
      },
      "outputs": [],
      "source": []
    },
    {
      "cell_type": "code",
      "execution_count": null,
      "metadata": {
        "id": "hcQQuyCytCCO"
      },
      "outputs": [],
      "source": []
    }
  ],
  "metadata": {
    "kernelspec": {
      "display_name": "Python 3",
      "language": "python",
      "name": "python3"
    },
    "language_info": {
      "codemirror_mode": {
        "name": "ipython",
        "version": 3
      },
      "file_extension": ".py",
      "mimetype": "text/x-python",
      "name": "python",
      "nbconvert_exporter": "python",
      "pygments_lexer": "ipython3",
      "version": "3.8.5"
    },
    "toc": {
      "base_numbering": 1,
      "nav_menu": {},
      "number_sections": true,
      "sideBar": true,
      "skip_h1_title": false,
      "title_cell": "Table of Contents",
      "title_sidebar": "Contents",
      "toc_cell": false,
      "toc_position": {},
      "toc_section_display": true,
      "toc_window_display": false
    },
    "colab": {
      "provenance": [],
      "include_colab_link": true
    }
  },
  "nbformat": 4,
  "nbformat_minor": 0
}