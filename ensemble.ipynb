{
  "nbformat": 4,
  "nbformat_minor": 0,
  "metadata": {
    "kernelspec": {
      "display_name": "Python 3",
      "language": "python",
      "name": "python3"
    },
    "language_info": {
      "codemirror_mode": {
        "name": "ipython",
        "version": 3
      },
      "file_extension": ".py",
      "mimetype": "text/x-python",
      "name": "python",
      "nbconvert_exporter": "python",
      "pygments_lexer": "ipython3",
      "version": "3.7.6"
    },
    "colab": {
      "provenance": [],
      "toc_visible": true,
      "include_colab_link": true
    }
  },
  "cells": [
    {
      "cell_type": "markdown",
      "metadata": {
        "id": "view-in-github",
        "colab_type": "text"
      },
      "source": [
        "<a href=\"https://colab.research.google.com/github/svetaepc/ds_py/blob/master/ensemble.ipynb\" target=\"_parent\"><img src=\"https://colab.research.google.com/assets/colab-badge.svg\" alt=\"Open In Colab\"/></a>"
      ]
    },
    {
      "cell_type": "markdown",
      "source": [
        "https://bit.ly/FEML-10-ensemble"
      ],
      "metadata": {
        "id": "NM6IQlbiPxd0"
      }
    },
    {
      "cell_type": "markdown",
      "source": [
        "## Ансамблирование"
      ],
      "metadata": {
        "id": "xUI5xMNMB9MY"
      }
    },
    {
      "cell_type": "code",
      "metadata": {
        "id": "qtcjt-1Tz0mt"
      },
      "source": [
        "import pandas as pd\n",
        "import numpy as np\n",
        "from sklearn.model_selection import train_test_split\n",
        "from matplotlib import pyplot as plt\n",
        "from sklearn.model_selection import GridSearchCV\n",
        "from sklearn.metrics import make_scorer\n",
        "from sklearn.metrics import r2_score"
      ],
      "execution_count": null,
      "outputs": []
    },
    {
      "cell_type": "code",
      "source": [
        "!wget 'https://drive.google.com/uc?id=1UyGD0iuIsO0Q7mBn8YY6lSuCc8r5MGzH' -O train.csv"
      ],
      "metadata": {
        "colab": {
          "base_uri": "https://localhost:8080/"
        },
        "id": "Kh9qPR79PygW",
        "outputId": "98d89ac0-d18a-4fb4-87a3-5247965f56bc"
      },
      "execution_count": null,
      "outputs": [
        {
          "output_type": "stream",
          "name": "stdout",
          "text": [
            "--2023-04-04 03:31:59--  https://drive.google.com/uc?id=1UyGD0iuIsO0Q7mBn8YY6lSuCc8r5MGzH\n",
            "Resolving drive.google.com (drive.google.com)... 74.125.134.139, 74.125.134.101, 74.125.134.138, ...\n",
            "Connecting to drive.google.com (drive.google.com)|74.125.134.139|:443... connected.\n",
            "HTTP request sent, awaiting response... 303 See Other\n",
            "Location: https://doc-0o-84-docs.googleusercontent.com/docs/securesc/ha0ro937gcuc7l7deffksulhg5h7mbp1/grn3ee8792b48mrffk7v2bpegamaum9s/1680579075000/02611596255248067438/*/1UyGD0iuIsO0Q7mBn8YY6lSuCc8r5MGzH?uuid=dccb670b-dc5e-4010-b201-3bba8ce3d95e [following]\n",
            "Warning: wildcards not supported in HTTP.\n",
            "--2023-04-04 03:32:00--  https://doc-0o-84-docs.googleusercontent.com/docs/securesc/ha0ro937gcuc7l7deffksulhg5h7mbp1/grn3ee8792b48mrffk7v2bpegamaum9s/1680579075000/02611596255248067438/*/1UyGD0iuIsO0Q7mBn8YY6lSuCc8r5MGzH?uuid=dccb670b-dc5e-4010-b201-3bba8ce3d95e\n",
            "Resolving doc-0o-84-docs.googleusercontent.com (doc-0o-84-docs.googleusercontent.com)... 172.217.203.132, 2607:f8b0:400c:c07::84\n",
            "Connecting to doc-0o-84-docs.googleusercontent.com (doc-0o-84-docs.googleusercontent.com)|172.217.203.132|:443... connected.\n",
            "HTTP request sent, awaiting response... 200 OK\n",
            "Length: 460676 (450K) [text/csv]\n",
            "Saving to: ‘train.csv’\n",
            "\n",
            "train.csv           100%[===================>] 449.88K  --.-KB/s    in 0.005s  \n",
            "\n",
            "2023-04-04 03:32:00 (82.1 MB/s) - ‘train.csv’ saved [460676/460676]\n",
            "\n"
          ]
        }
      ]
    },
    {
      "cell_type": "code",
      "metadata": {
        "id": "MkYXcbMaz0m5"
      },
      "source": [
        "data = pd.read_csv('train.csv')"
      ],
      "execution_count": null,
      "outputs": []
    },
    {
      "cell_type": "code",
      "metadata": {
        "colab": {
          "base_uri": "https://localhost:8080/",
          "height": 299
        },
        "id": "5dfSehsC1Mtb",
        "outputId": "a6facc2d-94c8-4c01-c5dc-a0be539dd241"
      },
      "source": [
        "data.head()"
      ],
      "execution_count": null,
      "outputs": [
        {
          "output_type": "execute_result",
          "data": {
            "text/plain": [
              "   Id  MSSubClass MSZoning  LotFrontage  LotArea Street Alley LotShape  \\\n",
              "0   1          60       RL         65.0     8450   Pave   NaN      Reg   \n",
              "1   2          20       RL         80.0     9600   Pave   NaN      Reg   \n",
              "2   3          60       RL         68.0    11250   Pave   NaN      IR1   \n",
              "3   4          70       RL         60.0     9550   Pave   NaN      IR1   \n",
              "4   5          60       RL         84.0    14260   Pave   NaN      IR1   \n",
              "\n",
              "  LandContour Utilities  ... PoolArea PoolQC Fence MiscFeature MiscVal MoSold  \\\n",
              "0         Lvl    AllPub  ...        0    NaN   NaN         NaN       0      2   \n",
              "1         Lvl    AllPub  ...        0    NaN   NaN         NaN       0      5   \n",
              "2         Lvl    AllPub  ...        0    NaN   NaN         NaN       0      9   \n",
              "3         Lvl    AllPub  ...        0    NaN   NaN         NaN       0      2   \n",
              "4         Lvl    AllPub  ...        0    NaN   NaN         NaN       0     12   \n",
              "\n",
              "  YrSold  SaleType  SaleCondition  SalePrice  \n",
              "0   2008        WD         Normal     208500  \n",
              "1   2007        WD         Normal     181500  \n",
              "2   2008        WD         Normal     223500  \n",
              "3   2006        WD        Abnorml     140000  \n",
              "4   2008        WD         Normal     250000  \n",
              "\n",
              "[5 rows x 81 columns]"
            ],
            "text/html": [
              "\n",
              "  <div id=\"df-e036ba77-7a4f-4938-81aa-1d00d1df73ac\">\n",
              "    <div class=\"colab-df-container\">\n",
              "      <div>\n",
              "<style scoped>\n",
              "    .dataframe tbody tr th:only-of-type {\n",
              "        vertical-align: middle;\n",
              "    }\n",
              "\n",
              "    .dataframe tbody tr th {\n",
              "        vertical-align: top;\n",
              "    }\n",
              "\n",
              "    .dataframe thead th {\n",
              "        text-align: right;\n",
              "    }\n",
              "</style>\n",
              "<table border=\"1\" class=\"dataframe\">\n",
              "  <thead>\n",
              "    <tr style=\"text-align: right;\">\n",
              "      <th></th>\n",
              "      <th>Id</th>\n",
              "      <th>MSSubClass</th>\n",
              "      <th>MSZoning</th>\n",
              "      <th>LotFrontage</th>\n",
              "      <th>LotArea</th>\n",
              "      <th>Street</th>\n",
              "      <th>Alley</th>\n",
              "      <th>LotShape</th>\n",
              "      <th>LandContour</th>\n",
              "      <th>Utilities</th>\n",
              "      <th>...</th>\n",
              "      <th>PoolArea</th>\n",
              "      <th>PoolQC</th>\n",
              "      <th>Fence</th>\n",
              "      <th>MiscFeature</th>\n",
              "      <th>MiscVal</th>\n",
              "      <th>MoSold</th>\n",
              "      <th>YrSold</th>\n",
              "      <th>SaleType</th>\n",
              "      <th>SaleCondition</th>\n",
              "      <th>SalePrice</th>\n",
              "    </tr>\n",
              "  </thead>\n",
              "  <tbody>\n",
              "    <tr>\n",
              "      <th>0</th>\n",
              "      <td>1</td>\n",
              "      <td>60</td>\n",
              "      <td>RL</td>\n",
              "      <td>65.0</td>\n",
              "      <td>8450</td>\n",
              "      <td>Pave</td>\n",
              "      <td>NaN</td>\n",
              "      <td>Reg</td>\n",
              "      <td>Lvl</td>\n",
              "      <td>AllPub</td>\n",
              "      <td>...</td>\n",
              "      <td>0</td>\n",
              "      <td>NaN</td>\n",
              "      <td>NaN</td>\n",
              "      <td>NaN</td>\n",
              "      <td>0</td>\n",
              "      <td>2</td>\n",
              "      <td>2008</td>\n",
              "      <td>WD</td>\n",
              "      <td>Normal</td>\n",
              "      <td>208500</td>\n",
              "    </tr>\n",
              "    <tr>\n",
              "      <th>1</th>\n",
              "      <td>2</td>\n",
              "      <td>20</td>\n",
              "      <td>RL</td>\n",
              "      <td>80.0</td>\n",
              "      <td>9600</td>\n",
              "      <td>Pave</td>\n",
              "      <td>NaN</td>\n",
              "      <td>Reg</td>\n",
              "      <td>Lvl</td>\n",
              "      <td>AllPub</td>\n",
              "      <td>...</td>\n",
              "      <td>0</td>\n",
              "      <td>NaN</td>\n",
              "      <td>NaN</td>\n",
              "      <td>NaN</td>\n",
              "      <td>0</td>\n",
              "      <td>5</td>\n",
              "      <td>2007</td>\n",
              "      <td>WD</td>\n",
              "      <td>Normal</td>\n",
              "      <td>181500</td>\n",
              "    </tr>\n",
              "    <tr>\n",
              "      <th>2</th>\n",
              "      <td>3</td>\n",
              "      <td>60</td>\n",
              "      <td>RL</td>\n",
              "      <td>68.0</td>\n",
              "      <td>11250</td>\n",
              "      <td>Pave</td>\n",
              "      <td>NaN</td>\n",
              "      <td>IR1</td>\n",
              "      <td>Lvl</td>\n",
              "      <td>AllPub</td>\n",
              "      <td>...</td>\n",
              "      <td>0</td>\n",
              "      <td>NaN</td>\n",
              "      <td>NaN</td>\n",
              "      <td>NaN</td>\n",
              "      <td>0</td>\n",
              "      <td>9</td>\n",
              "      <td>2008</td>\n",
              "      <td>WD</td>\n",
              "      <td>Normal</td>\n",
              "      <td>223500</td>\n",
              "    </tr>\n",
              "    <tr>\n",
              "      <th>3</th>\n",
              "      <td>4</td>\n",
              "      <td>70</td>\n",
              "      <td>RL</td>\n",
              "      <td>60.0</td>\n",
              "      <td>9550</td>\n",
              "      <td>Pave</td>\n",
              "      <td>NaN</td>\n",
              "      <td>IR1</td>\n",
              "      <td>Lvl</td>\n",
              "      <td>AllPub</td>\n",
              "      <td>...</td>\n",
              "      <td>0</td>\n",
              "      <td>NaN</td>\n",
              "      <td>NaN</td>\n",
              "      <td>NaN</td>\n",
              "      <td>0</td>\n",
              "      <td>2</td>\n",
              "      <td>2006</td>\n",
              "      <td>WD</td>\n",
              "      <td>Abnorml</td>\n",
              "      <td>140000</td>\n",
              "    </tr>\n",
              "    <tr>\n",
              "      <th>4</th>\n",
              "      <td>5</td>\n",
              "      <td>60</td>\n",
              "      <td>RL</td>\n",
              "      <td>84.0</td>\n",
              "      <td>14260</td>\n",
              "      <td>Pave</td>\n",
              "      <td>NaN</td>\n",
              "      <td>IR1</td>\n",
              "      <td>Lvl</td>\n",
              "      <td>AllPub</td>\n",
              "      <td>...</td>\n",
              "      <td>0</td>\n",
              "      <td>NaN</td>\n",
              "      <td>NaN</td>\n",
              "      <td>NaN</td>\n",
              "      <td>0</td>\n",
              "      <td>12</td>\n",
              "      <td>2008</td>\n",
              "      <td>WD</td>\n",
              "      <td>Normal</td>\n",
              "      <td>250000</td>\n",
              "    </tr>\n",
              "  </tbody>\n",
              "</table>\n",
              "<p>5 rows × 81 columns</p>\n",
              "</div>\n",
              "      <button class=\"colab-df-convert\" onclick=\"convertToInteractive('df-e036ba77-7a4f-4938-81aa-1d00d1df73ac')\"\n",
              "              title=\"Convert this dataframe to an interactive table.\"\n",
              "              style=\"display:none;\">\n",
              "        \n",
              "  <svg xmlns=\"http://www.w3.org/2000/svg\" height=\"24px\"viewBox=\"0 0 24 24\"\n",
              "       width=\"24px\">\n",
              "    <path d=\"M0 0h24v24H0V0z\" fill=\"none\"/>\n",
              "    <path d=\"M18.56 5.44l.94 2.06.94-2.06 2.06-.94-2.06-.94-.94-2.06-.94 2.06-2.06.94zm-11 1L8.5 8.5l.94-2.06 2.06-.94-2.06-.94L8.5 2.5l-.94 2.06-2.06.94zm10 10l.94 2.06.94-2.06 2.06-.94-2.06-.94-.94-2.06-.94 2.06-2.06.94z\"/><path d=\"M17.41 7.96l-1.37-1.37c-.4-.4-.92-.59-1.43-.59-.52 0-1.04.2-1.43.59L10.3 9.45l-7.72 7.72c-.78.78-.78 2.05 0 2.83L4 21.41c.39.39.9.59 1.41.59.51 0 1.02-.2 1.41-.59l7.78-7.78 2.81-2.81c.8-.78.8-2.07 0-2.86zM5.41 20L4 18.59l7.72-7.72 1.47 1.35L5.41 20z\"/>\n",
              "  </svg>\n",
              "      </button>\n",
              "      \n",
              "  <style>\n",
              "    .colab-df-container {\n",
              "      display:flex;\n",
              "      flex-wrap:wrap;\n",
              "      gap: 12px;\n",
              "    }\n",
              "\n",
              "    .colab-df-convert {\n",
              "      background-color: #E8F0FE;\n",
              "      border: none;\n",
              "      border-radius: 50%;\n",
              "      cursor: pointer;\n",
              "      display: none;\n",
              "      fill: #1967D2;\n",
              "      height: 32px;\n",
              "      padding: 0 0 0 0;\n",
              "      width: 32px;\n",
              "    }\n",
              "\n",
              "    .colab-df-convert:hover {\n",
              "      background-color: #E2EBFA;\n",
              "      box-shadow: 0px 1px 2px rgba(60, 64, 67, 0.3), 0px 1px 3px 1px rgba(60, 64, 67, 0.15);\n",
              "      fill: #174EA6;\n",
              "    }\n",
              "\n",
              "    [theme=dark] .colab-df-convert {\n",
              "      background-color: #3B4455;\n",
              "      fill: #D2E3FC;\n",
              "    }\n",
              "\n",
              "    [theme=dark] .colab-df-convert:hover {\n",
              "      background-color: #434B5C;\n",
              "      box-shadow: 0px 1px 3px 1px rgba(0, 0, 0, 0.15);\n",
              "      filter: drop-shadow(0px 1px 2px rgba(0, 0, 0, 0.3));\n",
              "      fill: #FFFFFF;\n",
              "    }\n",
              "  </style>\n",
              "\n",
              "      <script>\n",
              "        const buttonEl =\n",
              "          document.querySelector('#df-e036ba77-7a4f-4938-81aa-1d00d1df73ac button.colab-df-convert');\n",
              "        buttonEl.style.display =\n",
              "          google.colab.kernel.accessAllowed ? 'block' : 'none';\n",
              "\n",
              "        async function convertToInteractive(key) {\n",
              "          const element = document.querySelector('#df-e036ba77-7a4f-4938-81aa-1d00d1df73ac');\n",
              "          const dataTable =\n",
              "            await google.colab.kernel.invokeFunction('convertToInteractive',\n",
              "                                                     [key], {});\n",
              "          if (!dataTable) return;\n",
              "\n",
              "          const docLinkHtml = 'Like what you see? Visit the ' +\n",
              "            '<a target=\"_blank\" href=https://colab.research.google.com/notebooks/data_table.ipynb>data table notebook</a>'\n",
              "            + ' to learn more about interactive tables.';\n",
              "          element.innerHTML = '';\n",
              "          dataTable['output_type'] = 'display_data';\n",
              "          await google.colab.output.renderOutput(dataTable, element);\n",
              "          const docLink = document.createElement('div');\n",
              "          docLink.innerHTML = docLinkHtml;\n",
              "          element.appendChild(docLink);\n",
              "        }\n",
              "      </script>\n",
              "    </div>\n",
              "  </div>\n",
              "  "
            ]
          },
          "metadata": {},
          "execution_count": 4
        }
      ]
    },
    {
      "cell_type": "code",
      "metadata": {
        "id": "90ch1_Xqz0m9",
        "colab": {
          "base_uri": "https://localhost:8080/"
        },
        "outputId": "a8c27062-0443-4820-9b0c-8665dea7d189"
      },
      "source": [
        "# Разделяем на тренировочные и тестовые данные\n",
        "\n",
        "X_train, X_test, y_train, y_test = train_test_split(data.drop(columns='SalePrice'),\n",
        "                                                    data['SalePrice'],\n",
        "                                                    test_size=0.3,\n",
        "                                                    random_state=42)\n",
        "X_train.shape, X_test.shape"
      ],
      "execution_count": null,
      "outputs": [
        {
          "output_type": "execute_result",
          "data": {
            "text/plain": [
              "((1022, 80), (438, 80))"
            ]
          },
          "metadata": {},
          "execution_count": 5
        }
      ]
    },
    {
      "cell_type": "code",
      "source": [
        "# Находим категориальные признаки\n",
        "\n",
        "categorials = X_train.select_dtypes('object').columns\n",
        "categorials"
      ],
      "metadata": {
        "colab": {
          "base_uri": "https://localhost:8080/"
        },
        "id": "8ezuS0G-QlLw",
        "outputId": "b06a6c92-ef1c-4ec9-c1da-f39a2a091b74"
      },
      "execution_count": null,
      "outputs": [
        {
          "output_type": "execute_result",
          "data": {
            "text/plain": [
              "Index(['MSZoning', 'Street', 'Alley', 'LotShape', 'LandContour', 'Utilities',\n",
              "       'LotConfig', 'LandSlope', 'Neighborhood', 'Condition1', 'Condition2',\n",
              "       'BldgType', 'HouseStyle', 'RoofStyle', 'RoofMatl', 'Exterior1st',\n",
              "       'Exterior2nd', 'MasVnrType', 'ExterQual', 'ExterCond', 'Foundation',\n",
              "       'BsmtQual', 'BsmtCond', 'BsmtExposure', 'BsmtFinType1', 'BsmtFinType2',\n",
              "       'Heating', 'HeatingQC', 'CentralAir', 'Electrical', 'KitchenQual',\n",
              "       'Functional', 'FireplaceQu', 'GarageType', 'GarageFinish', 'GarageQual',\n",
              "       'GarageCond', 'PavedDrive', 'PoolQC', 'Fence', 'MiscFeature',\n",
              "       'SaleType', 'SaleCondition'],\n",
              "      dtype='object')"
            ]
          },
          "metadata": {},
          "execution_count": 6
        }
      ]
    },
    {
      "cell_type": "code",
      "metadata": {
        "id": "X1zKpAJFz0m9"
      },
      "source": [
        "# закодируем пропущенные значений строкой, факт пропущенного значения тоже может нести в себе информацию\n",
        "X_train[categorials] = X_train[categorials].fillna('nan')\n",
        "X_test[categorials] = X_test[categorials].fillna('nan')"
      ],
      "execution_count": null,
      "outputs": []
    },
    {
      "cell_type": "code",
      "metadata": {
        "id": "Ym8QnGbzz0m-",
        "colab": {
          "base_uri": "https://localhost:8080/",
          "height": 299
        },
        "outputId": "0ed4f13b-9506-49dd-d5cd-1ad9a3b8a65a"
      },
      "source": [
        "# отфильтруем непрерывные признаки\n",
        "integer = X_train.select_dtypes(['int', 'float']).columns.tolist()\n",
        "integer.remove('Id')\n",
        "X_train[integer].head()"
      ],
      "execution_count": null,
      "outputs": [
        {
          "output_type": "execute_result",
          "data": {
            "text/plain": [
              "      MSSubClass  LotFrontage  LotArea  OverallQual  OverallCond  YearBuilt  \\\n",
              "135           20         80.0    10400            7            6       1970   \n",
              "1452         180         35.0     3675            5            5       2005   \n",
              "762           60         72.0     8640            7            5       2009   \n",
              "932           20         84.0    11670            9            5       2006   \n",
              "435           60         43.0    10667            7            6       1996   \n",
              "\n",
              "      YearRemodAdd  MasVnrArea  BsmtFinSF1  BsmtFinSF2  ...  GarageArea  \\\n",
              "135           1970       288.0           0           0  ...         530   \n",
              "1452          2005        80.0         547           0  ...         525   \n",
              "762           2009         0.0          24           0  ...         614   \n",
              "932           2006       302.0           0           0  ...         788   \n",
              "435           1996         0.0         385         344  ...         550   \n",
              "\n",
              "      WoodDeckSF  OpenPorchSF  EnclosedPorch  3SsnPorch  ScreenPorch  \\\n",
              "135           98            0              0          0            0   \n",
              "1452           0           28              0          0            0   \n",
              "762          169           45              0          0            0   \n",
              "932            0          191              0          0            0   \n",
              "435          158           61              0          0            0   \n",
              "\n",
              "      PoolArea  MiscVal  MoSold  YrSold  \n",
              "135          0        0       5    2008  \n",
              "1452         0        0       5    2006  \n",
              "762          0        0       6    2010  \n",
              "932          0        0       3    2007  \n",
              "435          0        0       4    2009  \n",
              "\n",
              "[5 rows x 36 columns]"
            ],
            "text/html": [
              "\n",
              "  <div id=\"df-4ce35582-4088-4f84-8abb-7422fdecaf6f\">\n",
              "    <div class=\"colab-df-container\">\n",
              "      <div>\n",
              "<style scoped>\n",
              "    .dataframe tbody tr th:only-of-type {\n",
              "        vertical-align: middle;\n",
              "    }\n",
              "\n",
              "    .dataframe tbody tr th {\n",
              "        vertical-align: top;\n",
              "    }\n",
              "\n",
              "    .dataframe thead th {\n",
              "        text-align: right;\n",
              "    }\n",
              "</style>\n",
              "<table border=\"1\" class=\"dataframe\">\n",
              "  <thead>\n",
              "    <tr style=\"text-align: right;\">\n",
              "      <th></th>\n",
              "      <th>MSSubClass</th>\n",
              "      <th>LotFrontage</th>\n",
              "      <th>LotArea</th>\n",
              "      <th>OverallQual</th>\n",
              "      <th>OverallCond</th>\n",
              "      <th>YearBuilt</th>\n",
              "      <th>YearRemodAdd</th>\n",
              "      <th>MasVnrArea</th>\n",
              "      <th>BsmtFinSF1</th>\n",
              "      <th>BsmtFinSF2</th>\n",
              "      <th>...</th>\n",
              "      <th>GarageArea</th>\n",
              "      <th>WoodDeckSF</th>\n",
              "      <th>OpenPorchSF</th>\n",
              "      <th>EnclosedPorch</th>\n",
              "      <th>3SsnPorch</th>\n",
              "      <th>ScreenPorch</th>\n",
              "      <th>PoolArea</th>\n",
              "      <th>MiscVal</th>\n",
              "      <th>MoSold</th>\n",
              "      <th>YrSold</th>\n",
              "    </tr>\n",
              "  </thead>\n",
              "  <tbody>\n",
              "    <tr>\n",
              "      <th>135</th>\n",
              "      <td>20</td>\n",
              "      <td>80.0</td>\n",
              "      <td>10400</td>\n",
              "      <td>7</td>\n",
              "      <td>6</td>\n",
              "      <td>1970</td>\n",
              "      <td>1970</td>\n",
              "      <td>288.0</td>\n",
              "      <td>0</td>\n",
              "      <td>0</td>\n",
              "      <td>...</td>\n",
              "      <td>530</td>\n",
              "      <td>98</td>\n",
              "      <td>0</td>\n",
              "      <td>0</td>\n",
              "      <td>0</td>\n",
              "      <td>0</td>\n",
              "      <td>0</td>\n",
              "      <td>0</td>\n",
              "      <td>5</td>\n",
              "      <td>2008</td>\n",
              "    </tr>\n",
              "    <tr>\n",
              "      <th>1452</th>\n",
              "      <td>180</td>\n",
              "      <td>35.0</td>\n",
              "      <td>3675</td>\n",
              "      <td>5</td>\n",
              "      <td>5</td>\n",
              "      <td>2005</td>\n",
              "      <td>2005</td>\n",
              "      <td>80.0</td>\n",
              "      <td>547</td>\n",
              "      <td>0</td>\n",
              "      <td>...</td>\n",
              "      <td>525</td>\n",
              "      <td>0</td>\n",
              "      <td>28</td>\n",
              "      <td>0</td>\n",
              "      <td>0</td>\n",
              "      <td>0</td>\n",
              "      <td>0</td>\n",
              "      <td>0</td>\n",
              "      <td>5</td>\n",
              "      <td>2006</td>\n",
              "    </tr>\n",
              "    <tr>\n",
              "      <th>762</th>\n",
              "      <td>60</td>\n",
              "      <td>72.0</td>\n",
              "      <td>8640</td>\n",
              "      <td>7</td>\n",
              "      <td>5</td>\n",
              "      <td>2009</td>\n",
              "      <td>2009</td>\n",
              "      <td>0.0</td>\n",
              "      <td>24</td>\n",
              "      <td>0</td>\n",
              "      <td>...</td>\n",
              "      <td>614</td>\n",
              "      <td>169</td>\n",
              "      <td>45</td>\n",
              "      <td>0</td>\n",
              "      <td>0</td>\n",
              "      <td>0</td>\n",
              "      <td>0</td>\n",
              "      <td>0</td>\n",
              "      <td>6</td>\n",
              "      <td>2010</td>\n",
              "    </tr>\n",
              "    <tr>\n",
              "      <th>932</th>\n",
              "      <td>20</td>\n",
              "      <td>84.0</td>\n",
              "      <td>11670</td>\n",
              "      <td>9</td>\n",
              "      <td>5</td>\n",
              "      <td>2006</td>\n",
              "      <td>2006</td>\n",
              "      <td>302.0</td>\n",
              "      <td>0</td>\n",
              "      <td>0</td>\n",
              "      <td>...</td>\n",
              "      <td>788</td>\n",
              "      <td>0</td>\n",
              "      <td>191</td>\n",
              "      <td>0</td>\n",
              "      <td>0</td>\n",
              "      <td>0</td>\n",
              "      <td>0</td>\n",
              "      <td>0</td>\n",
              "      <td>3</td>\n",
              "      <td>2007</td>\n",
              "    </tr>\n",
              "    <tr>\n",
              "      <th>435</th>\n",
              "      <td>60</td>\n",
              "      <td>43.0</td>\n",
              "      <td>10667</td>\n",
              "      <td>7</td>\n",
              "      <td>6</td>\n",
              "      <td>1996</td>\n",
              "      <td>1996</td>\n",
              "      <td>0.0</td>\n",
              "      <td>385</td>\n",
              "      <td>344</td>\n",
              "      <td>...</td>\n",
              "      <td>550</td>\n",
              "      <td>158</td>\n",
              "      <td>61</td>\n",
              "      <td>0</td>\n",
              "      <td>0</td>\n",
              "      <td>0</td>\n",
              "      <td>0</td>\n",
              "      <td>0</td>\n",
              "      <td>4</td>\n",
              "      <td>2009</td>\n",
              "    </tr>\n",
              "  </tbody>\n",
              "</table>\n",
              "<p>5 rows × 36 columns</p>\n",
              "</div>\n",
              "      <button class=\"colab-df-convert\" onclick=\"convertToInteractive('df-4ce35582-4088-4f84-8abb-7422fdecaf6f')\"\n",
              "              title=\"Convert this dataframe to an interactive table.\"\n",
              "              style=\"display:none;\">\n",
              "        \n",
              "  <svg xmlns=\"http://www.w3.org/2000/svg\" height=\"24px\"viewBox=\"0 0 24 24\"\n",
              "       width=\"24px\">\n",
              "    <path d=\"M0 0h24v24H0V0z\" fill=\"none\"/>\n",
              "    <path d=\"M18.56 5.44l.94 2.06.94-2.06 2.06-.94-2.06-.94-.94-2.06-.94 2.06-2.06.94zm-11 1L8.5 8.5l.94-2.06 2.06-.94-2.06-.94L8.5 2.5l-.94 2.06-2.06.94zm10 10l.94 2.06.94-2.06 2.06-.94-2.06-.94-.94-2.06-.94 2.06-2.06.94z\"/><path d=\"M17.41 7.96l-1.37-1.37c-.4-.4-.92-.59-1.43-.59-.52 0-1.04.2-1.43.59L10.3 9.45l-7.72 7.72c-.78.78-.78 2.05 0 2.83L4 21.41c.39.39.9.59 1.41.59.51 0 1.02-.2 1.41-.59l7.78-7.78 2.81-2.81c.8-.78.8-2.07 0-2.86zM5.41 20L4 18.59l7.72-7.72 1.47 1.35L5.41 20z\"/>\n",
              "  </svg>\n",
              "      </button>\n",
              "      \n",
              "  <style>\n",
              "    .colab-df-container {\n",
              "      display:flex;\n",
              "      flex-wrap:wrap;\n",
              "      gap: 12px;\n",
              "    }\n",
              "\n",
              "    .colab-df-convert {\n",
              "      background-color: #E8F0FE;\n",
              "      border: none;\n",
              "      border-radius: 50%;\n",
              "      cursor: pointer;\n",
              "      display: none;\n",
              "      fill: #1967D2;\n",
              "      height: 32px;\n",
              "      padding: 0 0 0 0;\n",
              "      width: 32px;\n",
              "    }\n",
              "\n",
              "    .colab-df-convert:hover {\n",
              "      background-color: #E2EBFA;\n",
              "      box-shadow: 0px 1px 2px rgba(60, 64, 67, 0.3), 0px 1px 3px 1px rgba(60, 64, 67, 0.15);\n",
              "      fill: #174EA6;\n",
              "    }\n",
              "\n",
              "    [theme=dark] .colab-df-convert {\n",
              "      background-color: #3B4455;\n",
              "      fill: #D2E3FC;\n",
              "    }\n",
              "\n",
              "    [theme=dark] .colab-df-convert:hover {\n",
              "      background-color: #434B5C;\n",
              "      box-shadow: 0px 1px 3px 1px rgba(0, 0, 0, 0.15);\n",
              "      filter: drop-shadow(0px 1px 2px rgba(0, 0, 0, 0.3));\n",
              "      fill: #FFFFFF;\n",
              "    }\n",
              "  </style>\n",
              "\n",
              "      <script>\n",
              "        const buttonEl =\n",
              "          document.querySelector('#df-4ce35582-4088-4f84-8abb-7422fdecaf6f button.colab-df-convert');\n",
              "        buttonEl.style.display =\n",
              "          google.colab.kernel.accessAllowed ? 'block' : 'none';\n",
              "\n",
              "        async function convertToInteractive(key) {\n",
              "          const element = document.querySelector('#df-4ce35582-4088-4f84-8abb-7422fdecaf6f');\n",
              "          const dataTable =\n",
              "            await google.colab.kernel.invokeFunction('convertToInteractive',\n",
              "                                                     [key], {});\n",
              "          if (!dataTable) return;\n",
              "\n",
              "          const docLinkHtml = 'Like what you see? Visit the ' +\n",
              "            '<a target=\"_blank\" href=https://colab.research.google.com/notebooks/data_table.ipynb>data table notebook</a>'\n",
              "            + ' to learn more about interactive tables.';\n",
              "          element.innerHTML = '';\n",
              "          dataTable['output_type'] = 'display_data';\n",
              "          await google.colab.output.renderOutput(dataTable, element);\n",
              "          const docLink = document.createElement('div');\n",
              "          docLink.innerHTML = docLinkHtml;\n",
              "          element.appendChild(docLink);\n",
              "        }\n",
              "      </script>\n",
              "    </div>\n",
              "  </div>\n",
              "  "
            ]
          },
          "metadata": {},
          "execution_count": 8
        }
      ]
    },
    {
      "cell_type": "code",
      "metadata": {
        "id": "B0yS1rFsz0m_"
      },
      "source": [
        "# Создаем дамми-переменные для категорий\n",
        "dummy_train = pd.get_dummies(X_train[categorials], columns=categorials)\n",
        "dummy_test = pd.get_dummies(X_test[categorials], columns=categorials)\n",
        "\n",
        "dummy_cols = list(set(dummy_train) & set(dummy_test))\n",
        "\n",
        "dummy_train = dummy_train[dummy_cols]\n",
        "dummy_test = dummy_test[dummy_cols]\n",
        "\n",
        "# Заменяем пропуски на специальное значение -999, чтобы деревья могли их отличить\n",
        "X_train = pd.concat([X_train[integer].fillna(-999), dummy_train], axis=1)\n",
        "\n",
        "X_test = pd.concat([X_test[integer].fillna(-999), dummy_test], axis=1)"
      ],
      "execution_count": null,
      "outputs": []
    },
    {
      "cell_type": "code",
      "metadata": {
        "colab": {
          "base_uri": "https://localhost:8080/",
          "height": 299
        },
        "id": "7_WizSkWI8LR",
        "outputId": "5eb94bda-6d33-4109-9b6c-1bf0311bb89c"
      },
      "source": [
        "X_train.head()"
      ],
      "execution_count": null,
      "outputs": [
        {
          "output_type": "execute_result",
          "data": {
            "text/plain": [
              "      MSSubClass  LotFrontage  LotArea  OverallQual  OverallCond  YearBuilt  \\\n",
              "135           20         80.0    10400            7            6       1970   \n",
              "1452         180         35.0     3675            5            5       2005   \n",
              "762           60         72.0     8640            7            5       2009   \n",
              "932           20         84.0    11670            9            5       2006   \n",
              "435           60         43.0    10667            7            6       1996   \n",
              "\n",
              "      YearRemodAdd  MasVnrArea  BsmtFinSF1  BsmtFinSF2  ...  ExterCond_TA  \\\n",
              "135           1970       288.0           0           0  ...             1   \n",
              "1452          2005        80.0         547           0  ...             1   \n",
              "762           2009         0.0          24           0  ...             1   \n",
              "932           2006       302.0           0           0  ...             1   \n",
              "435           1996         0.0         385         344  ...             1   \n",
              "\n",
              "      BsmtCond_TA  Exterior2nd_Stone  GarageType_nan  GarageQual_nan  \\\n",
              "135             1                  0               0               0   \n",
              "1452            1                  0               0               0   \n",
              "762             1                  0               0               0   \n",
              "932             0                  0               0               0   \n",
              "435             1                  0               0               0   \n",
              "\n",
              "      Exterior2nd_AsphShn  Functional_Typ  FireplaceQu_nan  LotShape_Reg  \\\n",
              "135                     0               1                0             1   \n",
              "1452                    0               1                1             1   \n",
              "762                     0               1                1             1   \n",
              "932                     0               1                0             0   \n",
              "435                     0               1                0             0   \n",
              "\n",
              "      SaleType_ConLw  \n",
              "135                0  \n",
              "1452               0  \n",
              "762                0  \n",
              "932                0  \n",
              "435                1  \n",
              "\n",
              "[5 rows x 269 columns]"
            ],
            "text/html": [
              "\n",
              "  <div id=\"df-1e846352-0e71-4c23-a056-4654f3cb5112\">\n",
              "    <div class=\"colab-df-container\">\n",
              "      <div>\n",
              "<style scoped>\n",
              "    .dataframe tbody tr th:only-of-type {\n",
              "        vertical-align: middle;\n",
              "    }\n",
              "\n",
              "    .dataframe tbody tr th {\n",
              "        vertical-align: top;\n",
              "    }\n",
              "\n",
              "    .dataframe thead th {\n",
              "        text-align: right;\n",
              "    }\n",
              "</style>\n",
              "<table border=\"1\" class=\"dataframe\">\n",
              "  <thead>\n",
              "    <tr style=\"text-align: right;\">\n",
              "      <th></th>\n",
              "      <th>MSSubClass</th>\n",
              "      <th>LotFrontage</th>\n",
              "      <th>LotArea</th>\n",
              "      <th>OverallQual</th>\n",
              "      <th>OverallCond</th>\n",
              "      <th>YearBuilt</th>\n",
              "      <th>YearRemodAdd</th>\n",
              "      <th>MasVnrArea</th>\n",
              "      <th>BsmtFinSF1</th>\n",
              "      <th>BsmtFinSF2</th>\n",
              "      <th>...</th>\n",
              "      <th>ExterCond_TA</th>\n",
              "      <th>BsmtCond_TA</th>\n",
              "      <th>Exterior2nd_Stone</th>\n",
              "      <th>GarageType_nan</th>\n",
              "      <th>GarageQual_nan</th>\n",
              "      <th>Exterior2nd_AsphShn</th>\n",
              "      <th>Functional_Typ</th>\n",
              "      <th>FireplaceQu_nan</th>\n",
              "      <th>LotShape_Reg</th>\n",
              "      <th>SaleType_ConLw</th>\n",
              "    </tr>\n",
              "  </thead>\n",
              "  <tbody>\n",
              "    <tr>\n",
              "      <th>135</th>\n",
              "      <td>20</td>\n",
              "      <td>80.0</td>\n",
              "      <td>10400</td>\n",
              "      <td>7</td>\n",
              "      <td>6</td>\n",
              "      <td>1970</td>\n",
              "      <td>1970</td>\n",
              "      <td>288.0</td>\n",
              "      <td>0</td>\n",
              "      <td>0</td>\n",
              "      <td>...</td>\n",
              "      <td>1</td>\n",
              "      <td>1</td>\n",
              "      <td>0</td>\n",
              "      <td>0</td>\n",
              "      <td>0</td>\n",
              "      <td>0</td>\n",
              "      <td>1</td>\n",
              "      <td>0</td>\n",
              "      <td>1</td>\n",
              "      <td>0</td>\n",
              "    </tr>\n",
              "    <tr>\n",
              "      <th>1452</th>\n",
              "      <td>180</td>\n",
              "      <td>35.0</td>\n",
              "      <td>3675</td>\n",
              "      <td>5</td>\n",
              "      <td>5</td>\n",
              "      <td>2005</td>\n",
              "      <td>2005</td>\n",
              "      <td>80.0</td>\n",
              "      <td>547</td>\n",
              "      <td>0</td>\n",
              "      <td>...</td>\n",
              "      <td>1</td>\n",
              "      <td>1</td>\n",
              "      <td>0</td>\n",
              "      <td>0</td>\n",
              "      <td>0</td>\n",
              "      <td>0</td>\n",
              "      <td>1</td>\n",
              "      <td>1</td>\n",
              "      <td>1</td>\n",
              "      <td>0</td>\n",
              "    </tr>\n",
              "    <tr>\n",
              "      <th>762</th>\n",
              "      <td>60</td>\n",
              "      <td>72.0</td>\n",
              "      <td>8640</td>\n",
              "      <td>7</td>\n",
              "      <td>5</td>\n",
              "      <td>2009</td>\n",
              "      <td>2009</td>\n",
              "      <td>0.0</td>\n",
              "      <td>24</td>\n",
              "      <td>0</td>\n",
              "      <td>...</td>\n",
              "      <td>1</td>\n",
              "      <td>1</td>\n",
              "      <td>0</td>\n",
              "      <td>0</td>\n",
              "      <td>0</td>\n",
              "      <td>0</td>\n",
              "      <td>1</td>\n",
              "      <td>1</td>\n",
              "      <td>1</td>\n",
              "      <td>0</td>\n",
              "    </tr>\n",
              "    <tr>\n",
              "      <th>932</th>\n",
              "      <td>20</td>\n",
              "      <td>84.0</td>\n",
              "      <td>11670</td>\n",
              "      <td>9</td>\n",
              "      <td>5</td>\n",
              "      <td>2006</td>\n",
              "      <td>2006</td>\n",
              "      <td>302.0</td>\n",
              "      <td>0</td>\n",
              "      <td>0</td>\n",
              "      <td>...</td>\n",
              "      <td>1</td>\n",
              "      <td>0</td>\n",
              "      <td>0</td>\n",
              "      <td>0</td>\n",
              "      <td>0</td>\n",
              "      <td>0</td>\n",
              "      <td>1</td>\n",
              "      <td>0</td>\n",
              "      <td>0</td>\n",
              "      <td>0</td>\n",
              "    </tr>\n",
              "    <tr>\n",
              "      <th>435</th>\n",
              "      <td>60</td>\n",
              "      <td>43.0</td>\n",
              "      <td>10667</td>\n",
              "      <td>7</td>\n",
              "      <td>6</td>\n",
              "      <td>1996</td>\n",
              "      <td>1996</td>\n",
              "      <td>0.0</td>\n",
              "      <td>385</td>\n",
              "      <td>344</td>\n",
              "      <td>...</td>\n",
              "      <td>1</td>\n",
              "      <td>1</td>\n",
              "      <td>0</td>\n",
              "      <td>0</td>\n",
              "      <td>0</td>\n",
              "      <td>0</td>\n",
              "      <td>1</td>\n",
              "      <td>0</td>\n",
              "      <td>0</td>\n",
              "      <td>1</td>\n",
              "    </tr>\n",
              "  </tbody>\n",
              "</table>\n",
              "<p>5 rows × 269 columns</p>\n",
              "</div>\n",
              "      <button class=\"colab-df-convert\" onclick=\"convertToInteractive('df-1e846352-0e71-4c23-a056-4654f3cb5112')\"\n",
              "              title=\"Convert this dataframe to an interactive table.\"\n",
              "              style=\"display:none;\">\n",
              "        \n",
              "  <svg xmlns=\"http://www.w3.org/2000/svg\" height=\"24px\"viewBox=\"0 0 24 24\"\n",
              "       width=\"24px\">\n",
              "    <path d=\"M0 0h24v24H0V0z\" fill=\"none\"/>\n",
              "    <path d=\"M18.56 5.44l.94 2.06.94-2.06 2.06-.94-2.06-.94-.94-2.06-.94 2.06-2.06.94zm-11 1L8.5 8.5l.94-2.06 2.06-.94-2.06-.94L8.5 2.5l-.94 2.06-2.06.94zm10 10l.94 2.06.94-2.06 2.06-.94-2.06-.94-.94-2.06-.94 2.06-2.06.94z\"/><path d=\"M17.41 7.96l-1.37-1.37c-.4-.4-.92-.59-1.43-.59-.52 0-1.04.2-1.43.59L10.3 9.45l-7.72 7.72c-.78.78-.78 2.05 0 2.83L4 21.41c.39.39.9.59 1.41.59.51 0 1.02-.2 1.41-.59l7.78-7.78 2.81-2.81c.8-.78.8-2.07 0-2.86zM5.41 20L4 18.59l7.72-7.72 1.47 1.35L5.41 20z\"/>\n",
              "  </svg>\n",
              "      </button>\n",
              "      \n",
              "  <style>\n",
              "    .colab-df-container {\n",
              "      display:flex;\n",
              "      flex-wrap:wrap;\n",
              "      gap: 12px;\n",
              "    }\n",
              "\n",
              "    .colab-df-convert {\n",
              "      background-color: #E8F0FE;\n",
              "      border: none;\n",
              "      border-radius: 50%;\n",
              "      cursor: pointer;\n",
              "      display: none;\n",
              "      fill: #1967D2;\n",
              "      height: 32px;\n",
              "      padding: 0 0 0 0;\n",
              "      width: 32px;\n",
              "    }\n",
              "\n",
              "    .colab-df-convert:hover {\n",
              "      background-color: #E2EBFA;\n",
              "      box-shadow: 0px 1px 2px rgba(60, 64, 67, 0.3), 0px 1px 3px 1px rgba(60, 64, 67, 0.15);\n",
              "      fill: #174EA6;\n",
              "    }\n",
              "\n",
              "    [theme=dark] .colab-df-convert {\n",
              "      background-color: #3B4455;\n",
              "      fill: #D2E3FC;\n",
              "    }\n",
              "\n",
              "    [theme=dark] .colab-df-convert:hover {\n",
              "      background-color: #434B5C;\n",
              "      box-shadow: 0px 1px 3px 1px rgba(0, 0, 0, 0.15);\n",
              "      filter: drop-shadow(0px 1px 2px rgba(0, 0, 0, 0.3));\n",
              "      fill: #FFFFFF;\n",
              "    }\n",
              "  </style>\n",
              "\n",
              "      <script>\n",
              "        const buttonEl =\n",
              "          document.querySelector('#df-1e846352-0e71-4c23-a056-4654f3cb5112 button.colab-df-convert');\n",
              "        buttonEl.style.display =\n",
              "          google.colab.kernel.accessAllowed ? 'block' : 'none';\n",
              "\n",
              "        async function convertToInteractive(key) {\n",
              "          const element = document.querySelector('#df-1e846352-0e71-4c23-a056-4654f3cb5112');\n",
              "          const dataTable =\n",
              "            await google.colab.kernel.invokeFunction('convertToInteractive',\n",
              "                                                     [key], {});\n",
              "          if (!dataTable) return;\n",
              "\n",
              "          const docLinkHtml = 'Like what you see? Visit the ' +\n",
              "            '<a target=\"_blank\" href=https://colab.research.google.com/notebooks/data_table.ipynb>data table notebook</a>'\n",
              "            + ' to learn more about interactive tables.';\n",
              "          element.innerHTML = '';\n",
              "          dataTable['output_type'] = 'display_data';\n",
              "          await google.colab.output.renderOutput(dataTable, element);\n",
              "          const docLink = document.createElement('div');\n",
              "          docLink.innerHTML = docLinkHtml;\n",
              "          element.appendChild(docLink);\n",
              "        }\n",
              "      </script>\n",
              "    </div>\n",
              "  </div>\n",
              "  "
            ]
          },
          "metadata": {},
          "execution_count": 10
        }
      ]
    },
    {
      "cell_type": "markdown",
      "metadata": {
        "id": "ihcQMvaV0K96"
      },
      "source": [
        "## Бэггинг"
      ]
    },
    {
      "cell_type": "code",
      "metadata": {
        "id": "rrfCc-w_0KJG"
      },
      "source": [
        "from sklearn.ensemble import BaggingRegressor\n",
        "from sklearn.neighbors import KNeighborsRegressor\n",
        "from sklearn.tree import DecisionTreeRegressor"
      ],
      "execution_count": null,
      "outputs": []
    },
    {
      "cell_type": "code",
      "metadata": {
        "colab": {
          "base_uri": "https://localhost:8080/"
        },
        "id": "RuCVBf941sgH",
        "outputId": "8deb94c2-35fc-4c34-efa6-8ca93925f7d6"
      },
      "source": [
        "dt = DecisionTreeRegressor(random_state=10)\n",
        "dt.fit(X_train, y_train)\n",
        "dt.score(X_train, y_train)"
      ],
      "execution_count": null,
      "outputs": [
        {
          "output_type": "execute_result",
          "data": {
            "text/plain": [
              "1.0"
            ]
          },
          "metadata": {},
          "execution_count": 12
        }
      ]
    },
    {
      "cell_type": "code",
      "metadata": {
        "colab": {
          "base_uri": "https://localhost:8080/"
        },
        "id": "kSOkuspA1yfe",
        "outputId": "04fe141b-275e-44c5-c630-2ef28aadb681"
      },
      "source": [
        "dt.score(X_test, y_test)"
      ],
      "execution_count": null,
      "outputs": [
        {
          "output_type": "execute_result",
          "data": {
            "text/plain": [
              "0.7549882674731216"
            ]
          },
          "metadata": {},
          "execution_count": 13
        }
      ]
    },
    {
      "cell_type": "code",
      "metadata": {
        "id": "dFeG-sAI1TBg"
      },
      "source": [
        "bagging = BaggingRegressor(DecisionTreeRegressor(),\n",
        "                           n_estimators=150,\n",
        "                           max_samples=0.5,\n",
        "                           max_features=0.5,\n",
        "                           random_state=10)"
      ],
      "execution_count": null,
      "outputs": []
    },
    {
      "cell_type": "code",
      "metadata": {
        "id": "fq4DnZHL0_-9",
        "colab": {
          "base_uri": "https://localhost:8080/",
          "height": 117
        },
        "outputId": "5cfd28b6-ac87-426c-d0ff-5900a807cb96"
      },
      "source": [
        "bagging.fit(X_train, y_train)"
      ],
      "execution_count": null,
      "outputs": [
        {
          "output_type": "execute_result",
          "data": {
            "text/plain": [
              "BaggingRegressor(estimator=DecisionTreeRegressor(), max_features=0.5,\n",
              "                 max_samples=0.5, n_estimators=150, random_state=10)"
            ],
            "text/html": [
              "<style>#sk-container-id-1 {color: black;background-color: white;}#sk-container-id-1 pre{padding: 0;}#sk-container-id-1 div.sk-toggleable {background-color: white;}#sk-container-id-1 label.sk-toggleable__label {cursor: pointer;display: block;width: 100%;margin-bottom: 0;padding: 0.3em;box-sizing: border-box;text-align: center;}#sk-container-id-1 label.sk-toggleable__label-arrow:before {content: \"▸\";float: left;margin-right: 0.25em;color: #696969;}#sk-container-id-1 label.sk-toggleable__label-arrow:hover:before {color: black;}#sk-container-id-1 div.sk-estimator:hover label.sk-toggleable__label-arrow:before {color: black;}#sk-container-id-1 div.sk-toggleable__content {max-height: 0;max-width: 0;overflow: hidden;text-align: left;background-color: #f0f8ff;}#sk-container-id-1 div.sk-toggleable__content pre {margin: 0.2em;color: black;border-radius: 0.25em;background-color: #f0f8ff;}#sk-container-id-1 input.sk-toggleable__control:checked~div.sk-toggleable__content {max-height: 200px;max-width: 100%;overflow: auto;}#sk-container-id-1 input.sk-toggleable__control:checked~label.sk-toggleable__label-arrow:before {content: \"▾\";}#sk-container-id-1 div.sk-estimator input.sk-toggleable__control:checked~label.sk-toggleable__label {background-color: #d4ebff;}#sk-container-id-1 div.sk-label input.sk-toggleable__control:checked~label.sk-toggleable__label {background-color: #d4ebff;}#sk-container-id-1 input.sk-hidden--visually {border: 0;clip: rect(1px 1px 1px 1px);clip: rect(1px, 1px, 1px, 1px);height: 1px;margin: -1px;overflow: hidden;padding: 0;position: absolute;width: 1px;}#sk-container-id-1 div.sk-estimator {font-family: monospace;background-color: #f0f8ff;border: 1px dotted black;border-radius: 0.25em;box-sizing: border-box;margin-bottom: 0.5em;}#sk-container-id-1 div.sk-estimator:hover {background-color: #d4ebff;}#sk-container-id-1 div.sk-parallel-item::after {content: \"\";width: 100%;border-bottom: 1px solid gray;flex-grow: 1;}#sk-container-id-1 div.sk-label:hover label.sk-toggleable__label {background-color: #d4ebff;}#sk-container-id-1 div.sk-serial::before {content: \"\";position: absolute;border-left: 1px solid gray;box-sizing: border-box;top: 0;bottom: 0;left: 50%;z-index: 0;}#sk-container-id-1 div.sk-serial {display: flex;flex-direction: column;align-items: center;background-color: white;padding-right: 0.2em;padding-left: 0.2em;position: relative;}#sk-container-id-1 div.sk-item {position: relative;z-index: 1;}#sk-container-id-1 div.sk-parallel {display: flex;align-items: stretch;justify-content: center;background-color: white;position: relative;}#sk-container-id-1 div.sk-item::before, #sk-container-id-1 div.sk-parallel-item::before {content: \"\";position: absolute;border-left: 1px solid gray;box-sizing: border-box;top: 0;bottom: 0;left: 50%;z-index: -1;}#sk-container-id-1 div.sk-parallel-item {display: flex;flex-direction: column;z-index: 1;position: relative;background-color: white;}#sk-container-id-1 div.sk-parallel-item:first-child::after {align-self: flex-end;width: 50%;}#sk-container-id-1 div.sk-parallel-item:last-child::after {align-self: flex-start;width: 50%;}#sk-container-id-1 div.sk-parallel-item:only-child::after {width: 0;}#sk-container-id-1 div.sk-dashed-wrapped {border: 1px dashed gray;margin: 0 0.4em 0.5em 0.4em;box-sizing: border-box;padding-bottom: 0.4em;background-color: white;}#sk-container-id-1 div.sk-label label {font-family: monospace;font-weight: bold;display: inline-block;line-height: 1.2em;}#sk-container-id-1 div.sk-label-container {text-align: center;}#sk-container-id-1 div.sk-container {/* jupyter's `normalize.less` sets `[hidden] { display: none; }` but bootstrap.min.css set `[hidden] { display: none !important; }` so we also need the `!important` here to be able to override the default hidden behavior on the sphinx rendered scikit-learn.org. See: https://github.com/scikit-learn/scikit-learn/issues/21755 */display: inline-block !important;position: relative;}#sk-container-id-1 div.sk-text-repr-fallback {display: none;}</style><div id=\"sk-container-id-1\" class=\"sk-top-container\"><div class=\"sk-text-repr-fallback\"><pre>BaggingRegressor(estimator=DecisionTreeRegressor(), max_features=0.5,\n",
              "                 max_samples=0.5, n_estimators=150, random_state=10)</pre><b>In a Jupyter environment, please rerun this cell to show the HTML representation or trust the notebook. <br />On GitHub, the HTML representation is unable to render, please try loading this page with nbviewer.org.</b></div><div class=\"sk-container\" hidden><div class=\"sk-item sk-dashed-wrapped\"><div class=\"sk-label-container\"><div class=\"sk-label sk-toggleable\"><input class=\"sk-toggleable__control sk-hidden--visually\" id=\"sk-estimator-id-1\" type=\"checkbox\" ><label for=\"sk-estimator-id-1\" class=\"sk-toggleable__label sk-toggleable__label-arrow\">BaggingRegressor</label><div class=\"sk-toggleable__content\"><pre>BaggingRegressor(estimator=DecisionTreeRegressor(), max_features=0.5,\n",
              "                 max_samples=0.5, n_estimators=150, random_state=10)</pre></div></div></div><div class=\"sk-parallel\"><div class=\"sk-parallel-item\"><div class=\"sk-item\"><div class=\"sk-label-container\"><div class=\"sk-label sk-toggleable\"><input class=\"sk-toggleable__control sk-hidden--visually\" id=\"sk-estimator-id-2\" type=\"checkbox\" ><label for=\"sk-estimator-id-2\" class=\"sk-toggleable__label sk-toggleable__label-arrow\">estimator: DecisionTreeRegressor</label><div class=\"sk-toggleable__content\"><pre>DecisionTreeRegressor()</pre></div></div></div><div class=\"sk-serial\"><div class=\"sk-item\"><div class=\"sk-estimator sk-toggleable\"><input class=\"sk-toggleable__control sk-hidden--visually\" id=\"sk-estimator-id-3\" type=\"checkbox\" ><label for=\"sk-estimator-id-3\" class=\"sk-toggleable__label sk-toggleable__label-arrow\">DecisionTreeRegressor</label><div class=\"sk-toggleable__content\"><pre>DecisionTreeRegressor()</pre></div></div></div></div></div></div></div></div></div></div>"
            ]
          },
          "metadata": {},
          "execution_count": 15
        }
      ]
    },
    {
      "cell_type": "code",
      "metadata": {
        "id": "irJHN95g1Mqa",
        "colab": {
          "base_uri": "https://localhost:8080/"
        },
        "outputId": "ce89ed90-fa87-44ab-e625-e541835eda50"
      },
      "source": [
        "bagging.score(X_train, y_train)"
      ],
      "execution_count": null,
      "outputs": [
        {
          "output_type": "execute_result",
          "data": {
            "text/plain": [
              "0.9373722747085429"
            ]
          },
          "metadata": {},
          "execution_count": 16
        }
      ]
    },
    {
      "cell_type": "code",
      "metadata": {
        "id": "VLympcrm1HkP",
        "colab": {
          "base_uri": "https://localhost:8080/"
        },
        "outputId": "d4e01916-e508-4fe0-dd3f-aa52127738f8"
      },
      "source": [
        "bagging.score(X_test, y_test)"
      ],
      "execution_count": null,
      "outputs": [
        {
          "output_type": "execute_result",
          "data": {
            "text/plain": [
              "0.8858540025333806"
            ]
          },
          "metadata": {},
          "execution_count": 17
        }
      ]
    },
    {
      "cell_type": "code",
      "metadata": {
        "colab": {
          "base_uri": "https://localhost:8080/"
        },
        "id": "P2f-b8eB1-tf",
        "outputId": "bf047094-b883-4bda-b927-c6f0b3e31e60"
      },
      "source": [
        "kn = KNeighborsRegressor()\n",
        "kn.fit(X_train, y_train)\n",
        "kn.score(X_train, y_train)"
      ],
      "execution_count": null,
      "outputs": [
        {
          "output_type": "execute_result",
          "data": {
            "text/plain": [
              "0.7501837788800589"
            ]
          },
          "metadata": {},
          "execution_count": 18
        }
      ]
    },
    {
      "cell_type": "code",
      "metadata": {
        "colab": {
          "base_uri": "https://localhost:8080/"
        },
        "id": "8AXaiTEU2DOE",
        "outputId": "c6aa38d1-bd20-46b2-ed78-7baa94f161ac"
      },
      "source": [
        "kn.score(X_test, y_test)"
      ],
      "execution_count": null,
      "outputs": [
        {
          "output_type": "execute_result",
          "data": {
            "text/plain": [
              "0.676138613361793"
            ]
          },
          "metadata": {},
          "execution_count": 19
        }
      ]
    },
    {
      "cell_type": "code",
      "metadata": {
        "id": "MXP2GEnz1YYj"
      },
      "source": [
        "bagging = BaggingRegressor(KNeighborsRegressor(),\n",
        "                           n_estimators=100,\n",
        "                           max_samples=0.5,\n",
        "                           max_features=0.5,\n",
        "                           random_state=10)"
      ],
      "execution_count": null,
      "outputs": []
    },
    {
      "cell_type": "code",
      "metadata": {
        "colab": {
          "base_uri": "https://localhost:8080/",
          "height": 117
        },
        "id": "tXIq5Ejy1bDH",
        "outputId": "19bdbff3-d367-4df6-9d90-81d5fbb85e4d"
      },
      "source": [
        "bagging.fit(X_train, y_train)"
      ],
      "execution_count": null,
      "outputs": [
        {
          "output_type": "execute_result",
          "data": {
            "text/plain": [
              "BaggingRegressor(estimator=KNeighborsRegressor(), max_features=0.5,\n",
              "                 max_samples=0.5, n_estimators=100, random_state=10)"
            ],
            "text/html": [
              "<style>#sk-container-id-2 {color: black;background-color: white;}#sk-container-id-2 pre{padding: 0;}#sk-container-id-2 div.sk-toggleable {background-color: white;}#sk-container-id-2 label.sk-toggleable__label {cursor: pointer;display: block;width: 100%;margin-bottom: 0;padding: 0.3em;box-sizing: border-box;text-align: center;}#sk-container-id-2 label.sk-toggleable__label-arrow:before {content: \"▸\";float: left;margin-right: 0.25em;color: #696969;}#sk-container-id-2 label.sk-toggleable__label-arrow:hover:before {color: black;}#sk-container-id-2 div.sk-estimator:hover label.sk-toggleable__label-arrow:before {color: black;}#sk-container-id-2 div.sk-toggleable__content {max-height: 0;max-width: 0;overflow: hidden;text-align: left;background-color: #f0f8ff;}#sk-container-id-2 div.sk-toggleable__content pre {margin: 0.2em;color: black;border-radius: 0.25em;background-color: #f0f8ff;}#sk-container-id-2 input.sk-toggleable__control:checked~div.sk-toggleable__content {max-height: 200px;max-width: 100%;overflow: auto;}#sk-container-id-2 input.sk-toggleable__control:checked~label.sk-toggleable__label-arrow:before {content: \"▾\";}#sk-container-id-2 div.sk-estimator input.sk-toggleable__control:checked~label.sk-toggleable__label {background-color: #d4ebff;}#sk-container-id-2 div.sk-label input.sk-toggleable__control:checked~label.sk-toggleable__label {background-color: #d4ebff;}#sk-container-id-2 input.sk-hidden--visually {border: 0;clip: rect(1px 1px 1px 1px);clip: rect(1px, 1px, 1px, 1px);height: 1px;margin: -1px;overflow: hidden;padding: 0;position: absolute;width: 1px;}#sk-container-id-2 div.sk-estimator {font-family: monospace;background-color: #f0f8ff;border: 1px dotted black;border-radius: 0.25em;box-sizing: border-box;margin-bottom: 0.5em;}#sk-container-id-2 div.sk-estimator:hover {background-color: #d4ebff;}#sk-container-id-2 div.sk-parallel-item::after {content: \"\";width: 100%;border-bottom: 1px solid gray;flex-grow: 1;}#sk-container-id-2 div.sk-label:hover label.sk-toggleable__label {background-color: #d4ebff;}#sk-container-id-2 div.sk-serial::before {content: \"\";position: absolute;border-left: 1px solid gray;box-sizing: border-box;top: 0;bottom: 0;left: 50%;z-index: 0;}#sk-container-id-2 div.sk-serial {display: flex;flex-direction: column;align-items: center;background-color: white;padding-right: 0.2em;padding-left: 0.2em;position: relative;}#sk-container-id-2 div.sk-item {position: relative;z-index: 1;}#sk-container-id-2 div.sk-parallel {display: flex;align-items: stretch;justify-content: center;background-color: white;position: relative;}#sk-container-id-2 div.sk-item::before, #sk-container-id-2 div.sk-parallel-item::before {content: \"\";position: absolute;border-left: 1px solid gray;box-sizing: border-box;top: 0;bottom: 0;left: 50%;z-index: -1;}#sk-container-id-2 div.sk-parallel-item {display: flex;flex-direction: column;z-index: 1;position: relative;background-color: white;}#sk-container-id-2 div.sk-parallel-item:first-child::after {align-self: flex-end;width: 50%;}#sk-container-id-2 div.sk-parallel-item:last-child::after {align-self: flex-start;width: 50%;}#sk-container-id-2 div.sk-parallel-item:only-child::after {width: 0;}#sk-container-id-2 div.sk-dashed-wrapped {border: 1px dashed gray;margin: 0 0.4em 0.5em 0.4em;box-sizing: border-box;padding-bottom: 0.4em;background-color: white;}#sk-container-id-2 div.sk-label label {font-family: monospace;font-weight: bold;display: inline-block;line-height: 1.2em;}#sk-container-id-2 div.sk-label-container {text-align: center;}#sk-container-id-2 div.sk-container {/* jupyter's `normalize.less` sets `[hidden] { display: none; }` but bootstrap.min.css set `[hidden] { display: none !important; }` so we also need the `!important` here to be able to override the default hidden behavior on the sphinx rendered scikit-learn.org. See: https://github.com/scikit-learn/scikit-learn/issues/21755 */display: inline-block !important;position: relative;}#sk-container-id-2 div.sk-text-repr-fallback {display: none;}</style><div id=\"sk-container-id-2\" class=\"sk-top-container\"><div class=\"sk-text-repr-fallback\"><pre>BaggingRegressor(estimator=KNeighborsRegressor(), max_features=0.5,\n",
              "                 max_samples=0.5, n_estimators=100, random_state=10)</pre><b>In a Jupyter environment, please rerun this cell to show the HTML representation or trust the notebook. <br />On GitHub, the HTML representation is unable to render, please try loading this page with nbviewer.org.</b></div><div class=\"sk-container\" hidden><div class=\"sk-item sk-dashed-wrapped\"><div class=\"sk-label-container\"><div class=\"sk-label sk-toggleable\"><input class=\"sk-toggleable__control sk-hidden--visually\" id=\"sk-estimator-id-4\" type=\"checkbox\" ><label for=\"sk-estimator-id-4\" class=\"sk-toggleable__label sk-toggleable__label-arrow\">BaggingRegressor</label><div class=\"sk-toggleable__content\"><pre>BaggingRegressor(estimator=KNeighborsRegressor(), max_features=0.5,\n",
              "                 max_samples=0.5, n_estimators=100, random_state=10)</pre></div></div></div><div class=\"sk-parallel\"><div class=\"sk-parallel-item\"><div class=\"sk-item\"><div class=\"sk-label-container\"><div class=\"sk-label sk-toggleable\"><input class=\"sk-toggleable__control sk-hidden--visually\" id=\"sk-estimator-id-5\" type=\"checkbox\" ><label for=\"sk-estimator-id-5\" class=\"sk-toggleable__label sk-toggleable__label-arrow\">estimator: KNeighborsRegressor</label><div class=\"sk-toggleable__content\"><pre>KNeighborsRegressor()</pre></div></div></div><div class=\"sk-serial\"><div class=\"sk-item\"><div class=\"sk-estimator sk-toggleable\"><input class=\"sk-toggleable__control sk-hidden--visually\" id=\"sk-estimator-id-6\" type=\"checkbox\" ><label for=\"sk-estimator-id-6\" class=\"sk-toggleable__label sk-toggleable__label-arrow\">KNeighborsRegressor</label><div class=\"sk-toggleable__content\"><pre>KNeighborsRegressor()</pre></div></div></div></div></div></div></div></div></div></div>"
            ]
          },
          "metadata": {},
          "execution_count": 21
        }
      ]
    },
    {
      "cell_type": "code",
      "metadata": {
        "colab": {
          "base_uri": "https://localhost:8080/"
        },
        "id": "Qj8S9J_q1bHa",
        "outputId": "86c453cc-52f2-445e-82aa-fdf1db78947a"
      },
      "source": [
        "bagging.score(X_train, y_train)"
      ],
      "execution_count": null,
      "outputs": [
        {
          "output_type": "execute_result",
          "data": {
            "text/plain": [
              "0.7465006963887721"
            ]
          },
          "metadata": {},
          "execution_count": 22
        }
      ]
    },
    {
      "cell_type": "code",
      "metadata": {
        "colab": {
          "base_uri": "https://localhost:8080/"
        },
        "id": "qivc2t7J1naw",
        "outputId": "5e5aa8b8-6cf3-4e2e-9361-6e2fe5c6f3a6"
      },
      "source": [
        "bagging.score(X_test, y_test)"
      ],
      "execution_count": null,
      "outputs": [
        {
          "output_type": "execute_result",
          "data": {
            "text/plain": [
              "0.7189451729956573"
            ]
          },
          "metadata": {},
          "execution_count": 23
        }
      ]
    },
    {
      "cell_type": "markdown",
      "source": [
        "### RandomForest"
      ],
      "metadata": {
        "id": "UlQ0dTFLTEAv"
      }
    },
    {
      "cell_type": "code",
      "metadata": {
        "id": "_ffu_hbgz0m_",
        "colab": {
          "base_uri": "https://localhost:8080/",
          "height": 109
        },
        "outputId": "d2302e4e-f118-41b6-8ba0-de31954b92f5"
      },
      "source": [
        "%%time\n",
        "from sklearn.ensemble import RandomForestRegressor\n",
        "\n",
        "# Создаем модель RandomForest\n",
        "clf_rf = RandomForestRegressor(random_state=10)\n",
        "clf_rf.fit(X_train, y_train)"
      ],
      "execution_count": null,
      "outputs": [
        {
          "output_type": "stream",
          "name": "stdout",
          "text": [
            "CPU times: user 3.71 s, sys: 46.6 ms, total: 3.75 s\n",
            "Wall time: 6.83 s\n"
          ]
        },
        {
          "output_type": "execute_result",
          "data": {
            "text/plain": [
              "RandomForestRegressor(random_state=10)"
            ],
            "text/html": [
              "<style>#sk-container-id-3 {color: black;background-color: white;}#sk-container-id-3 pre{padding: 0;}#sk-container-id-3 div.sk-toggleable {background-color: white;}#sk-container-id-3 label.sk-toggleable__label {cursor: pointer;display: block;width: 100%;margin-bottom: 0;padding: 0.3em;box-sizing: border-box;text-align: center;}#sk-container-id-3 label.sk-toggleable__label-arrow:before {content: \"▸\";float: left;margin-right: 0.25em;color: #696969;}#sk-container-id-3 label.sk-toggleable__label-arrow:hover:before {color: black;}#sk-container-id-3 div.sk-estimator:hover label.sk-toggleable__label-arrow:before {color: black;}#sk-container-id-3 div.sk-toggleable__content {max-height: 0;max-width: 0;overflow: hidden;text-align: left;background-color: #f0f8ff;}#sk-container-id-3 div.sk-toggleable__content pre {margin: 0.2em;color: black;border-radius: 0.25em;background-color: #f0f8ff;}#sk-container-id-3 input.sk-toggleable__control:checked~div.sk-toggleable__content {max-height: 200px;max-width: 100%;overflow: auto;}#sk-container-id-3 input.sk-toggleable__control:checked~label.sk-toggleable__label-arrow:before {content: \"▾\";}#sk-container-id-3 div.sk-estimator input.sk-toggleable__control:checked~label.sk-toggleable__label {background-color: #d4ebff;}#sk-container-id-3 div.sk-label input.sk-toggleable__control:checked~label.sk-toggleable__label {background-color: #d4ebff;}#sk-container-id-3 input.sk-hidden--visually {border: 0;clip: rect(1px 1px 1px 1px);clip: rect(1px, 1px, 1px, 1px);height: 1px;margin: -1px;overflow: hidden;padding: 0;position: absolute;width: 1px;}#sk-container-id-3 div.sk-estimator {font-family: monospace;background-color: #f0f8ff;border: 1px dotted black;border-radius: 0.25em;box-sizing: border-box;margin-bottom: 0.5em;}#sk-container-id-3 div.sk-estimator:hover {background-color: #d4ebff;}#sk-container-id-3 div.sk-parallel-item::after {content: \"\";width: 100%;border-bottom: 1px solid gray;flex-grow: 1;}#sk-container-id-3 div.sk-label:hover label.sk-toggleable__label {background-color: #d4ebff;}#sk-container-id-3 div.sk-serial::before {content: \"\";position: absolute;border-left: 1px solid gray;box-sizing: border-box;top: 0;bottom: 0;left: 50%;z-index: 0;}#sk-container-id-3 div.sk-serial {display: flex;flex-direction: column;align-items: center;background-color: white;padding-right: 0.2em;padding-left: 0.2em;position: relative;}#sk-container-id-3 div.sk-item {position: relative;z-index: 1;}#sk-container-id-3 div.sk-parallel {display: flex;align-items: stretch;justify-content: center;background-color: white;position: relative;}#sk-container-id-3 div.sk-item::before, #sk-container-id-3 div.sk-parallel-item::before {content: \"\";position: absolute;border-left: 1px solid gray;box-sizing: border-box;top: 0;bottom: 0;left: 50%;z-index: -1;}#sk-container-id-3 div.sk-parallel-item {display: flex;flex-direction: column;z-index: 1;position: relative;background-color: white;}#sk-container-id-3 div.sk-parallel-item:first-child::after {align-self: flex-end;width: 50%;}#sk-container-id-3 div.sk-parallel-item:last-child::after {align-self: flex-start;width: 50%;}#sk-container-id-3 div.sk-parallel-item:only-child::after {width: 0;}#sk-container-id-3 div.sk-dashed-wrapped {border: 1px dashed gray;margin: 0 0.4em 0.5em 0.4em;box-sizing: border-box;padding-bottom: 0.4em;background-color: white;}#sk-container-id-3 div.sk-label label {font-family: monospace;font-weight: bold;display: inline-block;line-height: 1.2em;}#sk-container-id-3 div.sk-label-container {text-align: center;}#sk-container-id-3 div.sk-container {/* jupyter's `normalize.less` sets `[hidden] { display: none; }` but bootstrap.min.css set `[hidden] { display: none !important; }` so we also need the `!important` here to be able to override the default hidden behavior on the sphinx rendered scikit-learn.org. See: https://github.com/scikit-learn/scikit-learn/issues/21755 */display: inline-block !important;position: relative;}#sk-container-id-3 div.sk-text-repr-fallback {display: none;}</style><div id=\"sk-container-id-3\" class=\"sk-top-container\"><div class=\"sk-text-repr-fallback\"><pre>RandomForestRegressor(random_state=10)</pre><b>In a Jupyter environment, please rerun this cell to show the HTML representation or trust the notebook. <br />On GitHub, the HTML representation is unable to render, please try loading this page with nbviewer.org.</b></div><div class=\"sk-container\" hidden><div class=\"sk-item\"><div class=\"sk-estimator sk-toggleable\"><input class=\"sk-toggleable__control sk-hidden--visually\" id=\"sk-estimator-id-7\" type=\"checkbox\" checked><label for=\"sk-estimator-id-7\" class=\"sk-toggleable__label sk-toggleable__label-arrow\">RandomForestRegressor</label><div class=\"sk-toggleable__content\"><pre>RandomForestRegressor(random_state=10)</pre></div></div></div></div></div>"
            ]
          },
          "metadata": {},
          "execution_count": 24
        }
      ]
    },
    {
      "cell_type": "code",
      "metadata": {
        "id": "_7prwcObz0nA",
        "colab": {
          "base_uri": "https://localhost:8080/"
        },
        "outputId": "2ef4b01b-3fb5-4a74-b44b-20dcba0f633a"
      },
      "source": [
        "# проверяем полученные данные на тренировочных данных\n",
        "\n",
        "clf_rf.score(X_train, y_train)"
      ],
      "execution_count": null,
      "outputs": [
        {
          "output_type": "execute_result",
          "data": {
            "text/plain": [
              "0.978184889871636"
            ]
          },
          "metadata": {},
          "execution_count": 25
        }
      ]
    },
    {
      "cell_type": "code",
      "metadata": {
        "id": "J1iCfFMtz0nA",
        "colab": {
          "base_uri": "https://localhost:8080/"
        },
        "outputId": "443f338d-8dcd-4da1-82fb-306d50195a3e"
      },
      "source": [
        "# проверяем полученные данные на тестовых данных\n",
        "\n",
        "clf_rf.score(X_test, y_test)"
      ],
      "execution_count": null,
      "outputs": [
        {
          "output_type": "execute_result",
          "data": {
            "text/plain": [
              "0.8950688572441701"
            ]
          },
          "metadata": {},
          "execution_count": 26
        }
      ]
    },
    {
      "cell_type": "code",
      "metadata": {
        "id": "fkh8jy7Zz0nC"
      },
      "source": [
        "# Выявляем наиболее важные признаки и выводим на график. Большое значение имеет признак Overall Qual, остальные почти равны нулю\n",
        "\n",
        "imp = pd.Series(clf_rf.feature_importances_)"
      ],
      "execution_count": null,
      "outputs": []
    },
    {
      "cell_type": "code",
      "metadata": {
        "id": "a1y_Yk7yz0nD"
      },
      "source": [
        "imp.index = pd.Series(X_train.columns)"
      ],
      "execution_count": null,
      "outputs": []
    },
    {
      "cell_type": "code",
      "source": [
        "imp = imp.sort_values(ascending=False)\n",
        "imp"
      ],
      "metadata": {
        "colab": {
          "base_uri": "https://localhost:8080/"
        },
        "id": "E_kAl6egTN5K",
        "outputId": "11836865-4ff4-4760-8819-2eeb531b51e3"
      },
      "execution_count": null,
      "outputs": [
        {
          "output_type": "execute_result",
          "data": {
            "text/plain": [
              "OverallQual          5.394457e-01\n",
              "GrLivArea            1.237455e-01\n",
              "2ndFlrSF             4.091540e-02\n",
              "TotalBsmtSF          2.878837e-02\n",
              "BsmtFinSF1           2.227699e-02\n",
              "                         ...     \n",
              "Exterior1st_Stone    2.019394e-07\n",
              "Foundation_Stone     3.428709e-08\n",
              "GarageQual_Po        1.212426e-08\n",
              "ExterCond_Ex         0.000000e+00\n",
              "PoolQC_Fa            0.000000e+00\n",
              "Length: 269, dtype: float64"
            ]
          },
          "metadata": {},
          "execution_count": 29
        }
      ]
    },
    {
      "cell_type": "code",
      "metadata": {
        "id": "Ezg9a7nlz0nD",
        "colab": {
          "base_uri": "https://localhost:8080/",
          "height": 472
        },
        "outputId": "408a1465-7605-4ad5-98e9-536e49f551f5"
      },
      "source": [
        "plt.title('Top 5 feature importances')\n",
        "plt.xlabel('Features')\n",
        "plt.ylabel('Gini')\n",
        "plt.bar(imp.head().index, imp.head())\n",
        "plt.show()"
      ],
      "execution_count": null,
      "outputs": [
        {
          "output_type": "display_data",
          "data": {
            "text/plain": [
              "<Figure size 640x480 with 1 Axes>"
            ],
            "image/png": "[encoded data removed]"
          },
          "metadata": {}
        }
      ]
    },
    {
      "cell_type": "markdown",
      "metadata": {
        "id": "PqvgYDpT0Tx1"
      },
      "source": [
        "## Стекинг"
      ]
    },
    {
      "cell_type": "code",
      "metadata": {
        "id": "ExfQ01quz0nE"
      },
      "source": [
        "from sklearn.ensemble import StackingRegressor\n",
        "from sklearn.linear_model import LinearRegression\n",
        "from sklearn.neighbors import KNeighborsRegressor\n",
        "from sklearn.tree import DecisionTreeRegressor\n",
        "from sklearn.linear_model import RidgeCV"
      ],
      "execution_count": null,
      "outputs": []
    },
    {
      "cell_type": "code",
      "metadata": {
        "id": "vPsuVFCOz0nE"
      },
      "source": [
        "# Создаем стэккинг и обучаем его на наших данных \n",
        "\n",
        "lr = LinearRegression()\n",
        "Regressor = StackingRegressor(\n",
        "    [ \n",
        "        ('LinearRegression', lr),\n",
        "        ('KNeighborsRegressor', KNeighborsRegressor()),\n",
        "        ('DecisionTree', DecisionTreeRegressor()),\n",
        "    ], RidgeCV([8, 14, 10]))"
      ],
      "execution_count": null,
      "outputs": []
    },
    {
      "cell_type": "code",
      "metadata": {
        "id": "AloJkNmbz0nE",
        "colab": {
          "base_uri": "https://localhost:8080/",
          "height": 197
        },
        "outputId": "31ac199c-2ab7-4657-f7b3-94bd31c6e3d1"
      },
      "source": [
        "%%time\n",
        "Regressor.fit(X_train, y_train)"
      ],
      "execution_count": null,
      "outputs": [
        {
          "output_type": "stream",
          "name": "stdout",
          "text": [
            "CPU times: user 1.05 s, sys: 574 ms, total: 1.63 s\n",
            "Wall time: 1.52 s\n"
          ]
        },
        {
          "output_type": "execute_result",
          "data": {
            "text/plain": [
              "StackingRegressor(estimators=[('LinearRegression', LinearRegression()),\n",
              "                              ('KNeighborsRegressor', KNeighborsRegressor()),\n",
              "                              ('DecisionTree', DecisionTreeRegressor())],\n",
              "                  final_estimator=RidgeCV(alphas=[8, 14, 10]))"
            ],
            "text/html": [
              "<style>#sk-container-id-4 {color: black;background-color: white;}#sk-container-id-4 pre{padding: 0;}#sk-container-id-4 div.sk-toggleable {background-color: white;}#sk-container-id-4 label.sk-toggleable__label {cursor: pointer;display: block;width: 100%;margin-bottom: 0;padding: 0.3em;box-sizing: border-box;text-align: center;}#sk-container-id-4 label.sk-toggleable__label-arrow:before {content: \"▸\";float: left;margin-right: 0.25em;color: #696969;}#sk-container-id-4 label.sk-toggleable__label-arrow:hover:before {color: black;}#sk-container-id-4 div.sk-estimator:hover label.sk-toggleable__label-arrow:before {color: black;}#sk-container-id-4 div.sk-toggleable__content {max-height: 0;max-width: 0;overflow: hidden;text-align: left;background-color: #f0f8ff;}#sk-container-id-4 div.sk-toggleable__content pre {margin: 0.2em;color: black;border-radius: 0.25em;background-color: #f0f8ff;}#sk-container-id-4 input.sk-toggleable__control:checked~div.sk-toggleable__content {max-height: 200px;max-width: 100%;overflow: auto;}#sk-container-id-4 input.sk-toggleable__control:checked~label.sk-toggleable__label-arrow:before {content: \"▾\";}#sk-container-id-4 div.sk-estimator input.sk-toggleable__control:checked~label.sk-toggleable__label {background-color: #d4ebff;}#sk-container-id-4 div.sk-label input.sk-toggleable__control:checked~label.sk-toggleable__label {background-color: #d4ebff;}#sk-container-id-4 input.sk-hidden--visually {border: 0;clip: rect(1px 1px 1px 1px);clip: rect(1px, 1px, 1px, 1px);height: 1px;margin: -1px;overflow: hidden;padding: 0;position: absolute;width: 1px;}#sk-container-id-4 div.sk-estimator {font-family: monospace;background-color: #f0f8ff;border: 1px dotted black;border-radius: 0.25em;box-sizing: border-box;margin-bottom: 0.5em;}#sk-container-id-4 div.sk-estimator:hover {background-color: #d4ebff;}#sk-container-id-4 div.sk-parallel-item::after {content: \"\";width: 100%;border-bottom: 1px solid gray;flex-grow: 1;}#sk-container-id-4 div.sk-label:hover label.sk-toggleable__label {background-color: #d4ebff;}#sk-container-id-4 div.sk-serial::before {content: \"\";position: absolute;border-left: 1px solid gray;box-sizing: border-box;top: 0;bottom: 0;left: 50%;z-index: 0;}#sk-container-id-4 div.sk-serial {display: flex;flex-direction: column;align-items: center;background-color: white;padding-right: 0.2em;padding-left: 0.2em;position: relative;}#sk-container-id-4 div.sk-item {position: relative;z-index: 1;}#sk-container-id-4 div.sk-parallel {display: flex;align-items: stretch;justify-content: center;background-color: white;position: relative;}#sk-container-id-4 div.sk-item::before, #sk-container-id-4 div.sk-parallel-item::before {content: \"\";position: absolute;border-left: 1px solid gray;box-sizing: border-box;top: 0;bottom: 0;left: 50%;z-index: -1;}#sk-container-id-4 div.sk-parallel-item {display: flex;flex-direction: column;z-index: 1;position: relative;background-color: white;}#sk-container-id-4 div.sk-parallel-item:first-child::after {align-self: flex-end;width: 50%;}#sk-container-id-4 div.sk-parallel-item:last-child::after {align-self: flex-start;width: 50%;}#sk-container-id-4 div.sk-parallel-item:only-child::after {width: 0;}#sk-container-id-4 div.sk-dashed-wrapped {border: 1px dashed gray;margin: 0 0.4em 0.5em 0.4em;box-sizing: border-box;padding-bottom: 0.4em;background-color: white;}#sk-container-id-4 div.sk-label label {font-family: monospace;font-weight: bold;display: inline-block;line-height: 1.2em;}#sk-container-id-4 div.sk-label-container {text-align: center;}#sk-container-id-4 div.sk-container {/* jupyter's `normalize.less` sets `[hidden] { display: none; }` but bootstrap.min.css set `[hidden] { display: none !important; }` so we also need the `!important` here to be able to override the default hidden behavior on the sphinx rendered scikit-learn.org. See: https://github.com/scikit-learn/scikit-learn/issues/21755 */display: inline-block !important;position: relative;}#sk-container-id-4 div.sk-text-repr-fallback {display: none;}</style><div id=\"sk-container-id-4\" class=\"sk-top-container\"><div class=\"sk-text-repr-fallback\"><pre>StackingRegressor(estimators=[(&#x27;LinearRegression&#x27;, LinearRegression()),\n",
              "                              (&#x27;KNeighborsRegressor&#x27;, KNeighborsRegressor()),\n",
              "                              (&#x27;DecisionTree&#x27;, DecisionTreeRegressor())],\n",
              "                  final_estimator=RidgeCV(alphas=[8, 14, 10]))</pre><b>In a Jupyter environment, please rerun this cell to show the HTML representation or trust the notebook. <br />On GitHub, the HTML representation is unable to render, please try loading this page with nbviewer.org.</b></div><div class=\"sk-container\" hidden><div class=\"sk-item sk-dashed-wrapped\"><div class=\"sk-label-container\"><div class=\"sk-label sk-toggleable\"><input class=\"sk-toggleable__control sk-hidden--visually\" id=\"sk-estimator-id-8\" type=\"checkbox\" ><label for=\"sk-estimator-id-8\" class=\"sk-toggleable__label sk-toggleable__label-arrow\">StackingRegressor</label><div class=\"sk-toggleable__content\"><pre>StackingRegressor(estimators=[(&#x27;LinearRegression&#x27;, LinearRegression()),\n",
              "                              (&#x27;KNeighborsRegressor&#x27;, KNeighborsRegressor()),\n",
              "                              (&#x27;DecisionTree&#x27;, DecisionTreeRegressor())],\n",
              "                  final_estimator=RidgeCV(alphas=[8, 14, 10]))</pre></div></div></div><div class=\"sk-serial\"><div class=\"sk-item\"><div class=\"sk-parallel\"><div class=\"sk-parallel-item\"><div class=\"sk-item\"><div class=\"sk-label-container\"><div class=\"sk-label sk-toggleable\"><label>LinearRegression</label></div></div><div class=\"sk-serial\"><div class=\"sk-item\"><div class=\"sk-estimator sk-toggleable\"><input class=\"sk-toggleable__control sk-hidden--visually\" id=\"sk-estimator-id-9\" type=\"checkbox\" ><label for=\"sk-estimator-id-9\" class=\"sk-toggleable__label sk-toggleable__label-arrow\">LinearRegression</label><div class=\"sk-toggleable__content\"><pre>LinearRegression()</pre></div></div></div></div></div></div><div class=\"sk-parallel-item\"><div class=\"sk-item\"><div class=\"sk-label-container\"><div class=\"sk-label sk-toggleable\"><label>KNeighborsRegressor</label></div></div><div class=\"sk-serial\"><div class=\"sk-item\"><div class=\"sk-estimator sk-toggleable\"><input class=\"sk-toggleable__control sk-hidden--visually\" id=\"sk-estimator-id-10\" type=\"checkbox\" ><label for=\"sk-estimator-id-10\" class=\"sk-toggleable__label sk-toggleable__label-arrow\">KNeighborsRegressor</label><div class=\"sk-toggleable__content\"><pre>KNeighborsRegressor()</pre></div></div></div></div></div></div><div class=\"sk-parallel-item\"><div class=\"sk-item\"><div class=\"sk-label-container\"><div class=\"sk-label sk-toggleable\"><label>DecisionTree</label></div></div><div class=\"sk-serial\"><div class=\"sk-item\"><div class=\"sk-estimator sk-toggleable\"><input class=\"sk-toggleable__control sk-hidden--visually\" id=\"sk-estimator-id-11\" type=\"checkbox\" ><label for=\"sk-estimator-id-11\" class=\"sk-toggleable__label sk-toggleable__label-arrow\">DecisionTreeRegressor</label><div class=\"sk-toggleable__content\"><pre>DecisionTreeRegressor()</pre></div></div></div></div></div></div></div></div><div class=\"sk-item\"><div class=\"sk-parallel\"><div class=\"sk-parallel-item\"><div class=\"sk-item\"><div class=\"sk-label-container\"><div class=\"sk-label sk-toggleable\"><label>final_estimator</label></div></div><div class=\"sk-serial\"><div class=\"sk-item\"><div class=\"sk-estimator sk-toggleable\"><input class=\"sk-toggleable__control sk-hidden--visually\" id=\"sk-estimator-id-12\" type=\"checkbox\" ><label for=\"sk-estimator-id-12\" class=\"sk-toggleable__label sk-toggleable__label-arrow\">RidgeCV</label><div class=\"sk-toggleable__content\"><pre>RidgeCV(alphas=[8, 14, 10])</pre></div></div></div></div></div></div></div></div></div></div></div></div>"
            ]
          },
          "metadata": {},
          "execution_count": 33
        }
      ]
    },
    {
      "cell_type": "code",
      "source": [
        "Regressor.final_estimator_.alpha_"
      ],
      "metadata": {
        "colab": {
          "base_uri": "https://localhost:8080/"
        },
        "id": "vnv7-FZjijWV",
        "outputId": "17c3b76b-d675-4142-ee4a-5a15e92c5c31"
      },
      "execution_count": null,
      "outputs": [
        {
          "output_type": "execute_result",
          "data": {
            "text/plain": [
              "14"
            ]
          },
          "metadata": {},
          "execution_count": 34
        }
      ]
    },
    {
      "cell_type": "code",
      "source": [
        "print(f'Score on train  {Regressor.score(X_train, y_train)}')\n",
        "print(f'Score on test  {Regressor.score(X_test, y_test)}')"
      ],
      "metadata": {
        "colab": {
          "base_uri": "https://localhost:8080/"
        },
        "id": "QEDrmuoLTdY3",
        "outputId": "58c2b10f-911d-41af-abbb-094eb526444e"
      },
      "execution_count": null,
      "outputs": [
        {
          "output_type": "stream",
          "name": "stdout",
          "text": [
            "Score on train  0.9604984586951066\n",
            "Score on test  0.8615239778346009\n"
          ]
        }
      ]
    },
    {
      "cell_type": "code",
      "metadata": {
        "id": "sc8zBKZOz0nF",
        "colab": {
          "base_uri": "https://localhost:8080/"
        },
        "outputId": "9c50c425-957a-4156-bf1e-6de55be63f42"
      },
      "source": [
        "for i in Regressor.named_estimators:\n",
        "    print(f'Score on train  with model {i} {Regressor.named_estimators_[i].score(X_train, y_train)}')\n",
        "    print(f'Score on test  with model {i} {Regressor.named_estimators_[i].score(X_test, y_test)}')"
      ],
      "execution_count": null,
      "outputs": [
        {
          "output_type": "stream",
          "name": "stdout",
          "text": [
            "Score on train  with model LinearRegression 0.9324813510011758\n",
            "Score on test  with model LinearRegression 0.80895792181671\n",
            "Score on train  with model KNeighborsRegressor 0.7501837788800589\n",
            "Score on test  with model KNeighborsRegressor 0.676138613361793\n",
            "Score on train  with model DecisionTree 1.0\n",
            "Score on test  with model DecisionTree 0.7384847523894024\n"
          ]
        }
      ]
    },
    {
      "cell_type": "markdown",
      "metadata": {
        "id": "2s_FqILrz0nF"
      },
      "source": [
        "Лучше всех справилась Линейная регрессия.\n",
        "Деревья решений, как и предполагалось, переобучилась. Алгоритм ближайшего соседа тоже не плохо справилась с задачей. "
      ]
    },
    {
      "cell_type": "markdown",
      "metadata": {
        "id": "pzI5afrSCUsL"
      },
      "source": [
        "## Бустинг"
      ]
    },
    {
      "cell_type": "code",
      "source": [
        "from sklearn.ensemble import GradientBoostingRegressor\n",
        "\n",
        "boosting = GradientBoostingRegressor(n_estimators=100,\n",
        "                                     random_state=10)"
      ],
      "metadata": {
        "id": "WcEZUKKBTrnr"
      },
      "execution_count": null,
      "outputs": []
    },
    {
      "cell_type": "code",
      "metadata": {
        "colab": {
          "base_uri": "https://localhost:8080/",
          "height": 109
        },
        "outputId": "3de7fef3-99f4-4bc7-e2d8-19d450327fff",
        "id": "ao-tHtyLTrI8"
      },
      "source": [
        "%%time\n",
        "boosting.fit(X_train, y_train)"
      ],
      "execution_count": null,
      "outputs": [
        {
          "output_type": "stream",
          "name": "stdout",
          "text": [
            "CPU times: user 1.27 s, sys: 4.24 ms, total: 1.27 s\n",
            "Wall time: 2.2 s\n"
          ]
        },
        {
          "output_type": "execute_result",
          "data": {
            "text/plain": [
              "GradientBoostingRegressor(random_state=10)"
            ],
            "text/html": [
              "<style>#sk-container-id-5 {color: black;background-color: white;}#sk-container-id-5 pre{padding: 0;}#sk-container-id-5 div.sk-toggleable {background-color: white;}#sk-container-id-5 label.sk-toggleable__label {cursor: pointer;display: block;width: 100%;margin-bottom: 0;padding: 0.3em;box-sizing: border-box;text-align: center;}#sk-container-id-5 label.sk-toggleable__label-arrow:before {content: \"▸\";float: left;margin-right: 0.25em;color: #696969;}#sk-container-id-5 label.sk-toggleable__label-arrow:hover:before {color: black;}#sk-container-id-5 div.sk-estimator:hover label.sk-toggleable__label-arrow:before {color: black;}#sk-container-id-5 div.sk-toggleable__content {max-height: 0;max-width: 0;overflow: hidden;text-align: left;background-color: #f0f8ff;}#sk-container-id-5 div.sk-toggleable__content pre {margin: 0.2em;color: black;border-radius: 0.25em;background-color: #f0f8ff;}#sk-container-id-5 input.sk-toggleable__control:checked~div.sk-toggleable__content {max-height: 200px;max-width: 100%;overflow: auto;}#sk-container-id-5 input.sk-toggleable__control:checked~label.sk-toggleable__label-arrow:before {content: \"▾\";}#sk-container-id-5 div.sk-estimator input.sk-toggleable__control:checked~label.sk-toggleable__label {background-color: #d4ebff;}#sk-container-id-5 div.sk-label input.sk-toggleable__control:checked~label.sk-toggleable__label {background-color: #d4ebff;}#sk-container-id-5 input.sk-hidden--visually {border: 0;clip: rect(1px 1px 1px 1px);clip: rect(1px, 1px, 1px, 1px);height: 1px;margin: -1px;overflow: hidden;padding: 0;position: absolute;width: 1px;}#sk-container-id-5 div.sk-estimator {font-family: monospace;background-color: #f0f8ff;border: 1px dotted black;border-radius: 0.25em;box-sizing: border-box;margin-bottom: 0.5em;}#sk-container-id-5 div.sk-estimator:hover {background-color: #d4ebff;}#sk-container-id-5 div.sk-parallel-item::after {content: \"\";width: 100%;border-bottom: 1px solid gray;flex-grow: 1;}#sk-container-id-5 div.sk-label:hover label.sk-toggleable__label {background-color: #d4ebff;}#sk-container-id-5 div.sk-serial::before {content: \"\";position: absolute;border-left: 1px solid gray;box-sizing: border-box;top: 0;bottom: 0;left: 50%;z-index: 0;}#sk-container-id-5 div.sk-serial {display: flex;flex-direction: column;align-items: center;background-color: white;padding-right: 0.2em;padding-left: 0.2em;position: relative;}#sk-container-id-5 div.sk-item {position: relative;z-index: 1;}#sk-container-id-5 div.sk-parallel {display: flex;align-items: stretch;justify-content: center;background-color: white;position: relative;}#sk-container-id-5 div.sk-item::before, #sk-container-id-5 div.sk-parallel-item::before {content: \"\";position: absolute;border-left: 1px solid gray;box-sizing: border-box;top: 0;bottom: 0;left: 50%;z-index: -1;}#sk-container-id-5 div.sk-parallel-item {display: flex;flex-direction: column;z-index: 1;position: relative;background-color: white;}#sk-container-id-5 div.sk-parallel-item:first-child::after {align-self: flex-end;width: 50%;}#sk-container-id-5 div.sk-parallel-item:last-child::after {align-self: flex-start;width: 50%;}#sk-container-id-5 div.sk-parallel-item:only-child::after {width: 0;}#sk-container-id-5 div.sk-dashed-wrapped {border: 1px dashed gray;margin: 0 0.4em 0.5em 0.4em;box-sizing: border-box;padding-bottom: 0.4em;background-color: white;}#sk-container-id-5 div.sk-label label {font-family: monospace;font-weight: bold;display: inline-block;line-height: 1.2em;}#sk-container-id-5 div.sk-label-container {text-align: center;}#sk-container-id-5 div.sk-container {/* jupyter's `normalize.less` sets `[hidden] { display: none; }` but bootstrap.min.css set `[hidden] { display: none !important; }` so we also need the `!important` here to be able to override the default hidden behavior on the sphinx rendered scikit-learn.org. See: https://github.com/scikit-learn/scikit-learn/issues/21755 */display: inline-block !important;position: relative;}#sk-container-id-5 div.sk-text-repr-fallback {display: none;}</style><div id=\"sk-container-id-5\" class=\"sk-top-container\"><div class=\"sk-text-repr-fallback\"><pre>GradientBoostingRegressor(random_state=10)</pre><b>In a Jupyter environment, please rerun this cell to show the HTML representation or trust the notebook. <br />On GitHub, the HTML representation is unable to render, please try loading this page with nbviewer.org.</b></div><div class=\"sk-container\" hidden><div class=\"sk-item\"><div class=\"sk-estimator sk-toggleable\"><input class=\"sk-toggleable__control sk-hidden--visually\" id=\"sk-estimator-id-13\" type=\"checkbox\" checked><label for=\"sk-estimator-id-13\" class=\"sk-toggleable__label sk-toggleable__label-arrow\">GradientBoostingRegressor</label><div class=\"sk-toggleable__content\"><pre>GradientBoostingRegressor(random_state=10)</pre></div></div></div></div></div>"
            ]
          },
          "metadata": {},
          "execution_count": 38
        }
      ]
    },
    {
      "cell_type": "code",
      "metadata": {
        "colab": {
          "base_uri": "https://localhost:8080/"
        },
        "outputId": "9708f4cb-ca5e-4b11-88ce-f9f17930c992",
        "id": "-uD7ki0gTrI-"
      },
      "source": [
        "boosting.score(X_train, y_train)"
      ],
      "execution_count": null,
      "outputs": [
        {
          "output_type": "execute_result",
          "data": {
            "text/plain": [
              "0.9715180667981475"
            ]
          },
          "metadata": {},
          "execution_count": 39
        }
      ]
    },
    {
      "cell_type": "code",
      "metadata": {
        "colab": {
          "base_uri": "https://localhost:8080/"
        },
        "outputId": "7e9a7089-7543-4327-8a43-7d6ceb2ea46f",
        "id": "aCtGjHK2TrI-"
      },
      "source": [
        "boosting.score(X_test, y_test)"
      ],
      "execution_count": null,
      "outputs": [
        {
          "output_type": "execute_result",
          "data": {
            "text/plain": [
              "0.9097528185398203"
            ]
          },
          "metadata": {},
          "execution_count": 40
        }
      ]
    },
    {
      "cell_type": "markdown",
      "source": [
        "### lightgbm"
      ],
      "metadata": {
        "id": "AAluyC7FU6C-"
      }
    },
    {
      "cell_type": "code",
      "metadata": {
        "id": "Qp0iN4znAoFI"
      },
      "source": [
        "from lightgbm import LGBMRegressor"
      ],
      "execution_count": null,
      "outputs": []
    },
    {
      "cell_type": "code",
      "metadata": {
        "id": "UAyC_tjrAswB"
      },
      "source": [
        "lgbm = LGBMRegressor(random_state=10)"
      ],
      "execution_count": null,
      "outputs": []
    },
    {
      "cell_type": "code",
      "source": [
        "%%time\n",
        "lgbm.fit(X_train, y_train)"
      ],
      "metadata": {
        "colab": {
          "base_uri": "https://localhost:8080/",
          "height": 109
        },
        "id": "uqTG6up4jqLI",
        "outputId": "16288513-eab5-4821-c02b-c75f24cf24d3"
      },
      "execution_count": null,
      "outputs": [
        {
          "output_type": "stream",
          "name": "stdout",
          "text": [
            "CPU times: user 939 ms, sys: 16.6 ms, total: 955 ms\n",
            "Wall time: 921 ms\n"
          ]
        },
        {
          "output_type": "execute_result",
          "data": {
            "text/plain": [
              "LGBMRegressor(random_state=10)"
            ],
            "text/html": [
              "<style>#sk-container-id-6 {color: black;background-color: white;}#sk-container-id-6 pre{padding: 0;}#sk-container-id-6 div.sk-toggleable {background-color: white;}#sk-container-id-6 label.sk-toggleable__label {cursor: pointer;display: block;width: 100%;margin-bottom: 0;padding: 0.3em;box-sizing: border-box;text-align: center;}#sk-container-id-6 label.sk-toggleable__label-arrow:before {content: \"▸\";float: left;margin-right: 0.25em;color: #696969;}#sk-container-id-6 label.sk-toggleable__label-arrow:hover:before {color: black;}#sk-container-id-6 div.sk-estimator:hover label.sk-toggleable__label-arrow:before {color: black;}#sk-container-id-6 div.sk-toggleable__content {max-height: 0;max-width: 0;overflow: hidden;text-align: left;background-color: #f0f8ff;}#sk-container-id-6 div.sk-toggleable__content pre {margin: 0.2em;color: black;border-radius: 0.25em;background-color: #f0f8ff;}#sk-container-id-6 input.sk-toggleable__control:checked~div.sk-toggleable__content {max-height: 200px;max-width: 100%;overflow: auto;}#sk-container-id-6 input.sk-toggleable__control:checked~label.sk-toggleable__label-arrow:before {content: \"▾\";}#sk-container-id-6 div.sk-estimator input.sk-toggleable__control:checked~label.sk-toggleable__label {background-color: #d4ebff;}#sk-container-id-6 div.sk-label input.sk-toggleable__control:checked~label.sk-toggleable__label {background-color: #d4ebff;}#sk-container-id-6 input.sk-hidden--visually {border: 0;clip: rect(1px 1px 1px 1px);clip: rect(1px, 1px, 1px, 1px);height: 1px;margin: -1px;overflow: hidden;padding: 0;position: absolute;width: 1px;}#sk-container-id-6 div.sk-estimator {font-family: monospace;background-color: #f0f8ff;border: 1px dotted black;border-radius: 0.25em;box-sizing: border-box;margin-bottom: 0.5em;}#sk-container-id-6 div.sk-estimator:hover {background-color: #d4ebff;}#sk-container-id-6 div.sk-parallel-item::after {content: \"\";width: 100%;border-bottom: 1px solid gray;flex-grow: 1;}#sk-container-id-6 div.sk-label:hover label.sk-toggleable__label {background-color: #d4ebff;}#sk-container-id-6 div.sk-serial::before {content: \"\";position: absolute;border-left: 1px solid gray;box-sizing: border-box;top: 0;bottom: 0;left: 50%;z-index: 0;}#sk-container-id-6 div.sk-serial {display: flex;flex-direction: column;align-items: center;background-color: white;padding-right: 0.2em;padding-left: 0.2em;position: relative;}#sk-container-id-6 div.sk-item {position: relative;z-index: 1;}#sk-container-id-6 div.sk-parallel {display: flex;align-items: stretch;justify-content: center;background-color: white;position: relative;}#sk-container-id-6 div.sk-item::before, #sk-container-id-6 div.sk-parallel-item::before {content: \"\";position: absolute;border-left: 1px solid gray;box-sizing: border-box;top: 0;bottom: 0;left: 50%;z-index: -1;}#sk-container-id-6 div.sk-parallel-item {display: flex;flex-direction: column;z-index: 1;position: relative;background-color: white;}#sk-container-id-6 div.sk-parallel-item:first-child::after {align-self: flex-end;width: 50%;}#sk-container-id-6 div.sk-parallel-item:last-child::after {align-self: flex-start;width: 50%;}#sk-container-id-6 div.sk-parallel-item:only-child::after {width: 0;}#sk-container-id-6 div.sk-dashed-wrapped {border: 1px dashed gray;margin: 0 0.4em 0.5em 0.4em;box-sizing: border-box;padding-bottom: 0.4em;background-color: white;}#sk-container-id-6 div.sk-label label {font-family: monospace;font-weight: bold;display: inline-block;line-height: 1.2em;}#sk-container-id-6 div.sk-label-container {text-align: center;}#sk-container-id-6 div.sk-container {/* jupyter's `normalize.less` sets `[hidden] { display: none; }` but bootstrap.min.css set `[hidden] { display: none !important; }` so we also need the `!important` here to be able to override the default hidden behavior on the sphinx rendered scikit-learn.org. See: https://github.com/scikit-learn/scikit-learn/issues/21755 */display: inline-block !important;position: relative;}#sk-container-id-6 div.sk-text-repr-fallback {display: none;}</style><div id=\"sk-container-id-6\" class=\"sk-top-container\"><div class=\"sk-text-repr-fallback\"><pre>LGBMRegressor(random_state=10)</pre><b>In a Jupyter environment, please rerun this cell to show the HTML representation or trust the notebook. <br />On GitHub, the HTML representation is unable to render, please try loading this page with nbviewer.org.</b></div><div class=\"sk-container\" hidden><div class=\"sk-item\"><div class=\"sk-estimator sk-toggleable\"><input class=\"sk-toggleable__control sk-hidden--visually\" id=\"sk-estimator-id-14\" type=\"checkbox\" checked><label for=\"sk-estimator-id-14\" class=\"sk-toggleable__label sk-toggleable__label-arrow\">LGBMRegressor</label><div class=\"sk-toggleable__content\"><pre>LGBMRegressor(random_state=10)</pre></div></div></div></div></div>"
            ]
          },
          "metadata": {},
          "execution_count": 43
        }
      ]
    },
    {
      "cell_type": "code",
      "metadata": {
        "colab": {
          "base_uri": "https://localhost:8080/"
        },
        "outputId": "a0b11fea-9128-455d-95e3-d50dac098e0f",
        "id": "m9-8GphuUByT"
      },
      "source": [
        "lgbm.score(X_train, y_train)"
      ],
      "execution_count": null,
      "outputs": [
        {
          "output_type": "execute_result",
          "data": {
            "text/plain": [
              "0.9763722880428561"
            ]
          },
          "metadata": {},
          "execution_count": 44
        }
      ]
    },
    {
      "cell_type": "code",
      "metadata": {
        "colab": {
          "base_uri": "https://localhost:8080/"
        },
        "outputId": "ca963558-2276-4cec-dc14-0318d4aee837",
        "id": "aJho2XqMUByV"
      },
      "source": [
        "lgbm.score(X_test, y_test)"
      ],
      "execution_count": null,
      "outputs": [
        {
          "output_type": "execute_result",
          "data": {
            "text/plain": [
              "0.902080756223816"
            ]
          },
          "metadata": {},
          "execution_count": 45
        }
      ]
    },
    {
      "cell_type": "markdown",
      "source": [
        "### xgboost"
      ],
      "metadata": {
        "id": "AJgSl3LNU8Cj"
      }
    },
    {
      "cell_type": "code",
      "metadata": {
        "id": "qA34ZWXyUKfI"
      },
      "source": [
        "from xgboost import XGBRegressor"
      ],
      "execution_count": null,
      "outputs": []
    },
    {
      "cell_type": "code",
      "metadata": {
        "id": "RHMPNVFTUKfJ"
      },
      "source": [
        "xgb = XGBRegressor(random_state=10)"
      ],
      "execution_count": null,
      "outputs": []
    },
    {
      "cell_type": "code",
      "source": [
        "%%time\n",
        "xgb.fit(X_train, y_train)"
      ],
      "metadata": {
        "colab": {
          "base_uri": "https://localhost:8080/",
          "height": 283
        },
        "id": "j9ofD5Xqjuho",
        "outputId": "f13148b6-8268-44cc-9313-5227ee21156c"
      },
      "execution_count": null,
      "outputs": [
        {
          "output_type": "stream",
          "name": "stdout",
          "text": [
            "CPU times: user 6.44 s, sys: 61.2 ms, total: 6.5 s\n",
            "Wall time: 7.81 s\n"
          ]
        },
        {
          "output_type": "execute_result",
          "data": {
            "text/plain": [
              "XGBRegressor(base_score=None, booster=None, callbacks=None,\n",
              "             colsample_bylevel=None, colsample_bynode=None,\n",
              "             colsample_bytree=None, early_stopping_rounds=None,\n",
              "             enable_categorical=False, eval_metric=None, feature_types=None,\n",
              "             gamma=None, gpu_id=None, grow_policy=None, importance_type=None,\n",
              "             interaction_constraints=None, learning_rate=None, max_bin=None,\n",
              "             max_cat_threshold=None, max_cat_to_onehot=None,\n",
              "             max_delta_step=None, max_depth=None, max_leaves=None,\n",
              "             min_child_weight=None, missing=nan, monotone_constraints=None,\n",
              "             n_estimators=100, n_jobs=None, num_parallel_tree=None,\n",
              "             predictor=None, random_state=10, ...)"
            ],
            "text/html": [
              "<style>#sk-container-id-7 {color: black;background-color: white;}#sk-container-id-7 pre{padding: 0;}#sk-container-id-7 div.sk-toggleable {background-color: white;}#sk-container-id-7 label.sk-toggleable__label {cursor: pointer;display: block;width: 100%;margin-bottom: 0;padding: 0.3em;box-sizing: border-box;text-align: center;}#sk-container-id-7 label.sk-toggleable__label-arrow:before {content: \"▸\";float: left;margin-right: 0.25em;color: #696969;}#sk-container-id-7 label.sk-toggleable__label-arrow:hover:before {color: black;}#sk-container-id-7 div.sk-estimator:hover label.sk-toggleable__label-arrow:before {color: black;}#sk-container-id-7 div.sk-toggleable__content {max-height: 0;max-width: 0;overflow: hidden;text-align: left;background-color: #f0f8ff;}#sk-container-id-7 div.sk-toggleable__content pre {margin: 0.2em;color: black;border-radius: 0.25em;background-color: #f0f8ff;}#sk-container-id-7 input.sk-toggleable__control:checked~div.sk-toggleable__content {max-height: 200px;max-width: 100%;overflow: auto;}#sk-container-id-7 input.sk-toggleable__control:checked~label.sk-toggleable__label-arrow:before {content: \"▾\";}#sk-container-id-7 div.sk-estimator input.sk-toggleable__control:checked~label.sk-toggleable__label {background-color: #d4ebff;}#sk-container-id-7 div.sk-label input.sk-toggleable__control:checked~label.sk-toggleable__label {background-color: #d4ebff;}#sk-container-id-7 input.sk-hidden--visually {border: 0;clip: rect(1px 1px 1px 1px);clip: rect(1px, 1px, 1px, 1px);height: 1px;margin: -1px;overflow: hidden;padding: 0;position: absolute;width: 1px;}#sk-container-id-7 div.sk-estimator {font-family: monospace;background-color: #f0f8ff;border: 1px dotted black;border-radius: 0.25em;box-sizing: border-box;margin-bottom: 0.5em;}#sk-container-id-7 div.sk-estimator:hover {background-color: #d4ebff;}#sk-container-id-7 div.sk-parallel-item::after {content: \"\";width: 100%;border-bottom: 1px solid gray;flex-grow: 1;}#sk-container-id-7 div.sk-label:hover label.sk-toggleable__label {background-color: #d4ebff;}#sk-container-id-7 div.sk-serial::before {content: \"\";position: absolute;border-left: 1px solid gray;box-sizing: border-box;top: 0;bottom: 0;left: 50%;z-index: 0;}#sk-container-id-7 div.sk-serial {display: flex;flex-direction: column;align-items: center;background-color: white;padding-right: 0.2em;padding-left: 0.2em;position: relative;}#sk-container-id-7 div.sk-item {position: relative;z-index: 1;}#sk-container-id-7 div.sk-parallel {display: flex;align-items: stretch;justify-content: center;background-color: white;position: relative;}#sk-container-id-7 div.sk-item::before, #sk-container-id-7 div.sk-parallel-item::before {content: \"\";position: absolute;border-left: 1px solid gray;box-sizing: border-box;top: 0;bottom: 0;left: 50%;z-index: -1;}#sk-container-id-7 div.sk-parallel-item {display: flex;flex-direction: column;z-index: 1;position: relative;background-color: white;}#sk-container-id-7 div.sk-parallel-item:first-child::after {align-self: flex-end;width: 50%;}#sk-container-id-7 div.sk-parallel-item:last-child::after {align-self: flex-start;width: 50%;}#sk-container-id-7 div.sk-parallel-item:only-child::after {width: 0;}#sk-container-id-7 div.sk-dashed-wrapped {border: 1px dashed gray;margin: 0 0.4em 0.5em 0.4em;box-sizing: border-box;padding-bottom: 0.4em;background-color: white;}#sk-container-id-7 div.sk-label label {font-family: monospace;font-weight: bold;display: inline-block;line-height: 1.2em;}#sk-container-id-7 div.sk-label-container {text-align: center;}#sk-container-id-7 div.sk-container {/* jupyter's `normalize.less` sets `[hidden] { display: none; }` but bootstrap.min.css set `[hidden] { display: none !important; }` so we also need the `!important` here to be able to override the default hidden behavior on the sphinx rendered scikit-learn.org. See: https://github.com/scikit-learn/scikit-learn/issues/21755 */display: inline-block !important;position: relative;}#sk-container-id-7 div.sk-text-repr-fallback {display: none;}</style><div id=\"sk-container-id-7\" class=\"sk-top-container\"><div class=\"sk-text-repr-fallback\"><pre>XGBRegressor(base_score=None, booster=None, callbacks=None,\n",
              "             colsample_bylevel=None, colsample_bynode=None,\n",
              "             colsample_bytree=None, early_stopping_rounds=None,\n",
              "             enable_categorical=False, eval_metric=None, feature_types=None,\n",
              "             gamma=None, gpu_id=None, grow_policy=None, importance_type=None,\n",
              "             interaction_constraints=None, learning_rate=None, max_bin=None,\n",
              "             max_cat_threshold=None, max_cat_to_onehot=None,\n",
              "             max_delta_step=None, max_depth=None, max_leaves=None,\n",
              "             min_child_weight=None, missing=nan, monotone_constraints=None,\n",
              "             n_estimators=100, n_jobs=None, num_parallel_tree=None,\n",
              "             predictor=None, random_state=10, ...)</pre><b>In a Jupyter environment, please rerun this cell to show the HTML representation or trust the notebook. <br />On GitHub, the HTML representation is unable to render, please try loading this page with nbviewer.org.</b></div><div class=\"sk-container\" hidden><div class=\"sk-item\"><div class=\"sk-estimator sk-toggleable\"><input class=\"sk-toggleable__control sk-hidden--visually\" id=\"sk-estimator-id-15\" type=\"checkbox\" checked><label for=\"sk-estimator-id-15\" class=\"sk-toggleable__label sk-toggleable__label-arrow\">XGBRegressor</label><div class=\"sk-toggleable__content\"><pre>XGBRegressor(base_score=None, booster=None, callbacks=None,\n",
              "             colsample_bylevel=None, colsample_bynode=None,\n",
              "             colsample_bytree=None, early_stopping_rounds=None,\n",
              "             enable_categorical=False, eval_metric=None, feature_types=None,\n",
              "             gamma=None, gpu_id=None, grow_policy=None, importance_type=None,\n",
              "             interaction_constraints=None, learning_rate=None, max_bin=None,\n",
              "             max_cat_threshold=None, max_cat_to_onehot=None,\n",
              "             max_delta_step=None, max_depth=None, max_leaves=None,\n",
              "             min_child_weight=None, missing=nan, monotone_constraints=None,\n",
              "             n_estimators=100, n_jobs=None, num_parallel_tree=None,\n",
              "             predictor=None, random_state=10, ...)</pre></div></div></div></div></div>"
            ]
          },
          "metadata": {},
          "execution_count": 48
        }
      ]
    },
    {
      "cell_type": "code",
      "metadata": {
        "colab": {
          "base_uri": "https://localhost:8080/"
        },
        "outputId": "37b2931b-8403-48f5-c315-96bb2c897c39",
        "id": "k_l_OW_UUKfL"
      },
      "source": [
        "xgb.score(X_train, y_train)"
      ],
      "execution_count": null,
      "outputs": [
        {
          "output_type": "execute_result",
          "data": {
            "text/plain": [
              "0.9998573389871543"
            ]
          },
          "metadata": {},
          "execution_count": 49
        }
      ]
    },
    {
      "cell_type": "code",
      "metadata": {
        "colab": {
          "base_uri": "https://localhost:8080/"
        },
        "outputId": "47f47b71-51c0-4363-f7bf-972b8b7b5bdc",
        "id": "WQIO4HKwUKfM"
      },
      "source": [
        "xgb.score(X_test, y_test)"
      ],
      "execution_count": null,
      "outputs": [
        {
          "output_type": "execute_result",
          "data": {
            "text/plain": [
              "0.8966466673418413"
            ]
          },
          "metadata": {},
          "execution_count": 50
        }
      ]
    },
    {
      "cell_type": "markdown",
      "source": [
        "### catboost"
      ],
      "metadata": {
        "id": "MYeiJvMdU9g1"
      }
    },
    {
      "cell_type": "code",
      "source": [
        "!pip install catboost"
      ],
      "metadata": {
        "colab": {
          "base_uri": "https://localhost:8080/"
        },
        "id": "Sq51T8djUXUG",
        "outputId": "d31756f6-78ec-479c-db36-c70876c3543a"
      },
      "execution_count": null,
      "outputs": [
        {
          "output_type": "stream",
          "name": "stdout",
          "text": [
            "Looking in indexes: https://pypi.org/simple, https://us-python.pkg.dev/colab-wheels/public/simple/\n",
            "Collecting catboost\n",
            "  Downloading catboost-1.1.1-cp39-none-manylinux1_x86_64.whl (76.6 MB)\n",
            "\u001b[2K     \u001b[90m━━━━━━━━━━━━━━━━━━━━━━━━━━━━━━━━━━━━━━━━\u001b[0m \u001b[32m76.6/76.6 MB\u001b[0m \u001b[31m13.6 MB/s\u001b[0m eta \u001b[36m0:00:00\u001b[0m\n",
            "\u001b[?25hRequirement already satisfied: scipy in /usr/local/lib/python3.9/dist-packages (from catboost) (1.10.1)\n",
            "Requirement already satisfied: pandas>=0.24.0 in /usr/local/lib/python3.9/dist-packages (from catboost) (1.4.4)\n",
            "Requirement already satisfied: graphviz in /usr/local/lib/python3.9/dist-packages (from catboost) (0.20.1)\n",
            "Requirement already satisfied: six in /usr/local/lib/python3.9/dist-packages (from catboost) (1.16.0)\n",
            "Requirement already satisfied: matplotlib in /usr/local/lib/python3.9/dist-packages (from catboost) (3.7.1)\n",
            "Requirement already satisfied: plotly in /usr/local/lib/python3.9/dist-packages (from catboost) (5.13.1)\n",
            "Requirement already satisfied: numpy>=1.16.0 in /usr/local/lib/python3.9/dist-packages (from catboost) (1.22.4)\n",
            "Requirement already satisfied: pytz>=2020.1 in /usr/local/lib/python3.9/dist-packages (from pandas>=0.24.0->catboost) (2022.7.1)\n",
            "Requirement already satisfied: python-dateutil>=2.8.1 in /usr/local/lib/python3.9/dist-packages (from pandas>=0.24.0->catboost) (2.8.2)\n",
            "Requirement already satisfied: pyparsing>=2.3.1 in /usr/local/lib/python3.9/dist-packages (from matplotlib->catboost) (3.0.9)\n",
            "Requirement already satisfied: kiwisolver>=1.0.1 in /usr/local/lib/python3.9/dist-packages (from matplotlib->catboost) (1.4.4)\n",
            "Requirement already satisfied: fonttools>=4.22.0 in /usr/local/lib/python3.9/dist-packages (from matplotlib->catboost) (4.39.3)\n",
            "Requirement already satisfied: cycler>=0.10 in /usr/local/lib/python3.9/dist-packages (from matplotlib->catboost) (0.11.0)\n",
            "Requirement already satisfied: pillow>=6.2.0 in /usr/local/lib/python3.9/dist-packages (from matplotlib->catboost) (8.4.0)\n",
            "Requirement already satisfied: contourpy>=1.0.1 in /usr/local/lib/python3.9/dist-packages (from matplotlib->catboost) (1.0.7)\n",
            "Requirement already satisfied: importlib-resources>=3.2.0 in /usr/local/lib/python3.9/dist-packages (from matplotlib->catboost) (5.12.0)\n",
            "Requirement already satisfied: packaging>=20.0 in /usr/local/lib/python3.9/dist-packages (from matplotlib->catboost) (23.0)\n",
            "Requirement already satisfied: tenacity>=6.2.0 in /usr/local/lib/python3.9/dist-packages (from plotly->catboost) (8.2.2)\n",
            "Requirement already satisfied: zipp>=3.1.0 in /usr/local/lib/python3.9/dist-packages (from importlib-resources>=3.2.0->matplotlib->catboost) (3.15.0)\n",
            "Installing collected packages: catboost\n",
            "Successfully installed catboost-1.1.1\n"
          ]
        }
      ]
    },
    {
      "cell_type": "code",
      "metadata": {
        "id": "gP2jCd2EUTPK"
      },
      "source": [
        "from catboost import CatBoostRegressor "
      ],
      "execution_count": null,
      "outputs": []
    },
    {
      "cell_type": "code",
      "source": [
        "cat = CatBoostRegressor(random_state=10)"
      ],
      "metadata": {
        "id": "Vfwu6SJtjz96"
      },
      "execution_count": null,
      "outputs": []
    },
    {
      "cell_type": "code",
      "metadata": {
        "colab": {
          "base_uri": "https://localhost:8080/"
        },
        "outputId": "ffb2958a-6bf8-4a7d-b7aa-8cd37f71efb7",
        "id": "yhZUP8rwUTPN"
      },
      "source": [
        "%%time\n",
        "cat.fit(X_train, y_train)"
      ],
      "execution_count": null,
      "outputs": [
        {
          "output_type": "stream",
          "name": "stdout",
          "text": [
            "Learning rate set to 0.041084\n",
            "0:\tlearn: 75620.2545406\ttotal: 54.2ms\tremaining: 54.2s\n",
            "1:\tlearn: 73762.7085582\ttotal: 60.5ms\tremaining: 30.2s\n",
            "2:\tlearn: 71859.1942393\ttotal: 66.8ms\tremaining: 22.2s\n",
            "3:\tlearn: 70211.6187196\ttotal: 73ms\tremaining: 18.2s\n",
            "4:\tlearn: 68480.4206950\ttotal: 78.9ms\tremaining: 15.7s\n",
            "5:\tlearn: 67031.7798022\ttotal: 85ms\tremaining: 14.1s\n",
            "6:\tlearn: 65388.5038438\ttotal: 91.2ms\tremaining: 12.9s\n",
            "7:\tlearn: 63841.6062194\ttotal: 97.6ms\tremaining: 12.1s\n",
            "8:\tlearn: 62538.2937587\ttotal: 104ms\tremaining: 11.5s\n",
            "9:\tlearn: 61209.8419681\ttotal: 110ms\tremaining: 10.9s\n",
            "10:\tlearn: 59951.7194194\ttotal: 116ms\tremaining: 10.5s\n",
            "11:\tlearn: 58739.3590530\ttotal: 122ms\tremaining: 10.1s\n",
            "12:\tlearn: 57707.2769987\ttotal: 128ms\tremaining: 9.74s\n",
            "13:\tlearn: 56559.4366234\ttotal: 135ms\tremaining: 9.48s\n",
            "14:\tlearn: 55430.7958358\ttotal: 141ms\tremaining: 9.23s\n",
            "15:\tlearn: 54226.3890490\ttotal: 147ms\tremaining: 9.04s\n",
            "16:\tlearn: 53123.8574427\ttotal: 153ms\tremaining: 8.84s\n",
            "17:\tlearn: 52155.7289705\ttotal: 159ms\tremaining: 8.67s\n",
            "18:\tlearn: 51105.2925791\ttotal: 165ms\tremaining: 8.53s\n",
            "19:\tlearn: 50188.8928234\ttotal: 173ms\tremaining: 8.46s\n",
            "20:\tlearn: 49304.7532618\ttotal: 179ms\tremaining: 8.34s\n",
            "21:\tlearn: 48405.1737212\ttotal: 185ms\tremaining: 8.23s\n",
            "22:\tlearn: 47489.5607048\ttotal: 195ms\tremaining: 8.28s\n",
            "23:\tlearn: 46573.9428584\ttotal: 201ms\tremaining: 8.19s\n",
            "24:\tlearn: 45793.1827524\ttotal: 207ms\tremaining: 8.09s\n",
            "25:\tlearn: 44939.9599441\ttotal: 213ms\tremaining: 7.99s\n",
            "26:\tlearn: 44152.9798987\ttotal: 220ms\tremaining: 7.92s\n",
            "27:\tlearn: 43477.5888852\ttotal: 226ms\tremaining: 7.84s\n",
            "28:\tlearn: 42773.2407883\ttotal: 232ms\tremaining: 7.77s\n",
            "29:\tlearn: 42149.9106122\ttotal: 242ms\tremaining: 7.82s\n",
            "30:\tlearn: 41389.9061800\ttotal: 248ms\tremaining: 7.74s\n",
            "31:\tlearn: 40859.5323536\ttotal: 254ms\tremaining: 7.67s\n",
            "32:\tlearn: 40204.3357985\ttotal: 259ms\tremaining: 7.6s\n",
            "33:\tlearn: 39675.0378306\ttotal: 265ms\tremaining: 7.54s\n",
            "34:\tlearn: 39060.0719045\ttotal: 271ms\tremaining: 7.49s\n",
            "35:\tlearn: 38513.8459999\ttotal: 278ms\tremaining: 7.44s\n",
            "36:\tlearn: 38008.8416136\ttotal: 284ms\tremaining: 7.4s\n",
            "37:\tlearn: 37488.6238341\ttotal: 290ms\tremaining: 7.35s\n",
            "38:\tlearn: 37045.2868793\ttotal: 297ms\tremaining: 7.32s\n",
            "39:\tlearn: 36552.9271566\ttotal: 308ms\tremaining: 7.39s\n",
            "40:\tlearn: 36084.4673884\ttotal: 319ms\tremaining: 7.47s\n",
            "41:\tlearn: 35641.8706598\ttotal: 326ms\tremaining: 7.42s\n",
            "42:\tlearn: 35225.6603270\ttotal: 332ms\tremaining: 7.39s\n",
            "43:\tlearn: 34778.2090615\ttotal: 339ms\tremaining: 7.36s\n",
            "44:\tlearn: 34383.7815171\ttotal: 345ms\tremaining: 7.33s\n",
            "45:\tlearn: 33947.0939168\ttotal: 351ms\tremaining: 7.29s\n",
            "46:\tlearn: 33543.8393719\ttotal: 358ms\tremaining: 7.25s\n",
            "47:\tlearn: 33214.4670078\ttotal: 364ms\tremaining: 7.23s\n",
            "48:\tlearn: 32883.9679795\ttotal: 371ms\tremaining: 7.19s\n",
            "49:\tlearn: 32577.5439626\ttotal: 377ms\tremaining: 7.16s\n",
            "50:\tlearn: 32231.4103165\ttotal: 383ms\tremaining: 7.13s\n",
            "51:\tlearn: 31884.8397930\ttotal: 394ms\tremaining: 7.18s\n",
            "52:\tlearn: 31491.2016553\ttotal: 401ms\tremaining: 7.17s\n",
            "53:\tlearn: 31142.2627153\ttotal: 407ms\tremaining: 7.14s\n",
            "54:\tlearn: 30900.6090975\ttotal: 414ms\tremaining: 7.11s\n",
            "55:\tlearn: 30595.7980908\ttotal: 420ms\tremaining: 7.08s\n",
            "56:\tlearn: 30296.7997903\ttotal: 427ms\tremaining: 7.06s\n",
            "57:\tlearn: 30051.3306955\ttotal: 433ms\tremaining: 7.03s\n",
            "58:\tlearn: 29770.5234057\ttotal: 439ms\tremaining: 7s\n",
            "59:\tlearn: 29488.0999557\ttotal: 445ms\tremaining: 6.97s\n",
            "60:\tlearn: 29242.0459458\ttotal: 451ms\tremaining: 6.94s\n",
            "61:\tlearn: 28971.0929881\ttotal: 457ms\tremaining: 6.91s\n",
            "62:\tlearn: 28666.6677082\ttotal: 463ms\tremaining: 6.88s\n",
            "63:\tlearn: 28368.9875964\ttotal: 469ms\tremaining: 6.86s\n",
            "64:\tlearn: 28116.4710237\ttotal: 475ms\tremaining: 6.83s\n",
            "65:\tlearn: 27894.4705172\ttotal: 481ms\tremaining: 6.8s\n",
            "66:\tlearn: 27633.6409988\ttotal: 487ms\tremaining: 6.78s\n",
            "67:\tlearn: 27445.0614063\ttotal: 493ms\tremaining: 6.75s\n",
            "68:\tlearn: 27281.0357002\ttotal: 498ms\tremaining: 6.73s\n",
            "69:\tlearn: 27080.5028910\ttotal: 505ms\tremaining: 6.7s\n",
            "70:\tlearn: 26892.6453340\ttotal: 511ms\tremaining: 6.68s\n",
            "71:\tlearn: 26650.2281971\ttotal: 516ms\tremaining: 6.66s\n",
            "72:\tlearn: 26454.2104865\ttotal: 522ms\tremaining: 6.63s\n",
            "73:\tlearn: 26264.6363999\ttotal: 528ms\tremaining: 6.61s\n",
            "74:\tlearn: 26055.3065652\ttotal: 535ms\tremaining: 6.59s\n",
            "75:\tlearn: 25878.2020259\ttotal: 541ms\tremaining: 6.57s\n",
            "76:\tlearn: 25710.2605917\ttotal: 547ms\tremaining: 6.56s\n",
            "77:\tlearn: 25547.8241246\ttotal: 553ms\tremaining: 6.54s\n",
            "78:\tlearn: 25430.3240398\ttotal: 559ms\tremaining: 6.51s\n",
            "79:\tlearn: 25249.5133053\ttotal: 565ms\tremaining: 6.49s\n",
            "80:\tlearn: 25086.6205861\ttotal: 571ms\tremaining: 6.47s\n",
            "81:\tlearn: 24915.3313997\ttotal: 577ms\tremaining: 6.46s\n",
            "82:\tlearn: 24750.9467310\ttotal: 583ms\tremaining: 6.44s\n",
            "83:\tlearn: 24591.8062162\ttotal: 592ms\tremaining: 6.46s\n",
            "84:\tlearn: 24469.9659048\ttotal: 599ms\tremaining: 6.45s\n",
            "85:\tlearn: 24301.8864940\ttotal: 605ms\tremaining: 6.43s\n",
            "86:\tlearn: 24145.6259164\ttotal: 611ms\tremaining: 6.41s\n",
            "87:\tlearn: 24056.8836998\ttotal: 617ms\tremaining: 6.39s\n",
            "88:\tlearn: 23937.1128113\ttotal: 623ms\tremaining: 6.38s\n",
            "89:\tlearn: 23911.1680909\ttotal: 629ms\tremaining: 6.36s\n",
            "90:\tlearn: 23795.1041231\ttotal: 635ms\tremaining: 6.34s\n",
            "91:\tlearn: 23662.7972800\ttotal: 646ms\tremaining: 6.38s\n",
            "92:\tlearn: 23539.3585532\ttotal: 653ms\tremaining: 6.37s\n",
            "93:\tlearn: 23436.9580000\ttotal: 659ms\tremaining: 6.35s\n",
            "94:\tlearn: 23295.1313173\ttotal: 665ms\tremaining: 6.33s\n",
            "95:\tlearn: 23163.3665753\ttotal: 671ms\tremaining: 6.32s\n",
            "96:\tlearn: 23079.7306831\ttotal: 680ms\tremaining: 6.33s\n",
            "97:\tlearn: 22970.1911548\ttotal: 696ms\tremaining: 6.41s\n",
            "98:\tlearn: 22836.1823629\ttotal: 703ms\tremaining: 6.39s\n",
            "99:\tlearn: 22722.7040810\ttotal: 709ms\tremaining: 6.38s\n",
            "100:\tlearn: 22631.1111438\ttotal: 715ms\tremaining: 6.36s\n",
            "101:\tlearn: 22520.8863170\ttotal: 720ms\tremaining: 6.34s\n",
            "102:\tlearn: 22390.6085844\ttotal: 726ms\tremaining: 6.33s\n",
            "103:\tlearn: 22281.2384744\ttotal: 732ms\tremaining: 6.31s\n",
            "104:\tlearn: 22184.2165932\ttotal: 738ms\tremaining: 6.29s\n",
            "105:\tlearn: 22082.9951631\ttotal: 744ms\tremaining: 6.28s\n",
            "106:\tlearn: 21987.8178557\ttotal: 750ms\tremaining: 6.26s\n",
            "107:\tlearn: 21906.8450098\ttotal: 756ms\tremaining: 6.24s\n",
            "108:\tlearn: 21833.2372775\ttotal: 762ms\tremaining: 6.23s\n",
            "109:\tlearn: 21734.8408428\ttotal: 771ms\tremaining: 6.23s\n",
            "110:\tlearn: 21687.7759528\ttotal: 783ms\tremaining: 6.27s\n",
            "111:\tlearn: 21580.1795062\ttotal: 790ms\tremaining: 6.27s\n",
            "112:\tlearn: 21562.4651334\ttotal: 798ms\tremaining: 6.27s\n",
            "113:\tlearn: 21495.9344831\ttotal: 804ms\tremaining: 6.25s\n",
            "114:\tlearn: 21418.3595271\ttotal: 813ms\tremaining: 6.25s\n",
            "115:\tlearn: 21330.6438029\ttotal: 819ms\tremaining: 6.24s\n",
            "116:\tlearn: 21248.8848082\ttotal: 825ms\tremaining: 6.23s\n",
            "117:\tlearn: 21222.4126857\ttotal: 832ms\tremaining: 6.22s\n",
            "118:\tlearn: 21156.1730644\ttotal: 838ms\tremaining: 6.21s\n",
            "119:\tlearn: 21057.4382334\ttotal: 844ms\tremaining: 6.19s\n",
            "120:\tlearn: 20985.2888574\ttotal: 849ms\tremaining: 6.17s\n",
            "121:\tlearn: 20885.5256017\ttotal: 855ms\tremaining: 6.15s\n",
            "122:\tlearn: 20809.1792483\ttotal: 860ms\tremaining: 6.13s\n",
            "123:\tlearn: 20699.8551940\ttotal: 867ms\tremaining: 6.12s\n",
            "124:\tlearn: 20619.6104461\ttotal: 875ms\tremaining: 6.12s\n",
            "125:\tlearn: 20542.2313008\ttotal: 881ms\tremaining: 6.11s\n",
            "126:\tlearn: 20466.8811963\ttotal: 887ms\tremaining: 6.09s\n",
            "127:\tlearn: 20422.6354646\ttotal: 892ms\tremaining: 6.08s\n",
            "128:\tlearn: 20339.1058140\ttotal: 899ms\tremaining: 6.07s\n",
            "129:\tlearn: 20256.2921512\ttotal: 904ms\tremaining: 6.05s\n",
            "130:\tlearn: 20176.2014478\ttotal: 910ms\tremaining: 6.04s\n",
            "131:\tlearn: 20105.8727210\ttotal: 916ms\tremaining: 6.02s\n",
            "132:\tlearn: 20048.9377429\ttotal: 922ms\tremaining: 6.01s\n",
            "133:\tlearn: 19971.7100418\ttotal: 933ms\tremaining: 6.03s\n",
            "134:\tlearn: 19886.6882012\ttotal: 961ms\tremaining: 6.16s\n",
            "135:\tlearn: 19816.8855677\ttotal: 974ms\tremaining: 6.19s\n",
            "136:\tlearn: 19749.3074417\ttotal: 1s\tremaining: 6.3s\n",
            "137:\tlearn: 19634.7151298\ttotal: 1.01s\tremaining: 6.34s\n",
            "138:\tlearn: 19583.7983701\ttotal: 1.04s\tremaining: 6.42s\n",
            "139:\tlearn: 19507.6483491\ttotal: 1.05s\tremaining: 6.46s\n",
            "140:\tlearn: 19450.1533434\ttotal: 1.07s\tremaining: 6.51s\n",
            "141:\tlearn: 19379.0227126\ttotal: 1.08s\tremaining: 6.54s\n",
            "142:\tlearn: 19301.0646574\ttotal: 1.1s\tremaining: 6.57s\n",
            "143:\tlearn: 19235.9432213\ttotal: 1.11s\tremaining: 6.62s\n",
            "144:\tlearn: 19170.0212214\ttotal: 1.13s\tremaining: 6.67s\n",
            "145:\tlearn: 19088.7675474\ttotal: 1.15s\tremaining: 6.71s\n",
            "146:\tlearn: 19024.1060704\ttotal: 1.16s\tremaining: 6.74s\n",
            "147:\tlearn: 18960.6573084\ttotal: 1.18s\tremaining: 6.81s\n",
            "148:\tlearn: 18910.3867752\ttotal: 1.2s\tremaining: 6.88s\n",
            "149:\tlearn: 18874.8815017\ttotal: 1.22s\tremaining: 6.91s\n",
            "150:\tlearn: 18802.4878570\ttotal: 1.24s\tremaining: 6.99s\n",
            "151:\tlearn: 18743.0420445\ttotal: 1.26s\tremaining: 7.05s\n",
            "152:\tlearn: 18692.9544972\ttotal: 1.27s\tremaining: 7.05s\n",
            "153:\tlearn: 18635.5508900\ttotal: 1.28s\tremaining: 7.03s\n",
            "154:\tlearn: 18595.1665868\ttotal: 1.29s\tremaining: 7.01s\n",
            "155:\tlearn: 18560.3493085\ttotal: 1.29s\tremaining: 6.99s\n",
            "156:\tlearn: 18515.0354865\ttotal: 1.3s\tremaining: 6.97s\n",
            "157:\tlearn: 18480.8601899\ttotal: 1.3s\tremaining: 6.95s\n",
            "158:\tlearn: 18448.6427813\ttotal: 1.31s\tremaining: 6.93s\n",
            "159:\tlearn: 18419.2159753\ttotal: 1.31s\tremaining: 6.91s\n",
            "160:\tlearn: 18388.3349040\ttotal: 1.32s\tremaining: 6.89s\n",
            "161:\tlearn: 18327.3131915\ttotal: 1.33s\tremaining: 6.87s\n",
            "162:\tlearn: 18299.9423959\ttotal: 1.33s\tremaining: 6.85s\n",
            "163:\tlearn: 18281.7273883\ttotal: 1.34s\tremaining: 6.83s\n",
            "164:\tlearn: 18222.4817366\ttotal: 1.35s\tremaining: 6.86s\n",
            "165:\tlearn: 18209.3810108\ttotal: 1.36s\tremaining: 6.84s\n",
            "166:\tlearn: 18169.0730166\ttotal: 1.37s\tremaining: 6.82s\n",
            "167:\tlearn: 18111.2557028\ttotal: 1.37s\tremaining: 6.8s\n",
            "168:\tlearn: 18093.6722373\ttotal: 1.38s\tremaining: 6.79s\n",
            "169:\tlearn: 18043.3095815\ttotal: 1.39s\tremaining: 6.77s\n",
            "170:\tlearn: 17987.6511139\ttotal: 1.39s\tremaining: 6.75s\n",
            "171:\tlearn: 17937.0093449\ttotal: 1.4s\tremaining: 6.74s\n",
            "172:\tlearn: 17904.3402732\ttotal: 1.41s\tremaining: 6.72s\n",
            "173:\tlearn: 17872.0261713\ttotal: 1.41s\tremaining: 6.71s\n",
            "174:\tlearn: 17812.4358168\ttotal: 1.42s\tremaining: 6.68s\n",
            "175:\tlearn: 17761.4676656\ttotal: 1.42s\tremaining: 6.67s\n",
            "176:\tlearn: 17700.0242347\ttotal: 1.43s\tremaining: 6.65s\n",
            "177:\tlearn: 17642.8593160\ttotal: 1.44s\tremaining: 6.63s\n",
            "178:\tlearn: 17608.0980397\ttotal: 1.44s\tremaining: 6.61s\n",
            "179:\tlearn: 17560.3395954\ttotal: 1.45s\tremaining: 6.59s\n",
            "180:\tlearn: 17502.3477560\ttotal: 1.45s\tremaining: 6.58s\n",
            "181:\tlearn: 17439.1143227\ttotal: 1.46s\tremaining: 6.56s\n",
            "182:\tlearn: 17407.4953516\ttotal: 1.47s\tremaining: 6.54s\n",
            "183:\tlearn: 17394.6050337\ttotal: 1.48s\tremaining: 6.55s\n",
            "184:\tlearn: 17347.2640061\ttotal: 1.49s\tremaining: 6.57s\n",
            "185:\tlearn: 17313.3582802\ttotal: 1.5s\tremaining: 6.55s\n",
            "186:\tlearn: 17281.6151822\ttotal: 1.5s\tremaining: 6.54s\n",
            "187:\tlearn: 17227.8754129\ttotal: 1.51s\tremaining: 6.52s\n",
            "188:\tlearn: 17203.6590719\ttotal: 1.51s\tremaining: 6.5s\n",
            "189:\tlearn: 17150.1235427\ttotal: 1.52s\tremaining: 6.49s\n",
            "190:\tlearn: 17106.5764426\ttotal: 1.53s\tremaining: 6.47s\n",
            "191:\tlearn: 17066.2827634\ttotal: 1.53s\tremaining: 6.45s\n",
            "192:\tlearn: 17002.1859545\ttotal: 1.54s\tremaining: 6.44s\n",
            "193:\tlearn: 16953.9219469\ttotal: 1.54s\tremaining: 6.42s\n",
            "194:\tlearn: 16908.7527072\ttotal: 1.55s\tremaining: 6.41s\n",
            "195:\tlearn: 16855.9621394\ttotal: 1.56s\tremaining: 6.39s\n",
            "196:\tlearn: 16815.1106615\ttotal: 1.56s\tremaining: 6.37s\n",
            "197:\tlearn: 16760.8645565\ttotal: 1.57s\tremaining: 6.36s\n",
            "198:\tlearn: 16700.0772924\ttotal: 1.57s\tremaining: 6.34s\n",
            "199:\tlearn: 16655.1436602\ttotal: 1.58s\tremaining: 6.33s\n",
            "200:\tlearn: 16614.9301807\ttotal: 1.59s\tremaining: 6.31s\n",
            "201:\tlearn: 16566.4548693\ttotal: 1.6s\tremaining: 6.31s\n",
            "202:\tlearn: 16540.3034469\ttotal: 1.6s\tremaining: 6.29s\n",
            "203:\tlearn: 16498.3626701\ttotal: 1.61s\tremaining: 6.28s\n",
            "204:\tlearn: 16481.2154650\ttotal: 1.61s\tremaining: 6.26s\n",
            "205:\tlearn: 16451.6883822\ttotal: 1.62s\tremaining: 6.25s\n",
            "206:\tlearn: 16391.9787019\ttotal: 1.63s\tremaining: 6.23s\n",
            "207:\tlearn: 16353.7583771\ttotal: 1.63s\tremaining: 6.22s\n",
            "208:\tlearn: 16324.5985324\ttotal: 1.64s\tremaining: 6.2s\n",
            "209:\tlearn: 16276.7758438\ttotal: 1.64s\tremaining: 6.19s\n",
            "210:\tlearn: 16245.3508300\ttotal: 1.66s\tremaining: 6.2s\n",
            "211:\tlearn: 16192.5845186\ttotal: 1.67s\tremaining: 6.21s\n",
            "212:\tlearn: 16162.7634391\ttotal: 1.68s\tremaining: 6.2s\n",
            "213:\tlearn: 16123.0160934\ttotal: 1.68s\tremaining: 6.18s\n",
            "214:\tlearn: 16091.5927237\ttotal: 1.69s\tremaining: 6.16s\n",
            "215:\tlearn: 16046.7811981\ttotal: 1.69s\tremaining: 6.15s\n",
            "216:\tlearn: 16014.4801897\ttotal: 1.7s\tremaining: 6.13s\n",
            "217:\tlearn: 15978.8302618\ttotal: 1.71s\tremaining: 6.12s\n",
            "218:\tlearn: 15958.0217315\ttotal: 1.71s\tremaining: 6.1s\n",
            "219:\tlearn: 15916.0004766\ttotal: 1.72s\tremaining: 6.1s\n",
            "220:\tlearn: 15895.6812822\ttotal: 1.73s\tremaining: 6.09s\n",
            "221:\tlearn: 15888.3818566\ttotal: 1.73s\tremaining: 6.07s\n",
            "222:\tlearn: 15879.4989017\ttotal: 1.74s\tremaining: 6.05s\n",
            "223:\tlearn: 15834.1069750\ttotal: 1.74s\tremaining: 6.03s\n",
            "224:\tlearn: 15812.0604226\ttotal: 1.75s\tremaining: 6.02s\n",
            "225:\tlearn: 15797.6524280\ttotal: 1.75s\tremaining: 6s\n",
            "226:\tlearn: 15748.3501087\ttotal: 1.76s\tremaining: 6s\n",
            "227:\tlearn: 15695.8962480\ttotal: 1.77s\tremaining: 5.98s\n",
            "228:\tlearn: 15650.1530317\ttotal: 1.77s\tremaining: 5.97s\n",
            "229:\tlearn: 15616.2163779\ttotal: 1.78s\tremaining: 5.95s\n",
            "230:\tlearn: 15579.5513245\ttotal: 1.78s\tremaining: 5.94s\n",
            "231:\tlearn: 15565.0004328\ttotal: 1.79s\tremaining: 5.93s\n",
            "232:\tlearn: 15521.4663555\ttotal: 1.8s\tremaining: 5.92s\n",
            "233:\tlearn: 15497.5027171\ttotal: 1.8s\tremaining: 5.9s\n",
            "234:\tlearn: 15464.1116738\ttotal: 1.81s\tremaining: 5.89s\n",
            "235:\tlearn: 15442.5521141\ttotal: 1.81s\tremaining: 5.88s\n",
            "236:\tlearn: 15409.7290975\ttotal: 1.82s\tremaining: 5.86s\n",
            "237:\tlearn: 15377.8843230\ttotal: 1.83s\tremaining: 5.85s\n",
            "238:\tlearn: 15366.9786912\ttotal: 1.84s\tremaining: 5.86s\n",
            "239:\tlearn: 15326.9288420\ttotal: 1.85s\tremaining: 5.87s\n",
            "240:\tlearn: 15301.4500907\ttotal: 1.86s\tremaining: 5.86s\n",
            "241:\tlearn: 15270.9947496\ttotal: 1.87s\tremaining: 5.85s\n",
            "242:\tlearn: 15249.6667570\ttotal: 1.87s\tremaining: 5.83s\n",
            "243:\tlearn: 15201.0924849\ttotal: 1.88s\tremaining: 5.82s\n",
            "244:\tlearn: 15167.8916335\ttotal: 1.88s\tremaining: 5.81s\n",
            "245:\tlearn: 15145.2246191\ttotal: 1.89s\tremaining: 5.79s\n",
            "246:\tlearn: 15113.6965248\ttotal: 1.9s\tremaining: 5.78s\n",
            "247:\tlearn: 15097.5866587\ttotal: 1.9s\tremaining: 5.77s\n",
            "248:\tlearn: 15084.8193190\ttotal: 1.91s\tremaining: 5.76s\n",
            "249:\tlearn: 15059.3347157\ttotal: 1.91s\tremaining: 5.74s\n",
            "250:\tlearn: 15043.5737858\ttotal: 1.92s\tremaining: 5.73s\n",
            "251:\tlearn: 15011.0061368\ttotal: 1.93s\tremaining: 5.72s\n",
            "252:\tlearn: 14975.0218734\ttotal: 1.93s\tremaining: 5.7s\n",
            "253:\tlearn: 14922.7927572\ttotal: 1.94s\tremaining: 5.69s\n",
            "254:\tlearn: 14889.7278841\ttotal: 1.94s\tremaining: 5.68s\n",
            "255:\tlearn: 14855.1405873\ttotal: 1.95s\tremaining: 5.67s\n",
            "256:\tlearn: 14838.9989202\ttotal: 1.96s\tremaining: 5.65s\n",
            "257:\tlearn: 14803.6018663\ttotal: 1.96s\tremaining: 5.64s\n",
            "258:\tlearn: 14786.2931772\ttotal: 1.97s\tremaining: 5.63s\n",
            "259:\tlearn: 14751.0935541\ttotal: 1.97s\tremaining: 5.62s\n",
            "260:\tlearn: 14736.0800994\ttotal: 1.98s\tremaining: 5.62s\n",
            "261:\tlearn: 14707.4321549\ttotal: 1.99s\tremaining: 5.61s\n",
            "262:\tlearn: 14678.8422198\ttotal: 2s\tremaining: 5.59s\n",
            "263:\tlearn: 14640.9093504\ttotal: 2s\tremaining: 5.58s\n",
            "264:\tlearn: 14609.4821740\ttotal: 2.01s\tremaining: 5.57s\n",
            "265:\tlearn: 14559.2856470\ttotal: 2.02s\tremaining: 5.56s\n",
            "266:\tlearn: 14527.2110169\ttotal: 2.02s\tremaining: 5.55s\n",
            "267:\tlearn: 14497.0944062\ttotal: 2.03s\tremaining: 5.54s\n",
            "268:\tlearn: 14457.1446990\ttotal: 2.03s\tremaining: 5.53s\n",
            "269:\tlearn: 14410.8419238\ttotal: 2.04s\tremaining: 5.52s\n",
            "270:\tlearn: 14371.3265689\ttotal: 2.05s\tremaining: 5.5s\n",
            "271:\tlearn: 14341.3563755\ttotal: 2.05s\tremaining: 5.49s\n",
            "272:\tlearn: 14309.2526425\ttotal: 2.06s\tremaining: 5.48s\n",
            "273:\tlearn: 14280.2596908\ttotal: 2.06s\tremaining: 5.47s\n",
            "274:\tlearn: 14234.1084455\ttotal: 2.07s\tremaining: 5.46s\n",
            "275:\tlearn: 14224.2576960\ttotal: 2.08s\tremaining: 5.45s\n",
            "276:\tlearn: 14187.5423025\ttotal: 2.08s\tremaining: 5.44s\n",
            "277:\tlearn: 14141.3781931\ttotal: 2.09s\tremaining: 5.42s\n",
            "278:\tlearn: 14124.0822400\ttotal: 2.09s\tremaining: 5.41s\n",
            "279:\tlearn: 14095.5847808\ttotal: 2.1s\tremaining: 5.4s\n",
            "280:\tlearn: 14053.4914871\ttotal: 2.11s\tremaining: 5.39s\n",
            "281:\tlearn: 14020.5275528\ttotal: 2.11s\tremaining: 5.38s\n",
            "282:\tlearn: 13987.0766631\ttotal: 2.12s\tremaining: 5.37s\n",
            "283:\tlearn: 13944.9782063\ttotal: 2.12s\tremaining: 5.36s\n",
            "284:\tlearn: 13931.6222332\ttotal: 2.13s\tremaining: 5.34s\n",
            "285:\tlearn: 13906.2896327\ttotal: 2.13s\tremaining: 5.33s\n",
            "286:\tlearn: 13876.4020443\ttotal: 2.14s\tremaining: 5.32s\n",
            "287:\tlearn: 13836.2669845\ttotal: 2.15s\tremaining: 5.31s\n",
            "288:\tlearn: 13801.2089804\ttotal: 2.15s\tremaining: 5.3s\n",
            "289:\tlearn: 13771.0533292\ttotal: 2.16s\tremaining: 5.29s\n",
            "290:\tlearn: 13756.8728224\ttotal: 2.17s\tremaining: 5.28s\n",
            "291:\tlearn: 13720.8734167\ttotal: 2.17s\tremaining: 5.26s\n",
            "292:\tlearn: 13680.0801659\ttotal: 2.18s\tremaining: 5.26s\n",
            "293:\tlearn: 13645.8608502\ttotal: 2.19s\tremaining: 5.25s\n",
            "294:\tlearn: 13633.1280810\ttotal: 2.19s\tremaining: 5.24s\n",
            "295:\tlearn: 13613.9484982\ttotal: 2.2s\tremaining: 5.24s\n",
            "296:\tlearn: 13574.1966306\ttotal: 2.21s\tremaining: 5.23s\n",
            "297:\tlearn: 13540.0733289\ttotal: 2.21s\tremaining: 5.22s\n",
            "298:\tlearn: 13528.4952206\ttotal: 2.22s\tremaining: 5.21s\n",
            "299:\tlearn: 13502.7142571\ttotal: 2.23s\tremaining: 5.2s\n",
            "300:\tlearn: 13478.4454567\ttotal: 2.23s\tremaining: 5.18s\n",
            "301:\tlearn: 13441.7030987\ttotal: 2.24s\tremaining: 5.17s\n",
            "302:\tlearn: 13413.1995186\ttotal: 2.25s\tremaining: 5.16s\n",
            "303:\tlearn: 13379.7186145\ttotal: 2.25s\tremaining: 5.15s\n",
            "304:\tlearn: 13353.1076100\ttotal: 2.26s\tremaining: 5.14s\n",
            "305:\tlearn: 13326.0974781\ttotal: 2.26s\tremaining: 5.13s\n",
            "306:\tlearn: 13309.8452176\ttotal: 2.27s\tremaining: 5.12s\n",
            "307:\tlearn: 13270.5460167\ttotal: 2.27s\tremaining: 5.11s\n",
            "308:\tlearn: 13257.2153333\ttotal: 2.28s\tremaining: 5.1s\n",
            "309:\tlearn: 13230.5512486\ttotal: 2.29s\tremaining: 5.09s\n",
            "310:\tlearn: 13201.0587100\ttotal: 2.29s\tremaining: 5.08s\n",
            "311:\tlearn: 13170.9185067\ttotal: 2.3s\tremaining: 5.07s\n",
            "312:\tlearn: 13149.7368381\ttotal: 2.3s\tremaining: 5.06s\n",
            "313:\tlearn: 13127.6828529\ttotal: 2.31s\tremaining: 5.05s\n",
            "314:\tlearn: 13092.2815230\ttotal: 2.32s\tremaining: 5.04s\n",
            "315:\tlearn: 13076.6105812\ttotal: 2.32s\tremaining: 5.03s\n",
            "316:\tlearn: 13060.2837529\ttotal: 2.33s\tremaining: 5.02s\n",
            "317:\tlearn: 13042.1893966\ttotal: 2.33s\tremaining: 5.01s\n",
            "318:\tlearn: 13007.8824113\ttotal: 2.34s\tremaining: 5s\n",
            "319:\tlearn: 12982.0814062\ttotal: 2.35s\tremaining: 4.99s\n",
            "320:\tlearn: 12963.2776739\ttotal: 2.35s\tremaining: 4.98s\n",
            "321:\tlearn: 12937.8610048\ttotal: 2.36s\tremaining: 4.97s\n",
            "322:\tlearn: 12916.1098839\ttotal: 2.37s\tremaining: 4.96s\n",
            "323:\tlearn: 12901.6243905\ttotal: 2.37s\tremaining: 4.95s\n",
            "324:\tlearn: 12883.0972213\ttotal: 2.38s\tremaining: 4.94s\n",
            "325:\tlearn: 12856.8282975\ttotal: 2.39s\tremaining: 4.94s\n",
            "326:\tlearn: 12830.1733314\ttotal: 2.39s\tremaining: 4.93s\n",
            "327:\tlearn: 12802.8145662\ttotal: 2.4s\tremaining: 4.92s\n",
            "328:\tlearn: 12781.7047030\ttotal: 2.41s\tremaining: 4.91s\n",
            "329:\tlearn: 12765.9269078\ttotal: 2.41s\tremaining: 4.9s\n",
            "330:\tlearn: 12733.6784257\ttotal: 2.42s\tremaining: 4.89s\n",
            "331:\tlearn: 12720.6516812\ttotal: 2.42s\tremaining: 4.88s\n",
            "332:\tlearn: 12688.6671396\ttotal: 2.43s\tremaining: 4.87s\n",
            "333:\tlearn: 12663.3126349\ttotal: 2.44s\tremaining: 4.86s\n",
            "334:\tlearn: 12649.6431949\ttotal: 2.44s\tremaining: 4.85s\n",
            "335:\tlearn: 12624.0034032\ttotal: 2.45s\tremaining: 4.84s\n",
            "336:\tlearn: 12600.1130604\ttotal: 2.45s\tremaining: 4.83s\n",
            "337:\tlearn: 12589.8640909\ttotal: 2.46s\tremaining: 4.82s\n",
            "338:\tlearn: 12576.8308537\ttotal: 2.47s\tremaining: 4.81s\n",
            "339:\tlearn: 12548.7683338\ttotal: 2.47s\tremaining: 4.8s\n",
            "340:\tlearn: 12540.9702145\ttotal: 2.48s\tremaining: 4.79s\n",
            "341:\tlearn: 12518.0197200\ttotal: 2.48s\tremaining: 4.78s\n",
            "342:\tlearn: 12491.9167210\ttotal: 2.49s\tremaining: 4.77s\n",
            "343:\tlearn: 12481.0340221\ttotal: 2.51s\tremaining: 4.79s\n",
            "344:\tlearn: 12449.5375738\ttotal: 2.53s\tremaining: 4.8s\n",
            "345:\tlearn: 12421.3427949\ttotal: 2.54s\tremaining: 4.8s\n",
            "346:\tlearn: 12393.4603059\ttotal: 2.55s\tremaining: 4.8s\n",
            "347:\tlearn: 12366.3767689\ttotal: 2.56s\tremaining: 4.8s\n",
            "348:\tlearn: 12342.9166677\ttotal: 2.57s\tremaining: 4.79s\n",
            "349:\tlearn: 12317.5807654\ttotal: 2.57s\tremaining: 4.78s\n",
            "350:\tlearn: 12307.0639295\ttotal: 2.58s\tremaining: 4.78s\n",
            "351:\tlearn: 12291.4459351\ttotal: 2.59s\tremaining: 4.77s\n",
            "352:\tlearn: 12272.1849060\ttotal: 2.6s\tremaining: 4.76s\n",
            "353:\tlearn: 12245.1312164\ttotal: 2.61s\tremaining: 4.76s\n",
            "354:\tlearn: 12219.3702679\ttotal: 2.63s\tremaining: 4.77s\n",
            "355:\tlearn: 12201.1049036\ttotal: 2.64s\tremaining: 4.77s\n",
            "356:\tlearn: 12176.8875367\ttotal: 2.65s\tremaining: 4.77s\n",
            "357:\tlearn: 12157.7433978\ttotal: 2.66s\tremaining: 4.76s\n",
            "358:\tlearn: 12139.6746193\ttotal: 2.67s\tremaining: 4.77s\n",
            "359:\tlearn: 12118.1131613\ttotal: 2.69s\tremaining: 4.79s\n",
            "360:\tlearn: 12090.2951122\ttotal: 2.71s\tremaining: 4.8s\n",
            "361:\tlearn: 12070.0284198\ttotal: 2.73s\tremaining: 4.8s\n",
            "362:\tlearn: 12042.5994120\ttotal: 2.75s\tremaining: 4.82s\n",
            "363:\tlearn: 12016.0971485\ttotal: 2.77s\tremaining: 4.84s\n",
            "364:\tlearn: 11983.9262625\ttotal: 2.79s\tremaining: 4.85s\n",
            "365:\tlearn: 11955.7391591\ttotal: 2.81s\tremaining: 4.86s\n",
            "366:\tlearn: 11934.4910758\ttotal: 2.81s\tremaining: 4.86s\n",
            "367:\tlearn: 11898.4248042\ttotal: 2.82s\tremaining: 4.85s\n",
            "368:\tlearn: 11880.8066750\ttotal: 2.83s\tremaining: 4.84s\n",
            "369:\tlearn: 11858.7373291\ttotal: 2.85s\tremaining: 4.84s\n",
            "370:\tlearn: 11834.9214161\ttotal: 2.86s\tremaining: 4.86s\n",
            "371:\tlearn: 11814.6764675\ttotal: 2.88s\tremaining: 4.86s\n",
            "372:\tlearn: 11794.5089432\ttotal: 2.88s\tremaining: 4.85s\n",
            "373:\tlearn: 11776.2044802\ttotal: 2.89s\tremaining: 4.84s\n",
            "374:\tlearn: 11769.5134310\ttotal: 2.9s\tremaining: 4.83s\n",
            "375:\tlearn: 11746.7530787\ttotal: 2.9s\tremaining: 4.82s\n",
            "376:\tlearn: 11738.7288858\ttotal: 2.91s\tremaining: 4.81s\n",
            "377:\tlearn: 11708.7847672\ttotal: 2.92s\tremaining: 4.8s\n",
            "378:\tlearn: 11682.7531867\ttotal: 2.93s\tremaining: 4.8s\n",
            "379:\tlearn: 11671.0501092\ttotal: 2.94s\tremaining: 4.79s\n",
            "380:\tlearn: 11654.2125732\ttotal: 2.94s\tremaining: 4.79s\n",
            "381:\tlearn: 11630.0399557\ttotal: 2.95s\tremaining: 4.77s\n",
            "382:\tlearn: 11617.3564467\ttotal: 2.96s\tremaining: 4.76s\n",
            "383:\tlearn: 11592.3476917\ttotal: 2.97s\tremaining: 4.76s\n",
            "384:\tlearn: 11571.4286522\ttotal: 2.97s\tremaining: 4.75s\n",
            "385:\tlearn: 11552.4725405\ttotal: 2.98s\tremaining: 4.74s\n",
            "386:\tlearn: 11533.2315413\ttotal: 2.98s\tremaining: 4.73s\n",
            "387:\tlearn: 11512.5863685\ttotal: 2.99s\tremaining: 4.72s\n",
            "388:\tlearn: 11506.8058933\ttotal: 3s\tremaining: 4.71s\n",
            "389:\tlearn: 11480.7952715\ttotal: 3s\tremaining: 4.7s\n",
            "390:\tlearn: 11464.4904819\ttotal: 3.01s\tremaining: 4.69s\n",
            "391:\tlearn: 11453.9761733\ttotal: 3.02s\tremaining: 4.68s\n",
            "392:\tlearn: 11432.2848487\ttotal: 3.02s\tremaining: 4.67s\n",
            "393:\tlearn: 11411.9413193\ttotal: 3.03s\tremaining: 4.66s\n",
            "394:\tlearn: 11389.5795944\ttotal: 3.03s\tremaining: 4.65s\n",
            "395:\tlearn: 11366.5729119\ttotal: 3.04s\tremaining: 4.64s\n",
            "396:\tlearn: 11352.2871846\ttotal: 3.05s\tremaining: 4.64s\n",
            "397:\tlearn: 11336.4610055\ttotal: 3.06s\tremaining: 4.63s\n",
            "398:\tlearn: 11318.7408195\ttotal: 3.07s\tremaining: 4.62s\n",
            "399:\tlearn: 11299.5180699\ttotal: 3.07s\tremaining: 4.61s\n",
            "400:\tlearn: 11270.7936703\ttotal: 3.08s\tremaining: 4.6s\n",
            "401:\tlearn: 11247.1546170\ttotal: 3.08s\tremaining: 4.59s\n",
            "402:\tlearn: 11235.0332869\ttotal: 3.09s\tremaining: 4.58s\n",
            "403:\tlearn: 11204.3258322\ttotal: 3.1s\tremaining: 4.57s\n",
            "404:\tlearn: 11187.9642012\ttotal: 3.1s\tremaining: 4.56s\n",
            "405:\tlearn: 11168.7382746\ttotal: 3.11s\tremaining: 4.55s\n",
            "406:\tlearn: 11144.9930449\ttotal: 3.12s\tremaining: 4.54s\n",
            "407:\tlearn: 11129.8821069\ttotal: 3.12s\tremaining: 4.53s\n",
            "408:\tlearn: 11109.3441542\ttotal: 3.13s\tremaining: 4.52s\n",
            "409:\tlearn: 11087.1796394\ttotal: 3.13s\tremaining: 4.51s\n",
            "410:\tlearn: 11064.0610897\ttotal: 3.14s\tremaining: 4.5s\n",
            "411:\tlearn: 11055.4805861\ttotal: 3.15s\tremaining: 4.49s\n",
            "412:\tlearn: 11033.0400115\ttotal: 3.15s\tremaining: 4.48s\n",
            "413:\tlearn: 11011.7529851\ttotal: 3.17s\tremaining: 4.48s\n",
            "414:\tlearn: 11004.3608523\ttotal: 3.17s\tremaining: 4.48s\n",
            "415:\tlearn: 10997.6196871\ttotal: 3.18s\tremaining: 4.46s\n",
            "416:\tlearn: 10976.1014989\ttotal: 3.19s\tremaining: 4.46s\n",
            "417:\tlearn: 10952.5455085\ttotal: 3.2s\tremaining: 4.46s\n",
            "418:\tlearn: 10936.4217706\ttotal: 3.21s\tremaining: 4.45s\n",
            "419:\tlearn: 10932.3685789\ttotal: 3.21s\tremaining: 4.44s\n",
            "420:\tlearn: 10918.9155497\ttotal: 3.22s\tremaining: 4.43s\n",
            "421:\tlearn: 10901.9449276\ttotal: 3.23s\tremaining: 4.42s\n",
            "422:\tlearn: 10881.4181150\ttotal: 3.23s\tremaining: 4.41s\n",
            "423:\tlearn: 10859.6416011\ttotal: 3.24s\tremaining: 4.4s\n",
            "424:\tlearn: 10841.5623881\ttotal: 3.25s\tremaining: 4.39s\n",
            "425:\tlearn: 10835.6914347\ttotal: 3.25s\tremaining: 4.38s\n",
            "426:\tlearn: 10828.2540324\ttotal: 3.26s\tremaining: 4.37s\n",
            "427:\tlearn: 10811.1491103\ttotal: 3.26s\tremaining: 4.36s\n",
            "428:\tlearn: 10786.1664233\ttotal: 3.27s\tremaining: 4.35s\n",
            "429:\tlearn: 10768.6575375\ttotal: 3.27s\tremaining: 4.34s\n",
            "430:\tlearn: 10742.5809873\ttotal: 3.28s\tremaining: 4.33s\n",
            "431:\tlearn: 10717.3110719\ttotal: 3.29s\tremaining: 4.32s\n",
            "432:\tlearn: 10696.1505472\ttotal: 3.29s\tremaining: 4.31s\n",
            "433:\tlearn: 10681.2949044\ttotal: 3.3s\tremaining: 4.3s\n",
            "434:\tlearn: 10661.7204769\ttotal: 3.31s\tremaining: 4.29s\n",
            "435:\tlearn: 10654.8876339\ttotal: 3.31s\tremaining: 4.28s\n",
            "436:\tlearn: 10635.1970461\ttotal: 3.32s\tremaining: 4.27s\n",
            "437:\tlearn: 10615.8626992\ttotal: 3.33s\tremaining: 4.27s\n",
            "438:\tlearn: 10609.1548551\ttotal: 3.33s\tremaining: 4.26s\n",
            "439:\tlearn: 10598.5075378\ttotal: 3.34s\tremaining: 4.25s\n",
            "440:\tlearn: 10581.3107411\ttotal: 3.35s\tremaining: 4.25s\n",
            "441:\tlearn: 10557.3196048\ttotal: 3.35s\tremaining: 4.24s\n",
            "442:\tlearn: 10536.9813378\ttotal: 3.36s\tremaining: 4.23s\n",
            "443:\tlearn: 10516.8588351\ttotal: 3.37s\tremaining: 4.22s\n",
            "444:\tlearn: 10502.7103283\ttotal: 3.38s\tremaining: 4.21s\n",
            "445:\tlearn: 10481.2481978\ttotal: 3.38s\tremaining: 4.2s\n",
            "446:\tlearn: 10466.0063634\ttotal: 3.39s\tremaining: 4.19s\n",
            "447:\tlearn: 10452.8396360\ttotal: 3.39s\tremaining: 4.18s\n",
            "448:\tlearn: 10429.0022896\ttotal: 3.4s\tremaining: 4.17s\n",
            "449:\tlearn: 10413.0960336\ttotal: 3.41s\tremaining: 4.16s\n",
            "450:\tlearn: 10399.2426363\ttotal: 3.41s\tremaining: 4.15s\n",
            "451:\tlearn: 10382.7386438\ttotal: 3.42s\tremaining: 4.14s\n",
            "452:\tlearn: 10362.1598814\ttotal: 3.42s\tremaining: 4.13s\n",
            "453:\tlearn: 10334.2345753\ttotal: 3.43s\tremaining: 4.13s\n",
            "454:\tlearn: 10311.2521290\ttotal: 3.44s\tremaining: 4.12s\n",
            "455:\tlearn: 10305.7637277\ttotal: 3.44s\tremaining: 4.11s\n",
            "456:\tlearn: 10284.8934143\ttotal: 3.45s\tremaining: 4.1s\n",
            "457:\tlearn: 10269.5476253\ttotal: 3.46s\tremaining: 4.09s\n",
            "458:\tlearn: 10261.6384233\ttotal: 3.46s\tremaining: 4.08s\n",
            "459:\tlearn: 10246.3485338\ttotal: 3.47s\tremaining: 4.07s\n",
            "460:\tlearn: 10232.9353870\ttotal: 3.47s\tremaining: 4.06s\n",
            "461:\tlearn: 10218.2509904\ttotal: 3.48s\tremaining: 4.05s\n",
            "462:\tlearn: 10197.7705743\ttotal: 3.48s\tremaining: 4.04s\n",
            "463:\tlearn: 10179.6514256\ttotal: 3.49s\tremaining: 4.03s\n",
            "464:\tlearn: 10167.6879025\ttotal: 3.5s\tremaining: 4.02s\n",
            "465:\tlearn: 10147.3395750\ttotal: 3.5s\tremaining: 4.01s\n",
            "466:\tlearn: 10129.0117801\ttotal: 3.51s\tremaining: 4.01s\n",
            "467:\tlearn: 10108.9739328\ttotal: 3.52s\tremaining: 4s\n",
            "468:\tlearn: 10093.9338257\ttotal: 3.52s\tremaining: 3.99s\n",
            "469:\tlearn: 10084.3234962\ttotal: 3.53s\tremaining: 3.98s\n",
            "470:\tlearn: 10070.8394982\ttotal: 3.54s\tremaining: 3.97s\n",
            "471:\tlearn: 10057.5231957\ttotal: 3.54s\tremaining: 3.96s\n",
            "472:\tlearn: 10039.2385422\ttotal: 3.55s\tremaining: 3.95s\n",
            "473:\tlearn: 10021.0663131\ttotal: 3.55s\tremaining: 3.94s\n",
            "474:\tlearn: 10017.7290141\ttotal: 3.56s\tremaining: 3.94s\n",
            "475:\tlearn: 9996.4255640\ttotal: 3.57s\tremaining: 3.93s\n",
            "476:\tlearn: 9973.9342676\ttotal: 3.58s\tremaining: 3.92s\n",
            "477:\tlearn: 9949.8779116\ttotal: 3.58s\tremaining: 3.91s\n",
            "478:\tlearn: 9944.7118340\ttotal: 3.59s\tremaining: 3.9s\n",
            "479:\tlearn: 9937.6665498\ttotal: 3.6s\tremaining: 3.9s\n",
            "480:\tlearn: 9935.1698075\ttotal: 3.61s\tremaining: 3.89s\n",
            "481:\tlearn: 9921.6206917\ttotal: 3.62s\tremaining: 3.89s\n",
            "482:\tlearn: 9906.1744590\ttotal: 3.63s\tremaining: 3.88s\n",
            "483:\tlearn: 9882.7256858\ttotal: 3.63s\tremaining: 3.87s\n",
            "484:\tlearn: 9855.9484913\ttotal: 3.64s\tremaining: 3.86s\n",
            "485:\tlearn: 9838.3323850\ttotal: 3.64s\tremaining: 3.85s\n",
            "486:\tlearn: 9817.0892209\ttotal: 3.65s\tremaining: 3.84s\n",
            "487:\tlearn: 9795.3182884\ttotal: 3.66s\tremaining: 3.83s\n",
            "488:\tlearn: 9775.4148105\ttotal: 3.66s\tremaining: 3.83s\n",
            "489:\tlearn: 9757.6441022\ttotal: 3.67s\tremaining: 3.82s\n",
            "490:\tlearn: 9735.8719410\ttotal: 3.68s\tremaining: 3.81s\n",
            "491:\tlearn: 9719.4996378\ttotal: 3.68s\tremaining: 3.8s\n",
            "492:\tlearn: 9706.3182652\ttotal: 3.69s\tremaining: 3.79s\n",
            "493:\tlearn: 9694.7876953\ttotal: 3.7s\tremaining: 3.79s\n",
            "494:\tlearn: 9688.3511047\ttotal: 3.7s\tremaining: 3.78s\n",
            "495:\tlearn: 9675.7220752\ttotal: 3.71s\tremaining: 3.77s\n",
            "496:\tlearn: 9660.2435944\ttotal: 3.71s\tremaining: 3.76s\n",
            "497:\tlearn: 9637.1241828\ttotal: 3.72s\tremaining: 3.75s\n",
            "498:\tlearn: 9627.6600102\ttotal: 3.73s\tremaining: 3.74s\n",
            "499:\tlearn: 9607.9391746\ttotal: 3.73s\tremaining: 3.73s\n",
            "500:\tlearn: 9605.5736337\ttotal: 3.74s\tremaining: 3.73s\n",
            "501:\tlearn: 9594.2485332\ttotal: 3.75s\tremaining: 3.72s\n",
            "502:\tlearn: 9580.4905475\ttotal: 3.75s\tremaining: 3.71s\n",
            "503:\tlearn: 9562.8164124\ttotal: 3.76s\tremaining: 3.7s\n",
            "504:\tlearn: 9550.5298341\ttotal: 3.77s\tremaining: 3.69s\n",
            "505:\tlearn: 9548.5528975\ttotal: 3.77s\tremaining: 3.69s\n",
            "506:\tlearn: 9532.2803591\ttotal: 3.78s\tremaining: 3.68s\n",
            "507:\tlearn: 9518.8449959\ttotal: 3.79s\tremaining: 3.67s\n",
            "508:\tlearn: 9504.6351413\ttotal: 3.79s\tremaining: 3.66s\n",
            "509:\tlearn: 9488.2364682\ttotal: 3.8s\tremaining: 3.65s\n",
            "510:\tlearn: 9471.6468646\ttotal: 3.8s\tremaining: 3.64s\n",
            "511:\tlearn: 9469.1548232\ttotal: 3.81s\tremaining: 3.63s\n",
            "512:\tlearn: 9455.8141752\ttotal: 3.82s\tremaining: 3.62s\n",
            "513:\tlearn: 9431.3206914\ttotal: 3.82s\tremaining: 3.62s\n",
            "514:\tlearn: 9420.8116620\ttotal: 3.83s\tremaining: 3.61s\n",
            "515:\tlearn: 9402.5393764\ttotal: 3.84s\tremaining: 3.6s\n",
            "516:\tlearn: 9388.7307498\ttotal: 3.84s\tremaining: 3.59s\n",
            "517:\tlearn: 9370.4305908\ttotal: 3.85s\tremaining: 3.58s\n",
            "518:\tlearn: 9366.3614441\ttotal: 3.85s\tremaining: 3.57s\n",
            "519:\tlearn: 9357.1841703\ttotal: 3.86s\tremaining: 3.56s\n",
            "520:\tlearn: 9339.3729333\ttotal: 3.87s\tremaining: 3.55s\n",
            "521:\tlearn: 9326.2698893\ttotal: 3.87s\tremaining: 3.54s\n",
            "522:\tlearn: 9307.8347283\ttotal: 3.88s\tremaining: 3.54s\n",
            "523:\tlearn: 9294.3444997\ttotal: 3.88s\tremaining: 3.53s\n",
            "524:\tlearn: 9293.0134611\ttotal: 3.89s\tremaining: 3.52s\n",
            "525:\tlearn: 9275.4872404\ttotal: 3.91s\tremaining: 3.52s\n",
            "526:\tlearn: 9260.3550670\ttotal: 3.92s\tremaining: 3.52s\n",
            "527:\tlearn: 9240.6226643\ttotal: 3.93s\tremaining: 3.51s\n",
            "528:\tlearn: 9226.3686722\ttotal: 3.94s\tremaining: 3.5s\n",
            "529:\tlearn: 9209.7703073\ttotal: 3.94s\tremaining: 3.5s\n",
            "530:\tlearn: 9186.6896763\ttotal: 3.95s\tremaining: 3.49s\n",
            "531:\tlearn: 9177.0239117\ttotal: 3.96s\tremaining: 3.48s\n",
            "532:\tlearn: 9159.5280811\ttotal: 3.98s\tremaining: 3.49s\n",
            "533:\tlearn: 9141.5374229\ttotal: 3.99s\tremaining: 3.48s\n",
            "534:\tlearn: 9126.4303237\ttotal: 4s\tremaining: 3.48s\n",
            "535:\tlearn: 9104.1224746\ttotal: 4s\tremaining: 3.47s\n",
            "536:\tlearn: 9095.4034269\ttotal: 4.01s\tremaining: 3.46s\n",
            "537:\tlearn: 9090.3426005\ttotal: 4.02s\tremaining: 3.45s\n",
            "538:\tlearn: 9081.5793623\ttotal: 4.02s\tremaining: 3.44s\n",
            "539:\tlearn: 9079.1451776\ttotal: 4.03s\tremaining: 3.43s\n",
            "540:\tlearn: 9065.2699237\ttotal: 4.03s\tremaining: 3.42s\n",
            "541:\tlearn: 9062.6307935\ttotal: 4.04s\tremaining: 3.41s\n",
            "542:\tlearn: 9047.9246088\ttotal: 4.04s\tremaining: 3.4s\n",
            "543:\tlearn: 9032.9983285\ttotal: 4.05s\tremaining: 3.4s\n",
            "544:\tlearn: 9020.6996174\ttotal: 4.06s\tremaining: 3.39s\n",
            "545:\tlearn: 9008.5560599\ttotal: 4.06s\tremaining: 3.38s\n",
            "546:\tlearn: 8995.2869890\ttotal: 4.07s\tremaining: 3.37s\n",
            "547:\tlearn: 8988.6767541\ttotal: 4.08s\tremaining: 3.36s\n",
            "548:\tlearn: 8966.5665293\ttotal: 4.08s\tremaining: 3.35s\n",
            "549:\tlearn: 8955.2330648\ttotal: 4.09s\tremaining: 3.34s\n",
            "550:\tlearn: 8938.6332922\ttotal: 4.09s\tremaining: 3.34s\n",
            "551:\tlearn: 8921.6998301\ttotal: 4.1s\tremaining: 3.33s\n",
            "552:\tlearn: 8899.2744401\ttotal: 4.11s\tremaining: 3.32s\n",
            "553:\tlearn: 8896.9255667\ttotal: 4.11s\tremaining: 3.31s\n",
            "554:\tlearn: 8880.6950649\ttotal: 4.12s\tremaining: 3.3s\n",
            "555:\tlearn: 8868.8130607\ttotal: 4.12s\tremaining: 3.29s\n",
            "556:\tlearn: 8848.5895616\ttotal: 4.13s\tremaining: 3.28s\n",
            "557:\tlearn: 8839.4494990\ttotal: 4.14s\tremaining: 3.28s\n",
            "558:\tlearn: 8829.6251509\ttotal: 4.14s\tremaining: 3.27s\n",
            "559:\tlearn: 8811.0685213\ttotal: 4.15s\tremaining: 3.26s\n",
            "560:\tlearn: 8793.1263646\ttotal: 4.15s\tremaining: 3.25s\n",
            "561:\tlearn: 8779.0115119\ttotal: 4.16s\tremaining: 3.24s\n",
            "562:\tlearn: 8777.1082132\ttotal: 4.17s\tremaining: 3.23s\n",
            "563:\tlearn: 8774.9355080\ttotal: 4.17s\tremaining: 3.22s\n",
            "564:\tlearn: 8769.4283635\ttotal: 4.18s\tremaining: 3.22s\n",
            "565:\tlearn: 8745.9374695\ttotal: 4.19s\tremaining: 3.21s\n",
            "566:\tlearn: 8744.8179737\ttotal: 4.19s\tremaining: 3.2s\n",
            "567:\tlearn: 8743.7798248\ttotal: 4.2s\tremaining: 3.19s\n",
            "568:\tlearn: 8738.3698280\ttotal: 4.21s\tremaining: 3.19s\n",
            "569:\tlearn: 8721.9874153\ttotal: 4.21s\tremaining: 3.18s\n",
            "570:\tlearn: 8709.2219824\ttotal: 4.22s\tremaining: 3.17s\n",
            "571:\tlearn: 8691.7473937\ttotal: 4.22s\tremaining: 3.16s\n",
            "572:\tlearn: 8677.9063335\ttotal: 4.23s\tremaining: 3.15s\n",
            "573:\tlearn: 8664.9730333\ttotal: 4.24s\tremaining: 3.14s\n",
            "574:\tlearn: 8649.7266910\ttotal: 4.24s\tremaining: 3.14s\n",
            "575:\tlearn: 8641.7027371\ttotal: 4.25s\tremaining: 3.13s\n",
            "576:\tlearn: 8640.2479698\ttotal: 4.26s\tremaining: 3.12s\n",
            "577:\tlearn: 8628.6028783\ttotal: 4.27s\tremaining: 3.11s\n",
            "578:\tlearn: 8614.7315981\ttotal: 4.27s\tremaining: 3.11s\n",
            "579:\tlearn: 8599.7057931\ttotal: 4.28s\tremaining: 3.1s\n",
            "580:\tlearn: 8582.0439982\ttotal: 4.29s\tremaining: 3.09s\n",
            "581:\tlearn: 8579.9813798\ttotal: 4.29s\tremaining: 3.08s\n",
            "582:\tlearn: 8561.1773164\ttotal: 4.3s\tremaining: 3.07s\n",
            "583:\tlearn: 8559.8147152\ttotal: 4.3s\tremaining: 3.06s\n",
            "584:\tlearn: 8543.4610093\ttotal: 4.31s\tremaining: 3.06s\n",
            "585:\tlearn: 8542.0745609\ttotal: 4.32s\tremaining: 3.05s\n",
            "586:\tlearn: 8534.0487213\ttotal: 4.32s\tremaining: 3.04s\n",
            "587:\tlearn: 8532.6850638\ttotal: 4.33s\tremaining: 3.03s\n",
            "588:\tlearn: 8512.2040239\ttotal: 4.34s\tremaining: 3.03s\n",
            "589:\tlearn: 8502.5519105\ttotal: 4.34s\tremaining: 3.02s\n",
            "590:\tlearn: 8490.5265238\ttotal: 4.35s\tremaining: 3.01s\n",
            "591:\tlearn: 8478.0818402\ttotal: 4.36s\tremaining: 3s\n",
            "592:\tlearn: 8463.1085134\ttotal: 4.36s\tremaining: 2.99s\n",
            "593:\tlearn: 8451.0983077\ttotal: 4.37s\tremaining: 2.99s\n",
            "594:\tlearn: 8435.2601290\ttotal: 4.38s\tremaining: 2.98s\n",
            "595:\tlearn: 8423.4911192\ttotal: 4.39s\tremaining: 2.98s\n",
            "596:\tlearn: 8422.2394503\ttotal: 4.4s\tremaining: 2.97s\n",
            "597:\tlearn: 8421.2055549\ttotal: 4.4s\tremaining: 2.96s\n",
            "598:\tlearn: 8409.1569826\ttotal: 4.41s\tremaining: 2.95s\n",
            "599:\tlearn: 8391.5711315\ttotal: 4.42s\tremaining: 2.94s\n",
            "600:\tlearn: 8377.8635961\ttotal: 4.42s\tremaining: 2.94s\n",
            "601:\tlearn: 8358.3046432\ttotal: 4.43s\tremaining: 2.93s\n",
            "602:\tlearn: 8346.0255959\ttotal: 4.43s\tremaining: 2.92s\n",
            "603:\tlearn: 8330.4933242\ttotal: 4.44s\tremaining: 2.91s\n",
            "604:\tlearn: 8329.4760317\ttotal: 4.45s\tremaining: 2.9s\n",
            "605:\tlearn: 8310.6384032\ttotal: 4.45s\tremaining: 2.89s\n",
            "606:\tlearn: 8309.1886530\ttotal: 4.46s\tremaining: 2.88s\n",
            "607:\tlearn: 8295.3240128\ttotal: 4.46s\tremaining: 2.88s\n",
            "608:\tlearn: 8282.8697423\ttotal: 4.47s\tremaining: 2.87s\n",
            "609:\tlearn: 8277.7606916\ttotal: 4.47s\tremaining: 2.86s\n",
            "610:\tlearn: 8267.3288236\ttotal: 4.48s\tremaining: 2.85s\n",
            "611:\tlearn: 8262.6685168\ttotal: 4.49s\tremaining: 2.84s\n",
            "612:\tlearn: 8253.0021401\ttotal: 4.49s\tremaining: 2.84s\n",
            "613:\tlearn: 8240.8734981\ttotal: 4.5s\tremaining: 2.83s\n",
            "614:\tlearn: 8239.8142791\ttotal: 4.5s\tremaining: 2.82s\n",
            "615:\tlearn: 8226.5202099\ttotal: 4.51s\tremaining: 2.81s\n",
            "616:\tlearn: 8225.5821507\ttotal: 4.52s\tremaining: 2.8s\n",
            "617:\tlearn: 8216.2856128\ttotal: 4.52s\tremaining: 2.79s\n",
            "618:\tlearn: 8203.2738691\ttotal: 4.53s\tremaining: 2.79s\n",
            "619:\tlearn: 8202.4059534\ttotal: 4.53s\tremaining: 2.78s\n",
            "620:\tlearn: 8191.3066576\ttotal: 4.54s\tremaining: 2.77s\n",
            "621:\tlearn: 8180.1989461\ttotal: 4.55s\tremaining: 2.76s\n",
            "622:\tlearn: 8170.7903061\ttotal: 4.55s\tremaining: 2.75s\n",
            "623:\tlearn: 8153.7316263\ttotal: 4.56s\tremaining: 2.75s\n",
            "624:\tlearn: 8146.3272667\ttotal: 4.56s\tremaining: 2.74s\n",
            "625:\tlearn: 8135.4365940\ttotal: 4.57s\tremaining: 2.73s\n",
            "626:\tlearn: 8122.7262087\ttotal: 4.58s\tremaining: 2.72s\n",
            "627:\tlearn: 8106.6723867\ttotal: 4.59s\tremaining: 2.72s\n",
            "628:\tlearn: 8089.7221057\ttotal: 4.6s\tremaining: 2.71s\n",
            "629:\tlearn: 8065.9826737\ttotal: 4.61s\tremaining: 2.71s\n",
            "630:\tlearn: 8052.3976661\ttotal: 4.62s\tremaining: 2.7s\n",
            "631:\tlearn: 8040.8030832\ttotal: 4.62s\tremaining: 2.69s\n",
            "632:\tlearn: 8033.5301576\ttotal: 4.63s\tremaining: 2.68s\n",
            "633:\tlearn: 8024.2263568\ttotal: 4.64s\tremaining: 2.68s\n",
            "634:\tlearn: 8014.0768126\ttotal: 4.64s\tremaining: 2.67s\n",
            "635:\tlearn: 7995.7519181\ttotal: 4.65s\tremaining: 2.66s\n",
            "636:\tlearn: 7980.2627645\ttotal: 4.65s\tremaining: 2.65s\n",
            "637:\tlearn: 7970.5231296\ttotal: 4.66s\tremaining: 2.64s\n",
            "638:\tlearn: 7967.7094730\ttotal: 4.67s\tremaining: 2.64s\n",
            "639:\tlearn: 7956.0842372\ttotal: 4.68s\tremaining: 2.63s\n",
            "640:\tlearn: 7945.8000683\ttotal: 4.68s\tremaining: 2.62s\n",
            "641:\tlearn: 7931.7100341\ttotal: 4.69s\tremaining: 2.62s\n",
            "642:\tlearn: 7916.1909415\ttotal: 4.7s\tremaining: 2.61s\n",
            "643:\tlearn: 7900.2751755\ttotal: 4.7s\tremaining: 2.6s\n",
            "644:\tlearn: 7890.7918512\ttotal: 4.71s\tremaining: 2.59s\n",
            "645:\tlearn: 7879.0006907\ttotal: 4.71s\tremaining: 2.58s\n",
            "646:\tlearn: 7870.4578202\ttotal: 4.72s\tremaining: 2.58s\n",
            "647:\tlearn: 7858.1123432\ttotal: 4.72s\tremaining: 2.57s\n",
            "648:\tlearn: 7843.3680117\ttotal: 4.73s\tremaining: 2.56s\n",
            "649:\tlearn: 7830.5738823\ttotal: 4.74s\tremaining: 2.55s\n",
            "650:\tlearn: 7820.1307264\ttotal: 4.74s\tremaining: 2.54s\n",
            "651:\tlearn: 7810.1841662\ttotal: 4.75s\tremaining: 2.54s\n",
            "652:\tlearn: 7802.4383785\ttotal: 4.75s\tremaining: 2.53s\n",
            "653:\tlearn: 7801.5501967\ttotal: 4.76s\tremaining: 2.52s\n",
            "654:\tlearn: 7800.3676387\ttotal: 4.77s\tremaining: 2.51s\n",
            "655:\tlearn: 7789.0349265\ttotal: 4.78s\tremaining: 2.5s\n",
            "656:\tlearn: 7774.6531073\ttotal: 4.78s\tremaining: 2.5s\n",
            "657:\tlearn: 7773.8609835\ttotal: 4.81s\tremaining: 2.5s\n",
            "658:\tlearn: 7763.5119148\ttotal: 4.82s\tremaining: 2.5s\n",
            "659:\tlearn: 7748.2422545\ttotal: 4.84s\tremaining: 2.49s\n",
            "660:\tlearn: 7732.3502545\ttotal: 4.85s\tremaining: 2.49s\n",
            "661:\tlearn: 7720.1121414\ttotal: 4.86s\tremaining: 2.48s\n",
            "662:\tlearn: 7707.7024368\ttotal: 4.88s\tremaining: 2.48s\n",
            "663:\tlearn: 7689.2047720\ttotal: 4.91s\tremaining: 2.48s\n",
            "664:\tlearn: 7677.7443533\ttotal: 4.93s\tremaining: 2.48s\n",
            "665:\tlearn: 7665.8198176\ttotal: 4.95s\tremaining: 2.48s\n",
            "666:\tlearn: 7664.9391408\ttotal: 4.98s\tremaining: 2.49s\n",
            "667:\tlearn: 7650.4430799\ttotal: 5s\tremaining: 2.48s\n",
            "668:\tlearn: 7644.6852426\ttotal: 5.02s\tremaining: 2.48s\n",
            "669:\tlearn: 7638.3590031\ttotal: 5.03s\tremaining: 2.48s\n",
            "670:\tlearn: 7636.6902165\ttotal: 5.06s\tremaining: 2.48s\n",
            "671:\tlearn: 7625.3765594\ttotal: 5.07s\tremaining: 2.47s\n",
            "672:\tlearn: 7623.2619132\ttotal: 5.08s\tremaining: 2.47s\n",
            "673:\tlearn: 7609.8519146\ttotal: 5.09s\tremaining: 2.46s\n",
            "674:\tlearn: 7605.6529874\ttotal: 5.11s\tremaining: 2.46s\n",
            "675:\tlearn: 7603.4822963\ttotal: 5.13s\tremaining: 2.46s\n",
            "676:\tlearn: 7590.8475676\ttotal: 5.14s\tremaining: 2.45s\n",
            "677:\tlearn: 7583.9883513\ttotal: 5.15s\tremaining: 2.44s\n",
            "678:\tlearn: 7569.6219365\ttotal: 5.16s\tremaining: 2.44s\n",
            "679:\tlearn: 7556.1269355\ttotal: 5.16s\tremaining: 2.43s\n",
            "680:\tlearn: 7548.6009467\ttotal: 5.18s\tremaining: 2.42s\n",
            "681:\tlearn: 7543.5942415\ttotal: 5.19s\tremaining: 2.42s\n",
            "682:\tlearn: 7531.8296992\ttotal: 5.21s\tremaining: 2.42s\n",
            "683:\tlearn: 7530.5398693\ttotal: 5.22s\tremaining: 2.41s\n",
            "684:\tlearn: 7521.5884660\ttotal: 5.23s\tremaining: 2.4s\n",
            "685:\tlearn: 7508.2749644\ttotal: 5.24s\tremaining: 2.4s\n",
            "686:\tlearn: 7494.2021018\ttotal: 5.25s\tremaining: 2.39s\n",
            "687:\tlearn: 7483.3132477\ttotal: 5.27s\tremaining: 2.39s\n",
            "688:\tlearn: 7481.9981202\ttotal: 5.27s\tremaining: 2.38s\n",
            "689:\tlearn: 7467.4732546\ttotal: 5.28s\tremaining: 2.37s\n",
            "690:\tlearn: 7466.6920982\ttotal: 5.28s\tremaining: 2.36s\n",
            "691:\tlearn: 7466.0096462\ttotal: 5.29s\tremaining: 2.35s\n",
            "692:\tlearn: 7460.1934120\ttotal: 5.3s\tremaining: 2.35s\n",
            "693:\tlearn: 7447.8483445\ttotal: 5.31s\tremaining: 2.34s\n",
            "694:\tlearn: 7440.6737581\ttotal: 5.32s\tremaining: 2.33s\n",
            "695:\tlearn: 7427.6897331\ttotal: 5.32s\tremaining: 2.33s\n",
            "696:\tlearn: 7419.8530171\ttotal: 5.33s\tremaining: 2.32s\n",
            "697:\tlearn: 7404.5256356\ttotal: 5.34s\tremaining: 2.31s\n",
            "698:\tlearn: 7393.5426568\ttotal: 5.35s\tremaining: 2.3s\n",
            "699:\tlearn: 7386.9031594\ttotal: 5.36s\tremaining: 2.3s\n",
            "700:\tlearn: 7376.0586686\ttotal: 5.38s\tremaining: 2.29s\n",
            "701:\tlearn: 7367.9009123\ttotal: 5.39s\tremaining: 2.29s\n",
            "702:\tlearn: 7355.2056987\ttotal: 5.41s\tremaining: 2.29s\n",
            "703:\tlearn: 7345.2125095\ttotal: 5.43s\tremaining: 2.28s\n",
            "704:\tlearn: 7333.4432468\ttotal: 5.45s\tremaining: 2.28s\n",
            "705:\tlearn: 7324.0442719\ttotal: 5.47s\tremaining: 2.28s\n",
            "706:\tlearn: 7312.0250031\ttotal: 5.47s\tremaining: 2.27s\n",
            "707:\tlearn: 7293.8613720\ttotal: 5.48s\tremaining: 2.26s\n",
            "708:\tlearn: 7284.4211745\ttotal: 5.51s\tremaining: 2.26s\n",
            "709:\tlearn: 7273.7135282\ttotal: 5.52s\tremaining: 2.25s\n",
            "710:\tlearn: 7269.1595164\ttotal: 5.53s\tremaining: 2.25s\n",
            "711:\tlearn: 7262.2412324\ttotal: 5.54s\tremaining: 2.24s\n",
            "712:\tlearn: 7246.9109109\ttotal: 5.56s\tremaining: 2.24s\n",
            "713:\tlearn: 7245.0702283\ttotal: 5.59s\tremaining: 2.24s\n",
            "714:\tlearn: 7233.8543154\ttotal: 5.62s\tremaining: 2.24s\n",
            "715:\tlearn: 7223.5666003\ttotal: 5.63s\tremaining: 2.23s\n",
            "716:\tlearn: 7215.8303751\ttotal: 5.66s\tremaining: 2.23s\n",
            "717:\tlearn: 7214.5986633\ttotal: 5.69s\tremaining: 2.24s\n",
            "718:\tlearn: 7213.5718962\ttotal: 5.71s\tremaining: 2.23s\n",
            "719:\tlearn: 7204.5700485\ttotal: 5.73s\tremaining: 2.23s\n",
            "720:\tlearn: 7192.8838415\ttotal: 5.74s\tremaining: 2.22s\n",
            "721:\tlearn: 7186.5455853\ttotal: 5.76s\tremaining: 2.22s\n",
            "722:\tlearn: 7185.1739658\ttotal: 5.78s\tremaining: 2.21s\n",
            "723:\tlearn: 7174.0105591\ttotal: 5.79s\tremaining: 2.21s\n",
            "724:\tlearn: 7163.4453821\ttotal: 5.81s\tremaining: 2.2s\n",
            "725:\tlearn: 7155.0490581\ttotal: 5.82s\tremaining: 2.2s\n",
            "726:\tlearn: 7140.2906397\ttotal: 5.84s\tremaining: 2.19s\n",
            "727:\tlearn: 7137.1344952\ttotal: 5.85s\tremaining: 2.19s\n",
            "728:\tlearn: 7124.0631952\ttotal: 5.87s\tremaining: 2.18s\n",
            "729:\tlearn: 7117.5556532\ttotal: 5.9s\tremaining: 2.18s\n",
            "730:\tlearn: 7104.4539108\ttotal: 5.92s\tremaining: 2.18s\n",
            "731:\tlearn: 7095.5852689\ttotal: 5.93s\tremaining: 2.17s\n",
            "732:\tlearn: 7088.5661152\ttotal: 5.95s\tremaining: 2.17s\n",
            "733:\tlearn: 7081.9688379\ttotal: 5.98s\tremaining: 2.17s\n",
            "734:\tlearn: 7071.9670553\ttotal: 5.99s\tremaining: 2.16s\n",
            "735:\tlearn: 7070.9627436\ttotal: 6.01s\tremaining: 2.15s\n",
            "736:\tlearn: 7061.4156201\ttotal: 6.02s\tremaining: 2.15s\n",
            "737:\tlearn: 7051.0736268\ttotal: 6.03s\tremaining: 2.14s\n",
            "738:\tlearn: 7043.7240039\ttotal: 6.03s\tremaining: 2.13s\n",
            "739:\tlearn: 7032.1559043\ttotal: 6.04s\tremaining: 2.12s\n",
            "740:\tlearn: 7017.1948980\ttotal: 6.05s\tremaining: 2.11s\n",
            "741:\tlearn: 7006.0648026\ttotal: 6.07s\tremaining: 2.11s\n",
            "742:\tlearn: 6988.3210663\ttotal: 6.08s\tremaining: 2.1s\n",
            "743:\tlearn: 6981.0488990\ttotal: 6.09s\tremaining: 2.1s\n",
            "744:\tlearn: 6972.7559391\ttotal: 6.11s\tremaining: 2.09s\n",
            "745:\tlearn: 6963.3967998\ttotal: 6.12s\tremaining: 2.08s\n",
            "746:\tlearn: 6962.4480695\ttotal: 6.13s\tremaining: 2.08s\n",
            "747:\tlearn: 6951.9229524\ttotal: 6.15s\tremaining: 2.07s\n",
            "748:\tlearn: 6945.5909783\ttotal: 6.16s\tremaining: 2.06s\n",
            "749:\tlearn: 6944.2848333\ttotal: 6.17s\tremaining: 2.06s\n",
            "750:\tlearn: 6936.3116639\ttotal: 6.2s\tremaining: 2.06s\n",
            "751:\tlearn: 6924.4506661\ttotal: 6.21s\tremaining: 2.05s\n",
            "752:\tlearn: 6910.5234110\ttotal: 6.22s\tremaining: 2.04s\n",
            "753:\tlearn: 6899.8884896\ttotal: 6.24s\tremaining: 2.04s\n",
            "754:\tlearn: 6892.9138448\ttotal: 6.25s\tremaining: 2.03s\n",
            "755:\tlearn: 6873.5997343\ttotal: 6.28s\tremaining: 2.02s\n",
            "756:\tlearn: 6872.5081348\ttotal: 6.29s\tremaining: 2.02s\n",
            "757:\tlearn: 6856.3347558\ttotal: 6.31s\tremaining: 2.01s\n",
            "758:\tlearn: 6855.6947912\ttotal: 6.33s\tremaining: 2.01s\n",
            "759:\tlearn: 6844.4719275\ttotal: 6.34s\tremaining: 2s\n",
            "760:\tlearn: 6836.9916588\ttotal: 6.37s\tremaining: 2s\n",
            "761:\tlearn: 6825.2187197\ttotal: 6.39s\tremaining: 2s\n",
            "762:\tlearn: 6809.2544319\ttotal: 6.4s\tremaining: 1.99s\n",
            "763:\tlearn: 6793.6656462\ttotal: 6.42s\tremaining: 1.98s\n",
            "764:\tlearn: 6784.1630242\ttotal: 6.44s\tremaining: 1.98s\n",
            "765:\tlearn: 6775.8889025\ttotal: 6.46s\tremaining: 1.97s\n",
            "766:\tlearn: 6761.0865291\ttotal: 6.48s\tremaining: 1.97s\n",
            "767:\tlearn: 6753.3973902\ttotal: 6.5s\tremaining: 1.96s\n",
            "768:\tlearn: 6741.5871915\ttotal: 6.52s\tremaining: 1.96s\n",
            "769:\tlearn: 6733.2804189\ttotal: 6.54s\tremaining: 1.95s\n",
            "770:\tlearn: 6722.9077408\ttotal: 6.55s\tremaining: 1.95s\n",
            "771:\tlearn: 6717.2258798\ttotal: 6.57s\tremaining: 1.94s\n",
            "772:\tlearn: 6716.1247418\ttotal: 6.58s\tremaining: 1.93s\n",
            "773:\tlearn: 6708.5807197\ttotal: 6.61s\tremaining: 1.93s\n",
            "774:\tlearn: 6697.5062936\ttotal: 6.62s\tremaining: 1.92s\n",
            "775:\tlearn: 6685.9563355\ttotal: 6.65s\tremaining: 1.92s\n",
            "776:\tlearn: 6676.2693115\ttotal: 6.67s\tremaining: 1.91s\n",
            "777:\tlearn: 6664.3553496\ttotal: 6.68s\tremaining: 1.91s\n",
            "778:\tlearn: 6650.6281585\ttotal: 6.71s\tremaining: 1.91s\n",
            "779:\tlearn: 6640.8072532\ttotal: 6.73s\tremaining: 1.9s\n",
            "780:\tlearn: 6636.8258964\ttotal: 6.74s\tremaining: 1.89s\n",
            "781:\tlearn: 6622.2600484\ttotal: 6.76s\tremaining: 1.88s\n",
            "782:\tlearn: 6621.0925612\ttotal: 6.77s\tremaining: 1.88s\n",
            "783:\tlearn: 6606.4904573\ttotal: 6.78s\tremaining: 1.87s\n",
            "784:\tlearn: 6597.8031146\ttotal: 6.79s\tremaining: 1.86s\n",
            "785:\tlearn: 6593.1162855\ttotal: 6.79s\tremaining: 1.85s\n",
            "786:\tlearn: 6584.6714505\ttotal: 6.8s\tremaining: 1.84s\n",
            "787:\tlearn: 6574.6162392\ttotal: 6.81s\tremaining: 1.83s\n",
            "788:\tlearn: 6562.7014998\ttotal: 6.83s\tremaining: 1.82s\n",
            "789:\tlearn: 6553.9568100\ttotal: 6.85s\tremaining: 1.82s\n",
            "790:\tlearn: 6552.8507474\ttotal: 6.85s\tremaining: 1.81s\n",
            "791:\tlearn: 6539.9782654\ttotal: 6.86s\tremaining: 1.8s\n",
            "792:\tlearn: 6531.1133924\ttotal: 6.87s\tremaining: 1.79s\n",
            "793:\tlearn: 6519.4479193\ttotal: 6.88s\tremaining: 1.78s\n",
            "794:\tlearn: 6508.4299719\ttotal: 6.88s\tremaining: 1.77s\n",
            "795:\tlearn: 6486.7265809\ttotal: 6.89s\tremaining: 1.77s\n",
            "796:\tlearn: 6481.2783359\ttotal: 6.9s\tremaining: 1.76s\n",
            "797:\tlearn: 6472.7352625\ttotal: 6.91s\tremaining: 1.75s\n",
            "798:\tlearn: 6467.3727962\ttotal: 6.91s\tremaining: 1.74s\n",
            "799:\tlearn: 6457.2944358\ttotal: 6.92s\tremaining: 1.73s\n",
            "800:\tlearn: 6448.2700952\ttotal: 6.93s\tremaining: 1.72s\n",
            "801:\tlearn: 6435.4443542\ttotal: 6.95s\tremaining: 1.72s\n",
            "802:\tlearn: 6424.7754002\ttotal: 6.96s\tremaining: 1.71s\n",
            "803:\tlearn: 6418.9756229\ttotal: 6.98s\tremaining: 1.7s\n",
            "804:\tlearn: 6405.9401467\ttotal: 7s\tremaining: 1.7s\n",
            "805:\tlearn: 6403.8395379\ttotal: 7.02s\tremaining: 1.69s\n",
            "806:\tlearn: 6395.5013715\ttotal: 7.04s\tremaining: 1.68s\n",
            "807:\tlearn: 6394.2503950\ttotal: 7.08s\tremaining: 1.68s\n",
            "808:\tlearn: 6393.3352438\ttotal: 7.09s\tremaining: 1.67s\n",
            "809:\tlearn: 6381.0852397\ttotal: 7.11s\tremaining: 1.67s\n",
            "810:\tlearn: 6368.4100767\ttotal: 7.12s\tremaining: 1.66s\n",
            "811:\tlearn: 6357.7033280\ttotal: 7.14s\tremaining: 1.65s\n",
            "812:\tlearn: 6347.7043403\ttotal: 7.15s\tremaining: 1.65s\n",
            "813:\tlearn: 6338.9349770\ttotal: 7.18s\tremaining: 1.64s\n",
            "814:\tlearn: 6326.0929697\ttotal: 7.21s\tremaining: 1.64s\n",
            "815:\tlearn: 6318.2431720\ttotal: 7.25s\tremaining: 1.63s\n",
            "816:\tlearn: 6309.4917673\ttotal: 7.25s\tremaining: 1.62s\n",
            "817:\tlearn: 6302.0704621\ttotal: 7.27s\tremaining: 1.62s\n",
            "818:\tlearn: 6292.8701015\ttotal: 7.29s\tremaining: 1.61s\n",
            "819:\tlearn: 6286.9735786\ttotal: 7.3s\tremaining: 1.6s\n",
            "820:\tlearn: 6280.6042366\ttotal: 7.32s\tremaining: 1.6s\n",
            "821:\tlearn: 6277.5551484\ttotal: 7.34s\tremaining: 1.59s\n",
            "822:\tlearn: 6276.3642140\ttotal: 7.34s\tremaining: 1.58s\n",
            "823:\tlearn: 6272.1033998\ttotal: 7.35s\tremaining: 1.57s\n",
            "824:\tlearn: 6271.4157660\ttotal: 7.36s\tremaining: 1.56s\n",
            "825:\tlearn: 6263.7078859\ttotal: 7.38s\tremaining: 1.55s\n",
            "826:\tlearn: 6259.4076688\ttotal: 7.4s\tremaining: 1.55s\n",
            "827:\tlearn: 6246.3501565\ttotal: 7.42s\tremaining: 1.54s\n",
            "828:\tlearn: 6237.6181712\ttotal: 7.44s\tremaining: 1.53s\n",
            "829:\tlearn: 6228.9063387\ttotal: 7.46s\tremaining: 1.53s\n",
            "830:\tlearn: 6228.4924668\ttotal: 7.48s\tremaining: 1.52s\n",
            "831:\tlearn: 6227.6756575\ttotal: 7.5s\tremaining: 1.51s\n",
            "832:\tlearn: 6215.8533224\ttotal: 7.52s\tremaining: 1.51s\n",
            "833:\tlearn: 6211.0491605\ttotal: 7.53s\tremaining: 1.5s\n",
            "834:\tlearn: 6203.8775219\ttotal: 7.55s\tremaining: 1.49s\n",
            "835:\tlearn: 6191.3256592\ttotal: 7.57s\tremaining: 1.49s\n",
            "836:\tlearn: 6187.6505294\ttotal: 7.59s\tremaining: 1.48s\n",
            "837:\tlearn: 6180.6030939\ttotal: 7.61s\tremaining: 1.47s\n",
            "838:\tlearn: 6179.4934491\ttotal: 7.64s\tremaining: 1.47s\n",
            "839:\tlearn: 6167.7624593\ttotal: 7.66s\tremaining: 1.46s\n",
            "840:\tlearn: 6158.8012574\ttotal: 7.69s\tremaining: 1.45s\n",
            "841:\tlearn: 6151.5683074\ttotal: 7.71s\tremaining: 1.45s\n",
            "842:\tlearn: 6146.2556158\ttotal: 7.75s\tremaining: 1.44s\n",
            "843:\tlearn: 6137.2778412\ttotal: 7.76s\tremaining: 1.44s\n",
            "844:\tlearn: 6129.2264947\ttotal: 7.79s\tremaining: 1.43s\n",
            "845:\tlearn: 6114.1792293\ttotal: 7.82s\tremaining: 1.42s\n",
            "846:\tlearn: 6098.9561034\ttotal: 7.85s\tremaining: 1.42s\n",
            "847:\tlearn: 6093.3080539\ttotal: 7.91s\tremaining: 1.42s\n",
            "848:\tlearn: 6087.8393597\ttotal: 7.93s\tremaining: 1.41s\n",
            "849:\tlearn: 6076.9743936\ttotal: 7.97s\tremaining: 1.41s\n",
            "850:\tlearn: 6070.5516157\ttotal: 8s\tremaining: 1.4s\n",
            "851:\tlearn: 6063.5710959\ttotal: 8.03s\tremaining: 1.4s\n",
            "852:\tlearn: 6062.9238652\ttotal: 8.06s\tremaining: 1.39s\n",
            "853:\tlearn: 6054.8711694\ttotal: 8.1s\tremaining: 1.38s\n",
            "854:\tlearn: 6051.9431641\ttotal: 8.12s\tremaining: 1.38s\n",
            "855:\tlearn: 6040.8681661\ttotal: 8.15s\tremaining: 1.37s\n",
            "856:\tlearn: 6029.3853072\ttotal: 8.17s\tremaining: 1.36s\n",
            "857:\tlearn: 6021.3639835\ttotal: 8.2s\tremaining: 1.36s\n",
            "858:\tlearn: 6011.7266258\ttotal: 8.22s\tremaining: 1.35s\n",
            "859:\tlearn: 6007.4062221\ttotal: 8.25s\tremaining: 1.34s\n",
            "860:\tlearn: 5993.8328617\ttotal: 8.27s\tremaining: 1.33s\n",
            "861:\tlearn: 5984.5711412\ttotal: 8.29s\tremaining: 1.33s\n",
            "862:\tlearn: 5977.1736570\ttotal: 8.31s\tremaining: 1.32s\n",
            "863:\tlearn: 5960.4916824\ttotal: 8.33s\tremaining: 1.31s\n",
            "864:\tlearn: 5951.8128232\ttotal: 8.35s\tremaining: 1.3s\n",
            "865:\tlearn: 5942.3028163\ttotal: 8.37s\tremaining: 1.29s\n",
            "866:\tlearn: 5927.7426441\ttotal: 8.38s\tremaining: 1.28s\n",
            "867:\tlearn: 5922.9636897\ttotal: 8.4s\tremaining: 1.28s\n",
            "868:\tlearn: 5918.8485401\ttotal: 8.42s\tremaining: 1.27s\n",
            "869:\tlearn: 5909.1907955\ttotal: 8.45s\tremaining: 1.26s\n",
            "870:\tlearn: 5899.3817874\ttotal: 8.47s\tremaining: 1.25s\n",
            "871:\tlearn: 5892.5638179\ttotal: 8.5s\tremaining: 1.25s\n",
            "872:\tlearn: 5891.8446671\ttotal: 8.52s\tremaining: 1.24s\n",
            "873:\tlearn: 5885.7115523\ttotal: 8.54s\tremaining: 1.23s\n",
            "874:\tlearn: 5879.5865302\ttotal: 8.56s\tremaining: 1.22s\n",
            "875:\tlearn: 5868.0495224\ttotal: 8.6s\tremaining: 1.22s\n",
            "876:\tlearn: 5858.0851790\ttotal: 8.61s\tremaining: 1.21s\n",
            "877:\tlearn: 5857.0161785\ttotal: 8.63s\tremaining: 1.2s\n",
            "878:\tlearn: 5856.5373884\ttotal: 8.68s\tremaining: 1.19s\n",
            "879:\tlearn: 5847.8168395\ttotal: 8.69s\tremaining: 1.19s\n",
            "880:\tlearn: 5844.0717376\ttotal: 8.72s\tremaining: 1.18s\n",
            "881:\tlearn: 5843.5233035\ttotal: 8.74s\tremaining: 1.17s\n",
            "882:\tlearn: 5833.9857736\ttotal: 8.77s\tremaining: 1.16s\n",
            "883:\tlearn: 5825.5457037\ttotal: 8.79s\tremaining: 1.15s\n",
            "884:\tlearn: 5818.2689834\ttotal: 8.81s\tremaining: 1.15s\n",
            "885:\tlearn: 5811.8212937\ttotal: 8.84s\tremaining: 1.14s\n",
            "886:\tlearn: 5802.3200913\ttotal: 8.86s\tremaining: 1.13s\n",
            "887:\tlearn: 5794.6048598\ttotal: 8.88s\tremaining: 1.12s\n",
            "888:\tlearn: 5788.1403760\ttotal: 8.9s\tremaining: 1.11s\n",
            "889:\tlearn: 5778.1366486\ttotal: 8.93s\tremaining: 1.1s\n",
            "890:\tlearn: 5773.8968838\ttotal: 8.95s\tremaining: 1.09s\n",
            "891:\tlearn: 5764.2075858\ttotal: 8.97s\tremaining: 1.09s\n",
            "892:\tlearn: 5755.6877840\ttotal: 9.01s\tremaining: 1.08s\n",
            "893:\tlearn: 5743.8441527\ttotal: 9.04s\tremaining: 1.07s\n",
            "894:\tlearn: 5736.2258245\ttotal: 9.06s\tremaining: 1.06s\n",
            "895:\tlearn: 5730.7814392\ttotal: 9.11s\tremaining: 1.06s\n",
            "896:\tlearn: 5723.5432218\ttotal: 9.13s\tremaining: 1.05s\n",
            "897:\tlearn: 5712.9532778\ttotal: 9.16s\tremaining: 1.04s\n",
            "898:\tlearn: 5702.8302890\ttotal: 9.19s\tremaining: 1.03s\n",
            "899:\tlearn: 5697.0109600\ttotal: 9.23s\tremaining: 1.02s\n",
            "900:\tlearn: 5687.0390153\ttotal: 9.26s\tremaining: 1.02s\n",
            "901:\tlearn: 5683.8449237\ttotal: 9.3s\tremaining: 1.01s\n",
            "902:\tlearn: 5675.6017250\ttotal: 9.32s\tremaining: 1s\n",
            "903:\tlearn: 5667.1044157\ttotal: 9.34s\tremaining: 992ms\n",
            "904:\tlearn: 5665.2478327\ttotal: 9.36s\tremaining: 982ms\n",
            "905:\tlearn: 5656.2571994\ttotal: 9.38s\tremaining: 974ms\n",
            "906:\tlearn: 5648.0308521\ttotal: 9.4s\tremaining: 964ms\n",
            "907:\tlearn: 5642.4165781\ttotal: 9.43s\tremaining: 956ms\n",
            "908:\tlearn: 5637.5825970\ttotal: 9.48s\tremaining: 949ms\n",
            "909:\tlearn: 5629.2899296\ttotal: 9.51s\tremaining: 941ms\n",
            "910:\tlearn: 5623.4076344\ttotal: 9.53s\tremaining: 931ms\n",
            "911:\tlearn: 5618.0123223\ttotal: 9.55s\tremaining: 921ms\n",
            "912:\tlearn: 5610.7710843\ttotal: 9.57s\tremaining: 912ms\n",
            "913:\tlearn: 5604.3058723\ttotal: 9.6s\tremaining: 903ms\n",
            "914:\tlearn: 5597.7904416\ttotal: 9.64s\tremaining: 896ms\n",
            "915:\tlearn: 5588.7383239\ttotal: 9.65s\tremaining: 885ms\n",
            "916:\tlearn: 5580.7299878\ttotal: 9.7s\tremaining: 878ms\n",
            "917:\tlearn: 5576.6293645\ttotal: 9.73s\tremaining: 869ms\n",
            "918:\tlearn: 5570.9421766\ttotal: 9.76s\tremaining: 861ms\n",
            "919:\tlearn: 5561.9235153\ttotal: 9.79s\tremaining: 851ms\n",
            "920:\tlearn: 5556.9092709\ttotal: 9.81s\tremaining: 842ms\n",
            "921:\tlearn: 5550.7362699\ttotal: 9.83s\tremaining: 832ms\n",
            "922:\tlearn: 5547.9048525\ttotal: 9.85s\tremaining: 822ms\n",
            "923:\tlearn: 5542.0866562\ttotal: 9.89s\tremaining: 813ms\n",
            "924:\tlearn: 5535.9149385\ttotal: 9.92s\tremaining: 804ms\n",
            "925:\tlearn: 5527.0738096\ttotal: 9.94s\tremaining: 794ms\n",
            "926:\tlearn: 5524.0733642\ttotal: 9.96s\tremaining: 784ms\n",
            "927:\tlearn: 5521.1268644\ttotal: 9.98s\tremaining: 774ms\n",
            "928:\tlearn: 5512.4869096\ttotal: 9.99s\tremaining: 764ms\n",
            "929:\tlearn: 5508.8717815\ttotal: 10s\tremaining: 754ms\n",
            "930:\tlearn: 5508.3891772\ttotal: 10.1s\tremaining: 745ms\n",
            "931:\tlearn: 5498.0891547\ttotal: 10.1s\tremaining: 735ms\n",
            "932:\tlearn: 5492.5949687\ttotal: 10.1s\tremaining: 726ms\n",
            "933:\tlearn: 5483.9555228\ttotal: 10.1s\tremaining: 715ms\n",
            "934:\tlearn: 5477.6344439\ttotal: 10.1s\tremaining: 705ms\n",
            "935:\tlearn: 5474.8137688\ttotal: 10.2s\tremaining: 695ms\n",
            "936:\tlearn: 5467.9123775\ttotal: 10.2s\tremaining: 685ms\n",
            "937:\tlearn: 5460.6871628\ttotal: 10.2s\tremaining: 675ms\n",
            "938:\tlearn: 5458.7369893\ttotal: 10.2s\tremaining: 664ms\n",
            "939:\tlearn: 5447.4652280\ttotal: 10.2s\tremaining: 653ms\n",
            "940:\tlearn: 5438.6792915\ttotal: 10.2s\tremaining: 642ms\n",
            "941:\tlearn: 5432.4111597\ttotal: 10.3s\tremaining: 632ms\n",
            "942:\tlearn: 5425.0756571\ttotal: 10.3s\tremaining: 621ms\n",
            "943:\tlearn: 5419.5108077\ttotal: 10.3s\tremaining: 611ms\n",
            "944:\tlearn: 5417.7329927\ttotal: 10.3s\tremaining: 600ms\n",
            "945:\tlearn: 5417.2539336\ttotal: 10.3s\tremaining: 589ms\n",
            "946:\tlearn: 5410.9494914\ttotal: 10.3s\tremaining: 579ms\n",
            "947:\tlearn: 5407.7090574\ttotal: 10.3s\tremaining: 568ms\n",
            "948:\tlearn: 5405.7028514\ttotal: 10.4s\tremaining: 557ms\n",
            "949:\tlearn: 5399.4943370\ttotal: 10.4s\tremaining: 546ms\n",
            "950:\tlearn: 5390.0807678\ttotal: 10.4s\tremaining: 534ms\n",
            "951:\tlearn: 5383.1594027\ttotal: 10.4s\tremaining: 524ms\n",
            "952:\tlearn: 5376.1187452\ttotal: 10.4s\tremaining: 512ms\n",
            "953:\tlearn: 5371.2641720\ttotal: 10.4s\tremaining: 501ms\n",
            "954:\tlearn: 5367.4462941\ttotal: 10.4s\tremaining: 490ms\n",
            "955:\tlearn: 5362.0777831\ttotal: 10.4s\tremaining: 479ms\n",
            "956:\tlearn: 5355.5630972\ttotal: 10.4s\tremaining: 468ms\n",
            "957:\tlearn: 5348.6078662\ttotal: 10.4s\tremaining: 458ms\n",
            "958:\tlearn: 5342.8321723\ttotal: 10.5s\tremaining: 447ms\n",
            "959:\tlearn: 5338.8124888\ttotal: 10.5s\tremaining: 436ms\n",
            "960:\tlearn: 5331.6143080\ttotal: 10.5s\tremaining: 426ms\n",
            "961:\tlearn: 5324.8694357\ttotal: 10.5s\tremaining: 415ms\n",
            "962:\tlearn: 5321.4246961\ttotal: 10.5s\tremaining: 404ms\n",
            "963:\tlearn: 5315.5212151\ttotal: 10.5s\tremaining: 393ms\n",
            "964:\tlearn: 5309.6867612\ttotal: 10.5s\tremaining: 382ms\n",
            "965:\tlearn: 5303.3998047\ttotal: 10.6s\tremaining: 372ms\n",
            "966:\tlearn: 5297.7175509\ttotal: 10.6s\tremaining: 360ms\n",
            "967:\tlearn: 5290.9984897\ttotal: 10.6s\tremaining: 349ms\n",
            "968:\tlearn: 5289.5271845\ttotal: 10.6s\tremaining: 339ms\n",
            "969:\tlearn: 5283.7710111\ttotal: 10.6s\tremaining: 328ms\n",
            "970:\tlearn: 5279.9986417\ttotal: 10.6s\tremaining: 317ms\n",
            "971:\tlearn: 5274.5566120\ttotal: 10.6s\tremaining: 306ms\n",
            "972:\tlearn: 5264.9423300\ttotal: 10.6s\tremaining: 295ms\n",
            "973:\tlearn: 5256.3428377\ttotal: 10.6s\tremaining: 284ms\n",
            "974:\tlearn: 5249.3801317\ttotal: 10.6s\tremaining: 273ms\n",
            "975:\tlearn: 5248.4856255\ttotal: 10.7s\tremaining: 262ms\n",
            "976:\tlearn: 5240.0492481\ttotal: 10.7s\tremaining: 251ms\n",
            "977:\tlearn: 5234.7647111\ttotal: 10.7s\tremaining: 240ms\n",
            "978:\tlearn: 5226.2380774\ttotal: 10.7s\tremaining: 229ms\n",
            "979:\tlearn: 5220.1440270\ttotal: 10.7s\tremaining: 218ms\n",
            "980:\tlearn: 5218.8799894\ttotal: 10.7s\tremaining: 207ms\n",
            "981:\tlearn: 5214.1595840\ttotal: 10.7s\tremaining: 196ms\n",
            "982:\tlearn: 5213.8341041\ttotal: 10.7s\tremaining: 185ms\n",
            "983:\tlearn: 5203.3564179\ttotal: 10.7s\tremaining: 175ms\n",
            "984:\tlearn: 5198.5817008\ttotal: 10.8s\tremaining: 164ms\n",
            "985:\tlearn: 5188.9353411\ttotal: 10.8s\tremaining: 153ms\n",
            "986:\tlearn: 5185.9472001\ttotal: 10.8s\tremaining: 142ms\n",
            "987:\tlearn: 5179.9864884\ttotal: 10.8s\tremaining: 131ms\n",
            "988:\tlearn: 5175.5290838\ttotal: 10.8s\tremaining: 120ms\n",
            "989:\tlearn: 5168.8140694\ttotal: 10.8s\tremaining: 110ms\n",
            "990:\tlearn: 5160.4023686\ttotal: 10.9s\tremaining: 98.7ms\n",
            "991:\tlearn: 5156.8208427\ttotal: 10.9s\tremaining: 87.8ms\n",
            "992:\tlearn: 5150.3031521\ttotal: 10.9s\tremaining: 76.8ms\n",
            "993:\tlearn: 5143.7389247\ttotal: 10.9s\tremaining: 65.8ms\n",
            "994:\tlearn: 5133.8783237\ttotal: 10.9s\tremaining: 54.8ms\n",
            "995:\tlearn: 5127.2915516\ttotal: 10.9s\tremaining: 43.9ms\n",
            "996:\tlearn: 5120.6591916\ttotal: 10.9s\tremaining: 32.9ms\n",
            "997:\tlearn: 5113.6660242\ttotal: 10.9s\tremaining: 21.9ms\n",
            "998:\tlearn: 5104.5948006\ttotal: 10.9s\tremaining: 11ms\n",
            "999:\tlearn: 5099.2316043\ttotal: 11s\tremaining: 0us\n",
            "CPU times: user 12 s, sys: 1.28 s, total: 13.3 s\n",
            "Wall time: 11.7 s\n"
          ]
        },
        {
          "output_type": "execute_result",
          "data": {
            "text/plain": [
              "<catboost.core.CatBoostRegressor at 0x7f3741342070>"
            ]
          },
          "metadata": {},
          "execution_count": 54
        }
      ]
    },
    {
      "cell_type": "code",
      "metadata": {
        "colab": {
          "base_uri": "https://localhost:8080/"
        },
        "outputId": "3ca7ddec-619c-42fc-9d46-ab578f89ac97",
        "id": "LjYJtJVcUTPR"
      },
      "source": [
        "cat.score(X_train, y_train)"
      ],
      "execution_count": null,
      "outputs": [
        {
          "output_type": "execute_result",
          "data": {
            "text/plain": [
              "0.9956796814972898"
            ]
          },
          "metadata": {},
          "execution_count": 55
        }
      ]
    },
    {
      "cell_type": "code",
      "metadata": {
        "colab": {
          "base_uri": "https://localhost:8080/"
        },
        "outputId": "4d06f259-038e-4170-9b4e-f9e25a8523e6",
        "id": "fAH1BpVcUTPT"
      },
      "source": [
        "cat.score(X_test, y_test)"
      ],
      "execution_count": null,
      "outputs": [
        {
          "output_type": "execute_result",
          "data": {
            "text/plain": [
              "0.9219002043542658"
            ]
          },
          "metadata": {},
          "execution_count": 56
        }
      ]
    },
    {
      "cell_type": "markdown",
      "source": [
        "# Дополнительные материалы:\n",
        "1. Ансамбли в машинном обучении - https://dyakonov.org/2019/04/19/%D0%B0%D0%BD%D1%81%D0%B0%D0%BC%D0%B1%D0%BB%D0%B8-%D0%B2-%D0%BC%D0%B0%D1%88%D0%B8%D0%BD%D0%BD%D0%BE%D0%BC-%D0%BE%D0%B1%D1%83%D1%87%D0%B5%D0%BD%D0%B8%D0%B8/\n",
        "2. Ансамблевые методы: бэггинг, бустинг и стекинг - https://neurohive.io/ru/osnovy-data-science/ansamblevye-metody-begging-busting-i-steking/\n",
        "3. Бэггинг и бутстрап + композиции в целом - https://habr.com/ru/company/ods/blog/324402/\n",
        "4. Бэггинг и случайный лес - https://youtu.be/rawnIo_XtYY\n",
        "5. Бустинг - https://medium.com/mlreview/gradient-boosting-from-scratch-1e317ae4587d\n",
        "6. CatBoost против Light GBM против XGBoost - https://machinelearningmastery.ru/catboost-vs-light-gbm-vs-xgboost-5f93620723db/\n"
      ],
      "metadata": {
        "id": "fTVjLNXtoJcp"
      }
    }
  ]
}