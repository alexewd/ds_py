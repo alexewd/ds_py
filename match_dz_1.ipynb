{
  "nbformat": 4,
  "nbformat_minor": 0,
  "metadata": {
    "colab": {
      "provenance": [],
      "authorship_tag": "ABX9TyN+U7Jn8tusKfI9+PvjHjQ1",
      "include_colab_link": true
    },
    "kernelspec": {
      "name": "python3",
      "display_name": "Python 3"
    },
    "language_info": {
      "name": "python"
    }
  },
  "cells": [
    {
      "cell_type": "markdown",
      "metadata": {
        "id": "view-in-github",
        "colab_type": "text"
      },
      "source": [
        "<a href=\"https://colab.research.google.com/github/svetaepc/ds_py/blob/master/match_dz_1.ipynb\" target=\"_parent\"><img src=\"https://colab.research.google.com/assets/colab-badge.svg\" alt=\"Open In Colab\"/></a>"
      ]
    },
    {
      "cell_type": "code",
      "execution_count": 1,
      "metadata": {
        "colab": {
          "base_uri": "https://localhost:8080/"
        },
        "id": "cOZRKpy_CWsm",
        "outputId": "15e3242a-341f-4d59-ed36-64581165125a"
      },
      "outputs": [
        {
          "output_type": "stream",
          "name": "stdout",
          "text": [
            "0.40824829046386296\n"
          ]
        }
      ],
      "source": [
        "import numpy as np\n",
        "\n",
        "# Определяем вектора\n",
        "film_1 = np.array([0,0,0,0,1,0])      # Игра в имитацию\n",
        "\n",
        "film_2 = np.array([0,1,0,1,0,0])      # Ярость\n",
        "\n",
        "film_3 = np.array([0,0,1,1,1,0])      # 12 лет рабства\n",
        "\n",
        "film_4 = np.array([1,0,0,1,0,1])      # Однажды в Голливуде\n",
        "\n",
        "# Вычисляем длины векторов\n",
        "len_film_2 = np.linalg.norm(film_2)\n",
        "len_film_3 = np.linalg.norm(film_3)\n",
        "\n",
        "# Вычисляем скалярное произведение векторов\n",
        "dot_product = np.dot(film_2, film_3)\n",
        "\n",
        "# Вычисляем косинусную меру\n",
        "cosine_similarity = dot_product / (len_film_2 * len_film_3)\n",
        "\n",
        "# Выводим результат\n",
        "print(cosine_similarity)"
      ]
    },
    {
      "cell_type": "code",
      "source": [
        "import sympy\n",
        "\n",
        "# Объявляем переменные x, a, b, c\n",
        "x, a, b, c = sympy.symbols('x a b c')\n",
        "\n",
        "# Задаем функцию\n",
        "# y = a*x**2 + b*x + c\n",
        "\n",
        "y = 3*x*(x**2 + x)**3\n",
        "\n",
        "# y = 3*x*(x**2 + x)*(x**2 + x)*(x**2 + x)\n",
        "# Вычисляем первую производную\n",
        "dy_dx = sympy.diff(y, x)\n",
        "\n",
        "\n",
        "x_val = 1\n",
        "\n",
        "# Вычисляем значение первой производной в точке x_val\n",
        "# \n",
        "dy_dx_val = dy_dx.evalf(subs={x:x_val})\n",
        "\n",
        "# Выводим результат\n",
        "print(dy_dx_val)"
      ],
      "metadata": {
        "colab": {
          "base_uri": "https://localhost:8080/"
        },
        "id": "2QSsNjoDDllC",
        "outputId": "0405ca71-5a57-4c91-d90d-64a1e418f4c4"
      },
      "execution_count": 5,
      "outputs": [
        {
          "output_type": "stream",
          "name": "stdout",
          "text": [
            "132.000000000000\n"
          ]
        }
      ]
    },
    {
      "cell_type": "code",
      "source": [
        "film_1 = np.array([0,0,0,0,1,0])      # Игра в имитацию\n",
        "\n",
        "film_2 = np.array([0,1,0,1,0,0])      # Ярость\n",
        "\n",
        "film_3 = np.array([0,0,1,1,1,0])      # 12 лет рабства\n",
        "\n",
        "film_4 = np.array([1,0,0,1,0,1])      # Однажды в Голливуде\n",
        "\n",
        "# Объединяем векторы в матрицу, где каждый вектор является строкой матрицы\n",
        "matrix = np.array([film_1, film_2, film_3, film_4])\n",
        "\n",
        "# Умножаем вектор [1, 2, 3, 4] на полученную матрицу\n",
        "result = np.dot(np.array([1, 2, 3, 4]), matrix)\n",
        "\n",
        "# Выводим результат\n",
        "print(result)"
      ],
      "metadata": {
        "colab": {
          "base_uri": "https://localhost:8080/"
        },
        "id": "m-NmbapNGcCP",
        "outputId": "f87790af-9708-434c-cd03-be39690e4c2e"
      },
      "execution_count": 6,
      "outputs": [
        {
          "output_type": "stream",
          "name": "stdout",
          "text": [
            "[4 2 3 9 4 4]\n"
          ]
        }
      ]
    },
    {
      "cell_type": "code",
      "source": [],
      "metadata": {
        "id": "IOI-7maYHRnz"
      },
      "execution_count": null,
      "outputs": []
    }
  ]
}