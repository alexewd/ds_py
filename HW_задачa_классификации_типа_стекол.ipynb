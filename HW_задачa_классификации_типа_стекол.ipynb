{
  "cells": [
    {
      "cell_type": "markdown",
      "metadata": {
        "id": "view-in-github",
        "colab_type": "text"
      },
      "source": [
        "<a href=\"https://colab.research.google.com/github/svetaepc/ds_py/blob/master/HW_%D0%B7%D0%B0%D0%B4%D0%B0%D1%87a_%D0%BA%D0%BB%D0%B0%D1%81%D1%81%D0%B8%D1%84%D0%B8%D0%BA%D0%B0%D1%86%D0%B8%D0%B8_%D1%82%D0%B8%D0%BF%D0%B0_%D1%81%D1%82%D0%B5%D0%BA%D0%BE%D0%BB.ipynb\" target=\"_parent\"><img src=\"https://colab.research.google.com/assets/colab-badge.svg\" alt=\"Open In Colab\"/></a>"
      ]
    },
    {
      "metadata": {
        "trusted": true,
        "id": "DgPeCFd3_NwJ"
      },
      "cell_type": "code",
      "source": [
        "import pandas as pd\n",
        "import numpy as np\n",
        "import matplotlib.pyplot as plt\n",
        "%matplotlib inline"
      ],
      "execution_count": 1,
      "outputs": []
    },
    {
      "metadata": {
        "trusted": true,
        "id": "dOa9I5ZL_NwT"
      },
      "cell_type": "code",
      "source": [
        "from sklearn.model_selection import train_test_split\n",
        "from sklearn.ensemble import RandomForestClassifier\n",
        "from sklearn.model_selection import GridSearchCV"
      ],
      "execution_count": 2,
      "outputs": []
    },
    {
      "cell_type": "code",
      "source": [
        "!pip install matplotlib-venn"
      ],
      "metadata": {
        "id": "krTm0ar7BYbM"
      },
      "execution_count": null,
      "outputs": []
    },
    {
      "metadata": {
        "trusted": true,
        "id": "SgC0eJid_NwU"
      },
      "cell_type": "code",
      "source": [
        "from sklearn.utils import compute_class_weight\n",
        "from sklearn.metrics import confusion_matrix\n",
        "from sklearn.metrics import mean_squared_error\n",
        "from sklearn.metrics import ConfusionMatrixDisplay\n",
        "# sklearn.metrics.ConfusionMatrixDisplay\n",
        "# from sklearn.metrics import plot_precision_recall_curve\n",
        "from sklearn.metrics import precision_recall_curve\n",
        "from sklearn.metrics import RocCurveDisplay\n",
        "# from sklearn.metrics import plot_roc_curve\n",
        "from sklearn.metrics import precision_score\n",
        "from sklearn.metrics import recall_score\n",
        "from sklearn.metrics import accuracy_score\n",
        "from sklearn.metrics import f1_score"
      ],
      "execution_count": 6,
      "outputs": []
    },
    {
      "cell_type": "code",
      "source": [
        "from google.colab import drive\n",
        "drive.mount('/content/drive', force_remount=True)\n",
        "\n",
        "data = pd.read_csv('/content/drive/MyDrive/glass.csv')\n",
        "\n",
        "data.sample(6)"
      ],
      "metadata": {
        "colab": {
          "base_uri": "https://localhost:8080/",
          "height": 256
        },
        "id": "iNQmq7MeAlVf",
        "outputId": "f04cf89e-d9be-4350-ad7a-ed9776e34264"
      },
      "execution_count": 7,
      "outputs": [
        {
          "output_type": "stream",
          "name": "stdout",
          "text": [
            "Mounted at /content/drive\n"
          ]
        },
        {
          "output_type": "execute_result",
          "data": {
            "text/plain": [
              "          RI     Na    Mg    Al     Si     K    Ca    Ba    Fe  Type\n",
              "120  1.51844  13.25  3.76  1.32  72.40  0.58  8.42  0.00  0.00     2\n",
              "148  1.51670  13.24  3.57  1.38  72.70  0.56  8.44  0.00  0.10     3\n",
              "140  1.51690  13.33  3.54  1.61  72.54  0.68  8.11  0.00  0.00     2\n",
              "123  1.51707  13.48  3.48  1.71  72.52  0.62  7.99  0.00  0.00     2\n",
              "210  1.51685  14.92  0.00  1.99  73.06  0.00  8.40  1.59  0.00     7\n",
              "12   1.51589  12.88  3.43  1.40  73.28  0.69  8.05  0.00  0.24     1"
            ],
            "text/html": [
              "\n",
              "  <div id=\"df-18c15720-90ff-4aa6-bb8e-6e3a268e3d30\">\n",
              "    <div class=\"colab-df-container\">\n",
              "      <div>\n",
              "<style scoped>\n",
              "    .dataframe tbody tr th:only-of-type {\n",
              "        vertical-align: middle;\n",
              "    }\n",
              "\n",
              "    .dataframe tbody tr th {\n",
              "        vertical-align: top;\n",
              "    }\n",
              "\n",
              "    .dataframe thead th {\n",
              "        text-align: right;\n",
              "    }\n",
              "</style>\n",
              "<table border=\"1\" class=\"dataframe\">\n",
              "  <thead>\n",
              "    <tr style=\"text-align: right;\">\n",
              "      <th></th>\n",
              "      <th>RI</th>\n",
              "      <th>Na</th>\n",
              "      <th>Mg</th>\n",
              "      <th>Al</th>\n",
              "      <th>Si</th>\n",
              "      <th>K</th>\n",
              "      <th>Ca</th>\n",
              "      <th>Ba</th>\n",
              "      <th>Fe</th>\n",
              "      <th>Type</th>\n",
              "    </tr>\n",
              "  </thead>\n",
              "  <tbody>\n",
              "    <tr>\n",
              "      <th>120</th>\n",
              "      <td>1.51844</td>\n",
              "      <td>13.25</td>\n",
              "      <td>3.76</td>\n",
              "      <td>1.32</td>\n",
              "      <td>72.40</td>\n",
              "      <td>0.58</td>\n",
              "      <td>8.42</td>\n",
              "      <td>0.00</td>\n",
              "      <td>0.00</td>\n",
              "      <td>2</td>\n",
              "    </tr>\n",
              "    <tr>\n",
              "      <th>148</th>\n",
              "      <td>1.51670</td>\n",
              "      <td>13.24</td>\n",
              "      <td>3.57</td>\n",
              "      <td>1.38</td>\n",
              "      <td>72.70</td>\n",
              "      <td>0.56</td>\n",
              "      <td>8.44</td>\n",
              "      <td>0.00</td>\n",
              "      <td>0.10</td>\n",
              "      <td>3</td>\n",
              "    </tr>\n",
              "    <tr>\n",
              "      <th>140</th>\n",
              "      <td>1.51690</td>\n",
              "      <td>13.33</td>\n",
              "      <td>3.54</td>\n",
              "      <td>1.61</td>\n",
              "      <td>72.54</td>\n",
              "      <td>0.68</td>\n",
              "      <td>8.11</td>\n",
              "      <td>0.00</td>\n",
              "      <td>0.00</td>\n",
              "      <td>2</td>\n",
              "    </tr>\n",
              "    <tr>\n",
              "      <th>123</th>\n",
              "      <td>1.51707</td>\n",
              "      <td>13.48</td>\n",
              "      <td>3.48</td>\n",
              "      <td>1.71</td>\n",
              "      <td>72.52</td>\n",
              "      <td>0.62</td>\n",
              "      <td>7.99</td>\n",
              "      <td>0.00</td>\n",
              "      <td>0.00</td>\n",
              "      <td>2</td>\n",
              "    </tr>\n",
              "    <tr>\n",
              "      <th>210</th>\n",
              "      <td>1.51685</td>\n",
              "      <td>14.92</td>\n",
              "      <td>0.00</td>\n",
              "      <td>1.99</td>\n",
              "      <td>73.06</td>\n",
              "      <td>0.00</td>\n",
              "      <td>8.40</td>\n",
              "      <td>1.59</td>\n",
              "      <td>0.00</td>\n",
              "      <td>7</td>\n",
              "    </tr>\n",
              "    <tr>\n",
              "      <th>12</th>\n",
              "      <td>1.51589</td>\n",
              "      <td>12.88</td>\n",
              "      <td>3.43</td>\n",
              "      <td>1.40</td>\n",
              "      <td>73.28</td>\n",
              "      <td>0.69</td>\n",
              "      <td>8.05</td>\n",
              "      <td>0.00</td>\n",
              "      <td>0.24</td>\n",
              "      <td>1</td>\n",
              "    </tr>\n",
              "  </tbody>\n",
              "</table>\n",
              "</div>\n",
              "      <button class=\"colab-df-convert\" onclick=\"convertToInteractive('df-18c15720-90ff-4aa6-bb8e-6e3a268e3d30')\"\n",
              "              title=\"Convert this dataframe to an interactive table.\"\n",
              "              style=\"display:none;\">\n",
              "        \n",
              "  <svg xmlns=\"http://www.w3.org/2000/svg\" height=\"24px\"viewBox=\"0 0 24 24\"\n",
              "       width=\"24px\">\n",
              "    <path d=\"M0 0h24v24H0V0z\" fill=\"none\"/>\n",
              "    <path d=\"M18.56 5.44l.94 2.06.94-2.06 2.06-.94-2.06-.94-.94-2.06-.94 2.06-2.06.94zm-11 1L8.5 8.5l.94-2.06 2.06-.94-2.06-.94L8.5 2.5l-.94 2.06-2.06.94zm10 10l.94 2.06.94-2.06 2.06-.94-2.06-.94-.94-2.06-.94 2.06-2.06.94z\"/><path d=\"M17.41 7.96l-1.37-1.37c-.4-.4-.92-.59-1.43-.59-.52 0-1.04.2-1.43.59L10.3 9.45l-7.72 7.72c-.78.78-.78 2.05 0 2.83L4 21.41c.39.39.9.59 1.41.59.51 0 1.02-.2 1.41-.59l7.78-7.78 2.81-2.81c.8-.78.8-2.07 0-2.86zM5.41 20L4 18.59l7.72-7.72 1.47 1.35L5.41 20z\"/>\n",
              "  </svg>\n",
              "      </button>\n",
              "      \n",
              "  <style>\n",
              "    .colab-df-container {\n",
              "      display:flex;\n",
              "      flex-wrap:wrap;\n",
              "      gap: 12px;\n",
              "    }\n",
              "\n",
              "    .colab-df-convert {\n",
              "      background-color: #E8F0FE;\n",
              "      border: none;\n",
              "      border-radius: 50%;\n",
              "      cursor: pointer;\n",
              "      display: none;\n",
              "      fill: #1967D2;\n",
              "      height: 32px;\n",
              "      padding: 0 0 0 0;\n",
              "      width: 32px;\n",
              "    }\n",
              "\n",
              "    .colab-df-convert:hover {\n",
              "      background-color: #E2EBFA;\n",
              "      box-shadow: 0px 1px 2px rgba(60, 64, 67, 0.3), 0px 1px 3px 1px rgba(60, 64, 67, 0.15);\n",
              "      fill: #174EA6;\n",
              "    }\n",
              "\n",
              "    [theme=dark] .colab-df-convert {\n",
              "      background-color: #3B4455;\n",
              "      fill: #D2E3FC;\n",
              "    }\n",
              "\n",
              "    [theme=dark] .colab-df-convert:hover {\n",
              "      background-color: #434B5C;\n",
              "      box-shadow: 0px 1px 3px 1px rgba(0, 0, 0, 0.15);\n",
              "      filter: drop-shadow(0px 1px 2px rgba(0, 0, 0, 0.3));\n",
              "      fill: #FFFFFF;\n",
              "    }\n",
              "  </style>\n",
              "\n",
              "      <script>\n",
              "        const buttonEl =\n",
              "          document.querySelector('#df-18c15720-90ff-4aa6-bb8e-6e3a268e3d30 button.colab-df-convert');\n",
              "        buttonEl.style.display =\n",
              "          google.colab.kernel.accessAllowed ? 'block' : 'none';\n",
              "\n",
              "        async function convertToInteractive(key) {\n",
              "          const element = document.querySelector('#df-18c15720-90ff-4aa6-bb8e-6e3a268e3d30');\n",
              "          const dataTable =\n",
              "            await google.colab.kernel.invokeFunction('convertToInteractive',\n",
              "                                                     [key], {});\n",
              "          if (!dataTable) return;\n",
              "\n",
              "          const docLinkHtml = 'Like what you see? Visit the ' +\n",
              "            '<a target=\"_blank\" href=https://colab.research.google.com/notebooks/data_table.ipynb>data table notebook</a>'\n",
              "            + ' to learn more about interactive tables.';\n",
              "          element.innerHTML = '';\n",
              "          dataTable['output_type'] = 'display_data';\n",
              "          await google.colab.output.renderOutput(dataTable, element);\n",
              "          const docLink = document.createElement('div');\n",
              "          docLink.innerHTML = docLinkHtml;\n",
              "          element.appendChild(docLink);\n",
              "        }\n",
              "      </script>\n",
              "    </div>\n",
              "  </div>\n",
              "  "
            ]
          },
          "metadata": {},
          "execution_count": 7
        }
      ]
    },
    {
      "metadata": {
        "trusted": true,
        "colab": {
          "base_uri": "https://localhost:8080/"
        },
        "id": "e4ZrERAS_NwX",
        "outputId": "87db163b-6faa-490c-cdfc-652aa87669b7"
      },
      "cell_type": "code",
      "source": [
        "# Check for missing values\n",
        "print(data.isnull().sum())"
      ],
      "execution_count": 8,
      "outputs": [
        {
          "output_type": "stream",
          "name": "stdout",
          "text": [
            "RI      0\n",
            "Na      0\n",
            "Mg      0\n",
            "Al      0\n",
            "Si      0\n",
            "K       0\n",
            "Ca      0\n",
            "Ba      0\n",
            "Fe      0\n",
            "Type    0\n",
            "dtype: int64\n"
          ]
        }
      ]
    },
    {
      "metadata": {
        "trusted": true,
        "id": "EtK6FJmn_NwZ"
      },
      "cell_type": "code",
      "source": [
        "features = data.iloc[:,np.r_[0:9]]\n",
        "labels = data.iloc[:,9]"
      ],
      "execution_count": 9,
      "outputs": []
    },
    {
      "metadata": {
        "trusted": true,
        "colab": {
          "base_uri": "https://localhost:8080/",
          "height": 206
        },
        "id": "IkGxrz0c_Nwa",
        "outputId": "8f97215f-b2b3-442c-9783-3ad6eefcd439"
      },
      "cell_type": "code",
      "source": [
        "features.head()"
      ],
      "execution_count": 10,
      "outputs": [
        {
          "output_type": "execute_result",
          "data": {
            "text/plain": [
              "        RI     Na    Mg    Al     Si     K    Ca   Ba   Fe\n",
              "0  1.52101  13.64  4.49  1.10  71.78  0.06  8.75  0.0  0.0\n",
              "1  1.51761  13.89  3.60  1.36  72.73  0.48  7.83  0.0  0.0\n",
              "2  1.51618  13.53  3.55  1.54  72.99  0.39  7.78  0.0  0.0\n",
              "3  1.51766  13.21  3.69  1.29  72.61  0.57  8.22  0.0  0.0\n",
              "4  1.51742  13.27  3.62  1.24  73.08  0.55  8.07  0.0  0.0"
            ],
            "text/html": [
              "\n",
              "  <div id=\"df-045db93b-84ec-43db-8edb-eb972435f046\">\n",
              "    <div class=\"colab-df-container\">\n",
              "      <div>\n",
              "<style scoped>\n",
              "    .dataframe tbody tr th:only-of-type {\n",
              "        vertical-align: middle;\n",
              "    }\n",
              "\n",
              "    .dataframe tbody tr th {\n",
              "        vertical-align: top;\n",
              "    }\n",
              "\n",
              "    .dataframe thead th {\n",
              "        text-align: right;\n",
              "    }\n",
              "</style>\n",
              "<table border=\"1\" class=\"dataframe\">\n",
              "  <thead>\n",
              "    <tr style=\"text-align: right;\">\n",
              "      <th></th>\n",
              "      <th>RI</th>\n",
              "      <th>Na</th>\n",
              "      <th>Mg</th>\n",
              "      <th>Al</th>\n",
              "      <th>Si</th>\n",
              "      <th>K</th>\n",
              "      <th>Ca</th>\n",
              "      <th>Ba</th>\n",
              "      <th>Fe</th>\n",
              "    </tr>\n",
              "  </thead>\n",
              "  <tbody>\n",
              "    <tr>\n",
              "      <th>0</th>\n",
              "      <td>1.52101</td>\n",
              "      <td>13.64</td>\n",
              "      <td>4.49</td>\n",
              "      <td>1.10</td>\n",
              "      <td>71.78</td>\n",
              "      <td>0.06</td>\n",
              "      <td>8.75</td>\n",
              "      <td>0.0</td>\n",
              "      <td>0.0</td>\n",
              "    </tr>\n",
              "    <tr>\n",
              "      <th>1</th>\n",
              "      <td>1.51761</td>\n",
              "      <td>13.89</td>\n",
              "      <td>3.60</td>\n",
              "      <td>1.36</td>\n",
              "      <td>72.73</td>\n",
              "      <td>0.48</td>\n",
              "      <td>7.83</td>\n",
              "      <td>0.0</td>\n",
              "      <td>0.0</td>\n",
              "    </tr>\n",
              "    <tr>\n",
              "      <th>2</th>\n",
              "      <td>1.51618</td>\n",
              "      <td>13.53</td>\n",
              "      <td>3.55</td>\n",
              "      <td>1.54</td>\n",
              "      <td>72.99</td>\n",
              "      <td>0.39</td>\n",
              "      <td>7.78</td>\n",
              "      <td>0.0</td>\n",
              "      <td>0.0</td>\n",
              "    </tr>\n",
              "    <tr>\n",
              "      <th>3</th>\n",
              "      <td>1.51766</td>\n",
              "      <td>13.21</td>\n",
              "      <td>3.69</td>\n",
              "      <td>1.29</td>\n",
              "      <td>72.61</td>\n",
              "      <td>0.57</td>\n",
              "      <td>8.22</td>\n",
              "      <td>0.0</td>\n",
              "      <td>0.0</td>\n",
              "    </tr>\n",
              "    <tr>\n",
              "      <th>4</th>\n",
              "      <td>1.51742</td>\n",
              "      <td>13.27</td>\n",
              "      <td>3.62</td>\n",
              "      <td>1.24</td>\n",
              "      <td>73.08</td>\n",
              "      <td>0.55</td>\n",
              "      <td>8.07</td>\n",
              "      <td>0.0</td>\n",
              "      <td>0.0</td>\n",
              "    </tr>\n",
              "  </tbody>\n",
              "</table>\n",
              "</div>\n",
              "      <button class=\"colab-df-convert\" onclick=\"convertToInteractive('df-045db93b-84ec-43db-8edb-eb972435f046')\"\n",
              "              title=\"Convert this dataframe to an interactive table.\"\n",
              "              style=\"display:none;\">\n",
              "        \n",
              "  <svg xmlns=\"http://www.w3.org/2000/svg\" height=\"24px\"viewBox=\"0 0 24 24\"\n",
              "       width=\"24px\">\n",
              "    <path d=\"M0 0h24v24H0V0z\" fill=\"none\"/>\n",
              "    <path d=\"M18.56 5.44l.94 2.06.94-2.06 2.06-.94-2.06-.94-.94-2.06-.94 2.06-2.06.94zm-11 1L8.5 8.5l.94-2.06 2.06-.94-2.06-.94L8.5 2.5l-.94 2.06-2.06.94zm10 10l.94 2.06.94-2.06 2.06-.94-2.06-.94-.94-2.06-.94 2.06-2.06.94z\"/><path d=\"M17.41 7.96l-1.37-1.37c-.4-.4-.92-.59-1.43-.59-.52 0-1.04.2-1.43.59L10.3 9.45l-7.72 7.72c-.78.78-.78 2.05 0 2.83L4 21.41c.39.39.9.59 1.41.59.51 0 1.02-.2 1.41-.59l7.78-7.78 2.81-2.81c.8-.78.8-2.07 0-2.86zM5.41 20L4 18.59l7.72-7.72 1.47 1.35L5.41 20z\"/>\n",
              "  </svg>\n",
              "      </button>\n",
              "      \n",
              "  <style>\n",
              "    .colab-df-container {\n",
              "      display:flex;\n",
              "      flex-wrap:wrap;\n",
              "      gap: 12px;\n",
              "    }\n",
              "\n",
              "    .colab-df-convert {\n",
              "      background-color: #E8F0FE;\n",
              "      border: none;\n",
              "      border-radius: 50%;\n",
              "      cursor: pointer;\n",
              "      display: none;\n",
              "      fill: #1967D2;\n",
              "      height: 32px;\n",
              "      padding: 0 0 0 0;\n",
              "      width: 32px;\n",
              "    }\n",
              "\n",
              "    .colab-df-convert:hover {\n",
              "      background-color: #E2EBFA;\n",
              "      box-shadow: 0px 1px 2px rgba(60, 64, 67, 0.3), 0px 1px 3px 1px rgba(60, 64, 67, 0.15);\n",
              "      fill: #174EA6;\n",
              "    }\n",
              "\n",
              "    [theme=dark] .colab-df-convert {\n",
              "      background-color: #3B4455;\n",
              "      fill: #D2E3FC;\n",
              "    }\n",
              "\n",
              "    [theme=dark] .colab-df-convert:hover {\n",
              "      background-color: #434B5C;\n",
              "      box-shadow: 0px 1px 3px 1px rgba(0, 0, 0, 0.15);\n",
              "      filter: drop-shadow(0px 1px 2px rgba(0, 0, 0, 0.3));\n",
              "      fill: #FFFFFF;\n",
              "    }\n",
              "  </style>\n",
              "\n",
              "      <script>\n",
              "        const buttonEl =\n",
              "          document.querySelector('#df-045db93b-84ec-43db-8edb-eb972435f046 button.colab-df-convert');\n",
              "        buttonEl.style.display =\n",
              "          google.colab.kernel.accessAllowed ? 'block' : 'none';\n",
              "\n",
              "        async function convertToInteractive(key) {\n",
              "          const element = document.querySelector('#df-045db93b-84ec-43db-8edb-eb972435f046');\n",
              "          const dataTable =\n",
              "            await google.colab.kernel.invokeFunction('convertToInteractive',\n",
              "                                                     [key], {});\n",
              "          if (!dataTable) return;\n",
              "\n",
              "          const docLinkHtml = 'Like what you see? Visit the ' +\n",
              "            '<a target=\"_blank\" href=https://colab.research.google.com/notebooks/data_table.ipynb>data table notebook</a>'\n",
              "            + ' to learn more about interactive tables.';\n",
              "          element.innerHTML = '';\n",
              "          dataTable['output_type'] = 'display_data';\n",
              "          await google.colab.output.renderOutput(dataTable, element);\n",
              "          const docLink = document.createElement('div');\n",
              "          docLink.innerHTML = docLinkHtml;\n",
              "          element.appendChild(docLink);\n",
              "        }\n",
              "      </script>\n",
              "    </div>\n",
              "  </div>\n",
              "  "
            ]
          },
          "metadata": {},
          "execution_count": 10
        }
      ]
    },
    {
      "metadata": {
        "trusted": true,
        "colab": {
          "base_uri": "https://localhost:8080/"
        },
        "id": "hThnDJAM_Nwb",
        "outputId": "be2e4f96-2f6d-40aa-bcf5-d8eebaccc6e2"
      },
      "cell_type": "code",
      "source": [
        "labels.unique()"
      ],
      "execution_count": 11,
      "outputs": [
        {
          "output_type": "execute_result",
          "data": {
            "text/plain": [
              "array([1, 2, 3, 5, 6, 7])"
            ]
          },
          "metadata": {},
          "execution_count": 11
        }
      ]
    },
    {
      "metadata": {
        "trusted": true,
        "colab": {
          "base_uri": "https://localhost:8080/"
        },
        "id": "TOHhy53r_Nwd",
        "outputId": "279e1700-6872-4453-b067-a1ff278667bb"
      },
      "cell_type": "code",
      "source": [
        "data.Type.value_counts()"
      ],
      "execution_count": 12,
      "outputs": [
        {
          "output_type": "execute_result",
          "data": {
            "text/plain": [
              "2    76\n",
              "1    70\n",
              "7    29\n",
              "3    17\n",
              "5    13\n",
              "6     9\n",
              "Name: Type, dtype: int64"
            ]
          },
          "metadata": {},
          "execution_count": 12
        }
      ]
    },
    {
      "metadata": {
        "trusted": true,
        "colab": {
          "base_uri": "https://localhost:8080/"
        },
        "id": "4bRJxLlw_Nwe",
        "outputId": "f976f983-94dd-484d-d97d-7b96ec26e6dd"
      },
      "cell_type": "code",
      "source": [
        "data['Type'].unique()"
      ],
      "execution_count": 13,
      "outputs": [
        {
          "output_type": "execute_result",
          "data": {
            "text/plain": [
              "array([1, 2, 3, 5, 6, 7])"
            ]
          },
          "metadata": {},
          "execution_count": 13
        }
      ]
    },
    {
      "metadata": {
        "trusted": true,
        "id": "L3AodTtu_Nwf"
      },
      "cell_type": "code",
      "source": [
        "X_train, X_test, y_train, y_test = train_test_split(features, labels, random_state=20, test_size=0.3)"
      ],
      "execution_count": 14,
      "outputs": []
    },
    {
      "metadata": {
        "trusted": true,
        "colab": {
          "base_uri": "https://localhost:8080/"
        },
        "id": "70rzy1uu_Nwg",
        "outputId": "ba228df3-2677-4105-8f07-0b8ee32c6b69"
      },
      "cell_type": "code",
      "source": [
        "class_weights = compute_class_weight(class_weight='balanced', classes=np.unique(data['Type']), y=data['Type'])\n",
        "class_weights_dict = dict(enumerate(class_weights))\n",
        "class_weights_dict"
      ],
      "execution_count": 15,
      "outputs": [
        {
          "output_type": "execute_result",
          "data": {
            "text/plain": [
              "{0: 0.5095238095238095,\n",
              " 1: 0.4692982456140351,\n",
              " 2: 2.0980392156862746,\n",
              " 3: 2.7435897435897436,\n",
              " 4: 3.962962962962963,\n",
              " 5: 1.2298850574712643}"
            ]
          },
          "metadata": {},
          "execution_count": 15
        }
      ]
    },
    {
      "metadata": {
        "trusted": true,
        "colab": {
          "base_uri": "https://localhost:8080/"
        },
        "id": "A70y_732_Nwh",
        "outputId": "79fa0ac3-5a7a-4a71-aa12-71bd3a61d554"
      },
      "cell_type": "code",
      "source": [
        "old_keys = [0,1,2,3,4,5]\n",
        "new_keys = [1,2,3,5,6,7]\n",
        "weights_final = dict(zip(new_keys, list(class_weights_dict.values()))) \n",
        "#class_weights_dict[new_keys] = class_weights_dict.pop(old_keys)\n",
        "#class_weights_dict.keys()\n",
        "weights_final"
      ],
      "execution_count": 16,
      "outputs": [
        {
          "output_type": "execute_result",
          "data": {
            "text/plain": [
              "{1: 0.5095238095238095,\n",
              " 2: 0.4692982456140351,\n",
              " 3: 2.0980392156862746,\n",
              " 5: 2.7435897435897436,\n",
              " 6: 3.962962962962963,\n",
              " 7: 1.2298850574712643}"
            ]
          },
          "metadata": {},
          "execution_count": 16
        }
      ]
    },
    {
      "metadata": {
        "trusted": true,
        "colab": {
          "base_uri": "https://localhost:8080/",
          "height": 1000
        },
        "id": "1NVzkAey_Nwi",
        "outputId": "72ff7ad0-4111-40a9-88ea-cf3605b9f557"
      },
      "cell_type": "code",
      "source": [
        "rf_classifier = RandomForestClassifier()\n",
        "\n",
        "param_grid = [\n",
        "    {'n_estimators': [10, 20, 30, 50, 70, 80, 100, 120, 150, 180, 200, 220, 280, 320], \n",
        "     'max_features': ['auto','sqrt','log2'], \n",
        "      'oob_score':[True, False], 'bootstrap':[True, False], \n",
        "     'class_weight':[None, 'balanced'], 'criterion':['gini', 'entropy']}\n",
        "] # a list of dictionaries\n",
        "\n",
        "grid_search = GridSearchCV(rf_classifier, param_grid, cv=5, return_train_score=True, n_jobs=-1)\n",
        "grid_search.fit(X_train, y_train)"
      ],
      "execution_count": 17,
      "outputs": [
        {
          "output_type": "stream",
          "name": "stderr",
          "text": [
            "/usr/local/lib/python3.9/dist-packages/sklearn/model_selection/_validation.py:378: FitFailedWarning: \n",
            "840 fits failed out of a total of 3360.\n",
            "The score on these train-test partitions for these parameters will be set to nan.\n",
            "If these failures are not expected, you can try to debug them by setting error_score='raise'.\n",
            "\n",
            "Below are more details about the failures:\n",
            "--------------------------------------------------------------------------------\n",
            "840 fits failed with the following error:\n",
            "Traceback (most recent call last):\n",
            "  File \"/usr/local/lib/python3.9/dist-packages/sklearn/model_selection/_validation.py\", line 686, in _fit_and_score\n",
            "    estimator.fit(X_train, y_train, **fit_params)\n",
            "  File \"/usr/local/lib/python3.9/dist-packages/sklearn/ensemble/_forest.py\", line 434, in fit\n",
            "    raise ValueError(\"Out of bag estimation only available if bootstrap=True\")\n",
            "ValueError: Out of bag estimation only available if bootstrap=True\n",
            "\n",
            "  warnings.warn(some_fits_failed_message, FitFailedWarning)\n",
            "/usr/local/lib/python3.9/dist-packages/sklearn/model_selection/_search.py:952: UserWarning: One or more of the test scores are non-finite: [0.74436782 0.75103448 0.73126437 0.74482759 0.75862069 0.7783908\n",
            " 0.75816092 0.76505747 0.7583908  0.75793103 0.77172414 0.7783908\n",
            " 0.77149425 0.77126437 0.75103448 0.77172414 0.77816092 0.7783908\n",
            " 0.79172414 0.79149425 0.77816092 0.7645977  0.75126437 0.78482759\n",
            " 0.78482759 0.78528736 0.77149425 0.7783908  0.73103448 0.68436782\n",
            " 0.7245977  0.75793103 0.7583908  0.73816092 0.77172414 0.74413793\n",
            " 0.77172414 0.76505747 0.76482759 0.75793103 0.77149425 0.7445977\n",
            " 0.79195402 0.79172414 0.76505747 0.7445977  0.75172414 0.77149425\n",
            " 0.77149425 0.77770115 0.77172414 0.75172414 0.77816092 0.78528736\n",
            " 0.78528736 0.75126437 0.73816092 0.73172414 0.7583908  0.74528736\n",
            " 0.75172414 0.77195402 0.74505747 0.75149425 0.74436782 0.77816092\n",
            " 0.77126437 0.75172414 0.7783908  0.77770115 0.77172414 0.7783908\n",
            " 0.76482759 0.76482759 0.75126437 0.77149425 0.7783908  0.78482759\n",
            " 0.76482759 0.76482759 0.79195402 0.76482759 0.77149425 0.7645977\n",
            " 0.72482759 0.73816092 0.77126437 0.75816092 0.75770115 0.77126437\n",
            " 0.75126437 0.75816092 0.75816092 0.75793103 0.77770115 0.75103448\n",
            " 0.78482759 0.76436782 0.75770115 0.77172414 0.78482759 0.77770115\n",
            " 0.7783908  0.75793103 0.75770115 0.76436782 0.77126437 0.78436782\n",
            " 0.78436782 0.76436782 0.77103448 0.75770115 0.73126437 0.77126437\n",
            " 0.7645977  0.69793103 0.79103448 0.77816092 0.7508046  0.75816092\n",
            " 0.75126437 0.75103448 0.77149425 0.77103448 0.77103448 0.75126437\n",
            " 0.77126437 0.77103448 0.7645977  0.75770115 0.77126437 0.7645977\n",
            " 0.77103448 0.78436782 0.75770115 0.76482759 0.77793103 0.77149425\n",
            " 0.75770115 0.77770115 0.7645977  0.72413793 0.75793103 0.77816092\n",
            " 0.75126437 0.73149425 0.79172414 0.75793103 0.75103448 0.77126437\n",
            " 0.75793103 0.73126437 0.74413793 0.77126437 0.77103448 0.77126437\n",
            " 0.74436782 0.77793103 0.77126437 0.7845977  0.75770115 0.77793103\n",
            " 0.77103448 0.77770115 0.76436782 0.77770115 0.7645977  0.7645977\n",
            " 0.71793103 0.75816092 0.73816092 0.75770115 0.71793103 0.78528736\n",
            " 0.77816092 0.77172414 0.75770115 0.78505747 0.75816092 0.79149425\n",
            " 0.77816092 0.77103448 0.75126437 0.77816092 0.7645977  0.77126437\n",
            " 0.77126437 0.77126437 0.77816092 0.77126437 0.77126437 0.77793103\n",
            " 0.77816092 0.78482759 0.77126437 0.77816092 0.73816092 0.70436782\n",
            " 0.74436782 0.7508046  0.75793103 0.75149425 0.76528736 0.79816092\n",
            " 0.77126437 0.77126437 0.77126437 0.77816092 0.77816092 0.78505747\n",
            " 0.7645977  0.78482759 0.7645977  0.77149425 0.77126437 0.7645977\n",
            " 0.77103448 0.77816092 0.75793103 0.75770115 0.77816092 0.77816092\n",
            " 0.77126437 0.77126437 0.67747126 0.7445977  0.7645977  0.73103448\n",
            " 0.74413793 0.75126437 0.77149425 0.77126437 0.78505747 0.75770115\n",
            " 0.74436782 0.77126437 0.7645977  0.7645977  0.76436782 0.77149425\n",
            " 0.76482759 0.77126437 0.77126437 0.7845977  0.77126437 0.77149425\n",
            " 0.77793103 0.77126437 0.77793103 0.78482759 0.77793103 0.75770115\n",
            " 0.73770115 0.73149425 0.71770115 0.75103448 0.72436782 0.7645977\n",
            " 0.7445977  0.75816092 0.74413793 0.75793103 0.75770115 0.79126437\n",
            " 0.7845977  0.77793103 0.76436782 0.75770115 0.78482759 0.75103448\n",
            " 0.77770115 0.77103448 0.77793103 0.77103448 0.77770115 0.76413793\n",
            " 0.77793103 0.7845977  0.75770115 0.77103448 0.67793103 0.68505747\n",
            " 0.76482759 0.74413793 0.80505747 0.75816092 0.77126437 0.77816092\n",
            " 0.7645977  0.76413793 0.79172414 0.76482759 0.77793103 0.7645977\n",
            " 0.74436782 0.7645977  0.77793103 0.7645977  0.7645977  0.78482759\n",
            " 0.77793103 0.76436782 0.77103448 0.77793103 0.77103448 0.75770115\n",
            " 0.77103448 0.7645977  0.69724138 0.71770115 0.74482759 0.75793103\n",
            " 0.76505747 0.73149425 0.76505747 0.73103448 0.75793103 0.7645977\n",
            " 0.75103448 0.7645977  0.75770115 0.79126437 0.75747126 0.77103448\n",
            " 0.76436782 0.77149425 0.76436782 0.77126437 0.7645977  0.77126437\n",
            " 0.77103448 0.77103448 0.77103448 0.77126437 0.76436782 0.76436782\n",
            "        nan 0.7383908         nan 0.73793103        nan 0.75816092\n",
            "        nan 0.76482759        nan 0.75149425        nan 0.77862069\n",
            "        nan 0.77172414        nan 0.78482759        nan 0.7445977\n",
            "        nan 0.79195402        nan 0.77149425        nan 0.77195402\n",
            "        nan 0.79862069        nan 0.78505747        nan 0.70505747\n",
            "        nan 0.73770115        nan 0.76482759        nan 0.78482759\n",
            "        nan 0.77149425        nan 0.75126437        nan 0.76505747\n",
            "        nan 0.79172414        nan 0.77172414        nan 0.74482759\n",
            "        nan 0.7783908         nan 0.77149425        nan 0.77862069\n",
            "        nan 0.78528736        nan 0.7583908         nan 0.75793103\n",
            "        nan 0.75793103        nan 0.7583908         nan 0.7783908\n",
            "        nan 0.77195402        nan 0.77793103        nan 0.79172414\n",
            "        nan 0.79195402        nan 0.76505747        nan 0.78528736\n",
            "        nan 0.77126437        nan 0.77126437        nan 0.77816092\n",
            "        nan 0.75126437        nan 0.75126437        nan 0.7645977\n",
            "        nan 0.7645977         nan 0.7645977         nan 0.78551724\n",
            "        nan 0.75793103        nan 0.77816092        nan 0.78505747\n",
            "        nan 0.7645977         nan 0.78482759        nan 0.76482759\n",
            "        nan 0.77149425        nan 0.77172414        nan 0.77149425\n",
            "        nan 0.75816092        nan 0.7783908         nan 0.76505747\n",
            "        nan 0.77816092        nan 0.77149425        nan 0.75793103\n",
            "        nan 0.78482759        nan 0.76482759        nan 0.79172414\n",
            "        nan 0.7783908         nan 0.77172414        nan 0.77816092\n",
            "        nan 0.77149425        nan 0.7308046         nan 0.74482759\n",
            "        nan 0.78505747        nan 0.76482759        nan 0.77793103\n",
            "        nan 0.76482759        nan 0.79195402        nan 0.76482759\n",
            "        nan 0.77149425        nan 0.7583908         nan 0.78505747\n",
            "        nan 0.77149425        nan 0.7645977         nan 0.79195402\n",
            "        nan 0.73816092        nan 0.76482759        nan 0.78505747\n",
            "        nan 0.77793103        nan 0.77126437        nan 0.76413793\n",
            "        nan 0.79172414        nan 0.78482759        nan 0.79149425\n",
            "        nan 0.7783908         nan 0.7983908         nan 0.79149425\n",
            "        nan 0.79172414        nan 0.79149425        nan 0.75126437\n",
            "        nan 0.75149425        nan 0.77149425        nan 0.7783908\n",
            "        nan 0.77816092        nan 0.77816092        nan 0.7783908\n",
            "        nan 0.77126437        nan 0.79149425        nan 0.79172414\n",
            "        nan 0.77816092        nan 0.7983908         nan 0.7983908\n",
            "        nan 0.79172414        nan 0.77172414        nan 0.75816092\n",
            "        nan 0.7983908         nan 0.79149425        nan 0.75126437\n",
            "        nan 0.78505747        nan 0.7783908         nan 0.77816092\n",
            "        nan 0.79816092        nan 0.78482759        nan 0.79149425\n",
            "        nan 0.78482759        nan 0.79172414        nan 0.79172414\n",
            "        nan 0.74482759        nan 0.77149425        nan 0.77172414\n",
            "        nan 0.78505747        nan 0.78505747        nan 0.81149425\n",
            "        nan 0.77816092        nan 0.77793103        nan 0.76436782\n",
            "        nan 0.7845977         nan 0.79126437        nan 0.77816092\n",
            "        nan 0.77793103        nan 0.77126437        nan 0.73126437\n",
            "        nan 0.79103448        nan 0.7845977         nan 0.77149425\n",
            "        nan 0.77816092        nan 0.7845977         nan 0.75103448\n",
            "        nan 0.77126437        nan 0.77816092        nan 0.77793103\n",
            "        nan 0.7845977         nan 0.7845977         nan 0.77103448\n",
            "        nan 0.7645977         nan 0.71793103        nan 0.76482759\n",
            "        nan 0.76436782        nan 0.7783908         nan 0.77149425\n",
            "        nan 0.79149425        nan 0.77126437        nan 0.77793103\n",
            "        nan 0.77793103        nan 0.77126437        nan 0.7845977\n",
            "        nan 0.75793103        nan 0.7645977         nan 0.77149425]\n",
            "  warnings.warn(\n",
            "/usr/local/lib/python3.9/dist-packages/sklearn/model_selection/_search.py:952: UserWarning: One or more of the train scores are non-finite: [0.98992997 0.98658263 0.99495798 0.99831933 0.99663866 0.99831933\n",
            " 1.         1.         1.         1.         1.         1.\n",
            " 1.         1.         1.         1.         1.         1.\n",
            " 1.         1.         1.         1.         1.         1.\n",
            " 1.         1.         1.         1.         0.98323529 0.97651261\n",
            " 1.         0.99330532 0.99497199 1.         1.         1.\n",
            " 1.         1.         1.         1.         1.         1.\n",
            " 1.         1.         1.         1.         1.         1.\n",
            " 1.         1.         1.         1.         1.         1.\n",
            " 1.         1.         0.98656863 0.98827731 1.         1.\n",
            " 0.99831933 0.99833333 1.         1.         1.         1.\n",
            " 1.         1.         1.         1.         1.         1.\n",
            " 1.         1.         1.         1.         1.         1.\n",
            " 1.         1.         1.         1.         1.         1.\n",
            " 0.99497199 0.99330532 0.99665266 0.99663866 0.99495798 1.\n",
            " 1.         1.         1.         1.         1.         1.\n",
            " 1.         1.         1.         1.         1.         1.\n",
            " 1.         1.         1.         1.         1.         1.\n",
            " 1.         1.         1.         1.         0.98658263 0.98491597\n",
            " 0.99665266 1.         1.         0.99833333 1.         0.99831933\n",
            " 1.         1.         1.         1.         1.         1.\n",
            " 1.         1.         1.         1.         1.         1.\n",
            " 1.         1.         1.         1.         1.         1.\n",
            " 1.         1.         0.98826331 0.98658263 0.99663866 0.99497199\n",
            " 0.99831933 0.99831933 1.         1.         1.         1.\n",
            " 1.         1.         1.         1.         1.         1.\n",
            " 1.         1.         1.         1.         1.         1.\n",
            " 1.         1.         1.         1.         1.         1.\n",
            " 0.9882493  0.98323529 0.99833333 0.99831933 1.         0.99831933\n",
            " 1.         1.         1.         1.         1.         1.\n",
            " 1.         1.         1.         1.         1.         1.\n",
            " 1.         1.         1.         1.         1.         1.\n",
            " 1.         1.         1.         1.         0.98490196 0.98823529\n",
            " 1.         0.99497199 1.         1.         1.         1.\n",
            " 1.         1.         1.         1.         1.         1.\n",
            " 1.         1.         1.         1.         1.         1.\n",
            " 1.         1.         1.         1.         1.         1.\n",
            " 1.         1.         0.98656863 0.99330532 1.         0.99665266\n",
            " 1.         1.         1.         1.         1.         1.\n",
            " 1.         1.         1.         1.         1.         1.\n",
            " 1.         1.         1.         1.         1.         1.\n",
            " 1.         1.         1.         1.         1.         1.\n",
            " 0.98656863 0.98320728 0.99663866 0.99495798 1.         0.99831933\n",
            " 1.         1.         1.         1.         1.         1.\n",
            " 1.         1.         1.         1.         1.         1.\n",
            " 1.         1.         1.         1.         1.         1.\n",
            " 1.         1.         1.         1.         0.98992997 0.99161064\n",
            " 0.99833333 0.99663866 1.         1.         1.         0.99831933\n",
            " 1.         0.99831933 1.         1.         1.         1.\n",
            " 1.         1.         1.         1.         1.         1.\n",
            " 1.         1.         1.         1.         1.         1.\n",
            " 1.         1.         0.98320728 0.9882493  0.99329132 1.\n",
            " 0.99831933 0.99831933 0.99831933 1.         1.         1.\n",
            " 1.         1.         1.         1.         1.         1.\n",
            " 1.         1.         1.         1.         1.         1.\n",
            " 1.         1.         1.         1.         1.         1.\n",
            "        nan 1.                nan 1.                nan 1.\n",
            "        nan 1.                nan 1.                nan 1.\n",
            "        nan 1.                nan 1.                nan 1.\n",
            "        nan 1.                nan 1.                nan 1.\n",
            "        nan 1.                nan 1.                nan 1.\n",
            "        nan 1.                nan 1.                nan 1.\n",
            "        nan 1.                nan 1.                nan 1.\n",
            "        nan 1.                nan 1.                nan 1.\n",
            "        nan 1.                nan 1.                nan 1.\n",
            "        nan 1.                nan 1.                nan 1.\n",
            "        nan 1.                nan 1.                nan 1.\n",
            "        nan 1.                nan 1.                nan 1.\n",
            "        nan 1.                nan 1.                nan 1.\n",
            "        nan 1.                nan 1.                nan 1.\n",
            "        nan 1.                nan 1.                nan 1.\n",
            "        nan 1.                nan 1.                nan 1.\n",
            "        nan 1.                nan 1.                nan 1.\n",
            "        nan 1.                nan 1.                nan 1.\n",
            "        nan 1.                nan 1.                nan 1.\n",
            "        nan 1.                nan 1.                nan 1.\n",
            "        nan 1.                nan 1.                nan 1.\n",
            "        nan 1.                nan 1.                nan 1.\n",
            "        nan 1.                nan 1.                nan 1.\n",
            "        nan 1.                nan 1.                nan 1.\n",
            "        nan 1.                nan 1.                nan 1.\n",
            "        nan 1.                nan 1.                nan 1.\n",
            "        nan 1.                nan 1.                nan 1.\n",
            "        nan 1.                nan 1.                nan 1.\n",
            "        nan 1.                nan 1.                nan 1.\n",
            "        nan 1.                nan 1.                nan 1.\n",
            "        nan 1.                nan 1.                nan 1.\n",
            "        nan 1.                nan 1.                nan 1.\n",
            "        nan 1.                nan 1.                nan 1.\n",
            "        nan 1.                nan 1.                nan 1.\n",
            "        nan 1.                nan 1.                nan 1.\n",
            "        nan 1.                nan 1.                nan 1.\n",
            "        nan 1.                nan 1.                nan 1.\n",
            "        nan 1.                nan 1.                nan 1.\n",
            "        nan 1.                nan 1.                nan 1.\n",
            "        nan 1.                nan 1.                nan 1.\n",
            "        nan 1.                nan 1.                nan 1.\n",
            "        nan 1.                nan 1.                nan 1.\n",
            "        nan 1.                nan 1.                nan 1.\n",
            "        nan 1.                nan 1.                nan 1.\n",
            "        nan 1.                nan 1.                nan 1.\n",
            "        nan 1.                nan 1.                nan 1.\n",
            "        nan 1.                nan 1.                nan 1.\n",
            "        nan 1.                nan 1.                nan 1.\n",
            "        nan 1.                nan 1.                nan 1.\n",
            "        nan 1.                nan 1.                nan 1.\n",
            "        nan 1.                nan 1.                nan 1.\n",
            "        nan 1.                nan 1.                nan 1.\n",
            "        nan 1.                nan 1.                nan 1.\n",
            "        nan 1.                nan 1.                nan 1.\n",
            "        nan 1.                nan 1.                nan 1.\n",
            "        nan 1.                nan 1.                nan 1.        ]\n",
            "  warnings.warn(\n",
            "/usr/local/lib/python3.9/dist-packages/sklearn/ensemble/_forest.py:424: FutureWarning: `max_features='auto'` has been deprecated in 1.1 and will be removed in 1.3. To keep the past behaviour, explicitly set `max_features='sqrt'` or remove this parameter as it is also the default value for RandomForestClassifiers and ExtraTreesClassifiers.\n",
            "  warn(\n"
          ]
        },
        {
          "output_type": "execute_result",
          "data": {
            "text/plain": [
              "GridSearchCV(cv=5, estimator=RandomForestClassifier(), n_jobs=-1,\n",
              "             param_grid=[{'bootstrap': [True, False],\n",
              "                          'class_weight': [None, 'balanced'],\n",
              "                          'criterion': ['gini', 'entropy'],\n",
              "                          'max_features': ['auto', 'sqrt', 'log2'],\n",
              "                          'n_estimators': [10, 20, 30, 50, 70, 80, 100, 120,\n",
              "                                           150, 180, 200, 220, 280, 320],\n",
              "                          'oob_score': [True, False]}],\n",
              "             return_train_score=True)"
            ],
            "text/html": [
              "<style>#sk-container-id-1 {color: black;background-color: white;}#sk-container-id-1 pre{padding: 0;}#sk-container-id-1 div.sk-toggleable {background-color: white;}#sk-container-id-1 label.sk-toggleable__label {cursor: pointer;display: block;width: 100%;margin-bottom: 0;padding: 0.3em;box-sizing: border-box;text-align: center;}#sk-container-id-1 label.sk-toggleable__label-arrow:before {content: \"▸\";float: left;margin-right: 0.25em;color: #696969;}#sk-container-id-1 label.sk-toggleable__label-arrow:hover:before {color: black;}#sk-container-id-1 div.sk-estimator:hover label.sk-toggleable__label-arrow:before {color: black;}#sk-container-id-1 div.sk-toggleable__content {max-height: 0;max-width: 0;overflow: hidden;text-align: left;background-color: #f0f8ff;}#sk-container-id-1 div.sk-toggleable__content pre {margin: 0.2em;color: black;border-radius: 0.25em;background-color: #f0f8ff;}#sk-container-id-1 input.sk-toggleable__control:checked~div.sk-toggleable__content {max-height: 200px;max-width: 100%;overflow: auto;}#sk-container-id-1 input.sk-toggleable__control:checked~label.sk-toggleable__label-arrow:before {content: \"▾\";}#sk-container-id-1 div.sk-estimator input.sk-toggleable__control:checked~label.sk-toggleable__label {background-color: #d4ebff;}#sk-container-id-1 div.sk-label input.sk-toggleable__control:checked~label.sk-toggleable__label {background-color: #d4ebff;}#sk-container-id-1 input.sk-hidden--visually {border: 0;clip: rect(1px 1px 1px 1px);clip: rect(1px, 1px, 1px, 1px);height: 1px;margin: -1px;overflow: hidden;padding: 0;position: absolute;width: 1px;}#sk-container-id-1 div.sk-estimator {font-family: monospace;background-color: #f0f8ff;border: 1px dotted black;border-radius: 0.25em;box-sizing: border-box;margin-bottom: 0.5em;}#sk-container-id-1 div.sk-estimator:hover {background-color: #d4ebff;}#sk-container-id-1 div.sk-parallel-item::after {content: \"\";width: 100%;border-bottom: 1px solid gray;flex-grow: 1;}#sk-container-id-1 div.sk-label:hover label.sk-toggleable__label {background-color: #d4ebff;}#sk-container-id-1 div.sk-serial::before {content: \"\";position: absolute;border-left: 1px solid gray;box-sizing: border-box;top: 0;bottom: 0;left: 50%;z-index: 0;}#sk-container-id-1 div.sk-serial {display: flex;flex-direction: column;align-items: center;background-color: white;padding-right: 0.2em;padding-left: 0.2em;position: relative;}#sk-container-id-1 div.sk-item {position: relative;z-index: 1;}#sk-container-id-1 div.sk-parallel {display: flex;align-items: stretch;justify-content: center;background-color: white;position: relative;}#sk-container-id-1 div.sk-item::before, #sk-container-id-1 div.sk-parallel-item::before {content: \"\";position: absolute;border-left: 1px solid gray;box-sizing: border-box;top: 0;bottom: 0;left: 50%;z-index: -1;}#sk-container-id-1 div.sk-parallel-item {display: flex;flex-direction: column;z-index: 1;position: relative;background-color: white;}#sk-container-id-1 div.sk-parallel-item:first-child::after {align-self: flex-end;width: 50%;}#sk-container-id-1 div.sk-parallel-item:last-child::after {align-self: flex-start;width: 50%;}#sk-container-id-1 div.sk-parallel-item:only-child::after {width: 0;}#sk-container-id-1 div.sk-dashed-wrapped {border: 1px dashed gray;margin: 0 0.4em 0.5em 0.4em;box-sizing: border-box;padding-bottom: 0.4em;background-color: white;}#sk-container-id-1 div.sk-label label {font-family: monospace;font-weight: bold;display: inline-block;line-height: 1.2em;}#sk-container-id-1 div.sk-label-container {text-align: center;}#sk-container-id-1 div.sk-container {/* jupyter's `normalize.less` sets `[hidden] { display: none; }` but bootstrap.min.css set `[hidden] { display: none !important; }` so we also need the `!important` here to be able to override the default hidden behavior on the sphinx rendered scikit-learn.org. See: https://github.com/scikit-learn/scikit-learn/issues/21755 */display: inline-block !important;position: relative;}#sk-container-id-1 div.sk-text-repr-fallback {display: none;}</style><div id=\"sk-container-id-1\" class=\"sk-top-container\"><div class=\"sk-text-repr-fallback\"><pre>GridSearchCV(cv=5, estimator=RandomForestClassifier(), n_jobs=-1,\n",
              "             param_grid=[{&#x27;bootstrap&#x27;: [True, False],\n",
              "                          &#x27;class_weight&#x27;: [None, &#x27;balanced&#x27;],\n",
              "                          &#x27;criterion&#x27;: [&#x27;gini&#x27;, &#x27;entropy&#x27;],\n",
              "                          &#x27;max_features&#x27;: [&#x27;auto&#x27;, &#x27;sqrt&#x27;, &#x27;log2&#x27;],\n",
              "                          &#x27;n_estimators&#x27;: [10, 20, 30, 50, 70, 80, 100, 120,\n",
              "                                           150, 180, 200, 220, 280, 320],\n",
              "                          &#x27;oob_score&#x27;: [True, False]}],\n",
              "             return_train_score=True)</pre><b>In a Jupyter environment, please rerun this cell to show the HTML representation or trust the notebook. <br />On GitHub, the HTML representation is unable to render, please try loading this page with nbviewer.org.</b></div><div class=\"sk-container\" hidden><div class=\"sk-item sk-dashed-wrapped\"><div class=\"sk-label-container\"><div class=\"sk-label sk-toggleable\"><input class=\"sk-toggleable__control sk-hidden--visually\" id=\"sk-estimator-id-1\" type=\"checkbox\" ><label for=\"sk-estimator-id-1\" class=\"sk-toggleable__label sk-toggleable__label-arrow\">GridSearchCV</label><div class=\"sk-toggleable__content\"><pre>GridSearchCV(cv=5, estimator=RandomForestClassifier(), n_jobs=-1,\n",
              "             param_grid=[{&#x27;bootstrap&#x27;: [True, False],\n",
              "                          &#x27;class_weight&#x27;: [None, &#x27;balanced&#x27;],\n",
              "                          &#x27;criterion&#x27;: [&#x27;gini&#x27;, &#x27;entropy&#x27;],\n",
              "                          &#x27;max_features&#x27;: [&#x27;auto&#x27;, &#x27;sqrt&#x27;, &#x27;log2&#x27;],\n",
              "                          &#x27;n_estimators&#x27;: [10, 20, 30, 50, 70, 80, 100, 120,\n",
              "                                           150, 180, 200, 220, 280, 320],\n",
              "                          &#x27;oob_score&#x27;: [True, False]}],\n",
              "             return_train_score=True)</pre></div></div></div><div class=\"sk-parallel\"><div class=\"sk-parallel-item\"><div class=\"sk-item\"><div class=\"sk-label-container\"><div class=\"sk-label sk-toggleable\"><input class=\"sk-toggleable__control sk-hidden--visually\" id=\"sk-estimator-id-2\" type=\"checkbox\" ><label for=\"sk-estimator-id-2\" class=\"sk-toggleable__label sk-toggleable__label-arrow\">estimator: RandomForestClassifier</label><div class=\"sk-toggleable__content\"><pre>RandomForestClassifier()</pre></div></div></div><div class=\"sk-serial\"><div class=\"sk-item\"><div class=\"sk-estimator sk-toggleable\"><input class=\"sk-toggleable__control sk-hidden--visually\" id=\"sk-estimator-id-3\" type=\"checkbox\" ><label for=\"sk-estimator-id-3\" class=\"sk-toggleable__label sk-toggleable__label-arrow\">RandomForestClassifier</label><div class=\"sk-toggleable__content\"><pre>RandomForestClassifier()</pre></div></div></div></div></div></div></div></div></div></div>"
            ]
          },
          "metadata": {},
          "execution_count": 17
        }
      ]
    },
    {
      "metadata": {
        "trusted": true,
        "colab": {
          "base_uri": "https://localhost:8080/"
        },
        "id": "0eg1dvmI_Nwj",
        "outputId": "02c52bdf-9587-4fa9-b3dc-ac76d33b3dd5"
      },
      "cell_type": "code",
      "source": [
        "grid_search.best_params_"
      ],
      "execution_count": 18,
      "outputs": [
        {
          "output_type": "execute_result",
          "data": {
            "text/plain": [
              "{'bootstrap': False,\n",
              " 'class_weight': 'balanced',\n",
              " 'criterion': 'entropy',\n",
              " 'max_features': 'auto',\n",
              " 'n_estimators': 80,\n",
              " 'oob_score': False}"
            ]
          },
          "metadata": {},
          "execution_count": 18
        }
      ]
    },
    {
      "metadata": {
        "trusted": true,
        "colab": {
          "base_uri": "https://localhost:8080/"
        },
        "id": "bzH7EGj0_Nwk",
        "outputId": "a7e68ff3-7eea-4f56-c381-1ce002164315"
      },
      "cell_type": "code",
      "source": [
        "grid_search.best_score_"
      ],
      "execution_count": 19,
      "outputs": [
        {
          "output_type": "execute_result",
          "data": {
            "text/plain": [
              "0.8114942528735632"
            ]
          },
          "metadata": {},
          "execution_count": 19
        }
      ]
    },
    {
      "metadata": {
        "id": "hXxwLN3A_Nwl"
      },
      "cell_type": "markdown",
      "source": [
        "____"
      ]
    },
    {
      "metadata": {
        "trusted": true,
        "colab": {
          "base_uri": "https://localhost:8080/",
          "height": 109
        },
        "id": "ein7uZ24_Nwo",
        "outputId": "706c21f0-ca21-4503-f4e3-17a0ee0e75b9"
      },
      "cell_type": "code",
      "source": [
        "best_param_classifier_1 = RandomForestClassifier(bootstrap=False, n_estimators=150, max_features='log2', \n",
        "                                               oob_score=False, class_weight= 'balanced',\n",
        "                                                criterion='entropy')\n",
        "best_param_classifier_1.fit(X_train, y_train)"
      ],
      "execution_count": 20,
      "outputs": [
        {
          "output_type": "execute_result",
          "data": {
            "text/plain": [
              "RandomForestClassifier(bootstrap=False, class_weight='balanced',\n",
              "                       criterion='entropy', max_features='log2',\n",
              "                       n_estimators=150)"
            ],
            "text/html": [
              "<style>#sk-container-id-2 {color: black;background-color: white;}#sk-container-id-2 pre{padding: 0;}#sk-container-id-2 div.sk-toggleable {background-color: white;}#sk-container-id-2 label.sk-toggleable__label {cursor: pointer;display: block;width: 100%;margin-bottom: 0;padding: 0.3em;box-sizing: border-box;text-align: center;}#sk-container-id-2 label.sk-toggleable__label-arrow:before {content: \"▸\";float: left;margin-right: 0.25em;color: #696969;}#sk-container-id-2 label.sk-toggleable__label-arrow:hover:before {color: black;}#sk-container-id-2 div.sk-estimator:hover label.sk-toggleable__label-arrow:before {color: black;}#sk-container-id-2 div.sk-toggleable__content {max-height: 0;max-width: 0;overflow: hidden;text-align: left;background-color: #f0f8ff;}#sk-container-id-2 div.sk-toggleable__content pre {margin: 0.2em;color: black;border-radius: 0.25em;background-color: #f0f8ff;}#sk-container-id-2 input.sk-toggleable__control:checked~div.sk-toggleable__content {max-height: 200px;max-width: 100%;overflow: auto;}#sk-container-id-2 input.sk-toggleable__control:checked~label.sk-toggleable__label-arrow:before {content: \"▾\";}#sk-container-id-2 div.sk-estimator input.sk-toggleable__control:checked~label.sk-toggleable__label {background-color: #d4ebff;}#sk-container-id-2 div.sk-label input.sk-toggleable__control:checked~label.sk-toggleable__label {background-color: #d4ebff;}#sk-container-id-2 input.sk-hidden--visually {border: 0;clip: rect(1px 1px 1px 1px);clip: rect(1px, 1px, 1px, 1px);height: 1px;margin: -1px;overflow: hidden;padding: 0;position: absolute;width: 1px;}#sk-container-id-2 div.sk-estimator {font-family: monospace;background-color: #f0f8ff;border: 1px dotted black;border-radius: 0.25em;box-sizing: border-box;margin-bottom: 0.5em;}#sk-container-id-2 div.sk-estimator:hover {background-color: #d4ebff;}#sk-container-id-2 div.sk-parallel-item::after {content: \"\";width: 100%;border-bottom: 1px solid gray;flex-grow: 1;}#sk-container-id-2 div.sk-label:hover label.sk-toggleable__label {background-color: #d4ebff;}#sk-container-id-2 div.sk-serial::before {content: \"\";position: absolute;border-left: 1px solid gray;box-sizing: border-box;top: 0;bottom: 0;left: 50%;z-index: 0;}#sk-container-id-2 div.sk-serial {display: flex;flex-direction: column;align-items: center;background-color: white;padding-right: 0.2em;padding-left: 0.2em;position: relative;}#sk-container-id-2 div.sk-item {position: relative;z-index: 1;}#sk-container-id-2 div.sk-parallel {display: flex;align-items: stretch;justify-content: center;background-color: white;position: relative;}#sk-container-id-2 div.sk-item::before, #sk-container-id-2 div.sk-parallel-item::before {content: \"\";position: absolute;border-left: 1px solid gray;box-sizing: border-box;top: 0;bottom: 0;left: 50%;z-index: -1;}#sk-container-id-2 div.sk-parallel-item {display: flex;flex-direction: column;z-index: 1;position: relative;background-color: white;}#sk-container-id-2 div.sk-parallel-item:first-child::after {align-self: flex-end;width: 50%;}#sk-container-id-2 div.sk-parallel-item:last-child::after {align-self: flex-start;width: 50%;}#sk-container-id-2 div.sk-parallel-item:only-child::after {width: 0;}#sk-container-id-2 div.sk-dashed-wrapped {border: 1px dashed gray;margin: 0 0.4em 0.5em 0.4em;box-sizing: border-box;padding-bottom: 0.4em;background-color: white;}#sk-container-id-2 div.sk-label label {font-family: monospace;font-weight: bold;display: inline-block;line-height: 1.2em;}#sk-container-id-2 div.sk-label-container {text-align: center;}#sk-container-id-2 div.sk-container {/* jupyter's `normalize.less` sets `[hidden] { display: none; }` but bootstrap.min.css set `[hidden] { display: none !important; }` so we also need the `!important` here to be able to override the default hidden behavior on the sphinx rendered scikit-learn.org. See: https://github.com/scikit-learn/scikit-learn/issues/21755 */display: inline-block !important;position: relative;}#sk-container-id-2 div.sk-text-repr-fallback {display: none;}</style><div id=\"sk-container-id-2\" class=\"sk-top-container\"><div class=\"sk-text-repr-fallback\"><pre>RandomForestClassifier(bootstrap=False, class_weight=&#x27;balanced&#x27;,\n",
              "                       criterion=&#x27;entropy&#x27;, max_features=&#x27;log2&#x27;,\n",
              "                       n_estimators=150)</pre><b>In a Jupyter environment, please rerun this cell to show the HTML representation or trust the notebook. <br />On GitHub, the HTML representation is unable to render, please try loading this page with nbviewer.org.</b></div><div class=\"sk-container\" hidden><div class=\"sk-item\"><div class=\"sk-estimator sk-toggleable\"><input class=\"sk-toggleable__control sk-hidden--visually\" id=\"sk-estimator-id-4\" type=\"checkbox\" checked><label for=\"sk-estimator-id-4\" class=\"sk-toggleable__label sk-toggleable__label-arrow\">RandomForestClassifier</label><div class=\"sk-toggleable__content\"><pre>RandomForestClassifier(bootstrap=False, class_weight=&#x27;balanced&#x27;,\n",
              "                       criterion=&#x27;entropy&#x27;, max_features=&#x27;log2&#x27;,\n",
              "                       n_estimators=150)</pre></div></div></div></div></div>"
            ]
          },
          "metadata": {},
          "execution_count": 20
        }
      ]
    },
    {
      "metadata": {
        "trusted": true,
        "colab": {
          "base_uri": "https://localhost:8080/"
        },
        "id": "XwT0PkTt_Nwp",
        "outputId": "b344de6d-f6d4-41ec-80bc-9d7bbea11850"
      },
      "cell_type": "code",
      "source": [
        "rf_prediction_test = best_param_classifier_1.predict(X_test)\n",
        "accuracy_score(y_test, rf_prediction_test)"
      ],
      "execution_count": 21,
      "outputs": [
        {
          "output_type": "execute_result",
          "data": {
            "text/plain": [
              "0.7076923076923077"
            ]
          },
          "metadata": {},
          "execution_count": 21
        }
      ]
    },
    {
      "metadata": {
        "trusted": true,
        "colab": {
          "base_uri": "https://localhost:8080/"
        },
        "id": "nmELzzRF_Nwq",
        "outputId": "3743aa62-4a88-44cc-fd02-0223c588e1a9"
      },
      "cell_type": "code",
      "source": [
        "rf_prediction_train = best_param_classifier_1.predict(X_train)\n",
        "accuracy_score(y_train, rf_prediction_train)"
      ],
      "execution_count": 22,
      "outputs": [
        {
          "output_type": "execute_result",
          "data": {
            "text/plain": [
              "1.0"
            ]
          },
          "metadata": {},
          "execution_count": 22
        }
      ]
    },
    {
      "metadata": {
        "trusted": true,
        "colab": {
          "base_uri": "https://localhost:8080/"
        },
        "id": "-cIaJm88_Nwr",
        "outputId": "5f545510-e870-422c-ae07-695c4c588112"
      },
      "cell_type": "code",
      "source": [
        "precision_score(y_test, rf_prediction_test, average=None)"
      ],
      "execution_count": 23,
      "outputs": [
        {
          "output_type": "execute_result",
          "data": {
            "text/plain": [
              "array([0.57142857, 0.81481481, 0.        , 0.75      , 0.66666667,\n",
              "       0.875     ])"
            ]
          },
          "metadata": {},
          "execution_count": 23
        }
      ]
    },
    {
      "metadata": {
        "trusted": true,
        "colab": {
          "base_uri": "https://localhost:8080/"
        },
        "id": "7ajhOYrY_Nwr",
        "outputId": "79a66535-0959-436c-e1cc-e0678cfd7d2a"
      },
      "cell_type": "code",
      "source": [
        "recall_score(y_test, rf_prediction_test, average=None)"
      ],
      "execution_count": 24,
      "outputs": [
        {
          "output_type": "execute_result",
          "data": {
            "text/plain": [
              "array([0.8       , 0.81481481, 0.        , 0.75      , 1.        ,\n",
              "       0.77777778])"
            ]
          },
          "metadata": {},
          "execution_count": 24
        }
      ]
    },
    {
      "metadata": {
        "trusted": true,
        "colab": {
          "base_uri": "https://localhost:8080/"
        },
        "id": "202ODKtG_Nws",
        "outputId": "fb8d00e9-fbaa-4dbe-c1e6-f9fcb0f9d648"
      },
      "cell_type": "code",
      "source": [
        "f1_score(y_test, rf_prediction_test, average=None) # indicates how well the model performs on minority class"
      ],
      "execution_count": 25,
      "outputs": [
        {
          "output_type": "execute_result",
          "data": {
            "text/plain": [
              "array([0.66666667, 0.81481481, 0.        , 0.75      , 0.8       ,\n",
              "       0.82352941])"
            ]
          },
          "metadata": {},
          "execution_count": 25
        }
      ]
    },
    {
      "cell_type": "code",
      "source": [
        "clf = best_param_classifier_1\n",
        "y_pred = clf.predict(X_test)\n",
        "ConfusionMatrixDisplay.from_predictions(\n",
        "   y_test, y_pred)\n",
        "\n",
        "plt.show()"
      ],
      "metadata": {
        "colab": {
          "base_uri": "https://localhost:8080/",
          "height": 449
        },
        "id": "6qo2D1LiHk-a",
        "outputId": "b4f0d75b-3c27-410b-e1bf-9d21c26739c2"
      },
      "execution_count": 28,
      "outputs": [
        {
          "output_type": "display_data",
          "data": {
            "text/plain": [
              "<Figure size 640x480 with 2 Axes>"
            ],
            "image/png": "[encoded data removed]"
          },
          "metadata": {}
        }
      ]
    },
    {
      "metadata": {
        "trusted": true,
        "colab": {
          "base_uri": "https://localhost:8080/"
        },
        "id": "EubUMns1_Nwu",
        "outputId": "c8e13ab0-7fac-4909-ae5a-7b067061f86a"
      },
      "cell_type": "code",
      "source": [
        "from sklearn.metrics import classification_report\n",
        "print(classification_report(y_test, rf_prediction_test))"
      ],
      "execution_count": 29,
      "outputs": [
        {
          "output_type": "stream",
          "name": "stdout",
          "text": [
            "              precision    recall  f1-score   support\n",
            "\n",
            "           1       0.57      0.80      0.67        15\n",
            "           2       0.81      0.81      0.81        27\n",
            "           3       0.00      0.00      0.00         8\n",
            "           5       0.75      0.75      0.75         4\n",
            "           6       0.67      1.00      0.80         2\n",
            "           7       0.88      0.78      0.82         9\n",
            "\n",
            "    accuracy                           0.71        65\n",
            "   macro avg       0.61      0.69      0.64        65\n",
            "weighted avg       0.66      0.71      0.68        65\n",
            "\n"
          ]
        }
      ]
    },
    {
      "metadata": {
        "id": "B_j5FBWz_Nwv"
      },
      "cell_type": "markdown",
      "source": [
        "_____"
      ]
    }
  ],
  "metadata": {
    "kernelspec": {
      "language": "python",
      "display_name": "Python 3",
      "name": "python3"
    },
    "language_info": {
      "pygments_lexer": "ipython3",
      "nbconvert_exporter": "python",
      "version": "3.6.4",
      "file_extension": ".py",
      "codemirror_mode": {
        "name": "ipython",
        "version": 3
      },
      "name": "python",
      "mimetype": "text/x-python"
    },
    "colab": {
      "provenance": [],
      "include_colab_link": true
    }
  },
  "nbformat": 4,
  "nbformat_minor": 0
}