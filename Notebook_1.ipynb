{
  "nbformat": 4,
  "nbformat_minor": 0,
  "metadata": {
    "colab": {
      "provenance": [],
      "toc_visible": true,
      "include_colab_link": true
    },
    "kernelspec": {
      "display_name": "Python 3",
      "language": "python",
      "name": "python3"
    },
    "language_info": {
      "codemirror_mode": {
        "name": "ipython",
        "version": 3
      },
      "file_extension": ".py",
      "mimetype": "text/x-python",
      "name": "python",
      "nbconvert_exporter": "python",
      "pygments_lexer": "ipython3",
      "version": "3.7.0"
    }
  },
  "cells": [
    {
      "cell_type": "markdown",
      "metadata": {
        "id": "view-in-github",
        "colab_type": "text"
      },
      "source": [
        "<a href=\"https://colab.research.google.com/github/svetaepc/ds_py/blob/master/Notebook_1.ipynb\" target=\"_parent\"><img src=\"https://colab.research.google.com/assets/colab-badge.svg\" alt=\"Open In Colab\"/></a>"
      ]
    },
    {
      "cell_type": "markdown",
      "source": [
        "https://bit.ly/DSNN-1-intro"
      ],
      "metadata": {
        "id": "NhyvRxLzN0Ze"
      }
    },
    {
      "cell_type": "markdown",
      "metadata": {
        "id": "28UkISS77u1Y"
      },
      "source": [
        "# Imbalanced classification: credit card fraud detection"
      ]
    },
    {
      "cell_type": "markdown",
      "metadata": {
        "id": "hDqLJbK47u1e"
      },
      "source": [
        "## Introduction\n",
        "\n",
        "This example looks at the\n",
        "[Kaggle Credit Card Fraud Detection](https://www.kaggle.com/mlg-ulb/creditcardfraud/)\n",
        "dataset to demonstrate how\n",
        "to train a classification model on data with highly imbalanced classes."
      ]
    },
    {
      "cell_type": "markdown",
      "metadata": {
        "id": "gvmBj4H57u1f"
      },
      "source": [
        "## First, vectorize the CSV data"
      ]
    },
    {
      "cell_type": "code",
      "metadata": {
        "id": "zMtluoDZIVXc",
        "colab": {
          "base_uri": "https://localhost:8080/"
        },
        "outputId": "f3fb14ff-5d38-4189-c996-718febba5dc8"
      },
      "source": [
        "!wget https://www.dropbox.com/s/9vfy1vi6wsfkxyk/creditcard.csv.zip"
      ],
      "execution_count": null,
      "outputs": [
        {
          "output_type": "stream",
          "name": "stdout",
          "text": [
            "--2023-02-28 16:20:52--  https://www.dropbox.com/s/9vfy1vi6wsfkxyk/creditcard.csv.zip\n",
            "Resolving www.dropbox.com (www.dropbox.com)... 162.125.65.18, 2620:100:601d:18::a27d:512\n",
            "Connecting to www.dropbox.com (www.dropbox.com)|162.125.65.18|:443... connected.\n",
            "HTTP request sent, awaiting response... 302 Found\n",
            "Location: /s/raw/9vfy1vi6wsfkxyk/creditcard.csv.zip [following]\n",
            "--2023-02-28 16:20:52--  https://www.dropbox.com/s/raw/9vfy1vi6wsfkxyk/creditcard.csv.zip\n",
            "Reusing existing connection to www.dropbox.com:443.\n",
            "HTTP request sent, awaiting response... 302 Found\n",
            "Location: https://uc4fc1548619e10e565f631de62c.dl.dropboxusercontent.com/cd/0/inline/B3WFS8H7hzHPNMLNlBbCFLiQr4WasFXlk9mksDbG8bKuKCiozDcu24E96oQeQkr6QZas-BQFjv2ifRAfC-dC2Bm9iizaHe07Sb6e7GglRzbfmhMeLbPtxCQBbcZrvNXRyYaiVCjXZTZ8Uj7kfZTDcZc3pCkYDVKwZsjEOiAmNfipOA/file# [following]\n",
            "--2023-02-28 16:20:52--  https://uc4fc1548619e10e565f631de62c.dl.dropboxusercontent.com/cd/0/inline/B3WFS8H7hzHPNMLNlBbCFLiQr4WasFXlk9mksDbG8bKuKCiozDcu24E96oQeQkr6QZas-BQFjv2ifRAfC-dC2Bm9iizaHe07Sb6e7GglRzbfmhMeLbPtxCQBbcZrvNXRyYaiVCjXZTZ8Uj7kfZTDcZc3pCkYDVKwZsjEOiAmNfipOA/file\n",
            "Resolving uc4fc1548619e10e565f631de62c.dl.dropboxusercontent.com (uc4fc1548619e10e565f631de62c.dl.dropboxusercontent.com)... 162.125.4.15, 2620:100:6022:15::a27d:420f\n",
            "Connecting to uc4fc1548619e10e565f631de62c.dl.dropboxusercontent.com (uc4fc1548619e10e565f631de62c.dl.dropboxusercontent.com)|162.125.4.15|:443... connected.\n",
            "HTTP request sent, awaiting response... 302 Found\n",
            "Location: /cd/0/inline2/B3U8FIP51oDF9GbaTYf2X6ZIrfMhLuwXdpZV8GCezd0umHJxo7nB6PnUIPzGa6mOwpd09ydyQMvWDUspjVw8H3GImxixusoYHrCSlrqHM_ujztAIy8rb-DonfvPRjEOcwXNH32AxPSOF0R1tNS1UduVXViMgrtuoIzmBudCpJ1O3EO_FVY9aL_0CUWAlBTWzn2E833C38RxJmYVEQHy69fRAxI55aougEZ_cmEgjb_ERSGxFSSKnfTTvhN9LtAIBDJdJmDWyvREH9dL0dQNtioBQYQhc29N-SbK3IgpGLOh-4J6UXs9jKwTaktRBOln9P3ZJaUphBRLsKzADmVL3dqtzH_tVMlxkryN6Smi6JCmVlhqlWsfDpLAODZucc5P--MAtt_VTm56bX8LB3hKINb522Uj1mMKtczsWpINa7pR2Pw/file [following]\n",
            "--2023-02-28 16:20:53--  https://uc4fc1548619e10e565f631de62c.dl.dropboxusercontent.com/cd/0/inline2/B3U8FIP51oDF9GbaTYf2X6ZIrfMhLuwXdpZV8GCezd0umHJxo7nB6PnUIPzGa6mOwpd09ydyQMvWDUspjVw8H3GImxixusoYHrCSlrqHM_ujztAIy8rb-DonfvPRjEOcwXNH32AxPSOF0R1tNS1UduVXViMgrtuoIzmBudCpJ1O3EO_FVY9aL_0CUWAlBTWzn2E833C38RxJmYVEQHy69fRAxI55aougEZ_cmEgjb_ERSGxFSSKnfTTvhN9LtAIBDJdJmDWyvREH9dL0dQNtioBQYQhc29N-SbK3IgpGLOh-4J6UXs9jKwTaktRBOln9P3ZJaUphBRLsKzADmVL3dqtzH_tVMlxkryN6Smi6JCmVlhqlWsfDpLAODZucc5P--MAtt_VTm56bX8LB3hKINb522Uj1mMKtczsWpINa7pR2Pw/file\n",
            "Reusing existing connection to uc4fc1548619e10e565f631de62c.dl.dropboxusercontent.com:443.\n",
            "HTTP request sent, awaiting response... 200 OK\n",
            "Length: 69155672 (66M) [application/zip]\n",
            "Saving to: ‘creditcard.csv.zip.1’\n",
            "\n",
            "creditcard.csv.zip. 100%[===================>]  65.95M  25.3MB/s    in 2.6s    \n",
            "\n",
            "2023-02-28 16:20:56 (25.3 MB/s) - ‘creditcard.csv.zip.1’ saved [69155672/69155672]\n",
            "\n"
          ]
        }
      ]
    },
    {
      "cell_type": "code",
      "metadata": {
        "id": "DEOTDjm3IZTE",
        "colab": {
          "base_uri": "https://localhost:8080/"
        },
        "outputId": "adc347e5-0ea0-4568-fcad-38c6736bc3b5"
      },
      "source": [
        "!unzip creditcard.csv.zip"
      ],
      "execution_count": null,
      "outputs": [
        {
          "output_type": "stream",
          "name": "stdout",
          "text": [
            "Archive:  creditcard.csv.zip\n",
            "replace creditcard.csv? [y]es, [n]o, [A]ll, [N]one, [r]ename: y\n",
            "  inflating: creditcard.csv          \n"
          ]
        }
      ]
    },
    {
      "cell_type": "code",
      "source": [
        "import pandas as pd\n",
        "import numpy as np\n",
        "\n",
        "data = pd.read_csv('creditcard.csv')\n",
        "data.head()"
      ],
      "metadata": {
        "colab": {
          "base_uri": "https://localhost:8080/",
          "height": 299
        },
        "id": "St5lb0Nk-gQl",
        "outputId": "3940b592-2711-417a-96f2-8ad457d98e0b"
      },
      "execution_count": null,
      "outputs": [
        {
          "output_type": "execute_result",
          "data": {
            "text/plain": [
              "   Time        V1        V2        V3        V4        V5        V6        V7  \\\n",
              "0   0.0 -1.359807 -0.072781  2.536347  1.378155 -0.338321  0.462388  0.239599   \n",
              "1   0.0  1.191857  0.266151  0.166480  0.448154  0.060018 -0.082361 -0.078803   \n",
              "2   1.0 -1.358354 -1.340163  1.773209  0.379780 -0.503198  1.800499  0.791461   \n",
              "3   1.0 -0.966272 -0.185226  1.792993 -0.863291 -0.010309  1.247203  0.237609   \n",
              "4   2.0 -1.158233  0.877737  1.548718  0.403034 -0.407193  0.095921  0.592941   \n",
              "\n",
              "         V8        V9  ...       V21       V22       V23       V24       V25  \\\n",
              "0  0.098698  0.363787  ... -0.018307  0.277838 -0.110474  0.066928  0.128539   \n",
              "1  0.085102 -0.255425  ... -0.225775 -0.638672  0.101288 -0.339846  0.167170   \n",
              "2  0.247676 -1.514654  ...  0.247998  0.771679  0.909412 -0.689281 -0.327642   \n",
              "3  0.377436 -1.387024  ... -0.108300  0.005274 -0.190321 -1.175575  0.647376   \n",
              "4 -0.270533  0.817739  ... -0.009431  0.798278 -0.137458  0.141267 -0.206010   \n",
              "\n",
              "        V26       V27       V28  Amount  Class  \n",
              "0 -0.189115  0.133558 -0.021053  149.62      0  \n",
              "1  0.125895 -0.008983  0.014724    2.69      0  \n",
              "2 -0.139097 -0.055353 -0.059752  378.66      0  \n",
              "3 -0.221929  0.062723  0.061458  123.50      0  \n",
              "4  0.502292  0.219422  0.215153   69.99      0  \n",
              "\n",
              "[5 rows x 31 columns]"
            ],
            "text/html": [
              "\n",
              "  <div id=\"df-8953ad91-7a1f-4e70-9c8d-048aa0b311fa\">\n",
              "    <div class=\"colab-df-container\">\n",
              "      <div>\n",
              "<style scoped>\n",
              "    .dataframe tbody tr th:only-of-type {\n",
              "        vertical-align: middle;\n",
              "    }\n",
              "\n",
              "    .dataframe tbody tr th {\n",
              "        vertical-align: top;\n",
              "    }\n",
              "\n",
              "    .dataframe thead th {\n",
              "        text-align: right;\n",
              "    }\n",
              "</style>\n",
              "<table border=\"1\" class=\"dataframe\">\n",
              "  <thead>\n",
              "    <tr style=\"text-align: right;\">\n",
              "      <th></th>\n",
              "      <th>Time</th>\n",
              "      <th>V1</th>\n",
              "      <th>V2</th>\n",
              "      <th>V3</th>\n",
              "      <th>V4</th>\n",
              "      <th>V5</th>\n",
              "      <th>V6</th>\n",
              "      <th>V7</th>\n",
              "      <th>V8</th>\n",
              "      <th>V9</th>\n",
              "      <th>...</th>\n",
              "      <th>V21</th>\n",
              "      <th>V22</th>\n",
              "      <th>V23</th>\n",
              "      <th>V24</th>\n",
              "      <th>V25</th>\n",
              "      <th>V26</th>\n",
              "      <th>V27</th>\n",
              "      <th>V28</th>\n",
              "      <th>Amount</th>\n",
              "      <th>Class</th>\n",
              "    </tr>\n",
              "  </thead>\n",
              "  <tbody>\n",
              "    <tr>\n",
              "      <th>0</th>\n",
              "      <td>0.0</td>\n",
              "      <td>-1.359807</td>\n",
              "      <td>-0.072781</td>\n",
              "      <td>2.536347</td>\n",
              "      <td>1.378155</td>\n",
              "      <td>-0.338321</td>\n",
              "      <td>0.462388</td>\n",
              "      <td>0.239599</td>\n",
              "      <td>0.098698</td>\n",
              "      <td>0.363787</td>\n",
              "      <td>...</td>\n",
              "      <td>-0.018307</td>\n",
              "      <td>0.277838</td>\n",
              "      <td>-0.110474</td>\n",
              "      <td>0.066928</td>\n",
              "      <td>0.128539</td>\n",
              "      <td>-0.189115</td>\n",
              "      <td>0.133558</td>\n",
              "      <td>-0.021053</td>\n",
              "      <td>149.62</td>\n",
              "      <td>0</td>\n",
              "    </tr>\n",
              "    <tr>\n",
              "      <th>1</th>\n",
              "      <td>0.0</td>\n",
              "      <td>1.191857</td>\n",
              "      <td>0.266151</td>\n",
              "      <td>0.166480</td>\n",
              "      <td>0.448154</td>\n",
              "      <td>0.060018</td>\n",
              "      <td>-0.082361</td>\n",
              "      <td>-0.078803</td>\n",
              "      <td>0.085102</td>\n",
              "      <td>-0.255425</td>\n",
              "      <td>...</td>\n",
              "      <td>-0.225775</td>\n",
              "      <td>-0.638672</td>\n",
              "      <td>0.101288</td>\n",
              "      <td>-0.339846</td>\n",
              "      <td>0.167170</td>\n",
              "      <td>0.125895</td>\n",
              "      <td>-0.008983</td>\n",
              "      <td>0.014724</td>\n",
              "      <td>2.69</td>\n",
              "      <td>0</td>\n",
              "    </tr>\n",
              "    <tr>\n",
              "      <th>2</th>\n",
              "      <td>1.0</td>\n",
              "      <td>-1.358354</td>\n",
              "      <td>-1.340163</td>\n",
              "      <td>1.773209</td>\n",
              "      <td>0.379780</td>\n",
              "      <td>-0.503198</td>\n",
              "      <td>1.800499</td>\n",
              "      <td>0.791461</td>\n",
              "      <td>0.247676</td>\n",
              "      <td>-1.514654</td>\n",
              "      <td>...</td>\n",
              "      <td>0.247998</td>\n",
              "      <td>0.771679</td>\n",
              "      <td>0.909412</td>\n",
              "      <td>-0.689281</td>\n",
              "      <td>-0.327642</td>\n",
              "      <td>-0.139097</td>\n",
              "      <td>-0.055353</td>\n",
              "      <td>-0.059752</td>\n",
              "      <td>378.66</td>\n",
              "      <td>0</td>\n",
              "    </tr>\n",
              "    <tr>\n",
              "      <th>3</th>\n",
              "      <td>1.0</td>\n",
              "      <td>-0.966272</td>\n",
              "      <td>-0.185226</td>\n",
              "      <td>1.792993</td>\n",
              "      <td>-0.863291</td>\n",
              "      <td>-0.010309</td>\n",
              "      <td>1.247203</td>\n",
              "      <td>0.237609</td>\n",
              "      <td>0.377436</td>\n",
              "      <td>-1.387024</td>\n",
              "      <td>...</td>\n",
              "      <td>-0.108300</td>\n",
              "      <td>0.005274</td>\n",
              "      <td>-0.190321</td>\n",
              "      <td>-1.175575</td>\n",
              "      <td>0.647376</td>\n",
              "      <td>-0.221929</td>\n",
              "      <td>0.062723</td>\n",
              "      <td>0.061458</td>\n",
              "      <td>123.50</td>\n",
              "      <td>0</td>\n",
              "    </tr>\n",
              "    <tr>\n",
              "      <th>4</th>\n",
              "      <td>2.0</td>\n",
              "      <td>-1.158233</td>\n",
              "      <td>0.877737</td>\n",
              "      <td>1.548718</td>\n",
              "      <td>0.403034</td>\n",
              "      <td>-0.407193</td>\n",
              "      <td>0.095921</td>\n",
              "      <td>0.592941</td>\n",
              "      <td>-0.270533</td>\n",
              "      <td>0.817739</td>\n",
              "      <td>...</td>\n",
              "      <td>-0.009431</td>\n",
              "      <td>0.798278</td>\n",
              "      <td>-0.137458</td>\n",
              "      <td>0.141267</td>\n",
              "      <td>-0.206010</td>\n",
              "      <td>0.502292</td>\n",
              "      <td>0.219422</td>\n",
              "      <td>0.215153</td>\n",
              "      <td>69.99</td>\n",
              "      <td>0</td>\n",
              "    </tr>\n",
              "  </tbody>\n",
              "</table>\n",
              "<p>5 rows × 31 columns</p>\n",
              "</div>\n",
              "      <button class=\"colab-df-convert\" onclick=\"convertToInteractive('df-8953ad91-7a1f-4e70-9c8d-048aa0b311fa')\"\n",
              "              title=\"Convert this dataframe to an interactive table.\"\n",
              "              style=\"display:none;\">\n",
              "        \n",
              "  <svg xmlns=\"http://www.w3.org/2000/svg\" height=\"24px\"viewBox=\"0 0 24 24\"\n",
              "       width=\"24px\">\n",
              "    <path d=\"M0 0h24v24H0V0z\" fill=\"none\"/>\n",
              "    <path d=\"M18.56 5.44l.94 2.06.94-2.06 2.06-.94-2.06-.94-.94-2.06-.94 2.06-2.06.94zm-11 1L8.5 8.5l.94-2.06 2.06-.94-2.06-.94L8.5 2.5l-.94 2.06-2.06.94zm10 10l.94 2.06.94-2.06 2.06-.94-2.06-.94-.94-2.06-.94 2.06-2.06.94z\"/><path d=\"M17.41 7.96l-1.37-1.37c-.4-.4-.92-.59-1.43-.59-.52 0-1.04.2-1.43.59L10.3 9.45l-7.72 7.72c-.78.78-.78 2.05 0 2.83L4 21.41c.39.39.9.59 1.41.59.51 0 1.02-.2 1.41-.59l7.78-7.78 2.81-2.81c.8-.78.8-2.07 0-2.86zM5.41 20L4 18.59l7.72-7.72 1.47 1.35L5.41 20z\"/>\n",
              "  </svg>\n",
              "      </button>\n",
              "      \n",
              "  <style>\n",
              "    .colab-df-container {\n",
              "      display:flex;\n",
              "      flex-wrap:wrap;\n",
              "      gap: 12px;\n",
              "    }\n",
              "\n",
              "    .colab-df-convert {\n",
              "      background-color: #E8F0FE;\n",
              "      border: none;\n",
              "      border-radius: 50%;\n",
              "      cursor: pointer;\n",
              "      display: none;\n",
              "      fill: #1967D2;\n",
              "      height: 32px;\n",
              "      padding: 0 0 0 0;\n",
              "      width: 32px;\n",
              "    }\n",
              "\n",
              "    .colab-df-convert:hover {\n",
              "      background-color: #E2EBFA;\n",
              "      box-shadow: 0px 1px 2px rgba(60, 64, 67, 0.3), 0px 1px 3px 1px rgba(60, 64, 67, 0.15);\n",
              "      fill: #174EA6;\n",
              "    }\n",
              "\n",
              "    [theme=dark] .colab-df-convert {\n",
              "      background-color: #3B4455;\n",
              "      fill: #D2E3FC;\n",
              "    }\n",
              "\n",
              "    [theme=dark] .colab-df-convert:hover {\n",
              "      background-color: #434B5C;\n",
              "      box-shadow: 0px 1px 3px 1px rgba(0, 0, 0, 0.15);\n",
              "      filter: drop-shadow(0px 1px 2px rgba(0, 0, 0, 0.3));\n",
              "      fill: #FFFFFF;\n",
              "    }\n",
              "  </style>\n",
              "\n",
              "      <script>\n",
              "        const buttonEl =\n",
              "          document.querySelector('#df-8953ad91-7a1f-4e70-9c8d-048aa0b311fa button.colab-df-convert');\n",
              "        buttonEl.style.display =\n",
              "          google.colab.kernel.accessAllowed ? 'block' : 'none';\n",
              "\n",
              "        async function convertToInteractive(key) {\n",
              "          const element = document.querySelector('#df-8953ad91-7a1f-4e70-9c8d-048aa0b311fa');\n",
              "          const dataTable =\n",
              "            await google.colab.kernel.invokeFunction('convertToInteractive',\n",
              "                                                     [key], {});\n",
              "          if (!dataTable) return;\n",
              "\n",
              "          const docLinkHtml = 'Like what you see? Visit the ' +\n",
              "            '<a target=\"_blank\" href=https://colab.research.google.com/notebooks/data_table.ipynb>data table notebook</a>'\n",
              "            + ' to learn more about interactive tables.';\n",
              "          element.innerHTML = '';\n",
              "          dataTable['output_type'] = 'display_data';\n",
              "          await google.colab.output.renderOutput(dataTable, element);\n",
              "          const docLink = document.createElement('div');\n",
              "          docLink.innerHTML = docLinkHtml;\n",
              "          element.appendChild(docLink);\n",
              "        }\n",
              "      </script>\n",
              "    </div>\n",
              "  </div>\n",
              "  "
            ]
          },
          "metadata": {},
          "execution_count": 36
        }
      ]
    },
    {
      "cell_type": "code",
      "source": [
        "data['Class'].value_counts()"
      ],
      "metadata": {
        "colab": {
          "base_uri": "https://localhost:8080/"
        },
        "id": "m8S14ojFpt9H",
        "outputId": "70bd02d8-bb52-4a17-9f40-d82b50fa2929"
      },
      "execution_count": null,
      "outputs": [
        {
          "output_type": "execute_result",
          "data": {
            "text/plain": [
              "0    284315\n",
              "1       492\n",
              "Name: Class, dtype: int64"
            ]
          },
          "metadata": {},
          "execution_count": 37
        }
      ]
    },
    {
      "cell_type": "code",
      "source": [
        "features = data.drop(columns=['Class']).values\n",
        "targets = data[['Class']].values.astype('uint8')"
      ],
      "metadata": {
        "id": "OO3Ohp66-skW"
      },
      "execution_count": null,
      "outputs": []
    },
    {
      "cell_type": "code",
      "source": [
        "features.shape"
      ],
      "metadata": {
        "colab": {
          "base_uri": "https://localhost:8080/"
        },
        "id": "vMyaAYtN-12e",
        "outputId": "3573d348-b03b-454a-e5f1-a565eb60dc50"
      },
      "execution_count": null,
      "outputs": [
        {
          "output_type": "execute_result",
          "data": {
            "text/plain": [
              "(284807, 30)"
            ]
          },
          "metadata": {},
          "execution_count": 39
        }
      ]
    },
    {
      "cell_type": "code",
      "source": [
        "targets.shape"
      ],
      "metadata": {
        "colab": {
          "base_uri": "https://localhost:8080/"
        },
        "id": "sbAJjwcv-2lH",
        "outputId": "0a2584f8-4991-4261-8e82-6392bac40673"
      },
      "execution_count": null,
      "outputs": [
        {
          "output_type": "execute_result",
          "data": {
            "text/plain": [
              "(284807, 1)"
            ]
          },
          "metadata": {},
          "execution_count": 40
        }
      ]
    },
    {
      "cell_type": "code",
      "source": [
        "targets"
      ],
      "metadata": {
        "colab": {
          "base_uri": "https://localhost:8080/"
        },
        "id": "tNsnd4sc-09Z",
        "outputId": "3699574c-d376-4c1b-f07f-af8e4c8c0e2c"
      },
      "execution_count": null,
      "outputs": [
        {
          "output_type": "execute_result",
          "data": {
            "text/plain": [
              "array([[0],\n",
              "       [0],\n",
              "       [0],\n",
              "       ...,\n",
              "       [0],\n",
              "       [0],\n",
              "       [0]], dtype=uint8)"
            ]
          },
          "metadata": {},
          "execution_count": 41
        }
      ]
    },
    {
      "cell_type": "code",
      "source": [
        "features"
      ],
      "metadata": {
        "colab": {
          "base_uri": "https://localhost:8080/"
        },
        "id": "Va-ZyjbA-pqH",
        "outputId": "7200c5fb-14a4-47e0-c98e-b74409788098"
      },
      "execution_count": null,
      "outputs": [
        {
          "output_type": "execute_result",
          "data": {
            "text/plain": [
              "array([[ 0.00000000e+00, -1.35980713e+00, -7.27811733e-02, ...,\n",
              "         1.33558377e-01, -2.10530535e-02,  1.49620000e+02],\n",
              "       [ 0.00000000e+00,  1.19185711e+00,  2.66150712e-01, ...,\n",
              "        -8.98309914e-03,  1.47241692e-02,  2.69000000e+00],\n",
              "       [ 1.00000000e+00, -1.35835406e+00, -1.34016307e+00, ...,\n",
              "        -5.53527940e-02, -5.97518406e-02,  3.78660000e+02],\n",
              "       ...,\n",
              "       [ 1.72788000e+05,  1.91956501e+00, -3.01253846e-01, ...,\n",
              "         4.45477214e-03, -2.65608286e-02,  6.78800000e+01],\n",
              "       [ 1.72788000e+05, -2.40440050e-01,  5.30482513e-01, ...,\n",
              "         1.08820735e-01,  1.04532821e-01,  1.00000000e+01],\n",
              "       [ 1.72792000e+05, -5.33412522e-01, -1.89733337e-01, ...,\n",
              "        -2.41530880e-03,  1.36489143e-02,  2.17000000e+02]])"
            ]
          },
          "metadata": {},
          "execution_count": 42
        }
      ]
    },
    {
      "cell_type": "markdown",
      "metadata": {
        "id": "IpiTu_U37u1g"
      },
      "source": [
        "## Prepare a validation set"
      ]
    },
    {
      "cell_type": "code",
      "metadata": {
        "id": "GscjzN_X7u1h",
        "colab": {
          "base_uri": "https://localhost:8080/"
        },
        "outputId": "e82bc0b7-0bd8-4f26-cb95-be2201c6b7f5"
      },
      "source": [
        "num_val_samples = int(len(features) * 0.2)\n",
        "train_features = features[:-num_val_samples]\n",
        "train_targets = targets[:-num_val_samples]\n",
        "val_features = features[-num_val_samples:]\n",
        "val_targets = targets[-num_val_samples:]\n",
        "\n",
        "print(\"Number of training samples:\", len(train_features))\n",
        "print(\"Number of validation samples:\", len(val_features))"
      ],
      "execution_count": null,
      "outputs": [
        {
          "output_type": "stream",
          "name": "stdout",
          "text": [
            "Number of training samples: 227846\n",
            "Number of validation samples: 56961\n"
          ]
        }
      ]
    },
    {
      "cell_type": "code",
      "source": [
        "num_val_samples"
      ],
      "metadata": {
        "colab": {
          "base_uri": "https://localhost:8080/"
        },
        "id": "MOLoM3OxqGIo",
        "outputId": "1ebe8c20-6381-4161-c4de-d1269ba41e06"
      },
      "execution_count": null,
      "outputs": [
        {
          "output_type": "execute_result",
          "data": {
            "text/plain": [
              "56961"
            ]
          },
          "metadata": {},
          "execution_count": 44
        }
      ]
    },
    {
      "cell_type": "markdown",
      "metadata": {
        "id": "hr2UHtRF7u1h"
      },
      "source": [
        "## Analyze class imbalance in the targets"
      ]
    },
    {
      "cell_type": "code",
      "source": [
        "counts = np.bincount(train_targets[:, 0])\n",
        "counts"
      ],
      "metadata": {
        "colab": {
          "base_uri": "https://localhost:8080/"
        },
        "id": "yAKkwof9JaM_",
        "outputId": "3e3996d4-55fd-4e76-bd38-64cfe27f7d5a"
      },
      "execution_count": null,
      "outputs": [
        {
          "output_type": "execute_result",
          "data": {
            "text/plain": [
              "array([227429,    417])"
            ]
          },
          "metadata": {},
          "execution_count": 45
        }
      ]
    },
    {
      "cell_type": "code",
      "metadata": {
        "id": "bA501v367u1h",
        "colab": {
          "base_uri": "https://localhost:8080/"
        },
        "outputId": "c1a41563-7dfd-4a3d-b307-33ec11329d50"
      },
      "source": [
        "print(\n",
        "    f\"Number of positive samples in training data: {counts[1]} ({100 * float(counts[1]) / len(train_targets):.2f}% of total)\"\n",
        ")\n",
        "\n",
        "weight_for_0 = 1.0 / counts[0]\n",
        "weight_for_1 = 1.0 / counts[1]"
      ],
      "execution_count": null,
      "outputs": [
        {
          "output_type": "stream",
          "name": "stdout",
          "text": [
            "Number of positive samples in training data: 417 (0.18% of total)\n"
          ]
        }
      ]
    },
    {
      "cell_type": "code",
      "source": [
        "weight_for_0"
      ],
      "metadata": {
        "colab": {
          "base_uri": "https://localhost:8080/"
        },
        "id": "50ShMuSsqX9M",
        "outputId": "7fa621e5-7692-4ca3-b744-66292613d6c8"
      },
      "execution_count": null,
      "outputs": [
        {
          "output_type": "execute_result",
          "data": {
            "text/plain": [
              "4.396976638863118e-06"
            ]
          },
          "metadata": {},
          "execution_count": 47
        }
      ]
    },
    {
      "cell_type": "code",
      "source": [
        "weight_for_1"
      ],
      "metadata": {
        "colab": {
          "base_uri": "https://localhost:8080/"
        },
        "id": "kAKCOTdTqZX4",
        "outputId": "eea11826-b90e-4f92-80d5-9ddb47dac9eb"
      },
      "execution_count": null,
      "outputs": [
        {
          "output_type": "execute_result",
          "data": {
            "text/plain": [
              "0.002398081534772182"
            ]
          },
          "metadata": {},
          "execution_count": 48
        }
      ]
    },
    {
      "cell_type": "markdown",
      "metadata": {
        "id": "1BjXTqzs7u1h"
      },
      "source": [
        "## Normalize the data using training set statistics"
      ]
    },
    {
      "cell_type": "code",
      "metadata": {
        "id": "LU9mk2Dk7u1i"
      },
      "source": [
        "mean = np.mean(train_features, axis=0)\n",
        "train_features -= mean\n",
        "val_features -= mean\n",
        "\n",
        "std = np.std(train_features, axis=0)\n",
        "train_features /= std\n",
        "val_features /= std"
      ],
      "execution_count": null,
      "outputs": []
    },
    {
      "cell_type": "markdown",
      "metadata": {
        "id": "QZbr3bsl7u1i"
      },
      "source": [
        "## Build a binary classification model"
      ]
    },
    {
      "cell_type": "markdown",
      "source": [
        "### Dropout\n",
        "\n",
        "Метод регуляризации искусственных нейронных сетей, предназначен для уменьшения переобучения сети за счет предотвращения сложных адаптаций отдельных нейронов на тренировочных данных во время обучения.\n",
        "\n",
        "Характеризует исключение определённого процента (например 50%) случайных нейронов на разных итерациях во время обучения нейронной сети. В результате  обучение происходит более общее, нет надежды на определенные нейроны. Такой приём значительно увеличивает скорость обучения, качество обучения на тренировочных данных, а также повышает качество предсказаний модели на новых тестовых данных.\n",
        "\n",
        "На моменте предсказания все нейроны включаются обратно, dropout не используется.\n",
        "\n",
        "<img src='https://drive.google.com/uc?export=view&id=1KQrdTDanDkLhf8Kn8c5ryjqN2acwYWII' width=500>"
      ],
      "metadata": {
        "id": "QQwzl6pDIxW_"
      }
    },
    {
      "cell_type": "code",
      "metadata": {
        "id": "1jgMgQLL7u1i",
        "colab": {
          "base_uri": "https://localhost:8080/"
        },
        "outputId": "4c39c0c9-449f-4c52-e740-2110889eddaa"
      },
      "source": [
        "from tensorflow import keras\n",
        "\n",
        "hid_size = 128\n",
        "model = keras.Sequential(\n",
        "    [\n",
        "        keras.layers.Dense(\n",
        "            hid_size, activation=\"relu\", input_shape=(train_features.shape[-1],)\n",
        "        ), # fully-connected y^1\n",
        "        keras.layers.Dense(hid_size//2, activation=\"relu\"), # y^2\n",
        "        keras.layers.Dropout(0.3),\n",
        "        keras.layers.Dense(hid_size//3, activation=\"relu\"), # y^3\n",
        "        keras.layers.Dropout(0.3),\n",
        "        keras.layers.Dense(1, activation=\"sigmoid\"), # y^4\n",
        "    ]\n",
        ")\n",
        "model.summary()"
      ],
      "execution_count": null,
      "outputs": [
        {
          "output_type": "stream",
          "name": "stdout",
          "text": [
            "Model: \"sequential_5\"\n",
            "_________________________________________________________________\n",
            " Layer (type)                Output Shape              Param #   \n",
            "=================================================================\n",
            " dense_20 (Dense)            (None, 128)               3968      \n",
            "                                                                 \n",
            " dense_21 (Dense)            (None, 64)                8256      \n",
            "                                                                 \n",
            " dropout_10 (Dropout)        (None, 64)                0         \n",
            "                                                                 \n",
            " dense_22 (Dense)            (None, 42)                2730      \n",
            "                                                                 \n",
            " dropout_11 (Dropout)        (None, 42)                0         \n",
            "                                                                 \n",
            " dense_23 (Dense)            (None, 1)                 43        \n",
            "                                                                 \n",
            "=================================================================\n",
            "Total params: 14,997\n",
            "Trainable params: 14,997\n",
            "Non-trainable params: 0\n",
            "_________________________________________________________________\n"
          ]
        }
      ]
    },
    {
      "cell_type": "code",
      "source": [
        "# [1, 4, 2, 1, 4] - 5 нейронов\n",
        "# [0, 4, 2, 0, 4] - 5 нейронов"
      ],
      "metadata": {
        "id": "thtZ6aLitNBZ"
      },
      "execution_count": null,
      "outputs": []
    },
    {
      "cell_type": "code",
      "source": [
        "30 * 256 + 256"
      ],
      "metadata": {
        "colab": {
          "base_uri": "https://localhost:8080/"
        },
        "id": "RetGc4GzsR47",
        "outputId": "48e6c0f4-6dd5-477d-9bb0-0094ca713c0e"
      },
      "execution_count": null,
      "outputs": [
        {
          "output_type": "execute_result",
          "data": {
            "text/plain": [
              "7936"
            ]
          },
          "metadata": {},
          "execution_count": 52
        }
      ]
    },
    {
      "cell_type": "code",
      "source": [
        "256 * 128 + 128"
      ],
      "metadata": {
        "colab": {
          "base_uri": "https://localhost:8080/"
        },
        "id": "p1hqBE07tBi4",
        "outputId": "eb34e7d3-2976-4cef-ba42-3112113ccf5a"
      },
      "execution_count": null,
      "outputs": [
        {
          "output_type": "execute_result",
          "data": {
            "text/plain": [
              "32896"
            ]
          },
          "metadata": {},
          "execution_count": 53
        }
      ]
    },
    {
      "cell_type": "markdown",
      "metadata": {
        "id": "nKJF0uxs7u1j"
      },
      "source": [
        "## Train the model with `class_weight` argument"
      ]
    },
    {
      "cell_type": "code",
      "metadata": {
        "id": "47TFfEAQ7u1j"
      },
      "source": [
        "metrics = [\n",
        "    keras.metrics.FalseNegatives(name=\"fn\"),\n",
        "    keras.metrics.FalsePositives(name=\"fp\"),\n",
        "    keras.metrics.Precision(name=\"precision\"),\n",
        "    keras.metrics.Recall(name=\"recall\"),\n",
        "]\n",
        "\n",
        "model.compile(\n",
        "    optimizer=keras.optimizers.Adam(1e-2),\n",
        "    loss=\"binary_crossentropy\",\n",
        "    metrics=metrics\n",
        ")"
      ],
      "execution_count": null,
      "outputs": []
    },
    {
      "cell_type": "code",
      "source": [
        "callbacks = [\n",
        "    keras.callbacks.ModelCheckpoint(\"fraud_model_at_epoch_{epoch}.h5\")\n",
        "]\n",
        "\n",
        "class_weight = {0: weight_for_0, 1: weight_for_1}"
      ],
      "metadata": {
        "id": "MWlFJlM0KYCM"
      },
      "execution_count": null,
      "outputs": []
    },
    {
      "cell_type": "markdown",
      "source": [
        "<img src='https://drive.google.com/uc?export=view&id=1j8SxKYEi12jzJXi_bPO28q5SV9emuu0Y'>"
      ],
      "metadata": {
        "id": "5G2Enr2YKV32"
      }
    },
    {
      "cell_type": "code",
      "source": [
        "train_features.shape[0] / 1024"
      ],
      "metadata": {
        "colab": {
          "base_uri": "https://localhost:8080/"
        },
        "id": "uf9l5sK3vfXD",
        "outputId": "1704d8e6-56d1-47d0-f7a9-1057ed0717b9"
      },
      "execution_count": null,
      "outputs": [
        {
          "output_type": "execute_result",
          "data": {
            "text/plain": [
              "222.505859375"
            ]
          },
          "metadata": {},
          "execution_count": 56
        }
      ]
    },
    {
      "cell_type": "code",
      "source": [
        "model.fit(\n",
        "    train_features,\n",
        "    train_targets,\n",
        "    batch_size=1024,\n",
        "    epochs=30,\n",
        "    callbacks=callbacks,\n",
        "    validation_data=(val_features, val_targets),\n",
        "    class_weight=class_weight,\n",
        ")"
      ],
      "metadata": {
        "colab": {
          "base_uri": "https://localhost:8080/"
        },
        "id": "EP8Bd8G2Jl96",
        "outputId": "993a14e9-5492-40bd-ac48-fb8754f0ff8f"
      },
      "execution_count": null,
      "outputs": [
        {
          "output_type": "stream",
          "name": "stdout",
          "text": [
            "Epoch 1/30\n",
            "223/223 [==============================] - 6s 23ms/step - loss: 2.4824e-06 - fn: 45.0000 - fp: 21211.0000 - precision: 0.0172 - recall: 0.8921 - val_loss: 0.1011 - val_fn: 11.0000 - val_fp: 206.0000 - val_precision: 0.2370 - val_recall: 0.8533\n",
            "Epoch 2/30\n",
            "223/223 [==============================] - 4s 19ms/step - loss: 1.5935e-06 - fn: 37.0000 - fp: 8469.0000 - precision: 0.0429 - recall: 0.9113 - val_loss: 0.0934 - val_fn: 10.0000 - val_fp: 405.0000 - val_precision: 0.1383 - val_recall: 0.8667\n",
            "Epoch 3/30\n",
            "223/223 [==============================] - 4s 18ms/step - loss: 1.2953e-06 - fn: 31.0000 - fp: 6517.0000 - precision: 0.0559 - recall: 0.9257 - val_loss: 0.2228 - val_fn: 7.0000 - val_fp: 2990.0000 - val_precision: 0.0222 - val_recall: 0.9067\n",
            "Epoch 4/30\n",
            "223/223 [==============================] - 5s 20ms/step - loss: 1.1290e-06 - fn: 30.0000 - fp: 6732.0000 - precision: 0.0544 - recall: 0.9281 - val_loss: 0.0891 - val_fn: 7.0000 - val_fp: 1376.0000 - val_precision: 0.0471 - val_recall: 0.9067\n",
            "Epoch 5/30\n",
            "223/223 [==============================] - 4s 19ms/step - loss: 1.0774e-06 - fn: 21.0000 - fp: 7149.0000 - precision: 0.0525 - recall: 0.9496 - val_loss: 0.1165 - val_fn: 10.0000 - val_fp: 1138.0000 - val_precision: 0.0540 - val_recall: 0.8667\n",
            "Epoch 6/30\n",
            "223/223 [==============================] - 4s 17ms/step - loss: 1.0600e-06 - fn: 21.0000 - fp: 6391.0000 - precision: 0.0583 - recall: 0.9496 - val_loss: 0.0892 - val_fn: 7.0000 - val_fp: 1554.0000 - val_precision: 0.0419 - val_recall: 0.9067\n",
            "Epoch 7/30\n",
            "223/223 [==============================] - 5s 21ms/step - loss: 8.4116e-07 - fn: 19.0000 - fp: 6516.0000 - precision: 0.0576 - recall: 0.9544 - val_loss: 0.0740 - val_fn: 8.0000 - val_fp: 1359.0000 - val_precision: 0.0470 - val_recall: 0.8933\n",
            "Epoch 8/30\n",
            "223/223 [==============================] - 4s 20ms/step - loss: 7.5817e-07 - fn: 19.0000 - fp: 5995.0000 - precision: 0.0623 - recall: 0.9544 - val_loss: 0.0797 - val_fn: 5.0000 - val_fp: 1775.0000 - val_precision: 0.0379 - val_recall: 0.9333\n",
            "Epoch 9/30\n",
            "223/223 [==============================] - 4s 17ms/step - loss: 1.7660e-06 - fn: 24.0000 - fp: 7448.0000 - precision: 0.0501 - recall: 0.9424 - val_loss: 0.1460 - val_fn: 4.0000 - val_fp: 3034.0000 - val_precision: 0.0229 - val_recall: 0.9467\n",
            "Epoch 10/30\n",
            "223/223 [==============================] - 5s 21ms/step - loss: 1.4033e-06 - fn: 20.0000 - fp: 7227.0000 - precision: 0.0521 - recall: 0.9520 - val_loss: 0.0998 - val_fn: 8.0000 - val_fp: 1299.0000 - val_precision: 0.0490 - val_recall: 0.8933\n",
            "Epoch 11/30\n",
            "223/223 [==============================] - 4s 19ms/step - loss: 2.5746e-06 - fn: 21.0000 - fp: 5792.0000 - precision: 0.0640 - recall: 0.9496 - val_loss: 0.0634 - val_fn: 10.0000 - val_fp: 573.0000 - val_precision: 0.1019 - val_recall: 0.8667\n",
            "Epoch 12/30\n",
            "223/223 [==============================] - 4s 17ms/step - loss: 9.6670e-07 - fn: 24.0000 - fp: 6664.0000 - precision: 0.0557 - recall: 0.9424 - val_loss: 0.0274 - val_fn: 10.0000 - val_fp: 610.0000 - val_precision: 0.0963 - val_recall: 0.8667\n",
            "Epoch 13/30\n",
            "223/223 [==============================] - 5s 23ms/step - loss: 1.5571e-06 - fn: 20.0000 - fp: 7651.0000 - precision: 0.0493 - recall: 0.9520 - val_loss: 0.0514 - val_fn: 9.0000 - val_fp: 876.0000 - val_precision: 0.0701 - val_recall: 0.8800\n",
            "Epoch 14/30\n",
            "223/223 [==============================] - 4s 20ms/step - loss: 1.0428e-06 - fn: 21.0000 - fp: 6234.0000 - precision: 0.0597 - recall: 0.9496 - val_loss: 0.0682 - val_fn: 9.0000 - val_fp: 1221.0000 - val_precision: 0.0513 - val_recall: 0.8800\n",
            "Epoch 15/30\n",
            "223/223 [==============================] - 4s 17ms/step - loss: 6.9960e-07 - fn: 11.0000 - fp: 5927.0000 - precision: 0.0641 - recall: 0.9736 - val_loss: 0.0170 - val_fn: 11.0000 - val_fp: 292.0000 - val_precision: 0.1798 - val_recall: 0.8533\n",
            "Epoch 16/30\n",
            "223/223 [==============================] - 4s 20ms/step - loss: 5.6392e-07 - fn: 9.0000 - fp: 5179.0000 - precision: 0.0730 - recall: 0.9784 - val_loss: 0.0242 - val_fn: 10.0000 - val_fp: 519.0000 - val_precision: 0.1113 - val_recall: 0.8667\n",
            "Epoch 17/30\n",
            "223/223 [==============================] - 4s 20ms/step - loss: 5.9483e-07 - fn: 10.0000 - fp: 4919.0000 - precision: 0.0764 - recall: 0.9760 - val_loss: 0.0324 - val_fn: 8.0000 - val_fp: 603.0000 - val_precision: 0.1000 - val_recall: 0.8933\n",
            "Epoch 18/30\n",
            "223/223 [==============================] - 4s 17ms/step - loss: 5.2333e-07 - fn: 7.0000 - fp: 3912.0000 - precision: 0.0949 - recall: 0.9832 - val_loss: 0.0242 - val_fn: 10.0000 - val_fp: 484.0000 - val_precision: 0.1184 - val_recall: 0.8667\n",
            "Epoch 19/30\n",
            "223/223 [==============================] - 4s 20ms/step - loss: 5.5670e-07 - fn: 9.0000 - fp: 5250.0000 - precision: 0.0721 - recall: 0.9784 - val_loss: 0.0223 - val_fn: 11.0000 - val_fp: 374.0000 - val_precision: 0.1461 - val_recall: 0.8533\n",
            "Epoch 20/30\n",
            "223/223 [==============================] - 5s 20ms/step - loss: 5.0268e-07 - fn: 6.0000 - fp: 5170.0000 - precision: 0.0736 - recall: 0.9856 - val_loss: 0.0451 - val_fn: 9.0000 - val_fp: 1466.0000 - val_precision: 0.0431 - val_recall: 0.8800\n",
            "Epoch 21/30\n",
            "223/223 [==============================] - 4s 17ms/step - loss: 4.3953e-07 - fn: 5.0000 - fp: 4698.0000 - precision: 0.0806 - recall: 0.9880 - val_loss: 0.0162 - val_fn: 10.0000 - val_fp: 318.0000 - val_precision: 0.1697 - val_recall: 0.8667\n",
            "Epoch 22/30\n",
            "223/223 [==============================] - 4s 20ms/step - loss: 3.6923e-07 - fn: 2.0000 - fp: 3928.0000 - precision: 0.0956 - recall: 0.9952 - val_loss: 0.0169 - val_fn: 9.0000 - val_fp: 321.0000 - val_precision: 0.1705 - val_recall: 0.8800\n",
            "Epoch 23/30\n",
            "223/223 [==============================] - 4s 20ms/step - loss: 3.2137e-07 - fn: 3.0000 - fp: 3930.0000 - precision: 0.0953 - recall: 0.9928 - val_loss: 0.0346 - val_fn: 8.0000 - val_fp: 845.0000 - val_precision: 0.0735 - val_recall: 0.8933\n",
            "Epoch 24/30\n",
            "223/223 [==============================] - 4s 17ms/step - loss: 5.4041e-07 - fn: 5.0000 - fp: 4921.0000 - precision: 0.0773 - recall: 0.9880 - val_loss: 0.0103 - val_fn: 13.0000 - val_fp: 123.0000 - val_precision: 0.3351 - val_recall: 0.8267\n",
            "Epoch 25/30\n",
            "223/223 [==============================] - 4s 19ms/step - loss: 8.0749e-07 - fn: 8.0000 - fp: 5450.0000 - precision: 0.0698 - recall: 0.9808 - val_loss: 0.1431 - val_fn: 8.0000 - val_fp: 1464.0000 - val_precision: 0.0438 - val_recall: 0.8933\n",
            "Epoch 26/30\n",
            "223/223 [==============================] - 5s 21ms/step - loss: 1.3353e-06 - fn: 18.0000 - fp: 7492.0000 - precision: 0.0506 - recall: 0.9568 - val_loss: 0.0314 - val_fn: 9.0000 - val_fp: 473.0000 - val_precision: 0.1224 - val_recall: 0.8800\n",
            "Epoch 27/30\n",
            "223/223 [==============================] - 4s 17ms/step - loss: 5.1696e-07 - fn: 6.0000 - fp: 4458.0000 - precision: 0.0844 - recall: 0.9856 - val_loss: 0.0300 - val_fn: 10.0000 - val_fp: 673.0000 - val_precision: 0.0881 - val_recall: 0.8667\n",
            "Epoch 28/30\n",
            "223/223 [==============================] - 4s 18ms/step - loss: 5.1102e-07 - fn: 8.0000 - fp: 5440.0000 - precision: 0.0699 - recall: 0.9808 - val_loss: 0.0236 - val_fn: 8.0000 - val_fp: 485.0000 - val_precision: 0.1214 - val_recall: 0.8933\n",
            "Epoch 29/30\n",
            "223/223 [==============================] - 5s 22ms/step - loss: 1.7529e-06 - fn: 14.0000 - fp: 7944.0000 - precision: 0.0483 - recall: 0.9664 - val_loss: 0.0487 - val_fn: 8.0000 - val_fp: 887.0000 - val_precision: 0.0702 - val_recall: 0.8933\n",
            "Epoch 30/30\n",
            "223/223 [==============================] - 4s 17ms/step - loss: 1.1031e-06 - fn: 10.0000 - fp: 5932.0000 - precision: 0.0642 - recall: 0.9760 - val_loss: 0.0688 - val_fn: 8.0000 - val_fp: 1704.0000 - val_precision: 0.0378 - val_recall: 0.8933\n"
          ]
        },
        {
          "output_type": "execute_result",
          "data": {
            "text/plain": [
              "<keras.callbacks.History at 0x7f8895ff8610>"
            ]
          },
          "metadata": {},
          "execution_count": 57
        }
      ]
    },
    {
      "cell_type": "markdown",
      "source": [
        "#**Дополнительные материалы**\n",
        "\n",
        "\n",
        "**По теории:**\n",
        "1. [Interactive neural network playground in your browser](http://playground.tensorflow.org/#activation=tanh&batchSize=10&dataset=circle&regDataset=reg-plane&learningRate=0.03&regularizationRate=0&noise=0&networkShape=4,2&seed=0.72732&showTestData=false&discretize=false&percTrainData=50&x=true&y=true&xTimesY=false&xSquared=false&ySquared=false&cosX=false&sinX=false&cosY=false&sinY=false&collectStats=false&problem=classification&initZero=false&hideText=false)\n",
        "2. Backprop in depth by cs231 - https://cs231n.github.io/optimization-2/\n",
        "3. Минусы и плюсы функций активаций (видео) - https://youtu.be/Gs8T_qF-FAA\n",
        "4. A recipe for training neural networks  - http://karpathy.github.io/2019/04/25/recipe/\n",
        "5. Метод обратного распространения ошибки (видео) - https://youtu.be/EuhoXsuu8SQ\n",
        "6. Примерно аналогичный материал с лекции, только от Стенфорда и на английском - http://cs231n.github.io/neural-networks-1/#nn\n",
        "7. Official intro to Keras - https://keras.io/getting_started/intro_to_keras_for_researchers/\n",
        "8. Deep learning frameworks (видео) - https://www.youtube.com/watch?v=ghZyptkanB0\n",
        "\n",
        "\n",
        "**По практике:**\n",
        "1. Метод fit в Keras (видео) - https://youtu.be/PLlic60dgS4\n",
        "2. Callbacks в Keras. ModelCheckpoint, ReduceLROnPlateau, EarlyStopping (видео) - https://youtu.be/sq9HvLAsK94"
      ],
      "metadata": {
        "id": "VAAcSs2h98Rg"
      }
    }
  ]
}