{
  "cells": [
    {
      "cell_type": "markdown",
      "metadata": {
        "id": "view-in-github",
        "colab_type": "text"
      },
      "source": [
        "<a href=\"https://colab.research.google.com/github/svetaepc/ds_py/blob/master/mb_05_2023_price.ipynb\" target=\"_parent\"><img src=\"https://colab.research.google.com/assets/colab-badge.svg\" alt=\"Open In Colab\"/></a>"
      ]
    },
    {
      "cell_type": "code",
      "execution_count": null,
      "id": "4c84f850",
      "metadata": {
        "id": "4c84f850",
        "outputId": "1f83ce6c-48f4-42cf-c8da-168940e38abf"
      },
      "outputs": [
        {
          "data": {
            "text/html": [
              "<div>\n",
              "<style scoped>\n",
              "    .dataframe tbody tr th:only-of-type {\n",
              "        vertical-align: middle;\n",
              "    }\n",
              "\n",
              "    .dataframe tbody tr th {\n",
              "        vertical-align: top;\n",
              "    }\n",
              "\n",
              "    .dataframe thead th {\n",
              "        text-align: right;\n",
              "    }\n",
              "</style>\n",
              "<table border=\"1\" class=\"dataframe\">\n",
              "  <thead>\n",
              "    <tr style=\"text-align: right;\">\n",
              "      <th></th>\n",
              "      <th>Artikel</th>\n",
              "      <th>BezDE</th>\n",
              "      <th>Preis</th>\n",
              "      <th>RG</th>\n",
              "      <th>Gewicht</th>\n",
              "    </tr>\n",
              "  </thead>\n",
              "  <tbody>\n",
              "    <tr>\n",
              "      <th>0</th>\n",
              "      <td>A0000002101</td>\n",
              "      <td>ZB ZYLINDERKOPF MIT MUFFL</td>\n",
              "      <td>298,5</td>\n",
              "      <td>20</td>\n",
              "      <td>0</td>\n",
              "    </tr>\n",
              "    <tr>\n",
              "      <th>1</th>\n",
              "      <td>A00000041950070</td>\n",
              "      <td>FLAECHENLEDER  AL70 APRIC</td>\n",
              "      <td>111</td>\n",
              "      <td>3</td>\n",
              "      <td>0</td>\n",
              "    </tr>\n",
              "    <tr>\n",
              "      <th>2</th>\n",
              "      <td>A0000004195111938</td>\n",
              "      <td>FLAECHENLEDER AL63 EVOGRA</td>\n",
              "      <td>111</td>\n",
              "      <td>3</td>\n",
              "      <td>0</td>\n",
              "    </tr>\n",
              "    <tr>\n",
              "      <th>3</th>\n",
              "      <td>A00000041951916</td>\n",
              "      <td>FLAECHENLEDER AL58 AEROGR</td>\n",
              "      <td>130</td>\n",
              "      <td>5</td>\n",
              "      <td>0</td>\n",
              "    </tr>\n",
              "    <tr>\n",
              "      <th>4</th>\n",
              "      <td>A00000041951919</td>\n",
              "      <td>LEDER, ROT</td>\n",
              "      <td>130</td>\n",
              "      <td>5</td>\n",
              "      <td>0</td>\n",
              "    </tr>\n",
              "  </tbody>\n",
              "</table>\n",
              "</div>"
            ],
            "text/plain": [
              "             Artikel                      BezDE  Preis  RG Gewicht\n",
              "0        A0000002101  ZB ZYLINDERKOPF MIT MUFFL  298,5  20       0\n",
              "1    A00000041950070  FLAECHENLEDER  AL70 APRIC    111   3       0\n",
              "2  A0000004195111938  FLAECHENLEDER AL63 EVOGRA    111   3       0\n",
              "3    A00000041951916  FLAECHENLEDER AL58 AEROGR    130   5       0\n",
              "4    A00000041951919                 LEDER, ROT    130   5       0"
            ]
          },
          "execution_count": 2,
          "metadata": {},
          "output_type": "execute_result"
        }
      ],
      "source": [
        "import tkinter as tk\n",
        "from tkinter import ttk\n",
        "from tkinter import scrolledtext\n",
        "import sys\n",
        "import pandas as pd\n",
        "import numpy as np\n",
        "#======================\n",
        "\n",
        "mb = pd.read_csv(\"LKW 05-2023-Price.csv\",\n",
        "                    sep=\";\",\n",
        "                    encoding=\"windows-1251\", usecols=[\"Artikel\", \"BezDE\",  \"Preis\", \"RG\", \"Gewicht\"])\n",
        "\n",
        "# mb = pd.read_csv(\"LKW 05-2023-Price.csv\",\n",
        "#                     sep=\";\",\n",
        "#                     encoding=\"utf-8\", usecols=[\"Artikel\", \"BezDE\",  \"Preis\", \"RG\", \"Gewicht\"])\n",
        "\n",
        "mb.head()\n",
        "\n",
        "# encoding='windows-1251'"
      ]
    },
    {
      "cell_type": "code",
      "execution_count": null,
      "id": "05c23714",
      "metadata": {
        "id": "05c23714"
      },
      "outputs": [],
      "source": [
        "\n",
        "win = tk.Tk() #start of the main window\n",
        "win.title(\"LKW Mercedes-Benz-Preisliste 05.2023\")\n",
        "#function that will search the dataframe column \"company\" for any matches\n",
        "def close_window():\n",
        "    win.destroy()\n",
        "\n",
        "def search_df(*event):\n",
        "    search_result = mb.loc[mb['Artikel'].str.contains(e1_value.get(),\n",
        "                               na=False, #ignore the cell's value is Nan\n",
        "                               case=False)] #case insensitive\n",
        "    scr.insert(tk.END,search_result)\n",
        "\n",
        "def clearTextInput():\n",
        "    scr.delete(\"1.0\",\"end\")\n",
        "#=========================\n",
        "# Disable resizing the GUI\n",
        "#=========================\n",
        "win.resizable(0,0)\n",
        "\n",
        "#===============================================================================\n",
        "# Using a scrolled Text control    \n",
        "#===============================================================================\n",
        "# outputFrame = tk.Text(win, text=' Type into the scrolled text control: ')\n",
        "outputFrame = tk.Text(win,height=25,width=100, wrap=\"none\")\n",
        "outputFrame.grid(column=0, row=2, sticky='E', padx=8)\n",
        "scrolW  = 100\n",
        "scrolH  = 25\n",
        "# scr = scrolledtext.ScrolledText(outputFrame, width=scrolW, height=scrolH, wrap=tk.WORD)\n",
        "scr = scrolledtext.ScrolledText(outputFrame, width=scrolW, height=scrolH, wrap=\"none\")\n",
        "scr.grid(column=1, row=0, sticky='WE')\n",
        "#===\n",
        "#Creates the entry box and link the e1_value to the variable\n",
        "e1_value=tk.StringVar()\n",
        "e1=tk.Entry(win, textvariable=e1_value)\n",
        "e1.grid(row=0,column=0)\n",
        "#execute the search_df function when you hit the \"enter\" key and put an event\n",
        "#parameter\n",
        "e1.bind(\"<Return>\", search_df) \n",
        "\n",
        "#Creates a button\n",
        "b1=tk.Button(win,\n",
        "             width=20,\n",
        "             text='Поиск по номеру MB',\n",
        "             command=search_df)\n",
        "\n",
        "b1.grid(row=0,column=1)\n",
        "\n",
        "exit_btn = tk.Button( text=\"Выходим!\",command=close_window) \n",
        "exit_btn.grid(row=5, column=2)\n",
        "\n",
        "btnClear = tk.Button(text=\"Очистить!\", command=clearTextInput)                  \n",
        "btnClear.grid(row=5, column=7)\n",
        "\n",
        "#===\n",
        "win.mainloop()"
      ]
    },
    {
      "cell_type": "code",
      "execution_count": null,
      "id": "76b27d91",
      "metadata": {
        "id": "76b27d91"
      },
      "outputs": [],
      "source": []
    }
  ],
  "metadata": {
    "kernelspec": {
      "display_name": "Python 3 (ipykernel)",
      "language": "python",
      "name": "python3"
    },
    "language_info": {
      "codemirror_mode": {
        "name": "ipython",
        "version": 3
      },
      "file_extension": ".py",
      "mimetype": "text/x-python",
      "name": "python",
      "nbconvert_exporter": "python",
      "pygments_lexer": "ipython3",
      "version": "3.9.13"
    },
    "colab": {
      "provenance": [],
      "include_colab_link": true
    }
  },
  "nbformat": 4,
  "nbformat_minor": 5
}