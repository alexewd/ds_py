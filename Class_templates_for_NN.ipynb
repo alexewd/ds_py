{
  "nbformat": 4,
  "nbformat_minor": 0,
  "metadata": {
    "colab": {
      "provenance": [],
      "include_colab_link": true
    },
    "kernelspec": {
      "name": "python3",
      "display_name": "Python 3"
    },
    "language_info": {
      "name": "python"
    }
  },
  "cells": [
    {
      "cell_type": "markdown",
      "metadata": {
        "id": "view-in-github",
        "colab_type": "text"
      },
      "source": [
        "<a href=\"https://colab.research.google.com/github/svetaepc/ds_py/blob/master/Class_templates_for_NN.ipynb\" target=\"_parent\"><img src=\"https://colab.research.google.com/assets/colab-badge.svg\" alt=\"Open In Colab\"/></a>"
      ]
    },
    {
      "cell_type": "code",
      "execution_count": null,
      "metadata": {
        "id": "zgTZFJsa-KPJ"
      },
      "outputs": [],
      "source": [
        "import tensorflow as tf\n",
        "import numpy as np"
      ]
    },
    {
      "cell_type": "markdown",
      "source": [
        "## Создать класс `NeuralNetwork`, который будет иметь следующие методы:\n",
        "\n",
        "- `__init__(self, num_inputs, num_hidden, num_outputs)`: инициализация модели с указанием количества входных, скрытых и выходных нейронов.\n",
        "- `forward(self, X)`: метод для прямого прохода по нейронной сети, который принимает на вход данные `X` и возвращает результаты предсказаний модели.\n",
        "- `train(self, X, Y, epochs, batch_size)`: метод для обучения модели на данных `X` и с правильными ответами `Y` в течение определенного количества эпох `epochs` с размером пакета `batch_size`.\n"
      ],
      "metadata": {
        "id": "akkATGlnnI7p"
      }
    },
    {
      "cell_type": "code",
      "source": [
        "class NeuralNetwork:\n",
        "    def __init__(self, num_inputs, num_hidden, num_outputs):\n",
        "        self.W1 = tf.Variable(tf.random.normal([num_inputs, num_hidden]))\n",
        "        self.b1 = tf.Variable(tf.zeros([num_hidden]))\n",
        "        self.W2 = tf.Variable(tf.random.normal([num_hidden, num_outputs]))\n",
        "        self.b2 = tf.Variable(tf.zeros([num_outputs]))\n",
        "\n",
        "    def forward(self, X):\n",
        "        Z = tf.matmul(X, self.W1) + self.b1\n",
        "        Z = tf.nn.sigmoid(Z)\n",
        "        y_pred = tf.matmul(Z, self.W2) + self.b2\n",
        "        return y_pred\n",
        "\n",
        "    def train(self, X, Y, epochs, batch_size):\n",
        "        optimizer = tf.optimizers.SGD(learning_rate=0.1)\n",
        "        num_batches = X.shape[0] // batch_size\n",
        "\n",
        "        for i in range(epochs):\n",
        "            for j in range(num_batches):\n",
        "                Xbatch = X[j*batch_size:(j+1)*batch_size, :]\n",
        "                Ybatch = Y[j*batch_size:(j+1)*batch_size, :]\n",
        "                with tf.GradientTape() as tape:\n",
        "                    predictions = self.forward(Xbatch)\n",
        "                    loss = tf.reduce_mean(tf.square(predictions - Ybatch))\n",
        "                grads = tape.gradient(loss, [self.W1, self.b1, self.W2, self.b2])\n",
        "                optimizer.apply_gradients(zip(grads, [self.W1, self.b1, self.W2, self.b2]))\n",
        "\n",
        "            print(\"Epoch \", i, \" Loss: \", loss.numpy())\n"
      ],
      "metadata": {
        "id": "UkLqS3YCnGGL"
      },
      "execution_count": null,
      "outputs": []
    },
    {
      "cell_type": "markdown",
      "source": [
        " Создание экземпляра класса и вызов метода `train` для обучения модели:"
      ],
      "metadata": {
        "id": "85C55D_SnNfx"
      }
    },
    {
      "cell_type": "code",
      "source": [
        "# создание нейронной сети с одним скрытым слоем из 10 нейронов\n",
        "nn = NeuralNetwork(num_inputs=4, num_hidden=10, num_outputs=3)\n",
        "\n",
        "# обучение модели на данных X и метках Y\n",
        "nn.train(X, Y, epochs=1000, batch_size=50)"
      ],
      "metadata": {
        "id": "YqVv0SE7nTsB"
      },
      "execution_count": null,
      "outputs": []
    },
    {
      "cell_type": "markdown",
      "source": [
        "5. Вызов метода `forward` для получения предсказаний на новых данных:"
      ],
      "metadata": {
        "id": "-x44matnnXtx"
      }
    },
    {
      "cell_type": "code",
      "source": [
        "# получение предсказаний на новых данных X_test\n",
        "Y_pred = nn.forward(X_test)"
      ],
      "metadata": {
        "id": "ICXLa76hndVR"
      },
      "execution_count": null,
      "outputs": []
    },
    {
      "cell_type": "markdown",
      "source": [
        "## Создание класса для запуска модели нейронной сети в TensorFlow с наследованием может быть выполнено следующим образом:\n",
        "\n",
        "1. Создайте базовый класс, который будет содержать общие методы и свойства для всех моделей нейронных сетей. Например:"
      ],
      "metadata": {
        "id": "wkwzyRTdoDMS"
      }
    },
    {
      "cell_type": "code",
      "source": [
        "import tensorflow as tf\n",
        "\n",
        "class NeuralNetwork:\n",
        "    def __init__(self):\n",
        "        self.model = None\n",
        "\n",
        "    def build_model(self):\n",
        "        raise NotImplementedError\n",
        "\n",
        "    def train(self, X, y):\n",
        "        raise NotImplementedError\n",
        "\n",
        "    def evaluate(self, X, y):\n",
        "        raise NotImplementedError\n",
        "\n",
        "    def predict(self, X):\n",
        "        raise NotImplementedError\n",
        "\n",
        "    def save_model(self, model_path):\n",
        "        if self.model:\n",
        "            self.model.save(model_path)\n",
        "\n",
        "    def load_model(self, model_path):\n",
        "        self.model = tf.keras.models.load_model(model_path)\n"
      ],
      "metadata": {
        "id": "hzX9TipjoGCU"
      },
      "execution_count": null,
      "outputs": []
    },
    {
      "cell_type": "markdown",
      "source": [
        "2. Создайте новый класс, наследующийся от базового класса, и определите специфичные для конкретной модели методы и свойства. Например:"
      ],
      "metadata": {
        "id": "aKAj2Ts-oOLC"
      }
    },
    {
      "cell_type": "code",
      "source": [
        "class MyNeuralNetwork(NeuralNetwork):\n",
        "    def __init__(self):\n",
        "        super().__init__()\n",
        "\n",
        "    def build_model(self):\n",
        "        # Определите вашу модель нейронной сети с помощью TensorFlow\n",
        "        self.model = tf.keras.Sequential([...])\n",
        "\n",
        "    def train(self, X, y):\n",
        "        # Обучите вашу модель\n",
        "        self.model.fit(X, y, ...)\n",
        "\n",
        "    def evaluate(self, X, y):\n",
        "        # Оцените качество вашей модели\n",
        "        loss, acc = self.model.evaluate(X, y)\n",
        "        print(\"Test accuracy: {:.2f}%\".format(acc * 100))\n",
        "\n",
        "    def predict(self, X):\n",
        "        # Предскажите значения для новых данных\n",
        "        return self.model.predict(X)\n"
      ],
      "metadata": {
        "id": "yu_wwpzloRzE"
      },
      "execution_count": null,
      "outputs": []
    },
    {
      "cell_type": "markdown",
      "source": [
        "3. Используйте новый класс для создания и обучения вашей модели нейронной сети. Например:"
      ],
      "metadata": {
        "id": "iN4haoBSoUc5"
      }
    },
    {
      "cell_type": "code",
      "source": [
        "nn = MyNeuralNetwork()\n",
        "nn.build_model()\n",
        "nn.train(X_train, y_train)\n",
        "nn.evaluate(X_test, y_test)\n",
        "y_pred = nn.predict(X_test)\n",
        "nn.save_model('my_model.h5')\n"
      ],
      "metadata": {
        "id": "7diJoBSaoX_J"
      },
      "execution_count": null,
      "outputs": []
    },
    {
      "cell_type": "markdown",
      "source": [
        "Таким образом, вы можете наследовать общие методы и свойства от базового класса NeuralNetwork, а также определять специфичные для конкретной модели методы и свойства в классе-наследнике MyNeuralNetwork."
      ],
      "metadata": {
        "id": "f2sfs9EKoZXJ"
      }
    },
    {
      "cell_type": "markdown",
      "source": [
        "## Для реализации класса для запуска модели нейронной сети в PyTorch необходимо выполнить следующие шаги:"
      ],
      "metadata": {
        "id": "lM9tr01MpWD6"
      }
    },
    {
      "cell_type": "code",
      "source": [
        "import torch\n",
        "import torch.nn.functional as F\n"
      ],
      "metadata": {
        "id": "00jBK_QEpaMl"
      },
      "execution_count": null,
      "outputs": []
    },
    {
      "cell_type": "markdown",
      "source": [
        "Создать класс, наследуемый от `torch.nn.Module`. Этот класс будет содержать определение структуры нейронной сети и метод `forward()`, который определяет передачу данных через сеть. Например:"
      ],
      "metadata": {
        "id": "FcuI5tGhpffh"
      }
    },
    {
      "cell_type": "code",
      "source": [
        "class NeuralNetwork(torch.nn.Module):\n",
        "    def __init__(self):\n",
        "        super(NeuralNetwork, self).__init__()\n",
        "        self.conv1 = torch.nn.Conv2d(1, 32, kernel_size=3, stride=1, padding=1)\n",
        "        self.conv2 = torch.nn.Conv2d(32, 64, kernel_size=3, stride=1, padding=1)\n",
        "        self.fc1 = torch.nn.Linear(7 * 7 * 64, 128)\n",
        "        self.fc2 = torch.nn.Linear(128, 10)\n",
        "\n",
        "    def forward(self, x):\n",
        "        x = F.relu(self.conv1(x))\n",
        "        x = F.max_pool2d(x, 2)\n",
        "        x = F.relu(self.conv2(x))\n",
        "        x = F.max_pool2d(x, 2)\n",
        "        x = x.view(-1, 7 * 7 * 64)\n",
        "        x = F.relu(self.fc1(x))\n",
        "        x = F.dropout(x, training=self.training)\n",
        "        x = self.fc2(x)\n",
        "        return F.log_softmax(x, dim=1)"
      ],
      "metadata": {
        "id": "R6pN6qEApe0x"
      },
      "execution_count": null,
      "outputs": []
    },
    {
      "cell_type": "markdown",
      "source": [
        "В этом примере создается нейронная сеть для классификации изображений, состоящая из двух сверточных слоев и двух полносвязных слоев.\n",
        "\n",
        "Создать экземпляр класса и инициализировать его веса:"
      ],
      "metadata": {
        "id": "Uk41GZe7plZh"
      }
    },
    {
      "cell_type": "code",
      "source": [
        "net = NeuralNetwork()\n",
        "net.apply(torch.nn.init.xavier_uniform_)"
      ],
      "metadata": {
        "id": "bkPsz9AdpptR"
      },
      "execution_count": null,
      "outputs": []
    },
    {
      "cell_type": "markdown",
      "source": [
        "Определить параметры обучения модели:"
      ],
      "metadata": {
        "id": "7kmmUzb7ptcB"
      }
    },
    {
      "cell_type": "code",
      "source": [
        "criterion = torch.nn.CrossEntropyLoss()"
      ],
      "metadata": {
        "id": "WdwFLpo9puCS"
      },
      "execution_count": null,
      "outputs": []
    },
    {
      "cell_type": "markdown",
      "source": [
        "Определить функцию для обучения модели, которая обновляет веса в соответствии с градиентами, вычисленными на основе прямого и обратного распространения ошибки:"
      ],
      "metadata": {
        "id": "tPNRb3fkpwDR"
      }
    },
    {
      "cell_type": "code",
      "source": [
        "def train(net, train_loader, optimizer, criterion):\n",
        "    net.train()\n",
        "    running_loss = 0.0\n",
        "    for i, data in enumerate(train_loader, 0):\n",
        "        inputs, labels = data\n",
        "        optimizer.zero_grad()\n",
        "        outputs = net(inputs)\n",
        "        loss = criterion(outputs, labels)\n",
        "        loss.backward()\n",
        "        optimizer.step()\n",
        "        running_loss += loss.item()\n",
        "    return running_loss / len(train_loader)"
      ],
      "metadata": {
        "id": "SCWCMJXzp0KH"
      },
      "execution_count": null,
      "outputs": []
    },
    {
      "cell_type": "markdown",
      "source": [
        "Определить функцию для проверки модели на тестовых данных:"
      ],
      "metadata": {
        "id": "xnp0l9frp20h"
      }
    },
    {
      "cell_type": "code",
      "source": [
        "def test(net, test_loader, criterion):\n",
        "    net.eval()\n",
        "    running_loss = 0.0\n",
        "    correct = 0\n",
        "    total = 0\n",
        "    with torch.no_grad():\n",
        "        for i, data in enumerate(test_loader, 0):\n",
        "            inputs, labels = data\n",
        "            outputs = net(inputs)\n",
        "            loss = criterion(outputs, labels)\n",
        "            running_loss += loss.item()\n",
        "            _, predicted = torch.max(outputs.data, 1)\n",
        "            total += labels.size(0)\n",
        "            correct += (predicted == labels).sum().item()\n",
        "    accuracy = correct / total\n",
        "    return running_loss / len(test_loader), accuracy"
      ],
      "metadata": {
        "id": "0ua9vtLnp49B"
      },
      "execution_count": null,
      "outputs": []
    },
    {
      "cell_type": "markdown",
      "source": [
        "Определить цикл обучения, который будет повторяться заданное число эпох:"
      ],
      "metadata": {
        "id": "jnIlcXa_p9wY"
      }
    },
    {
      "cell_type": "code",
      "source": [
        "num_epochs = 10\n",
        "for epoch in range(num_epochs):\n",
        "    train_loss = train(net, train_loader, optimizer, criterion)\n",
        "    test_loss, test_acc = test(net, test_loader, criterion)\n",
        "    print(f\"Epoch {epoch + 1} loss: {train_loss:.4f} test loss: {test_loss:.4f} test acc: {test_acc:.4f}\")\n"
      ],
      "metadata": {
        "id": "qXDyV3phq2vR"
      },
      "execution_count": null,
      "outputs": []
    }
  ]
}