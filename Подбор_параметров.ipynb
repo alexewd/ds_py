{
  "cells": [
    {
      "cell_type": "markdown",
      "metadata": {
        "id": "view-in-github",
        "colab_type": "text"
      },
      "source": [
        "<a href=\"https://colab.research.google.com/github/svetaepc/ds_py/blob/master/%D0%9F%D0%BE%D0%B4%D0%B1%D0%BE%D1%80_%D0%BF%D0%B0%D1%80%D0%B0%D0%BC%D0%B5%D1%82%D1%80%D0%BE%D0%B2.ipynb\" target=\"_parent\"><img src=\"https://colab.research.google.com/assets/colab-badge.svg\" alt=\"Open In Colab\"/></a>"
      ]
    },
    {
      "cell_type": "markdown",
      "source": [
        "https://bit.ly/FEML-14-grid"
      ],
      "metadata": {
        "id": "OOfiHCOCNDsm"
      }
    },
    {
      "cell_type": "markdown",
      "metadata": {
        "id": "KC5GFhmIIWdZ"
      },
      "source": [
        "# Подбор параметров"
      ]
    },
    {
      "cell_type": "markdown",
      "metadata": {
        "id": "mvM5pGXBIWdb"
      },
      "source": [
        "## Кросс-валидация"
      ]
    },
    {
      "cell_type": "markdown",
      "metadata": {
        "id": "Iz0dqARKIWdc"
      },
      "source": [
        " ### Оценка параметров модели\n",
        " Нам нужно как-то оценивать качество создаваемых нами моделей. Идея тренировать и тестировать модели на одних и тех же данных - плохая (модели будут переобучаться).\n",
        "\n",
        "Решение этой проблемы номер 1:\n",
        "\n",
        "* Разделять данные на 2 группы: для обучения и тестирования"
      ]
    },
    {
      "cell_type": "code",
      "execution_count": null,
      "metadata": {
        "ExecuteTime": {
          "end_time": "2018-12-03T08:12:47.944076Z",
          "start_time": "2018-12-03T08:12:46.719605Z"
        },
        "id": "Ue9NqZuWIWde"
      },
      "outputs": [],
      "source": [
        "from sklearn.datasets import load_iris\n",
        "from sklearn.model_selection import train_test_split\n",
        "from sklearn.neighbors import KNeighborsClassifier\n",
        "from sklearn import metrics\n",
        "import matplotlib.pyplot as plt"
      ]
    },
    {
      "cell_type": "code",
      "execution_count": null,
      "metadata": {
        "ExecuteTime": {
          "end_time": "2018-12-03T08:12:47.977584Z",
          "start_time": "2018-12-03T08:12:47.970330Z"
        },
        "id": "My9pkLQlIWdg"
      },
      "outputs": [],
      "source": [
        "# read in the iris data\n",
        "iris = load_iris()\n",
        "\n",
        "# create X (features) and y (response)\n",
        "X = iris.data\n",
        "y = iris.target"
      ]
    },
    {
      "cell_type": "markdown",
      "metadata": {
        "id": "XxOkHlGtIWdt"
      },
      "source": [
        "Сделаем 20 разных train_test_split и обучим на них KNN-классификатор. Оценим качество на тестовой выборке"
      ]
    },
    {
      "cell_type": "code",
      "source": [
        "for i in range(20):\n",
        "    X_tr, X_t, y_tr, y_t = train_test_split(X, y, random_state=i)\n",
        "    knn = KNeighborsClassifier().fit(X_tr, y_tr)\n",
        "    print(knn.score(X_t, y_t))"
      ],
      "metadata": {
        "colab": {
          "base_uri": "https://localhost:8080/"
        },
        "id": "RH_hN5w0JDqr",
        "outputId": "048b7bc2-af9e-413c-d581-d2a6ef312a31"
      },
      "execution_count": null,
      "outputs": [
        {
          "output_type": "stream",
          "name": "stdout",
          "text": [
            "0.9736842105263158\n",
            "1.0\n",
            "1.0\n",
            "0.9473684210526315\n",
            "0.9736842105263158\n",
            "0.9473684210526315\n",
            "0.9736842105263158\n",
            "0.8947368421052632\n",
            "0.9210526315789473\n",
            "1.0\n",
            "0.9736842105263158\n",
            "0.9736842105263158\n",
            "0.9736842105263158\n",
            "0.8947368421052632\n",
            "0.9736842105263158\n",
            "0.9736842105263158\n",
            "0.9210526315789473\n",
            "0.9473684210526315\n",
            "1.0\n",
            "0.9473684210526315\n"
          ]
        }
      ]
    },
    {
      "cell_type": "markdown",
      "metadata": {
        "id": "Eq95umF-IWdv"
      },
      "source": [
        "**Проблема** - качество модели имеет высокую дисперсию (high variance), т.к. примеры и в тестовой и в обучающей выборке могут значимо повлиять на полученную оценку"
      ]
    },
    {
      "cell_type": "markdown",
      "metadata": {
        "id": "7wK-p_J_IWdw"
      },
      "source": [
        "Решение - разобъем нашу выборку на несколько групп. Одну используем для теста, на остальных обучаем. После чего меняем группу для теста и повторяем. Усредняем полученное качество на каждой из выборок для оценки итогового качества модели"
      ]
    },
    {
      "cell_type": "markdown",
      "metadata": {
        "ExecuteTime": {
          "end_time": "2018-12-02T20:59:52.343676Z",
          "start_time": "2018-12-02T20:59:52.339510Z"
        },
        "id": "KXOpxpg8IWdx"
      },
      "source": [
        "<img src=\"https://drive.google.com/uc?id=1CkcnP3NtVUyB47ThKvl_EsAQ-cXGMXjv\" />"
      ]
    },
    {
      "cell_type": "markdown",
      "metadata": {
        "id": "hf1Qvl6dIWdy"
      },
      "source": [
        "Сделаем cross_val_score для KNN"
      ]
    },
    {
      "cell_type": "code",
      "source": [
        "from sklearn.model_selection import cross_val_score\n",
        "\n",
        "knn = KNeighborsClassifier(n_neighbors=5)\n",
        "scores = cross_val_score(knn, X, y, cv=10, scoring='accuracy')\n",
        "print(scores)\n",
        "print(scores.mean())"
      ],
      "metadata": {
        "colab": {
          "base_uri": "https://localhost:8080/"
        },
        "id": "v0qqPCGSJ21N",
        "outputId": "03ef7693-12cb-420d-8ea2-19902a4decf7"
      },
      "execution_count": null,
      "outputs": [
        {
          "output_type": "stream",
          "name": "stdout",
          "text": [
            "[1.         0.93333333 1.         1.         0.86666667 0.93333333\n",
            " 0.93333333 1.         1.         1.        ]\n",
            "0.9666666666666668\n"
          ]
        }
      ]
    },
    {
      "cell_type": "markdown",
      "metadata": {
        "id": "h_BRuijLIWd0"
      },
      "source": [
        "## Подбор оптимального количестов соседей через CrossValidationScore"
      ]
    },
    {
      "cell_type": "markdown",
      "metadata": {
        "id": "3TtBtEcVIWd1"
      },
      "source": [
        "Подберем оптимальное количество соседей на основе cross_val_score"
      ]
    },
    {
      "cell_type": "code",
      "source": [
        "from sklearn.model_selection import cross_val_score\n",
        "import numpy as np\n",
        "\n",
        "for i in np.arange(1, 30):\n",
        "    knn = KNeighborsClassifier(n_neighbors=i)\n",
        "    scores = cross_val_score(knn, X, y, cv=10, scoring='accuracy')\n",
        "    print(i, ':', scores.mean(), scores.std())"
      ],
      "metadata": {
        "colab": {
          "base_uri": "https://localhost:8080/"
        },
        "id": "hDYEOwjiKkKk",
        "outputId": "3ed39b54-617f-40b3-ac63-3af48b90ba99"
      },
      "execution_count": null,
      "outputs": [
        {
          "output_type": "stream",
          "name": "stdout",
          "text": [
            "1 : 0.96 0.05333333333333332\n",
            "2 : 0.9533333333333334 0.052068331172711015\n",
            "3 : 0.9666666666666666 0.04472135954999579\n",
            "4 : 0.9666666666666666 0.04472135954999579\n",
            "5 : 0.9666666666666668 0.04472135954999579\n",
            "6 : 0.9666666666666668 0.04472135954999579\n",
            "7 : 0.9666666666666668 0.04472135954999579\n",
            "8 : 0.9666666666666668 0.04472135954999579\n",
            "9 : 0.9733333333333334 0.03265986323710904\n",
            "10 : 0.9666666666666668 0.04472135954999579\n",
            "11 : 0.9666666666666668 0.04472135954999579\n",
            "12 : 0.9733333333333334 0.03265986323710904\n",
            "13 : 0.9800000000000001 0.030550504633038926\n",
            "14 : 0.9733333333333334 0.04422166387140532\n",
            "15 : 0.9733333333333334 0.03265986323710904\n",
            "16 : 0.9733333333333334 0.03265986323710904\n",
            "17 : 0.9733333333333334 0.03265986323710904\n",
            "18 : 0.9800000000000001 0.030550504633038926\n",
            "19 : 0.9733333333333334 0.03265986323710904\n",
            "20 : 0.9800000000000001 0.030550504633038926\n",
            "21 : 0.9666666666666666 0.033333333333333326\n",
            "22 : 0.9666666666666666 0.033333333333333326\n",
            "23 : 0.9733333333333334 0.03265986323710904\n",
            "24 : 0.96 0.044221663871405324\n",
            "25 : 0.9666666666666666 0.033333333333333326\n",
            "26 : 0.96 0.044221663871405324\n",
            "27 : 0.9666666666666666 0.04472135954999579\n",
            "28 : 0.9533333333333334 0.04268749491621898\n",
            "29 : 0.9533333333333334 0.04268749491621898\n"
          ]
        }
      ]
    },
    {
      "cell_type": "markdown",
      "metadata": {
        "id": "g6sQZuXiIWd2"
      },
      "source": [
        "## GridSearchCV\n",
        "В некоторым смысле - эта функция более продвинутая версия цикла for, описанного выше"
      ]
    },
    {
      "cell_type": "code",
      "execution_count": null,
      "metadata": {
        "ExecuteTime": {
          "end_time": "2018-12-03T08:12:49.661774Z",
          "start_time": "2018-12-03T08:12:49.658276Z"
        },
        "id": "wNPnqNZzIWd2"
      },
      "outputs": [],
      "source": [
        "from sklearn.model_selection import GridSearchCV"
      ]
    },
    {
      "cell_type": "code",
      "execution_count": null,
      "metadata": {
        "ExecuteTime": {
          "end_time": "2018-12-03T08:12:49.777532Z",
          "start_time": "2018-12-03T08:12:49.774434Z"
        },
        "colab": {
          "base_uri": "https://localhost:8080/"
        },
        "id": "6qsNvDsZIWd3",
        "outputId": "116b0cde-3e12-4c78-adc2-18be75046e90"
      },
      "outputs": [
        {
          "output_type": "stream",
          "name": "stdout",
          "text": [
            "[1, 2, 3, 4, 5, 6, 7, 8, 9, 10, 11, 12, 13, 14, 15, 16, 17, 18, 19, 20, 21, 22, 23, 24, 25, 26, 27, 28, 29, 30]\n"
          ]
        }
      ],
      "source": [
        "k_range = list(range(1, 31))\n",
        "print(k_range)"
      ]
    },
    {
      "cell_type": "code",
      "execution_count": null,
      "metadata": {
        "ExecuteTime": {
          "end_time": "2018-12-03T08:12:49.932424Z",
          "start_time": "2018-12-03T08:12:49.929360Z"
        },
        "colab": {
          "base_uri": "https://localhost:8080/"
        },
        "id": "jGTCZi-nIWd4",
        "outputId": "aa9b13a9-6dc6-4578-b2ab-3c50ec2f0feb"
      },
      "outputs": [
        {
          "output_type": "stream",
          "name": "stdout",
          "text": [
            "{'n_neighbors': [1, 2, 3, 4, 5, 6, 7, 8, 9, 10, 11, 12, 13, 14, 15, 16, 17, 18, 19, 20, 21, 22, 23, 24, 25, 26, 27, 28, 29, 30]}\n"
          ]
        }
      ],
      "source": [
        "param_grid = dict(n_neighbors=k_range)\n",
        "print(param_grid)"
      ]
    },
    {
      "cell_type": "code",
      "execution_count": null,
      "metadata": {
        "ExecuteTime": {
          "end_time": "2018-12-03T08:12:50.066712Z",
          "start_time": "2018-12-03T08:12:50.063931Z"
        },
        "id": "wEcAowbhIWd5"
      },
      "outputs": [],
      "source": [
        "grid = GridSearchCV(knn, param_grid, cv=10, scoring='accuracy', n_jobs=-1)"
      ]
    },
    {
      "cell_type": "markdown",
      "metadata": {
        "id": "GOjFixW_IWd6"
      },
      "source": [
        "Полученный объект будет перебирать параметр \"количество соседей\" у KNN, делать кросс-валидацию и оценивать качество, используя accuracy в качестве метрики.\n",
        "n_jobs=-1 заставляет параллелить вычисления по всем ядрам вашего компьютера"
      ]
    },
    {
      "cell_type": "code",
      "execution_count": null,
      "metadata": {
        "ExecuteTime": {
          "end_time": "2018-12-03T08:12:51.047505Z",
          "start_time": "2018-12-03T08:12:50.396843Z"
        },
        "colab": {
          "base_uri": "https://localhost:8080/"
        },
        "id": "O96LuwP0IWd6",
        "outputId": "f09642d8-0fe0-456a-b76d-dfdf739e0b39"
      },
      "outputs": [
        {
          "output_type": "stream",
          "name": "stdout",
          "text": [
            "CPU times: user 242 ms, sys: 54.2 ms, total: 296 ms\n",
            "Wall time: 3.48 s\n"
          ]
        },
        {
          "output_type": "execute_result",
          "data": {
            "text/plain": [
              "GridSearchCV(cv=10, estimator=KNeighborsClassifier(n_neighbors=29), n_jobs=-1,\n",
              "             param_grid={'n_neighbors': [1, 2, 3, 4, 5, 6, 7, 8, 9, 10, 11, 12,\n",
              "                                         13, 14, 15, 16, 17, 18, 19, 20, 21, 22,\n",
              "                                         23, 24, 25, 26, 27, 28, 29, 30]},\n",
              "             scoring='accuracy')"
            ]
          },
          "metadata": {},
          "execution_count": 10
        }
      ],
      "source": [
        "%%time\n",
        "grid.fit(X, y)"
      ]
    },
    {
      "cell_type": "code",
      "execution_count": null,
      "metadata": {
        "ExecuteTime": {
          "end_time": "2018-12-03T08:12:51.172647Z",
          "start_time": "2018-12-03T08:12:51.164551Z"
        },
        "colab": {
          "base_uri": "https://localhost:8080/",
          "height": 1000
        },
        "id": "aWLKkR2CIWd7",
        "outputId": "31933f53-87c5-46cf-9bba-93712c3de7d8"
      },
      "outputs": [
        {
          "output_type": "execute_result",
          "data": {
            "text/plain": [
              "    mean_fit_time  std_fit_time  mean_score_time  std_score_time  \\\n",
              "0        0.001056      0.000150         0.002160        0.000299   \n",
              "1        0.002118      0.001525         0.005931        0.003780   \n",
              "2        0.001293      0.000654         0.004396        0.004359   \n",
              "3        0.001147      0.000376         0.002607        0.000973   \n",
              "4        0.001246      0.000444         0.004014        0.002089   \n",
              "5        0.000919      0.000080         0.002017        0.000128   \n",
              "6        0.001090      0.000210         0.003241        0.001739   \n",
              "7        0.000901      0.000067         0.002233        0.000593   \n",
              "8        0.000899      0.000072         0.002132        0.000339   \n",
              "9        0.000915      0.000089         0.002414        0.001166   \n",
              "10       0.000948      0.000070         0.002125        0.000189   \n",
              "11       0.001613      0.001007         0.002715        0.001413   \n",
              "12       0.000875      0.000150         0.002460        0.001078   \n",
              "13       0.000984      0.000167         0.002594        0.000980   \n",
              "14       0.001092      0.000455         0.002137        0.000090   \n",
              "15       0.000971      0.000118         0.002192        0.000201   \n",
              "16       0.000923      0.000053         0.002020        0.000096   \n",
              "17       0.000931      0.000102         0.002032        0.000101   \n",
              "18       0.000883      0.000065         0.001929        0.000181   \n",
              "19       0.000979      0.000196         0.002252        0.000594   \n",
              "20       0.001086      0.000355         0.002409        0.000948   \n",
              "21       0.001365      0.000772         0.002266        0.000307   \n",
              "22       0.000951      0.000108         0.002216        0.000603   \n",
              "23       0.000807      0.000094         0.001766        0.000075   \n",
              "24       0.000828      0.000084         0.002319        0.001013   \n",
              "25       0.001114      0.000397         0.002259        0.000731   \n",
              "26       0.001263      0.000821         0.002117        0.000212   \n",
              "27       0.001194      0.000390         0.002654        0.001370   \n",
              "28       0.000953      0.000076         0.002139        0.000216   \n",
              "29       0.000984      0.000089         0.002124        0.000112   \n",
              "\n",
              "   param_n_neighbors               params  split0_test_score  \\\n",
              "0                  1   {'n_neighbors': 1}           1.000000   \n",
              "1                  2   {'n_neighbors': 2}           1.000000   \n",
              "2                  3   {'n_neighbors': 3}           1.000000   \n",
              "3                  4   {'n_neighbors': 4}           1.000000   \n",
              "4                  5   {'n_neighbors': 5}           1.000000   \n",
              "5                  6   {'n_neighbors': 6}           1.000000   \n",
              "6                  7   {'n_neighbors': 7}           1.000000   \n",
              "7                  8   {'n_neighbors': 8}           1.000000   \n",
              "8                  9   {'n_neighbors': 9}           1.000000   \n",
              "9                 10  {'n_neighbors': 10}           1.000000   \n",
              "10                11  {'n_neighbors': 11}           1.000000   \n",
              "11                12  {'n_neighbors': 12}           1.000000   \n",
              "12                13  {'n_neighbors': 13}           1.000000   \n",
              "13                14  {'n_neighbors': 14}           1.000000   \n",
              "14                15  {'n_neighbors': 15}           0.933333   \n",
              "15                16  {'n_neighbors': 16}           1.000000   \n",
              "16                17  {'n_neighbors': 17}           0.933333   \n",
              "17                18  {'n_neighbors': 18}           1.000000   \n",
              "18                19  {'n_neighbors': 19}           0.933333   \n",
              "19                20  {'n_neighbors': 20}           1.000000   \n",
              "20                21  {'n_neighbors': 21}           0.933333   \n",
              "21                22  {'n_neighbors': 22}           0.933333   \n",
              "22                23  {'n_neighbors': 23}           0.933333   \n",
              "23                24  {'n_neighbors': 24}           0.933333   \n",
              "24                25  {'n_neighbors': 25}           0.933333   \n",
              "25                26  {'n_neighbors': 26}           0.933333   \n",
              "26                27  {'n_neighbors': 27}           0.933333   \n",
              "27                28  {'n_neighbors': 28}           0.933333   \n",
              "28                29  {'n_neighbors': 29}           0.933333   \n",
              "29                30  {'n_neighbors': 30}           0.933333   \n",
              "\n",
              "    split1_test_score  split2_test_score  split3_test_score  \\\n",
              "0            0.933333                1.0           0.933333   \n",
              "1            0.933333                1.0           0.933333   \n",
              "2            0.933333                1.0           0.933333   \n",
              "3            0.933333                1.0           0.933333   \n",
              "4            0.933333                1.0           1.000000   \n",
              "5            0.933333                1.0           1.000000   \n",
              "6            0.933333                1.0           1.000000   \n",
              "7            0.933333                1.0           1.000000   \n",
              "8            0.933333                1.0           1.000000   \n",
              "9            0.933333                1.0           1.000000   \n",
              "10           0.933333                1.0           1.000000   \n",
              "11           0.933333                1.0           1.000000   \n",
              "12           0.933333                1.0           1.000000   \n",
              "13           0.933333                1.0           1.000000   \n",
              "14           0.933333                1.0           1.000000   \n",
              "15           0.933333                1.0           1.000000   \n",
              "16           0.933333                1.0           1.000000   \n",
              "17           0.933333                1.0           1.000000   \n",
              "18           0.933333                1.0           1.000000   \n",
              "19           0.933333                1.0           1.000000   \n",
              "20           0.933333                1.0           1.000000   \n",
              "21           0.933333                1.0           1.000000   \n",
              "22           0.933333                1.0           1.000000   \n",
              "23           0.933333                1.0           1.000000   \n",
              "24           0.933333                1.0           1.000000   \n",
              "25           0.933333                1.0           1.000000   \n",
              "26           0.933333                1.0           1.000000   \n",
              "27           0.933333                1.0           0.933333   \n",
              "28           0.933333                1.0           0.933333   \n",
              "29           0.933333                1.0           0.933333   \n",
              "\n",
              "    split4_test_score  split5_test_score  split6_test_score  \\\n",
              "0            0.866667           1.000000           0.866667   \n",
              "1            0.866667           1.000000           0.866667   \n",
              "2            0.866667           1.000000           0.933333   \n",
              "3            0.866667           1.000000           0.933333   \n",
              "4            0.866667           0.933333           0.933333   \n",
              "5            0.866667           0.933333           0.933333   \n",
              "6            0.866667           0.933333           0.933333   \n",
              "7            1.000000           0.866667           0.933333   \n",
              "8            1.000000           0.933333           0.933333   \n",
              "9            1.000000           0.866667           0.933333   \n",
              "10           1.000000           0.866667           0.933333   \n",
              "11           1.000000           0.933333           0.933333   \n",
              "12           1.000000           0.933333           0.933333   \n",
              "13           1.000000           0.866667           0.933333   \n",
              "14           1.000000           0.933333           0.933333   \n",
              "15           1.000000           0.933333           0.933333   \n",
              "16           1.000000           0.933333           0.933333   \n",
              "17           1.000000           0.933333           0.933333   \n",
              "18           1.000000           0.933333           0.933333   \n",
              "19           1.000000           0.933333           0.933333   \n",
              "20           0.933333           0.933333           0.933333   \n",
              "21           1.000000           0.933333           0.933333   \n",
              "22           1.000000           0.933333           0.933333   \n",
              "23           1.000000           0.866667           0.933333   \n",
              "24           1.000000           0.933333           0.933333   \n",
              "25           1.000000           0.866667           0.933333   \n",
              "26           1.000000           0.866667           0.933333   \n",
              "27           1.000000           0.866667           0.933333   \n",
              "28           1.000000           0.866667           0.933333   \n",
              "29           1.000000           0.866667           0.933333   \n",
              "\n",
              "    split7_test_score  split8_test_score  split9_test_score  mean_test_score  \\\n",
              "0            1.000000                1.0                1.0         0.960000   \n",
              "1            0.933333                1.0                1.0         0.953333   \n",
              "2            1.000000                1.0                1.0         0.966667   \n",
              "3            1.000000                1.0                1.0         0.966667   \n",
              "4            1.000000                1.0                1.0         0.966667   \n",
              "5            1.000000                1.0                1.0         0.966667   \n",
              "6            1.000000                1.0                1.0         0.966667   \n",
              "7            0.933333                1.0                1.0         0.966667   \n",
              "8            0.933333                1.0                1.0         0.973333   \n",
              "9            0.933333                1.0                1.0         0.966667   \n",
              "10           0.933333                1.0                1.0         0.966667   \n",
              "11           0.933333                1.0                1.0         0.973333   \n",
              "12           1.000000                1.0                1.0         0.980000   \n",
              "13           1.000000                1.0                1.0         0.973333   \n",
              "14           1.000000                1.0                1.0         0.973333   \n",
              "15           0.933333                1.0                1.0         0.973333   \n",
              "16           1.000000                1.0                1.0         0.973333   \n",
              "17           1.000000                1.0                1.0         0.980000   \n",
              "18           1.000000                1.0                1.0         0.973333   \n",
              "19           1.000000                1.0                1.0         0.980000   \n",
              "20           1.000000                1.0                1.0         0.966667   \n",
              "21           0.933333                1.0                1.0         0.966667   \n",
              "22           1.000000                1.0                1.0         0.973333   \n",
              "23           0.933333                1.0                1.0         0.960000   \n",
              "24           0.933333                1.0                1.0         0.966667   \n",
              "25           0.933333                1.0                1.0         0.960000   \n",
              "26           1.000000                1.0                1.0         0.966667   \n",
              "27           0.933333                1.0                1.0         0.953333   \n",
              "28           0.933333                1.0                1.0         0.953333   \n",
              "29           0.933333                1.0                1.0         0.953333   \n",
              "\n",
              "    std_test_score  rank_test_score  \n",
              "0         0.053333               24  \n",
              "1         0.052068               27  \n",
              "2         0.044721               18  \n",
              "3         0.044721               18  \n",
              "4         0.044721               12  \n",
              "5         0.044721               12  \n",
              "6         0.044721               12  \n",
              "7         0.044721               12  \n",
              "8         0.032660                4  \n",
              "9         0.044721               12  \n",
              "10        0.044721               12  \n",
              "11        0.032660                4  \n",
              "12        0.030551                1  \n",
              "13        0.044222                4  \n",
              "14        0.032660                4  \n",
              "15        0.032660                4  \n",
              "16        0.032660                4  \n",
              "17        0.030551                1  \n",
              "18        0.032660                4  \n",
              "19        0.030551                1  \n",
              "20        0.033333               18  \n",
              "21        0.033333               18  \n",
              "22        0.032660                4  \n",
              "23        0.044222               24  \n",
              "24        0.033333               18  \n",
              "25        0.044222               24  \n",
              "26        0.044721               18  \n",
              "27        0.042687               27  \n",
              "28        0.042687               27  \n",
              "29        0.042687               27  "
            ],
            "text/html": [
              "\n",
              "  <div id=\"df-ca155412-5cca-4bfe-8054-72b36a778f3b\">\n",
              "    <div class=\"colab-df-container\">\n",
              "      <div>\n",
              "<style scoped>\n",
              "    .dataframe tbody tr th:only-of-type {\n",
              "        vertical-align: middle;\n",
              "    }\n",
              "\n",
              "    .dataframe tbody tr th {\n",
              "        vertical-align: top;\n",
              "    }\n",
              "\n",
              "    .dataframe thead th {\n",
              "        text-align: right;\n",
              "    }\n",
              "</style>\n",
              "<table border=\"1\" class=\"dataframe\">\n",
              "  <thead>\n",
              "    <tr style=\"text-align: right;\">\n",
              "      <th></th>\n",
              "      <th>mean_fit_time</th>\n",
              "      <th>std_fit_time</th>\n",
              "      <th>mean_score_time</th>\n",
              "      <th>std_score_time</th>\n",
              "      <th>param_n_neighbors</th>\n",
              "      <th>params</th>\n",
              "      <th>split0_test_score</th>\n",
              "      <th>split1_test_score</th>\n",
              "      <th>split2_test_score</th>\n",
              "      <th>split3_test_score</th>\n",
              "      <th>split4_test_score</th>\n",
              "      <th>split5_test_score</th>\n",
              "      <th>split6_test_score</th>\n",
              "      <th>split7_test_score</th>\n",
              "      <th>split8_test_score</th>\n",
              "      <th>split9_test_score</th>\n",
              "      <th>mean_test_score</th>\n",
              "      <th>std_test_score</th>\n",
              "      <th>rank_test_score</th>\n",
              "    </tr>\n",
              "  </thead>\n",
              "  <tbody>\n",
              "    <tr>\n",
              "      <th>0</th>\n",
              "      <td>0.001056</td>\n",
              "      <td>0.000150</td>\n",
              "      <td>0.002160</td>\n",
              "      <td>0.000299</td>\n",
              "      <td>1</td>\n",
              "      <td>{'n_neighbors': 1}</td>\n",
              "      <td>1.000000</td>\n",
              "      <td>0.933333</td>\n",
              "      <td>1.0</td>\n",
              "      <td>0.933333</td>\n",
              "      <td>0.866667</td>\n",
              "      <td>1.000000</td>\n",
              "      <td>0.866667</td>\n",
              "      <td>1.000000</td>\n",
              "      <td>1.0</td>\n",
              "      <td>1.0</td>\n",
              "      <td>0.960000</td>\n",
              "      <td>0.053333</td>\n",
              "      <td>24</td>\n",
              "    </tr>\n",
              "    <tr>\n",
              "      <th>1</th>\n",
              "      <td>0.002118</td>\n",
              "      <td>0.001525</td>\n",
              "      <td>0.005931</td>\n",
              "      <td>0.003780</td>\n",
              "      <td>2</td>\n",
              "      <td>{'n_neighbors': 2}</td>\n",
              "      <td>1.000000</td>\n",
              "      <td>0.933333</td>\n",
              "      <td>1.0</td>\n",
              "      <td>0.933333</td>\n",
              "      <td>0.866667</td>\n",
              "      <td>1.000000</td>\n",
              "      <td>0.866667</td>\n",
              "      <td>0.933333</td>\n",
              "      <td>1.0</td>\n",
              "      <td>1.0</td>\n",
              "      <td>0.953333</td>\n",
              "      <td>0.052068</td>\n",
              "      <td>27</td>\n",
              "    </tr>\n",
              "    <tr>\n",
              "      <th>2</th>\n",
              "      <td>0.001293</td>\n",
              "      <td>0.000654</td>\n",
              "      <td>0.004396</td>\n",
              "      <td>0.004359</td>\n",
              "      <td>3</td>\n",
              "      <td>{'n_neighbors': 3}</td>\n",
              "      <td>1.000000</td>\n",
              "      <td>0.933333</td>\n",
              "      <td>1.0</td>\n",
              "      <td>0.933333</td>\n",
              "      <td>0.866667</td>\n",
              "      <td>1.000000</td>\n",
              "      <td>0.933333</td>\n",
              "      <td>1.000000</td>\n",
              "      <td>1.0</td>\n",
              "      <td>1.0</td>\n",
              "      <td>0.966667</td>\n",
              "      <td>0.044721</td>\n",
              "      <td>18</td>\n",
              "    </tr>\n",
              "    <tr>\n",
              "      <th>3</th>\n",
              "      <td>0.001147</td>\n",
              "      <td>0.000376</td>\n",
              "      <td>0.002607</td>\n",
              "      <td>0.000973</td>\n",
              "      <td>4</td>\n",
              "      <td>{'n_neighbors': 4}</td>\n",
              "      <td>1.000000</td>\n",
              "      <td>0.933333</td>\n",
              "      <td>1.0</td>\n",
              "      <td>0.933333</td>\n",
              "      <td>0.866667</td>\n",
              "      <td>1.000000</td>\n",
              "      <td>0.933333</td>\n",
              "      <td>1.000000</td>\n",
              "      <td>1.0</td>\n",
              "      <td>1.0</td>\n",
              "      <td>0.966667</td>\n",
              "      <td>0.044721</td>\n",
              "      <td>18</td>\n",
              "    </tr>\n",
              "    <tr>\n",
              "      <th>4</th>\n",
              "      <td>0.001246</td>\n",
              "      <td>0.000444</td>\n",
              "      <td>0.004014</td>\n",
              "      <td>0.002089</td>\n",
              "      <td>5</td>\n",
              "      <td>{'n_neighbors': 5}</td>\n",
              "      <td>1.000000</td>\n",
              "      <td>0.933333</td>\n",
              "      <td>1.0</td>\n",
              "      <td>1.000000</td>\n",
              "      <td>0.866667</td>\n",
              "      <td>0.933333</td>\n",
              "      <td>0.933333</td>\n",
              "      <td>1.000000</td>\n",
              "      <td>1.0</td>\n",
              "      <td>1.0</td>\n",
              "      <td>0.966667</td>\n",
              "      <td>0.044721</td>\n",
              "      <td>12</td>\n",
              "    </tr>\n",
              "    <tr>\n",
              "      <th>5</th>\n",
              "      <td>0.000919</td>\n",
              "      <td>0.000080</td>\n",
              "      <td>0.002017</td>\n",
              "      <td>0.000128</td>\n",
              "      <td>6</td>\n",
              "      <td>{'n_neighbors': 6}</td>\n",
              "      <td>1.000000</td>\n",
              "      <td>0.933333</td>\n",
              "      <td>1.0</td>\n",
              "      <td>1.000000</td>\n",
              "      <td>0.866667</td>\n",
              "      <td>0.933333</td>\n",
              "      <td>0.933333</td>\n",
              "      <td>1.000000</td>\n",
              "      <td>1.0</td>\n",
              "      <td>1.0</td>\n",
              "      <td>0.966667</td>\n",
              "      <td>0.044721</td>\n",
              "      <td>12</td>\n",
              "    </tr>\n",
              "    <tr>\n",
              "      <th>6</th>\n",
              "      <td>0.001090</td>\n",
              "      <td>0.000210</td>\n",
              "      <td>0.003241</td>\n",
              "      <td>0.001739</td>\n",
              "      <td>7</td>\n",
              "      <td>{'n_neighbors': 7}</td>\n",
              "      <td>1.000000</td>\n",
              "      <td>0.933333</td>\n",
              "      <td>1.0</td>\n",
              "      <td>1.000000</td>\n",
              "      <td>0.866667</td>\n",
              "      <td>0.933333</td>\n",
              "      <td>0.933333</td>\n",
              "      <td>1.000000</td>\n",
              "      <td>1.0</td>\n",
              "      <td>1.0</td>\n",
              "      <td>0.966667</td>\n",
              "      <td>0.044721</td>\n",
              "      <td>12</td>\n",
              "    </tr>\n",
              "    <tr>\n",
              "      <th>7</th>\n",
              "      <td>0.000901</td>\n",
              "      <td>0.000067</td>\n",
              "      <td>0.002233</td>\n",
              "      <td>0.000593</td>\n",
              "      <td>8</td>\n",
              "      <td>{'n_neighbors': 8}</td>\n",
              "      <td>1.000000</td>\n",
              "      <td>0.933333</td>\n",
              "      <td>1.0</td>\n",
              "      <td>1.000000</td>\n",
              "      <td>1.000000</td>\n",
              "      <td>0.866667</td>\n",
              "      <td>0.933333</td>\n",
              "      <td>0.933333</td>\n",
              "      <td>1.0</td>\n",
              "      <td>1.0</td>\n",
              "      <td>0.966667</td>\n",
              "      <td>0.044721</td>\n",
              "      <td>12</td>\n",
              "    </tr>\n",
              "    <tr>\n",
              "      <th>8</th>\n",
              "      <td>0.000899</td>\n",
              "      <td>0.000072</td>\n",
              "      <td>0.002132</td>\n",
              "      <td>0.000339</td>\n",
              "      <td>9</td>\n",
              "      <td>{'n_neighbors': 9}</td>\n",
              "      <td>1.000000</td>\n",
              "      <td>0.933333</td>\n",
              "      <td>1.0</td>\n",
              "      <td>1.000000</td>\n",
              "      <td>1.000000</td>\n",
              "      <td>0.933333</td>\n",
              "      <td>0.933333</td>\n",
              "      <td>0.933333</td>\n",
              "      <td>1.0</td>\n",
              "      <td>1.0</td>\n",
              "      <td>0.973333</td>\n",
              "      <td>0.032660</td>\n",
              "      <td>4</td>\n",
              "    </tr>\n",
              "    <tr>\n",
              "      <th>9</th>\n",
              "      <td>0.000915</td>\n",
              "      <td>0.000089</td>\n",
              "      <td>0.002414</td>\n",
              "      <td>0.001166</td>\n",
              "      <td>10</td>\n",
              "      <td>{'n_neighbors': 10}</td>\n",
              "      <td>1.000000</td>\n",
              "      <td>0.933333</td>\n",
              "      <td>1.0</td>\n",
              "      <td>1.000000</td>\n",
              "      <td>1.000000</td>\n",
              "      <td>0.866667</td>\n",
              "      <td>0.933333</td>\n",
              "      <td>0.933333</td>\n",
              "      <td>1.0</td>\n",
              "      <td>1.0</td>\n",
              "      <td>0.966667</td>\n",
              "      <td>0.044721</td>\n",
              "      <td>12</td>\n",
              "    </tr>\n",
              "    <tr>\n",
              "      <th>10</th>\n",
              "      <td>0.000948</td>\n",
              "      <td>0.000070</td>\n",
              "      <td>0.002125</td>\n",
              "      <td>0.000189</td>\n",
              "      <td>11</td>\n",
              "      <td>{'n_neighbors': 11}</td>\n",
              "      <td>1.000000</td>\n",
              "      <td>0.933333</td>\n",
              "      <td>1.0</td>\n",
              "      <td>1.000000</td>\n",
              "      <td>1.000000</td>\n",
              "      <td>0.866667</td>\n",
              "      <td>0.933333</td>\n",
              "      <td>0.933333</td>\n",
              "      <td>1.0</td>\n",
              "      <td>1.0</td>\n",
              "      <td>0.966667</td>\n",
              "      <td>0.044721</td>\n",
              "      <td>12</td>\n",
              "    </tr>\n",
              "    <tr>\n",
              "      <th>11</th>\n",
              "      <td>0.001613</td>\n",
              "      <td>0.001007</td>\n",
              "      <td>0.002715</td>\n",
              "      <td>0.001413</td>\n",
              "      <td>12</td>\n",
              "      <td>{'n_neighbors': 12}</td>\n",
              "      <td>1.000000</td>\n",
              "      <td>0.933333</td>\n",
              "      <td>1.0</td>\n",
              "      <td>1.000000</td>\n",
              "      <td>1.000000</td>\n",
              "      <td>0.933333</td>\n",
              "      <td>0.933333</td>\n",
              "      <td>0.933333</td>\n",
              "      <td>1.0</td>\n",
              "      <td>1.0</td>\n",
              "      <td>0.973333</td>\n",
              "      <td>0.032660</td>\n",
              "      <td>4</td>\n",
              "    </tr>\n",
              "    <tr>\n",
              "      <th>12</th>\n",
              "      <td>0.000875</td>\n",
              "      <td>0.000150</td>\n",
              "      <td>0.002460</td>\n",
              "      <td>0.001078</td>\n",
              "      <td>13</td>\n",
              "      <td>{'n_neighbors': 13}</td>\n",
              "      <td>1.000000</td>\n",
              "      <td>0.933333</td>\n",
              "      <td>1.0</td>\n",
              "      <td>1.000000</td>\n",
              "      <td>1.000000</td>\n",
              "      <td>0.933333</td>\n",
              "      <td>0.933333</td>\n",
              "      <td>1.000000</td>\n",
              "      <td>1.0</td>\n",
              "      <td>1.0</td>\n",
              "      <td>0.980000</td>\n",
              "      <td>0.030551</td>\n",
              "      <td>1</td>\n",
              "    </tr>\n",
              "    <tr>\n",
              "      <th>13</th>\n",
              "      <td>0.000984</td>\n",
              "      <td>0.000167</td>\n",
              "      <td>0.002594</td>\n",
              "      <td>0.000980</td>\n",
              "      <td>14</td>\n",
              "      <td>{'n_neighbors': 14}</td>\n",
              "      <td>1.000000</td>\n",
              "      <td>0.933333</td>\n",
              "      <td>1.0</td>\n",
              "      <td>1.000000</td>\n",
              "      <td>1.000000</td>\n",
              "      <td>0.866667</td>\n",
              "      <td>0.933333</td>\n",
              "      <td>1.000000</td>\n",
              "      <td>1.0</td>\n",
              "      <td>1.0</td>\n",
              "      <td>0.973333</td>\n",
              "      <td>0.044222</td>\n",
              "      <td>4</td>\n",
              "    </tr>\n",
              "    <tr>\n",
              "      <th>14</th>\n",
              "      <td>0.001092</td>\n",
              "      <td>0.000455</td>\n",
              "      <td>0.002137</td>\n",
              "      <td>0.000090</td>\n",
              "      <td>15</td>\n",
              "      <td>{'n_neighbors': 15}</td>\n",
              "      <td>0.933333</td>\n",
              "      <td>0.933333</td>\n",
              "      <td>1.0</td>\n",
              "      <td>1.000000</td>\n",
              "      <td>1.000000</td>\n",
              "      <td>0.933333</td>\n",
              "      <td>0.933333</td>\n",
              "      <td>1.000000</td>\n",
              "      <td>1.0</td>\n",
              "      <td>1.0</td>\n",
              "      <td>0.973333</td>\n",
              "      <td>0.032660</td>\n",
              "      <td>4</td>\n",
              "    </tr>\n",
              "    <tr>\n",
              "      <th>15</th>\n",
              "      <td>0.000971</td>\n",
              "      <td>0.000118</td>\n",
              "      <td>0.002192</td>\n",
              "      <td>0.000201</td>\n",
              "      <td>16</td>\n",
              "      <td>{'n_neighbors': 16}</td>\n",
              "      <td>1.000000</td>\n",
              "      <td>0.933333</td>\n",
              "      <td>1.0</td>\n",
              "      <td>1.000000</td>\n",
              "      <td>1.000000</td>\n",
              "      <td>0.933333</td>\n",
              "      <td>0.933333</td>\n",
              "      <td>0.933333</td>\n",
              "      <td>1.0</td>\n",
              "      <td>1.0</td>\n",
              "      <td>0.973333</td>\n",
              "      <td>0.032660</td>\n",
              "      <td>4</td>\n",
              "    </tr>\n",
              "    <tr>\n",
              "      <th>16</th>\n",
              "      <td>0.000923</td>\n",
              "      <td>0.000053</td>\n",
              "      <td>0.002020</td>\n",
              "      <td>0.000096</td>\n",
              "      <td>17</td>\n",
              "      <td>{'n_neighbors': 17}</td>\n",
              "      <td>0.933333</td>\n",
              "      <td>0.933333</td>\n",
              "      <td>1.0</td>\n",
              "      <td>1.000000</td>\n",
              "      <td>1.000000</td>\n",
              "      <td>0.933333</td>\n",
              "      <td>0.933333</td>\n",
              "      <td>1.000000</td>\n",
              "      <td>1.0</td>\n",
              "      <td>1.0</td>\n",
              "      <td>0.973333</td>\n",
              "      <td>0.032660</td>\n",
              "      <td>4</td>\n",
              "    </tr>\n",
              "    <tr>\n",
              "      <th>17</th>\n",
              "      <td>0.000931</td>\n",
              "      <td>0.000102</td>\n",
              "      <td>0.002032</td>\n",
              "      <td>0.000101</td>\n",
              "      <td>18</td>\n",
              "      <td>{'n_neighbors': 18}</td>\n",
              "      <td>1.000000</td>\n",
              "      <td>0.933333</td>\n",
              "      <td>1.0</td>\n",
              "      <td>1.000000</td>\n",
              "      <td>1.000000</td>\n",
              "      <td>0.933333</td>\n",
              "      <td>0.933333</td>\n",
              "      <td>1.000000</td>\n",
              "      <td>1.0</td>\n",
              "      <td>1.0</td>\n",
              "      <td>0.980000</td>\n",
              "      <td>0.030551</td>\n",
              "      <td>1</td>\n",
              "    </tr>\n",
              "    <tr>\n",
              "      <th>18</th>\n",
              "      <td>0.000883</td>\n",
              "      <td>0.000065</td>\n",
              "      <td>0.001929</td>\n",
              "      <td>0.000181</td>\n",
              "      <td>19</td>\n",
              "      <td>{'n_neighbors': 19}</td>\n",
              "      <td>0.933333</td>\n",
              "      <td>0.933333</td>\n",
              "      <td>1.0</td>\n",
              "      <td>1.000000</td>\n",
              "      <td>1.000000</td>\n",
              "      <td>0.933333</td>\n",
              "      <td>0.933333</td>\n",
              "      <td>1.000000</td>\n",
              "      <td>1.0</td>\n",
              "      <td>1.0</td>\n",
              "      <td>0.973333</td>\n",
              "      <td>0.032660</td>\n",
              "      <td>4</td>\n",
              "    </tr>\n",
              "    <tr>\n",
              "      <th>19</th>\n",
              "      <td>0.000979</td>\n",
              "      <td>0.000196</td>\n",
              "      <td>0.002252</td>\n",
              "      <td>0.000594</td>\n",
              "      <td>20</td>\n",
              "      <td>{'n_neighbors': 20}</td>\n",
              "      <td>1.000000</td>\n",
              "      <td>0.933333</td>\n",
              "      <td>1.0</td>\n",
              "      <td>1.000000</td>\n",
              "      <td>1.000000</td>\n",
              "      <td>0.933333</td>\n",
              "      <td>0.933333</td>\n",
              "      <td>1.000000</td>\n",
              "      <td>1.0</td>\n",
              "      <td>1.0</td>\n",
              "      <td>0.980000</td>\n",
              "      <td>0.030551</td>\n",
              "      <td>1</td>\n",
              "    </tr>\n",
              "    <tr>\n",
              "      <th>20</th>\n",
              "      <td>0.001086</td>\n",
              "      <td>0.000355</td>\n",
              "      <td>0.002409</td>\n",
              "      <td>0.000948</td>\n",
              "      <td>21</td>\n",
              "      <td>{'n_neighbors': 21}</td>\n",
              "      <td>0.933333</td>\n",
              "      <td>0.933333</td>\n",
              "      <td>1.0</td>\n",
              "      <td>1.000000</td>\n",
              "      <td>0.933333</td>\n",
              "      <td>0.933333</td>\n",
              "      <td>0.933333</td>\n",
              "      <td>1.000000</td>\n",
              "      <td>1.0</td>\n",
              "      <td>1.0</td>\n",
              "      <td>0.966667</td>\n",
              "      <td>0.033333</td>\n",
              "      <td>18</td>\n",
              "    </tr>\n",
              "    <tr>\n",
              "      <th>21</th>\n",
              "      <td>0.001365</td>\n",
              "      <td>0.000772</td>\n",
              "      <td>0.002266</td>\n",
              "      <td>0.000307</td>\n",
              "      <td>22</td>\n",
              "      <td>{'n_neighbors': 22}</td>\n",
              "      <td>0.933333</td>\n",
              "      <td>0.933333</td>\n",
              "      <td>1.0</td>\n",
              "      <td>1.000000</td>\n",
              "      <td>1.000000</td>\n",
              "      <td>0.933333</td>\n",
              "      <td>0.933333</td>\n",
              "      <td>0.933333</td>\n",
              "      <td>1.0</td>\n",
              "      <td>1.0</td>\n",
              "      <td>0.966667</td>\n",
              "      <td>0.033333</td>\n",
              "      <td>18</td>\n",
              "    </tr>\n",
              "    <tr>\n",
              "      <th>22</th>\n",
              "      <td>0.000951</td>\n",
              "      <td>0.000108</td>\n",
              "      <td>0.002216</td>\n",
              "      <td>0.000603</td>\n",
              "      <td>23</td>\n",
              "      <td>{'n_neighbors': 23}</td>\n",
              "      <td>0.933333</td>\n",
              "      <td>0.933333</td>\n",
              "      <td>1.0</td>\n",
              "      <td>1.000000</td>\n",
              "      <td>1.000000</td>\n",
              "      <td>0.933333</td>\n",
              "      <td>0.933333</td>\n",
              "      <td>1.000000</td>\n",
              "      <td>1.0</td>\n",
              "      <td>1.0</td>\n",
              "      <td>0.973333</td>\n",
              "      <td>0.032660</td>\n",
              "      <td>4</td>\n",
              "    </tr>\n",
              "    <tr>\n",
              "      <th>23</th>\n",
              "      <td>0.000807</td>\n",
              "      <td>0.000094</td>\n",
              "      <td>0.001766</td>\n",
              "      <td>0.000075</td>\n",
              "      <td>24</td>\n",
              "      <td>{'n_neighbors': 24}</td>\n",
              "      <td>0.933333</td>\n",
              "      <td>0.933333</td>\n",
              "      <td>1.0</td>\n",
              "      <td>1.000000</td>\n",
              "      <td>1.000000</td>\n",
              "      <td>0.866667</td>\n",
              "      <td>0.933333</td>\n",
              "      <td>0.933333</td>\n",
              "      <td>1.0</td>\n",
              "      <td>1.0</td>\n",
              "      <td>0.960000</td>\n",
              "      <td>0.044222</td>\n",
              "      <td>24</td>\n",
              "    </tr>\n",
              "    <tr>\n",
              "      <th>24</th>\n",
              "      <td>0.000828</td>\n",
              "      <td>0.000084</td>\n",
              "      <td>0.002319</td>\n",
              "      <td>0.001013</td>\n",
              "      <td>25</td>\n",
              "      <td>{'n_neighbors': 25}</td>\n",
              "      <td>0.933333</td>\n",
              "      <td>0.933333</td>\n",
              "      <td>1.0</td>\n",
              "      <td>1.000000</td>\n",
              "      <td>1.000000</td>\n",
              "      <td>0.933333</td>\n",
              "      <td>0.933333</td>\n",
              "      <td>0.933333</td>\n",
              "      <td>1.0</td>\n",
              "      <td>1.0</td>\n",
              "      <td>0.966667</td>\n",
              "      <td>0.033333</td>\n",
              "      <td>18</td>\n",
              "    </tr>\n",
              "    <tr>\n",
              "      <th>25</th>\n",
              "      <td>0.001114</td>\n",
              "      <td>0.000397</td>\n",
              "      <td>0.002259</td>\n",
              "      <td>0.000731</td>\n",
              "      <td>26</td>\n",
              "      <td>{'n_neighbors': 26}</td>\n",
              "      <td>0.933333</td>\n",
              "      <td>0.933333</td>\n",
              "      <td>1.0</td>\n",
              "      <td>1.000000</td>\n",
              "      <td>1.000000</td>\n",
              "      <td>0.866667</td>\n",
              "      <td>0.933333</td>\n",
              "      <td>0.933333</td>\n",
              "      <td>1.0</td>\n",
              "      <td>1.0</td>\n",
              "      <td>0.960000</td>\n",
              "      <td>0.044222</td>\n",
              "      <td>24</td>\n",
              "    </tr>\n",
              "    <tr>\n",
              "      <th>26</th>\n",
              "      <td>0.001263</td>\n",
              "      <td>0.000821</td>\n",
              "      <td>0.002117</td>\n",
              "      <td>0.000212</td>\n",
              "      <td>27</td>\n",
              "      <td>{'n_neighbors': 27}</td>\n",
              "      <td>0.933333</td>\n",
              "      <td>0.933333</td>\n",
              "      <td>1.0</td>\n",
              "      <td>1.000000</td>\n",
              "      <td>1.000000</td>\n",
              "      <td>0.866667</td>\n",
              "      <td>0.933333</td>\n",
              "      <td>1.000000</td>\n",
              "      <td>1.0</td>\n",
              "      <td>1.0</td>\n",
              "      <td>0.966667</td>\n",
              "      <td>0.044721</td>\n",
              "      <td>18</td>\n",
              "    </tr>\n",
              "    <tr>\n",
              "      <th>27</th>\n",
              "      <td>0.001194</td>\n",
              "      <td>0.000390</td>\n",
              "      <td>0.002654</td>\n",
              "      <td>0.001370</td>\n",
              "      <td>28</td>\n",
              "      <td>{'n_neighbors': 28}</td>\n",
              "      <td>0.933333</td>\n",
              "      <td>0.933333</td>\n",
              "      <td>1.0</td>\n",
              "      <td>0.933333</td>\n",
              "      <td>1.000000</td>\n",
              "      <td>0.866667</td>\n",
              "      <td>0.933333</td>\n",
              "      <td>0.933333</td>\n",
              "      <td>1.0</td>\n",
              "      <td>1.0</td>\n",
              "      <td>0.953333</td>\n",
              "      <td>0.042687</td>\n",
              "      <td>27</td>\n",
              "    </tr>\n",
              "    <tr>\n",
              "      <th>28</th>\n",
              "      <td>0.000953</td>\n",
              "      <td>0.000076</td>\n",
              "      <td>0.002139</td>\n",
              "      <td>0.000216</td>\n",
              "      <td>29</td>\n",
              "      <td>{'n_neighbors': 29}</td>\n",
              "      <td>0.933333</td>\n",
              "      <td>0.933333</td>\n",
              "      <td>1.0</td>\n",
              "      <td>0.933333</td>\n",
              "      <td>1.000000</td>\n",
              "      <td>0.866667</td>\n",
              "      <td>0.933333</td>\n",
              "      <td>0.933333</td>\n",
              "      <td>1.0</td>\n",
              "      <td>1.0</td>\n",
              "      <td>0.953333</td>\n",
              "      <td>0.042687</td>\n",
              "      <td>27</td>\n",
              "    </tr>\n",
              "    <tr>\n",
              "      <th>29</th>\n",
              "      <td>0.000984</td>\n",
              "      <td>0.000089</td>\n",
              "      <td>0.002124</td>\n",
              "      <td>0.000112</td>\n",
              "      <td>30</td>\n",
              "      <td>{'n_neighbors': 30}</td>\n",
              "      <td>0.933333</td>\n",
              "      <td>0.933333</td>\n",
              "      <td>1.0</td>\n",
              "      <td>0.933333</td>\n",
              "      <td>1.000000</td>\n",
              "      <td>0.866667</td>\n",
              "      <td>0.933333</td>\n",
              "      <td>0.933333</td>\n",
              "      <td>1.0</td>\n",
              "      <td>1.0</td>\n",
              "      <td>0.953333</td>\n",
              "      <td>0.042687</td>\n",
              "      <td>27</td>\n",
              "    </tr>\n",
              "  </tbody>\n",
              "</table>\n",
              "</div>\n",
              "      <button class=\"colab-df-convert\" onclick=\"convertToInteractive('df-ca155412-5cca-4bfe-8054-72b36a778f3b')\"\n",
              "              title=\"Convert this dataframe to an interactive table.\"\n",
              "              style=\"display:none;\">\n",
              "        \n",
              "  <svg xmlns=\"http://www.w3.org/2000/svg\" height=\"24px\"viewBox=\"0 0 24 24\"\n",
              "       width=\"24px\">\n",
              "    <path d=\"M0 0h24v24H0V0z\" fill=\"none\"/>\n",
              "    <path d=\"M18.56 5.44l.94 2.06.94-2.06 2.06-.94-2.06-.94-.94-2.06-.94 2.06-2.06.94zm-11 1L8.5 8.5l.94-2.06 2.06-.94-2.06-.94L8.5 2.5l-.94 2.06-2.06.94zm10 10l.94 2.06.94-2.06 2.06-.94-2.06-.94-.94-2.06-.94 2.06-2.06.94z\"/><path d=\"M17.41 7.96l-1.37-1.37c-.4-.4-.92-.59-1.43-.59-.52 0-1.04.2-1.43.59L10.3 9.45l-7.72 7.72c-.78.78-.78 2.05 0 2.83L4 21.41c.39.39.9.59 1.41.59.51 0 1.02-.2 1.41-.59l7.78-7.78 2.81-2.81c.8-.78.8-2.07 0-2.86zM5.41 20L4 18.59l7.72-7.72 1.47 1.35L5.41 20z\"/>\n",
              "  </svg>\n",
              "      </button>\n",
              "      \n",
              "  <style>\n",
              "    .colab-df-container {\n",
              "      display:flex;\n",
              "      flex-wrap:wrap;\n",
              "      gap: 12px;\n",
              "    }\n",
              "\n",
              "    .colab-df-convert {\n",
              "      background-color: #E8F0FE;\n",
              "      border: none;\n",
              "      border-radius: 50%;\n",
              "      cursor: pointer;\n",
              "      display: none;\n",
              "      fill: #1967D2;\n",
              "      height: 32px;\n",
              "      padding: 0 0 0 0;\n",
              "      width: 32px;\n",
              "    }\n",
              "\n",
              "    .colab-df-convert:hover {\n",
              "      background-color: #E2EBFA;\n",
              "      box-shadow: 0px 1px 2px rgba(60, 64, 67, 0.3), 0px 1px 3px 1px rgba(60, 64, 67, 0.15);\n",
              "      fill: #174EA6;\n",
              "    }\n",
              "\n",
              "    [theme=dark] .colab-df-convert {\n",
              "      background-color: #3B4455;\n",
              "      fill: #D2E3FC;\n",
              "    }\n",
              "\n",
              "    [theme=dark] .colab-df-convert:hover {\n",
              "      background-color: #434B5C;\n",
              "      box-shadow: 0px 1px 3px 1px rgba(0, 0, 0, 0.15);\n",
              "      filter: drop-shadow(0px 1px 2px rgba(0, 0, 0, 0.3));\n",
              "      fill: #FFFFFF;\n",
              "    }\n",
              "  </style>\n",
              "\n",
              "      <script>\n",
              "        const buttonEl =\n",
              "          document.querySelector('#df-ca155412-5cca-4bfe-8054-72b36a778f3b button.colab-df-convert');\n",
              "        buttonEl.style.display =\n",
              "          google.colab.kernel.accessAllowed ? 'block' : 'none';\n",
              "\n",
              "        async function convertToInteractive(key) {\n",
              "          const element = document.querySelector('#df-ca155412-5cca-4bfe-8054-72b36a778f3b');\n",
              "          const dataTable =\n",
              "            await google.colab.kernel.invokeFunction('convertToInteractive',\n",
              "                                                     [key], {});\n",
              "          if (!dataTable) return;\n",
              "\n",
              "          const docLinkHtml = 'Like what you see? Visit the ' +\n",
              "            '<a target=\"_blank\" href=https://colab.research.google.com/notebooks/data_table.ipynb>data table notebook</a>'\n",
              "            + ' to learn more about interactive tables.';\n",
              "          element.innerHTML = '';\n",
              "          dataTable['output_type'] = 'display_data';\n",
              "          await google.colab.output.renderOutput(dataTable, element);\n",
              "          const docLink = document.createElement('div');\n",
              "          docLink.innerHTML = docLinkHtml;\n",
              "          element.appendChild(docLink);\n",
              "        }\n",
              "      </script>\n",
              "    </div>\n",
              "  </div>\n",
              "  "
            ]
          },
          "metadata": {},
          "execution_count": 11
        }
      ],
      "source": [
        "import pandas as pd\n",
        "\n",
        "pd.DataFrame(grid.cv_results_)"
      ]
    },
    {
      "cell_type": "code",
      "execution_count": null,
      "metadata": {
        "ExecuteTime": {
          "end_time": "2018-12-03T08:12:51.297200Z",
          "start_time": "2018-12-03T08:12:51.292956Z"
        },
        "colab": {
          "base_uri": "https://localhost:8080/"
        },
        "id": "CHFIyZUHIWd8",
        "outputId": "4f739fbb-a5fd-4062-fe3b-0919d257cc53"
      },
      "outputs": [
        {
          "output_type": "stream",
          "name": "stdout",
          "text": [
            "[0.96       0.95333333 0.96666667 0.96666667 0.96666667 0.96666667\n",
            " 0.96666667 0.96666667 0.97333333 0.96666667 0.96666667 0.97333333\n",
            " 0.98       0.97333333 0.97333333 0.97333333 0.97333333 0.98\n",
            " 0.97333333 0.98       0.96666667 0.96666667 0.97333333 0.96\n",
            " 0.96666667 0.96       0.96666667 0.95333333 0.95333333 0.95333333]\n"
          ]
        }
      ],
      "source": [
        "test_scores = grid.cv_results_['mean_test_score']\n",
        "print(test_scores)"
      ]
    },
    {
      "cell_type": "code",
      "execution_count": null,
      "metadata": {
        "ExecuteTime": {
          "end_time": "2018-12-03T08:12:51.566389Z",
          "start_time": "2018-12-03T08:12:51.413855Z"
        },
        "colab": {
          "base_uri": "https://localhost:8080/",
          "height": 296
        },
        "id": "JDMRL4YcIWd9",
        "outputId": "9f4aed2d-1738-4fb2-ca34-ee51f44b1419"
      },
      "outputs": [
        {
          "output_type": "execute_result",
          "data": {
            "text/plain": [
              "Text(0, 0.5, 'Cross-Validated Accuracy')"
            ]
          },
          "metadata": {},
          "execution_count": 13
        },
        {
          "output_type": "display_data",
          "data": {
            "text/plain": [
              "<Figure size 432x288 with 1 Axes>"
            ],
            "image/png": "[encoded data removed]"
          },
          "metadata": {
            "needs_background": "light"
          }
        }
      ],
      "source": [
        "plt.plot(k_range, test_scores)\n",
        "plt.xlabel('Value of K for KNN')\n",
        "plt.ylabel('Cross-Validated Accuracy')"
      ]
    },
    {
      "cell_type": "code",
      "execution_count": null,
      "metadata": {
        "ExecuteTime": {
          "end_time": "2018-12-03T08:12:51.682767Z",
          "start_time": "2018-12-03T08:12:51.679480Z"
        },
        "colab": {
          "base_uri": "https://localhost:8080/"
        },
        "id": "n-mXOxwBIWd9",
        "outputId": "2aca0767-31cf-4a41-f8d0-35f23109d161"
      },
      "outputs": [
        {
          "output_type": "stream",
          "name": "stdout",
          "text": [
            "0.9800000000000001\n",
            "{'n_neighbors': 13}\n",
            "KNeighborsClassifier(n_neighbors=13)\n"
          ]
        }
      ],
      "source": [
        "# Single best score achieved across all params (k)\n",
        "print(grid.best_score_)\n",
        "\n",
        "# Dictionary containing the parameters (k) used to generate that score\n",
        "print(grid.best_params_)\n",
        "\n",
        "# Actual model object fit with those best parameters\n",
        "# Shows default parameters that we did not specify\n",
        "print(grid.best_estimator_)"
      ]
    },
    {
      "cell_type": "markdown",
      "metadata": {
        "id": "AMuFt-7RIWd-"
      },
      "source": [
        "Построим confusion_matrix для лучшего estimator'а"
      ]
    },
    {
      "cell_type": "code",
      "source": [
        "from sklearn.metrics import confusion_matrix\n",
        "\n",
        "pred = grid.best_estimator_.predict(X)\n",
        "\n",
        "cm = confusion_matrix(y, pred)\n",
        "cm"
      ],
      "metadata": {
        "colab": {
          "base_uri": "https://localhost:8080/"
        },
        "id": "1y4FMr5hL-6a",
        "outputId": "c0279e56-b353-4379-9110-5f05293b14a6"
      },
      "execution_count": null,
      "outputs": [
        {
          "output_type": "execute_result",
          "data": {
            "text/plain": [
              "array([[50,  0,  0],\n",
              "       [ 0, 48,  2],\n",
              "       [ 0,  1, 49]])"
            ]
          },
          "metadata": {},
          "execution_count": 15
        }
      ]
    },
    {
      "cell_type": "code",
      "source": [
        "from sklearn.metrics import ConfusionMatrixDisplay\n",
        "\n",
        "ConfusionMatrixDisplay(cm).from_predictions(y, pred);"
      ],
      "metadata": {
        "colab": {
          "base_uri": "https://localhost:8080/",
          "height": 283
        },
        "id": "crqz00B0LiXq",
        "outputId": "f6e17965-28f4-45f5-b351-5ca281a1ecff"
      },
      "execution_count": null,
      "outputs": [
        {
          "output_type": "display_data",
          "data": {
            "text/plain": [
              "<Figure size 432x288 with 2 Axes>"
            ],
            "image/png": "[encoded data removed]"
          },
          "metadata": {
            "needs_background": "light"
          }
        }
      ]
    },
    {
      "cell_type": "markdown",
      "metadata": {
        "id": "ERldc9tlIWd_"
      },
      "source": [
        "## Перебор нескольких параметров одновременно"
      ]
    },
    {
      "cell_type": "markdown",
      "metadata": {
        "id": "kbw9L4CVIWeA"
      },
      "source": [
        "Переберем параметры k (количество соседей) и weight (количество весов) одновременно"
      ]
    },
    {
      "cell_type": "code",
      "source": [
        "%%time\n",
        "\n",
        "param_grid = {'n_neighbors': np.arange(1, 30),\n",
        "              'weights': ['uniform', 'distance']}\n",
        "\n",
        "knn = KNeighborsClassifier()\n",
        "grid = GridSearchCV(knn, param_grid, cv=10, scoring='accuracy', n_jobs=-1)\n",
        "\n",
        "grid.fit(X, y)"
      ],
      "metadata": {
        "colab": {
          "base_uri": "https://localhost:8080/"
        },
        "id": "2YZEJUigLi05",
        "outputId": "a98878a8-14db-4059-e589-cc4025e25609"
      },
      "execution_count": null,
      "outputs": [
        {
          "output_type": "stream",
          "name": "stdout",
          "text": [
            "CPU times: user 399 ms, sys: 18.4 ms, total: 418 ms\n",
            "Wall time: 3.01 s\n"
          ]
        },
        {
          "output_type": "execute_result",
          "data": {
            "text/plain": [
              "GridSearchCV(cv=10, estimator=KNeighborsClassifier(), n_jobs=-1,\n",
              "             param_grid={'n_neighbors': array([ 1,  2,  3,  4,  5,  6,  7,  8,  9, 10, 11, 12, 13, 14, 15, 16, 17,\n",
              "       18, 19, 20, 21, 22, 23, 24, 25, 26, 27, 28, 29]),\n",
              "                         'weights': ['uniform', 'distance']},\n",
              "             scoring='accuracy')"
            ]
          },
          "metadata": {},
          "execution_count": 17
        }
      ]
    },
    {
      "cell_type": "code",
      "source": [
        "print(grid.best_score_)\n",
        "print(grid.best_estimator_)"
      ],
      "metadata": {
        "colab": {
          "base_uri": "https://localhost:8080/"
        },
        "id": "05F6WoMoMrrq",
        "outputId": "aaab94c9-1cbe-4063-f71f-faa728dc020e"
      },
      "execution_count": null,
      "outputs": [
        {
          "output_type": "stream",
          "name": "stdout",
          "text": [
            "0.9800000000000001\n",
            "KNeighborsClassifier(n_neighbors=13)\n"
          ]
        }
      ]
    },
    {
      "cell_type": "code",
      "source": [
        "pd.DataFrame(grid.cv_results_).shape"
      ],
      "metadata": {
        "colab": {
          "base_uri": "https://localhost:8080/"
        },
        "id": "il-YkokCNsuH",
        "outputId": "8a3e9a0c-e239-4dd5-917b-68ee75e8bf69"
      },
      "execution_count": null,
      "outputs": [
        {
          "output_type": "execute_result",
          "data": {
            "text/plain": [
              "(58, 20)"
            ]
          },
          "metadata": {},
          "execution_count": 19
        }
      ]
    },
    {
      "cell_type": "markdown",
      "metadata": {
        "id": "QyXk8C-JIWeB"
      },
      "source": [
        "## RandomizedSearch\n",
        "GridSearch просто перебирает все параметры. Он, конечно, найдет их самое оптимальное значение, но вопрос во времени. Итоговое количество комбинаций для GridSearchCV - $N_1*N_2*N_3 * ... * N_K$, где $N_i$ - количество возможных значений $i$-го параметра"
      ]
    },
    {
      "cell_type": "markdown",
      "metadata": {
        "id": "Y56P02kJIWeB"
      },
      "source": [
        "RandomizedSearchCV - выбирает случайные значения из параметров и пробует запускать обучение с ними. Можно попробовать \"пристреляться\" к оптимальным значениям, а затем запустить GridSearch для уточнения"
      ]
    },
    {
      "cell_type": "markdown",
      "metadata": {
        "id": "mFYq12j0IWeC"
      },
      "source": [
        "Переберем параметры k (количество соседей) и weight (количество весов) одновременно при помощи RandomizedSearchCV"
      ]
    },
    {
      "cell_type": "code",
      "execution_count": null,
      "metadata": {
        "ExecuteTime": {
          "end_time": "2018-12-03T08:12:54.457733Z",
          "start_time": "2018-12-03T08:12:54.455619Z"
        },
        "id": "XtqdrjjXIWeC"
      },
      "outputs": [],
      "source": [
        "from sklearn.model_selection import RandomizedSearchCV"
      ]
    },
    {
      "cell_type": "code",
      "source": [
        "%%time\n",
        "\n",
        "param_grid = {'n_neighbors': np.arange(1, 30),\n",
        "              'weights': ['uniform', 'distance']}\n",
        "\n",
        "knn = KNeighborsClassifier()\n",
        "grid = RandomizedSearchCV(knn, param_grid, n_iter=10, cv=10, scoring='accuracy')\n",
        "\n",
        "grid.fit(X, y)"
      ],
      "metadata": {
        "colab": {
          "base_uri": "https://localhost:8080/"
        },
        "id": "0ELBSxCENdtN",
        "outputId": "d033d7c5-5e9f-43a0-e4ca-723a4721b86e"
      },
      "execution_count": null,
      "outputs": [
        {
          "output_type": "stream",
          "name": "stdout",
          "text": [
            "CPU times: user 401 ms, sys: 7.85 ms, total: 409 ms\n",
            "Wall time: 822 ms\n"
          ]
        },
        {
          "output_type": "execute_result",
          "data": {
            "text/plain": [
              "RandomizedSearchCV(cv=10, estimator=KNeighborsClassifier(),\n",
              "                   param_distributions={'n_neighbors': array([ 1,  2,  3,  4,  5,  6,  7,  8,  9, 10, 11, 12, 13, 14, 15, 16, 17,\n",
              "       18, 19, 20, 21, 22, 23, 24, 25, 26, 27, 28, 29]),\n",
              "                                        'weights': ['uniform', 'distance']},\n",
              "                   scoring='accuracy')"
            ]
          },
          "metadata": {},
          "execution_count": 21
        }
      ]
    },
    {
      "cell_type": "code",
      "source": [
        "print(grid.best_score_)\n",
        "print(grid.best_estimator_)"
      ],
      "metadata": {
        "colab": {
          "base_uri": "https://localhost:8080/"
        },
        "id": "lM1aYockNl_i",
        "outputId": "885d4268-19e2-43ec-f68e-977e74469960"
      },
      "execution_count": null,
      "outputs": [
        {
          "output_type": "stream",
          "name": "stdout",
          "text": [
            "0.9800000000000001\n",
            "KNeighborsClassifier(n_neighbors=13)\n"
          ]
        }
      ]
    },
    {
      "cell_type": "code",
      "source": [
        "pd.DataFrame(grid.cv_results_).shape"
      ],
      "metadata": {
        "colab": {
          "base_uri": "https://localhost:8080/"
        },
        "id": "FvtW659tNwOH",
        "outputId": "7c82a63b-0a75-467d-b333-ca08f622475d"
      },
      "execution_count": null,
      "outputs": [
        {
          "output_type": "execute_result",
          "data": {
            "text/plain": [
              "(10, 20)"
            ]
          },
          "metadata": {},
          "execution_count": 23
        }
      ]
    },
    {
      "cell_type": "markdown",
      "metadata": {
        "id": "axDCa5k2IWeF"
      },
      "source": [
        "## MNIST"
      ]
    },
    {
      "cell_type": "code",
      "execution_count": null,
      "metadata": {
        "ExecuteTime": {
          "end_time": "2018-12-03T08:12:56.753130Z",
          "start_time": "2018-12-03T08:12:56.750670Z"
        },
        "id": "lCAqQHTEIWeG"
      },
      "outputs": [],
      "source": [
        "from sklearn.datasets import load_digits"
      ]
    },
    {
      "cell_type": "code",
      "execution_count": null,
      "metadata": {
        "ExecuteTime": {
          "end_time": "2018-12-03T08:12:57.139535Z",
          "start_time": "2018-12-03T08:12:57.062890Z"
        },
        "id": "IuqP5MKEIWeG"
      },
      "outputs": [],
      "source": [
        "data = load_digits()"
      ]
    },
    {
      "cell_type": "code",
      "execution_count": null,
      "metadata": {
        "ExecuteTime": {
          "end_time": "2018-12-03T08:12:57.272148Z",
          "start_time": "2018-12-03T08:12:57.269287Z"
        },
        "id": "RWhLwGOnIWeH"
      },
      "outputs": [],
      "source": [
        "X, y = data['data'], data['target']"
      ]
    },
    {
      "cell_type": "code",
      "execution_count": null,
      "metadata": {
        "ExecuteTime": {
          "end_time": "2018-12-03T08:12:58.893331Z",
          "start_time": "2018-12-03T08:12:57.421889Z"
        },
        "colab": {
          "base_uri": "https://localhost:8080/",
          "height": 160
        },
        "id": "HXGRgw_MIWeH",
        "outputId": "092708fb-2594-4438-a014-76009545f55a"
      },
      "outputs": [
        {
          "output_type": "display_data",
          "data": {
            "text/plain": [
              "<Figure size 720x360 with 5 Axes>"
            ],
            "image/png": "[encoded data removed]"
          },
          "metadata": {
            "needs_background": "light"
          }
        }
      ],
      "source": [
        "fig = plt.figure(figsize=(10, 5))\n",
        "for i in range(0, 5):\n",
        "    img = np.random.choice(len(X))\n",
        "    plt.subplot(1, 5, i + 1)\n",
        "    plt.imshow(X[img].reshape(8, 8), cmap='gray')\n",
        "    plt.title(y[img])\n",
        "plt.show()"
      ]
    },
    {
      "cell_type": "code",
      "execution_count": null,
      "metadata": {
        "ExecuteTime": {
          "end_time": "2018-12-03T08:12:59.022991Z",
          "start_time": "2018-12-03T08:12:59.017004Z"
        },
        "id": "jyBWwojGIWeI"
      },
      "outputs": [],
      "source": [
        "X_train, X_valid, y_train, y_valid = train_test_split(X, y, test_size=0.2, random_state=10)"
      ]
    },
    {
      "cell_type": "code",
      "execution_count": null,
      "metadata": {
        "ExecuteTime": {
          "end_time": "2018-12-03T08:12:59.237602Z",
          "start_time": "2018-12-03T08:12:59.230122Z"
        },
        "id": "Du2xZYOtIWeJ"
      },
      "outputs": [],
      "source": [
        "from sklearn.preprocessing import StandardScaler\n",
        "\n",
        "sc = StandardScaler()\n",
        "X_train = sc.fit_transform(X_train)\n",
        "X_valid = sc.transform(X_valid)"
      ]
    },
    {
      "cell_type": "markdown",
      "metadata": {
        "id": "G-cz7sCRIWeK"
      },
      "source": [
        "Возьмем 5 любых классификатор, подберем для них параметры и сравним итоговое качество на отложенной выборке"
      ]
    },
    {
      "cell_type": "code",
      "source": [
        "from sklearn.linear_model import LogisticRegression\n",
        "from sklearn.svm import SVC\n",
        "from sklearn.ensemble import RandomForestClassifier\n",
        "from sklearn.tree import DecisionTreeClassifier\n",
        "\n",
        "from tqdm import tqdm"
      ],
      "metadata": {
        "id": "p-dXN-9WPJOd"
      },
      "execution_count": null,
      "outputs": []
    },
    {
      "cell_type": "code",
      "source": [
        "import warnings\n",
        "warnings.filterwarnings('ignore')"
      ],
      "metadata": {
        "id": "HuQ_Hhu0QqZj"
      },
      "execution_count": null,
      "outputs": []
    },
    {
      "cell_type": "code",
      "source": [
        "models=[\n",
        "      {'name':'Lr',\"model\": LogisticRegression(max_iter=1000),\n",
        "       'params':\n",
        "              {'C':np.linspace(0, 10, 5),\n",
        "                'penalty':['l1', 'l2', 'elasticnet', 'none'],\n",
        "                'solver':['newton-cg', 'lbfgs', 'liblinear', 'sag', 'saga']\n",
        "              }\n",
        "      },\n",
        "      {'name':'SVC',\"model\": SVC(), \n",
        "       'params':\n",
        "              {'C': np.linspace(0, 10, 5),\n",
        "               'kernel':['linear', 'poly', 'rbf', 'sigmoid'],\n",
        "               'degree':[1,2,3,5]\n",
        "               }\n",
        "       },\n",
        "      {'name':'RF',\"model\": RandomForestClassifier(), \n",
        "       'params':\n",
        "              {'n_estimators':[10,25,50,100,150,200],\n",
        "               'criterion':['gini', 'entropy'],\n",
        "               'max_depth':[3,5,7,9,11],\n",
        "               'min_samples_leaf':[1,2,3,5]\n",
        "               }\n",
        "       },\n",
        "      {'name':'KNN',\"model\": KNeighborsClassifier(), \n",
        "       'params':\n",
        "              {'n_neighbors':list(range(1,30)),\n",
        "               'weights': ['uniform', 'distance'],\n",
        "               'p':[1,2,3],\n",
        "               'metric':['euclidean', 'minkowski']\n",
        "               }\n",
        "       },\n",
        "      {'name':'DT',\"model\": DecisionTreeClassifier(), \n",
        "       'params':\n",
        "              {'criterion':['gini', 'entropy'],\n",
        "               'max_depth':[3,5,7,9,11],\n",
        "               'min_samples_split':[2,3,4,5,7,9],\n",
        "               'min_samples_leaf':[1,2,3,5]\n",
        "               }\n",
        "       }\n",
        "]"
      ],
      "metadata": {
        "id": "F3ycyeU-N72v"
      },
      "execution_count": null,
      "outputs": []
    },
    {
      "cell_type": "code",
      "source": [
        "%%time\n",
        "\n",
        "\n",
        "res = []\n",
        "for v in tqdm(models):\n",
        "    res.append((v['name'], RandomizedSearchCV(v['model'], v['params'], cv=10).fit(X_train, y_train)))"
      ],
      "metadata": {
        "colab": {
          "base_uri": "https://localhost:8080/"
        },
        "id": "PVzI1N5HP3Ah",
        "outputId": "2650717a-efe2-4460-ae52-d2d75d02849b"
      },
      "execution_count": null,
      "outputs": [
        {
          "output_type": "stream",
          "name": "stderr",
          "text": [
            "100%|██████████| 5/5 [02:53<00:00, 34.69s/it]"
          ]
        },
        {
          "output_type": "stream",
          "name": "stdout",
          "text": [
            "CPU times: user 2min 36s, sys: 7.52 s, total: 2min 43s\n",
            "Wall time: 2min 53s\n"
          ]
        },
        {
          "output_type": "stream",
          "name": "stderr",
          "text": [
            "\n"
          ]
        }
      ]
    },
    {
      "cell_type": "code",
      "source": [
        "for r in res:\n",
        "    print(r[0], r[1].best_score_, r[1].best_params_)"
      ],
      "metadata": {
        "colab": {
          "base_uri": "https://localhost:8080/"
        },
        "id": "Y0YHFkQGQi7w",
        "outputId": "5ccf5e7e-1242-4527-be27-c0c0b586c502"
      },
      "execution_count": null,
      "outputs": [
        {
          "output_type": "stream",
          "name": "stdout",
          "text": [
            "Lr 0.9637917637917637 {'solver': 'lbfgs', 'penalty': 'l2', 'C': 5.0}\n",
            "SVC 0.9846833721833722 {'kernel': 'poly', 'degree': 3, 'C': 10.0}\n",
            "RF 0.9735479797979798 {'n_estimators': 150, 'min_samples_leaf': 2, 'max_depth': 11, 'criterion': 'entropy'}\n",
            "KNN 0.9700611888111889 {'weights': 'uniform', 'p': 1, 'n_neighbors': 10, 'metric': 'minkowski'}\n",
            "DT 0.8510635198135199 {'min_samples_split': 5, 'min_samples_leaf': 1, 'max_depth': 9, 'criterion': 'entropy'}\n"
          ]
        }
      ]
    },
    {
      "cell_type": "code",
      "source": [
        "y_pred = res[1][1].best_estimator_.predict(X_valid)\n",
        "wrong = y_pred != y_valid\n",
        "\n",
        "X_wrong, y_wrong, y_true_wrong = X_valid[wrong], y_pred[wrong], y_valid[wrong] "
      ],
      "metadata": {
        "id": "h3kt1nKMRfW9"
      },
      "execution_count": null,
      "outputs": []
    },
    {
      "cell_type": "code",
      "source": [
        "y_true_wrong"
      ],
      "metadata": {
        "colab": {
          "base_uri": "https://localhost:8080/"
        },
        "id": "j6s8lAdMR0yJ",
        "outputId": "0c0c3ab2-b664-468c-e1ab-569b0935f04b"
      },
      "execution_count": null,
      "outputs": [
        {
          "output_type": "execute_result",
          "data": {
            "text/plain": [
              "array([9, 1, 1])"
            ]
          },
          "metadata": {},
          "execution_count": 36
        }
      ]
    },
    {
      "cell_type": "code",
      "source": [
        "X_wrong = sc.inverse_transform(X_wrong)\n",
        "\n",
        "fig = plt.figure(figsize=(10, 5))\n",
        "for i in range(0, 3):\n",
        "    img = X_wrong[i]\n",
        "    plt.subplot(1, 4, i + 1)\n",
        "    plt.imshow(img.reshape(8, 8), cmap='gray')\n",
        "    plt.title(f'pred {y_wrong[i]}\\ntrue {y_true_wrong[i]}')\n",
        "plt.show()"
      ],
      "metadata": {
        "colab": {
          "base_uri": "https://localhost:8080/",
          "height": 200
        },
        "id": "VMNTK4WmR4gL",
        "outputId": "918b8391-849d-4f8c-8e4f-116e2b3891c4"
      },
      "execution_count": null,
      "outputs": [
        {
          "output_type": "display_data",
          "data": {
            "text/plain": [
              "<Figure size 720x360 with 3 Axes>"
            ],
            "image/png": "[encoded data removed]"
          },
          "metadata": {
            "needs_background": "light"
          }
        }
      ]
    },
    {
      "cell_type": "markdown",
      "metadata": {
        "id": "jgKbsb0LYLDO"
      },
      "source": [
        "## Байесовская Оптимизация"
      ]
    },
    {
      "cell_type": "markdown",
      "metadata": {
        "id": "c1vwMvFrYuQ0"
      },
      "source": [
        "Значения гиперпараметров в текущей итерации выбираются с учётом результатов на предыдущем шаге. Основная идея алгоритма заключается в следующем – на каждой итерации подбора находится компромисс между исследованием регионов с самыми удачными из найденных комбинаций гиперпараметров и исследованием регионов с большой неопределённостью (где могут находиться ещё более удачные комбинации). Это позволяет во многих случаях найти лучшие значения параметров модели за меньшее количество времени."
      ]
    },
    {
      "cell_type": "markdown",
      "source": [
        "#### scikit-optimize"
      ],
      "metadata": {
        "id": "Gt0NLL5x5sCY"
      }
    },
    {
      "cell_type": "code",
      "source": [
        "!pip install scikit-optimize"
      ],
      "metadata": {
        "colab": {
          "base_uri": "https://localhost:8080/"
        },
        "id": "akzGzWMMvMKj",
        "outputId": "93c58608-fd29-46f5-a2ba-200d39a34048"
      },
      "execution_count": null,
      "outputs": [
        {
          "output_type": "stream",
          "name": "stdout",
          "text": [
            "Looking in indexes: https://pypi.org/simple, https://us-python.pkg.dev/colab-wheels/public/simple/\n",
            "Collecting scikit-optimize\n",
            "  Downloading scikit_optimize-0.9.0-py2.py3-none-any.whl (100 kB)\n",
            "\u001b[2K     \u001b[90m━━━━━━━━━━━━━━━━━━━━━━━━━━━━━━━━━━━━━━━\u001b[0m \u001b[32m100.3/100.3 KB\u001b[0m \u001b[31m3.3 MB/s\u001b[0m eta \u001b[36m0:00:00\u001b[0m\n",
            "\u001b[?25hRequirement already satisfied: scikit-learn>=0.20.0 in /usr/local/lib/python3.8/dist-packages (from scikit-optimize) (1.0.2)\n",
            "Requirement already satisfied: numpy>=1.13.3 in /usr/local/lib/python3.8/dist-packages (from scikit-optimize) (1.21.6)\n",
            "Collecting pyaml>=16.9\n",
            "  Downloading pyaml-21.10.1-py2.py3-none-any.whl (24 kB)\n",
            "Requirement already satisfied: scipy>=0.19.1 in /usr/local/lib/python3.8/dist-packages (from scikit-optimize) (1.7.3)\n",
            "Requirement already satisfied: joblib>=0.11 in /usr/local/lib/python3.8/dist-packages (from scikit-optimize) (1.2.0)\n",
            "Requirement already satisfied: PyYAML in /usr/local/lib/python3.8/dist-packages (from pyaml>=16.9->scikit-optimize) (6.0)\n",
            "Requirement already satisfied: threadpoolctl>=2.0.0 in /usr/local/lib/python3.8/dist-packages (from scikit-learn>=0.20.0->scikit-optimize) (3.1.0)\n",
            "Installing collected packages: pyaml, scikit-optimize\n",
            "Successfully installed pyaml-21.10.1 scikit-optimize-0.9.0\n"
          ]
        }
      ]
    },
    {
      "cell_type": "code",
      "source": [
        "%%time\n",
        "from skopt import BayesSearchCV\n",
        "\n",
        "\n",
        "opt = BayesSearchCV(\n",
        "    SVC(),\n",
        "    {\n",
        "        'C': (1e-4, 1e+4, 'log-uniform'),\n",
        "        'kernel': ['linear', 'poly', 'rbf'],\n",
        "        'degree': (1, 8)\n",
        "    },\n",
        "    n_iter=32,\n",
        "    cv=3\n",
        ")\n",
        "\n",
        "opt.fit(X_train, y_train)"
      ],
      "metadata": {
        "colab": {
          "base_uri": "https://localhost:8080/"
        },
        "id": "cHdMGGRhvD5w",
        "outputId": "2bf948b6-9320-40b4-8d36-a095a935d771"
      },
      "execution_count": null,
      "outputs": [
        {
          "output_type": "stream",
          "name": "stdout",
          "text": [
            "CPU times: user 48.9 s, sys: 18.9 s, total: 1min 7s\n",
            "Wall time: 54.5 s\n"
          ]
        },
        {
          "output_type": "execute_result",
          "data": {
            "text/plain": [
              "BayesSearchCV(cv=3, estimator=SVC(), n_iter=32,\n",
              "              search_spaces={'C': (0.0001, 10000.0, 'log-uniform'),\n",
              "                             'degree': (1, 8),\n",
              "                             'kernel': ['linear', 'poly', 'rbf']})"
            ]
          },
          "metadata": {},
          "execution_count": 123
        }
      ]
    },
    {
      "cell_type": "code",
      "source": [
        "opt.best_score_"
      ],
      "metadata": {
        "colab": {
          "base_uri": "https://localhost:8080/"
        },
        "id": "K8pmmFxavkRd",
        "outputId": "a2c96825-939c-47fd-9c3d-aa2ea0c7499e"
      },
      "execution_count": null,
      "outputs": [
        {
          "output_type": "execute_result",
          "data": {
            "text/plain": [
              "0.9826026443980515"
            ]
          },
          "metadata": {},
          "execution_count": 125
        }
      ]
    },
    {
      "cell_type": "code",
      "source": [
        "opt.best_estimator_"
      ],
      "metadata": {
        "colab": {
          "base_uri": "https://localhost:8080/"
        },
        "id": "kWHxpwO7v0Mm",
        "outputId": "9e2b532a-7cf6-446b-be7f-5451abd82187"
      },
      "execution_count": null,
      "outputs": [
        {
          "output_type": "execute_result",
          "data": {
            "text/plain": [
              "SVC(C=0.0503663965981818, degree=1, kernel='linear')"
            ]
          },
          "metadata": {},
          "execution_count": 126
        }
      ]
    },
    {
      "cell_type": "code",
      "source": [
        "pd.DataFrame(opt.cv_results_)"
      ],
      "metadata": {
        "colab": {
          "base_uri": "https://localhost:8080/",
          "height": 1000
        },
        "id": "l0EE0Z23zVFw",
        "outputId": "9a5db04d-a8e6-46ed-d522-66d26e448414"
      },
      "execution_count": null,
      "outputs": [
        {
          "output_type": "execute_result",
          "data": {
            "text/plain": [
              "    mean_fit_time  std_fit_time  mean_score_time  std_score_time      param_C  \\\n",
              "0        0.157351      0.007259         0.036792        0.000500     0.000594   \n",
              "1        0.124850      0.031707         0.056349        0.014747     0.003867   \n",
              "2        0.035802      0.001413         0.025789        0.000271    20.338429   \n",
              "3        0.023314      0.001998         0.013985        0.001101     0.007641   \n",
              "4        0.050559      0.001828         0.013861        0.000418    12.345756   \n",
              "5        0.086626      0.003876         0.021903        0.002109     3.141949   \n",
              "6        0.031574      0.001406         0.016520        0.000187     0.003374   \n",
              "7        0.073422      0.003208         0.021872        0.000286       0.0002   \n",
              "8        0.040373      0.001347         0.028748        0.002440  6620.142476   \n",
              "9        0.040375      0.003441         0.028281        0.000740  1141.717323   \n",
              "10       0.038901      0.001611         0.014915        0.001771    15.662737   \n",
              "11       0.062860      0.000452         0.020425        0.000460    20.502582   \n",
              "12       0.114187      0.029067         0.078326        0.018593  3099.130786   \n",
              "13       0.022052      0.004176         0.008194        0.000163     0.114021   \n",
              "14       0.042053      0.003508         0.028619        0.001081    38.462224   \n",
              "15       0.021571      0.004155         0.012126        0.002068       0.0167   \n",
              "16       0.031118      0.001080         0.016834        0.001734     0.050366   \n",
              "17       0.026181      0.010789         0.008484        0.000209      10000.0   \n",
              "18       0.023633      0.004671         0.010474        0.002075      10000.0   \n",
              "19       0.037996      0.001420         0.026022        0.000354    20.140927   \n",
              "20       0.019325      0.000761         0.008501        0.000192   425.859238   \n",
              "21       0.023115      0.004887         0.009467        0.001893  2131.045601   \n",
              "22       0.128837      0.025204         0.022650        0.003713    60.288236   \n",
              "23       0.031017      0.002084         0.013244        0.000638   918.687811   \n",
              "24       0.025473      0.004867         0.009986        0.002405     5.868713   \n",
              "25       0.031481      0.000897         0.013079        0.000324  1658.552627   \n",
              "26       0.094254      0.003615         0.018028        0.002830      10000.0   \n",
              "27       0.042482      0.003093         0.030528        0.005785   904.407416   \n",
              "28       0.064274      0.001545         0.053687        0.007485      10000.0   \n",
              "29       0.024556      0.005532         0.008643        0.000732      10000.0   \n",
              "30       0.021942      0.004480         0.008422        0.000491     37.52827   \n",
              "31       0.045478      0.011409         0.027696        0.002947    63.183932   \n",
              "\n",
              "   param_degree param_kernel  \\\n",
              "0             6         poly   \n",
              "1             5          rbf   \n",
              "2             5          rbf   \n",
              "3             7       linear   \n",
              "4             3         poly   \n",
              "5             7         poly   \n",
              "6             1       linear   \n",
              "7             8       linear   \n",
              "8             7          rbf   \n",
              "9             8          rbf   \n",
              "10            2         poly   \n",
              "11            2         poly   \n",
              "12            8          rbf   \n",
              "13            3       linear   \n",
              "14            5          rbf   \n",
              "15            6       linear   \n",
              "16            1       linear   \n",
              "17            4       linear   \n",
              "18            1         poly   \n",
              "19            4          rbf   \n",
              "20            8       linear   \n",
              "21            1       linear   \n",
              "22            8         poly   \n",
              "23            6       linear   \n",
              "24            2       linear   \n",
              "25            8       linear   \n",
              "26            6         poly   \n",
              "27            1          rbf   \n",
              "28            1          rbf   \n",
              "29            1       linear   \n",
              "30            1       linear   \n",
              "31            4          rbf   \n",
              "\n",
              "                                               params  split0_test_score  \\\n",
              "0   {'C': 0.0005944074204551244, 'degree': 6, 'ker...           0.106472   \n",
              "1   {'C': 0.0038665007351620546, 'degree': 5, 'ker...           0.104384   \n",
              "2   {'C': 20.33842897885524, 'degree': 5, 'kernel'...           0.981211   \n",
              "3   {'C': 0.0076406690780804745, 'degree': 7, 'ker...           0.966597   \n",
              "4   {'C': 12.345756174386802, 'degree': 3, 'kernel...           0.977035   \n",
              "5   {'C': 3.1419489044113784, 'degree': 7, 'kernel...           0.461378   \n",
              "6   {'C': 0.003374157242269676, 'degree': 1, 'kern...           0.956159   \n",
              "7   {'C': 0.0001998196463823411, 'degree': 8, 'ker...           0.375783   \n",
              "8   {'C': 6620.14247620561, 'degree': 7, 'kernel':...           0.981211   \n",
              "9   {'C': 1141.7173228332972, 'degree': 8, 'kernel...           0.981211   \n",
              "10  {'C': 15.662737316279584, 'degree': 2, 'kernel...           0.979123   \n",
              "11  {'C': 20.502582116253173, 'degree': 2, 'kernel...           0.979123   \n",
              "12  {'C': 3099.130785711538, 'degree': 8, 'kernel'...           0.981211   \n",
              "13  {'C': 0.11402078475986857, 'degree': 3, 'kerne...           0.981211   \n",
              "14  {'C': 38.462223559806404, 'degree': 5, 'kernel...           0.981211   \n",
              "15  {'C': 0.016699898251125715, 'degree': 6, 'kern...           0.977035   \n",
              "16  {'C': 0.0503663965981818, 'degree': 1, 'kernel...           0.985386   \n",
              "17    {'C': 10000.0, 'degree': 4, 'kernel': 'linear'}           0.979123   \n",
              "18      {'C': 10000.0, 'degree': 1, 'kernel': 'poly'}           0.979123   \n",
              "19  {'C': 20.140926525959735, 'degree': 4, 'kernel...           0.981211   \n",
              "20  {'C': 425.8592376385718, 'degree': 8, 'kernel'...           0.979123   \n",
              "21  {'C': 2131.0456008300976, 'degree': 1, 'kernel...           0.979123   \n",
              "22  {'C': 60.28823621756062, 'degree': 8, 'kernel'...           0.678497   \n",
              "23  {'C': 918.6878107979076, 'degree': 6, 'kernel'...           0.979123   \n",
              "24  {'C': 5.868713206804723, 'degree': 2, 'kernel'...           0.979123   \n",
              "25  {'C': 1658.552626684863, 'degree': 8, 'kernel'...           0.979123   \n",
              "26      {'C': 10000.0, 'degree': 6, 'kernel': 'poly'}           0.887265   \n",
              "27  {'C': 904.4074163748081, 'degree': 1, 'kernel'...           0.981211   \n",
              "28       {'C': 10000.0, 'degree': 1, 'kernel': 'rbf'}           0.981211   \n",
              "29    {'C': 10000.0, 'degree': 1, 'kernel': 'linear'}           0.979123   \n",
              "30  {'C': 37.52826991781704, 'degree': 1, 'kernel'...           0.979123   \n",
              "31  {'C': 63.18393188273246, 'degree': 4, 'kernel'...           0.981211   \n",
              "\n",
              "    split1_test_score  split2_test_score  mean_test_score  std_test_score  \\\n",
              "0            0.123173           0.123173         0.117606        0.007873   \n",
              "1            0.104384           0.104384         0.104384        0.000000   \n",
              "2            0.974948           0.983299         0.979819        0.003548   \n",
              "3            0.962422           0.968685         0.965901        0.002604   \n",
              "4            0.989562           0.972860         0.979819        0.007097   \n",
              "5            0.605428           0.496868         0.521225        0.061278   \n",
              "6            0.949896           0.951983         0.952679        0.002604   \n",
              "7            0.388309           0.402923         0.389005        0.011091   \n",
              "8            0.974948           0.983299         0.979819        0.003548   \n",
              "9            0.974948           0.983299         0.979819        0.003548   \n",
              "10           0.981211           0.972860         0.977731        0.003548   \n",
              "11           0.981211           0.972860         0.977731        0.003548   \n",
              "12           0.974948           0.983299         0.979819        0.003548   \n",
              "13           0.983299           0.977035         0.980515        0.002604   \n",
              "14           0.974948           0.983299         0.979819        0.003548   \n",
              "15           0.979123           0.968685         0.974948        0.004510   \n",
              "16           0.983299           0.979123         0.982603        0.002604   \n",
              "17           0.981211           0.981211         0.980515        0.000984   \n",
              "18           0.981211           0.981211         0.980515        0.000984   \n",
              "19           0.974948           0.983299         0.979819        0.003548   \n",
              "20           0.981211           0.981211         0.980515        0.000984   \n",
              "21           0.981211           0.981211         0.980515        0.000984   \n",
              "22           0.764092           0.713987         0.718859        0.035113   \n",
              "23           0.981211           0.981211         0.980515        0.000984   \n",
              "24           0.981211           0.981211         0.980515        0.000984   \n",
              "25           0.981211           0.981211         0.980515        0.000984   \n",
              "26           0.883090           0.878914         0.883090        0.003409   \n",
              "27           0.974948           0.983299         0.979819        0.003548   \n",
              "28           0.974948           0.983299         0.979819        0.003548   \n",
              "29           0.981211           0.981211         0.980515        0.000984   \n",
              "30           0.981211           0.981211         0.980515        0.000984   \n",
              "31           0.974948           0.983299         0.979819        0.003548   \n",
              "\n",
              "    rank_test_score  \n",
              "0                31  \n",
              "1                32  \n",
              "2                12  \n",
              "3                25  \n",
              "4                21  \n",
              "5                29  \n",
              "6                26  \n",
              "7                30  \n",
              "8                12  \n",
              "9                12  \n",
              "10               22  \n",
              "11               22  \n",
              "12               12  \n",
              "13                2  \n",
              "14               12  \n",
              "15               24  \n",
              "16                1  \n",
              "17                2  \n",
              "18                2  \n",
              "19               12  \n",
              "20                2  \n",
              "21                2  \n",
              "22               28  \n",
              "23                2  \n",
              "24                2  \n",
              "25                2  \n",
              "26               27  \n",
              "27               12  \n",
              "28               12  \n",
              "29                2  \n",
              "30                2  \n",
              "31               12  "
            ],
            "text/html": [
              "\n",
              "  <div id=\"df-5dc79b75-77fe-444b-9224-eb11df2b1ed2\">\n",
              "    <div class=\"colab-df-container\">\n",
              "      <div>\n",
              "<style scoped>\n",
              "    .dataframe tbody tr th:only-of-type {\n",
              "        vertical-align: middle;\n",
              "    }\n",
              "\n",
              "    .dataframe tbody tr th {\n",
              "        vertical-align: top;\n",
              "    }\n",
              "\n",
              "    .dataframe thead th {\n",
              "        text-align: right;\n",
              "    }\n",
              "</style>\n",
              "<table border=\"1\" class=\"dataframe\">\n",
              "  <thead>\n",
              "    <tr style=\"text-align: right;\">\n",
              "      <th></th>\n",
              "      <th>mean_fit_time</th>\n",
              "      <th>std_fit_time</th>\n",
              "      <th>mean_score_time</th>\n",
              "      <th>std_score_time</th>\n",
              "      <th>param_C</th>\n",
              "      <th>param_degree</th>\n",
              "      <th>param_kernel</th>\n",
              "      <th>params</th>\n",
              "      <th>split0_test_score</th>\n",
              "      <th>split1_test_score</th>\n",
              "      <th>split2_test_score</th>\n",
              "      <th>mean_test_score</th>\n",
              "      <th>std_test_score</th>\n",
              "      <th>rank_test_score</th>\n",
              "    </tr>\n",
              "  </thead>\n",
              "  <tbody>\n",
              "    <tr>\n",
              "      <th>0</th>\n",
              "      <td>0.157351</td>\n",
              "      <td>0.007259</td>\n",
              "      <td>0.036792</td>\n",
              "      <td>0.000500</td>\n",
              "      <td>0.000594</td>\n",
              "      <td>6</td>\n",
              "      <td>poly</td>\n",
              "      <td>{'C': 0.0005944074204551244, 'degree': 6, 'ker...</td>\n",
              "      <td>0.106472</td>\n",
              "      <td>0.123173</td>\n",
              "      <td>0.123173</td>\n",
              "      <td>0.117606</td>\n",
              "      <td>0.007873</td>\n",
              "      <td>31</td>\n",
              "    </tr>\n",
              "    <tr>\n",
              "      <th>1</th>\n",
              "      <td>0.124850</td>\n",
              "      <td>0.031707</td>\n",
              "      <td>0.056349</td>\n",
              "      <td>0.014747</td>\n",
              "      <td>0.003867</td>\n",
              "      <td>5</td>\n",
              "      <td>rbf</td>\n",
              "      <td>{'C': 0.0038665007351620546, 'degree': 5, 'ker...</td>\n",
              "      <td>0.104384</td>\n",
              "      <td>0.104384</td>\n",
              "      <td>0.104384</td>\n",
              "      <td>0.104384</td>\n",
              "      <td>0.000000</td>\n",
              "      <td>32</td>\n",
              "    </tr>\n",
              "    <tr>\n",
              "      <th>2</th>\n",
              "      <td>0.035802</td>\n",
              "      <td>0.001413</td>\n",
              "      <td>0.025789</td>\n",
              "      <td>0.000271</td>\n",
              "      <td>20.338429</td>\n",
              "      <td>5</td>\n",
              "      <td>rbf</td>\n",
              "      <td>{'C': 20.33842897885524, 'degree': 5, 'kernel'...</td>\n",
              "      <td>0.981211</td>\n",
              "      <td>0.974948</td>\n",
              "      <td>0.983299</td>\n",
              "      <td>0.979819</td>\n",
              "      <td>0.003548</td>\n",
              "      <td>12</td>\n",
              "    </tr>\n",
              "    <tr>\n",
              "      <th>3</th>\n",
              "      <td>0.023314</td>\n",
              "      <td>0.001998</td>\n",
              "      <td>0.013985</td>\n",
              "      <td>0.001101</td>\n",
              "      <td>0.007641</td>\n",
              "      <td>7</td>\n",
              "      <td>linear</td>\n",
              "      <td>{'C': 0.0076406690780804745, 'degree': 7, 'ker...</td>\n",
              "      <td>0.966597</td>\n",
              "      <td>0.962422</td>\n",
              "      <td>0.968685</td>\n",
              "      <td>0.965901</td>\n",
              "      <td>0.002604</td>\n",
              "      <td>25</td>\n",
              "    </tr>\n",
              "    <tr>\n",
              "      <th>4</th>\n",
              "      <td>0.050559</td>\n",
              "      <td>0.001828</td>\n",
              "      <td>0.013861</td>\n",
              "      <td>0.000418</td>\n",
              "      <td>12.345756</td>\n",
              "      <td>3</td>\n",
              "      <td>poly</td>\n",
              "      <td>{'C': 12.345756174386802, 'degree': 3, 'kernel...</td>\n",
              "      <td>0.977035</td>\n",
              "      <td>0.989562</td>\n",
              "      <td>0.972860</td>\n",
              "      <td>0.979819</td>\n",
              "      <td>0.007097</td>\n",
              "      <td>21</td>\n",
              "    </tr>\n",
              "    <tr>\n",
              "      <th>5</th>\n",
              "      <td>0.086626</td>\n",
              "      <td>0.003876</td>\n",
              "      <td>0.021903</td>\n",
              "      <td>0.002109</td>\n",
              "      <td>3.141949</td>\n",
              "      <td>7</td>\n",
              "      <td>poly</td>\n",
              "      <td>{'C': 3.1419489044113784, 'degree': 7, 'kernel...</td>\n",
              "      <td>0.461378</td>\n",
              "      <td>0.605428</td>\n",
              "      <td>0.496868</td>\n",
              "      <td>0.521225</td>\n",
              "      <td>0.061278</td>\n",
              "      <td>29</td>\n",
              "    </tr>\n",
              "    <tr>\n",
              "      <th>6</th>\n",
              "      <td>0.031574</td>\n",
              "      <td>0.001406</td>\n",
              "      <td>0.016520</td>\n",
              "      <td>0.000187</td>\n",
              "      <td>0.003374</td>\n",
              "      <td>1</td>\n",
              "      <td>linear</td>\n",
              "      <td>{'C': 0.003374157242269676, 'degree': 1, 'kern...</td>\n",
              "      <td>0.956159</td>\n",
              "      <td>0.949896</td>\n",
              "      <td>0.951983</td>\n",
              "      <td>0.952679</td>\n",
              "      <td>0.002604</td>\n",
              "      <td>26</td>\n",
              "    </tr>\n",
              "    <tr>\n",
              "      <th>7</th>\n",
              "      <td>0.073422</td>\n",
              "      <td>0.003208</td>\n",
              "      <td>0.021872</td>\n",
              "      <td>0.000286</td>\n",
              "      <td>0.0002</td>\n",
              "      <td>8</td>\n",
              "      <td>linear</td>\n",
              "      <td>{'C': 0.0001998196463823411, 'degree': 8, 'ker...</td>\n",
              "      <td>0.375783</td>\n",
              "      <td>0.388309</td>\n",
              "      <td>0.402923</td>\n",
              "      <td>0.389005</td>\n",
              "      <td>0.011091</td>\n",
              "      <td>30</td>\n",
              "    </tr>\n",
              "    <tr>\n",
              "      <th>8</th>\n",
              "      <td>0.040373</td>\n",
              "      <td>0.001347</td>\n",
              "      <td>0.028748</td>\n",
              "      <td>0.002440</td>\n",
              "      <td>6620.142476</td>\n",
              "      <td>7</td>\n",
              "      <td>rbf</td>\n",
              "      <td>{'C': 6620.14247620561, 'degree': 7, 'kernel':...</td>\n",
              "      <td>0.981211</td>\n",
              "      <td>0.974948</td>\n",
              "      <td>0.983299</td>\n",
              "      <td>0.979819</td>\n",
              "      <td>0.003548</td>\n",
              "      <td>12</td>\n",
              "    </tr>\n",
              "    <tr>\n",
              "      <th>9</th>\n",
              "      <td>0.040375</td>\n",
              "      <td>0.003441</td>\n",
              "      <td>0.028281</td>\n",
              "      <td>0.000740</td>\n",
              "      <td>1141.717323</td>\n",
              "      <td>8</td>\n",
              "      <td>rbf</td>\n",
              "      <td>{'C': 1141.7173228332972, 'degree': 8, 'kernel...</td>\n",
              "      <td>0.981211</td>\n",
              "      <td>0.974948</td>\n",
              "      <td>0.983299</td>\n",
              "      <td>0.979819</td>\n",
              "      <td>0.003548</td>\n",
              "      <td>12</td>\n",
              "    </tr>\n",
              "    <tr>\n",
              "      <th>10</th>\n",
              "      <td>0.038901</td>\n",
              "      <td>0.001611</td>\n",
              "      <td>0.014915</td>\n",
              "      <td>0.001771</td>\n",
              "      <td>15.662737</td>\n",
              "      <td>2</td>\n",
              "      <td>poly</td>\n",
              "      <td>{'C': 15.662737316279584, 'degree': 2, 'kernel...</td>\n",
              "      <td>0.979123</td>\n",
              "      <td>0.981211</td>\n",
              "      <td>0.972860</td>\n",
              "      <td>0.977731</td>\n",
              "      <td>0.003548</td>\n",
              "      <td>22</td>\n",
              "    </tr>\n",
              "    <tr>\n",
              "      <th>11</th>\n",
              "      <td>0.062860</td>\n",
              "      <td>0.000452</td>\n",
              "      <td>0.020425</td>\n",
              "      <td>0.000460</td>\n",
              "      <td>20.502582</td>\n",
              "      <td>2</td>\n",
              "      <td>poly</td>\n",
              "      <td>{'C': 20.502582116253173, 'degree': 2, 'kernel...</td>\n",
              "      <td>0.979123</td>\n",
              "      <td>0.981211</td>\n",
              "      <td>0.972860</td>\n",
              "      <td>0.977731</td>\n",
              "      <td>0.003548</td>\n",
              "      <td>22</td>\n",
              "    </tr>\n",
              "    <tr>\n",
              "      <th>12</th>\n",
              "      <td>0.114187</td>\n",
              "      <td>0.029067</td>\n",
              "      <td>0.078326</td>\n",
              "      <td>0.018593</td>\n",
              "      <td>3099.130786</td>\n",
              "      <td>8</td>\n",
              "      <td>rbf</td>\n",
              "      <td>{'C': 3099.130785711538, 'degree': 8, 'kernel'...</td>\n",
              "      <td>0.981211</td>\n",
              "      <td>0.974948</td>\n",
              "      <td>0.983299</td>\n",
              "      <td>0.979819</td>\n",
              "      <td>0.003548</td>\n",
              "      <td>12</td>\n",
              "    </tr>\n",
              "    <tr>\n",
              "      <th>13</th>\n",
              "      <td>0.022052</td>\n",
              "      <td>0.004176</td>\n",
              "      <td>0.008194</td>\n",
              "      <td>0.000163</td>\n",
              "      <td>0.114021</td>\n",
              "      <td>3</td>\n",
              "      <td>linear</td>\n",
              "      <td>{'C': 0.11402078475986857, 'degree': 3, 'kerne...</td>\n",
              "      <td>0.981211</td>\n",
              "      <td>0.983299</td>\n",
              "      <td>0.977035</td>\n",
              "      <td>0.980515</td>\n",
              "      <td>0.002604</td>\n",
              "      <td>2</td>\n",
              "    </tr>\n",
              "    <tr>\n",
              "      <th>14</th>\n",
              "      <td>0.042053</td>\n",
              "      <td>0.003508</td>\n",
              "      <td>0.028619</td>\n",
              "      <td>0.001081</td>\n",
              "      <td>38.462224</td>\n",
              "      <td>5</td>\n",
              "      <td>rbf</td>\n",
              "      <td>{'C': 38.462223559806404, 'degree': 5, 'kernel...</td>\n",
              "      <td>0.981211</td>\n",
              "      <td>0.974948</td>\n",
              "      <td>0.983299</td>\n",
              "      <td>0.979819</td>\n",
              "      <td>0.003548</td>\n",
              "      <td>12</td>\n",
              "    </tr>\n",
              "    <tr>\n",
              "      <th>15</th>\n",
              "      <td>0.021571</td>\n",
              "      <td>0.004155</td>\n",
              "      <td>0.012126</td>\n",
              "      <td>0.002068</td>\n",
              "      <td>0.0167</td>\n",
              "      <td>6</td>\n",
              "      <td>linear</td>\n",
              "      <td>{'C': 0.016699898251125715, 'degree': 6, 'kern...</td>\n",
              "      <td>0.977035</td>\n",
              "      <td>0.979123</td>\n",
              "      <td>0.968685</td>\n",
              "      <td>0.974948</td>\n",
              "      <td>0.004510</td>\n",
              "      <td>24</td>\n",
              "    </tr>\n",
              "    <tr>\n",
              "      <th>16</th>\n",
              "      <td>0.031118</td>\n",
              "      <td>0.001080</td>\n",
              "      <td>0.016834</td>\n",
              "      <td>0.001734</td>\n",
              "      <td>0.050366</td>\n",
              "      <td>1</td>\n",
              "      <td>linear</td>\n",
              "      <td>{'C': 0.0503663965981818, 'degree': 1, 'kernel...</td>\n",
              "      <td>0.985386</td>\n",
              "      <td>0.983299</td>\n",
              "      <td>0.979123</td>\n",
              "      <td>0.982603</td>\n",
              "      <td>0.002604</td>\n",
              "      <td>1</td>\n",
              "    </tr>\n",
              "    <tr>\n",
              "      <th>17</th>\n",
              "      <td>0.026181</td>\n",
              "      <td>0.010789</td>\n",
              "      <td>0.008484</td>\n",
              "      <td>0.000209</td>\n",
              "      <td>10000.0</td>\n",
              "      <td>4</td>\n",
              "      <td>linear</td>\n",
              "      <td>{'C': 10000.0, 'degree': 4, 'kernel': 'linear'}</td>\n",
              "      <td>0.979123</td>\n",
              "      <td>0.981211</td>\n",
              "      <td>0.981211</td>\n",
              "      <td>0.980515</td>\n",
              "      <td>0.000984</td>\n",
              "      <td>2</td>\n",
              "    </tr>\n",
              "    <tr>\n",
              "      <th>18</th>\n",
              "      <td>0.023633</td>\n",
              "      <td>0.004671</td>\n",
              "      <td>0.010474</td>\n",
              "      <td>0.002075</td>\n",
              "      <td>10000.0</td>\n",
              "      <td>1</td>\n",
              "      <td>poly</td>\n",
              "      <td>{'C': 10000.0, 'degree': 1, 'kernel': 'poly'}</td>\n",
              "      <td>0.979123</td>\n",
              "      <td>0.981211</td>\n",
              "      <td>0.981211</td>\n",
              "      <td>0.980515</td>\n",
              "      <td>0.000984</td>\n",
              "      <td>2</td>\n",
              "    </tr>\n",
              "    <tr>\n",
              "      <th>19</th>\n",
              "      <td>0.037996</td>\n",
              "      <td>0.001420</td>\n",
              "      <td>0.026022</td>\n",
              "      <td>0.000354</td>\n",
              "      <td>20.140927</td>\n",
              "      <td>4</td>\n",
              "      <td>rbf</td>\n",
              "      <td>{'C': 20.140926525959735, 'degree': 4, 'kernel...</td>\n",
              "      <td>0.981211</td>\n",
              "      <td>0.974948</td>\n",
              "      <td>0.983299</td>\n",
              "      <td>0.979819</td>\n",
              "      <td>0.003548</td>\n",
              "      <td>12</td>\n",
              "    </tr>\n",
              "    <tr>\n",
              "      <th>20</th>\n",
              "      <td>0.019325</td>\n",
              "      <td>0.000761</td>\n",
              "      <td>0.008501</td>\n",
              "      <td>0.000192</td>\n",
              "      <td>425.859238</td>\n",
              "      <td>8</td>\n",
              "      <td>linear</td>\n",
              "      <td>{'C': 425.8592376385718, 'degree': 8, 'kernel'...</td>\n",
              "      <td>0.979123</td>\n",
              "      <td>0.981211</td>\n",
              "      <td>0.981211</td>\n",
              "      <td>0.980515</td>\n",
              "      <td>0.000984</td>\n",
              "      <td>2</td>\n",
              "    </tr>\n",
              "    <tr>\n",
              "      <th>21</th>\n",
              "      <td>0.023115</td>\n",
              "      <td>0.004887</td>\n",
              "      <td>0.009467</td>\n",
              "      <td>0.001893</td>\n",
              "      <td>2131.045601</td>\n",
              "      <td>1</td>\n",
              "      <td>linear</td>\n",
              "      <td>{'C': 2131.0456008300976, 'degree': 1, 'kernel...</td>\n",
              "      <td>0.979123</td>\n",
              "      <td>0.981211</td>\n",
              "      <td>0.981211</td>\n",
              "      <td>0.980515</td>\n",
              "      <td>0.000984</td>\n",
              "      <td>2</td>\n",
              "    </tr>\n",
              "    <tr>\n",
              "      <th>22</th>\n",
              "      <td>0.128837</td>\n",
              "      <td>0.025204</td>\n",
              "      <td>0.022650</td>\n",
              "      <td>0.003713</td>\n",
              "      <td>60.288236</td>\n",
              "      <td>8</td>\n",
              "      <td>poly</td>\n",
              "      <td>{'C': 60.28823621756062, 'degree': 8, 'kernel'...</td>\n",
              "      <td>0.678497</td>\n",
              "      <td>0.764092</td>\n",
              "      <td>0.713987</td>\n",
              "      <td>0.718859</td>\n",
              "      <td>0.035113</td>\n",
              "      <td>28</td>\n",
              "    </tr>\n",
              "    <tr>\n",
              "      <th>23</th>\n",
              "      <td>0.031017</td>\n",
              "      <td>0.002084</td>\n",
              "      <td>0.013244</td>\n",
              "      <td>0.000638</td>\n",
              "      <td>918.687811</td>\n",
              "      <td>6</td>\n",
              "      <td>linear</td>\n",
              "      <td>{'C': 918.6878107979076, 'degree': 6, 'kernel'...</td>\n",
              "      <td>0.979123</td>\n",
              "      <td>0.981211</td>\n",
              "      <td>0.981211</td>\n",
              "      <td>0.980515</td>\n",
              "      <td>0.000984</td>\n",
              "      <td>2</td>\n",
              "    </tr>\n",
              "    <tr>\n",
              "      <th>24</th>\n",
              "      <td>0.025473</td>\n",
              "      <td>0.004867</td>\n",
              "      <td>0.009986</td>\n",
              "      <td>0.002405</td>\n",
              "      <td>5.868713</td>\n",
              "      <td>2</td>\n",
              "      <td>linear</td>\n",
              "      <td>{'C': 5.868713206804723, 'degree': 2, 'kernel'...</td>\n",
              "      <td>0.979123</td>\n",
              "      <td>0.981211</td>\n",
              "      <td>0.981211</td>\n",
              "      <td>0.980515</td>\n",
              "      <td>0.000984</td>\n",
              "      <td>2</td>\n",
              "    </tr>\n",
              "    <tr>\n",
              "      <th>25</th>\n",
              "      <td>0.031481</td>\n",
              "      <td>0.000897</td>\n",
              "      <td>0.013079</td>\n",
              "      <td>0.000324</td>\n",
              "      <td>1658.552627</td>\n",
              "      <td>8</td>\n",
              "      <td>linear</td>\n",
              "      <td>{'C': 1658.552626684863, 'degree': 8, 'kernel'...</td>\n",
              "      <td>0.979123</td>\n",
              "      <td>0.981211</td>\n",
              "      <td>0.981211</td>\n",
              "      <td>0.980515</td>\n",
              "      <td>0.000984</td>\n",
              "      <td>2</td>\n",
              "    </tr>\n",
              "    <tr>\n",
              "      <th>26</th>\n",
              "      <td>0.094254</td>\n",
              "      <td>0.003615</td>\n",
              "      <td>0.018028</td>\n",
              "      <td>0.002830</td>\n",
              "      <td>10000.0</td>\n",
              "      <td>6</td>\n",
              "      <td>poly</td>\n",
              "      <td>{'C': 10000.0, 'degree': 6, 'kernel': 'poly'}</td>\n",
              "      <td>0.887265</td>\n",
              "      <td>0.883090</td>\n",
              "      <td>0.878914</td>\n",
              "      <td>0.883090</td>\n",
              "      <td>0.003409</td>\n",
              "      <td>27</td>\n",
              "    </tr>\n",
              "    <tr>\n",
              "      <th>27</th>\n",
              "      <td>0.042482</td>\n",
              "      <td>0.003093</td>\n",
              "      <td>0.030528</td>\n",
              "      <td>0.005785</td>\n",
              "      <td>904.407416</td>\n",
              "      <td>1</td>\n",
              "      <td>rbf</td>\n",
              "      <td>{'C': 904.4074163748081, 'degree': 1, 'kernel'...</td>\n",
              "      <td>0.981211</td>\n",
              "      <td>0.974948</td>\n",
              "      <td>0.983299</td>\n",
              "      <td>0.979819</td>\n",
              "      <td>0.003548</td>\n",
              "      <td>12</td>\n",
              "    </tr>\n",
              "    <tr>\n",
              "      <th>28</th>\n",
              "      <td>0.064274</td>\n",
              "      <td>0.001545</td>\n",
              "      <td>0.053687</td>\n",
              "      <td>0.007485</td>\n",
              "      <td>10000.0</td>\n",
              "      <td>1</td>\n",
              "      <td>rbf</td>\n",
              "      <td>{'C': 10000.0, 'degree': 1, 'kernel': 'rbf'}</td>\n",
              "      <td>0.981211</td>\n",
              "      <td>0.974948</td>\n",
              "      <td>0.983299</td>\n",
              "      <td>0.979819</td>\n",
              "      <td>0.003548</td>\n",
              "      <td>12</td>\n",
              "    </tr>\n",
              "    <tr>\n",
              "      <th>29</th>\n",
              "      <td>0.024556</td>\n",
              "      <td>0.005532</td>\n",
              "      <td>0.008643</td>\n",
              "      <td>0.000732</td>\n",
              "      <td>10000.0</td>\n",
              "      <td>1</td>\n",
              "      <td>linear</td>\n",
              "      <td>{'C': 10000.0, 'degree': 1, 'kernel': 'linear'}</td>\n",
              "      <td>0.979123</td>\n",
              "      <td>0.981211</td>\n",
              "      <td>0.981211</td>\n",
              "      <td>0.980515</td>\n",
              "      <td>0.000984</td>\n",
              "      <td>2</td>\n",
              "    </tr>\n",
              "    <tr>\n",
              "      <th>30</th>\n",
              "      <td>0.021942</td>\n",
              "      <td>0.004480</td>\n",
              "      <td>0.008422</td>\n",
              "      <td>0.000491</td>\n",
              "      <td>37.52827</td>\n",
              "      <td>1</td>\n",
              "      <td>linear</td>\n",
              "      <td>{'C': 37.52826991781704, 'degree': 1, 'kernel'...</td>\n",
              "      <td>0.979123</td>\n",
              "      <td>0.981211</td>\n",
              "      <td>0.981211</td>\n",
              "      <td>0.980515</td>\n",
              "      <td>0.000984</td>\n",
              "      <td>2</td>\n",
              "    </tr>\n",
              "    <tr>\n",
              "      <th>31</th>\n",
              "      <td>0.045478</td>\n",
              "      <td>0.011409</td>\n",
              "      <td>0.027696</td>\n",
              "      <td>0.002947</td>\n",
              "      <td>63.183932</td>\n",
              "      <td>4</td>\n",
              "      <td>rbf</td>\n",
              "      <td>{'C': 63.18393188273246, 'degree': 4, 'kernel'...</td>\n",
              "      <td>0.981211</td>\n",
              "      <td>0.974948</td>\n",
              "      <td>0.983299</td>\n",
              "      <td>0.979819</td>\n",
              "      <td>0.003548</td>\n",
              "      <td>12</td>\n",
              "    </tr>\n",
              "  </tbody>\n",
              "</table>\n",
              "</div>\n",
              "      <button class=\"colab-df-convert\" onclick=\"convertToInteractive('df-5dc79b75-77fe-444b-9224-eb11df2b1ed2')\"\n",
              "              title=\"Convert this dataframe to an interactive table.\"\n",
              "              style=\"display:none;\">\n",
              "        \n",
              "  <svg xmlns=\"http://www.w3.org/2000/svg\" height=\"24px\"viewBox=\"0 0 24 24\"\n",
              "       width=\"24px\">\n",
              "    <path d=\"M0 0h24v24H0V0z\" fill=\"none\"/>\n",
              "    <path d=\"M18.56 5.44l.94 2.06.94-2.06 2.06-.94-2.06-.94-.94-2.06-.94 2.06-2.06.94zm-11 1L8.5 8.5l.94-2.06 2.06-.94-2.06-.94L8.5 2.5l-.94 2.06-2.06.94zm10 10l.94 2.06.94-2.06 2.06-.94-2.06-.94-.94-2.06-.94 2.06-2.06.94z\"/><path d=\"M17.41 7.96l-1.37-1.37c-.4-.4-.92-.59-1.43-.59-.52 0-1.04.2-1.43.59L10.3 9.45l-7.72 7.72c-.78.78-.78 2.05 0 2.83L4 21.41c.39.39.9.59 1.41.59.51 0 1.02-.2 1.41-.59l7.78-7.78 2.81-2.81c.8-.78.8-2.07 0-2.86zM5.41 20L4 18.59l7.72-7.72 1.47 1.35L5.41 20z\"/>\n",
              "  </svg>\n",
              "      </button>\n",
              "      \n",
              "  <style>\n",
              "    .colab-df-container {\n",
              "      display:flex;\n",
              "      flex-wrap:wrap;\n",
              "      gap: 12px;\n",
              "    }\n",
              "\n",
              "    .colab-df-convert {\n",
              "      background-color: #E8F0FE;\n",
              "      border: none;\n",
              "      border-radius: 50%;\n",
              "      cursor: pointer;\n",
              "      display: none;\n",
              "      fill: #1967D2;\n",
              "      height: 32px;\n",
              "      padding: 0 0 0 0;\n",
              "      width: 32px;\n",
              "    }\n",
              "\n",
              "    .colab-df-convert:hover {\n",
              "      background-color: #E2EBFA;\n",
              "      box-shadow: 0px 1px 2px rgba(60, 64, 67, 0.3), 0px 1px 3px 1px rgba(60, 64, 67, 0.15);\n",
              "      fill: #174EA6;\n",
              "    }\n",
              "\n",
              "    [theme=dark] .colab-df-convert {\n",
              "      background-color: #3B4455;\n",
              "      fill: #D2E3FC;\n",
              "    }\n",
              "\n",
              "    [theme=dark] .colab-df-convert:hover {\n",
              "      background-color: #434B5C;\n",
              "      box-shadow: 0px 1px 3px 1px rgba(0, 0, 0, 0.15);\n",
              "      filter: drop-shadow(0px 1px 2px rgba(0, 0, 0, 0.3));\n",
              "      fill: #FFFFFF;\n",
              "    }\n",
              "  </style>\n",
              "\n",
              "      <script>\n",
              "        const buttonEl =\n",
              "          document.querySelector('#df-5dc79b75-77fe-444b-9224-eb11df2b1ed2 button.colab-df-convert');\n",
              "        buttonEl.style.display =\n",
              "          google.colab.kernel.accessAllowed ? 'block' : 'none';\n",
              "\n",
              "        async function convertToInteractive(key) {\n",
              "          const element = document.querySelector('#df-5dc79b75-77fe-444b-9224-eb11df2b1ed2');\n",
              "          const dataTable =\n",
              "            await google.colab.kernel.invokeFunction('convertToInteractive',\n",
              "                                                     [key], {});\n",
              "          if (!dataTable) return;\n",
              "\n",
              "          const docLinkHtml = 'Like what you see? Visit the ' +\n",
              "            '<a target=\"_blank\" href=https://colab.research.google.com/notebooks/data_table.ipynb>data table notebook</a>'\n",
              "            + ' to learn more about interactive tables.';\n",
              "          element.innerHTML = '';\n",
              "          dataTable['output_type'] = 'display_data';\n",
              "          await google.colab.output.renderOutput(dataTable, element);\n",
              "          const docLink = document.createElement('div');\n",
              "          docLink.innerHTML = docLinkHtml;\n",
              "          element.appendChild(docLink);\n",
              "        }\n",
              "      </script>\n",
              "    </div>\n",
              "  </div>\n",
              "  "
            ]
          },
          "metadata": {},
          "execution_count": 127
        }
      ]
    },
    {
      "cell_type": "code",
      "source": [
        "from skopt.plots import plot_histogram\n",
        "\n",
        "_ = plot_histogram(opt.optimizer_results_[0], 0)\n",
        "plt.show()"
      ],
      "metadata": {
        "colab": {
          "base_uri": "https://localhost:8080/",
          "height": 283
        },
        "id": "MU3Xr8KI00xN",
        "outputId": "3b797ac9-b2f4-497e-e0e2-5b2ce957129f"
      },
      "execution_count": null,
      "outputs": [
        {
          "output_type": "display_data",
          "data": {
            "text/plain": [
              "<Figure size 432x288 with 1 Axes>"
            ],
            "image/png": "[encoded data removed]"
          },
          "metadata": {
            "needs_background": "light"
          }
        }
      ]
    },
    {
      "cell_type": "markdown",
      "source": [
        "### hyperopt"
      ],
      "metadata": {
        "id": "d_BPj1qgU8j4"
      }
    },
    {
      "cell_type": "code",
      "metadata": {
        "id": "3nvgJaxpR7hU"
      },
      "source": [
        "from hyperopt import hp"
      ],
      "execution_count": null,
      "outputs": []
    },
    {
      "cell_type": "code",
      "metadata": {
        "id": "sE0MOFbIQ85n"
      },
      "source": [
        "# пространство параметров для поиска\n",
        "search_space = [\n",
        "    hp.choice('degree', list(range(1, 8))),\n",
        "    hp.choice('kernel', ['linear', 'poly', 'rbf']),\n",
        "    hp.loguniform('C', -4, 4),\n",
        "]                "
      ],
      "execution_count": null,
      "outputs": []
    },
    {
      "cell_type": "code",
      "metadata": {
        "colab": {
          "base_uri": "https://localhost:8080/"
        },
        "id": "bkDWHG_eQtiR",
        "outputId": "5147c8f0-6e69-495c-d5c2-25fb4b475da0"
      },
      "source": [
        "from hyperopt.pyll.stochastic import sample\n",
        "\n",
        "\n",
        "samples = []\n",
        "\n",
        "# Sample 10 values from the range\n",
        "for _ in range(10):\n",
        "    print(sample(search_space))"
      ],
      "execution_count": null,
      "outputs": [
        {
          "output_type": "stream",
          "name": "stdout",
          "text": [
            "(2, 'poly', 2.0854726147502287)\n",
            "(6, 'poly', 0.5050604908945733)\n",
            "(2, 'rbf', 0.5395979985345818)\n",
            "(5, 'poly', 2.446692013467132)\n",
            "(1, 'poly', 14.137973550000515)\n",
            "(4, 'poly', 25.616688816233765)\n",
            "(2, 'poly', 3.5649636957185815)\n",
            "(3, 'rbf', 0.08589892331301029)\n",
            "(1, 'poly', 0.10814239891951295)\n",
            "(1, 'poly', 14.150899583890336)\n"
          ]
        }
      ]
    },
    {
      "cell_type": "code",
      "metadata": {
        "id": "jGugTzrITDmM"
      },
      "source": [
        "def objective(params):\n",
        "    svc = SVC(degree=params[0], kernel=params[1], C=params[2])\n",
        "    scores = cross_val_score(svc, X, y, cv=10, scoring=\"accuracy\")\n",
        "    return -scores.mean()"
      ],
      "execution_count": null,
      "outputs": []
    },
    {
      "cell_type": "code",
      "metadata": {
        "id": "fVyh3PljUogK"
      },
      "source": [
        "from hyperopt import rand, tpe\n",
        "from hyperopt import Trials\n",
        "\n",
        "# Create the algorithms\n",
        "tpe_algo = tpe.suggest  # байесовская оптимизация\n",
        "rand_algo = rand.suggest  # случайный поиск по сетке\n",
        "\n",
        "# Create two trials objects\n",
        "tpe_trials = Trials()\n",
        "rand_trials = Trials()"
      ],
      "execution_count": null,
      "outputs": []
    },
    {
      "cell_type": "code",
      "metadata": {
        "colab": {
          "base_uri": "https://localhost:8080/"
        },
        "id": "A0fmVjXtUdep",
        "outputId": "248d0f0c-01e9-422a-fe4f-38030a9201e1"
      },
      "source": [
        "from hyperopt import fmin\n",
        "\n",
        "# Run 25 evals with the tpe algorithm\n",
        "tpe_best = fmin(fn=objective,\n",
        "                space=search_space,\n",
        "                algo=tpe_algo,  # алгоритм сэмплирования\n",
        "                trials=tpe_trials,  # функция для фиксирования результатов\n",
        "                max_evals=25,\n",
        "                return_argmin=False\n",
        "                )"
      ],
      "execution_count": null,
      "outputs": [
        {
          "output_type": "stream",
          "name": "stdout",
          "text": [
            "100%|██████████| 25/25 [00:21<00:00,  1.19it/s, best loss: -0.9821818746120423]\n"
          ]
        }
      ]
    },
    {
      "cell_type": "code",
      "metadata": {
        "colab": {
          "base_uri": "https://localhost:8080/"
        },
        "id": "eqxnjcw0P3GL",
        "outputId": "398e9827-292d-4867-fc43-f56394cc9cff"
      },
      "source": [
        "print(tpe_best)"
      ],
      "execution_count": null,
      "outputs": [
        {
          "output_type": "stream",
          "name": "stdout",
          "text": [
            "(7, 'rbf', 8.864422413164881)\n"
          ]
        }
      ]
    },
    {
      "cell_type": "code",
      "metadata": {
        "colab": {
          "base_uri": "https://localhost:8080/"
        },
        "id": "jBRPiET_XDYm",
        "outputId": "59f1ef12-5de9-49cc-92d7-551dc4ce379f"
      },
      "source": [
        "# Run 25 evals with the random algorithm\n",
        "rand_best = fmin(fn=objective, space=search_space, algo=rand_algo, trials=rand_trials, \n",
        "                 max_evals=10, rstate=np.random.RandomState(5), return_argmin=False)"
      ],
      "execution_count": null,
      "outputs": [
        {
          "output_type": "stream",
          "name": "stdout",
          "text": [
            "100%|██████████| 10/10 [00:09<00:00,  1.04it/s, best loss: -0.9799627560521416]\n"
          ]
        }
      ]
    },
    {
      "cell_type": "code",
      "metadata": {
        "colab": {
          "base_uri": "https://localhost:8080/"
        },
        "id": "dJ68A9VZXFlM",
        "outputId": "387c262f-bd02-4eb0-cdd9-9ec9f4684d0f"
      },
      "source": [
        "print(rand_best)"
      ],
      "execution_count": null,
      "outputs": [
        {
          "output_type": "stream",
          "name": "stdout",
          "text": [
            "(1, 'rbf', 2.776552599719887)\n"
          ]
        }
      ]
    },
    {
      "cell_type": "markdown",
      "metadata": {
        "id": "R2SMaEdJq9Al"
      },
      "source": [
        "https://github.com/hyperopt/hyperopt\n",
        "\n",
        "\n",
        "https://habr.com/ru/company/antiplagiat/blog/528384/"
      ]
    },
    {
      "cell_type": "markdown",
      "source": [
        "### optuna"
      ],
      "metadata": {
        "id": "E7zDtxCWUjYH"
      }
    },
    {
      "cell_type": "code",
      "source": [
        "!pip install optuna"
      ],
      "metadata": {
        "colab": {
          "base_uri": "https://localhost:8080/"
        },
        "id": "Sifj7SvrUyh7",
        "outputId": "fce49644-3dcb-4b36-de1e-a32acd93ecae"
      },
      "execution_count": null,
      "outputs": [
        {
          "output_type": "stream",
          "name": "stdout",
          "text": [
            "Looking in indexes: https://pypi.org/simple, https://us-python.pkg.dev/colab-wheels/public/simple/\n",
            "Collecting optuna\n",
            "  Downloading optuna-3.1.0-py3-none-any.whl (365 kB)\n",
            "\u001b[2K     \u001b[90m━━━━━━━━━━━━━━━━━━━━━━━━━━━━━━━━━━━━━━━\u001b[0m \u001b[32m365.3/365.3 KB\u001b[0m \u001b[31m7.2 MB/s\u001b[0m eta \u001b[36m0:00:00\u001b[0m\n",
            "\u001b[?25hCollecting cmaes>=0.9.1\n",
            "  Downloading cmaes-0.9.1-py3-none-any.whl (21 kB)\n",
            "Collecting colorlog\n",
            "  Downloading colorlog-6.7.0-py2.py3-none-any.whl (11 kB)\n",
            "Requirement already satisfied: packaging>=20.0 in /usr/local/lib/python3.8/dist-packages (from optuna) (23.0)\n",
            "Requirement already satisfied: numpy in /usr/local/lib/python3.8/dist-packages (from optuna) (1.21.6)\n",
            "Requirement already satisfied: PyYAML in /usr/local/lib/python3.8/dist-packages (from optuna) (6.0)\n",
            "Requirement already satisfied: sqlalchemy>=1.3.0 in /usr/local/lib/python3.8/dist-packages (from optuna) (1.4.46)\n",
            "Collecting alembic>=1.5.0\n",
            "  Downloading alembic-1.9.3-py3-none-any.whl (210 kB)\n",
            "\u001b[2K     \u001b[90m━━━━━━━━━━━━━━━━━━━━━━━━━━━━━━━━━━━━━━\u001b[0m \u001b[32m210.6/210.6 KB\u001b[0m \u001b[31m19.9 MB/s\u001b[0m eta \u001b[36m0:00:00\u001b[0m\n",
            "\u001b[?25hRequirement already satisfied: tqdm in /usr/local/lib/python3.8/dist-packages (from optuna) (4.64.1)\n",
            "Requirement already satisfied: importlib-metadata in /usr/local/lib/python3.8/dist-packages (from alembic>=1.5.0->optuna) (6.0.0)\n",
            "Requirement already satisfied: importlib-resources in /usr/local/lib/python3.8/dist-packages (from alembic>=1.5.0->optuna) (5.10.2)\n",
            "Collecting Mako\n",
            "  Downloading Mako-1.2.4-py3-none-any.whl (78 kB)\n",
            "\u001b[2K     \u001b[90m━━━━━━━━━━━━━━━━━━━━━━━━━━━━━━━━━━━━━━━━\u001b[0m \u001b[32m78.7/78.7 KB\u001b[0m \u001b[31m7.6 MB/s\u001b[0m eta \u001b[36m0:00:00\u001b[0m\n",
            "\u001b[?25hRequirement already satisfied: greenlet!=0.4.17 in /usr/local/lib/python3.8/dist-packages (from sqlalchemy>=1.3.0->optuna) (2.0.2)\n",
            "Requirement already satisfied: zipp>=0.5 in /usr/local/lib/python3.8/dist-packages (from importlib-metadata->alembic>=1.5.0->optuna) (3.12.1)\n",
            "Requirement already satisfied: MarkupSafe>=0.9.2 in /usr/local/lib/python3.8/dist-packages (from Mako->alembic>=1.5.0->optuna) (2.0.1)\n",
            "Installing collected packages: Mako, colorlog, cmaes, alembic, optuna\n",
            "Successfully installed Mako-1.2.4 alembic-1.9.3 cmaes-0.9.1 colorlog-6.7.0 optuna-3.1.0\n"
          ]
        }
      ]
    },
    {
      "cell_type": "code",
      "source": [
        "import optuna\n",
        "from optuna import Trial, visualization\n",
        "from optuna.samplers import TPESampler"
      ],
      "metadata": {
        "id": "q8dblBZeU0Vy"
      },
      "execution_count": null,
      "outputs": []
    },
    {
      "cell_type": "code",
      "source": [
        "from sklearn.model_selection import cross_val_score, train_test_split\n",
        "from sklearn.metrics import accuracy_score\n",
        "from sklearn.ensemble import RandomForestClassifier"
      ],
      "metadata": {
        "id": "YYysPoT4VNsp"
      },
      "execution_count": null,
      "outputs": []
    },
    {
      "cell_type": "code",
      "source": [
        "def scorer(model, X, y):\n",
        "    return accuracy_score(y, model.predict(X)) "
      ],
      "metadata": {
        "id": "2TCXisdEVoKw"
      },
      "execution_count": null,
      "outputs": []
    },
    {
      "cell_type": "code",
      "source": [
        "def objective(trial, X, y):\n",
        "    param = {\n",
        "        'n_estimators': trial.suggest_int('n_estimators', 10, 200, step=25),\n",
        "        'max_depth': trial.suggest_int('max_depth', 1, 11)\n",
        "    }\n",
        "    model = RandomForestClassifier(n_estimators=param['n_estimators'], max_depth=param['max_depth']).fit(X, y)\n",
        "    return cross_val_score(model, X, y, cv=10, scoring=scorer).mean()"
      ],
      "metadata": {
        "id": "eyJv0n0wWODZ"
      },
      "execution_count": null,
      "outputs": []
    },
    {
      "cell_type": "code",
      "source": [
        "study = optuna.create_study(direction='maximize', sampler=TPESampler())\n",
        "study.optimize(lambda trial: objective(trial, X, y), n_trials=50)"
      ],
      "metadata": {
        "colab": {
          "base_uri": "https://localhost:8080/"
        },
        "id": "PBbTVDLLXgpn",
        "outputId": "55d698f3-b487-4039-9dff-64ab3f76407d"
      },
      "execution_count": null,
      "outputs": [
        {
          "output_type": "stream",
          "name": "stderr",
          "text": [
            "\u001b[32m[I 2023-02-13 13:21:27,857]\u001b[0m A new study created in memory with name: no-name-c4752c4e-b2a1-4066-804e-3ce0afba3508\u001b[0m\n",
            "\u001b[32m[I 2023-02-13 13:21:28,150]\u001b[0m Trial 0 finished with value: 0.6911607697082558 and parameters: {'n_estimators': 10, 'max_depth': 2}. Best is trial 0 with value: 0.6911607697082558.\u001b[0m\n",
            "\u001b[32m[I 2023-02-13 13:21:28,617]\u001b[0m Trial 1 finished with value: 0.9126381129733087 and parameters: {'n_estimators': 10, 'max_depth': 9}. Best is trial 1 with value: 0.9126381129733087.\u001b[0m\n",
            "\u001b[32m[I 2023-02-13 13:21:34,358]\u001b[0m Trial 2 finished with value: 0.9237306021104903 and parameters: {'n_estimators': 160, 'max_depth': 6}. Best is trial 2 with value: 0.9237306021104903.\u001b[0m\n",
            "\u001b[32m[I 2023-02-13 13:21:41,293]\u001b[0m Trial 3 finished with value: 0.8898075729360647 and parameters: {'n_estimators': 135, 'max_depth': 4}. Best is trial 2 with value: 0.9237306021104903.\u001b[0m\n",
            "\u001b[32m[I 2023-02-13 13:21:43,801]\u001b[0m Trial 4 finished with value: 0.9432278088144009 and parameters: {'n_estimators': 60, 'max_depth': 9}. Best is trial 4 with value: 0.9432278088144009.\u001b[0m\n",
            "\u001b[32m[I 2023-02-13 13:21:50,288]\u001b[0m Trial 5 finished with value: 0.936536312849162 and parameters: {'n_estimators': 160, 'max_depth': 7}. Best is trial 4 with value: 0.9432278088144009.\u001b[0m\n",
            "\u001b[32m[I 2023-02-13 13:21:52,090]\u001b[0m Trial 6 finished with value: 0.6571539416511483 and parameters: {'n_estimators': 60, 'max_depth': 1}. Best is trial 4 with value: 0.9432278088144009.\u001b[0m\n",
            "\u001b[32m[I 2023-02-13 13:21:52,347]\u001b[0m Trial 7 finished with value: 0.6967287399130975 and parameters: {'n_estimators': 10, 'max_depth': 2}. Best is trial 4 with value: 0.9432278088144009.\u001b[0m\n",
            "\u001b[32m[I 2023-02-13 13:21:53,090]\u001b[0m Trial 8 finished with value: 0.6476970825574178 and parameters: {'n_estimators': 35, 'max_depth': 1}. Best is trial 4 with value: 0.9432278088144009.\u001b[0m\n",
            "\u001b[32m[I 2023-02-13 13:21:54,467]\u001b[0m Trial 9 finished with value: 0.8030074487895718 and parameters: {'n_estimators': 60, 'max_depth': 2}. Best is trial 4 with value: 0.9432278088144009.\u001b[0m\n",
            "\u001b[32m[I 2023-02-13 13:21:58,156]\u001b[0m Trial 10 finished with value: 0.95044382371198 and parameters: {'n_estimators': 85, 'max_depth': 11}. Best is trial 10 with value: 0.95044382371198.\u001b[0m\n",
            "\u001b[32m[I 2023-02-13 13:22:03,621]\u001b[0m Trial 11 finished with value: 0.9499006828057107 and parameters: {'n_estimators': 110, 'max_depth': 11}. Best is trial 10 with value: 0.95044382371198.\u001b[0m\n",
            "\u001b[32m[I 2023-02-13 13:22:08,907]\u001b[0m Trial 12 finished with value: 0.9482371198013656 and parameters: {'n_estimators': 110, 'max_depth': 11}. Best is trial 10 with value: 0.95044382371198.\u001b[0m\n",
            "\u001b[32m[I 2023-02-13 13:22:13,764]\u001b[0m Trial 13 finished with value: 0.9493420235878336 and parameters: {'n_estimators': 110, 'max_depth': 11}. Best is trial 10 with value: 0.95044382371198.\u001b[0m\n",
            "\u001b[32m[I 2023-02-13 13:22:18,435]\u001b[0m Trial 14 finished with value: 0.9465611421477342 and parameters: {'n_estimators': 85, 'max_depth': 9}. Best is trial 10 with value: 0.95044382371198.\u001b[0m\n",
            "\u001b[32m[I 2023-02-13 13:22:26,474]\u001b[0m Trial 15 finished with value: 0.9471291123525759 and parameters: {'n_estimators': 185, 'max_depth': 11}. Best is trial 10 with value: 0.95044382371198.\u001b[0m\n",
            "\u001b[32m[I 2023-02-13 13:22:30,619]\u001b[0m Trial 16 finished with value: 0.9376505276225947 and parameters: {'n_estimators': 85, 'max_depth': 7}. Best is trial 10 with value: 0.95044382371198.\u001b[0m\n",
            "\u001b[32m[I 2023-02-13 13:22:36,556]\u001b[0m Trial 17 finished with value: 0.9443451272501552 and parameters: {'n_estimators': 135, 'max_depth': 10}. Best is trial 10 with value: 0.95044382371198.\u001b[0m\n",
            "\u001b[32m[I 2023-02-13 13:22:41,071]\u001b[0m Trial 18 finished with value: 0.9398789571694598 and parameters: {'n_estimators': 110, 'max_depth': 8}. Best is trial 10 with value: 0.95044382371198.\u001b[0m\n",
            "\u001b[32m[I 2023-02-13 13:22:46,492]\u001b[0m Trial 19 finished with value: 0.9031657355679702 and parameters: {'n_estimators': 135, 'max_depth': 5}. Best is trial 10 with value: 0.95044382371198.\u001b[0m\n",
            "\u001b[32m[I 2023-02-13 13:22:52,077]\u001b[0m Trial 20 finished with value: 0.9443358162631904 and parameters: {'n_estimators': 85, 'max_depth': 10}. Best is trial 10 with value: 0.95044382371198.\u001b[0m\n",
            "\u001b[32m[I 2023-02-13 13:22:58,019]\u001b[0m Trial 21 finished with value: 0.9476846679081316 and parameters: {'n_estimators': 110, 'max_depth': 11}. Best is trial 10 with value: 0.95044382371198.\u001b[0m\n",
            "\u001b[32m[I 2023-02-13 13:23:02,759]\u001b[0m Trial 22 finished with value: 0.9465735567970205 and parameters: {'n_estimators': 110, 'max_depth': 10}. Best is trial 10 with value: 0.95044382371198.\u001b[0m\n",
            "\u001b[32m[I 2023-02-13 13:23:06,508]\u001b[0m Trial 23 finished with value: 0.9521384233395406 and parameters: {'n_estimators': 85, 'max_depth': 11}. Best is trial 23 with value: 0.9521384233395406.\u001b[0m\n",
            "\u001b[32m[I 2023-02-13 13:23:09,792]\u001b[0m Trial 24 finished with value: 0.9382122905027932 and parameters: {'n_estimators': 60, 'max_depth': 8}. Best is trial 23 with value: 0.9521384233395406.\u001b[0m\n",
            "\u001b[32m[I 2023-02-13 13:23:13,684]\u001b[0m Trial 25 finished with value: 0.9437740533829919 and parameters: {'n_estimators': 85, 'max_depth': 10}. Best is trial 23 with value: 0.9521384233395406.\u001b[0m\n",
            "\u001b[32m[I 2023-02-13 13:23:15,113]\u001b[0m Trial 26 finished with value: 0.9359807572936065 and parameters: {'n_estimators': 35, 'max_depth': 8}. Best is trial 23 with value: 0.9521384233395406.\u001b[0m\n",
            "\u001b[32m[I 2023-02-13 13:23:16,667]\u001b[0m Trial 27 finished with value: 0.9421042830540038 and parameters: {'n_estimators': 35, 'max_depth': 11}. Best is trial 23 with value: 0.9521384233395406.\u001b[0m\n",
            "\u001b[32m[I 2023-02-13 13:23:20,197]\u001b[0m Trial 28 finished with value: 0.9460180012414648 and parameters: {'n_estimators': 85, 'max_depth': 9}. Best is trial 23 with value: 0.9521384233395406.\u001b[0m\n",
            "\u001b[32m[I 2023-02-13 13:23:25,074]\u001b[0m Trial 29 finished with value: 0.8920422098075731 and parameters: {'n_estimators': 135, 'max_depth': 4}. Best is trial 23 with value: 0.9521384233395406.\u001b[0m\n",
            "\u001b[32m[I 2023-02-13 13:23:32,307]\u001b[0m Trial 30 finished with value: 0.9493420235878336 and parameters: {'n_estimators': 160, 'max_depth': 10}. Best is trial 23 with value: 0.9521384233395406.\u001b[0m\n",
            "\u001b[32m[I 2023-02-13 13:23:38,143]\u001b[0m Trial 31 finished with value: 0.9460117939168218 and parameters: {'n_estimators': 110, 'max_depth': 11}. Best is trial 23 with value: 0.9521384233395406.\u001b[0m\n",
            "\u001b[32m[I 2023-02-13 13:23:41,829]\u001b[0m Trial 32 finished with value: 0.9487895716945995 and parameters: {'n_estimators': 85, 'max_depth': 11}. Best is trial 23 with value: 0.9521384233395406.\u001b[0m\n",
            "\u001b[32m[I 2023-02-13 13:23:46,528]\u001b[0m Trial 33 finished with value: 0.9482371198013656 and parameters: {'n_estimators': 110, 'max_depth': 10}. Best is trial 23 with value: 0.9521384233395406.\u001b[0m\n",
            "\u001b[32m[I 2023-02-13 13:23:53,178]\u001b[0m Trial 34 finished with value: 0.9460117939168218 and parameters: {'n_estimators': 135, 'max_depth': 9}. Best is trial 23 with value: 0.9521384233395406.\u001b[0m\n",
            "\u001b[32m[I 2023-02-13 13:23:55,826]\u001b[0m Trial 35 finished with value: 0.9443544382371197 and parameters: {'n_estimators': 60, 'max_depth': 11}. Best is trial 23 with value: 0.9521384233395406.\u001b[0m\n",
            "\u001b[32m[I 2023-02-13 13:24:00,974]\u001b[0m Trial 36 finished with value: 0.9499037864680322 and parameters: {'n_estimators': 110, 'max_depth': 10}. Best is trial 23 with value: 0.9521384233395406.\u001b[0m\n",
            "\u001b[32m[I 2023-02-13 13:24:07,342]\u001b[0m Trial 37 finished with value: 0.9504655493482309 and parameters: {'n_estimators': 135, 'max_depth': 9}. Best is trial 23 with value: 0.9521384233395406.\u001b[0m\n",
            "\u001b[32m[I 2023-02-13 13:24:14,919]\u001b[0m Trial 38 finished with value: 0.9443296089385476 and parameters: {'n_estimators': 160, 'max_depth': 9}. Best is trial 23 with value: 0.9521384233395406.\u001b[0m\n",
            "\u001b[32m[I 2023-02-13 13:24:20,422]\u001b[0m Trial 39 finished with value: 0.9387709497206703 and parameters: {'n_estimators': 135, 'max_depth': 7}. Best is trial 23 with value: 0.9521384233395406.\u001b[0m\n",
            "\u001b[32m[I 2023-02-13 13:24:26,107]\u001b[0m Trial 40 finished with value: 0.9254065797641218 and parameters: {'n_estimators': 160, 'max_depth': 6}. Best is trial 23 with value: 0.9521384233395406.\u001b[0m\n",
            "\u001b[32m[I 2023-02-13 13:24:30,829]\u001b[0m Trial 41 finished with value: 0.9476784605834885 and parameters: {'n_estimators': 85, 'max_depth': 10}. Best is trial 23 with value: 0.9521384233395406.\u001b[0m\n",
            "\u001b[32m[I 2023-02-13 13:24:36,730]\u001b[0m Trial 42 finished with value: 0.9493420235878336 and parameters: {'n_estimators': 135, 'max_depth': 10}. Best is trial 23 with value: 0.9521384233395406.\u001b[0m\n",
            "\u001b[32m[I 2023-02-13 13:24:43,838]\u001b[0m Trial 43 finished with value: 0.9454469273743016 and parameters: {'n_estimators': 110, 'max_depth': 9}. Best is trial 23 with value: 0.9521384233395406.\u001b[0m\n",
            "\u001b[32m[I 2023-02-13 13:24:46,271]\u001b[0m Trial 44 finished with value: 0.9432091868404717 and parameters: {'n_estimators': 60, 'max_depth': 8}. Best is trial 23 with value: 0.9521384233395406.\u001b[0m\n",
            "\u001b[32m[I 2023-02-13 13:24:55,101]\u001b[0m Trial 45 finished with value: 0.9454469273743016 and parameters: {'n_estimators': 185, 'max_depth': 11}. Best is trial 23 with value: 0.9521384233395406.\u001b[0m\n",
            "\u001b[32m[I 2023-02-13 13:24:58,835]\u001b[0m Trial 46 finished with value: 0.9498944754810676 and parameters: {'n_estimators': 85, 'max_depth': 9}. Best is trial 23 with value: 0.9521384233395406.\u001b[0m\n",
            "\u001b[32m[I 2023-02-13 13:25:03,470]\u001b[0m Trial 47 finished with value: 0.9499006828057107 and parameters: {'n_estimators': 110, 'max_depth': 10}. Best is trial 23 with value: 0.9521384233395406.\u001b[0m\n",
            "\u001b[32m[I 2023-02-13 13:25:07,685]\u001b[0m Trial 48 finished with value: 0.853060211049038 and parameters: {'n_estimators': 135, 'max_depth': 3}. Best is trial 23 with value: 0.9521384233395406.\u001b[0m\n",
            "\u001b[32m[I 2023-02-13 13:25:12,866]\u001b[0m Trial 49 finished with value: 0.9499006828057107 and parameters: {'n_estimators': 110, 'max_depth': 11}. Best is trial 23 with value: 0.9521384233395406.\u001b[0m\n"
          ]
        }
      ]
    },
    {
      "cell_type": "code",
      "source": [
        "trial = study.best_trial\n",
        "\n",
        "print('Accuracy: {}'.format(trial.value))\n",
        "print(\"Best hyperparameters: {}\".format(trial.params))"
      ],
      "metadata": {
        "colab": {
          "base_uri": "https://localhost:8080/"
        },
        "id": "s2Qi-HYjXv2e",
        "outputId": "4410a8c7-6a89-4a2a-ca31-a8ff6be9093a"
      },
      "execution_count": null,
      "outputs": [
        {
          "output_type": "stream",
          "name": "stdout",
          "text": [
            "Accuracy: 0.9521384233395406\n",
            "Best hyperparameters: {'n_estimators': 85, 'max_depth': 11}\n"
          ]
        }
      ]
    },
    {
      "cell_type": "code",
      "execution_count": null,
      "metadata": {
        "id": "UQX8i9eZWkqe",
        "colab": {
          "base_uri": "https://localhost:8080/",
          "height": 542
        },
        "outputId": "08133205-d400-4cef-e82a-8327a72b6e17"
      },
      "outputs": [
        {
          "output_type": "display_data",
          "data": {
            "text/html": [
              "<html>\n",
              "<head><meta charset=\"utf-8\" /></head>\n",
              "<body>\n",
              "    <div>            <script src=\"https://cdnjs.cloudflare.com/ajax/libs/mathjax/2.7.5/MathJax.js?config=TeX-AMS-MML_SVG\"></script><script type=\"text/javascript\">if (window.MathJax) {MathJax.Hub.Config({SVG: {font: \"STIX-Web\"}});}</script>                <script type=\"text/javascript\">window.PlotlyConfig = {MathJaxConfig: 'local'};</script>\n",
              "        <script src=\"https://cdn.plot.ly/plotly-2.8.3.min.js\"></script>                <div id=\"6a6d7aa6-e89d-47cf-a798-6a9637f5907c\" class=\"plotly-graph-div\" style=\"height:525px; width:100%;\"></div>            <script type=\"text/javascript\">                                    window.PLOTLYENV=window.PLOTLYENV || {};                                    if (document.getElementById(\"6a6d7aa6-e89d-47cf-a798-6a9637f5907c\")) {                    Plotly.newPlot(                        \"6a6d7aa6-e89d-47cf-a798-6a9637f5907c\",                        [{\"mode\":\"markers\",\"name\":\"Objective Value\",\"x\":[0,1,2,3,4,5,6,7,8,9,10,11,12,13,14,15,16,17,18,19,20,21,22,23,24,25,26,27,28,29,30,31,32,33,34,35,36,37,38,39,40,41,42,43,44,45,46,47,48,49],\"y\":[0.6911607697082558,0.9126381129733087,0.9237306021104903,0.8898075729360647,0.9432278088144009,0.936536312849162,0.6571539416511483,0.6967287399130975,0.6476970825574178,0.8030074487895718,0.95044382371198,0.9499006828057107,0.9482371198013656,0.9493420235878336,0.9465611421477342,0.9471291123525759,0.9376505276225947,0.9443451272501552,0.9398789571694598,0.9031657355679702,0.9443358162631904,0.9476846679081316,0.9465735567970205,0.9521384233395406,0.9382122905027932,0.9437740533829919,0.9359807572936065,0.9421042830540038,0.9460180012414648,0.8920422098075731,0.9493420235878336,0.9460117939168218,0.9487895716945995,0.9482371198013656,0.9460117939168218,0.9443544382371197,0.9499037864680322,0.9504655493482309,0.9443296089385476,0.9387709497206703,0.9254065797641218,0.9476784605834885,0.9493420235878336,0.9454469273743016,0.9432091868404717,0.9454469273743016,0.9498944754810676,0.9499006828057107,0.853060211049038,0.9499006828057107],\"type\":\"scatter\"},{\"name\":\"Best Value\",\"x\":[0,1,2,3,4,5,6,7,8,9,10,11,12,13,14,15,16,17,18,19,20,21,22,23,24,25,26,27,28,29,30,31,32,33,34,35,36,37,38,39,40,41,42,43,44,45,46,47,48,49],\"y\":[0.6911607697082558,0.9126381129733087,0.9237306021104903,0.9237306021104903,0.9432278088144009,0.9432278088144009,0.9432278088144009,0.9432278088144009,0.9432278088144009,0.9432278088144009,0.95044382371198,0.95044382371198,0.95044382371198,0.95044382371198,0.95044382371198,0.95044382371198,0.95044382371198,0.95044382371198,0.95044382371198,0.95044382371198,0.95044382371198,0.95044382371198,0.95044382371198,0.9521384233395406,0.9521384233395406,0.9521384233395406,0.9521384233395406,0.9521384233395406,0.9521384233395406,0.9521384233395406,0.9521384233395406,0.9521384233395406,0.9521384233395406,0.9521384233395406,0.9521384233395406,0.9521384233395406,0.9521384233395406,0.9521384233395406,0.9521384233395406,0.9521384233395406,0.9521384233395406,0.9521384233395406,0.9521384233395406,0.9521384233395406,0.9521384233395406,0.9521384233395406,0.9521384233395406,0.9521384233395406,0.9521384233395406,0.9521384233395406],\"type\":\"scatter\"}],                        {\"title\":{\"text\":\"Optimization History Plot\"},\"xaxis\":{\"title\":{\"text\":\"Trial\"}},\"yaxis\":{\"title\":{\"text\":\"Objective Value\"}},\"template\":{\"data\":{\"bar\":[{\"error_x\":{\"color\":\"#2a3f5f\"},\"error_y\":{\"color\":\"#2a3f5f\"},\"marker\":{\"line\":{\"color\":\"#E5ECF6\",\"width\":0.5},\"pattern\":{\"fillmode\":\"overlay\",\"size\":10,\"solidity\":0.2}},\"type\":\"bar\"}],\"barpolar\":[{\"marker\":{\"line\":{\"color\":\"#E5ECF6\",\"width\":0.5},\"pattern\":{\"fillmode\":\"overlay\",\"size\":10,\"solidity\":0.2}},\"type\":\"barpolar\"}],\"carpet\":[{\"aaxis\":{\"endlinecolor\":\"#2a3f5f\",\"gridcolor\":\"white\",\"linecolor\":\"white\",\"minorgridcolor\":\"white\",\"startlinecolor\":\"#2a3f5f\"},\"baxis\":{\"endlinecolor\":\"#2a3f5f\",\"gridcolor\":\"white\",\"linecolor\":\"white\",\"minorgridcolor\":\"white\",\"startlinecolor\":\"#2a3f5f\"},\"type\":\"carpet\"}],\"choropleth\":[{\"colorbar\":{\"outlinewidth\":0,\"ticks\":\"\"},\"type\":\"choropleth\"}],\"contour\":[{\"colorbar\":{\"outlinewidth\":0,\"ticks\":\"\"},\"colorscale\":[[0.0,\"#0d0887\"],[0.1111111111111111,\"#46039f\"],[0.2222222222222222,\"#7201a8\"],[0.3333333333333333,\"#9c179e\"],[0.4444444444444444,\"#bd3786\"],[0.5555555555555556,\"#d8576b\"],[0.6666666666666666,\"#ed7953\"],[0.7777777777777778,\"#fb9f3a\"],[0.8888888888888888,\"#fdca26\"],[1.0,\"#f0f921\"]],\"type\":\"contour\"}],\"contourcarpet\":[{\"colorbar\":{\"outlinewidth\":0,\"ticks\":\"\"},\"type\":\"contourcarpet\"}],\"heatmap\":[{\"colorbar\":{\"outlinewidth\":0,\"ticks\":\"\"},\"colorscale\":[[0.0,\"#0d0887\"],[0.1111111111111111,\"#46039f\"],[0.2222222222222222,\"#7201a8\"],[0.3333333333333333,\"#9c179e\"],[0.4444444444444444,\"#bd3786\"],[0.5555555555555556,\"#d8576b\"],[0.6666666666666666,\"#ed7953\"],[0.7777777777777778,\"#fb9f3a\"],[0.8888888888888888,\"#fdca26\"],[1.0,\"#f0f921\"]],\"type\":\"heatmap\"}],\"heatmapgl\":[{\"colorbar\":{\"outlinewidth\":0,\"ticks\":\"\"},\"colorscale\":[[0.0,\"#0d0887\"],[0.1111111111111111,\"#46039f\"],[0.2222222222222222,\"#7201a8\"],[0.3333333333333333,\"#9c179e\"],[0.4444444444444444,\"#bd3786\"],[0.5555555555555556,\"#d8576b\"],[0.6666666666666666,\"#ed7953\"],[0.7777777777777778,\"#fb9f3a\"],[0.8888888888888888,\"#fdca26\"],[1.0,\"#f0f921\"]],\"type\":\"heatmapgl\"}],\"histogram\":[{\"marker\":{\"pattern\":{\"fillmode\":\"overlay\",\"size\":10,\"solidity\":0.2}},\"type\":\"histogram\"}],\"histogram2d\":[{\"colorbar\":{\"outlinewidth\":0,\"ticks\":\"\"},\"colorscale\":[[0.0,\"#0d0887\"],[0.1111111111111111,\"#46039f\"],[0.2222222222222222,\"#7201a8\"],[0.3333333333333333,\"#9c179e\"],[0.4444444444444444,\"#bd3786\"],[0.5555555555555556,\"#d8576b\"],[0.6666666666666666,\"#ed7953\"],[0.7777777777777778,\"#fb9f3a\"],[0.8888888888888888,\"#fdca26\"],[1.0,\"#f0f921\"]],\"type\":\"histogram2d\"}],\"histogram2dcontour\":[{\"colorbar\":{\"outlinewidth\":0,\"ticks\":\"\"},\"colorscale\":[[0.0,\"#0d0887\"],[0.1111111111111111,\"#46039f\"],[0.2222222222222222,\"#7201a8\"],[0.3333333333333333,\"#9c179e\"],[0.4444444444444444,\"#bd3786\"],[0.5555555555555556,\"#d8576b\"],[0.6666666666666666,\"#ed7953\"],[0.7777777777777778,\"#fb9f3a\"],[0.8888888888888888,\"#fdca26\"],[1.0,\"#f0f921\"]],\"type\":\"histogram2dcontour\"}],\"mesh3d\":[{\"colorbar\":{\"outlinewidth\":0,\"ticks\":\"\"},\"type\":\"mesh3d\"}],\"parcoords\":[{\"line\":{\"colorbar\":{\"outlinewidth\":0,\"ticks\":\"\"}},\"type\":\"parcoords\"}],\"pie\":[{\"automargin\":true,\"type\":\"pie\"}],\"scatter\":[{\"marker\":{\"colorbar\":{\"outlinewidth\":0,\"ticks\":\"\"}},\"type\":\"scatter\"}],\"scatter3d\":[{\"line\":{\"colorbar\":{\"outlinewidth\":0,\"ticks\":\"\"}},\"marker\":{\"colorbar\":{\"outlinewidth\":0,\"ticks\":\"\"}},\"type\":\"scatter3d\"}],\"scattercarpet\":[{\"marker\":{\"colorbar\":{\"outlinewidth\":0,\"ticks\":\"\"}},\"type\":\"scattercarpet\"}],\"scattergeo\":[{\"marker\":{\"colorbar\":{\"outlinewidth\":0,\"ticks\":\"\"}},\"type\":\"scattergeo\"}],\"scattergl\":[{\"marker\":{\"colorbar\":{\"outlinewidth\":0,\"ticks\":\"\"}},\"type\":\"scattergl\"}],\"scattermapbox\":[{\"marker\":{\"colorbar\":{\"outlinewidth\":0,\"ticks\":\"\"}},\"type\":\"scattermapbox\"}],\"scatterpolar\":[{\"marker\":{\"colorbar\":{\"outlinewidth\":0,\"ticks\":\"\"}},\"type\":\"scatterpolar\"}],\"scatterpolargl\":[{\"marker\":{\"colorbar\":{\"outlinewidth\":0,\"ticks\":\"\"}},\"type\":\"scatterpolargl\"}],\"scatterternary\":[{\"marker\":{\"colorbar\":{\"outlinewidth\":0,\"ticks\":\"\"}},\"type\":\"scatterternary\"}],\"surface\":[{\"colorbar\":{\"outlinewidth\":0,\"ticks\":\"\"},\"colorscale\":[[0.0,\"#0d0887\"],[0.1111111111111111,\"#46039f\"],[0.2222222222222222,\"#7201a8\"],[0.3333333333333333,\"#9c179e\"],[0.4444444444444444,\"#bd3786\"],[0.5555555555555556,\"#d8576b\"],[0.6666666666666666,\"#ed7953\"],[0.7777777777777778,\"#fb9f3a\"],[0.8888888888888888,\"#fdca26\"],[1.0,\"#f0f921\"]],\"type\":\"surface\"}],\"table\":[{\"cells\":{\"fill\":{\"color\":\"#EBF0F8\"},\"line\":{\"color\":\"white\"}},\"header\":{\"fill\":{\"color\":\"#C8D4E3\"},\"line\":{\"color\":\"white\"}},\"type\":\"table\"}]},\"layout\":{\"annotationdefaults\":{\"arrowcolor\":\"#2a3f5f\",\"arrowhead\":0,\"arrowwidth\":1},\"autotypenumbers\":\"strict\",\"coloraxis\":{\"colorbar\":{\"outlinewidth\":0,\"ticks\":\"\"}},\"colorscale\":{\"diverging\":[[0,\"#8e0152\"],[0.1,\"#c51b7d\"],[0.2,\"#de77ae\"],[0.3,\"#f1b6da\"],[0.4,\"#fde0ef\"],[0.5,\"#f7f7f7\"],[0.6,\"#e6f5d0\"],[0.7,\"#b8e186\"],[0.8,\"#7fbc41\"],[0.9,\"#4d9221\"],[1,\"#276419\"]],\"sequential\":[[0.0,\"#0d0887\"],[0.1111111111111111,\"#46039f\"],[0.2222222222222222,\"#7201a8\"],[0.3333333333333333,\"#9c179e\"],[0.4444444444444444,\"#bd3786\"],[0.5555555555555556,\"#d8576b\"],[0.6666666666666666,\"#ed7953\"],[0.7777777777777778,\"#fb9f3a\"],[0.8888888888888888,\"#fdca26\"],[1.0,\"#f0f921\"]],\"sequentialminus\":[[0.0,\"#0d0887\"],[0.1111111111111111,\"#46039f\"],[0.2222222222222222,\"#7201a8\"],[0.3333333333333333,\"#9c179e\"],[0.4444444444444444,\"#bd3786\"],[0.5555555555555556,\"#d8576b\"],[0.6666666666666666,\"#ed7953\"],[0.7777777777777778,\"#fb9f3a\"],[0.8888888888888888,\"#fdca26\"],[1.0,\"#f0f921\"]]},\"colorway\":[\"#636efa\",\"#EF553B\",\"#00cc96\",\"#ab63fa\",\"#FFA15A\",\"#19d3f3\",\"#FF6692\",\"#B6E880\",\"#FF97FF\",\"#FECB52\"],\"font\":{\"color\":\"#2a3f5f\"},\"geo\":{\"bgcolor\":\"white\",\"lakecolor\":\"white\",\"landcolor\":\"#E5ECF6\",\"showlakes\":true,\"showland\":true,\"subunitcolor\":\"white\"},\"hoverlabel\":{\"align\":\"left\"},\"hovermode\":\"closest\",\"mapbox\":{\"style\":\"light\"},\"paper_bgcolor\":\"white\",\"plot_bgcolor\":\"#E5ECF6\",\"polar\":{\"angularaxis\":{\"gridcolor\":\"white\",\"linecolor\":\"white\",\"ticks\":\"\"},\"bgcolor\":\"#E5ECF6\",\"radialaxis\":{\"gridcolor\":\"white\",\"linecolor\":\"white\",\"ticks\":\"\"}},\"scene\":{\"xaxis\":{\"backgroundcolor\":\"#E5ECF6\",\"gridcolor\":\"white\",\"gridwidth\":2,\"linecolor\":\"white\",\"showbackground\":true,\"ticks\":\"\",\"zerolinecolor\":\"white\"},\"yaxis\":{\"backgroundcolor\":\"#E5ECF6\",\"gridcolor\":\"white\",\"gridwidth\":2,\"linecolor\":\"white\",\"showbackground\":true,\"ticks\":\"\",\"zerolinecolor\":\"white\"},\"zaxis\":{\"backgroundcolor\":\"#E5ECF6\",\"gridcolor\":\"white\",\"gridwidth\":2,\"linecolor\":\"white\",\"showbackground\":true,\"ticks\":\"\",\"zerolinecolor\":\"white\"}},\"shapedefaults\":{\"line\":{\"color\":\"#2a3f5f\"}},\"ternary\":{\"aaxis\":{\"gridcolor\":\"white\",\"linecolor\":\"white\",\"ticks\":\"\"},\"baxis\":{\"gridcolor\":\"white\",\"linecolor\":\"white\",\"ticks\":\"\"},\"bgcolor\":\"#E5ECF6\",\"caxis\":{\"gridcolor\":\"white\",\"linecolor\":\"white\",\"ticks\":\"\"}},\"title\":{\"x\":0.05},\"xaxis\":{\"automargin\":true,\"gridcolor\":\"white\",\"linecolor\":\"white\",\"ticks\":\"\",\"title\":{\"standoff\":15},\"zerolinecolor\":\"white\",\"zerolinewidth\":2},\"yaxis\":{\"automargin\":true,\"gridcolor\":\"white\",\"linecolor\":\"white\",\"ticks\":\"\",\"title\":{\"standoff\":15},\"zerolinecolor\":\"white\",\"zerolinewidth\":2}}}},                        {\"responsive\": true}                    ).then(function(){\n",
              "                            \n",
              "var gd = document.getElementById('6a6d7aa6-e89d-47cf-a798-6a9637f5907c');\n",
              "var x = new MutationObserver(function (mutations, observer) {{\n",
              "        var display = window.getComputedStyle(gd).display;\n",
              "        if (!display || display === 'none') {{\n",
              "            console.log([gd, 'removed!']);\n",
              "            Plotly.purge(gd);\n",
              "            observer.disconnect();\n",
              "        }}\n",
              "}});\n",
              "\n",
              "// Listen for the removal of the full notebook cells\n",
              "var notebookContainer = gd.closest('#notebook-container');\n",
              "if (notebookContainer) {{\n",
              "    x.observe(notebookContainer, {childList: true});\n",
              "}}\n",
              "\n",
              "// Listen for the clearing of the current output cell\n",
              "var outputEl = gd.closest('.output');\n",
              "if (outputEl) {{\n",
              "    x.observe(outputEl, {childList: true});\n",
              "}}\n",
              "\n",
              "                        })                };                            </script>        </div>\n",
              "</body>\n",
              "</html>"
            ]
          },
          "metadata": {}
        }
      ],
      "source": [
        "optuna.visualization.plot_optimization_history(study)"
      ]
    },
    {
      "cell_type": "markdown",
      "metadata": {
        "id": "GE5ERSLBWkqf"
      },
      "source": [
        "Метрика точности для каждого гиперпараметра для каждого запуска"
      ]
    },
    {
      "cell_type": "code",
      "execution_count": null,
      "metadata": {
        "id": "6C7E_pasWkqf",
        "colab": {
          "base_uri": "https://localhost:8080/",
          "height": 542
        },
        "outputId": "ca5a8c23-91ce-4e28-ab4d-0184ae8d22a2"
      },
      "outputs": [
        {
          "output_type": "display_data",
          "data": {
            "text/html": [
              "<html>\n",
              "<head><meta charset=\"utf-8\" /></head>\n",
              "<body>\n",
              "    <div>            <script src=\"https://cdnjs.cloudflare.com/ajax/libs/mathjax/2.7.5/MathJax.js?config=TeX-AMS-MML_SVG\"></script><script type=\"text/javascript\">if (window.MathJax) {MathJax.Hub.Config({SVG: {font: \"STIX-Web\"}});}</script>                <script type=\"text/javascript\">window.PlotlyConfig = {MathJaxConfig: 'local'};</script>\n",
              "        <script src=\"https://cdn.plot.ly/plotly-2.8.3.min.js\"></script>                <div id=\"dc446a6d-ccd0-4742-a463-5a2142a81285\" class=\"plotly-graph-div\" style=\"height:525px; width:100%;\"></div>            <script type=\"text/javascript\">                                    window.PLOTLYENV=window.PLOTLYENV || {};                                    if (document.getElementById(\"dc446a6d-ccd0-4742-a463-5a2142a81285\")) {                    Plotly.newPlot(                        \"dc446a6d-ccd0-4742-a463-5a2142a81285\",                        [{\"marker\":{\"color\":[0,1,2,3,4,5,6,7,8,9,10,11,12,13,14,15,16,17,18,19,20,21,22,23,24,25,26,27,28,29,30,31,32,33,34,35,36,37,38,39,40,41,42,43,44,45,46,47,48,49],\"colorbar\":{\"title\":{\"text\":\"Trial\"},\"x\":1.0,\"xpad\":40},\"colorscale\":[[0.0,\"rgb(247,251,255)\"],[0.125,\"rgb(222,235,247)\"],[0.25,\"rgb(198,219,239)\"],[0.375,\"rgb(158,202,225)\"],[0.5,\"rgb(107,174,214)\"],[0.625,\"rgb(66,146,198)\"],[0.75,\"rgb(33,113,181)\"],[0.875,\"rgb(8,81,156)\"],[1.0,\"rgb(8,48,107)\"]],\"line\":{\"color\":\"Grey\",\"width\":0.5},\"showscale\":true},\"mode\":\"markers\",\"showlegend\":false,\"x\":[2,9,6,4,9,7,1,2,1,2,11,11,11,11,9,11,7,10,8,5,10,11,10,11,8,10,8,11,9,4,10,11,11,10,9,11,10,9,9,7,6,10,10,9,8,11,9,10,3,11],\"y\":[0.6911607697082558,0.9126381129733087,0.9237306021104903,0.8898075729360647,0.9432278088144009,0.936536312849162,0.6571539416511483,0.6967287399130975,0.6476970825574178,0.8030074487895718,0.95044382371198,0.9499006828057107,0.9482371198013656,0.9493420235878336,0.9465611421477342,0.9471291123525759,0.9376505276225947,0.9443451272501552,0.9398789571694598,0.9031657355679702,0.9443358162631904,0.9476846679081316,0.9465735567970205,0.9521384233395406,0.9382122905027932,0.9437740533829919,0.9359807572936065,0.9421042830540038,0.9460180012414648,0.8920422098075731,0.9493420235878336,0.9460117939168218,0.9487895716945995,0.9482371198013656,0.9460117939168218,0.9443544382371197,0.9499037864680322,0.9504655493482309,0.9443296089385476,0.9387709497206703,0.9254065797641218,0.9476784605834885,0.9493420235878336,0.9454469273743016,0.9432091868404717,0.9454469273743016,0.9498944754810676,0.9499006828057107,0.853060211049038,0.9499006828057107],\"type\":\"scatter\",\"xaxis\":\"x\",\"yaxis\":\"y\"},{\"marker\":{\"color\":[0,1,2,3,4,5,6,7,8,9,10,11,12,13,14,15,16,17,18,19,20,21,22,23,24,25,26,27,28,29,30,31,32,33,34,35,36,37,38,39,40,41,42,43,44,45,46,47,48,49],\"colorbar\":{\"title\":{\"text\":\"Trial\"},\"x\":1.0,\"xpad\":40},\"colorscale\":[[0.0,\"rgb(247,251,255)\"],[0.125,\"rgb(222,235,247)\"],[0.25,\"rgb(198,219,239)\"],[0.375,\"rgb(158,202,225)\"],[0.5,\"rgb(107,174,214)\"],[0.625,\"rgb(66,146,198)\"],[0.75,\"rgb(33,113,181)\"],[0.875,\"rgb(8,81,156)\"],[1.0,\"rgb(8,48,107)\"]],\"line\":{\"color\":\"Grey\",\"width\":0.5},\"showscale\":false},\"mode\":\"markers\",\"showlegend\":false,\"x\":[10,10,160,135,60,160,60,10,35,60,85,110,110,110,85,185,85,135,110,135,85,110,110,85,60,85,35,35,85,135,160,110,85,110,135,60,110,135,160,135,160,85,135,110,60,185,85,110,135,110],\"y\":[0.6911607697082558,0.9126381129733087,0.9237306021104903,0.8898075729360647,0.9432278088144009,0.936536312849162,0.6571539416511483,0.6967287399130975,0.6476970825574178,0.8030074487895718,0.95044382371198,0.9499006828057107,0.9482371198013656,0.9493420235878336,0.9465611421477342,0.9471291123525759,0.9376505276225947,0.9443451272501552,0.9398789571694598,0.9031657355679702,0.9443358162631904,0.9476846679081316,0.9465735567970205,0.9521384233395406,0.9382122905027932,0.9437740533829919,0.9359807572936065,0.9421042830540038,0.9460180012414648,0.8920422098075731,0.9493420235878336,0.9460117939168218,0.9487895716945995,0.9482371198013656,0.9460117939168218,0.9443544382371197,0.9499037864680322,0.9504655493482309,0.9443296089385476,0.9387709497206703,0.9254065797641218,0.9476784605834885,0.9493420235878336,0.9454469273743016,0.9432091868404717,0.9454469273743016,0.9498944754810676,0.9499006828057107,0.853060211049038,0.9499006828057107],\"type\":\"scatter\",\"xaxis\":\"x2\",\"yaxis\":\"y2\"}],                        {\"template\":{\"data\":{\"bar\":[{\"error_x\":{\"color\":\"#2a3f5f\"},\"error_y\":{\"color\":\"#2a3f5f\"},\"marker\":{\"line\":{\"color\":\"#E5ECF6\",\"width\":0.5},\"pattern\":{\"fillmode\":\"overlay\",\"size\":10,\"solidity\":0.2}},\"type\":\"bar\"}],\"barpolar\":[{\"marker\":{\"line\":{\"color\":\"#E5ECF6\",\"width\":0.5},\"pattern\":{\"fillmode\":\"overlay\",\"size\":10,\"solidity\":0.2}},\"type\":\"barpolar\"}],\"carpet\":[{\"aaxis\":{\"endlinecolor\":\"#2a3f5f\",\"gridcolor\":\"white\",\"linecolor\":\"white\",\"minorgridcolor\":\"white\",\"startlinecolor\":\"#2a3f5f\"},\"baxis\":{\"endlinecolor\":\"#2a3f5f\",\"gridcolor\":\"white\",\"linecolor\":\"white\",\"minorgridcolor\":\"white\",\"startlinecolor\":\"#2a3f5f\"},\"type\":\"carpet\"}],\"choropleth\":[{\"colorbar\":{\"outlinewidth\":0,\"ticks\":\"\"},\"type\":\"choropleth\"}],\"contour\":[{\"colorbar\":{\"outlinewidth\":0,\"ticks\":\"\"},\"colorscale\":[[0.0,\"#0d0887\"],[0.1111111111111111,\"#46039f\"],[0.2222222222222222,\"#7201a8\"],[0.3333333333333333,\"#9c179e\"],[0.4444444444444444,\"#bd3786\"],[0.5555555555555556,\"#d8576b\"],[0.6666666666666666,\"#ed7953\"],[0.7777777777777778,\"#fb9f3a\"],[0.8888888888888888,\"#fdca26\"],[1.0,\"#f0f921\"]],\"type\":\"contour\"}],\"contourcarpet\":[{\"colorbar\":{\"outlinewidth\":0,\"ticks\":\"\"},\"type\":\"contourcarpet\"}],\"heatmap\":[{\"colorbar\":{\"outlinewidth\":0,\"ticks\":\"\"},\"colorscale\":[[0.0,\"#0d0887\"],[0.1111111111111111,\"#46039f\"],[0.2222222222222222,\"#7201a8\"],[0.3333333333333333,\"#9c179e\"],[0.4444444444444444,\"#bd3786\"],[0.5555555555555556,\"#d8576b\"],[0.6666666666666666,\"#ed7953\"],[0.7777777777777778,\"#fb9f3a\"],[0.8888888888888888,\"#fdca26\"],[1.0,\"#f0f921\"]],\"type\":\"heatmap\"}],\"heatmapgl\":[{\"colorbar\":{\"outlinewidth\":0,\"ticks\":\"\"},\"colorscale\":[[0.0,\"#0d0887\"],[0.1111111111111111,\"#46039f\"],[0.2222222222222222,\"#7201a8\"],[0.3333333333333333,\"#9c179e\"],[0.4444444444444444,\"#bd3786\"],[0.5555555555555556,\"#d8576b\"],[0.6666666666666666,\"#ed7953\"],[0.7777777777777778,\"#fb9f3a\"],[0.8888888888888888,\"#fdca26\"],[1.0,\"#f0f921\"]],\"type\":\"heatmapgl\"}],\"histogram\":[{\"marker\":{\"pattern\":{\"fillmode\":\"overlay\",\"size\":10,\"solidity\":0.2}},\"type\":\"histogram\"}],\"histogram2d\":[{\"colorbar\":{\"outlinewidth\":0,\"ticks\":\"\"},\"colorscale\":[[0.0,\"#0d0887\"],[0.1111111111111111,\"#46039f\"],[0.2222222222222222,\"#7201a8\"],[0.3333333333333333,\"#9c179e\"],[0.4444444444444444,\"#bd3786\"],[0.5555555555555556,\"#d8576b\"],[0.6666666666666666,\"#ed7953\"],[0.7777777777777778,\"#fb9f3a\"],[0.8888888888888888,\"#fdca26\"],[1.0,\"#f0f921\"]],\"type\":\"histogram2d\"}],\"histogram2dcontour\":[{\"colorbar\":{\"outlinewidth\":0,\"ticks\":\"\"},\"colorscale\":[[0.0,\"#0d0887\"],[0.1111111111111111,\"#46039f\"],[0.2222222222222222,\"#7201a8\"],[0.3333333333333333,\"#9c179e\"],[0.4444444444444444,\"#bd3786\"],[0.5555555555555556,\"#d8576b\"],[0.6666666666666666,\"#ed7953\"],[0.7777777777777778,\"#fb9f3a\"],[0.8888888888888888,\"#fdca26\"],[1.0,\"#f0f921\"]],\"type\":\"histogram2dcontour\"}],\"mesh3d\":[{\"colorbar\":{\"outlinewidth\":0,\"ticks\":\"\"},\"type\":\"mesh3d\"}],\"parcoords\":[{\"line\":{\"colorbar\":{\"outlinewidth\":0,\"ticks\":\"\"}},\"type\":\"parcoords\"}],\"pie\":[{\"automargin\":true,\"type\":\"pie\"}],\"scatter\":[{\"marker\":{\"colorbar\":{\"outlinewidth\":0,\"ticks\":\"\"}},\"type\":\"scatter\"}],\"scatter3d\":[{\"line\":{\"colorbar\":{\"outlinewidth\":0,\"ticks\":\"\"}},\"marker\":{\"colorbar\":{\"outlinewidth\":0,\"ticks\":\"\"}},\"type\":\"scatter3d\"}],\"scattercarpet\":[{\"marker\":{\"colorbar\":{\"outlinewidth\":0,\"ticks\":\"\"}},\"type\":\"scattercarpet\"}],\"scattergeo\":[{\"marker\":{\"colorbar\":{\"outlinewidth\":0,\"ticks\":\"\"}},\"type\":\"scattergeo\"}],\"scattergl\":[{\"marker\":{\"colorbar\":{\"outlinewidth\":0,\"ticks\":\"\"}},\"type\":\"scattergl\"}],\"scattermapbox\":[{\"marker\":{\"colorbar\":{\"outlinewidth\":0,\"ticks\":\"\"}},\"type\":\"scattermapbox\"}],\"scatterpolar\":[{\"marker\":{\"colorbar\":{\"outlinewidth\":0,\"ticks\":\"\"}},\"type\":\"scatterpolar\"}],\"scatterpolargl\":[{\"marker\":{\"colorbar\":{\"outlinewidth\":0,\"ticks\":\"\"}},\"type\":\"scatterpolargl\"}],\"scatterternary\":[{\"marker\":{\"colorbar\":{\"outlinewidth\":0,\"ticks\":\"\"}},\"type\":\"scatterternary\"}],\"surface\":[{\"colorbar\":{\"outlinewidth\":0,\"ticks\":\"\"},\"colorscale\":[[0.0,\"#0d0887\"],[0.1111111111111111,\"#46039f\"],[0.2222222222222222,\"#7201a8\"],[0.3333333333333333,\"#9c179e\"],[0.4444444444444444,\"#bd3786\"],[0.5555555555555556,\"#d8576b\"],[0.6666666666666666,\"#ed7953\"],[0.7777777777777778,\"#fb9f3a\"],[0.8888888888888888,\"#fdca26\"],[1.0,\"#f0f921\"]],\"type\":\"surface\"}],\"table\":[{\"cells\":{\"fill\":{\"color\":\"#EBF0F8\"},\"line\":{\"color\":\"white\"}},\"header\":{\"fill\":{\"color\":\"#C8D4E3\"},\"line\":{\"color\":\"white\"}},\"type\":\"table\"}]},\"layout\":{\"annotationdefaults\":{\"arrowcolor\":\"#2a3f5f\",\"arrowhead\":0,\"arrowwidth\":1},\"autotypenumbers\":\"strict\",\"coloraxis\":{\"colorbar\":{\"outlinewidth\":0,\"ticks\":\"\"}},\"colorscale\":{\"diverging\":[[0,\"#8e0152\"],[0.1,\"#c51b7d\"],[0.2,\"#de77ae\"],[0.3,\"#f1b6da\"],[0.4,\"#fde0ef\"],[0.5,\"#f7f7f7\"],[0.6,\"#e6f5d0\"],[0.7,\"#b8e186\"],[0.8,\"#7fbc41\"],[0.9,\"#4d9221\"],[1,\"#276419\"]],\"sequential\":[[0.0,\"#0d0887\"],[0.1111111111111111,\"#46039f\"],[0.2222222222222222,\"#7201a8\"],[0.3333333333333333,\"#9c179e\"],[0.4444444444444444,\"#bd3786\"],[0.5555555555555556,\"#d8576b\"],[0.6666666666666666,\"#ed7953\"],[0.7777777777777778,\"#fb9f3a\"],[0.8888888888888888,\"#fdca26\"],[1.0,\"#f0f921\"]],\"sequentialminus\":[[0.0,\"#0d0887\"],[0.1111111111111111,\"#46039f\"],[0.2222222222222222,\"#7201a8\"],[0.3333333333333333,\"#9c179e\"],[0.4444444444444444,\"#bd3786\"],[0.5555555555555556,\"#d8576b\"],[0.6666666666666666,\"#ed7953\"],[0.7777777777777778,\"#fb9f3a\"],[0.8888888888888888,\"#fdca26\"],[1.0,\"#f0f921\"]]},\"colorway\":[\"#636efa\",\"#EF553B\",\"#00cc96\",\"#ab63fa\",\"#FFA15A\",\"#19d3f3\",\"#FF6692\",\"#B6E880\",\"#FF97FF\",\"#FECB52\"],\"font\":{\"color\":\"#2a3f5f\"},\"geo\":{\"bgcolor\":\"white\",\"lakecolor\":\"white\",\"landcolor\":\"#E5ECF6\",\"showlakes\":true,\"showland\":true,\"subunitcolor\":\"white\"},\"hoverlabel\":{\"align\":\"left\"},\"hovermode\":\"closest\",\"mapbox\":{\"style\":\"light\"},\"paper_bgcolor\":\"white\",\"plot_bgcolor\":\"#E5ECF6\",\"polar\":{\"angularaxis\":{\"gridcolor\":\"white\",\"linecolor\":\"white\",\"ticks\":\"\"},\"bgcolor\":\"#E5ECF6\",\"radialaxis\":{\"gridcolor\":\"white\",\"linecolor\":\"white\",\"ticks\":\"\"}},\"scene\":{\"xaxis\":{\"backgroundcolor\":\"#E5ECF6\",\"gridcolor\":\"white\",\"gridwidth\":2,\"linecolor\":\"white\",\"showbackground\":true,\"ticks\":\"\",\"zerolinecolor\":\"white\"},\"yaxis\":{\"backgroundcolor\":\"#E5ECF6\",\"gridcolor\":\"white\",\"gridwidth\":2,\"linecolor\":\"white\",\"showbackground\":true,\"ticks\":\"\",\"zerolinecolor\":\"white\"},\"zaxis\":{\"backgroundcolor\":\"#E5ECF6\",\"gridcolor\":\"white\",\"gridwidth\":2,\"linecolor\":\"white\",\"showbackground\":true,\"ticks\":\"\",\"zerolinecolor\":\"white\"}},\"shapedefaults\":{\"line\":{\"color\":\"#2a3f5f\"}},\"ternary\":{\"aaxis\":{\"gridcolor\":\"white\",\"linecolor\":\"white\",\"ticks\":\"\"},\"baxis\":{\"gridcolor\":\"white\",\"linecolor\":\"white\",\"ticks\":\"\"},\"bgcolor\":\"#E5ECF6\",\"caxis\":{\"gridcolor\":\"white\",\"linecolor\":\"white\",\"ticks\":\"\"}},\"title\":{\"x\":0.05},\"xaxis\":{\"automargin\":true,\"gridcolor\":\"white\",\"linecolor\":\"white\",\"ticks\":\"\",\"title\":{\"standoff\":15},\"zerolinecolor\":\"white\",\"zerolinewidth\":2},\"yaxis\":{\"automargin\":true,\"gridcolor\":\"white\",\"linecolor\":\"white\",\"ticks\":\"\",\"title\":{\"standoff\":15},\"zerolinecolor\":\"white\",\"zerolinewidth\":2}}},\"xaxis\":{\"anchor\":\"y\",\"domain\":[0.0,0.45],\"title\":{\"text\":\"max_depth\"}},\"yaxis\":{\"anchor\":\"x\",\"domain\":[0.0,1.0],\"title\":{\"text\":\"Objective Value\"}},\"xaxis2\":{\"anchor\":\"y2\",\"domain\":[0.55,1.0],\"title\":{\"text\":\"n_estimators\"}},\"yaxis2\":{\"anchor\":\"x2\",\"domain\":[0.0,1.0],\"matches\":\"y\",\"showticklabels\":false},\"title\":{\"text\":\"Slice Plot\"}},                        {\"responsive\": true}                    ).then(function(){\n",
              "                            \n",
              "var gd = document.getElementById('dc446a6d-ccd0-4742-a463-5a2142a81285');\n",
              "var x = new MutationObserver(function (mutations, observer) {{\n",
              "        var display = window.getComputedStyle(gd).display;\n",
              "        if (!display || display === 'none') {{\n",
              "            console.log([gd, 'removed!']);\n",
              "            Plotly.purge(gd);\n",
              "            observer.disconnect();\n",
              "        }}\n",
              "}});\n",
              "\n",
              "// Listen for the removal of the full notebook cells\n",
              "var notebookContainer = gd.closest('#notebook-container');\n",
              "if (notebookContainer) {{\n",
              "    x.observe(notebookContainer, {childList: true});\n",
              "}}\n",
              "\n",
              "// Listen for the clearing of the current output cell\n",
              "var outputEl = gd.closest('.output');\n",
              "if (outputEl) {{\n",
              "    x.observe(outputEl, {childList: true});\n",
              "}}\n",
              "\n",
              "                        })                };                            </script>        </div>\n",
              "</body>\n",
              "</html>"
            ]
          },
          "metadata": {}
        }
      ],
      "source": [
        "optuna.visualization.plot_slice(study)"
      ]
    },
    {
      "cell_type": "markdown",
      "metadata": {
        "id": "jd8JenN7Wkqg"
      },
      "source": [
        "Плоскость метрики точности для гиперпараметров"
      ]
    },
    {
      "cell_type": "code",
      "execution_count": null,
      "metadata": {
        "id": "9qG08ao0Wkqg",
        "colab": {
          "base_uri": "https://localhost:8080/",
          "height": 542
        },
        "outputId": "72041bb2-6d7b-4cb6-99c3-7c3346ecb2c8"
      },
      "outputs": [
        {
          "output_type": "display_data",
          "data": {
            "text/html": [
              "<html>\n",
              "<head><meta charset=\"utf-8\" /></head>\n",
              "<body>\n",
              "    <div>            <script src=\"https://cdnjs.cloudflare.com/ajax/libs/mathjax/2.7.5/MathJax.js?config=TeX-AMS-MML_SVG\"></script><script type=\"text/javascript\">if (window.MathJax) {MathJax.Hub.Config({SVG: {font: \"STIX-Web\"}});}</script>                <script type=\"text/javascript\">window.PlotlyConfig = {MathJaxConfig: 'local'};</script>\n",
              "        <script src=\"https://cdn.plot.ly/plotly-2.8.3.min.js\"></script>                <div id=\"223067a3-23b4-43b5-bad0-3c0ee3efc3ad\" class=\"plotly-graph-div\" style=\"height:525px; width:100%;\"></div>            <script type=\"text/javascript\">                                    window.PLOTLYENV=window.PLOTLYENV || {};                                    if (document.getElementById(\"223067a3-23b4-43b5-bad0-3c0ee3efc3ad\")) {                    Plotly.newPlot(                        \"223067a3-23b4-43b5-bad0-3c0ee3efc3ad\",                        [{\"colorbar\":{\"title\":{\"text\":\"Objective Value\"}},\"colorscale\":[[0.0,\"rgb(247,251,255)\"],[0.125,\"rgb(222,235,247)\"],[0.25,\"rgb(198,219,239)\"],[0.375,\"rgb(158,202,225)\"],[0.5,\"rgb(107,174,214)\"],[0.625,\"rgb(66,146,198)\"],[0.75,\"rgb(33,113,181)\"],[0.875,\"rgb(8,81,156)\"],[1.0,\"rgb(8,48,107)\"]],\"connectgaps\":true,\"contours\":{\"coloring\":\"heatmap\"},\"hoverinfo\":\"none\",\"line\":{\"smoothing\":1.3},\"reversescale\":false,\"x\":[0.5,1,2,3,4,5,6,7,8,9,10,11,11.5],\"y\":[1.25,10,35,60,85,110,135,160,185,193.75],\"z\":[[null,null,null,null,null,null,null,null,null,null,null,null,null],[null,null,0.6967287399130975,null,null,null,null,null,null,0.9126381129733087,null,null,null],[null,0.6476970825574178,null,null,null,null,null,null,0.9359807572936065,null,null,0.9421042830540038,null],[null,0.6571539416511483,0.8030074487895718,null,null,null,null,null,0.9432091868404717,0.9432278088144009,null,0.9443544382371197,null],[null,null,null,null,null,null,null,0.9376505276225947,null,0.9498944754810676,0.9476784605834885,0.9487895716945995,null],[null,null,null,null,null,null,null,null,0.9398789571694598,0.9454469273743016,0.9499006828057107,0.9499006828057107,null],[null,null,null,0.853060211049038,0.8920422098075731,0.9031657355679702,null,0.9387709497206703,null,0.9504655493482309,0.9493420235878336,null,null],[null,null,null,null,null,null,0.9254065797641218,0.936536312849162,null,0.9443296089385476,0.9493420235878336,null,null],[null,null,null,null,null,null,null,null,null,null,null,0.9454469273743016,null],[null,null,null,null,null,null,null,null,null,null,null,null,null]],\"type\":\"contour\"},{\"marker\":{\"color\":\"black\",\"line\":{\"color\":\"Grey\",\"width\":2.0}},\"mode\":\"markers\",\"showlegend\":false,\"x\":[2,9,6,4,9,7,1,2,1,2,11,11,11,11,9,11,7,10,8,5,10,11,10,11,8,10,8,11,9,4,10,11,11,10,9,11,10,9,9,7,6,10,10,9,8,11,9,10,3,11],\"y\":[10,10,160,135,60,160,60,10,35,60,85,110,110,110,85,185,85,135,110,135,85,110,110,85,60,85,35,35,85,135,160,110,85,110,135,60,110,135,160,135,160,85,135,110,60,185,85,110,135,110],\"type\":\"scatter\"}],                        {\"title\":{\"text\":\"Contour Plot\"},\"template\":{\"data\":{\"bar\":[{\"error_x\":{\"color\":\"#2a3f5f\"},\"error_y\":{\"color\":\"#2a3f5f\"},\"marker\":{\"line\":{\"color\":\"#E5ECF6\",\"width\":0.5},\"pattern\":{\"fillmode\":\"overlay\",\"size\":10,\"solidity\":0.2}},\"type\":\"bar\"}],\"barpolar\":[{\"marker\":{\"line\":{\"color\":\"#E5ECF6\",\"width\":0.5},\"pattern\":{\"fillmode\":\"overlay\",\"size\":10,\"solidity\":0.2}},\"type\":\"barpolar\"}],\"carpet\":[{\"aaxis\":{\"endlinecolor\":\"#2a3f5f\",\"gridcolor\":\"white\",\"linecolor\":\"white\",\"minorgridcolor\":\"white\",\"startlinecolor\":\"#2a3f5f\"},\"baxis\":{\"endlinecolor\":\"#2a3f5f\",\"gridcolor\":\"white\",\"linecolor\":\"white\",\"minorgridcolor\":\"white\",\"startlinecolor\":\"#2a3f5f\"},\"type\":\"carpet\"}],\"choropleth\":[{\"colorbar\":{\"outlinewidth\":0,\"ticks\":\"\"},\"type\":\"choropleth\"}],\"contour\":[{\"colorbar\":{\"outlinewidth\":0,\"ticks\":\"\"},\"colorscale\":[[0.0,\"#0d0887\"],[0.1111111111111111,\"#46039f\"],[0.2222222222222222,\"#7201a8\"],[0.3333333333333333,\"#9c179e\"],[0.4444444444444444,\"#bd3786\"],[0.5555555555555556,\"#d8576b\"],[0.6666666666666666,\"#ed7953\"],[0.7777777777777778,\"#fb9f3a\"],[0.8888888888888888,\"#fdca26\"],[1.0,\"#f0f921\"]],\"type\":\"contour\"}],\"contourcarpet\":[{\"colorbar\":{\"outlinewidth\":0,\"ticks\":\"\"},\"type\":\"contourcarpet\"}],\"heatmap\":[{\"colorbar\":{\"outlinewidth\":0,\"ticks\":\"\"},\"colorscale\":[[0.0,\"#0d0887\"],[0.1111111111111111,\"#46039f\"],[0.2222222222222222,\"#7201a8\"],[0.3333333333333333,\"#9c179e\"],[0.4444444444444444,\"#bd3786\"],[0.5555555555555556,\"#d8576b\"],[0.6666666666666666,\"#ed7953\"],[0.7777777777777778,\"#fb9f3a\"],[0.8888888888888888,\"#fdca26\"],[1.0,\"#f0f921\"]],\"type\":\"heatmap\"}],\"heatmapgl\":[{\"colorbar\":{\"outlinewidth\":0,\"ticks\":\"\"},\"colorscale\":[[0.0,\"#0d0887\"],[0.1111111111111111,\"#46039f\"],[0.2222222222222222,\"#7201a8\"],[0.3333333333333333,\"#9c179e\"],[0.4444444444444444,\"#bd3786\"],[0.5555555555555556,\"#d8576b\"],[0.6666666666666666,\"#ed7953\"],[0.7777777777777778,\"#fb9f3a\"],[0.8888888888888888,\"#fdca26\"],[1.0,\"#f0f921\"]],\"type\":\"heatmapgl\"}],\"histogram\":[{\"marker\":{\"pattern\":{\"fillmode\":\"overlay\",\"size\":10,\"solidity\":0.2}},\"type\":\"histogram\"}],\"histogram2d\":[{\"colorbar\":{\"outlinewidth\":0,\"ticks\":\"\"},\"colorscale\":[[0.0,\"#0d0887\"],[0.1111111111111111,\"#46039f\"],[0.2222222222222222,\"#7201a8\"],[0.3333333333333333,\"#9c179e\"],[0.4444444444444444,\"#bd3786\"],[0.5555555555555556,\"#d8576b\"],[0.6666666666666666,\"#ed7953\"],[0.7777777777777778,\"#fb9f3a\"],[0.8888888888888888,\"#fdca26\"],[1.0,\"#f0f921\"]],\"type\":\"histogram2d\"}],\"histogram2dcontour\":[{\"colorbar\":{\"outlinewidth\":0,\"ticks\":\"\"},\"colorscale\":[[0.0,\"#0d0887\"],[0.1111111111111111,\"#46039f\"],[0.2222222222222222,\"#7201a8\"],[0.3333333333333333,\"#9c179e\"],[0.4444444444444444,\"#bd3786\"],[0.5555555555555556,\"#d8576b\"],[0.6666666666666666,\"#ed7953\"],[0.7777777777777778,\"#fb9f3a\"],[0.8888888888888888,\"#fdca26\"],[1.0,\"#f0f921\"]],\"type\":\"histogram2dcontour\"}],\"mesh3d\":[{\"colorbar\":{\"outlinewidth\":0,\"ticks\":\"\"},\"type\":\"mesh3d\"}],\"parcoords\":[{\"line\":{\"colorbar\":{\"outlinewidth\":0,\"ticks\":\"\"}},\"type\":\"parcoords\"}],\"pie\":[{\"automargin\":true,\"type\":\"pie\"}],\"scatter\":[{\"marker\":{\"colorbar\":{\"outlinewidth\":0,\"ticks\":\"\"}},\"type\":\"scatter\"}],\"scatter3d\":[{\"line\":{\"colorbar\":{\"outlinewidth\":0,\"ticks\":\"\"}},\"marker\":{\"colorbar\":{\"outlinewidth\":0,\"ticks\":\"\"}},\"type\":\"scatter3d\"}],\"scattercarpet\":[{\"marker\":{\"colorbar\":{\"outlinewidth\":0,\"ticks\":\"\"}},\"type\":\"scattercarpet\"}],\"scattergeo\":[{\"marker\":{\"colorbar\":{\"outlinewidth\":0,\"ticks\":\"\"}},\"type\":\"scattergeo\"}],\"scattergl\":[{\"marker\":{\"colorbar\":{\"outlinewidth\":0,\"ticks\":\"\"}},\"type\":\"scattergl\"}],\"scattermapbox\":[{\"marker\":{\"colorbar\":{\"outlinewidth\":0,\"ticks\":\"\"}},\"type\":\"scattermapbox\"}],\"scatterpolar\":[{\"marker\":{\"colorbar\":{\"outlinewidth\":0,\"ticks\":\"\"}},\"type\":\"scatterpolar\"}],\"scatterpolargl\":[{\"marker\":{\"colorbar\":{\"outlinewidth\":0,\"ticks\":\"\"}},\"type\":\"scatterpolargl\"}],\"scatterternary\":[{\"marker\":{\"colorbar\":{\"outlinewidth\":0,\"ticks\":\"\"}},\"type\":\"scatterternary\"}],\"surface\":[{\"colorbar\":{\"outlinewidth\":0,\"ticks\":\"\"},\"colorscale\":[[0.0,\"#0d0887\"],[0.1111111111111111,\"#46039f\"],[0.2222222222222222,\"#7201a8\"],[0.3333333333333333,\"#9c179e\"],[0.4444444444444444,\"#bd3786\"],[0.5555555555555556,\"#d8576b\"],[0.6666666666666666,\"#ed7953\"],[0.7777777777777778,\"#fb9f3a\"],[0.8888888888888888,\"#fdca26\"],[1.0,\"#f0f921\"]],\"type\":\"surface\"}],\"table\":[{\"cells\":{\"fill\":{\"color\":\"#EBF0F8\"},\"line\":{\"color\":\"white\"}},\"header\":{\"fill\":{\"color\":\"#C8D4E3\"},\"line\":{\"color\":\"white\"}},\"type\":\"table\"}]},\"layout\":{\"annotationdefaults\":{\"arrowcolor\":\"#2a3f5f\",\"arrowhead\":0,\"arrowwidth\":1},\"autotypenumbers\":\"strict\",\"coloraxis\":{\"colorbar\":{\"outlinewidth\":0,\"ticks\":\"\"}},\"colorscale\":{\"diverging\":[[0,\"#8e0152\"],[0.1,\"#c51b7d\"],[0.2,\"#de77ae\"],[0.3,\"#f1b6da\"],[0.4,\"#fde0ef\"],[0.5,\"#f7f7f7\"],[0.6,\"#e6f5d0\"],[0.7,\"#b8e186\"],[0.8,\"#7fbc41\"],[0.9,\"#4d9221\"],[1,\"#276419\"]],\"sequential\":[[0.0,\"#0d0887\"],[0.1111111111111111,\"#46039f\"],[0.2222222222222222,\"#7201a8\"],[0.3333333333333333,\"#9c179e\"],[0.4444444444444444,\"#bd3786\"],[0.5555555555555556,\"#d8576b\"],[0.6666666666666666,\"#ed7953\"],[0.7777777777777778,\"#fb9f3a\"],[0.8888888888888888,\"#fdca26\"],[1.0,\"#f0f921\"]],\"sequentialminus\":[[0.0,\"#0d0887\"],[0.1111111111111111,\"#46039f\"],[0.2222222222222222,\"#7201a8\"],[0.3333333333333333,\"#9c179e\"],[0.4444444444444444,\"#bd3786\"],[0.5555555555555556,\"#d8576b\"],[0.6666666666666666,\"#ed7953\"],[0.7777777777777778,\"#fb9f3a\"],[0.8888888888888888,\"#fdca26\"],[1.0,\"#f0f921\"]]},\"colorway\":[\"#636efa\",\"#EF553B\",\"#00cc96\",\"#ab63fa\",\"#FFA15A\",\"#19d3f3\",\"#FF6692\",\"#B6E880\",\"#FF97FF\",\"#FECB52\"],\"font\":{\"color\":\"#2a3f5f\"},\"geo\":{\"bgcolor\":\"white\",\"lakecolor\":\"white\",\"landcolor\":\"#E5ECF6\",\"showlakes\":true,\"showland\":true,\"subunitcolor\":\"white\"},\"hoverlabel\":{\"align\":\"left\"},\"hovermode\":\"closest\",\"mapbox\":{\"style\":\"light\"},\"paper_bgcolor\":\"white\",\"plot_bgcolor\":\"#E5ECF6\",\"polar\":{\"angularaxis\":{\"gridcolor\":\"white\",\"linecolor\":\"white\",\"ticks\":\"\"},\"bgcolor\":\"#E5ECF6\",\"radialaxis\":{\"gridcolor\":\"white\",\"linecolor\":\"white\",\"ticks\":\"\"}},\"scene\":{\"xaxis\":{\"backgroundcolor\":\"#E5ECF6\",\"gridcolor\":\"white\",\"gridwidth\":2,\"linecolor\":\"white\",\"showbackground\":true,\"ticks\":\"\",\"zerolinecolor\":\"white\"},\"yaxis\":{\"backgroundcolor\":\"#E5ECF6\",\"gridcolor\":\"white\",\"gridwidth\":2,\"linecolor\":\"white\",\"showbackground\":true,\"ticks\":\"\",\"zerolinecolor\":\"white\"},\"zaxis\":{\"backgroundcolor\":\"#E5ECF6\",\"gridcolor\":\"white\",\"gridwidth\":2,\"linecolor\":\"white\",\"showbackground\":true,\"ticks\":\"\",\"zerolinecolor\":\"white\"}},\"shapedefaults\":{\"line\":{\"color\":\"#2a3f5f\"}},\"ternary\":{\"aaxis\":{\"gridcolor\":\"white\",\"linecolor\":\"white\",\"ticks\":\"\"},\"baxis\":{\"gridcolor\":\"white\",\"linecolor\":\"white\",\"ticks\":\"\"},\"bgcolor\":\"#E5ECF6\",\"caxis\":{\"gridcolor\":\"white\",\"linecolor\":\"white\",\"ticks\":\"\"}},\"title\":{\"x\":0.05},\"xaxis\":{\"automargin\":true,\"gridcolor\":\"white\",\"linecolor\":\"white\",\"ticks\":\"\",\"title\":{\"standoff\":15},\"zerolinecolor\":\"white\",\"zerolinewidth\":2},\"yaxis\":{\"automargin\":true,\"gridcolor\":\"white\",\"linecolor\":\"white\",\"ticks\":\"\",\"title\":{\"standoff\":15},\"zerolinecolor\":\"white\",\"zerolinewidth\":2}}},\"xaxis\":{\"title\":{\"text\":\"max_depth\"},\"range\":[0.5,11.5]},\"yaxis\":{\"title\":{\"text\":\"n_estimators\"},\"range\":[1.25,193.75]}},                        {\"responsive\": true}                    ).then(function(){\n",
              "                            \n",
              "var gd = document.getElementById('223067a3-23b4-43b5-bad0-3c0ee3efc3ad');\n",
              "var x = new MutationObserver(function (mutations, observer) {{\n",
              "        var display = window.getComputedStyle(gd).display;\n",
              "        if (!display || display === 'none') {{\n",
              "            console.log([gd, 'removed!']);\n",
              "            Plotly.purge(gd);\n",
              "            observer.disconnect();\n",
              "        }}\n",
              "}});\n",
              "\n",
              "// Listen for the removal of the full notebook cells\n",
              "var notebookContainer = gd.closest('#notebook-container');\n",
              "if (notebookContainer) {{\n",
              "    x.observe(notebookContainer, {childList: true});\n",
              "}}\n",
              "\n",
              "// Listen for the clearing of the current output cell\n",
              "var outputEl = gd.closest('.output');\n",
              "if (outputEl) {{\n",
              "    x.observe(outputEl, {childList: true});\n",
              "}}\n",
              "\n",
              "                        })                };                            </script>        </div>\n",
              "</body>\n",
              "</html>"
            ]
          },
          "metadata": {}
        }
      ],
      "source": [
        "optuna.visualization.plot_contour(study, params=['n_estimators', 'max_depth'])"
      ]
    },
    {
      "cell_type": "markdown",
      "source": [
        "## **Дополнительные материалы:**\n",
        "\n",
        "1. KNN weights uniform - https://youtu.be/m_bWhOLr_XM\n",
        "2. KNN weights distance - https://youtu.be/s5Ms80gpbmA\n",
        "3. Weighted усреднение метрики - https://youtu.be/i1G5F2jOspE"
      ],
      "metadata": {
        "id": "vUJMneY8M0JD"
      }
    }
  ],
  "metadata": {
    "kernelspec": {
      "display_name": "Python 3",
      "language": "python",
      "name": "python3"
    },
    "language_info": {
      "codemirror_mode": {
        "name": "ipython",
        "version": 3
      },
      "file_extension": ".py",
      "mimetype": "text/x-python",
      "name": "python",
      "nbconvert_exporter": "python",
      "pygments_lexer": "ipython3",
      "version": "3.6.6"
    },
    "varInspector": {
      "cols": {
        "lenName": 16,
        "lenType": 16,
        "lenVar": 40
      },
      "kernels_config": {
        "python": {
          "delete_cmd_postfix": "",
          "delete_cmd_prefix": "del ",
          "library": "var_list.py",
          "varRefreshCmd": "print(var_dic_list())"
        },
        "r": {
          "delete_cmd_postfix": ") ",
          "delete_cmd_prefix": "rm(",
          "library": "var_list.r",
          "varRefreshCmd": "cat(var_dic_list()) "
        }
      },
      "types_to_exclude": [
        "module",
        "function",
        "builtin_function_or_method",
        "instance",
        "_Feature"
      ],
      "window_display": false
    },
    "colab": {
      "provenance": [],
      "toc_visible": true,
      "include_colab_link": true
    }
  },
  "nbformat": 4,
  "nbformat_minor": 0
}