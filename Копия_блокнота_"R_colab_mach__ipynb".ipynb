{
  "nbformat": 4,
  "nbformat_minor": 0,
  "metadata": {
    "colab": {
      "provenance": [],
      "authorship_tag": "ABX9TyPT+cTjSmwur+OuGQJ4I6Qc",
      "include_colab_link": true
    },
    "kernelspec": {
      "name": "ir",
      "display_name": "R"
    },
    "language_info": {
      "name": "R"
    }
  },
  "cells": [
    {
      "cell_type": "markdown",
      "metadata": {
        "id": "view-in-github",
        "colab_type": "text"
      },
      "source": [
        "<a href=\"https://colab.research.google.com/github/svetaepc/ds_py/blob/master/%D0%9A%D0%BE%D0%BF%D0%B8%D1%8F_%D0%B1%D0%BB%D0%BE%D0%BA%D0%BD%D0%BE%D1%82%D0%B0_%22R_colab_mach__ipynb%22.ipynb\" target=\"_parent\"><img src=\"https://colab.research.google.com/assets/colab-badge.svg\" alt=\"Open In Colab\"/></a>"
      ]
    },
    {
      "cell_type": "code",
      "execution_count": null,
      "metadata": {
        "colab": {
          "base_uri": "https://localhost:8080/",
          "height": 1000
        },
        "id": "gkHYVNFayYfj",
        "outputId": "2c051a4c-d455-4194-85a5-9a5a55d1ff79"
      },
      "outputs": [
        {
          "output_type": "stream",
          "name": "stderr",
          "text": [
            "\n",
            "Attaching package: ‘dplyr’\n",
            "\n",
            "\n",
            "The following objects are masked from ‘package:stats’:\n",
            "\n",
            "    filter, lag\n",
            "\n",
            "\n",
            "The following objects are masked from ‘package:base’:\n",
            "\n",
            "    intersect, setdiff, setequal, union\n",
            "\n",
            "\n"
          ]
        },
        {
          "output_type": "display_data",
          "data": {
            "text/html": [
              "<dl>\n",
              "\t<dt>$root</dt>\n",
              "\t\t<dd>0</dd>\n",
              "\t<dt>$f.root</dt>\n",
              "\t\t<dd>0</dd>\n",
              "\t<dt>$iter</dt>\n",
              "\t\t<dd>1</dd>\n",
              "\t<dt>$init.it</dt>\n",
              "\t\t<dd>&lt;NA&gt;</dd>\n",
              "\t<dt>$estim.prec</dt>\n",
              "\t\t<dd>20</dd>\n",
              "</dl>\n"
            ],
            "text/markdown": "$root\n:   0\n$f.root\n:   0\n$iter\n:   1\n$init.it\n:   &lt;NA&gt;\n$estim.prec\n:   20\n\n\n",
            "text/latex": "\\begin{description}\n\\item[\\$root] 0\n\\item[\\$f.root] 0\n\\item[\\$iter] 1\n\\item[\\$init.it] <NA>\n\\item[\\$estim.prec] 20\n\\end{description}\n",
            "text/plain": [
              "$root\n",
              "[1] 0\n",
              "\n",
              "$f.root\n",
              "[1] 0\n",
              "\n",
              "$iter\n",
              "[1] 1\n",
              "\n",
              "$init.it\n",
              "[1] NA\n",
              "\n",
              "$estim.prec\n",
              "[1] 20\n"
            ]
          },
          "metadata": {}
        },
        {
          "output_type": "error",
          "ename": "ERROR",
          "evalue": "ignored",
          "traceback": [
            "Error in uniroot(g, c(a, b), tol = dx): f() values at end points not of opposite sign\nTraceback:\n",
            "1. uniroot(g, c(a, b), tol = dx)",
            "2. stop(if (doX) \"did not succeed extending the interval endpoints for f(lower) * f(upper) <= 0\" else \"f() values at end points not of opposite sign\")"
          ]
        },
        {
          "output_type": "display_data",
          "data": {
            "text/plain": [
              "plot without title"
            ],
            "image/png": "[encoded data removed]"
          },
          "metadata": {
            "image/png": {
              "width": 420,
              "height": 420
            }
          }
        }
      ],
      "source": [
        "library(dplyr)\n",
        "\n",
        "f <- function(x){\n",
        "  x^3 - 50*x\n",
        "}\n",
        "x <- seq(from=-20, to = 20, by = 0.01)\n",
        "plot(x,f(x),type=\"l\")\n",
        "# \n",
        "g <- function(x){\n",
        "  (-x^4) + 88*(x^2) - 241\n",
        "}\n",
        "plot(x,f(x),type=\"l\")\n",
        "lines(x,g(x),type=\"l\") # !!!\n",
        "# \n",
        "dx <- 0.00000011\n",
        "a <- -20;b <- 20\n",
        "uniroot(f,c(a,b),tol=dx)\n",
        "a <- (-20)\n",
        "b <- 20\n",
        "uniroot(g,c(a,b),tol=dx)\n",
        "uniroot(g,c(1,100))\n",
        "uniroot(f,c(1,100))\n",
        "z <- function(x){\n",
        "  x^3 - 50*x + (x^4) - 88*(x^2) + 241\n",
        "}\n",
        "plot(x,z(x),type=\"l\")\n",
        "uniroot(z,c(a,b),tol=dx)\n",
        "uniroot(z,c(1,100))"
      ]
    }
  ]
}