{
  "nbformat": 4,
  "nbformat_minor": 0,
  "metadata": {
    "kernelspec": {
      "display_name": "Python 3",
      "language": "python",
      "name": "python3"
    },
    "language_info": {
      "codemirror_mode": {
        "name": "ipython",
        "version": 3
      },
      "file_extension": ".py",
      "mimetype": "text/x-python",
      "name": "python",
      "nbconvert_exporter": "python",
      "pygments_lexer": "ipython3",
      "version": "3.7.9"
    },
    "colab": {
      "provenance": [],
      "include_colab_link": true
    }
  },
  "cells": [
    {
      "cell_type": "markdown",
      "metadata": {
        "id": "view-in-github",
        "colab_type": "text"
      },
      "source": [
        "<a href=\"https://colab.research.google.com/github/svetaepc/ds_py/blob/master/%22%D0%A1%D0%BB%D1%83%D1%87%D0%B0%D0%B9%D0%BD%D1%8B%D0%B5_%D1%81%D0%BE%D0%B1%D1%8B%D1%82%D0%B8%D1%8F_%D0%A1%D0%BB%D1%83%D1%87%D0%B0%D0%B9%D0%BD%D1%8B%D0%B5_%D0%B2%D0%B5%D0%BB%D0%B8%D1%87%D0%B8%D0%BD%D1%8B_ipynb%22.ipynb\" target=\"_parent\"><img src=\"https://colab.research.google.com/assets/colab-badge.svg\" alt=\"Open In Colab\"/></a>"
      ]
    },
    {
      "cell_type": "markdown",
      "metadata": {
        "id": "nXOA4pGqoi7p"
      },
      "source": [
        "# Случайные события. Случайные величины\n",
        "\n",
        "Потапов Вячеслав:  \n"
      ]
    },
    {
      "cell_type": "code",
      "metadata": {
        "id": "PGZL3xvVoeTM"
      },
      "source": [
        "import numpy as np"
      ],
      "execution_count": null,
      "outputs": []
    },
    {
      "cell_type": "code",
      "metadata": {
        "id": "YJPemaJOoeTR",
        "colab": {
          "base_uri": "https://localhost:8080/"
        },
        "outputId": "401878a4-a050-49fb-af2c-395575880c38"
      },
      "source": [
        "# генерируем дискретную величину\n",
        "np.random.randint(1, 5)"
      ],
      "execution_count": null,
      "outputs": [
        {
          "output_type": "execute_result",
          "data": {
            "text/plain": [
              "3"
            ]
          },
          "metadata": {},
          "execution_count": 2
        }
      ]
    },
    {
      "cell_type": "code",
      "metadata": {
        "id": "G6L4hJQKoeTS",
        "colab": {
          "base_uri": "https://localhost:8080/"
        },
        "outputId": "6bdb38d6-c24a-498c-adde-c6839fe16b81"
      },
      "source": [
        "np.random.randint(1, 5, 100)"
      ],
      "execution_count": null,
      "outputs": [
        {
          "output_type": "execute_result",
          "data": {
            "text/plain": [
              "array([1, 4, 3, 3, 3, 3, 1, 2, 4, 2, 3, 2, 4, 3, 2, 4, 3, 2, 1, 3, 4, 4,\n",
              "       2, 2, 4, 3, 1, 1, 2, 3, 3, 2, 2, 2, 1, 3, 2, 2, 1, 2, 1, 1, 4, 3,\n",
              "       2, 2, 4, 3, 1, 2, 1, 2, 1, 4, 1, 2, 1, 3, 3, 3, 4, 4, 4, 3, 1, 3,\n",
              "       3, 1, 1, 2, 4, 3, 3, 1, 3, 4, 2, 4, 4, 2, 2, 2, 2, 3, 4, 3, 2, 1,\n",
              "       3, 3, 4, 2, 3, 2, 4, 3, 2, 4, 3, 1])"
            ]
          },
          "metadata": {},
          "execution_count": 3
        }
      ]
    },
    {
      "cell_type": "code",
      "metadata": {
        "id": "2oJZcFUtoeTS",
        "colab": {
          "base_uri": "https://localhost:8080/"
        },
        "outputId": "58ce47cb-7f3b-4fd5-f146-9d1519fe69cd"
      },
      "source": [
        "# генерируем непрерывную величину\n",
        "np.random.random(100)"
      ],
      "execution_count": null,
      "outputs": [
        {
          "output_type": "execute_result",
          "data": {
            "text/plain": [
              "array([0.15284568, 0.44106387, 0.10960179, 0.7252574 , 0.79569121,\n",
              "       0.13880301, 0.4121502 , 0.13469155, 0.20979541, 0.57131646,\n",
              "       0.14730484, 0.55899335, 0.98939958, 0.11347592, 0.87221588,\n",
              "       0.4220283 , 0.6369961 , 0.29354442, 0.96355214, 0.27105752,\n",
              "       0.29681178, 0.64999505, 0.21695489, 0.7259504 , 0.08831692,\n",
              "       0.94512642, 0.04039648, 0.05293913, 0.28351776, 0.43324504,\n",
              "       0.09517404, 0.14009035, 0.85729117, 0.80823185, 0.51359234,\n",
              "       0.11004326, 0.80635014, 0.74897768, 0.34379243, 0.74219514,\n",
              "       0.50454639, 0.46832184, 0.96284568, 0.33286964, 0.04780913,\n",
              "       0.00497455, 0.3259171 , 0.28547687, 0.97901103, 0.71646399,\n",
              "       0.05015029, 0.15287272, 0.70306306, 0.72311805, 0.51720745,\n",
              "       0.65418034, 0.89278917, 0.20213183, 0.12288956, 0.04604274,\n",
              "       0.43038528, 0.43978154, 0.75122749, 0.41033907, 0.57539368,\n",
              "       0.62997432, 0.38147537, 0.98978509, 0.06857416, 0.59107938,\n",
              "       0.17371528, 0.51432724, 0.90160695, 0.08598119, 0.14437564,\n",
              "       0.22593784, 0.56512912, 0.55062566, 0.53212586, 0.80886487,\n",
              "       0.63753309, 0.1127646 , 0.89111671, 0.71046558, 0.13194914,\n",
              "       0.48683786, 0.84922102, 0.59669325, 0.17838474, 0.63658718,\n",
              "       0.20170159, 0.16950877, 0.46673182, 0.55346776, 0.11330121,\n",
              "       0.92694983, 0.65173224, 0.28746448, 0.67546226, 0.26806054])"
            ]
          },
          "metadata": {},
          "execution_count": 4
        }
      ]
    },
    {
      "cell_type": "code",
      "metadata": {
        "id": "m8sHru95oeTT",
        "colab": {
          "base_uri": "https://localhost:8080/"
        },
        "outputId": "83f31ae3-d0e7-470a-845f-a8c50050bb72"
      },
      "source": [
        "np.random.uniform(1, 5)"
      ],
      "execution_count": null,
      "outputs": [
        {
          "output_type": "execute_result",
          "data": {
            "text/plain": [
              "2.143472486073002"
            ]
          },
          "metadata": {},
          "execution_count": 5
        }
      ]
    },
    {
      "cell_type": "code",
      "metadata": {
        "id": "yIYQIh1coeTT",
        "colab": {
          "base_uri": "https://localhost:8080/"
        },
        "outputId": "946dd682-da9d-49cf-f8b2-937c00af3b98"
      },
      "source": [
        "np.random.uniform(1, 5, 100)"
      ],
      "execution_count": null,
      "outputs": [
        {
          "output_type": "execute_result",
          "data": {
            "text/plain": [
              "array([2.7352008 , 4.64262899, 1.54431411, 3.62520161, 2.37662507,\n",
              "       4.80471434, 2.35491843, 3.11079868, 1.04140059, 1.96056265,\n",
              "       4.270986  , 4.8937391 , 1.15864547, 3.33662843, 1.52695565,\n",
              "       2.97459027, 2.34236005, 4.94614206, 1.12733917, 2.19453769,\n",
              "       1.66718357, 3.49239194, 3.55468179, 4.30541835, 1.21838069,\n",
              "       4.24201273, 3.69416514, 2.55121301, 3.05936809, 3.51085577,\n",
              "       3.26817531, 2.91708636, 1.72584656, 4.18640007, 4.19575552,\n",
              "       4.82717473, 2.26853928, 2.37945304, 2.1195514 , 2.33993355,\n",
              "       2.91397683, 4.32910333, 4.42074395, 1.493151  , 3.35377329,\n",
              "       2.29743684, 2.17092961, 2.70289986, 3.6969162 , 3.12342875,\n",
              "       2.19744416, 4.36710172, 1.059149  , 2.58873618, 1.03854988,\n",
              "       2.88681179, 2.13063191, 1.12313912, 4.00471765, 4.94195055,\n",
              "       4.77783745, 2.74788885, 1.55249414, 2.25731021, 2.45024562,\n",
              "       3.68918911, 2.74349616, 2.8476141 , 3.8983639 , 4.08276498,\n",
              "       1.4169975 , 2.20102937, 4.74335376, 3.57328141, 3.87409773,\n",
              "       4.26615467, 2.36889228, 3.56592039, 4.88639379, 4.41971466,\n",
              "       1.48992886, 3.3992932 , 1.64770539, 1.35017646, 4.60499708,\n",
              "       2.06972348, 1.17606912, 1.1591014 , 3.73836377, 2.29799307,\n",
              "       2.76581365, 2.5185863 , 2.34023815, 1.22484379, 4.9745487 ,\n",
              "       4.70185988, 1.79854442, 2.19956842, 4.21245212, 2.60490443])"
            ]
          },
          "metadata": {},
          "execution_count": 6
        }
      ]
    },
    {
      "cell_type": "code",
      "metadata": {
        "id": "z1ulCBFjBbuz",
        "colab": {
          "base_uri": "https://localhost:8080/"
        },
        "outputId": "92a0a561-ac89-4865-d964-e698deeb0b25"
      },
      "source": [
        "np.random.seed(None)\n",
        "np.random.randint(1, 5, 10)"
      ],
      "execution_count": null,
      "outputs": [
        {
          "output_type": "execute_result",
          "data": {
            "text/plain": [
              "array([3, 1, 3, 3, 3, 2, 2, 2, 2, 2])"
            ]
          },
          "metadata": {},
          "execution_count": 7
        }
      ]
    },
    {
      "cell_type": "markdown",
      "metadata": {
        "id": "HKqYmkjsoeTT"
      },
      "source": [
        "**Задача 1.** Оценить вероятность того, что на игральной кости выпадет больше 4 очков. Сравнить с теоретической вероятностью."
      ]
    },
    {
      "cell_type": "code",
      "metadata": {
        "id": "EZX-A7geoeTW",
        "colab": {
          "base_uri": "https://localhost:8080/"
        },
        "outputId": "51d05efe-c6cf-41e9-9a70-9f3d5c2aa7eb"
      },
      "source": [
        "trials = 1000000    # Количество попыток\n",
        "successes = 0    # Количество успехов\n",
        "\n",
        "for i in range(trials):\n",
        "    random_score = np.random.randint(1, 7)    # Случайное количество очков от 1 до 6\n",
        "    if random_score > 4:\n",
        "        successes += 1\n",
        "        \n",
        "p_monte_carlo = successes / trials    # Вероятность из моделирования\n",
        "p = 2 / 6                             # Теоретическая вероятность\n",
        "\n",
        "print(successes, trials, p_monte_carlo, p)"
      ],
      "execution_count": null,
      "outputs": [
        {
          "output_type": "stream",
          "name": "stdout",
          "text": [
            "333833 1000000 0.333833 0.3333333333333333\n"
          ]
        }
      ]
    },
    {
      "cell_type": "markdown",
      "metadata": {
        "id": "gFfgFS68oeTY"
      },
      "source": [
        "**Задача 1А** (опциональная). Дан квадрат, в который вписан круг (касаясь сторон квадрата). В квадрат случайным образом попадают точки. Какова вероятность, что наугад взятая точка попадёт в круг?  \n",
        "_Подсказка:_ Удобно взять квардат со стороной, равной 2, и отсчитывать координаты точек от его центра."
      ]
    },
    {
      "cell_type": "code",
      "metadata": {
        "id": "J1w1PeKdoeTZ"
      },
      "source": [
        "trials = 1000000\n",
        "successes = 0\n",
        "\n",
        "for i in range(trials):\n",
        "    x = np.random.uniform(-1, 1)\n",
        "    y = np.random.uniform(-1, 1)\n",
        "\n",
        "    if x**2 + y**2 < 1:\n",
        "        successes += 1\n",
        "\n",
        "res = successes / trials"
      ],
      "execution_count": null,
      "outputs": []
    },
    {
      "cell_type": "code",
      "metadata": {
        "id": "ku7A1BQ9oeTZ",
        "colab": {
          "base_uri": "https://localhost:8080/"
        },
        "outputId": "a8dbfb6a-7ca1-40e3-ee5f-d668e3ccff3f"
      },
      "source": [
        "res "
      ],
      "execution_count": null,
      "outputs": [
        {
          "output_type": "execute_result",
          "data": {
            "text/plain": [
              "0.785206"
            ]
          },
          "metadata": {},
          "execution_count": 18
        }
      ]
    },
    {
      "cell_type": "markdown",
      "metadata": {
        "id": "yqMozu-9oeTa"
      },
      "source": [
        "**Задача 2.** Смоделировать стрельбу по мишени."
      ]
    },
    {
      "cell_type": "code",
      "metadata": {
        "id": "ZFk3cFwKoeTa",
        "colab": {
          "base_uri": "https://localhost:8080/",
          "height": 282
        },
        "outputId": "208f59e2-d594-4f73-ecbe-c7087d667c70"
      },
      "source": [
        "import matplotlib.pyplot as plt\n",
        "\n",
        "shots = 1000    # Количество выстрелов\n",
        "std_dev = 1 # Стандартное отклонение (на сколько мы в среднем будем мазать)\n",
        "\n",
        "x = np.random.normal(0, std_dev, shots) # 0 - и среднее, и мода, и медиана\n",
        "y = np.random.normal(0, std_dev, shots)\n",
        "\n",
        "\n",
        "plt.scatter(x, y)\n",
        "# почему разброс от -3 до 3?"
      ],
      "execution_count": null,
      "outputs": [
        {
          "output_type": "execute_result",
          "data": {
            "text/plain": [
              "<matplotlib.collections.PathCollection at 0x7fc3fb996190>"
            ]
          },
          "metadata": {},
          "execution_count": 11
        },
        {
          "output_type": "display_data",
          "data": {
            "text/plain": [
              "<Figure size 432x288 with 1 Axes>"
            ],
            "image/png": "[encoded data removed]"
          },
          "metadata": {
            "needs_background": "light"
          }
        }
      ]
    },
    {
      "cell_type": "markdown",
      "metadata": {
        "id": "l_0GysxhoeTb"
      },
      "source": [
        "**Задача 3.** Графически определить распределение измеренных значений физической величины, когда измерительный прибор имеет случайную погрешность."
      ]
    },
    {
      "cell_type": "code",
      "metadata": {
        "id": "REebYTl8oeTb",
        "colab": {
          "base_uri": "https://localhost:8080/"
        },
        "outputId": "fe55d244-011b-441d-fa01-969219edfdce"
      },
      "source": [
        "import pandas as pd\n",
        "\n",
        "data = pd.read_csv(\"https://raw.githubusercontent.com/obulygin/netology_pyda_files/main/data.log\", sep=\" \")[\"az\"]\n",
        "data.describe()"
      ],
      "execution_count": null,
      "outputs": [
        {
          "output_type": "execute_result",
          "data": {
            "text/plain": [
              "count    1040.000000\n",
              "mean       -9.797112\n",
              "std         0.087958\n",
              "min       -10.030373\n",
              "25%        -9.866481\n",
              "50%        -9.800747\n",
              "75%        -9.727398\n",
              "max        -9.570811\n",
              "Name: az, dtype: float64"
            ]
          },
          "metadata": {},
          "execution_count": 12
        }
      ]
    },
    {
      "cell_type": "code",
      "metadata": {
        "id": "lZSTBr-poeTb"
      },
      "source": [
        "uni = np.random.uniform(min(data), max(data), 10000)\n",
        "normal = np.random.normal(np.mean(data), np.std(data, ddof=1), 10000)"
      ],
      "execution_count": null,
      "outputs": []
    },
    {
      "cell_type": "code",
      "metadata": {
        "id": "p84mWD6CoeTc",
        "colab": {
          "base_uri": "https://localhost:8080/",
          "height": 282
        },
        "outputId": "f5cb2498-15f6-440c-c174-9c11aef74e81"
      },
      "source": [
        "data.plot()"
      ],
      "execution_count": null,
      "outputs": [
        {
          "output_type": "execute_result",
          "data": {
            "text/plain": [
              "<matplotlib.axes._subplots.AxesSubplot at 0x7fc3f3ce3f40>"
            ]
          },
          "metadata": {},
          "execution_count": 14
        },
        {
          "output_type": "display_data",
          "data": {
            "text/plain": [
              "<Figure size 432x288 with 1 Axes>"
            ],
            "image/png": "[encoded data removed]"
          },
          "metadata": {
            "needs_background": "light"
          }
        }
      ]
    },
    {
      "cell_type": "code",
      "metadata": {
        "id": "XkKEW5SDoeTc",
        "colab": {
          "base_uri": "https://localhost:8080/",
          "height": 761
        },
        "outputId": "64328edd-7576-41ff-bf7f-60d71c2e0e86"
      },
      "source": [
        "plt.hist(uni, bins=11)\n",
        "plt.show()\n",
        "plt.hist(normal, bins=11)\n",
        "plt.show()\n",
        "plt.hist(data, bins=11)\n",
        "plt.show()"
      ],
      "execution_count": null,
      "outputs": [
        {
          "output_type": "display_data",
          "data": {
            "text/plain": [
              "<Figure size 432x288 with 1 Axes>"
            ],
            "image/png": "[encoded data removed]"
          },
          "metadata": {
            "needs_background": "light"
          }
        },
        {
          "output_type": "display_data",
          "data": {
            "text/plain": [
              "<Figure size 432x288 with 1 Axes>"
            ],
            "image/png": "[encoded data removed]"
          },
          "metadata": {
            "needs_background": "light"
          }
        },
        {
          "output_type": "display_data",
          "data": {
            "text/plain": [
              "<Figure size 432x288 with 1 Axes>"
            ],
            "image/png": "[encoded data removed]"
          },
          "metadata": {
            "needs_background": "light"
          }
        }
      ]
    },
    {
      "cell_type": "markdown",
      "metadata": {
        "id": "M6O0YMakoeTd"
      },
      "source": [
        "**Задача 4.** Рассчитать вероятность того, что пациент заражён COVID-19, если известно, что тест дал положительный результат. Сравнить с результатом моделирования."
      ]
    },
    {
      "cell_type": "code",
      "metadata": {
        "id": "pR9cS38LoeTd",
        "colab": {
          "base_uri": "https://localhost:8080/"
        },
        "outputId": "cb39b293-a1c7-4502-ccde-413a9f5e3a38"
      },
      "source": [
        "prev = 0.1    # Распространённость болезни\n",
        "sens = 0.98    # Чувствительность теста\n",
        "spec = 0.95    # Специфичность теста\n",
        "\n",
        "p = (sens * prev) / (sens * prev + (1 - spec) * (1 - prev))   # Теоретическая вероятность \n",
        "print(p)"
      ],
      "execution_count": null,
      "outputs": [
        {
          "output_type": "stream",
          "name": "stdout",
          "text": [
            "0.6853146853146851\n"
          ]
        }
      ]
    },
    {
      "cell_type": "code",
      "metadata": {
        "id": "d_YGeyIjoeTd",
        "colab": {
          "base_uri": "https://localhost:8080/"
        },
        "outputId": "4cbb52d8-827a-4cb0-cd1a-971c626eb138"
      },
      "source": [
        "population = 1000000    # Количество испытуемых\n",
        "\n",
        "true_pos = 0    # Количество больных с положительным тестом\n",
        "false_pos = 0   # Количество здоровых с положительным тестом\n",
        "\n",
        "for i in range(population):\n",
        "    # Наугад решаем, заражён ли человек\n",
        "    # для этого генерируем случайную величину от 0 до 1     \n",
        "    infected = np.random.uniform() < prev\n",
        "    \n",
        "    # Наугад решаем, дал ли тест положительный результат \n",
        "    positive = np.random.uniform() < sens if infected else np.random.uniform() < 1 - spec\n",
        "    \n",
        "    if positive:\n",
        "        if infected:\n",
        "            true_pos += 1\n",
        "        else:\n",
        "            false_pos += 1\n",
        "            \n",
        "p_monte_carlo = true_pos / (true_pos + false_pos)    # частота из моделирования\n",
        "print(p_monte_carlo)"
      ],
      "execution_count": null,
      "outputs": [
        {
          "output_type": "stream",
          "name": "stdout",
          "text": [
            "0.6850090231243792\n"
          ]
        }
      ]
    },
    {
      "cell_type": "code",
      "source": [],
      "metadata": {
        "id": "6Z3WPWG2FTM2"
      },
      "execution_count": null,
      "outputs": []
    }
  ]
}